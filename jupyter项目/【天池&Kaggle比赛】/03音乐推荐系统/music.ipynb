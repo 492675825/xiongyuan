{
 "metadata": {
  "language_info": {
   "codemirror_mode": {
    "name": "ipython",
    "version": 3
   },
   "file_extension": ".py",
   "mimetype": "text/x-python",
   "name": "python",
   "nbconvert_exporter": "python",
   "pygments_lexer": "ipython3",
   "version": "3.8.3-final"
  },
  "orig_nbformat": 2,
  "kernelspec": {
   "name": "python38364bitbasecondad9bd0a7157c84fa7bace955ad09d0846",
   "display_name": "Python 3.8.3 64-bit ('base': conda)"
  }
 },
 "nbformat": 4,
 "nbformat_minor": 2,
 "cells": [
  {
   "cell_type": "code",
   "execution_count": 25,
   "metadata": {},
   "outputs": [],
   "source": [
    "#使用1.0的版本\n",
    "import tensorflow.compat.v1 as tf\n",
    "tf.disable_v2_behavior()\n",
    "import warnings\n",
    "warnings.filterwarnings(\"ignore\")\n",
    "#使用2.0的版本\n",
    "# import tensorflow as tf"
   ]
  },
  {
   "cell_type": "code",
   "execution_count": 26,
   "metadata": {},
   "outputs": [],
   "source": [
    "#创建常量op\n",
    "m1=tf.constant([[3,3]]) #一行两列的向量\n",
    "m2=tf.constant([[2],[3]])  #两行一列的向量"
   ]
  },
  {
   "cell_type": "code",
   "execution_count": 27,
   "metadata": {},
   "outputs": [],
   "source": [
    "#创建矩阵乘法op,m1*m2\n",
    "product=tf.matmul(m1,m2)"
   ]
  },
  {
   "cell_type": "code",
   "execution_count": 28,
   "metadata": {},
   "outputs": [
    {
     "output_type": "stream",
     "name": "stdout",
     "text": [
      "[[15]]\n"
     ]
    }
   ],
   "source": [
    "#定义一个会话，启动默认图\n",
    "sess=tf.Session()\n",
    "#调用sessde的run方法来执行矩阵乘法op\n",
    "#run(product)触发了图中3个op\n",
    "result=sess.run(product)\n",
    "print(result)\n",
    "sess.close()"
   ]
  },
  {
   "cell_type": "code",
   "execution_count": null,
   "metadata": {},
   "outputs": [],
   "source": []
  }
 ]
}