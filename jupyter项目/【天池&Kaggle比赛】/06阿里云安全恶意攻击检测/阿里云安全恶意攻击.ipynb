{
 "metadata": {
  "language_info": {
   "codemirror_mode": {
    "name": "ipython",
    "version": 3
   },
   "file_extension": ".py",
   "mimetype": "text/x-python",
   "name": "python",
   "nbconvert_exporter": "python",
   "pygments_lexer": "ipython3",
   "version": "3.8.2-final"
  },
  "orig_nbformat": 2,
  "kernelspec": {
   "name": "pycharm-6d4b503e",
   "display_name": "PyCharm (数据分析)"
  }
 },
 "nbformat": 4,
 "nbformat_minor": 2,
 "cells": [
  {
   "cell_type": "code",
   "execution_count": 1,
   "metadata": {},
   "outputs": [],
   "source": [
    "import pandas as pd\n",
    "import numpy as np\n",
    "import seaborn as sns\n",
    "import matplotlib.pyplot as plt\n",
    "import time"
   ]
  },
  {
   "cell_type": "code",
   "execution_count": 2,
   "metadata": {},
   "outputs": [],
   "source": [
    "pd.set_option(\"display.max_column\",100)\n",
    "pd.set_option(\"expand_frame_repr\",False)\n",
    "train=pd.read_csv(r\"D:\\文件\\学习\\数据集\\阿里云安全恶意程序检测\\security_train\\security_train.csv\")\n",
    "test=pd.read_csv(\"D:\\文件\\学习\\数据集\\阿里云安全恶意程序检测\\security_test\\security_test.csv\")"
   ]
  },
  {
   "source": [
    "## 一、查看数据"
   ],
   "cell_type": "markdown",
   "metadata": {}
  },
  {
   "cell_type": "code",
   "execution_count": 3,
   "metadata": {},
   "outputs": [
    {
     "output_type": "execute_result",
     "data": {
      "text/plain": [
       "   file_id  label                     api   tid  index\n",
       "0        1      5              LdrLoadDll  2488      0\n",
       "1        1      5  LdrGetProcedureAddress  2488      1\n",
       "2        1      5  LdrGetProcedureAddress  2488      2\n",
       "3        1      5  LdrGetProcedureAddress  2488      3\n",
       "4        1      5  LdrGetProcedureAddress  2488      4"
      ],
      "text/html": "<div>\n<style scoped>\n    .dataframe tbody tr th:only-of-type {\n        vertical-align: middle;\n    }\n\n    .dataframe tbody tr th {\n        vertical-align: top;\n    }\n\n    .dataframe thead th {\n        text-align: right;\n    }\n</style>\n<table border=\"1\" class=\"dataframe\">\n  <thead>\n    <tr style=\"text-align: right;\">\n      <th></th>\n      <th>file_id</th>\n      <th>label</th>\n      <th>api</th>\n      <th>tid</th>\n      <th>index</th>\n    </tr>\n  </thead>\n  <tbody>\n    <tr>\n      <th>0</th>\n      <td>1</td>\n      <td>5</td>\n      <td>LdrLoadDll</td>\n      <td>2488</td>\n      <td>0</td>\n    </tr>\n    <tr>\n      <th>1</th>\n      <td>1</td>\n      <td>5</td>\n      <td>LdrGetProcedureAddress</td>\n      <td>2488</td>\n      <td>1</td>\n    </tr>\n    <tr>\n      <th>2</th>\n      <td>1</td>\n      <td>5</td>\n      <td>LdrGetProcedureAddress</td>\n      <td>2488</td>\n      <td>2</td>\n    </tr>\n    <tr>\n      <th>3</th>\n      <td>1</td>\n      <td>5</td>\n      <td>LdrGetProcedureAddress</td>\n      <td>2488</td>\n      <td>3</td>\n    </tr>\n    <tr>\n      <th>4</th>\n      <td>1</td>\n      <td>5</td>\n      <td>LdrGetProcedureAddress</td>\n      <td>2488</td>\n      <td>4</td>\n    </tr>\n  </tbody>\n</table>\n</div>"
     },
     "metadata": {},
     "execution_count": 3
    }
   ],
   "source": [
    "train.head()"
   ]
  },
  {
   "cell_type": "code",
   "execution_count": 4,
   "metadata": {},
   "outputs": [
    {
     "output_type": "execute_result",
     "data": {
      "text/plain": [
       "   file_id             api   tid  index\n",
       "0        1   RegOpenKeyExA  2332      0\n",
       "1        1       CopyFileA  2332      1\n",
       "2        1  OpenSCManagerA  2332      2\n",
       "3        1  CreateServiceA  2332      3\n",
       "4        1   RegOpenKeyExA  2468      0"
      ],
      "text/html": "<div>\n<style scoped>\n    .dataframe tbody tr th:only-of-type {\n        vertical-align: middle;\n    }\n\n    .dataframe tbody tr th {\n        vertical-align: top;\n    }\n\n    .dataframe thead th {\n        text-align: right;\n    }\n</style>\n<table border=\"1\" class=\"dataframe\">\n  <thead>\n    <tr style=\"text-align: right;\">\n      <th></th>\n      <th>file_id</th>\n      <th>api</th>\n      <th>tid</th>\n      <th>index</th>\n    </tr>\n  </thead>\n  <tbody>\n    <tr>\n      <th>0</th>\n      <td>1</td>\n      <td>RegOpenKeyExA</td>\n      <td>2332</td>\n      <td>0</td>\n    </tr>\n    <tr>\n      <th>1</th>\n      <td>1</td>\n      <td>CopyFileA</td>\n      <td>2332</td>\n      <td>1</td>\n    </tr>\n    <tr>\n      <th>2</th>\n      <td>1</td>\n      <td>OpenSCManagerA</td>\n      <td>2332</td>\n      <td>2</td>\n    </tr>\n    <tr>\n      <th>3</th>\n      <td>1</td>\n      <td>CreateServiceA</td>\n      <td>2332</td>\n      <td>3</td>\n    </tr>\n    <tr>\n      <th>4</th>\n      <td>1</td>\n      <td>RegOpenKeyExA</td>\n      <td>2468</td>\n      <td>0</td>\n    </tr>\n  </tbody>\n</table>\n</div>"
     },
     "metadata": {},
     "execution_count": 4
    }
   ],
   "source": [
    "test.head()"
   ]
  },
  {
   "cell_type": "code",
   "execution_count": 5,
   "metadata": {},
   "outputs": [
    {
     "output_type": "execute_result",
     "data": {
      "text/plain": [
       "932"
      ]
     },
     "metadata": {},
     "execution_count": 5
    }
   ],
   "source": [
    "#查看数据的重合情况\n",
    "train_fileids=train[\"file_id\"].unique()\n",
    "test_fileids=test[\"file_id\"].unique()\n",
    "len(set(train_fileids)-set(test_fileids))"
   ]
  },
  {
   "cell_type": "code",
   "execution_count": 6,
   "metadata": {},
   "outputs": [
    {
     "output_type": "execute_result",
     "data": {
      "text/plain": [
       "0"
      ]
     },
     "metadata": {},
     "execution_count": 6
    }
   ],
   "source": [
    "len(set(test_fileids)-set(train_fileids))"
   ]
  },
  {
   "source": [
    "## 二、特征工程"
   ],
   "cell_type": "markdown",
   "metadata": {}
  },
  {
   "cell_type": "code",
   "execution_count": 7,
   "metadata": {},
   "outputs": [],
   "source": [
    "#利用count()函数和nunique()函数生成特征：反映样本调用api，tid,index的频率信息\n",
    "def simple_sts_features(df):\n",
    "    simple_fea=pd.DataFrame()\n",
    "    simple_fea[\"file_id\"]=df[\"file_id\"].unique()\n",
    "    simple_fea=simple_fea.sort_values(\"file_id\")\n",
    "    df_grp=df.groupby(\"file_id\")\n",
    "    simple_fea[\"file_id_api_count\"]=df_grp[\"api\"].count().values\n",
    "    simple_fea[\"file_id_api_nunique\"]=df_grp[\"api\"].nunique().values\n",
    "    simple_fea[\"file_id_tid_count\"]=df_grp[\"tid\"].count().values\n",
    "    simple_fea[\"file_id_tid_nunique\"]=df_grp[\"tid\"].nunique().values\n",
    "    simple_fea[\"file_id_index_count\"]=df_grp[\"index\"].count().values\n",
    "    simple_fea[\"file_id_index_nunique\"]=df_grp[\"index\"].nunique().values\n",
    "    return simple_fea"
   ]
  },
  {
   "cell_type": "code",
   "execution_count": 8,
   "metadata": {},
   "outputs": [],
   "source": [
    "#利用mean()函数，min()函数，std()函数,max()函数生成特征：tid,index可认为是数值特征，可提取对应的统计特征\n",
    "def simple_numerical_sts_features(df):\n",
    "    simple_numerical_fea=pd.DataFrame()\n",
    "    simple_numerical_fea[\"file_id\"]=df[\"file_id\"].unique()\n",
    "    simple_numerical_fea=simple_numerical_fea.sort_values(\"file_id\")\n",
    "    df_grp=df.groupby(\"file_id\")\n",
    "    simple_numerical_fea[\"file_id_tid_mean\"]=df_grp[\"tid\"].mean().values\n",
    "    simple_numerical_fea[\"file_id_tid_min\"]=df_grp[\"tid\"].min().values\n",
    "    simple_numerical_fea[\"file_id_tid_max\"]=df_grp[\"tid\"].max().values\n",
    "    simple_numerical_fea[\"file_id_tid_std\"]=df_grp[\"tid\"].std().values\n",
    "\n",
    "    simple_numerical_fea[\"file_id_index_mean\"]=df_grp[\"index\"].mean().values\n",
    "    simple_numerical_fea[\"file_id_index_min\"]=df_grp[\"index\"].min().values\n",
    "    simple_numerical_fea[\"file_id_index_std\"]=df_grp[\"index\"].std().values\n",
    "    simple_numerical_fea[\"file_id_index_max\"]=df_grp[\"index\"].max().values\n",
    "    \n",
    "    return simple_numerical_fea"
   ]
  },
  {
   "cell_type": "code",
   "execution_count": 9,
   "metadata": {},
   "outputs": [
    {
     "output_type": "stream",
     "name": "stdout",
     "text": [
      "Wall time: 1min 17s\n"
     ]
    }
   ],
   "source": [
    " %%time\n",
    " simple_train_fea1=simple_sts_features(train)"
   ]
  },
  {
   "cell_type": "code",
   "execution_count": 10,
   "metadata": {},
   "outputs": [
    {
     "output_type": "stream",
     "name": "stdout",
     "text": [
      "Wall time: 58.3 s\n"
     ]
    }
   ],
   "source": [
    "%%time\n",
    " simple_test_fea1=simple_sts_features(test)"
   ]
  },
  {
   "cell_type": "code",
   "execution_count": 11,
   "metadata": {},
   "outputs": [
    {
     "output_type": "stream",
     "name": "stdout",
     "text": [
      "Wall time: 9.34 s\n"
     ]
    }
   ],
   "source": [
    "%%time\n",
    "simple_train_fea2=simple_numerical_sts_features(train)"
   ]
  },
  {
   "cell_type": "code",
   "execution_count": 12,
   "metadata": {},
   "outputs": [
    {
     "output_type": "stream",
     "name": "stdout",
     "text": [
      "Wall time: 8.53 s\n"
     ]
    }
   ],
   "source": [
    "%%time\n",
    "simple_test_fea2=simple_numerical_sts_features(test)"
   ]
  },
  {
   "cell_type": "code",
   "execution_count": 15,
   "metadata": {},
   "outputs": [
    {
     "output_type": "execute_result",
     "data": {
      "text/plain": [
       "   file_id  file_id_api_count  file_id_api_nunique  file_id_tid_count  file_id_tid_nunique  file_id_index_count  file_id_index_nunique\n",
       "0        1               6786                  116               6786                   11                 6786                   5001\n",
       "1        2                816                   30                816                    4                  816                    204\n",
       "2        3                463                   42                463                    1                  463                    463\n",
       "3        4               2046                   51               2046                    9                 2046                   1028\n",
       "4        5              10002                   65              10002                    6                10002                   5001"
      ],
      "text/html": "<div>\n<style scoped>\n    .dataframe tbody tr th:only-of-type {\n        vertical-align: middle;\n    }\n\n    .dataframe tbody tr th {\n        vertical-align: top;\n    }\n\n    .dataframe thead th {\n        text-align: right;\n    }\n</style>\n<table border=\"1\" class=\"dataframe\">\n  <thead>\n    <tr style=\"text-align: right;\">\n      <th></th>\n      <th>file_id</th>\n      <th>file_id_api_count</th>\n      <th>file_id_api_nunique</th>\n      <th>file_id_tid_count</th>\n      <th>file_id_tid_nunique</th>\n      <th>file_id_index_count</th>\n      <th>file_id_index_nunique</th>\n    </tr>\n  </thead>\n  <tbody>\n    <tr>\n      <th>0</th>\n      <td>1</td>\n      <td>6786</td>\n      <td>116</td>\n      <td>6786</td>\n      <td>11</td>\n      <td>6786</td>\n      <td>5001</td>\n    </tr>\n    <tr>\n      <th>1</th>\n      <td>2</td>\n      <td>816</td>\n      <td>30</td>\n      <td>816</td>\n      <td>4</td>\n      <td>816</td>\n      <td>204</td>\n    </tr>\n    <tr>\n      <th>2</th>\n      <td>3</td>\n      <td>463</td>\n      <td>42</td>\n      <td>463</td>\n      <td>1</td>\n      <td>463</td>\n      <td>463</td>\n    </tr>\n    <tr>\n      <th>3</th>\n      <td>4</td>\n      <td>2046</td>\n      <td>51</td>\n      <td>2046</td>\n      <td>9</td>\n      <td>2046</td>\n      <td>1028</td>\n    </tr>\n    <tr>\n      <th>4</th>\n      <td>5</td>\n      <td>10002</td>\n      <td>65</td>\n      <td>10002</td>\n      <td>6</td>\n      <td>10002</td>\n      <td>5001</td>\n    </tr>\n  </tbody>\n</table>\n</div>"
     },
     "metadata": {},
     "execution_count": 15
    }
   ],
   "source": [
    "simple_train_fea1.head()"
   ]
  },
  {
   "cell_type": "code",
   "execution_count": 16,
   "metadata": {},
   "outputs": [
    {
     "output_type": "execute_result",
     "data": {
      "text/plain": [
       "   file_id  file_id_tid_mean  file_id_tid_min  file_id_tid_max  file_id_tid_std  file_id_index_mean  file_id_index_min  file_id_index_std  file_id_index_max\n",
       "0        1       2537.987622             2488             2812        83.881299         2000.806955                  0        1510.694221               5000\n",
       "1        2       2471.000000             2320             2604       101.506783          101.500000                  0          58.925137                203\n",
       "2        3       2208.000000             2208             2208         0.000000          231.000000                  0         133.800847                462\n",
       "3        4       2430.727273             2284             2980       150.460506          511.012219                  0         295.407885               1027\n",
       "4        5       2549.731254             2500             2676        49.556301         2500.000000                  0        1443.736493               5000"
      ],
      "text/html": "<div>\n<style scoped>\n    .dataframe tbody tr th:only-of-type {\n        vertical-align: middle;\n    }\n\n    .dataframe tbody tr th {\n        vertical-align: top;\n    }\n\n    .dataframe thead th {\n        text-align: right;\n    }\n</style>\n<table border=\"1\" class=\"dataframe\">\n  <thead>\n    <tr style=\"text-align: right;\">\n      <th></th>\n      <th>file_id</th>\n      <th>file_id_tid_mean</th>\n      <th>file_id_tid_min</th>\n      <th>file_id_tid_max</th>\n      <th>file_id_tid_std</th>\n      <th>file_id_index_mean</th>\n      <th>file_id_index_min</th>\n      <th>file_id_index_std</th>\n      <th>file_id_index_max</th>\n    </tr>\n  </thead>\n  <tbody>\n    <tr>\n      <th>0</th>\n      <td>1</td>\n      <td>2537.987622</td>\n      <td>2488</td>\n      <td>2812</td>\n      <td>83.881299</td>\n      <td>2000.806955</td>\n      <td>0</td>\n      <td>1510.694221</td>\n      <td>5000</td>\n    </tr>\n    <tr>\n      <th>1</th>\n      <td>2</td>\n      <td>2471.000000</td>\n      <td>2320</td>\n      <td>2604</td>\n      <td>101.506783</td>\n      <td>101.500000</td>\n      <td>0</td>\n      <td>58.925137</td>\n      <td>203</td>\n    </tr>\n    <tr>\n      <th>2</th>\n      <td>3</td>\n      <td>2208.000000</td>\n      <td>2208</td>\n      <td>2208</td>\n      <td>0.000000</td>\n      <td>231.000000</td>\n      <td>0</td>\n      <td>133.800847</td>\n      <td>462</td>\n    </tr>\n    <tr>\n      <th>3</th>\n      <td>4</td>\n      <td>2430.727273</td>\n      <td>2284</td>\n      <td>2980</td>\n      <td>150.460506</td>\n      <td>511.012219</td>\n      <td>0</td>\n      <td>295.407885</td>\n      <td>1027</td>\n    </tr>\n    <tr>\n      <th>4</th>\n      <td>5</td>\n      <td>2549.731254</td>\n      <td>2500</td>\n      <td>2676</td>\n      <td>49.556301</td>\n      <td>2500.000000</td>\n      <td>0</td>\n      <td>1443.736493</td>\n      <td>5000</td>\n    </tr>\n  </tbody>\n</table>\n</div>"
     },
     "metadata": {},
     "execution_count": 16
    }
   ],
   "source": [
    "simple_train_fea2.head()"
   ]
  },
  {
   "cell_type": "code",
   "execution_count": 17,
   "metadata": {},
   "outputs": [],
   "source": [
    "#获取标签\n",
    "train_label=train[['file_id','label']].drop_duplicates(subset=['file_id','label'],keep=\"first\")\n",
    "test_submit=test[['file_id']].drop_duplicates(subset=['file_id'],keep=\"first\")"
   ]
  },
  {
   "cell_type": "code",
   "execution_count": 18,
   "metadata": {},
   "outputs": [
    {
     "output_type": "execute_result",
     "data": {
      "text/plain": [
       "       file_id  label\n",
       "0            1      5\n",
       "6786         2      2\n",
       "7602         3      0\n",
       "8065         4      0\n",
       "10111        5      0"
      ],
      "text/html": "<div>\n<style scoped>\n    .dataframe tbody tr th:only-of-type {\n        vertical-align: middle;\n    }\n\n    .dataframe tbody tr th {\n        vertical-align: top;\n    }\n\n    .dataframe thead th {\n        text-align: right;\n    }\n</style>\n<table border=\"1\" class=\"dataframe\">\n  <thead>\n    <tr style=\"text-align: right;\">\n      <th></th>\n      <th>file_id</th>\n      <th>label</th>\n    </tr>\n  </thead>\n  <tbody>\n    <tr>\n      <th>0</th>\n      <td>1</td>\n      <td>5</td>\n    </tr>\n    <tr>\n      <th>6786</th>\n      <td>2</td>\n      <td>2</td>\n    </tr>\n    <tr>\n      <th>7602</th>\n      <td>3</td>\n      <td>0</td>\n    </tr>\n    <tr>\n      <th>8065</th>\n      <td>4</td>\n      <td>0</td>\n    </tr>\n    <tr>\n      <th>10111</th>\n      <td>5</td>\n      <td>0</td>\n    </tr>\n  </tbody>\n</table>\n</div>"
     },
     "metadata": {},
     "execution_count": 18
    }
   ],
   "source": [
    "train_label.head()"
   ]
  },
  {
   "cell_type": "code",
   "execution_count": 19,
   "metadata": {},
   "outputs": [
    {
     "output_type": "execute_result",
     "data": {
      "text/plain": [
       "      file_id\n",
       "0           1\n",
       "97          2\n",
       "1458        3\n",
       "1474        4\n",
       "1667        5"
      ],
      "text/html": "<div>\n<style scoped>\n    .dataframe tbody tr th:only-of-type {\n        vertical-align: middle;\n    }\n\n    .dataframe tbody tr th {\n        vertical-align: top;\n    }\n\n    .dataframe thead th {\n        text-align: right;\n    }\n</style>\n<table border=\"1\" class=\"dataframe\">\n  <thead>\n    <tr style=\"text-align: right;\">\n      <th></th>\n      <th>file_id</th>\n    </tr>\n  </thead>\n  <tbody>\n    <tr>\n      <th>0</th>\n      <td>1</td>\n    </tr>\n    <tr>\n      <th>97</th>\n      <td>2</td>\n    </tr>\n    <tr>\n      <th>1458</th>\n      <td>3</td>\n    </tr>\n    <tr>\n      <th>1474</th>\n      <td>4</td>\n    </tr>\n    <tr>\n      <th>1667</th>\n      <td>5</td>\n    </tr>\n  </tbody>\n</table>\n</div>"
     },
     "metadata": {},
     "execution_count": 19
    }
   ],
   "source": [
    "test_submit.head()"
   ]
  },
  {
   "cell_type": "code",
   "execution_count": null,
   "metadata": {},
   "outputs": [],
   "source": [
    "#logloss评估模型（手写，因为logloss不是一个常规的评估指标）\n"
   ]
  }
 ]
}