{
 "metadata": {
  "language_info": {
   "codemirror_mode": {
    "name": "ipython",
    "version": 3
   },
   "file_extension": ".py",
   "mimetype": "text/x-python",
   "name": "python",
   "nbconvert_exporter": "python",
   "pygments_lexer": "ipython3",
   "version": "3.8.3-final"
  },
  "orig_nbformat": 2,
  "kernelspec": {
   "name": "python38364bitbasecondad9bd0a7157c84fa7bace955ad09d0846",
   "display_name": "Python 3.8.3 64-bit ('base': conda)"
  }
 },
 "nbformat": 4,
 "nbformat_minor": 2,
 "cells": [
  {
   "cell_type": "code",
   "execution_count": 1,
   "metadata": {},
   "outputs": [],
   "source": [
    "import pandas as pd \n",
    "import numpy as np \n",
    "import matplotlib.pyplot as plt \n",
    "import seaborn as sns \n",
    "from scipy import stats\n",
    "import warnings\n",
    "warnings.filterwarnings(\"ignore\")\n",
    "\n",
    "pd.set_option(\"display.max_column\",100)\n",
    "pd.set_option(\"expand_frame_repr\",False)\n",
    "%matplotlib inline"
   ]
  },
  {
   "cell_type": "code",
   "execution_count": 2,
   "metadata": {},
   "outputs": [],
   "source": [
    "#1--读取数据\n",
    "test_data=pd.read_csv(r'D:\\文件\\学习\\数据集\\天猫用户复购\\data_format1\\test_format1.csv')\n",
    "train_data=pd.read_csv(r'D:\\文件\\学习\\数据集\\天猫用户复购\\data_format1\\train_format1.csv')\n",
    "user_info=pd.read_csv(r'D:\\文件\\学习\\数据集\\天猫用户复购\\data_format1\\user_info_format1.csv')\n",
    "user_log=pd.read_csv(r'D:\\文件\\学习\\数据集\\天猫用户复购\\data_format1\\user_log_format1.csv')"
   ]
  },
  {
   "cell_type": "code",
   "execution_count": 3,
   "metadata": {},
   "outputs": [],
   "source": [
    "import gc\n",
    "from collections import Counter\n",
    "import copy"
   ]
  },
  {
   "cell_type": "code",
   "execution_count": 4,
   "metadata": {},
   "outputs": [],
   "source": [
    "#内存压缩\n",
    "def reduce_mem_usage(df,verbose=True):\n",
    "    start_mem=df.memory_usage().sum()/1024**2\n",
    "    numerics = ['int16', 'int32', 'int64', 'float16', 'float32', 'float64']\n",
    "    for col in df.columns:\n",
    "        col_type=df[col].dtype\n",
    "        if col_type in numerics:\n",
    "            c_min=df[col].min()\n",
    "            c_max=df[col].max()\n",
    "            if str(col_type)[:3] =='int':\n",
    "                if c_min > np.iinfo(np.int8).min and c_max < np.iinfo(np.int8).max:\n",
    "                    df[col]=df[col].astype(np.int8)\n",
    "                elif c_min > np.iinfo(np.int16).min and c_max < np.iinfo(np.int16).max:\n",
    "                    df[col]=df[col].astype(np.int16)\n",
    "                elif c_min > np.iinfo(np.int32).min and c_max < np.iinfo(np.int32).max:\n",
    "                    df[col]=df[col].astype(np.int32)\n",
    "                elif c_min > np.iinfo(np.int64).min and c_max < np.iinfo(np.int64).max:\n",
    "                    df[col]=df[col].astype(np.int64)\n",
    "            else:\n",
    "                if c_min > np.finfo(np.float16).min and c_max < np.finfo(np.float16).max:\n",
    "                    df[col]=df[col].astype(np.float16)\n",
    "                elif c_min > np.finfo(np.float32).min and c_max < np.finfo(np.float32).max:\n",
    "                    df[col]=df[col].astype(np.float64)\n",
    "                elif c_min > np.finfo(np.float64).min and c_max < np.finfo(np.float64).max:\n",
    "                    df[col]=df[col].astype(np.float64)\n",
    "    end_mem=df.memory_usage().sum()/1024**2\n",
    "    print(\"压缩前：\",start_mem)\n",
    "    print(\"压缩后：\",end_mem)\n",
    "    return df"
   ]
  },
  {
   "cell_type": "code",
   "execution_count": 5,
   "metadata": {},
   "outputs": [
    {
     "output_type": "stream",
     "name": "stdout",
     "text": [
      "压缩前： 5.9708251953125\n",
      "压缩后： 1.7415771484375\n",
      "压缩前： 5.984855651855469\n",
      "压缩后： 3.4912166595458984\n",
      "压缩前： 9.708602905273438\n",
      "压缩后： 3.2362823486328125\n",
      "压缩前： 2933.3292083740234\n",
      "压缩后： 890.4750232696533\n"
     ]
    }
   ],
   "source": [
    "train_data=reduce_mem_usage(train_data)\n",
    "test_data=reduce_mem_usage(test_data)\n",
    "user_info=reduce_mem_usage(user_info)\n",
    "user_log=reduce_mem_usage(user_log)"
   ]
  },
  {
   "cell_type": "code",
   "execution_count": 6,
   "metadata": {},
   "outputs": [],
   "source": [
    "#合并数据\n",
    "all_data=train_data.append(test_data)\n",
    "all_data=all_data.merge(user_info,on=[\"user_id\"],how=\"left\")"
   ]
  },
  {
   "cell_type": "code",
   "execution_count": 7,
   "metadata": {},
   "outputs": [
    {
     "output_type": "execute_result",
     "data": {
      "text/plain": [
       "          user_id  item_id  cat_id  seller_id  brand_id  time_stamp  action_type\n",
       "23288890        1   181459     276       2245    4752.0        1009            0\n",
       "23288891        1   779078     276       2245    4752.0        1009            0\n",
       "23288892        1   779078     276       2245    4752.0        1009            0"
      ],
      "text/html": "<div>\n<style scoped>\n    .dataframe tbody tr th:only-of-type {\n        vertical-align: middle;\n    }\n\n    .dataframe tbody tr th {\n        vertical-align: top;\n    }\n\n    .dataframe thead th {\n        text-align: right;\n    }\n</style>\n<table border=\"1\" class=\"dataframe\">\n  <thead>\n    <tr style=\"text-align: right;\">\n      <th></th>\n      <th>user_id</th>\n      <th>item_id</th>\n      <th>cat_id</th>\n      <th>seller_id</th>\n      <th>brand_id</th>\n      <th>time_stamp</th>\n      <th>action_type</th>\n    </tr>\n  </thead>\n  <tbody>\n    <tr>\n      <th>23288890</th>\n      <td>1</td>\n      <td>181459</td>\n      <td>276</td>\n      <td>2245</td>\n      <td>4752.0</td>\n      <td>1009</td>\n      <td>0</td>\n    </tr>\n    <tr>\n      <th>23288891</th>\n      <td>1</td>\n      <td>779078</td>\n      <td>276</td>\n      <td>2245</td>\n      <td>4752.0</td>\n      <td>1009</td>\n      <td>0</td>\n    </tr>\n    <tr>\n      <th>23288892</th>\n      <td>1</td>\n      <td>779078</td>\n      <td>276</td>\n      <td>2245</td>\n      <td>4752.0</td>\n      <td>1009</td>\n      <td>0</td>\n    </tr>\n  </tbody>\n</table>\n</div>"
     },
     "metadata": {},
     "execution_count": 7
    }
   ],
   "source": [
    "#排序\n",
    "user_log=user_log.sort_values([\"user_id\",\"time_stamp\"])\n",
    "user_log.head(3)"
   ]
  },
  {
   "cell_type": "code",
   "execution_count": 8,
   "metadata": {},
   "outputs": [],
   "source": [
    "#合并数据\n",
    "list_join_func=lambda x:\" \".join([str(i) for i in x])"
   ]
  },
  {
   "cell_type": "code",
   "execution_count": 9,
   "metadata": {},
   "outputs": [],
   "source": [
    "agg_dict={\n",
    "    \"item_id\":list_join_func,\n",
    "    \"cat_id\":list_join_func,\n",
    "    \"seller_id\":list_join_func,\n",
    "    \"brand_id\":list_join_func,\n",
    "    \"time_stamp\":list_join_func,\n",
    "    \"action_type\":list_join_func\n",
    "}"
   ]
  },
  {
   "cell_type": "code",
   "execution_count": 10,
   "metadata": {},
   "outputs": [],
   "source": [
    "rename_dict={\n",
    "    \"item_id\":\"item_path\",\n",
    "    \"cat_id\":\"cat_path\",\n",
    "    \"seller_id\":\"seller_path\",\n",
    "    \"brand_id\":\"brand_path\",\n",
    "    \"time_stamp\":\"time_stamp_path\",\n",
    "    \"action_type\":\"action_type_path\"\n",
    "}"
   ]
  },
  {
   "cell_type": "code",
   "execution_count": 11,
   "metadata": {},
   "outputs": [],
   "source": [
    "user_log_path=user_log.groupby(\"user_id\").agg(agg_dict).reset_index().rename(columns=rename_dict)"
   ]
  },
  {
   "cell_type": "code",
   "execution_count": 12,
   "metadata": {},
   "outputs": [
    {
     "output_type": "execute_result",
     "data": {
      "text/plain": [
       "   user_id                                          item_path                                           cat_path                                        seller_path                                         brand_path                                    time_stamp_path                                   action_type_path\n",
       "0        1  181459 779078 779078 452837 543397 504149 5041...  276 276 276 276 276 1023 1023 1023 1023 1252 1...  2245 2245 2245 2245 2245 925 925 925 925 4026 ...  4752.0 4752.0 4752.0 4752.0 4752.0 7400.0 7400...  1009 1009 1009 1009 1009 1011 1011 1011 1011 1...  0 0 0 0 0 0 0 2 0 0 0 0 0 0 2 0 0 0 0 0 0 2 2 ...\n",
       "1        2  348983 749563 239288 751744 239288 714176 1972...  177 177 602 602 602 1213 602 602 602 1213 1213...  2223 2223 420 420 420 420 420 420 420 420 420 ...  3272.0 3272.0 4952.0 4952.0 4952.0 4058.0 4952...  527 527 626 626 626 626 626 626 626 626 626 62...  0 0 0 0 0 0 0 0 0 0 0 0 0 0 0 0 0 0 2 2 2 0 0 ...\n",
       "2        3  895754 895754 182882 182882 985337 175397 9463...  1505 1505 1271 1271 1271 662 1134 1134 1134 45...  795 795 2123 2123 4925 1102 4461 4461 4461 474...  3608.0 3608.0 4796.0 4796.0 8004.0 1214.0 905....  516 516 627 627 627 727 819 819 820 906 906 90...  2 2 0 0 0 0 0 2 0 0 0 0 0 0 0 0 0 0 0 0 0 0 0 ...\n",
       "3        4  836727 243874 185489 95474 30073 790055 790055...  612 1577 1505 1505 1505 1505 1505 1505 1505 15...  1221 1221 1221 1221 1221 1221 1221 1221 1221 1...  7736.0 7736.0 7736.0 7736.0 7736.0 7736.0 7736...  527 527 527 527 527 527 527 527 527 527 527 52...  0 0 0 0 0 0 0 0 0 0 0 0 0 0 0 0 0 0 0 0 0 0 0 ...\n",
       "4        5  511956 728354 568450 754044 1011255 741215 362...  302 351 812 1213 142 464 1028 35 1213 351 142 ...  3098 3215 641 3736 1483 176 4848 641 3736 4547...  5544.0 5480.0 4264.0 3124.0 4640.0 6664.0 2804...  519 520 520 520 520 520 520 520 520 520 520 52...  3 0 0 2 0 0 0 0 0 0 0 2 0 0 0 0 0 0 0 0 0 0 0 ..."
      ],
      "text/html": "<div>\n<style scoped>\n    .dataframe tbody tr th:only-of-type {\n        vertical-align: middle;\n    }\n\n    .dataframe tbody tr th {\n        vertical-align: top;\n    }\n\n    .dataframe thead th {\n        text-align: right;\n    }\n</style>\n<table border=\"1\" class=\"dataframe\">\n  <thead>\n    <tr style=\"text-align: right;\">\n      <th></th>\n      <th>user_id</th>\n      <th>item_path</th>\n      <th>cat_path</th>\n      <th>seller_path</th>\n      <th>brand_path</th>\n      <th>time_stamp_path</th>\n      <th>action_type_path</th>\n    </tr>\n  </thead>\n  <tbody>\n    <tr>\n      <th>0</th>\n      <td>1</td>\n      <td>181459 779078 779078 452837 543397 504149 5041...</td>\n      <td>276 276 276 276 276 1023 1023 1023 1023 1252 1...</td>\n      <td>2245 2245 2245 2245 2245 925 925 925 925 4026 ...</td>\n      <td>4752.0 4752.0 4752.0 4752.0 4752.0 7400.0 7400...</td>\n      <td>1009 1009 1009 1009 1009 1011 1011 1011 1011 1...</td>\n      <td>0 0 0 0 0 0 0 2 0 0 0 0 0 0 2 0 0 0 0 0 0 2 2 ...</td>\n    </tr>\n    <tr>\n      <th>1</th>\n      <td>2</td>\n      <td>348983 749563 239288 751744 239288 714176 1972...</td>\n      <td>177 177 602 602 602 1213 602 602 602 1213 1213...</td>\n      <td>2223 2223 420 420 420 420 420 420 420 420 420 ...</td>\n      <td>3272.0 3272.0 4952.0 4952.0 4952.0 4058.0 4952...</td>\n      <td>527 527 626 626 626 626 626 626 626 626 626 62...</td>\n      <td>0 0 0 0 0 0 0 0 0 0 0 0 0 0 0 0 0 0 2 2 2 0 0 ...</td>\n    </tr>\n    <tr>\n      <th>2</th>\n      <td>3</td>\n      <td>895754 895754 182882 182882 985337 175397 9463...</td>\n      <td>1505 1505 1271 1271 1271 662 1134 1134 1134 45...</td>\n      <td>795 795 2123 2123 4925 1102 4461 4461 4461 474...</td>\n      <td>3608.0 3608.0 4796.0 4796.0 8004.0 1214.0 905....</td>\n      <td>516 516 627 627 627 727 819 819 820 906 906 90...</td>\n      <td>2 2 0 0 0 0 0 2 0 0 0 0 0 0 0 0 0 0 0 0 0 0 0 ...</td>\n    </tr>\n    <tr>\n      <th>3</th>\n      <td>4</td>\n      <td>836727 243874 185489 95474 30073 790055 790055...</td>\n      <td>612 1577 1505 1505 1505 1505 1505 1505 1505 15...</td>\n      <td>1221 1221 1221 1221 1221 1221 1221 1221 1221 1...</td>\n      <td>7736.0 7736.0 7736.0 7736.0 7736.0 7736.0 7736...</td>\n      <td>527 527 527 527 527 527 527 527 527 527 527 52...</td>\n      <td>0 0 0 0 0 0 0 0 0 0 0 0 0 0 0 0 0 0 0 0 0 0 0 ...</td>\n    </tr>\n    <tr>\n      <th>4</th>\n      <td>5</td>\n      <td>511956 728354 568450 754044 1011255 741215 362...</td>\n      <td>302 351 812 1213 142 464 1028 35 1213 351 142 ...</td>\n      <td>3098 3215 641 3736 1483 176 4848 641 3736 4547...</td>\n      <td>5544.0 5480.0 4264.0 3124.0 4640.0 6664.0 2804...</td>\n      <td>519 520 520 520 520 520 520 520 520 520 520 52...</td>\n      <td>3 0 0 2 0 0 0 0 0 0 0 2 0 0 0 0 0 0 0 0 0 0 0 ...</td>\n    </tr>\n  </tbody>\n</table>\n</div>"
     },
     "metadata": {},
     "execution_count": 12
    }
   ],
   "source": [
    "user_log_path.head()"
   ]
  },
  {
   "cell_type": "code",
   "execution_count": 13,
   "metadata": {},
   "outputs": [
    {
     "output_type": "execute_result",
     "data": {
      "text/plain": [
       "   user_id  merchant_id  label  prob  age_range  gender                                          item_path                                           cat_path                                        seller_path                                         brand_path                                    time_stamp_path                                   action_type_path\n",
       "0    34176         3906    0.0   NaN        6.0     0.0  581818 879005 581818 581818 1011673 52343 2773...  1505 662 1505 1505 1505 662 1095 1505 662 1095...  416 3606 416 416 416 3760 3606 416 1926 3004 4...  4014.0 33.0 4014.0 4014.0 4014.0 3738.0 33.0 4...  521 521 521 521 521 521 521 521 521 521 521 52...  0 0 0 0 0 0 0 0 0 0 0 0 0 2 0 0 0 0 0 0 2 0 2 ...\n",
       "1    34176          121    0.0   NaN        6.0     0.0  581818 879005 581818 581818 1011673 52343 2773...  1505 662 1505 1505 1505 662 1095 1505 662 1095...  416 3606 416 416 416 3760 3606 416 1926 3004 4...  4014.0 33.0 4014.0 4014.0 4014.0 3738.0 33.0 4...  521 521 521 521 521 521 521 521 521 521 521 52...  0 0 0 0 0 0 0 0 0 0 0 0 0 2 0 0 0 0 0 0 2 0 2 ...\n",
       "2    34176         4356    1.0   NaN        6.0     0.0  581818 879005 581818 581818 1011673 52343 2773...  1505 662 1505 1505 1505 662 1095 1505 662 1095...  416 3606 416 416 416 3760 3606 416 1926 3004 4...  4014.0 33.0 4014.0 4014.0 4014.0 3738.0 33.0 4...  521 521 521 521 521 521 521 521 521 521 521 52...  0 0 0 0 0 0 0 0 0 0 0 0 0 2 0 0 0 0 0 0 2 0 2 ...\n",
       "3    34176         2217    0.0   NaN        6.0     0.0  581818 879005 581818 581818 1011673 52343 2773...  1505 662 1505 1505 1505 662 1095 1505 662 1095...  416 3606 416 416 416 3760 3606 416 1926 3004 4...  4014.0 33.0 4014.0 4014.0 4014.0 3738.0 33.0 4...  521 521 521 521 521 521 521 521 521 521 521 52...  0 0 0 0 0 0 0 0 0 0 0 0 0 2 0 0 0 0 0 0 2 0 2 ...\n",
       "4   230784         4818    0.0   NaN        0.0     0.0  191923 191923 191923 191923 964906 229470 2294...  1023 1023 1023 1023 662 664 664 1544 664 662 6...  3545 3545 3545 3545 4566 2537 2537 2420 2537 4...  5860.0 5860.0 5860.0 5860.0 6320.0 6064.0 6064...  601 601 601 601 614 614 614 614 614 614 618 61...  0 2 0 0 0 0 0 0 0 0 0 0 0 0 0 0 2 2 0 0 0 0 0 ..."
      ],
      "text/html": "<div>\n<style scoped>\n    .dataframe tbody tr th:only-of-type {\n        vertical-align: middle;\n    }\n\n    .dataframe tbody tr th {\n        vertical-align: top;\n    }\n\n    .dataframe thead th {\n        text-align: right;\n    }\n</style>\n<table border=\"1\" class=\"dataframe\">\n  <thead>\n    <tr style=\"text-align: right;\">\n      <th></th>\n      <th>user_id</th>\n      <th>merchant_id</th>\n      <th>label</th>\n      <th>prob</th>\n      <th>age_range</th>\n      <th>gender</th>\n      <th>item_path</th>\n      <th>cat_path</th>\n      <th>seller_path</th>\n      <th>brand_path</th>\n      <th>time_stamp_path</th>\n      <th>action_type_path</th>\n    </tr>\n  </thead>\n  <tbody>\n    <tr>\n      <th>0</th>\n      <td>34176</td>\n      <td>3906</td>\n      <td>0.0</td>\n      <td>NaN</td>\n      <td>6.0</td>\n      <td>0.0</td>\n      <td>581818 879005 581818 581818 1011673 52343 2773...</td>\n      <td>1505 662 1505 1505 1505 662 1095 1505 662 1095...</td>\n      <td>416 3606 416 416 416 3760 3606 416 1926 3004 4...</td>\n      <td>4014.0 33.0 4014.0 4014.0 4014.0 3738.0 33.0 4...</td>\n      <td>521 521 521 521 521 521 521 521 521 521 521 52...</td>\n      <td>0 0 0 0 0 0 0 0 0 0 0 0 0 2 0 0 0 0 0 0 2 0 2 ...</td>\n    </tr>\n    <tr>\n      <th>1</th>\n      <td>34176</td>\n      <td>121</td>\n      <td>0.0</td>\n      <td>NaN</td>\n      <td>6.0</td>\n      <td>0.0</td>\n      <td>581818 879005 581818 581818 1011673 52343 2773...</td>\n      <td>1505 662 1505 1505 1505 662 1095 1505 662 1095...</td>\n      <td>416 3606 416 416 416 3760 3606 416 1926 3004 4...</td>\n      <td>4014.0 33.0 4014.0 4014.0 4014.0 3738.0 33.0 4...</td>\n      <td>521 521 521 521 521 521 521 521 521 521 521 52...</td>\n      <td>0 0 0 0 0 0 0 0 0 0 0 0 0 2 0 0 0 0 0 0 2 0 2 ...</td>\n    </tr>\n    <tr>\n      <th>2</th>\n      <td>34176</td>\n      <td>4356</td>\n      <td>1.0</td>\n      <td>NaN</td>\n      <td>6.0</td>\n      <td>0.0</td>\n      <td>581818 879005 581818 581818 1011673 52343 2773...</td>\n      <td>1505 662 1505 1505 1505 662 1095 1505 662 1095...</td>\n      <td>416 3606 416 416 416 3760 3606 416 1926 3004 4...</td>\n      <td>4014.0 33.0 4014.0 4014.0 4014.0 3738.0 33.0 4...</td>\n      <td>521 521 521 521 521 521 521 521 521 521 521 52...</td>\n      <td>0 0 0 0 0 0 0 0 0 0 0 0 0 2 0 0 0 0 0 0 2 0 2 ...</td>\n    </tr>\n    <tr>\n      <th>3</th>\n      <td>34176</td>\n      <td>2217</td>\n      <td>0.0</td>\n      <td>NaN</td>\n      <td>6.0</td>\n      <td>0.0</td>\n      <td>581818 879005 581818 581818 1011673 52343 2773...</td>\n      <td>1505 662 1505 1505 1505 662 1095 1505 662 1095...</td>\n      <td>416 3606 416 416 416 3760 3606 416 1926 3004 4...</td>\n      <td>4014.0 33.0 4014.0 4014.0 4014.0 3738.0 33.0 4...</td>\n      <td>521 521 521 521 521 521 521 521 521 521 521 52...</td>\n      <td>0 0 0 0 0 0 0 0 0 0 0 0 0 2 0 0 0 0 0 0 2 0 2 ...</td>\n    </tr>\n    <tr>\n      <th>4</th>\n      <td>230784</td>\n      <td>4818</td>\n      <td>0.0</td>\n      <td>NaN</td>\n      <td>0.0</td>\n      <td>0.0</td>\n      <td>191923 191923 191923 191923 964906 229470 2294...</td>\n      <td>1023 1023 1023 1023 662 664 664 1544 664 662 6...</td>\n      <td>3545 3545 3545 3545 4566 2537 2537 2420 2537 4...</td>\n      <td>5860.0 5860.0 5860.0 5860.0 6320.0 6064.0 6064...</td>\n      <td>601 601 601 601 614 614 614 614 614 614 618 61...</td>\n      <td>0 2 0 0 0 0 0 0 0 0 0 0 0 0 0 0 2 2 0 0 0 0 0 ...</td>\n    </tr>\n  </tbody>\n</table>\n</div>"
     },
     "metadata": {},
     "execution_count": 13
    }
   ],
   "source": [
    "all_data_path=all_data.merge(user_log_path,on=\"user_id\",how=\"left\")\n",
    "all_data_path.head()"
   ]
  },
  {
   "cell_type": "code",
   "execution_count": 14,
   "metadata": {},
   "outputs": [],
   "source": [
    "all_data_path=all_data_path.sort_values([\"user_id\"])"
   ]
  },
  {
   "cell_type": "code",
   "execution_count": 15,
   "metadata": {},
   "outputs": [
    {
     "output_type": "execute_result",
     "data": {
      "text/plain": [
       "        user_id  merchant_id  label  prob  age_range  gender                                          item_path                                           cat_path                                        seller_path                                         brand_path                                    time_stamp_path                                   action_type_path\n",
       "130649        1         1019    1.0   NaN        3.0     1.0  181459 779078 779078 452837 543397 504149 5041...  276 276 276 276 276 1023 1023 1023 1023 1252 1...  2245 2245 2245 2245 2245 925 925 925 925 4026 ...  4752.0 4752.0 4752.0 4752.0 4752.0 7400.0 7400...  1009 1009 1009 1009 1009 1011 1011 1011 1011 1...  0 0 0 0 0 0 0 2 0 0 0 0 0 0 2 0 0 0 0 0 0 2 2 ...\n",
       "479611        2         1784    NaN   NaN        3.0     0.0  348983 749563 239288 751744 239288 714176 1972...  177 177 602 602 602 1213 602 602 602 1213 1213...  2223 2223 420 420 420 420 420 420 420 420 420 ...  3272.0 3272.0 4952.0 4952.0 4952.0 4058.0 4952...  527 527 626 626 626 626 626 626 626 626 626 62...  0 0 0 0 0 0 0 0 0 0 0 0 0 0 0 0 0 0 2 2 2 0 0 ...\n",
       "479612        2         1679    NaN   NaN        3.0     0.0  348983 749563 239288 751744 239288 714176 1972...  177 177 602 602 602 1213 602 602 602 1213 1213...  2223 2223 420 420 420 420 420 420 420 420 420 ...  3272.0 3272.0 4952.0 4952.0 4952.0 4058.0 4952...  527 527 626 626 626 626 626 626 626 626 626 62...  0 0 0 0 0 0 0 0 0 0 0 0 0 0 0 0 0 0 2 2 2 0 0 ...\n",
       "305759        3         2313    NaN   NaN        3.0     0.0  895754 895754 182882 182882 985337 175397 9463...  1505 1505 1271 1271 1271 662 1134 1134 1134 45...  795 795 2123 2123 4925 1102 4461 4461 4461 474...  3608.0 3608.0 4796.0 4796.0 8004.0 1214.0 905....  516 516 627 627 627 727 819 819 820 906 906 90...  2 2 0 0 0 0 0 2 0 0 0 0 0 0 0 0 0 0 0 0 0 0 0 ...\n",
       "131623        4         1186    0.0   NaN        0.0     0.0  836727 243874 185489 95474 30073 790055 790055...  612 1577 1505 1505 1505 1505 1505 1505 1505 15...  1221 1221 1221 1221 1221 1221 1221 1221 1221 1...  7736.0 7736.0 7736.0 7736.0 7736.0 7736.0 7736...  527 527 527 527 527 527 527 527 527 527 527 52...  0 0 0 0 0 0 0 0 0 0 0 0 0 0 0 0 0 0 0 0 0 0 0 ..."
      ],
      "text/html": "<div>\n<style scoped>\n    .dataframe tbody tr th:only-of-type {\n        vertical-align: middle;\n    }\n\n    .dataframe tbody tr th {\n        vertical-align: top;\n    }\n\n    .dataframe thead th {\n        text-align: right;\n    }\n</style>\n<table border=\"1\" class=\"dataframe\">\n  <thead>\n    <tr style=\"text-align: right;\">\n      <th></th>\n      <th>user_id</th>\n      <th>merchant_id</th>\n      <th>label</th>\n      <th>prob</th>\n      <th>age_range</th>\n      <th>gender</th>\n      <th>item_path</th>\n      <th>cat_path</th>\n      <th>seller_path</th>\n      <th>brand_path</th>\n      <th>time_stamp_path</th>\n      <th>action_type_path</th>\n    </tr>\n  </thead>\n  <tbody>\n    <tr>\n      <th>130649</th>\n      <td>1</td>\n      <td>1019</td>\n      <td>1.0</td>\n      <td>NaN</td>\n      <td>3.0</td>\n      <td>1.0</td>\n      <td>181459 779078 779078 452837 543397 504149 5041...</td>\n      <td>276 276 276 276 276 1023 1023 1023 1023 1252 1...</td>\n      <td>2245 2245 2245 2245 2245 925 925 925 925 4026 ...</td>\n      <td>4752.0 4752.0 4752.0 4752.0 4752.0 7400.0 7400...</td>\n      <td>1009 1009 1009 1009 1009 1011 1011 1011 1011 1...</td>\n      <td>0 0 0 0 0 0 0 2 0 0 0 0 0 0 2 0 0 0 0 0 0 2 2 ...</td>\n    </tr>\n    <tr>\n      <th>479611</th>\n      <td>2</td>\n      <td>1784</td>\n      <td>NaN</td>\n      <td>NaN</td>\n      <td>3.0</td>\n      <td>0.0</td>\n      <td>348983 749563 239288 751744 239288 714176 1972...</td>\n      <td>177 177 602 602 602 1213 602 602 602 1213 1213...</td>\n      <td>2223 2223 420 420 420 420 420 420 420 420 420 ...</td>\n      <td>3272.0 3272.0 4952.0 4952.0 4952.0 4058.0 4952...</td>\n      <td>527 527 626 626 626 626 626 626 626 626 626 62...</td>\n      <td>0 0 0 0 0 0 0 0 0 0 0 0 0 0 0 0 0 0 2 2 2 0 0 ...</td>\n    </tr>\n    <tr>\n      <th>479612</th>\n      <td>2</td>\n      <td>1679</td>\n      <td>NaN</td>\n      <td>NaN</td>\n      <td>3.0</td>\n      <td>0.0</td>\n      <td>348983 749563 239288 751744 239288 714176 1972...</td>\n      <td>177 177 602 602 602 1213 602 602 602 1213 1213...</td>\n      <td>2223 2223 420 420 420 420 420 420 420 420 420 ...</td>\n      <td>3272.0 3272.0 4952.0 4952.0 4952.0 4058.0 4952...</td>\n      <td>527 527 626 626 626 626 626 626 626 626 626 62...</td>\n      <td>0 0 0 0 0 0 0 0 0 0 0 0 0 0 0 0 0 0 2 2 2 0 0 ...</td>\n    </tr>\n    <tr>\n      <th>305759</th>\n      <td>3</td>\n      <td>2313</td>\n      <td>NaN</td>\n      <td>NaN</td>\n      <td>3.0</td>\n      <td>0.0</td>\n      <td>895754 895754 182882 182882 985337 175397 9463...</td>\n      <td>1505 1505 1271 1271 1271 662 1134 1134 1134 45...</td>\n      <td>795 795 2123 2123 4925 1102 4461 4461 4461 474...</td>\n      <td>3608.0 3608.0 4796.0 4796.0 8004.0 1214.0 905....</td>\n      <td>516 516 627 627 627 727 819 819 820 906 906 90...</td>\n      <td>2 2 0 0 0 0 0 2 0 0 0 0 0 0 0 0 0 0 0 0 0 0 0 ...</td>\n    </tr>\n    <tr>\n      <th>131623</th>\n      <td>4</td>\n      <td>1186</td>\n      <td>0.0</td>\n      <td>NaN</td>\n      <td>0.0</td>\n      <td>0.0</td>\n      <td>836727 243874 185489 95474 30073 790055 790055...</td>\n      <td>612 1577 1505 1505 1505 1505 1505 1505 1505 15...</td>\n      <td>1221 1221 1221 1221 1221 1221 1221 1221 1221 1...</td>\n      <td>7736.0 7736.0 7736.0 7736.0 7736.0 7736.0 7736...</td>\n      <td>527 527 527 527 527 527 527 527 527 527 527 52...</td>\n      <td>0 0 0 0 0 0 0 0 0 0 0 0 0 0 0 0 0 0 0 0 0 0 0 ...</td>\n    </tr>\n  </tbody>\n</table>\n</div>"
     },
     "metadata": {},
     "execution_count": 15
    }
   ],
   "source": [
    "all_data_path.head()"
   ]
  },
  {
   "cell_type": "code",
   "execution_count": 16,
   "metadata": {},
   "outputs": [],
   "source": [
    "#删除重复项\n",
    "all_data_path=all_data_path.drop_duplicates(\"user_id\")"
   ]
  },
  {
   "cell_type": "code",
   "execution_count": 17,
   "metadata": {},
   "outputs": [
    {
     "output_type": "execute_result",
     "data": {
      "text/plain": [
       "        user_id  merchant_id  label  prob  age_range  gender                                          item_path                                           cat_path                                        seller_path                                         brand_path                                    time_stamp_path                                   action_type_path\n",
       "130649        1         1019    1.0   NaN        3.0     1.0  181459 779078 779078 452837 543397 504149 5041...  276 276 276 276 276 1023 1023 1023 1023 1252 1...  2245 2245 2245 2245 2245 925 925 925 925 4026 ...  4752.0 4752.0 4752.0 4752.0 4752.0 7400.0 7400...  1009 1009 1009 1009 1009 1011 1011 1011 1011 1...  0 0 0 0 0 0 0 2 0 0 0 0 0 0 2 0 0 0 0 0 0 2 2 ...\n",
       "479611        2         1784    NaN   NaN        3.0     0.0  348983 749563 239288 751744 239288 714176 1972...  177 177 602 602 602 1213 602 602 602 1213 1213...  2223 2223 420 420 420 420 420 420 420 420 420 ...  3272.0 3272.0 4952.0 4952.0 4952.0 4058.0 4952...  527 527 626 626 626 626 626 626 626 626 626 62...  0 0 0 0 0 0 0 0 0 0 0 0 0 0 0 0 0 0 2 2 2 0 0 ...\n",
       "305759        3         2313    NaN   NaN        3.0     0.0  895754 895754 182882 182882 985337 175397 9463...  1505 1505 1271 1271 1271 662 1134 1134 1134 45...  795 795 2123 2123 4925 1102 4461 4461 4461 474...  3608.0 3608.0 4796.0 4796.0 8004.0 1214.0 905....  516 516 627 627 627 727 819 819 820 906 906 90...  2 2 0 0 0 0 0 2 0 0 0 0 0 0 0 0 0 0 0 0 0 0 0 ..."
      ],
      "text/html": "<div>\n<style scoped>\n    .dataframe tbody tr th:only-of-type {\n        vertical-align: middle;\n    }\n\n    .dataframe tbody tr th {\n        vertical-align: top;\n    }\n\n    .dataframe thead th {\n        text-align: right;\n    }\n</style>\n<table border=\"1\" class=\"dataframe\">\n  <thead>\n    <tr style=\"text-align: right;\">\n      <th></th>\n      <th>user_id</th>\n      <th>merchant_id</th>\n      <th>label</th>\n      <th>prob</th>\n      <th>age_range</th>\n      <th>gender</th>\n      <th>item_path</th>\n      <th>cat_path</th>\n      <th>seller_path</th>\n      <th>brand_path</th>\n      <th>time_stamp_path</th>\n      <th>action_type_path</th>\n    </tr>\n  </thead>\n  <tbody>\n    <tr>\n      <th>130649</th>\n      <td>1</td>\n      <td>1019</td>\n      <td>1.0</td>\n      <td>NaN</td>\n      <td>3.0</td>\n      <td>1.0</td>\n      <td>181459 779078 779078 452837 543397 504149 5041...</td>\n      <td>276 276 276 276 276 1023 1023 1023 1023 1252 1...</td>\n      <td>2245 2245 2245 2245 2245 925 925 925 925 4026 ...</td>\n      <td>4752.0 4752.0 4752.0 4752.0 4752.0 7400.0 7400...</td>\n      <td>1009 1009 1009 1009 1009 1011 1011 1011 1011 1...</td>\n      <td>0 0 0 0 0 0 0 2 0 0 0 0 0 0 2 0 0 0 0 0 0 2 2 ...</td>\n    </tr>\n    <tr>\n      <th>479611</th>\n      <td>2</td>\n      <td>1784</td>\n      <td>NaN</td>\n      <td>NaN</td>\n      <td>3.0</td>\n      <td>0.0</td>\n      <td>348983 749563 239288 751744 239288 714176 1972...</td>\n      <td>177 177 602 602 602 1213 602 602 602 1213 1213...</td>\n      <td>2223 2223 420 420 420 420 420 420 420 420 420 ...</td>\n      <td>3272.0 3272.0 4952.0 4952.0 4952.0 4058.0 4952...</td>\n      <td>527 527 626 626 626 626 626 626 626 626 626 62...</td>\n      <td>0 0 0 0 0 0 0 0 0 0 0 0 0 0 0 0 0 0 2 2 2 0 0 ...</td>\n    </tr>\n    <tr>\n      <th>305759</th>\n      <td>3</td>\n      <td>2313</td>\n      <td>NaN</td>\n      <td>NaN</td>\n      <td>3.0</td>\n      <td>0.0</td>\n      <td>895754 895754 182882 182882 985337 175397 9463...</td>\n      <td>1505 1505 1271 1271 1271 662 1134 1134 1134 45...</td>\n      <td>795 795 2123 2123 4925 1102 4461 4461 4461 474...</td>\n      <td>3608.0 3608.0 4796.0 4796.0 8004.0 1214.0 905....</td>\n      <td>516 516 627 627 627 727 819 819 820 906 906 90...</td>\n      <td>2 2 0 0 0 0 0 2 0 0 0 0 0 0 0 0 0 0 0 0 0 0 0 ...</td>\n    </tr>\n  </tbody>\n</table>\n</div>"
     },
     "metadata": {},
     "execution_count": 17
    }
   ],
   "source": [
    "all_data_path.head(3)"
   ]
  },
  {
   "cell_type": "code",
   "execution_count": 18,
   "metadata": {},
   "outputs": [],
   "source": [
    "#定义统计函数\n",
    "def cnt_(x):\n",
    "    try:\n",
    "        return len(x.split(\" \"))\n",
    "    except:\n",
    "        return -1"
   ]
  },
  {
   "cell_type": "code",
   "execution_count": 19,
   "metadata": {},
   "outputs": [],
   "source": [
    "def nunique_(x):\n",
    "    try:\n",
    "        return len(set(x.split(\" \")))\n",
    "    except:\n",
    "        return -1"
   ]
  },
  {
   "cell_type": "code",
   "execution_count": 20,
   "metadata": {},
   "outputs": [],
   "source": [
    "def max_(x):\n",
    "    try:\n",
    "        return np.max([int(i) for i in x.split(\" \")])\n",
    "    except:\n",
    "        return -1"
   ]
  },
  {
   "cell_type": "code",
   "execution_count": 21,
   "metadata": {},
   "outputs": [],
   "source": [
    "def min_(x):\n",
    "    try:\n",
    "        return np.min([int(i) for i in x.split(\" \")])\n",
    "    except:\n",
    "        return -1"
   ]
  },
  {
   "cell_type": "code",
   "execution_count": 22,
   "metadata": {},
   "outputs": [],
   "source": [
    "def std_(x):\n",
    "    try:\n",
    "        return np.std([float(i) for i in x.split(\" \")])\n",
    "    except:\n",
    "        return -1"
   ]
  },
  {
   "cell_type": "code",
   "execution_count": 23,
   "metadata": {},
   "outputs": [],
   "source": [
    "def most_n(x,n):\n",
    "    try:\n",
    "        return Counter(x.split(\" \")).most_common(n)[n-1][0]\n",
    "    except:\n",
    "        return -1"
   ]
  },
  {
   "cell_type": "code",
   "execution_count": 24,
   "metadata": {},
   "outputs": [],
   "source": [
    "def most_n_cnt(x,n):\n",
    "    try:\n",
    "        return Counter(x.split(\" \")).most_common(n)[n-1][1]\n",
    "    except:\n",
    "        return -1"
   ]
  },
  {
   "cell_type": "code",
   "execution_count": 25,
   "metadata": {},
   "outputs": [],
   "source": [
    "def user_cnt(df_data,single_col,name):\n",
    "    df_data[name]=df_data[single_col].apply(cnt_)\n",
    "    return df_data"
   ]
  },
  {
   "cell_type": "code",
   "execution_count": 26,
   "metadata": {},
   "outputs": [],
   "source": [
    "def user_nunique(df_data,single_col,name):\n",
    "    df_data[name]=df_data[single_col].apply(nunique_)\n",
    "    return df_data"
   ]
  },
  {
   "cell_type": "code",
   "execution_count": 27,
   "metadata": {},
   "outputs": [],
   "source": [
    "def user_max(df_data,single_col,name):\n",
    "    df_data[name]=df_data[single_col].apply(max_)\n",
    "    return df_data"
   ]
  },
  {
   "cell_type": "code",
   "execution_count": 28,
   "metadata": {},
   "outputs": [],
   "source": [
    "def user_min(df_data,single_col,name):\n",
    "    df_data[name]=df_data[single_col].apply(min_)\n",
    "    return df_data"
   ]
  },
  {
   "cell_type": "code",
   "execution_count": 29,
   "metadata": {},
   "outputs": [],
   "source": [
    "def user_std(df_data,single_col,name):\n",
    "    df_data[name]=df_data[single_col].apply(std_)\n",
    "    return"
   ]
  },
  {
   "cell_type": "code",
   "execution_count": 30,
   "metadata": {},
   "outputs": [],
   "source": [
    "def user_most_n(df_data,single_col,name,n=1):\n",
    "    func=lambda x:most_n(x,n)\n",
    "    df_data[name]=df_data[single_col].apply(func)\n",
    "    return df_data"
   ]
  },
  {
   "cell_type": "code",
   "execution_count": 31,
   "metadata": {},
   "outputs": [],
   "source": [
    "def user_most_n_cnt(df_data,single_col,name,n=1):\n",
    "    func=lambda x:most_n_cnt(x,n)\n",
    "    df_data[name]=df_data[single_col].apply(func)\n",
    "    return df_data"
   ]
  },
  {
   "cell_type": "code",
   "execution_count": 32,
   "metadata": {},
   "outputs": [],
   "source": [
    "all_data_test=all_data_path.head(2000)"
   ]
  },
  {
   "cell_type": "code",
   "execution_count": 33,
   "metadata": {},
   "outputs": [
    {
     "output_type": "execute_result",
     "data": {
      "text/plain": [
       "        user_id  merchant_id  label  prob  age_range  gender                                          item_path                                           cat_path                                        seller_path                                         brand_path                                    time_stamp_path                                   action_type_path  user_cnt\n",
       "130649        1         1019    1.0   NaN        3.0     1.0  181459 779078 779078 452837 543397 504149 5041...  276 276 276 276 276 1023 1023 1023 1023 1252 1...  2245 2245 2245 2245 2245 925 925 925 925 4026 ...  4752.0 4752.0 4752.0 4752.0 4752.0 7400.0 7400...  1009 1009 1009 1009 1009 1011 1011 1011 1011 1...  0 0 0 0 0 0 0 2 0 0 0 0 0 0 2 0 0 0 0 0 0 2 2 ...        33\n",
       "479611        2         1784    NaN   NaN        3.0     0.0  348983 749563 239288 751744 239288 714176 1972...  177 177 602 602 602 1213 602 602 602 1213 1213...  2223 2223 420 420 420 420 420 420 420 420 420 ...  3272.0 3272.0 4952.0 4952.0 4952.0 4058.0 4952...  527 527 626 626 626 626 626 626 626 626 626 62...  0 0 0 0 0 0 0 0 0 0 0 0 0 0 0 0 0 0 2 2 2 0 0 ...        63\n",
       "305759        3         2313    NaN   NaN        3.0     0.0  895754 895754 182882 182882 985337 175397 9463...  1505 1505 1271 1271 1271 662 1134 1134 1134 45...  795 795 2123 2123 4925 1102 4461 4461 4461 474...  3608.0 3608.0 4796.0 4796.0 8004.0 1214.0 905....  516 516 627 627 627 727 819 819 820 906 906 90...  2 2 0 0 0 0 0 2 0 0 0 0 0 0 0 0 0 0 0 0 0 0 0 ...        68"
      ],
      "text/html": "<div>\n<style scoped>\n    .dataframe tbody tr th:only-of-type {\n        vertical-align: middle;\n    }\n\n    .dataframe tbody tr th {\n        vertical-align: top;\n    }\n\n    .dataframe thead th {\n        text-align: right;\n    }\n</style>\n<table border=\"1\" class=\"dataframe\">\n  <thead>\n    <tr style=\"text-align: right;\">\n      <th></th>\n      <th>user_id</th>\n      <th>merchant_id</th>\n      <th>label</th>\n      <th>prob</th>\n      <th>age_range</th>\n      <th>gender</th>\n      <th>item_path</th>\n      <th>cat_path</th>\n      <th>seller_path</th>\n      <th>brand_path</th>\n      <th>time_stamp_path</th>\n      <th>action_type_path</th>\n      <th>user_cnt</th>\n    </tr>\n  </thead>\n  <tbody>\n    <tr>\n      <th>130649</th>\n      <td>1</td>\n      <td>1019</td>\n      <td>1.0</td>\n      <td>NaN</td>\n      <td>3.0</td>\n      <td>1.0</td>\n      <td>181459 779078 779078 452837 543397 504149 5041...</td>\n      <td>276 276 276 276 276 1023 1023 1023 1023 1252 1...</td>\n      <td>2245 2245 2245 2245 2245 925 925 925 925 4026 ...</td>\n      <td>4752.0 4752.0 4752.0 4752.0 4752.0 7400.0 7400...</td>\n      <td>1009 1009 1009 1009 1009 1011 1011 1011 1011 1...</td>\n      <td>0 0 0 0 0 0 0 2 0 0 0 0 0 0 2 0 0 0 0 0 0 2 2 ...</td>\n      <td>33</td>\n    </tr>\n    <tr>\n      <th>479611</th>\n      <td>2</td>\n      <td>1784</td>\n      <td>NaN</td>\n      <td>NaN</td>\n      <td>3.0</td>\n      <td>0.0</td>\n      <td>348983 749563 239288 751744 239288 714176 1972...</td>\n      <td>177 177 602 602 602 1213 602 602 602 1213 1213...</td>\n      <td>2223 2223 420 420 420 420 420 420 420 420 420 ...</td>\n      <td>3272.0 3272.0 4952.0 4952.0 4952.0 4058.0 4952...</td>\n      <td>527 527 626 626 626 626 626 626 626 626 626 62...</td>\n      <td>0 0 0 0 0 0 0 0 0 0 0 0 0 0 0 0 0 0 2 2 2 0 0 ...</td>\n      <td>63</td>\n    </tr>\n    <tr>\n      <th>305759</th>\n      <td>3</td>\n      <td>2313</td>\n      <td>NaN</td>\n      <td>NaN</td>\n      <td>3.0</td>\n      <td>0.0</td>\n      <td>895754 895754 182882 182882 985337 175397 9463...</td>\n      <td>1505 1505 1271 1271 1271 662 1134 1134 1134 45...</td>\n      <td>795 795 2123 2123 4925 1102 4461 4461 4461 474...</td>\n      <td>3608.0 3608.0 4796.0 4796.0 8004.0 1214.0 905....</td>\n      <td>516 516 627 627 627 727 819 819 820 906 906 90...</td>\n      <td>2 2 0 0 0 0 0 2 0 0 0 0 0 0 0 0 0 0 0 0 0 0 0 ...</td>\n      <td>68</td>\n    </tr>\n  </tbody>\n</table>\n</div>"
     },
     "metadata": {},
     "execution_count": 33
    }
   ],
   "source": [
    "all_data_test=user_cnt(all_data_test,\"seller_path\",\"user_cnt\")\n",
    "all_data_test.head(3)"
   ]
  },
  {
   "cell_type": "code",
   "execution_count": 34,
   "metadata": {},
   "outputs": [
    {
     "output_type": "execute_result",
     "data": {
      "text/plain": [
       "        user_id  merchant_id  label  prob  age_range  gender                                          item_path                                           cat_path                                        seller_path                                         brand_path                                    time_stamp_path                                   action_type_path  seller_nunique\n",
       "130649        1         1019    1.0   NaN        3.0     1.0  181459 779078 779078 452837 543397 504149 5041...  276 276 276 276 276 1023 1023 1023 1023 1252 1...  2245 2245 2245 2245 2245 925 925 925 925 4026 ...  4752.0 4752.0 4752.0 4752.0 4752.0 7400.0 7400...  1009 1009 1009 1009 1009 1011 1011 1011 1011 1...  0 0 0 0 0 0 0 2 0 0 0 0 0 0 2 0 0 0 0 0 0 2 2 ...               9\n",
       "479611        2         1784    NaN   NaN        3.0     0.0  348983 749563 239288 751744 239288 714176 1972...  177 177 602 602 602 1213 602 602 602 1213 1213...  2223 2223 420 420 420 420 420 420 420 420 420 ...  3272.0 3272.0 4952.0 4952.0 4952.0 4058.0 4952...  527 527 626 626 626 626 626 626 626 626 626 62...  0 0 0 0 0 0 0 0 0 0 0 0 0 0 0 0 0 0 2 2 2 0 0 ...              14\n",
       "305759        3         2313    NaN   NaN        3.0     0.0  895754 895754 182882 182882 985337 175397 9463...  1505 1505 1271 1271 1271 662 1134 1134 1134 45...  795 795 2123 2123 4925 1102 4461 4461 4461 474...  3608.0 3608.0 4796.0 4796.0 8004.0 1214.0 905....  516 516 627 627 627 727 819 819 820 906 906 90...  2 2 0 0 0 0 0 2 0 0 0 0 0 0 0 0 0 0 0 0 0 0 0 ...              23"
      ],
      "text/html": "<div>\n<style scoped>\n    .dataframe tbody tr th:only-of-type {\n        vertical-align: middle;\n    }\n\n    .dataframe tbody tr th {\n        vertical-align: top;\n    }\n\n    .dataframe thead th {\n        text-align: right;\n    }\n</style>\n<table border=\"1\" class=\"dataframe\">\n  <thead>\n    <tr style=\"text-align: right;\">\n      <th></th>\n      <th>user_id</th>\n      <th>merchant_id</th>\n      <th>label</th>\n      <th>prob</th>\n      <th>age_range</th>\n      <th>gender</th>\n      <th>item_path</th>\n      <th>cat_path</th>\n      <th>seller_path</th>\n      <th>brand_path</th>\n      <th>time_stamp_path</th>\n      <th>action_type_path</th>\n      <th>seller_nunique</th>\n    </tr>\n  </thead>\n  <tbody>\n    <tr>\n      <th>130649</th>\n      <td>1</td>\n      <td>1019</td>\n      <td>1.0</td>\n      <td>NaN</td>\n      <td>3.0</td>\n      <td>1.0</td>\n      <td>181459 779078 779078 452837 543397 504149 5041...</td>\n      <td>276 276 276 276 276 1023 1023 1023 1023 1252 1...</td>\n      <td>2245 2245 2245 2245 2245 925 925 925 925 4026 ...</td>\n      <td>4752.0 4752.0 4752.0 4752.0 4752.0 7400.0 7400...</td>\n      <td>1009 1009 1009 1009 1009 1011 1011 1011 1011 1...</td>\n      <td>0 0 0 0 0 0 0 2 0 0 0 0 0 0 2 0 0 0 0 0 0 2 2 ...</td>\n      <td>9</td>\n    </tr>\n    <tr>\n      <th>479611</th>\n      <td>2</td>\n      <td>1784</td>\n      <td>NaN</td>\n      <td>NaN</td>\n      <td>3.0</td>\n      <td>0.0</td>\n      <td>348983 749563 239288 751744 239288 714176 1972...</td>\n      <td>177 177 602 602 602 1213 602 602 602 1213 1213...</td>\n      <td>2223 2223 420 420 420 420 420 420 420 420 420 ...</td>\n      <td>3272.0 3272.0 4952.0 4952.0 4952.0 4058.0 4952...</td>\n      <td>527 527 626 626 626 626 626 626 626 626 626 62...</td>\n      <td>0 0 0 0 0 0 0 0 0 0 0 0 0 0 0 0 0 0 2 2 2 0 0 ...</td>\n      <td>14</td>\n    </tr>\n    <tr>\n      <th>305759</th>\n      <td>3</td>\n      <td>2313</td>\n      <td>NaN</td>\n      <td>NaN</td>\n      <td>3.0</td>\n      <td>0.0</td>\n      <td>895754 895754 182882 182882 985337 175397 9463...</td>\n      <td>1505 1505 1271 1271 1271 662 1134 1134 1134 45...</td>\n      <td>795 795 2123 2123 4925 1102 4461 4461 4461 474...</td>\n      <td>3608.0 3608.0 4796.0 4796.0 8004.0 1214.0 905....</td>\n      <td>516 516 627 627 627 727 819 819 820 906 906 90...</td>\n      <td>2 2 0 0 0 0 0 2 0 0 0 0 0 0 0 0 0 0 0 0 0 0 0 ...</td>\n      <td>23</td>\n    </tr>\n  </tbody>\n</table>\n</div>"
     },
     "metadata": {},
     "execution_count": 34
    }
   ],
   "source": [
    "all_data_test=user_nunique(all_data_path,\"seller_path\",\"seller_nunique\")\n",
    "all_data_test.head(3)"
   ]
  },
  {
   "cell_type": "code",
   "execution_count": 35,
   "metadata": {},
   "outputs": [
    {
     "output_type": "execute_result",
     "data": {
      "text/plain": [
       "        user_id  merchant_id  label  prob  age_range  gender                                          item_path                                           cat_path                                        seller_path                                         brand_path                                    time_stamp_path                                   action_type_path  seller_nunique  cat_nunique\n",
       "130649        1         1019    1.0   NaN        3.0     1.0  181459 779078 779078 452837 543397 504149 5041...  276 276 276 276 276 1023 1023 1023 1023 1252 1...  2245 2245 2245 2245 2245 925 925 925 925 4026 ...  4752.0 4752.0 4752.0 4752.0 4752.0 7400.0 7400...  1009 1009 1009 1009 1009 1011 1011 1011 1011 1...  0 0 0 0 0 0 0 2 0 0 0 0 0 0 2 0 0 0 0 0 0 2 2 ...               9            6"
      ],
      "text/html": "<div>\n<style scoped>\n    .dataframe tbody tr th:only-of-type {\n        vertical-align: middle;\n    }\n\n    .dataframe tbody tr th {\n        vertical-align: top;\n    }\n\n    .dataframe thead th {\n        text-align: right;\n    }\n</style>\n<table border=\"1\" class=\"dataframe\">\n  <thead>\n    <tr style=\"text-align: right;\">\n      <th></th>\n      <th>user_id</th>\n      <th>merchant_id</th>\n      <th>label</th>\n      <th>prob</th>\n      <th>age_range</th>\n      <th>gender</th>\n      <th>item_path</th>\n      <th>cat_path</th>\n      <th>seller_path</th>\n      <th>brand_path</th>\n      <th>time_stamp_path</th>\n      <th>action_type_path</th>\n      <th>seller_nunique</th>\n      <th>cat_nunique</th>\n    </tr>\n  </thead>\n  <tbody>\n    <tr>\n      <th>130649</th>\n      <td>1</td>\n      <td>1019</td>\n      <td>1.0</td>\n      <td>NaN</td>\n      <td>3.0</td>\n      <td>1.0</td>\n      <td>181459 779078 779078 452837 543397 504149 5041...</td>\n      <td>276 276 276 276 276 1023 1023 1023 1023 1252 1...</td>\n      <td>2245 2245 2245 2245 2245 925 925 925 925 4026 ...</td>\n      <td>4752.0 4752.0 4752.0 4752.0 4752.0 7400.0 7400...</td>\n      <td>1009 1009 1009 1009 1009 1011 1011 1011 1011 1...</td>\n      <td>0 0 0 0 0 0 0 2 0 0 0 0 0 0 2 0 0 0 0 0 0 2 2 ...</td>\n      <td>9</td>\n      <td>6</td>\n    </tr>\n  </tbody>\n</table>\n</div>"
     },
     "metadata": {},
     "execution_count": 35
    }
   ],
   "source": [
    "all_data_test=user_nunique(all_data_path,\"cat_path\",\"cat_nunique\")\n",
    "all_data_test.head(1)"
   ]
  },
  {
   "cell_type": "code",
   "execution_count": 36,
   "metadata": {},
   "outputs": [
    {
     "output_type": "execute_result",
     "data": {
      "text/plain": [
       "        user_id  merchant_id  label  prob  age_range  gender                                          item_path                                           cat_path                                        seller_path                                         brand_path                                    time_stamp_path                                   action_type_path  seller_nunique  cat_nunique  brand_nunique\n",
       "130649        1         1019    1.0   NaN        3.0     1.0  181459 779078 779078 452837 543397 504149 5041...  276 276 276 276 276 1023 1023 1023 1023 1252 1...  2245 2245 2245 2245 2245 925 925 925 925 4026 ...  4752.0 4752.0 4752.0 4752.0 4752.0 7400.0 7400...  1009 1009 1009 1009 1009 1011 1011 1011 1011 1...  0 0 0 0 0 0 0 2 0 0 0 0 0 0 2 0 0 0 0 0 0 2 2 ...               9            6              9"
      ],
      "text/html": "<div>\n<style scoped>\n    .dataframe tbody tr th:only-of-type {\n        vertical-align: middle;\n    }\n\n    .dataframe tbody tr th {\n        vertical-align: top;\n    }\n\n    .dataframe thead th {\n        text-align: right;\n    }\n</style>\n<table border=\"1\" class=\"dataframe\">\n  <thead>\n    <tr style=\"text-align: right;\">\n      <th></th>\n      <th>user_id</th>\n      <th>merchant_id</th>\n      <th>label</th>\n      <th>prob</th>\n      <th>age_range</th>\n      <th>gender</th>\n      <th>item_path</th>\n      <th>cat_path</th>\n      <th>seller_path</th>\n      <th>brand_path</th>\n      <th>time_stamp_path</th>\n      <th>action_type_path</th>\n      <th>seller_nunique</th>\n      <th>cat_nunique</th>\n      <th>brand_nunique</th>\n    </tr>\n  </thead>\n  <tbody>\n    <tr>\n      <th>130649</th>\n      <td>1</td>\n      <td>1019</td>\n      <td>1.0</td>\n      <td>NaN</td>\n      <td>3.0</td>\n      <td>1.0</td>\n      <td>181459 779078 779078 452837 543397 504149 5041...</td>\n      <td>276 276 276 276 276 1023 1023 1023 1023 1252 1...</td>\n      <td>2245 2245 2245 2245 2245 925 925 925 925 4026 ...</td>\n      <td>4752.0 4752.0 4752.0 4752.0 4752.0 7400.0 7400...</td>\n      <td>1009 1009 1009 1009 1009 1011 1011 1011 1011 1...</td>\n      <td>0 0 0 0 0 0 0 2 0 0 0 0 0 0 2 0 0 0 0 0 0 2 2 ...</td>\n      <td>9</td>\n      <td>6</td>\n      <td>9</td>\n    </tr>\n  </tbody>\n</table>\n</div>"
     },
     "metadata": {},
     "execution_count": 36
    }
   ],
   "source": [
    "all_data_test=user_nunique(all_data_path,\"brand_path\",\"brand_nunique\")\n",
    "all_data_test.head(1)"
   ]
  },
  {
   "cell_type": "code",
   "execution_count": 37,
   "metadata": {},
   "outputs": [
    {
     "output_type": "execute_result",
     "data": {
      "text/plain": [
       "        user_id  merchant_id  label  prob  age_range  gender                                          item_path                                           cat_path                                        seller_path                                         brand_path                                    time_stamp_path                                   action_type_path  seller_nunique  cat_nunique  brand_nunique  item_numique\n",
       "130649        1         1019    1.0   NaN        3.0     1.0  181459 779078 779078 452837 543397 504149 5041...  276 276 276 276 276 1023 1023 1023 1023 1252 1...  2245 2245 2245 2245 2245 925 925 925 925 4026 ...  4752.0 4752.0 4752.0 4752.0 4752.0 7400.0 7400...  1009 1009 1009 1009 1009 1011 1011 1011 1011 1...  0 0 0 0 0 0 0 2 0 0 0 0 0 0 2 0 0 0 0 0 0 2 2 ...               9            6              9            12"
      ],
      "text/html": "<div>\n<style scoped>\n    .dataframe tbody tr th:only-of-type {\n        vertical-align: middle;\n    }\n\n    .dataframe tbody tr th {\n        vertical-align: top;\n    }\n\n    .dataframe thead th {\n        text-align: right;\n    }\n</style>\n<table border=\"1\" class=\"dataframe\">\n  <thead>\n    <tr style=\"text-align: right;\">\n      <th></th>\n      <th>user_id</th>\n      <th>merchant_id</th>\n      <th>label</th>\n      <th>prob</th>\n      <th>age_range</th>\n      <th>gender</th>\n      <th>item_path</th>\n      <th>cat_path</th>\n      <th>seller_path</th>\n      <th>brand_path</th>\n      <th>time_stamp_path</th>\n      <th>action_type_path</th>\n      <th>seller_nunique</th>\n      <th>cat_nunique</th>\n      <th>brand_nunique</th>\n      <th>item_numique</th>\n    </tr>\n  </thead>\n  <tbody>\n    <tr>\n      <th>130649</th>\n      <td>1</td>\n      <td>1019</td>\n      <td>1.0</td>\n      <td>NaN</td>\n      <td>3.0</td>\n      <td>1.0</td>\n      <td>181459 779078 779078 452837 543397 504149 5041...</td>\n      <td>276 276 276 276 276 1023 1023 1023 1023 1252 1...</td>\n      <td>2245 2245 2245 2245 2245 925 925 925 925 4026 ...</td>\n      <td>4752.0 4752.0 4752.0 4752.0 4752.0 7400.0 7400...</td>\n      <td>1009 1009 1009 1009 1009 1011 1011 1011 1011 1...</td>\n      <td>0 0 0 0 0 0 0 2 0 0 0 0 0 0 2 0 0 0 0 0 0 2 2 ...</td>\n      <td>9</td>\n      <td>6</td>\n      <td>9</td>\n      <td>12</td>\n    </tr>\n  </tbody>\n</table>\n</div>"
     },
     "metadata": {},
     "execution_count": 37
    }
   ],
   "source": [
    "all_data_test=user_nunique(all_data_path,\"item_path\",\"item_numique\")\n",
    "all_data_test.head(1)"
   ]
  },
  {
   "cell_type": "code",
   "execution_count": 38,
   "metadata": {},
   "outputs": [
    {
     "output_type": "execute_result",
     "data": {
      "text/plain": [
       "        user_id  merchant_id  label  prob  age_range  gender                                          item_path                                           cat_path                                        seller_path                                         brand_path                                    time_stamp_path                                   action_type_path  seller_nunique  cat_nunique  brand_nunique  item_numique  time_stamp_nunique\n",
       "130649        1         1019    1.0   NaN        3.0     1.0  181459 779078 779078 452837 543397 504149 5041...  276 276 276 276 276 1023 1023 1023 1023 1252 1...  2245 2245 2245 2245 2245 925 925 925 925 4026 ...  4752.0 4752.0 4752.0 4752.0 4752.0 7400.0 7400...  1009 1009 1009 1009 1009 1011 1011 1011 1011 1...  0 0 0 0 0 0 0 2 0 0 0 0 0 0 2 0 0 0 0 0 0 2 2 ...               9            6              9            12                   5"
      ],
      "text/html": "<div>\n<style scoped>\n    .dataframe tbody tr th:only-of-type {\n        vertical-align: middle;\n    }\n\n    .dataframe tbody tr th {\n        vertical-align: top;\n    }\n\n    .dataframe thead th {\n        text-align: right;\n    }\n</style>\n<table border=\"1\" class=\"dataframe\">\n  <thead>\n    <tr style=\"text-align: right;\">\n      <th></th>\n      <th>user_id</th>\n      <th>merchant_id</th>\n      <th>label</th>\n      <th>prob</th>\n      <th>age_range</th>\n      <th>gender</th>\n      <th>item_path</th>\n      <th>cat_path</th>\n      <th>seller_path</th>\n      <th>brand_path</th>\n      <th>time_stamp_path</th>\n      <th>action_type_path</th>\n      <th>seller_nunique</th>\n      <th>cat_nunique</th>\n      <th>brand_nunique</th>\n      <th>item_numique</th>\n      <th>time_stamp_nunique</th>\n    </tr>\n  </thead>\n  <tbody>\n    <tr>\n      <th>130649</th>\n      <td>1</td>\n      <td>1019</td>\n      <td>1.0</td>\n      <td>NaN</td>\n      <td>3.0</td>\n      <td>1.0</td>\n      <td>181459 779078 779078 452837 543397 504149 5041...</td>\n      <td>276 276 276 276 276 1023 1023 1023 1023 1252 1...</td>\n      <td>2245 2245 2245 2245 2245 925 925 925 925 4026 ...</td>\n      <td>4752.0 4752.0 4752.0 4752.0 4752.0 7400.0 7400...</td>\n      <td>1009 1009 1009 1009 1009 1011 1011 1011 1011 1...</td>\n      <td>0 0 0 0 0 0 0 2 0 0 0 0 0 0 2 0 0 0 0 0 0 2 2 ...</td>\n      <td>9</td>\n      <td>6</td>\n      <td>9</td>\n      <td>12</td>\n      <td>5</td>\n    </tr>\n  </tbody>\n</table>\n</div>"
     },
     "metadata": {},
     "execution_count": 38
    }
   ],
   "source": [
    "all_data_test=user_nunique(all_data_test,\"time_stamp_path\",\"time_stamp_nunique\")\n",
    "all_data_test.head(1)"
   ]
  },
  {
   "cell_type": "code",
   "execution_count": 39,
   "metadata": {},
   "outputs": [
    {
     "output_type": "execute_result",
     "data": {
      "text/plain": [
       "        user_id  merchant_id  label  prob  age_range  gender                                          item_path                                           cat_path                                        seller_path                                         brand_path                                    time_stamp_path                                   action_type_path  seller_nunique  cat_nunique  brand_nunique  item_numique  time_stamp_nunique  action_type_nunique\n",
       "130649        1         1019    1.0   NaN        3.0     1.0  181459 779078 779078 452837 543397 504149 5041...  276 276 276 276 276 1023 1023 1023 1023 1252 1...  2245 2245 2245 2245 2245 925 925 925 925 4026 ...  4752.0 4752.0 4752.0 4752.0 4752.0 7400.0 7400...  1009 1009 1009 1009 1009 1011 1011 1011 1011 1...  0 0 0 0 0 0 0 2 0 0 0 0 0 0 2 0 0 0 0 0 0 2 2 ...               9            6              9            12                   5                    2"
      ],
      "text/html": "<div>\n<style scoped>\n    .dataframe tbody tr th:only-of-type {\n        vertical-align: middle;\n    }\n\n    .dataframe tbody tr th {\n        vertical-align: top;\n    }\n\n    .dataframe thead th {\n        text-align: right;\n    }\n</style>\n<table border=\"1\" class=\"dataframe\">\n  <thead>\n    <tr style=\"text-align: right;\">\n      <th></th>\n      <th>user_id</th>\n      <th>merchant_id</th>\n      <th>label</th>\n      <th>prob</th>\n      <th>age_range</th>\n      <th>gender</th>\n      <th>item_path</th>\n      <th>cat_path</th>\n      <th>seller_path</th>\n      <th>brand_path</th>\n      <th>time_stamp_path</th>\n      <th>action_type_path</th>\n      <th>seller_nunique</th>\n      <th>cat_nunique</th>\n      <th>brand_nunique</th>\n      <th>item_numique</th>\n      <th>time_stamp_nunique</th>\n      <th>action_type_nunique</th>\n    </tr>\n  </thead>\n  <tbody>\n    <tr>\n      <th>130649</th>\n      <td>1</td>\n      <td>1019</td>\n      <td>1.0</td>\n      <td>NaN</td>\n      <td>3.0</td>\n      <td>1.0</td>\n      <td>181459 779078 779078 452837 543397 504149 5041...</td>\n      <td>276 276 276 276 276 1023 1023 1023 1023 1252 1...</td>\n      <td>2245 2245 2245 2245 2245 925 925 925 925 4026 ...</td>\n      <td>4752.0 4752.0 4752.0 4752.0 4752.0 7400.0 7400...</td>\n      <td>1009 1009 1009 1009 1009 1011 1011 1011 1011 1...</td>\n      <td>0 0 0 0 0 0 0 2 0 0 0 0 0 0 2 0 0 0 0 0 0 2 2 ...</td>\n      <td>9</td>\n      <td>6</td>\n      <td>9</td>\n      <td>12</td>\n      <td>5</td>\n      <td>2</td>\n    </tr>\n  </tbody>\n</table>\n</div>"
     },
     "metadata": {},
     "execution_count": 39
    }
   ],
   "source": [
    "all_data_test=user_nunique(all_data_test,\"action_type_path\",\"action_type_nunique\")\n",
    "all_data_test.head(1)"
   ]
  },
  {
   "cell_type": "code",
   "execution_count": 40,
   "metadata": {},
   "outputs": [],
   "source": [
    "#分开统计操作行为"
   ]
  },
  {
   "cell_type": "code",
   "execution_count": 41,
   "metadata": {},
   "outputs": [
    {
     "output_type": "execute_result",
     "data": {
      "text/plain": [
       "        user_id  merchant_id  label  prob  age_range  gender                                          item_path                                           cat_path                                        seller_path                                         brand_path                                    time_stamp_path                                   action_type_path  seller_nunique  cat_nunique  brand_nunique  item_numique  time_stamp_nunique  action_type_nunique\n",
       "130649        1         1019    1.0   NaN        3.0     1.0  181459 779078 779078 452837 543397 504149 5041...  276 276 276 276 276 1023 1023 1023 1023 1252 1...  2245 2245 2245 2245 2245 925 925 925 925 4026 ...  4752.0 4752.0 4752.0 4752.0 4752.0 7400.0 7400...  1009 1009 1009 1009 1009 1011 1011 1011 1011 1...  0 0 0 0 0 0 0 2 0 0 0 0 0 0 2 0 0 0 0 0 0 2 2 ...               9            6              9            12                   5                    2"
      ],
      "text/html": "<div>\n<style scoped>\n    .dataframe tbody tr th:only-of-type {\n        vertical-align: middle;\n    }\n\n    .dataframe tbody tr th {\n        vertical-align: top;\n    }\n\n    .dataframe thead th {\n        text-align: right;\n    }\n</style>\n<table border=\"1\" class=\"dataframe\">\n  <thead>\n    <tr style=\"text-align: right;\">\n      <th></th>\n      <th>user_id</th>\n      <th>merchant_id</th>\n      <th>label</th>\n      <th>prob</th>\n      <th>age_range</th>\n      <th>gender</th>\n      <th>item_path</th>\n      <th>cat_path</th>\n      <th>seller_path</th>\n      <th>brand_path</th>\n      <th>time_stamp_path</th>\n      <th>action_type_path</th>\n      <th>seller_nunique</th>\n      <th>cat_nunique</th>\n      <th>brand_nunique</th>\n      <th>item_numique</th>\n      <th>time_stamp_nunique</th>\n      <th>action_type_nunique</th>\n    </tr>\n  </thead>\n  <tbody>\n    <tr>\n      <th>130649</th>\n      <td>1</td>\n      <td>1019</td>\n      <td>1.0</td>\n      <td>NaN</td>\n      <td>3.0</td>\n      <td>1.0</td>\n      <td>181459 779078 779078 452837 543397 504149 5041...</td>\n      <td>276 276 276 276 276 1023 1023 1023 1023 1252 1...</td>\n      <td>2245 2245 2245 2245 2245 925 925 925 925 4026 ...</td>\n      <td>4752.0 4752.0 4752.0 4752.0 4752.0 7400.0 7400...</td>\n      <td>1009 1009 1009 1009 1009 1011 1011 1011 1011 1...</td>\n      <td>0 0 0 0 0 0 0 2 0 0 0 0 0 0 2 0 0 0 0 0 0 2 2 ...</td>\n      <td>9</td>\n      <td>6</td>\n      <td>9</td>\n      <td>12</td>\n      <td>5</td>\n      <td>2</td>\n    </tr>\n  </tbody>\n</table>\n</div>"
     },
     "metadata": {},
     "execution_count": 41
    }
   ],
   "source": [
    "all_data_test.head(1)"
   ]
  },
  {
   "cell_type": "code",
   "execution_count": 43,
   "metadata": {},
   "outputs": [
    {
     "output_type": "execute_result",
     "data": {
      "text/plain": [
       "130649    [0, 0, 0, 0, 0, 0, 0, 2, 0, 0, 0, 0, 0, 0, 2, ...\n",
       "479611    [0, 0, 0, 0, 0, 0, 0, 0, 0, 0, 0, 0, 0, 0, 0, ...\n",
       "305759    [2, 2, 0, 0, 0, 0, 0, 2, 0, 0, 0, 0, 0, 0, 0, ...\n",
       "131623    [0, 0, 0, 0, 0, 0, 0, 0, 0, 0, 0, 0, 0, 0, 0, ...\n",
       "480619    [3, 0, 0, 2, 0, 0, 0, 0, 0, 0, 0, 2, 0, 0, 0, ...\n",
       "                                ...                        \n",
       "470452    [2, 2, 0, 2, 0, 0, 0, 0, 2, 0, 0, 0, 2, 2, 0, ...\n",
       "35121     [0, 0, 0, 2, 0, 0, 0, 0, 0, 0, 2, 2, 0, 0, 0, ...\n",
       "384062    [0, 0, 0, 0, 0, 0, 0, 0, 0, 0, 0, 0, 0, 0, 0, ...\n",
       "471378    [2, 2, 0, 0, 0, 0, 0, 0, 0, 0, 2, 0, 0, 0, 0, ...\n",
       "36151     [0, 0, 0, 0, 0, 0, 0, 0, 0, 0, 0, 0, 0, 0, 0, ...\n",
       "Name: action_type_path, Length: 424170, dtype: object"
      ]
     },
     "metadata": {},
     "execution_count": 43
    }
   ],
   "source": [
    "action_type=all_data_test[\"action_type_path\"].str.split(\" \")\n",
    "action_type"
   ]
  },
  {
   "cell_type": "code",
   "execution_count": 48,
   "metadata": {},
   "outputs": [],
   "source": [
    "action_0=[]\n",
    "action_1=[]\n",
    "action_2=[]\n",
    "action_3=[]\n",
    "for col in action_type:\n",
    "    action0=[]\n",
    "    action1=[]\n",
    "    action2=[]\n",
    "    action3=[]\n",
    "    for i in col:\n",
    "        if i==\"0\":\n",
    "            action0.append(i)\n",
    "        elif i==\"1\":\n",
    "            action1.append(i)\n",
    "        elif i==\"2\":\n",
    "            action2.append(i)\n",
    "        elif i==\"3\":\n",
    "            action3.append(i)\n",
    "    action_0.append(len(action0))\n",
    "    action_1.append(len(action1))\n",
    "    action_2.append(len(action2))\n",
    "    action_3.append(len(action3))"
   ]
  },
  {
   "cell_type": "code",
   "execution_count": null,
   "metadata": {},
   "outputs": [],
   "source": []
  }
 ]
}