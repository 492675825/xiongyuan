{
 "cells": [
  {
   "cell_type": "code",
   "execution_count": 69,
   "metadata": {},
   "outputs": [],
   "source": [
    "import pandas as pd \n",
    "import numpy as np \n",
    "import matplotlib.pyplot as plt \n",
    "import seaborn as sns \n",
    "from scipy import stats\n",
    "import warnings\n",
    "warnings.filterwarnings(\"ignore\")\n",
    "\n",
    "pd.set_option(\"display.max_column\",100)\n",
    "pd.set_option(\"expand_frame_repr\",False)\n",
    "%matplotlib inline"
   ]
  },
  {
   "cell_type": "code",
   "execution_count": 70,
   "metadata": {},
   "outputs": [],
   "source": [
    "#1--读取数据\n",
    "test_data=pd.read_csv(r'D:\\文件\\学习\\数据集\\天猫用户复购\\data_format1\\test_format1.csv')\n",
    "train_data=pd.read_csv(r'D:\\文件\\学习\\数据集\\天猫用户复购\\data_format1\\train_format1.csv')\n",
    "user_info=pd.read_csv(r'D:\\文件\\学习\\数据集\\天猫用户复购\\data_format1\\user_info_format1.csv')\n",
    "user_log=pd.read_csv(r'D:\\文件\\学习\\数据集\\天猫用户复购\\data_format1\\user_log_format1.csv')"
   ]
  },
  {
   "cell_type": "code",
   "execution_count": 71,
   "metadata": {},
   "outputs": [],
   "source": [
    "import gc\n",
    "from collections import Counter\n",
    "import copy"
   ]
  },
  {
   "cell_type": "code",
   "execution_count": 72,
   "metadata": {},
   "outputs": [],
   "source": [
    "def reduce_mem_usage(df,verbose=True):\n",
    "    start_mem=df.memory_usage().sum()/1024**2\n",
    "    number=['int16', 'int32', 'int64', 'float16', 'float32', 'float64']\n",
    "    for col in df.columns:\n",
    "        col_type=df[col].dtype\n",
    "        if col_type in number:\n",
    "            c_min=df[col].min()\n",
    "            c_max=df[col].max()\n",
    "            if str(col_type)[:3]==\"int\":\n",
    "                if c_min > np.iinfo(np.int8).min and c_max < np.iinfo(np.int8).max:\n",
    "                    df[col]=df[col].astype(np.int8)\n",
    "                elif c_min > np.iinfo(np.int16).min and c_max < np.iinfo(np.int16).max:\n",
    "                    df[col]=df[col].astype(np.int16)\n",
    "                elif c_min > np.iinfo(np.int32).min and c_max < np.iinfo(np.int32).max:\n",
    "                    df[col]=df[col].astype(np.int32)\n",
    "                elif c_min > np.iinfo(np.int64).min and c_max < np.iinfo(np.int64).max:\n",
    "                    df[col]=df[col].astype(np.int64)\n",
    "        else:\n",
    "            if c_min > np.finfo(np.float16).min and c_max < np.finfo(np.float16).max:\n",
    "                df[col]=df[col].astype(np.float16)\n",
    "            elif c_min > np.finfo(np.float32).min and c_max <np.finfo(np.finfo32).max:\n",
    "                df[col]=df[col].astype(np.float32)\n",
    "            elif c_min > np.finfo(np.float64).min and c_max < np.finfo(np.finfo64).max:\n",
    "                df[col]=df[col].astype(np.float64)\n",
    "    end_mem=df.memory_usage().sum()/1024**2\n",
    "    print(\"压缩前:\",start_mem)\n",
    "    print(\"压缩后：\",end_mem)\n",
    "    return df"
   ]
  },
  {
   "cell_type": "code",
   "execution_count": 73,
   "metadata": {},
   "outputs": [
    {
     "name": "stdout",
     "output_type": "stream",
     "text": [
      "压缩前: 5.9708251953125\n",
      "压缩后： 1.7415771484375\n",
      "压缩前: 5.984855651855469\n",
      "压缩后： 3.4912166595458984\n",
      "压缩前: 9.708602905273438\n",
      "压缩后： 8.090522766113281\n",
      "压缩前: 2933.3292083740234\n",
      "压缩后： 1204.7602825164795\n"
     ]
    }
   ],
   "source": [
    "train_data=reduce_mem_usage(train_data)\n",
    "test_data=reduce_mem_usage(test_data)\n",
    "user_info=reduce_mem_usage(user_info)\n",
    "user_log=reduce_mem_usage(user_log)"
   ]
  },
  {
   "cell_type": "code",
   "execution_count": 74,
   "metadata": {},
   "outputs": [],
   "source": [
    "user_log=user_log.sort_values([\"user_id\",\"time_stamp\"])"
   ]
  },
  {
   "cell_type": "code",
   "execution_count": 75,
   "metadata": {},
   "outputs": [],
   "source": [
    "all_data=train_data.append(test_data)"
   ]
  },
  {
   "cell_type": "code",
   "execution_count": 76,
   "metadata": {},
   "outputs": [
    {
     "data": {
      "text/html": [
       "<div>\n",
       "<style scoped>\n",
       "    .dataframe tbody tr th:only-of-type {\n",
       "        vertical-align: middle;\n",
       "    }\n",
       "\n",
       "    .dataframe tbody tr th {\n",
       "        vertical-align: top;\n",
       "    }\n",
       "\n",
       "    .dataframe thead th {\n",
       "        text-align: right;\n",
       "    }\n",
       "</style>\n",
       "<table border=\"1\" class=\"dataframe\">\n",
       "  <thead>\n",
       "    <tr style=\"text-align: right;\">\n",
       "      <th></th>\n",
       "      <th>user_id</th>\n",
       "      <th>merchant_id</th>\n",
       "      <th>label</th>\n",
       "      <th>prob</th>\n",
       "      <th>age_range</th>\n",
       "      <th>gender</th>\n",
       "    </tr>\n",
       "  </thead>\n",
       "  <tbody>\n",
       "    <tr>\n",
       "      <th>0</th>\n",
       "      <td>34176</td>\n",
       "      <td>3906</td>\n",
       "      <td>0.0</td>\n",
       "      <td>NaN</td>\n",
       "      <td>6.0</td>\n",
       "      <td>0.0</td>\n",
       "    </tr>\n",
       "  </tbody>\n",
       "</table>\n",
       "</div>"
      ],
      "text/plain": [
       "   user_id  merchant_id  label  prob  age_range  gender\n",
       "0    34176         3906    0.0   NaN        6.0     0.0"
      ]
     },
     "execution_count": 76,
     "metadata": {},
     "output_type": "execute_result"
    }
   ],
   "source": [
    "all_data=all_data.merge(user_info,on=\"user_id\",how=\"left\")\n",
    "all_data.head(1)"
   ]
  },
  {
   "cell_type": "code",
   "execution_count": 77,
   "metadata": {},
   "outputs": [],
   "source": [
    "list_join_func=lambda x:\" \".join([str(i) for i in x])"
   ]
  },
  {
   "cell_type": "code",
   "execution_count": 78,
   "metadata": {},
   "outputs": [],
   "source": [
    "agg_dict={\n",
    "    \"item_id\":list_join_func,\n",
    "    \"cat_id\":list_join_func,\n",
    "    \"seller_id\":list_join_func,\n",
    "    \"brand_id\":list_join_func,\n",
    "    \"time_stamp\":list_join_func,\n",
    "    \"action_type\":list_join_func\n",
    "}"
   ]
  },
  {
   "cell_type": "code",
   "execution_count": 79,
   "metadata": {},
   "outputs": [],
   "source": [
    "rename_dict={\n",
    "    \"item_id\":\"item_path\",\n",
    "    \"cat_id\":\"cat_path\",\n",
    "    \"seller_id\":\"seller_path\",\n",
    "    \"brand_id\":\"brand_path\",\n",
    "    \"time_stamp\":\"time_stamp_path\",\n",
    "    \"action_type\":\"action_type_path\"\n",
    "}"
   ]
  },
  {
   "cell_type": "code",
   "execution_count": 80,
   "metadata": {},
   "outputs": [
    {
     "data": {
      "text/html": [
       "<div>\n",
       "<style scoped>\n",
       "    .dataframe tbody tr th:only-of-type {\n",
       "        vertical-align: middle;\n",
       "    }\n",
       "\n",
       "    .dataframe tbody tr th {\n",
       "        vertical-align: top;\n",
       "    }\n",
       "\n",
       "    .dataframe thead th {\n",
       "        text-align: right;\n",
       "    }\n",
       "</style>\n",
       "<table border=\"1\" class=\"dataframe\">\n",
       "  <thead>\n",
       "    <tr style=\"text-align: right;\">\n",
       "      <th></th>\n",
       "      <th>user_id</th>\n",
       "      <th>merchant_id</th>\n",
       "      <th>label</th>\n",
       "      <th>prob</th>\n",
       "      <th>item_path</th>\n",
       "      <th>cat_path</th>\n",
       "      <th>seller_path</th>\n",
       "      <th>brand_path</th>\n",
       "      <th>time_stamp_path</th>\n",
       "      <th>action_type_path</th>\n",
       "    </tr>\n",
       "  </thead>\n",
       "  <tbody>\n",
       "    <tr>\n",
       "      <th>0</th>\n",
       "      <td>34176</td>\n",
       "      <td>3906</td>\n",
       "      <td>0.0</td>\n",
       "      <td>NaN</td>\n",
       "      <td>581818 879005 581818 581818 1011673 52343 2773...</td>\n",
       "      <td>1505 662 1505 1505 1505 662 1095 1505 662 1095...</td>\n",
       "      <td>416 3606 416 416 416 3760 3606 416 1926 3004 4...</td>\n",
       "      <td>4014.0 33.0 4014.0 4014.0 4014.0 3738.0 33.0 4...</td>\n",
       "      <td>521 521 521 521 521 521 521 521 521 521 521 52...</td>\n",
       "      <td>0 0 0 0 0 0 0 0 0 0 0 0 0 2 0 0 0 0 0 0 2 0 2 ...</td>\n",
       "    </tr>\n",
       "  </tbody>\n",
       "</table>\n",
       "</div>"
      ],
      "text/plain": [
       "   user_id  merchant_id  label  prob                                          item_path                                           cat_path                                        seller_path                                         brand_path                                    time_stamp_path                                   action_type_path\n",
       "0    34176         3906    0.0   NaN  581818 879005 581818 581818 1011673 52343 2773...  1505 662 1505 1505 1505 662 1095 1505 662 1095...  416 3606 416 416 416 3760 3606 416 1926 3004 4...  4014.0 33.0 4014.0 4014.0 4014.0 3738.0 33.0 4...  521 521 521 521 521 521 521 521 521 521 521 52...  0 0 0 0 0 0 0 0 0 0 0 0 0 2 0 0 0 0 0 0 2 0 2 ..."
      ]
     },
     "execution_count": 80,
     "metadata": {},
     "output_type": "execute_result"
    }
   ],
   "source": [
    "user_log_path=user_log.groupby(\"user_id\").agg(agg_dict).reset_index().rename(columns=rename_dict)\n",
    "all_data_path.head(1)"
   ]
  },
  {
   "cell_type": "code",
   "execution_count": 81,
   "metadata": {},
   "outputs": [
    {
     "data": {
      "text/html": [
       "<div>\n",
       "<style scoped>\n",
       "    .dataframe tbody tr th:only-of-type {\n",
       "        vertical-align: middle;\n",
       "    }\n",
       "\n",
       "    .dataframe tbody tr th {\n",
       "        vertical-align: top;\n",
       "    }\n",
       "\n",
       "    .dataframe thead th {\n",
       "        text-align: right;\n",
       "    }\n",
       "</style>\n",
       "<table border=\"1\" class=\"dataframe\">\n",
       "  <thead>\n",
       "    <tr style=\"text-align: right;\">\n",
       "      <th></th>\n",
       "      <th>user_id</th>\n",
       "      <th>item_path</th>\n",
       "      <th>cat_path</th>\n",
       "      <th>seller_path</th>\n",
       "      <th>brand_path</th>\n",
       "      <th>time_stamp_path</th>\n",
       "      <th>action_type_path</th>\n",
       "    </tr>\n",
       "  </thead>\n",
       "  <tbody>\n",
       "    <tr>\n",
       "      <th>0</th>\n",
       "      <td>1</td>\n",
       "      <td>181459 779078 779078 452837 543397 504149 5041...</td>\n",
       "      <td>276 276 276 276 276 1023 1023 1023 1023 1252 1...</td>\n",
       "      <td>2245 2245 2245 2245 2245 925 925 925 925 4026 ...</td>\n",
       "      <td>4750.0 4750.0 4750.0 4750.0 4750.0 7402.0 7402...</td>\n",
       "      <td>1009 1009 1009 1009 1009 1011 1011 1011 1011 1...</td>\n",
       "      <td>0 0 0 0 0 0 0 2 0 0 0 0 0 0 2 0 0 0 0 0 0 2 2 ...</td>\n",
       "    </tr>\n",
       "  </tbody>\n",
       "</table>\n",
       "</div>"
      ],
      "text/plain": [
       "   user_id                                          item_path                                           cat_path                                        seller_path                                         brand_path                                    time_stamp_path                                   action_type_path\n",
       "0        1  181459 779078 779078 452837 543397 504149 5041...  276 276 276 276 276 1023 1023 1023 1023 1252 1...  2245 2245 2245 2245 2245 925 925 925 925 4026 ...  4750.0 4750.0 4750.0 4750.0 4750.0 7402.0 7402...  1009 1009 1009 1009 1009 1011 1011 1011 1011 1...  0 0 0 0 0 0 0 2 0 0 0 0 0 0 2 0 0 0 0 0 0 2 2 ..."
      ]
     },
     "execution_count": 81,
     "metadata": {},
     "output_type": "execute_result"
    }
   ],
   "source": [
    "user_log_path=user_log_path.drop_duplicates(\"user_id\")\n",
    "user_log_path.head(1)"
   ]
  },
  {
   "cell_type": "code",
   "execution_count": 82,
   "metadata": {},
   "outputs": [
    {
     "data": {
      "text/html": [
       "<div>\n",
       "<style scoped>\n",
       "    .dataframe tbody tr th:only-of-type {\n",
       "        vertical-align: middle;\n",
       "    }\n",
       "\n",
       "    .dataframe tbody tr th {\n",
       "        vertical-align: top;\n",
       "    }\n",
       "\n",
       "    .dataframe thead th {\n",
       "        text-align: right;\n",
       "    }\n",
       "</style>\n",
       "<table border=\"1\" class=\"dataframe\">\n",
       "  <thead>\n",
       "    <tr style=\"text-align: right;\">\n",
       "      <th></th>\n",
       "      <th>user_id</th>\n",
       "      <th>merchant_id</th>\n",
       "      <th>label</th>\n",
       "      <th>prob</th>\n",
       "      <th>age_range</th>\n",
       "      <th>gender</th>\n",
       "      <th>item_path</th>\n",
       "      <th>cat_path</th>\n",
       "      <th>seller_path</th>\n",
       "      <th>brand_path</th>\n",
       "      <th>time_stamp_path</th>\n",
       "      <th>action_type_path</th>\n",
       "    </tr>\n",
       "  </thead>\n",
       "  <tbody>\n",
       "    <tr>\n",
       "      <th>0</th>\n",
       "      <td>34176</td>\n",
       "      <td>3906</td>\n",
       "      <td>0.0</td>\n",
       "      <td>NaN</td>\n",
       "      <td>6.0</td>\n",
       "      <td>0.0</td>\n",
       "      <td>581818 879005 581818 581818 1011673 52343 2773...</td>\n",
       "      <td>1505 662 1505 1505 1505 662 1095 1505 662 1095...</td>\n",
       "      <td>416 3606 416 416 416 3760 3606 416 1926 3004 4...</td>\n",
       "      <td>4014.0 33.0 4014.0 4014.0 4014.0 3738.0 33.0 4...</td>\n",
       "      <td>521 521 521 521 521 521 521 521 521 521 521 52...</td>\n",
       "      <td>0 0 0 0 0 0 0 0 0 0 0 0 0 2 0 0 0 0 0 0 2 0 2 ...</td>\n",
       "    </tr>\n",
       "  </tbody>\n",
       "</table>\n",
       "</div>"
      ],
      "text/plain": [
       "   user_id  merchant_id  label  prob  age_range  gender                                          item_path                                           cat_path                                        seller_path                                         brand_path                                    time_stamp_path                                   action_type_path\n",
       "0    34176         3906    0.0   NaN        6.0     0.0  581818 879005 581818 581818 1011673 52343 2773...  1505 662 1505 1505 1505 662 1095 1505 662 1095...  416 3606 416 416 416 3760 3606 416 1926 3004 4...  4014.0 33.0 4014.0 4014.0 4014.0 3738.0 33.0 4...  521 521 521 521 521 521 521 521 521 521 521 52...  0 0 0 0 0 0 0 0 0 0 0 0 0 2 0 0 0 0 0 0 2 0 2 ..."
      ]
     },
     "execution_count": 82,
     "metadata": {},
     "output_type": "execute_result"
    }
   ],
   "source": [
    "all_data_path=all_data.merge(user_log_path,on=\"user_id\")\n",
    "all_data_path.head(1)"
   ]
  },
  {
   "cell_type": "code",
   "execution_count": 83,
   "metadata": {},
   "outputs": [
    {
     "data": {
      "text/plain": [
       "(522341, 12)"
      ]
     },
     "execution_count": 83,
     "metadata": {},
     "output_type": "execute_result"
    }
   ],
   "source": [
    "all_data_path.shape"
   ]
  },
  {
   "cell_type": "code",
   "execution_count": 84,
   "metadata": {},
   "outputs": [
    {
     "data": {
      "text/plain": [
       "(424170, 12)"
      ]
     },
     "execution_count": 84,
     "metadata": {},
     "output_type": "execute_result"
    }
   ],
   "source": [
    "all_data_path=all_data_path.drop_duplicates(\"user_id\")\n",
    "all_data_path.shape"
   ]
  },
  {
   "cell_type": "code",
   "execution_count": 85,
   "metadata": {},
   "outputs": [],
   "source": [
    "all_data_test=all_data_path.head(2000)"
   ]
  },
  {
   "cell_type": "code",
   "execution_count": 86,
   "metadata": {},
   "outputs": [],
   "source": [
    "def cnt_(x):\n",
    "    try:\n",
    "        return len(x.split(\" \"))\n",
    "    except:\n",
    "        return -1"
   ]
  },
  {
   "cell_type": "code",
   "execution_count": 87,
   "metadata": {},
   "outputs": [],
   "source": [
    "def nunique_(x):\n",
    "    try:\n",
    "        return len(set(x.split(\" \")))\n",
    "    except:\n",
    "        return -1"
   ]
  },
  {
   "cell_type": "code",
   "execution_count": 88,
   "metadata": {},
   "outputs": [],
   "source": [
    "def max_(x):\n",
    "    try:\n",
    "        return np.max([int(i) for i in x.split(\" \")])\n",
    "    except:\n",
    "        return -1"
   ]
  },
  {
   "cell_type": "code",
   "execution_count": 89,
   "metadata": {},
   "outputs": [],
   "source": [
    "def min_(x):\n",
    "    try:\n",
    "        return np.min([int(i) for i in x.split(\" \")])\n",
    "    except:\n",
    "        return -1"
   ]
  },
  {
   "cell_type": "code",
   "execution_count": 90,
   "metadata": {},
   "outputs": [],
   "source": [
    "def user_cnt(df_data,single_col,name):\n",
    "    df_data[name]=df_data[single_col].apply(cnt_)\n",
    "    return df_data"
   ]
  },
  {
   "cell_type": "code",
   "execution_count": 91,
   "metadata": {},
   "outputs": [],
   "source": [
    "def user_nunique(df_data,single_col,name):\n",
    "    df_data[name]=df_data[single_col].apply(nunique_)\n",
    "    return df_data"
   ]
  },
  {
   "cell_type": "code",
   "execution_count": 92,
   "metadata": {},
   "outputs": [],
   "source": [
    "def user_max(df_data,single_col,name):\n",
    "    df_data[name]=df_data[single_col].apply(max_)\n",
    "    return df_data"
   ]
  },
  {
   "cell_type": "code",
   "execution_count": 93,
   "metadata": {},
   "outputs": [],
   "source": [
    "def user_min(df_data,single_col,name):\n",
    "    df_data[name]=df_data[single_col].apply(min_)\n",
    "    return df_data"
   ]
  },
  {
   "cell_type": "code",
   "execution_count": 94,
   "metadata": {},
   "outputs": [
    {
     "data": {
      "text/html": [
       "<div>\n",
       "<style scoped>\n",
       "    .dataframe tbody tr th:only-of-type {\n",
       "        vertical-align: middle;\n",
       "    }\n",
       "\n",
       "    .dataframe tbody tr th {\n",
       "        vertical-align: top;\n",
       "    }\n",
       "\n",
       "    .dataframe thead th {\n",
       "        text-align: right;\n",
       "    }\n",
       "</style>\n",
       "<table border=\"1\" class=\"dataframe\">\n",
       "  <thead>\n",
       "    <tr style=\"text-align: right;\">\n",
       "      <th></th>\n",
       "      <th>user_id</th>\n",
       "      <th>merchant_id</th>\n",
       "      <th>label</th>\n",
       "      <th>prob</th>\n",
       "      <th>age_range</th>\n",
       "      <th>gender</th>\n",
       "      <th>item_path</th>\n",
       "      <th>cat_path</th>\n",
       "      <th>seller_path</th>\n",
       "      <th>brand_path</th>\n",
       "      <th>time_stamp_path</th>\n",
       "      <th>action_type_path</th>\n",
       "      <th>user_cnt</th>\n",
       "    </tr>\n",
       "  </thead>\n",
       "  <tbody>\n",
       "    <tr>\n",
       "      <th>0</th>\n",
       "      <td>34176</td>\n",
       "      <td>3906</td>\n",
       "      <td>0.0</td>\n",
       "      <td>NaN</td>\n",
       "      <td>6.0</td>\n",
       "      <td>0.0</td>\n",
       "      <td>581818 879005 581818 581818 1011673 52343 2773...</td>\n",
       "      <td>1505 662 1505 1505 1505 662 1095 1505 662 1095...</td>\n",
       "      <td>416 3606 416 416 416 3760 3606 416 1926 3004 4...</td>\n",
       "      <td>4014.0 33.0 4014.0 4014.0 4014.0 3738.0 33.0 4...</td>\n",
       "      <td>521 521 521 521 521 521 521 521 521 521 521 52...</td>\n",
       "      <td>0 0 0 0 0 0 0 0 0 0 0 0 0 2 0 0 0 0 0 0 2 0 2 ...</td>\n",
       "      <td>451</td>\n",
       "    </tr>\n",
       "  </tbody>\n",
       "</table>\n",
       "</div>"
      ],
      "text/plain": [
       "   user_id  merchant_id  label  prob  age_range  gender                                          item_path                                           cat_path                                        seller_path                                         brand_path                                    time_stamp_path                                   action_type_path  user_cnt\n",
       "0    34176         3906    0.0   NaN        6.0     0.0  581818 879005 581818 581818 1011673 52343 2773...  1505 662 1505 1505 1505 662 1095 1505 662 1095...  416 3606 416 416 416 3760 3606 416 1926 3004 4...  4014.0 33.0 4014.0 4014.0 4014.0 3738.0 33.0 4...  521 521 521 521 521 521 521 521 521 521 521 52...  0 0 0 0 0 0 0 0 0 0 0 0 0 2 0 0 0 0 0 0 2 0 2 ...       451"
      ]
     },
     "execution_count": 94,
     "metadata": {},
     "output_type": "execute_result"
    }
   ],
   "source": [
    "all_data_test=user_cnt(all_data_test,\"seller_path\",\"user_cnt\")\n",
    "all_data_test.head(1)"
   ]
  },
  {
   "cell_type": "code",
   "execution_count": 95,
   "metadata": {},
   "outputs": [
    {
     "data": {
      "text/html": [
       "<div>\n",
       "<style scoped>\n",
       "    .dataframe tbody tr th:only-of-type {\n",
       "        vertical-align: middle;\n",
       "    }\n",
       "\n",
       "    .dataframe tbody tr th {\n",
       "        vertical-align: top;\n",
       "    }\n",
       "\n",
       "    .dataframe thead th {\n",
       "        text-align: right;\n",
       "    }\n",
       "</style>\n",
       "<table border=\"1\" class=\"dataframe\">\n",
       "  <thead>\n",
       "    <tr style=\"text-align: right;\">\n",
       "      <th></th>\n",
       "      <th>user_id</th>\n",
       "      <th>merchant_id</th>\n",
       "      <th>label</th>\n",
       "      <th>prob</th>\n",
       "      <th>age_range</th>\n",
       "      <th>gender</th>\n",
       "      <th>item_path</th>\n",
       "      <th>cat_path</th>\n",
       "      <th>seller_path</th>\n",
       "      <th>brand_path</th>\n",
       "      <th>time_stamp_path</th>\n",
       "      <th>action_type_path</th>\n",
       "      <th>user_cnt</th>\n",
       "      <th>seller_nunique</th>\n",
       "    </tr>\n",
       "  </thead>\n",
       "  <tbody>\n",
       "    <tr>\n",
       "      <th>0</th>\n",
       "      <td>34176</td>\n",
       "      <td>3906</td>\n",
       "      <td>0.0</td>\n",
       "      <td>NaN</td>\n",
       "      <td>6.0</td>\n",
       "      <td>0.0</td>\n",
       "      <td>581818 879005 581818 581818 1011673 52343 2773...</td>\n",
       "      <td>1505 662 1505 1505 1505 662 1095 1505 662 1095...</td>\n",
       "      <td>416 3606 416 416 416 3760 3606 416 1926 3004 4...</td>\n",
       "      <td>4014.0 33.0 4014.0 4014.0 4014.0 3738.0 33.0 4...</td>\n",
       "      <td>521 521 521 521 521 521 521 521 521 521 521 52...</td>\n",
       "      <td>0 0 0 0 0 0 0 0 0 0 0 0 0 2 0 0 0 0 0 0 2 0 2 ...</td>\n",
       "      <td>451</td>\n",
       "      <td>109</td>\n",
       "    </tr>\n",
       "  </tbody>\n",
       "</table>\n",
       "</div>"
      ],
      "text/plain": [
       "   user_id  merchant_id  label  prob  age_range  gender                                          item_path                                           cat_path                                        seller_path                                         brand_path                                    time_stamp_path                                   action_type_path  user_cnt  seller_nunique\n",
       "0    34176         3906    0.0   NaN        6.0     0.0  581818 879005 581818 581818 1011673 52343 2773...  1505 662 1505 1505 1505 662 1095 1505 662 1095...  416 3606 416 416 416 3760 3606 416 1926 3004 4...  4014.0 33.0 4014.0 4014.0 4014.0 3738.0 33.0 4...  521 521 521 521 521 521 521 521 521 521 521 52...  0 0 0 0 0 0 0 0 0 0 0 0 0 2 0 0 0 0 0 0 2 0 2 ...       451             109"
      ]
     },
     "execution_count": 95,
     "metadata": {},
     "output_type": "execute_result"
    }
   ],
   "source": [
    "all_data_test=user_nunique(all_data_test,\"seller_path\",\"seller_nunique\")\n",
    "all_data_test.head(1)"
   ]
  },
  {
   "cell_type": "code",
   "execution_count": 96,
   "metadata": {},
   "outputs": [
    {
     "data": {
      "text/html": [
       "<div>\n",
       "<style scoped>\n",
       "    .dataframe tbody tr th:only-of-type {\n",
       "        vertical-align: middle;\n",
       "    }\n",
       "\n",
       "    .dataframe tbody tr th {\n",
       "        vertical-align: top;\n",
       "    }\n",
       "\n",
       "    .dataframe thead th {\n",
       "        text-align: right;\n",
       "    }\n",
       "</style>\n",
       "<table border=\"1\" class=\"dataframe\">\n",
       "  <thead>\n",
       "    <tr style=\"text-align: right;\">\n",
       "      <th></th>\n",
       "      <th>user_id</th>\n",
       "      <th>merchant_id</th>\n",
       "      <th>label</th>\n",
       "      <th>prob</th>\n",
       "      <th>age_range</th>\n",
       "      <th>gender</th>\n",
       "      <th>item_path</th>\n",
       "      <th>cat_path</th>\n",
       "      <th>seller_path</th>\n",
       "      <th>brand_path</th>\n",
       "      <th>time_stamp_path</th>\n",
       "      <th>action_type_path</th>\n",
       "      <th>user_cnt</th>\n",
       "      <th>seller_nunique</th>\n",
       "      <th>cat_nunique</th>\n",
       "    </tr>\n",
       "  </thead>\n",
       "  <tbody>\n",
       "    <tr>\n",
       "      <th>0</th>\n",
       "      <td>34176</td>\n",
       "      <td>3906</td>\n",
       "      <td>0.0</td>\n",
       "      <td>NaN</td>\n",
       "      <td>6.0</td>\n",
       "      <td>0.0</td>\n",
       "      <td>581818 879005 581818 581818 1011673 52343 2773...</td>\n",
       "      <td>1505 662 1505 1505 1505 662 1095 1505 662 1095...</td>\n",
       "      <td>416 3606 416 416 416 3760 3606 416 1926 3004 4...</td>\n",
       "      <td>4014.0 33.0 4014.0 4014.0 4014.0 3738.0 33.0 4...</td>\n",
       "      <td>521 521 521 521 521 521 521 521 521 521 521 52...</td>\n",
       "      <td>0 0 0 0 0 0 0 0 0 0 0 0 0 2 0 0 0 0 0 0 2 0 2 ...</td>\n",
       "      <td>451</td>\n",
       "      <td>109</td>\n",
       "      <td>45</td>\n",
       "    </tr>\n",
       "  </tbody>\n",
       "</table>\n",
       "</div>"
      ],
      "text/plain": [
       "   user_id  merchant_id  label  prob  age_range  gender                                          item_path                                           cat_path                                        seller_path                                         brand_path                                    time_stamp_path                                   action_type_path  user_cnt  seller_nunique  cat_nunique\n",
       "0    34176         3906    0.0   NaN        6.0     0.0  581818 879005 581818 581818 1011673 52343 2773...  1505 662 1505 1505 1505 662 1095 1505 662 1095...  416 3606 416 416 416 3760 3606 416 1926 3004 4...  4014.0 33.0 4014.0 4014.0 4014.0 3738.0 33.0 4...  521 521 521 521 521 521 521 521 521 521 521 52...  0 0 0 0 0 0 0 0 0 0 0 0 0 2 0 0 0 0 0 0 2 0 2 ...       451             109           45"
      ]
     },
     "execution_count": 96,
     "metadata": {},
     "output_type": "execute_result"
    }
   ],
   "source": [
    "all_data_test=user_nunique(all_data_test,\"cat_path\",\"cat_nunique\")\n",
    "all_data_test.head(1)"
   ]
  },
  {
   "cell_type": "code",
   "execution_count": 97,
   "metadata": {},
   "outputs": [
    {
     "data": {
      "text/html": [
       "<div>\n",
       "<style scoped>\n",
       "    .dataframe tbody tr th:only-of-type {\n",
       "        vertical-align: middle;\n",
       "    }\n",
       "\n",
       "    .dataframe tbody tr th {\n",
       "        vertical-align: top;\n",
       "    }\n",
       "\n",
       "    .dataframe thead th {\n",
       "        text-align: right;\n",
       "    }\n",
       "</style>\n",
       "<table border=\"1\" class=\"dataframe\">\n",
       "  <thead>\n",
       "    <tr style=\"text-align: right;\">\n",
       "      <th></th>\n",
       "      <th>user_id</th>\n",
       "      <th>merchant_id</th>\n",
       "      <th>label</th>\n",
       "      <th>prob</th>\n",
       "      <th>age_range</th>\n",
       "      <th>gender</th>\n",
       "      <th>item_path</th>\n",
       "      <th>cat_path</th>\n",
       "      <th>seller_path</th>\n",
       "      <th>brand_path</th>\n",
       "      <th>time_stamp_path</th>\n",
       "      <th>action_type_path</th>\n",
       "      <th>user_cnt</th>\n",
       "      <th>seller_nunique</th>\n",
       "      <th>cat_nunique</th>\n",
       "      <th>brand_nunique</th>\n",
       "    </tr>\n",
       "  </thead>\n",
       "  <tbody>\n",
       "    <tr>\n",
       "      <th>0</th>\n",
       "      <td>34176</td>\n",
       "      <td>3906</td>\n",
       "      <td>0.0</td>\n",
       "      <td>NaN</td>\n",
       "      <td>6.0</td>\n",
       "      <td>0.0</td>\n",
       "      <td>581818 879005 581818 581818 1011673 52343 2773...</td>\n",
       "      <td>1505 662 1505 1505 1505 662 1095 1505 662 1095...</td>\n",
       "      <td>416 3606 416 416 416 3760 3606 416 1926 3004 4...</td>\n",
       "      <td>4014.0 33.0 4014.0 4014.0 4014.0 3738.0 33.0 4...</td>\n",
       "      <td>521 521 521 521 521 521 521 521 521 521 521 52...</td>\n",
       "      <td>0 0 0 0 0 0 0 0 0 0 0 0 0 2 0 0 0 0 0 0 2 0 2 ...</td>\n",
       "      <td>451</td>\n",
       "      <td>109</td>\n",
       "      <td>45</td>\n",
       "      <td>108</td>\n",
       "    </tr>\n",
       "  </tbody>\n",
       "</table>\n",
       "</div>"
      ],
      "text/plain": [
       "   user_id  merchant_id  label  prob  age_range  gender                                          item_path                                           cat_path                                        seller_path                                         brand_path                                    time_stamp_path                                   action_type_path  user_cnt  seller_nunique  cat_nunique  brand_nunique\n",
       "0    34176         3906    0.0   NaN        6.0     0.0  581818 879005 581818 581818 1011673 52343 2773...  1505 662 1505 1505 1505 662 1095 1505 662 1095...  416 3606 416 416 416 3760 3606 416 1926 3004 4...  4014.0 33.0 4014.0 4014.0 4014.0 3738.0 33.0 4...  521 521 521 521 521 521 521 521 521 521 521 52...  0 0 0 0 0 0 0 0 0 0 0 0 0 2 0 0 0 0 0 0 2 0 2 ...       451             109           45            108"
      ]
     },
     "execution_count": 97,
     "metadata": {},
     "output_type": "execute_result"
    }
   ],
   "source": [
    "all_data_test=user_nunique(all_data_test,\"brand_path\",\"brand_nunique\")\n",
    "all_data_test.head(1)"
   ]
  },
  {
   "cell_type": "code",
   "execution_count": 98,
   "metadata": {},
   "outputs": [
    {
     "data": {
      "text/html": [
       "<div>\n",
       "<style scoped>\n",
       "    .dataframe tbody tr th:only-of-type {\n",
       "        vertical-align: middle;\n",
       "    }\n",
       "\n",
       "    .dataframe tbody tr th {\n",
       "        vertical-align: top;\n",
       "    }\n",
       "\n",
       "    .dataframe thead th {\n",
       "        text-align: right;\n",
       "    }\n",
       "</style>\n",
       "<table border=\"1\" class=\"dataframe\">\n",
       "  <thead>\n",
       "    <tr style=\"text-align: right;\">\n",
       "      <th></th>\n",
       "      <th>user_id</th>\n",
       "      <th>merchant_id</th>\n",
       "      <th>label</th>\n",
       "      <th>prob</th>\n",
       "      <th>age_range</th>\n",
       "      <th>gender</th>\n",
       "      <th>item_path</th>\n",
       "      <th>cat_path</th>\n",
       "      <th>seller_path</th>\n",
       "      <th>brand_path</th>\n",
       "      <th>time_stamp_path</th>\n",
       "      <th>action_type_path</th>\n",
       "      <th>user_cnt</th>\n",
       "      <th>seller_nunique</th>\n",
       "      <th>cat_nunique</th>\n",
       "      <th>brand_nunique</th>\n",
       "      <th>time_stamp_nunique</th>\n",
       "    </tr>\n",
       "  </thead>\n",
       "  <tbody>\n",
       "    <tr>\n",
       "      <th>0</th>\n",
       "      <td>34176</td>\n",
       "      <td>3906</td>\n",
       "      <td>0.0</td>\n",
       "      <td>NaN</td>\n",
       "      <td>6.0</td>\n",
       "      <td>0.0</td>\n",
       "      <td>581818 879005 581818 581818 1011673 52343 2773...</td>\n",
       "      <td>1505 662 1505 1505 1505 662 1095 1505 662 1095...</td>\n",
       "      <td>416 3606 416 416 416 3760 3606 416 1926 3004 4...</td>\n",
       "      <td>4014.0 33.0 4014.0 4014.0 4014.0 3738.0 33.0 4...</td>\n",
       "      <td>521 521 521 521 521 521 521 521 521 521 521 52...</td>\n",
       "      <td>0 0 0 0 0 0 0 0 0 0 0 0 0 2 0 0 0 0 0 0 2 0 2 ...</td>\n",
       "      <td>451</td>\n",
       "      <td>109</td>\n",
       "      <td>45</td>\n",
       "      <td>108</td>\n",
       "      <td>47</td>\n",
       "    </tr>\n",
       "  </tbody>\n",
       "</table>\n",
       "</div>"
      ],
      "text/plain": [
       "   user_id  merchant_id  label  prob  age_range  gender                                          item_path                                           cat_path                                        seller_path                                         brand_path                                    time_stamp_path                                   action_type_path  user_cnt  seller_nunique  cat_nunique  brand_nunique  time_stamp_nunique\n",
       "0    34176         3906    0.0   NaN        6.0     0.0  581818 879005 581818 581818 1011673 52343 2773...  1505 662 1505 1505 1505 662 1095 1505 662 1095...  416 3606 416 416 416 3760 3606 416 1926 3004 4...  4014.0 33.0 4014.0 4014.0 4014.0 3738.0 33.0 4...  521 521 521 521 521 521 521 521 521 521 521 52...  0 0 0 0 0 0 0 0 0 0 0 0 0 2 0 0 0 0 0 0 2 0 2 ...       451             109           45            108                  47"
      ]
     },
     "execution_count": 98,
     "metadata": {},
     "output_type": "execute_result"
    }
   ],
   "source": [
    "all_data_test=user_nunique(all_data_test,\"time_stamp_path\",\"time_stamp_nunique\")\n",
    "all_data_test.head(1)"
   ]
  },
  {
   "cell_type": "code",
   "execution_count": 99,
   "metadata": {},
   "outputs": [
    {
     "data": {
      "text/html": [
       "<div>\n",
       "<style scoped>\n",
       "    .dataframe tbody tr th:only-of-type {\n",
       "        vertical-align: middle;\n",
       "    }\n",
       "\n",
       "    .dataframe tbody tr th {\n",
       "        vertical-align: top;\n",
       "    }\n",
       "\n",
       "    .dataframe thead th {\n",
       "        text-align: right;\n",
       "    }\n",
       "</style>\n",
       "<table border=\"1\" class=\"dataframe\">\n",
       "  <thead>\n",
       "    <tr style=\"text-align: right;\">\n",
       "      <th></th>\n",
       "      <th>user_id</th>\n",
       "      <th>merchant_id</th>\n",
       "      <th>label</th>\n",
       "      <th>prob</th>\n",
       "      <th>age_range</th>\n",
       "      <th>gender</th>\n",
       "      <th>item_path</th>\n",
       "      <th>cat_path</th>\n",
       "      <th>seller_path</th>\n",
       "      <th>brand_path</th>\n",
       "      <th>time_stamp_path</th>\n",
       "      <th>action_type_path</th>\n",
       "      <th>user_cnt</th>\n",
       "      <th>seller_nunique</th>\n",
       "      <th>cat_nunique</th>\n",
       "      <th>brand_nunique</th>\n",
       "      <th>time_stamp_nunique</th>\n",
       "      <th>action_type_nunique</th>\n",
       "    </tr>\n",
       "  </thead>\n",
       "  <tbody>\n",
       "    <tr>\n",
       "      <th>0</th>\n",
       "      <td>34176</td>\n",
       "      <td>3906</td>\n",
       "      <td>0.0</td>\n",
       "      <td>NaN</td>\n",
       "      <td>6.0</td>\n",
       "      <td>0.0</td>\n",
       "      <td>581818 879005 581818 581818 1011673 52343 2773...</td>\n",
       "      <td>1505 662 1505 1505 1505 662 1095 1505 662 1095...</td>\n",
       "      <td>416 3606 416 416 416 3760 3606 416 1926 3004 4...</td>\n",
       "      <td>4014.0 33.0 4014.0 4014.0 4014.0 3738.0 33.0 4...</td>\n",
       "      <td>521 521 521 521 521 521 521 521 521 521 521 52...</td>\n",
       "      <td>0 0 0 0 0 0 0 0 0 0 0 0 0 2 0 0 0 0 0 0 2 0 2 ...</td>\n",
       "      <td>451</td>\n",
       "      <td>109</td>\n",
       "      <td>45</td>\n",
       "      <td>108</td>\n",
       "      <td>47</td>\n",
       "      <td>3</td>\n",
       "    </tr>\n",
       "  </tbody>\n",
       "</table>\n",
       "</div>"
      ],
      "text/plain": [
       "   user_id  merchant_id  label  prob  age_range  gender                                          item_path                                           cat_path                                        seller_path                                         brand_path                                    time_stamp_path                                   action_type_path  user_cnt  seller_nunique  cat_nunique  brand_nunique  time_stamp_nunique  action_type_nunique\n",
       "0    34176         3906    0.0   NaN        6.0     0.0  581818 879005 581818 581818 1011673 52343 2773...  1505 662 1505 1505 1505 662 1095 1505 662 1095...  416 3606 416 416 416 3760 3606 416 1926 3004 4...  4014.0 33.0 4014.0 4014.0 4014.0 3738.0 33.0 4...  521 521 521 521 521 521 521 521 521 521 521 52...  0 0 0 0 0 0 0 0 0 0 0 0 0 2 0 0 0 0 0 0 2 0 2 ...       451             109           45            108                  47                    3"
      ]
     },
     "execution_count": 99,
     "metadata": {},
     "output_type": "execute_result"
    }
   ],
   "source": [
    "all_data_test=user_nunique(all_data_test,\"action_type_path\",\"action_type_nunique\")\n",
    "all_data_test.head(1)"
   ]
  },
  {
   "cell_type": "code",
   "execution_count": 102,
   "metadata": {},
   "outputs": [],
   "source": [
    "all_data_test.index=range(len(all_data_test))"
   ]
  },
  {
   "cell_type": "code",
   "execution_count": 103,
   "metadata": {},
   "outputs": [
    {
     "data": {
      "text/plain": [
       "0       0 0 0 0 0 0 0 0 0 0 0 0 0 2 0 0 0 0 0 0 2 0 2 ...\n",
       "1       0 2 0 0 0 0 0 0 0 0 0 0 0 0 0 0 2 2 0 0 0 0 0 ...\n",
       "2       0 0 2 0 0 0 0 0 0 0 0 0 0 0 0 0 0 0 0 0 0 0 0 ...\n",
       "3       0 0 0 0 0 0 0 0 0 2 0 0 0 0 0 0 0 0 0 0 2 0 0 ...\n",
       "4       0 0 2 0 2 2 0 0 0 0 0 3 3 0 0 0 2 0 0 0 0 0 0 ...\n",
       "                              ...                        \n",
       "1995    0 0 2 0 0 0 0 0 0 0 0 2 0 0 0 0 0 0 0 0 0 2 0 ...\n",
       "1996      0 0 3 0 2 0 0 0 0 2 0 0 0 2 2 2 0 0 0 0 1 0 0 0\n",
       "1997                                    0 0 0 0 0 0 2 0 0\n",
       "1998    2 2 2 2 0 0 0 0 0 0 0 0 0 2 0 3 3 0 0 0 0 0 3 ...\n",
       "1999    0 0 0 0 0 0 0 0 0 0 0 0 0 0 0 0 0 0 0 0 0 0 0 ...\n",
       "Name: action_type_path, Length: 2000, dtype: object"
      ]
     },
     "execution_count": 103,
     "metadata": {},
     "output_type": "execute_result"
    }
   ],
   "source": [
    "action_test=all_data_test[\"action_type_path\"]\n",
    "action_test"
   ]
  },
  {
   "cell_type": "code",
   "execution_count": 104,
   "metadata": {},
   "outputs": [],
   "source": [
    "action_0=[]\n",
    "action_1=[]\n",
    "action_2=[]\n",
    "action_3=[]\n",
    "for col in action_test:\n",
    "    action0=[]\n",
    "    action1=[]\n",
    "    action2=[]\n",
    "    action3=[]\n",
    "    for i in col:\n",
    "        if i==\"0\":\n",
    "            action0.append(i)\n",
    "        elif i==\"1\":\n",
    "            action1.append(i)\n",
    "        elif i==\"2\":\n",
    "            action2.append(i)\n",
    "        elif i==\"3\":\n",
    "            action3.append(i)\n",
    "    action_0.append(len(action0))\n",
    "    action_1.append(len(action1))\n",
    "    action_2.append(len(action2))\n",
    "    action_3.append(len(action3))\n"
   ]
  },
  {
   "cell_type": "code",
   "execution_count": 106,
   "metadata": {},
   "outputs": [],
   "source": [
    "action_0=pd.DataFrame(action_0)\n",
    "action_1=pd.DataFrame(action_1)\n",
    "action_2=pd.DataFrame(action_2)\n",
    "action_3=pd.DataFrame(action_3)"
   ]
  },
  {
   "cell_type": "code",
   "execution_count": 107,
   "metadata": {},
   "outputs": [],
   "source": [
    "action_0.columns=[\"action_0\"]\n",
    "action_1.columns=[\"action_1\"]\n",
    "action_2.columns=[\"action_2\"]\n",
    "action_3.columns=[\"action_3\"]"
   ]
  },
  {
   "cell_type": "code",
   "execution_count": 108,
   "metadata": {},
   "outputs": [],
   "source": [
    "all_data_test=pd.concat([all_data_test,action_0,action_1,action_2,action_3],axis=1)"
   ]
  },
  {
   "cell_type": "code",
   "execution_count": 110,
   "metadata": {},
   "outputs": [
    {
     "data": {
      "text/html": [
       "<div>\n",
       "<style scoped>\n",
       "    .dataframe tbody tr th:only-of-type {\n",
       "        vertical-align: middle;\n",
       "    }\n",
       "\n",
       "    .dataframe tbody tr th {\n",
       "        vertical-align: top;\n",
       "    }\n",
       "\n",
       "    .dataframe thead th {\n",
       "        text-align: right;\n",
       "    }\n",
       "</style>\n",
       "<table border=\"1\" class=\"dataframe\">\n",
       "  <thead>\n",
       "    <tr style=\"text-align: right;\">\n",
       "      <th></th>\n",
       "      <th>user_id</th>\n",
       "      <th>merchant_id</th>\n",
       "      <th>label</th>\n",
       "      <th>prob</th>\n",
       "      <th>age_range</th>\n",
       "      <th>gender</th>\n",
       "      <th>item_path</th>\n",
       "      <th>cat_path</th>\n",
       "      <th>seller_path</th>\n",
       "      <th>brand_path</th>\n",
       "      <th>time_stamp_path</th>\n",
       "      <th>action_type_path</th>\n",
       "      <th>user_cnt</th>\n",
       "      <th>seller_nunique</th>\n",
       "      <th>cat_nunique</th>\n",
       "      <th>brand_nunique</th>\n",
       "      <th>time_stamp_nunique</th>\n",
       "      <th>action_type_nunique</th>\n",
       "      <th>action_0</th>\n",
       "      <th>action_1</th>\n",
       "      <th>action_2</th>\n",
       "      <th>action_3</th>\n",
       "    </tr>\n",
       "  </thead>\n",
       "  <tbody>\n",
       "    <tr>\n",
       "      <th>0</th>\n",
       "      <td>34176</td>\n",
       "      <td>3906</td>\n",
       "      <td>0.0</td>\n",
       "      <td>NaN</td>\n",
       "      <td>6.0</td>\n",
       "      <td>0.0</td>\n",
       "      <td>581818 879005 581818 581818 1011673 52343 2773...</td>\n",
       "      <td>1505 662 1505 1505 1505 662 1095 1505 662 1095...</td>\n",
       "      <td>416 3606 416 416 416 3760 3606 416 1926 3004 4...</td>\n",
       "      <td>4014.0 33.0 4014.0 4014.0 4014.0 3738.0 33.0 4...</td>\n",
       "      <td>521 521 521 521 521 521 521 521 521 521 521 52...</td>\n",
       "      <td>0 0 0 0 0 0 0 0 0 0 0 0 0 2 0 0 0 0 0 0 2 0 2 ...</td>\n",
       "      <td>451</td>\n",
       "      <td>109</td>\n",
       "      <td>45</td>\n",
       "      <td>108</td>\n",
       "      <td>47</td>\n",
       "      <td>3</td>\n",
       "      <td>410</td>\n",
       "      <td>0</td>\n",
       "      <td>34</td>\n",
       "      <td>7</td>\n",
       "    </tr>\n",
       "    <tr>\n",
       "      <th>1</th>\n",
       "      <td>230784</td>\n",
       "      <td>4818</td>\n",
       "      <td>0.0</td>\n",
       "      <td>NaN</td>\n",
       "      <td>0.0</td>\n",
       "      <td>0.0</td>\n",
       "      <td>191923 191923 191923 191923 964906 229470 2294...</td>\n",
       "      <td>1023 1023 1023 1023 662 664 664 1544 664 662 6...</td>\n",
       "      <td>3545 3545 3545 3545 4566 2537 2537 2420 2537 4...</td>\n",
       "      <td>5860.0 5860.0 5860.0 5860.0 6322.0 6066.0 6066...</td>\n",
       "      <td>601 601 601 601 614 614 614 614 614 614 618 61...</td>\n",
       "      <td>0 2 0 0 0 0 0 0 0 0 0 0 0 0 0 0 2 2 0 0 0 0 0 ...</td>\n",
       "      <td>54</td>\n",
       "      <td>20</td>\n",
       "      <td>17</td>\n",
       "      <td>19</td>\n",
       "      <td>16</td>\n",
       "      <td>2</td>\n",
       "      <td>47</td>\n",
       "      <td>0</td>\n",
       "      <td>7</td>\n",
       "      <td>0</td>\n",
       "    </tr>\n",
       "    <tr>\n",
       "      <th>2</th>\n",
       "      <td>362112</td>\n",
       "      <td>2618</td>\n",
       "      <td>0.0</td>\n",
       "      <td>NaN</td>\n",
       "      <td>4.0</td>\n",
       "      <td>1.0</td>\n",
       "      <td>40772 40772 40772 537972 638737 659198 224117 ...</td>\n",
       "      <td>1188 1188 1188 1188 1188 1188 1188 1188 1021 1...</td>\n",
       "      <td>863 863 863 863 863 863 863 863 863 863 1595 8...</td>\n",
       "      <td>5820.0 5820.0 5820.0 6750.0 2229.0 5820.0 6750...</td>\n",
       "      <td>522 522 522 522 522 522 522 522 526 526 526 52...</td>\n",
       "      <td>0 0 2 0 0 0 0 0 0 0 0 0 0 0 0 0 0 0 0 0 0 0 0 ...</td>\n",
       "      <td>89</td>\n",
       "      <td>17</td>\n",
       "      <td>13</td>\n",
       "      <td>20</td>\n",
       "      <td>12</td>\n",
       "      <td>2</td>\n",
       "      <td>86</td>\n",
       "      <td>0</td>\n",
       "      <td>3</td>\n",
       "      <td>0</td>\n",
       "    </tr>\n",
       "    <tr>\n",
       "      <th>3</th>\n",
       "      <td>34944</td>\n",
       "      <td>2051</td>\n",
       "      <td>0.0</td>\n",
       "      <td>NaN</td>\n",
       "      <td>5.0</td>\n",
       "      <td>0.0</td>\n",
       "      <td>930354 947376 930354 645776 557207 947376 6809...</td>\n",
       "      <td>1252 1252 1252 1252 1252 1252 1252 1252 1252 1...</td>\n",
       "      <td>4893 4893 4893 4893 4893 4893 3172 4893 4893 4...</td>\n",
       "      <td>8031.0 8031.0 8031.0 8031.0 8031.0 8031.0 8031...</td>\n",
       "      <td>522 522 522 522 522 522 522 522 522 522 522 52...</td>\n",
       "      <td>0 0 0 0 0 0 0 0 0 2 0 0 0 0 0 0 0 0 0 0 2 0 0 ...</td>\n",
       "      <td>33</td>\n",
       "      <td>10</td>\n",
       "      <td>7</td>\n",
       "      <td>9</td>\n",
       "      <td>6</td>\n",
       "      <td>2</td>\n",
       "      <td>30</td>\n",
       "      <td>0</td>\n",
       "      <td>3</td>\n",
       "      <td>0</td>\n",
       "    </tr>\n",
       "    <tr>\n",
       "      <th>4</th>\n",
       "      <td>231552</td>\n",
       "      <td>3828</td>\n",
       "      <td>1.0</td>\n",
       "      <td>NaN</td>\n",
       "      <td>5.0</td>\n",
       "      <td>0.0</td>\n",
       "      <td>13653 631714 631714 419092 450405 419092 87382...</td>\n",
       "      <td>490 1271 1271 1252 1197 1252 656 1252 1252 119...</td>\n",
       "      <td>1922 3955 3955 3647 3647 3647 4257 3647 3647 3...</td>\n",
       "      <td>3844.0 1422.0 1422.0 3019.0 3019.0 3019.0 6742...</td>\n",
       "      <td>531 606 606 1019 1019 1019 1019 1019 1019 1019...</td>\n",
       "      <td>0 0 2 0 2 2 0 0 0 0 0 3 3 0 0 0 2 0 0 0 0 0 0 ...</td>\n",
       "      <td>155</td>\n",
       "      <td>12</td>\n",
       "      <td>25</td>\n",
       "      <td>14</td>\n",
       "      <td>7</td>\n",
       "      <td>3</td>\n",
       "      <td>141</td>\n",
       "      <td>0</td>\n",
       "      <td>12</td>\n",
       "      <td>2</td>\n",
       "    </tr>\n",
       "  </tbody>\n",
       "</table>\n",
       "</div>"
      ],
      "text/plain": [
       "   user_id  merchant_id  label  prob  age_range  gender                                          item_path                                           cat_path                                        seller_path                                         brand_path                                    time_stamp_path                                   action_type_path  user_cnt  seller_nunique  cat_nunique  brand_nunique  time_stamp_nunique  action_type_nunique  action_0  action_1  action_2  action_3\n",
       "0    34176         3906    0.0   NaN        6.0     0.0  581818 879005 581818 581818 1011673 52343 2773...  1505 662 1505 1505 1505 662 1095 1505 662 1095...  416 3606 416 416 416 3760 3606 416 1926 3004 4...  4014.0 33.0 4014.0 4014.0 4014.0 3738.0 33.0 4...  521 521 521 521 521 521 521 521 521 521 521 52...  0 0 0 0 0 0 0 0 0 0 0 0 0 2 0 0 0 0 0 0 2 0 2 ...       451             109           45            108                  47                    3       410         0        34         7\n",
       "1   230784         4818    0.0   NaN        0.0     0.0  191923 191923 191923 191923 964906 229470 2294...  1023 1023 1023 1023 662 664 664 1544 664 662 6...  3545 3545 3545 3545 4566 2537 2537 2420 2537 4...  5860.0 5860.0 5860.0 5860.0 6322.0 6066.0 6066...  601 601 601 601 614 614 614 614 614 614 618 61...  0 2 0 0 0 0 0 0 0 0 0 0 0 0 0 0 2 2 0 0 0 0 0 ...        54              20           17             19                  16                    2        47         0         7         0\n",
       "2   362112         2618    0.0   NaN        4.0     1.0  40772 40772 40772 537972 638737 659198 224117 ...  1188 1188 1188 1188 1188 1188 1188 1188 1021 1...  863 863 863 863 863 863 863 863 863 863 1595 8...  5820.0 5820.0 5820.0 6750.0 2229.0 5820.0 6750...  522 522 522 522 522 522 522 522 526 526 526 52...  0 0 2 0 0 0 0 0 0 0 0 0 0 0 0 0 0 0 0 0 0 0 0 ...        89              17           13             20                  12                    2        86         0         3         0\n",
       "3    34944         2051    0.0   NaN        5.0     0.0  930354 947376 930354 645776 557207 947376 6809...  1252 1252 1252 1252 1252 1252 1252 1252 1252 1...  4893 4893 4893 4893 4893 4893 3172 4893 4893 4...  8031.0 8031.0 8031.0 8031.0 8031.0 8031.0 8031...  522 522 522 522 522 522 522 522 522 522 522 52...  0 0 0 0 0 0 0 0 0 2 0 0 0 0 0 0 0 0 0 0 2 0 0 ...        33              10            7              9                   6                    2        30         0         3         0\n",
       "4   231552         3828    1.0   NaN        5.0     0.0  13653 631714 631714 419092 450405 419092 87382...  490 1271 1271 1252 1197 1252 656 1252 1252 119...  1922 3955 3955 3647 3647 3647 4257 3647 3647 3...  3844.0 1422.0 1422.0 3019.0 3019.0 3019.0 6742...  531 606 606 1019 1019 1019 1019 1019 1019 1019...  0 0 2 0 2 2 0 0 0 0 0 3 3 0 0 0 2 0 0 0 0 0 0 ...       155              12           25             14                   7                    3       141         0        12         2"
      ]
     },
     "execution_count": 110,
     "metadata": {},
     "output_type": "execute_result"
    }
   ],
   "source": [
    "all_data_test.head()"
   ]
  },
  {
   "cell_type": "code",
   "execution_count": null,
   "metadata": {},
   "outputs": [],
   "source": []
  }
 ],
 "metadata": {
  "kernelspec": {
   "display_name": "Python 3.8.3 64-bit ('base': conda)",
   "language": "python",
   "name": "python38364bitbasecondad9bd0a7157c84fa7bace955ad09d0846"
  },
  "language_info": {
   "codemirror_mode": {
    "name": "ipython",
    "version": 3
   },
   "file_extension": ".py",
   "mimetype": "text/x-python",
   "name": "python",
   "nbconvert_exporter": "python",
   "pygments_lexer": "ipython3",
   "version": "3.8.3"
  }
 },
 "nbformat": 4,
 "nbformat_minor": 4
}
