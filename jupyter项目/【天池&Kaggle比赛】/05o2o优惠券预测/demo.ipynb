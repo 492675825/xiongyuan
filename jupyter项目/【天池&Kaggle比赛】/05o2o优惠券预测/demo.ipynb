{
 "metadata": {
  "language_info": {
   "codemirror_mode": {
    "name": "ipython",
    "version": 3
   },
   "file_extension": ".py",
   "mimetype": "text/x-python",
   "name": "python",
   "nbconvert_exporter": "python",
   "pygments_lexer": "ipython3",
   "version": "3.8.3-final"
  },
  "orig_nbformat": 2,
  "kernelspec": {
   "name": "python3",
   "display_name": "Python 3"
  }
 },
 "nbformat": 4,
 "nbformat_minor": 2,
 "cells": [
  {
   "cell_type": "code",
   "execution_count": 1,
   "metadata": {},
   "outputs": [],
   "source": [
    "import pandas as pd \n",
    "import numpy as np \n",
    "import matplotlib.pyplot as plt\n",
    "import seaborn as sns"
   ]
  },
  {
   "cell_type": "code",
   "execution_count": 2,
   "metadata": {},
   "outputs": [],
   "source": [
    "pd.set_option(\"display.max_column\",100)\n",
    "pd.set_option(\"expand_frame_repr\",False)"
   ]
  },
  {
   "cell_type": "code",
   "execution_count": 3,
   "metadata": {},
   "outputs": [],
   "source": [
    "off_train_file=r\"D:\\dataset\\o2o\\ccf_offline_stage1_train.csv\"\n",
    "off_test_file=r\"D:\\dataset\\o2o\\ccf_offline_stage1_test_revised.csv\"\n",
    "on_train_file=r\"D:\\dataset\\o2o\\ccf_online_stage1_train.csv\"\n",
    "off_train=pd.read_csv(off_train_file)\n",
    "off_test=pd.read_csv(off_test_file)\n",
    "on_train=pd.read_csv(on_train_file)"
   ]
  },
  {
   "cell_type": "code",
   "execution_count": 4,
   "metadata": {},
   "outputs": [],
   "source": [
    "#工具类函数\n",
    "def add_agg_feature_names(df,df_group,group_col,value_col,agg_ops,col_names):\n",
    "     df_group[value_col]=df_group[value_col].astype(\"float\")\n",
    "     df_agg=pd.DataFrame(df_group.groupby(group_cols)[value_col].agg(agg_ops)).reset_index()\n",
    "     df_agg.columns=group_col+col_names\n",
    "     df=df.merge(df_agg,on=group_cols,how=\"left\")\n",
    "     return df"
   ]
  },
  {
   "cell_type": "code",
   "execution_count": 6,
   "metadata": {},
   "outputs": [],
   "source": [
    "#统计特征处理函数\n",
    "def add_agg_featurn(df,df_group,group_col,value_col,agg_ops,keyword):\n",
    "    col_names=[]\n",
    "    for op in agg_ops:\n",
    "        col_names.append(keyword+\"_\"+value_col+\"_\"+op)\n",
    "    df=add_agg_feature_names(df,df_group,group_cols,value_col,agg_ops,col_names)\n",
    "    return df"
   ]
  },
  {
   "cell_type": "code",
   "execution_count": 8,
   "metadata": {},
   "outputs": [],
   "source": [
    "#定义count函数\n",
    "def add_count_new_feature(df,df_group,group_cols,new_feature_name):\n",
    "    df_group[new_feature_name]=1\n",
    "    df_group=df_group.group(group_cols).agg(\"sum\").reset_index()\n",
    "    df=df.merge(df_group,on=groupc_cols,how='left')\n",
    "    return df"
   ]
  },
  {
   "cell_type": "code",
   "execution_count": 9,
   "metadata": {},
   "outputs": [],
   "source": [
    "#商户相关特征群生成\n",
    "def get_merchant_feature(feature):\n",
    "    merchant=feature[['Merchant_id','Coupon_id','Distance','Date_received','Date']].copy() #[[]]表示生成的是一个DataFrame\n",
    "    t=merchant[[\"Merchant_id\"]].copy()\n",
    "    #删除重复行数据\n",
    "    t.drop_duplicates(inplace=True)\n",
    "    #卖出的商品\n",
    "    t1=merchant[merchant.Date!=\"null\"][[\"Merchant_id\"]].copy()\n",
    "    merchant_feature=add_count_new_feature(t,t1,\"Merchant_id\",\"total_sales\")\n",
    "    #在每个商户销售中，使用优惠券的交易次数\n",
    "    t2=merchant[(merchant.Data!=\"null\")&(merchant.Coupon_id!=\"null\")][[\"Merchant_id\"]].copy()\n",
    "    merchant_feature=add_count_new_feature(merchant_feature,t2,\"Merchant_id\",\"sale_use_coupon\")\n",
    "    #每个商户发放的优惠券总数\n",
    "    t3=merchant[merchant.Coupon_id!=\"null\"][[\"Merchant_id\"]].copy()\n",
    "    merchant_feature=add_count_new_feature(merchant_feature,t3,\"Merchant_id\",\"total_coupon\")\n",
    "    #在每个线下商户含有优惠券的交易中，统计和用户距离的最大值，最小值，平均值，中位数\n",
    "    t4=merchant[(merchant.Data!=\"null\")&(merchant.Coupon_id!=\"null\")][[\"Merchant_id\",\"Distance\"]].copy()\n",
    "    t4.Distance=t4.Distance.astype(\"int\")\n",
    "    merchant_feature=add_agg_feature(merchant_feature,t4,[\"Merchant_id\"],\"Distance\",[\"min\",\"max\",\"mean\",\"median\"],\"merchant\")\n",
    "    #将数据中的nan用0来替换\n",
    "    user_merchant.user_merchant_buy_use_coupon=user_merchant.user_merchant_buy_use_coupon.replace(np.nan,0)\n",
    "    user_merchant.user_merchant_buy_use_common=user_merchant.user_merchant_buy_common.replace(np.nan,0)\n",
    "    return user_merchant\n"
   ]
  },
  {
   "cell_type": "code",
   "execution_count": 13,
   "metadata": {},
   "outputs": [],
   "source": [
    "def f2(dataset,feature):\n",
    "    result=add_discount(dataset)\n",
    "    merchant_feature=get_merchant_feature(feature)\n",
    "    result=result.merge(merchant_feature,on=\"Merchant_id\",how=\"left\")\n",
    "    return result"
   ]
  },
  {
   "cell_type": "code",
   "execution_count": null,
   "metadata": {},
   "outputs": [],
   "source": []
  }
 ]
}