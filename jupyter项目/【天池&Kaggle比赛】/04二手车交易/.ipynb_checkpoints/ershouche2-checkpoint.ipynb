{
 "cells": [
  {
   "cell_type": "code",
   "execution_count": 1,
   "metadata": {},
   "outputs": [],
   "source": [
    "import pandas as pd\n",
    "import numpy as np\n",
    "import time"
   ]
  },
  {
   "cell_type": "code",
   "execution_count": 2,
   "metadata": {},
   "outputs": [],
   "source": [
    "pd.set_option(\"display.max_column\",100)\n",
    "pd.set_option(\"expand_frame_repr\",False)"
   ]
  },
  {
   "cell_type": "code",
   "execution_count": 3,
   "metadata": {},
   "outputs": [],
   "source": [
    "train_data=pd.read_csv(r\"D:\\文件\\学习\\数据集\\二手车交易\\trainDataAfterCleaning.csv\",index_col=False)\n",
    "test_data=pd.read_csv(r\"D:\\文件\\学习\\数据集\\二手车交易\\testDataAfterCleaning.csv\",index_col=False)"
   ]
  },
  {
   "cell_type": "code",
   "execution_count": 4,
   "metadata": {},
   "outputs": [
    {
     "data": {
      "text/html": [
       "<div>\n",
       "<style scoped>\n",
       "    .dataframe tbody tr th:only-of-type {\n",
       "        vertical-align: middle;\n",
       "    }\n",
       "\n",
       "    .dataframe tbody tr th {\n",
       "        vertical-align: top;\n",
       "    }\n",
       "\n",
       "    .dataframe thead th {\n",
       "        text-align: right;\n",
       "    }\n",
       "</style>\n",
       "<table border=\"1\" class=\"dataframe\">\n",
       "  <thead>\n",
       "    <tr style=\"text-align: right;\">\n",
       "      <th></th>\n",
       "      <th>SaleID</th>\n",
       "      <th>name</th>\n",
       "      <th>regDate</th>\n",
       "      <th>model</th>\n",
       "      <th>brand</th>\n",
       "      <th>bodyType</th>\n",
       "      <th>fuelType</th>\n",
       "      <th>gearbox</th>\n",
       "      <th>power</th>\n",
       "      <th>kilometer</th>\n",
       "      <th>notRepairedDamage</th>\n",
       "      <th>regionCode</th>\n",
       "      <th>seller</th>\n",
       "      <th>offerType</th>\n",
       "      <th>creatDate</th>\n",
       "      <th>v_0</th>\n",
       "      <th>v_1</th>\n",
       "      <th>v_2</th>\n",
       "      <th>v_3</th>\n",
       "      <th>v_4</th>\n",
       "      <th>v_5</th>\n",
       "      <th>v_6</th>\n",
       "      <th>v_7</th>\n",
       "      <th>v_8</th>\n",
       "      <th>v_9</th>\n",
       "      <th>v_10</th>\n",
       "      <th>v_11</th>\n",
       "      <th>v_12</th>\n",
       "      <th>v_13</th>\n",
       "      <th>v_14</th>\n",
       "      <th>price</th>\n",
       "    </tr>\n",
       "  </thead>\n",
       "  <tbody>\n",
       "    <tr>\n",
       "      <th>0</th>\n",
       "      <td>0</td>\n",
       "      <td>736</td>\n",
       "      <td>20040402</td>\n",
       "      <td>30.0</td>\n",
       "      <td>6</td>\n",
       "      <td>1.0</td>\n",
       "      <td>0.0</td>\n",
       "      <td>0.0</td>\n",
       "      <td>60</td>\n",
       "      <td>12.5</td>\n",
       "      <td>0.0</td>\n",
       "      <td>1046</td>\n",
       "      <td>0</td>\n",
       "      <td>0</td>\n",
       "      <td>20160404</td>\n",
       "      <td>43.357796</td>\n",
       "      <td>3.966344</td>\n",
       "      <td>0.050257</td>\n",
       "      <td>2.159744</td>\n",
       "      <td>1.143786</td>\n",
       "      <td>0.235676</td>\n",
       "      <td>0.101988</td>\n",
       "      <td>0.129549</td>\n",
       "      <td>0.022816</td>\n",
       "      <td>0.097462</td>\n",
       "      <td>-2.881803</td>\n",
       "      <td>2.804097</td>\n",
       "      <td>-2.420821</td>\n",
       "      <td>0.795292</td>\n",
       "      <td>0.914762</td>\n",
       "      <td>1850</td>\n",
       "    </tr>\n",
       "    <tr>\n",
       "      <th>1</th>\n",
       "      <td>1</td>\n",
       "      <td>2262</td>\n",
       "      <td>20030301</td>\n",
       "      <td>40.0</td>\n",
       "      <td>1</td>\n",
       "      <td>2.0</td>\n",
       "      <td>0.0</td>\n",
       "      <td>0.0</td>\n",
       "      <td>0</td>\n",
       "      <td>15.0</td>\n",
       "      <td>0.0</td>\n",
       "      <td>4366</td>\n",
       "      <td>0</td>\n",
       "      <td>0</td>\n",
       "      <td>20160309</td>\n",
       "      <td>45.305273</td>\n",
       "      <td>5.236112</td>\n",
       "      <td>0.137925</td>\n",
       "      <td>1.380657</td>\n",
       "      <td>-1.422165</td>\n",
       "      <td>0.264777</td>\n",
       "      <td>0.121004</td>\n",
       "      <td>0.135731</td>\n",
       "      <td>0.026597</td>\n",
       "      <td>0.020582</td>\n",
       "      <td>-4.900482</td>\n",
       "      <td>2.096338</td>\n",
       "      <td>-1.030483</td>\n",
       "      <td>-1.722674</td>\n",
       "      <td>0.245522</td>\n",
       "      <td>3600</td>\n",
       "    </tr>\n",
       "    <tr>\n",
       "      <th>2</th>\n",
       "      <td>2</td>\n",
       "      <td>14874</td>\n",
       "      <td>20040403</td>\n",
       "      <td>115.0</td>\n",
       "      <td>15</td>\n",
       "      <td>1.0</td>\n",
       "      <td>0.0</td>\n",
       "      <td>0.0</td>\n",
       "      <td>163</td>\n",
       "      <td>12.5</td>\n",
       "      <td>0.0</td>\n",
       "      <td>2806</td>\n",
       "      <td>0</td>\n",
       "      <td>0</td>\n",
       "      <td>20160402</td>\n",
       "      <td>45.978359</td>\n",
       "      <td>4.823792</td>\n",
       "      <td>1.319524</td>\n",
       "      <td>-0.998467</td>\n",
       "      <td>-0.996911</td>\n",
       "      <td>0.251410</td>\n",
       "      <td>0.114912</td>\n",
       "      <td>0.165147</td>\n",
       "      <td>0.062173</td>\n",
       "      <td>0.027075</td>\n",
       "      <td>-4.846749</td>\n",
       "      <td>1.803559</td>\n",
       "      <td>1.565330</td>\n",
       "      <td>-0.832687</td>\n",
       "      <td>-0.229963</td>\n",
       "      <td>6222</td>\n",
       "    </tr>\n",
       "  </tbody>\n",
       "</table>\n",
       "</div>"
      ],
      "text/plain": [
       "   SaleID   name   regDate  model  brand  bodyType  fuelType  gearbox  power  kilometer  notRepairedDamage  regionCode  seller  offerType  creatDate        v_0       v_1       v_2       v_3       v_4       v_5       v_6       v_7       v_8       v_9      v_10      v_11      v_12      v_13      v_14  price\n",
       "0       0    736  20040402   30.0      6       1.0       0.0      0.0     60       12.5                0.0        1046       0          0   20160404  43.357796  3.966344  0.050257  2.159744  1.143786  0.235676  0.101988  0.129549  0.022816  0.097462 -2.881803  2.804097 -2.420821  0.795292  0.914762   1850\n",
       "1       1   2262  20030301   40.0      1       2.0       0.0      0.0      0       15.0                0.0        4366       0          0   20160309  45.305273  5.236112  0.137925  1.380657 -1.422165  0.264777  0.121004  0.135731  0.026597  0.020582 -4.900482  2.096338 -1.030483 -1.722674  0.245522   3600\n",
       "2       2  14874  20040403  115.0     15       1.0       0.0      0.0    163       12.5                0.0        2806       0          0   20160402  45.978359  4.823792  1.319524 -0.998467 -0.996911  0.251410  0.114912  0.165147  0.062173  0.027075 -4.846749  1.803559  1.565330 -0.832687 -0.229963   6222"
      ]
     },
     "execution_count": 4,
     "metadata": {},
     "output_type": "execute_result"
    }
   ],
   "source": [
    "train_data.head(3)"
   ]
  },
  {
   "cell_type": "code",
   "execution_count": 5,
   "metadata": {},
   "outputs": [],
   "source": [
    "#定义删除字段的函数\n",
    "def delete(data,col_name):\n",
    "    data=data.drop(col_name,axis=1)\n",
    "    return data"
   ]
  },
  {
   "cell_type": "code",
   "execution_count": 6,
   "metadata": {},
   "outputs": [],
   "source": [
    "#删除训练集合和测试集合的无用字段\n",
    "train_data=delete(train_data,\"SaleID\")"
   ]
  },
  {
   "cell_type": "code",
   "execution_count": 7,
   "metadata": {},
   "outputs": [],
   "source": [
    "train_data=delete(train_data,\"name\")"
   ]
  },
  {
   "cell_type": "code",
   "execution_count": 8,
   "metadata": {},
   "outputs": [],
   "source": [
    "data=train_data.drop(\"price\",axis=1)\n",
    "label=train_data[\"price\"]"
   ]
  },
  {
   "cell_type": "code",
   "execution_count": 9,
   "metadata": {},
   "outputs": [],
   "source": [
    "#对字段做标准化处理\n",
    "from sklearn.preprocessing import StandardScaler\n",
    "data1=StandardScaler().fit_transform(data)\n",
    "data1=pd.DataFrame(data1)\n",
    "data1.columns=data.columns"
   ]
  },
  {
   "cell_type": "code",
   "execution_count": 10,
   "metadata": {},
   "outputs": [
    {
     "data": {
      "text/html": [
       "<div>\n",
       "<style scoped>\n",
       "    .dataframe tbody tr th:only-of-type {\n",
       "        vertical-align: middle;\n",
       "    }\n",
       "\n",
       "    .dataframe tbody tr th {\n",
       "        vertical-align: top;\n",
       "    }\n",
       "\n",
       "    .dataframe thead th {\n",
       "        text-align: right;\n",
       "    }\n",
       "</style>\n",
       "<table border=\"1\" class=\"dataframe\">\n",
       "  <thead>\n",
       "    <tr style=\"text-align: right;\">\n",
       "      <th></th>\n",
       "      <th>regDate</th>\n",
       "      <th>model</th>\n",
       "      <th>brand</th>\n",
       "      <th>bodyType</th>\n",
       "      <th>fuelType</th>\n",
       "      <th>gearbox</th>\n",
       "      <th>power</th>\n",
       "      <th>kilometer</th>\n",
       "      <th>notRepairedDamage</th>\n",
       "      <th>regionCode</th>\n",
       "      <th>seller</th>\n",
       "      <th>offerType</th>\n",
       "      <th>creatDate</th>\n",
       "      <th>v_0</th>\n",
       "      <th>v_1</th>\n",
       "      <th>v_2</th>\n",
       "      <th>v_3</th>\n",
       "      <th>v_4</th>\n",
       "      <th>v_5</th>\n",
       "      <th>v_6</th>\n",
       "      <th>v_7</th>\n",
       "      <th>v_8</th>\n",
       "      <th>v_9</th>\n",
       "      <th>v_10</th>\n",
       "      <th>v_11</th>\n",
       "      <th>v_12</th>\n",
       "      <th>v_13</th>\n",
       "      <th>v_14</th>\n",
       "    </tr>\n",
       "  </thead>\n",
       "  <tbody>\n",
       "    <tr>\n",
       "      <th>0</th>\n",
       "      <td>0.116167</td>\n",
       "      <td>-0.345790</td>\n",
       "      <td>-0.260985</td>\n",
       "      <td>-0.441885</td>\n",
       "      <td>-0.656031</td>\n",
       "      <td>-0.524841</td>\n",
       "      <td>-0.334801</td>\n",
       "      <td>-0.024807</td>\n",
       "      <td>-0.324811</td>\n",
       "      <td>-0.815274</td>\n",
       "      <td>-0.002582</td>\n",
       "      <td>0.0</td>\n",
       "      <td>0.685901</td>\n",
       "      <td>-0.426644</td>\n",
       "      <td>1.101390</td>\n",
       "      <td>-0.010422</td>\n",
       "      <td>1.026863</td>\n",
       "      <td>0.943382</td>\n",
       "      <td>-0.273517</td>\n",
       "      <td>1.102861</td>\n",
       "      <td>0.024107</td>\n",
       "      <td>-1.210454</td>\n",
       "      <td>0.993764</td>\n",
       "      <td>-0.763653</td>\n",
       "      <td>0.850575</td>\n",
       "      <td>-0.963515</td>\n",
       "      <td>0.616959</td>\n",
       "      <td>0.881615</td>\n",
       "    </tr>\n",
       "    <tr>\n",
       "      <th>1</th>\n",
       "      <td>-0.072112</td>\n",
       "      <td>-0.143916</td>\n",
       "      <td>-0.896745</td>\n",
       "      <td>0.133083</td>\n",
       "      <td>-0.656031</td>\n",
       "      <td>-0.524841</td>\n",
       "      <td>-0.673462</td>\n",
       "      <td>0.613033</td>\n",
       "      <td>-0.324811</td>\n",
       "      <td>0.945662</td>\n",
       "      <td>-0.002582</td>\n",
       "      <td>0.0</td>\n",
       "      <td>-0.204172</td>\n",
       "      <td>0.365807</td>\n",
       "      <td>1.450046</td>\n",
       "      <td>0.019503</td>\n",
       "      <td>0.642400</td>\n",
       "      <td>-1.206498</td>\n",
       "      <td>0.361833</td>\n",
       "      <td>1.470359</td>\n",
       "      <td>0.054801</td>\n",
       "      <td>-1.080898</td>\n",
       "      <td>-1.160372</td>\n",
       "      <td>-1.298773</td>\n",
       "      <td>0.635193</td>\n",
       "      <td>-0.411241</td>\n",
       "      <td>-1.336973</td>\n",
       "      <td>0.237151</td>\n",
       "    </tr>\n",
       "    <tr>\n",
       "      <th>2</th>\n",
       "      <td>0.116186</td>\n",
       "      <td>1.370138</td>\n",
       "      <td>0.883384</td>\n",
       "      <td>-0.441885</td>\n",
       "      <td>-0.656031</td>\n",
       "      <td>-0.524841</td>\n",
       "      <td>0.246567</td>\n",
       "      <td>-0.024807</td>\n",
       "      <td>-0.324811</td>\n",
       "      <td>0.118235</td>\n",
       "      <td>-0.002582</td>\n",
       "      <td>0.0</td>\n",
       "      <td>0.667162</td>\n",
       "      <td>0.639694</td>\n",
       "      <td>1.336830</td>\n",
       "      <td>0.422834</td>\n",
       "      <td>-0.531650</td>\n",
       "      <td>-0.850200</td>\n",
       "      <td>0.069998</td>\n",
       "      <td>1.352636</td>\n",
       "      <td>0.200856</td>\n",
       "      <td>0.138071</td>\n",
       "      <td>-0.978437</td>\n",
       "      <td>-1.284529</td>\n",
       "      <td>0.546095</td>\n",
       "      <td>0.619876</td>\n",
       "      <td>-0.646347</td>\n",
       "      <td>-0.220731</td>\n",
       "    </tr>\n",
       "  </tbody>\n",
       "</table>\n",
       "</div>"
      ],
      "text/plain": [
       "    regDate     model     brand  bodyType  fuelType   gearbox     power  kilometer  notRepairedDamage  regionCode    seller  offerType  creatDate       v_0       v_1       v_2       v_3       v_4       v_5       v_6       v_7       v_8       v_9      v_10      v_11      v_12      v_13      v_14\n",
       "0  0.116167 -0.345790 -0.260985 -0.441885 -0.656031 -0.524841 -0.334801  -0.024807          -0.324811   -0.815274 -0.002582        0.0   0.685901 -0.426644  1.101390 -0.010422  1.026863  0.943382 -0.273517  1.102861  0.024107 -1.210454  0.993764 -0.763653  0.850575 -0.963515  0.616959  0.881615\n",
       "1 -0.072112 -0.143916 -0.896745  0.133083 -0.656031 -0.524841 -0.673462   0.613033          -0.324811    0.945662 -0.002582        0.0  -0.204172  0.365807  1.450046  0.019503  0.642400 -1.206498  0.361833  1.470359  0.054801 -1.080898 -1.160372 -1.298773  0.635193 -0.411241 -1.336973  0.237151\n",
       "2  0.116186  1.370138  0.883384 -0.441885 -0.656031 -0.524841  0.246567  -0.024807          -0.324811    0.118235 -0.002582        0.0   0.667162  0.639694  1.336830  0.422834 -0.531650 -0.850200  0.069998  1.352636  0.200856  0.138071 -0.978437 -1.284529  0.546095  0.619876 -0.646347 -0.220731"
      ]
     },
     "execution_count": 10,
     "metadata": {},
     "output_type": "execute_result"
    }
   ],
   "source": [
    "data1.head(3)"
   ]
  },
  {
   "cell_type": "code",
   "execution_count": 11,
   "metadata": {},
   "outputs": [],
   "source": [
    "#切分数据集\n",
    "from sklearn.model_selection import KFold\n",
    "kf=KFold(n_splits=5)\n",
    "for train_index,test_index in kf.split(data1):\n",
    "    x_train=data1.values[train_index]\n",
    "    x_test=data1.values[test_index]\n",
    "    y_train=label[train_index]\n",
    "    y_test=label[test_index]"
   ]
  },
  {
   "cell_type": "code",
   "execution_count": 12,
   "metadata": {},
   "outputs": [
    {
     "data": {
      "text/plain": [
       "0.9238757456375635"
      ]
     },
     "execution_count": 12,
     "metadata": {},
     "output_type": "execute_result"
    }
   ],
   "source": [
    "#建立模型\n",
    "#决策树\n",
    "from sklearn.tree import DecisionTreeRegressor\n",
    "model_dtr=DecisionTreeRegressor()\n",
    "model_dtr.fit(x_train, y_train)\n",
    "model_dtr.score(x_test,y_test)"
   ]
  },
  {
   "cell_type": "code",
   "execution_count": 13,
   "metadata": {},
   "outputs": [
    {
     "data": {
      "text/plain": [
       "0.9628807984589852"
      ]
     },
     "execution_count": 13,
     "metadata": {},
     "output_type": "execute_result"
    }
   ],
   "source": [
    "#随机森林\n",
    "from sklearn.ensemble import RandomForestRegressor\n",
    "model_rfr=RandomForestRegressor()\n",
    "model_rfr.fit(x_train, y_train)\n",
    "model_rfr.score(x_test,y_test)"
   ]
  },
  {
   "cell_type": "code",
   "execution_count": 15,
   "metadata": {},
   "outputs": [
    {
     "data": {
      "text/plain": [
       "0.554888737207246"
      ]
     },
     "execution_count": 15,
     "metadata": {},
     "output_type": "execute_result"
    }
   ],
   "source": [
    "#支持向量机\n",
    "from sklearn.svm import SVR\n",
    "model_svr=SVR(kernel=\"linear\")\n",
    "model_svr.fit(x_train,y_train)\n",
    "model_svr.score(x_test, y_test)"
   ]
  },
  {
   "cell_type": "code",
   "execution_count": 17,
   "metadata": {},
   "outputs": [
    {
     "data": {
      "text/plain": [
       "0.965672510626447"
      ]
     },
     "execution_count": 17,
     "metadata": {},
     "output_type": "execute_result"
    }
   ],
   "source": [
    "#xgboost\n",
    "from xgboost import XGBRegressor\n",
    "model_xgb=XGBRegressor()\n",
    "model_xgb.fit(x_train, y_train)\n",
    "model_xgb.score(x_test, y_test)"
   ]
  },
  {
   "cell_type": "code",
   "execution_count": 18,
   "metadata": {},
   "outputs": [
    {
     "data": {
      "text/plain": [
       "0.9053537695271847"
      ]
     },
     "execution_count": 18,
     "metadata": {},
     "output_type": "execute_result"
    }
   ],
   "source": [
    "#KNN\n",
    "from sklearn.neighbors import KNeighborsRegressor\n",
    "model_knn=KNeighborsRegressor(n_neighbors=5)\n",
    "model_knn.fit(x_train,y_train)\n",
    "model_knn.score(x_test,y_test)"
   ]
  },
  {
   "cell_type": "code",
   "execution_count": 33,
   "metadata": {},
   "outputs": [],
   "source": [
    "#建立预测函数\n",
    "from sklearn.metrics import mean_squared_error\n",
    "def predict_data(model_instance,test):\n",
    "    y_pred=model_instance.predict(x_test)\n",
    "    mse=mean_squared_error(y_test, y_pred)\n",
    "    return print(\"{}:\".format(model_instance),mse)"
   ]
  },
  {
   "cell_type": "code",
   "execution_count": 34,
   "metadata": {},
   "outputs": [
    {
     "name": "stdout",
     "output_type": "stream",
     "text": [
      "DecisionTreeRegressor(): 4226677.510617021\n"
     ]
    }
   ],
   "source": [
    "mse_dtr=predict_data(model_dtr,y_test)"
   ]
  },
  {
   "cell_type": "code",
   "execution_count": 35,
   "metadata": {},
   "outputs": [
    {
     "name": "stdout",
     "output_type": "stream",
     "text": [
      "RandomForestRegressor(): 2060984.3167526082\n"
     ]
    }
   ],
   "source": [
    "mse_rfr=predict_data(model_rfr,y_test)"
   ]
  },
  {
   "cell_type": "code",
   "execution_count": 37,
   "metadata": {},
   "outputs": [
    {
     "name": "stdout",
     "output_type": "stream",
     "text": [
      "SVR(kernel='linear'): 24714091.19110958\n"
     ]
    }
   ],
   "source": [
    "mse_svr=predict_data(model_svr,y_test)"
   ]
  },
  {
   "cell_type": "code",
   "execution_count": 38,
   "metadata": {},
   "outputs": [
    {
     "name": "stdout",
     "output_type": "stream",
     "text": [
      "XGBRegressor(base_score=0.5, booster='gbtree', colsample_bylevel=1,\n",
      "             colsample_bynode=1, colsample_bytree=1, gamma=0, gpu_id=-1,\n",
      "             importance_type='gain', interaction_constraints='',\n",
      "             learning_rate=0.300000012, max_delta_step=0, max_depth=6,\n",
      "             min_child_weight=1, missing=nan, monotone_constraints='()',\n",
      "             n_estimators=100, n_jobs=0, num_parallel_tree=1, random_state=0,\n",
      "             reg_alpha=0, reg_lambda=1, scale_pos_weight=1, subsample=1,\n",
      "             tree_method='exact', validate_parameters=1, verbosity=None): 1905978.9622417209\n"
     ]
    }
   ],
   "source": [
    "mse_xgb=predict_data(model_xgb,y_test)"
   ]
  },
  {
   "cell_type": "code",
   "execution_count": 39,
   "metadata": {},
   "outputs": [
    {
     "name": "stdout",
     "output_type": "stream",
     "text": [
      "KNeighborsRegressor(): 5255080.619896663\n"
     ]
    }
   ],
   "source": [
    "mse_knn=predict_data(model_knn,y_test)"
   ]
  },
  {
   "cell_type": "code",
   "execution_count": 40,
   "metadata": {},
   "outputs": [],
   "source": [
    "#模型融合\n",
    "#选择随机森林和xgboost进行模型融合"
   ]
  },
  {
   "cell_type": "code",
   "execution_count": 41,
   "metadata": {},
   "outputs": [],
   "source": [
    "#算数平均模型融合\n",
    "def Mean_method(test_pred1,test_pred2):\n",
    "    Mean_result=pd.concat([pd.Series(test_pred1),pd.Series(test_pred2)],axis=1).mean(axis=1)\n",
    "    return Mean_result"
   ]
  },
  {
   "cell_type": "code",
   "execution_count": 43,
   "metadata": {},
   "outputs": [],
   "source": [
    "test_pred1=model_rfr.predict(x_test)\n",
    "test_pred2=model_xgb.predict(x_test)"
   ]
  },
  {
   "cell_type": "code",
   "execution_count": 44,
   "metadata": {},
   "outputs": [],
   "source": [
    "Mean_pred=Mean_method(test_pred1,test_pred2)"
   ]
  },
  {
   "cell_type": "code",
   "execution_count": 45,
   "metadata": {},
   "outputs": [
    {
     "data": {
      "text/plain": [
       "1816956.6739246522"
      ]
     },
     "execution_count": 45,
     "metadata": {},
     "output_type": "execute_result"
    }
   ],
   "source": [
    "mse_Mean=mean_squared_error(y_test,Mean_pred)\n",
    "mse_Mean"
   ]
  },
  {
   "cell_type": "code",
   "execution_count": 64,
   "metadata": {},
   "outputs": [
    {
     "data": {
      "text/html": [
       "<div>\n",
       "<style scoped>\n",
       "    .dataframe tbody tr th:only-of-type {\n",
       "        vertical-align: middle;\n",
       "    }\n",
       "\n",
       "    .dataframe tbody tr th {\n",
       "        vertical-align: top;\n",
       "    }\n",
       "\n",
       "    .dataframe thead th {\n",
       "        text-align: right;\n",
       "    }\n",
       "</style>\n",
       "<table border=\"1\" class=\"dataframe\">\n",
       "  <thead>\n",
       "    <tr style=\"text-align: right;\">\n",
       "      <th></th>\n",
       "      <th>regDate</th>\n",
       "      <th>model</th>\n",
       "      <th>brand</th>\n",
       "      <th>bodyType</th>\n",
       "      <th>fuelType</th>\n",
       "      <th>gearbox</th>\n",
       "      <th>power</th>\n",
       "      <th>kilometer</th>\n",
       "      <th>notRepairedDamage</th>\n",
       "      <th>regionCode</th>\n",
       "      <th>seller</th>\n",
       "      <th>offerType</th>\n",
       "      <th>creatDate</th>\n",
       "      <th>v_0</th>\n",
       "      <th>v_1</th>\n",
       "      <th>v_2</th>\n",
       "      <th>v_3</th>\n",
       "      <th>v_4</th>\n",
       "      <th>v_5</th>\n",
       "      <th>v_6</th>\n",
       "      <th>v_7</th>\n",
       "      <th>v_8</th>\n",
       "      <th>v_9</th>\n",
       "      <th>v_10</th>\n",
       "      <th>v_11</th>\n",
       "      <th>v_12</th>\n",
       "      <th>v_13</th>\n",
       "      <th>v_14</th>\n",
       "    </tr>\n",
       "  </thead>\n",
       "  <tbody>\n",
       "    <tr>\n",
       "      <th>0</th>\n",
       "      <td>-0.626175</td>\n",
       "      <td>0.387732</td>\n",
       "      <td>-1.023744</td>\n",
       "      <td>-0.441564</td>\n",
       "      <td>-0.656148</td>\n",
       "      <td>-0.52802</td>\n",
       "      <td>-0.090964</td>\n",
       "      <td>0.613866</td>\n",
       "      <td>-0.322371</td>\n",
       "      <td>1.290430</td>\n",
       "      <td>0.0</td>\n",
       "      <td>0.0</td>\n",
       "      <td>-0.208392</td>\n",
       "      <td>-0.917910</td>\n",
       "      <td>-0.832981</td>\n",
       "      <td>-0.273306</td>\n",
       "      <td>0.687411</td>\n",
       "      <td>0.826899</td>\n",
       "      <td>-0.253673</td>\n",
       "      <td>-0.859081</td>\n",
       "      <td>-0.096178</td>\n",
       "      <td>-0.410154</td>\n",
       "      <td>0.907233</td>\n",
       "      <td>0.956383</td>\n",
       "      <td>-0.086143</td>\n",
       "      <td>-0.804529</td>\n",
       "      <td>0.756892</td>\n",
       "      <td>0.775844</td>\n",
       "    </tr>\n",
       "    <tr>\n",
       "      <th>1</th>\n",
       "      <td>-1.565901</td>\n",
       "      <td>-0.574058</td>\n",
       "      <td>-0.264209</td>\n",
       "      <td>0.132000</td>\n",
       "      <td>-0.656148</td>\n",
       "      <td>-0.52802</td>\n",
       "      <td>-0.226682</td>\n",
       "      <td>-1.686465</td>\n",
       "      <td>-0.322371</td>\n",
       "      <td>-0.569587</td>\n",
       "      <td>0.0</td>\n",
       "      <td>0.0</td>\n",
       "      <td>-0.190429</td>\n",
       "      <td>-0.200411</td>\n",
       "      <td>-0.874191</td>\n",
       "      <td>-0.288705</td>\n",
       "      <td>0.593496</td>\n",
       "      <td>-0.910816</td>\n",
       "      <td>0.291727</td>\n",
       "      <td>-0.863742</td>\n",
       "      <td>-0.021692</td>\n",
       "      <td>-0.391268</td>\n",
       "      <td>-0.748213</td>\n",
       "      <td>0.791099</td>\n",
       "      <td>-0.428475</td>\n",
       "      <td>-0.407501</td>\n",
       "      <td>-1.052346</td>\n",
       "      <td>-0.185059</td>\n",
       "    </tr>\n",
       "    <tr>\n",
       "      <th>2</th>\n",
       "      <td>1.057539</td>\n",
       "      <td>-0.854581</td>\n",
       "      <td>-0.390799</td>\n",
       "      <td>1.279129</td>\n",
       "      <td>-0.656148</td>\n",
       "      <td>-0.52802</td>\n",
       "      <td>0.001130</td>\n",
       "      <td>-1.942058</td>\n",
       "      <td>-0.322371</td>\n",
       "      <td>-0.426142</td>\n",
       "      <td>0.0</td>\n",
       "      <td>0.0</td>\n",
       "      <td>-0.199411</td>\n",
       "      <td>0.402311</td>\n",
       "      <td>0.945365</td>\n",
       "      <td>-0.356651</td>\n",
       "      <td>-1.250892</td>\n",
       "      <td>0.504024</td>\n",
       "      <td>0.295484</td>\n",
       "      <td>0.894477</td>\n",
       "      <td>-0.619014</td>\n",
       "      <td>0.735603</td>\n",
       "      <td>0.321161</td>\n",
       "      <td>-1.054903</td>\n",
       "      <td>-0.132612</td>\n",
       "      <td>0.363538</td>\n",
       "      <td>1.266359</td>\n",
       "      <td>0.990116</td>\n",
       "    </tr>\n",
       "  </tbody>\n",
       "</table>\n",
       "</div>"
      ],
      "text/plain": [
       "    regDate     model     brand  bodyType  fuelType  gearbox     power  kilometer  notRepairedDamage  regionCode  seller  offerType  creatDate       v_0       v_1       v_2       v_3       v_4       v_5       v_6       v_7       v_8       v_9      v_10      v_11      v_12      v_13      v_14\n",
       "0 -0.626175  0.387732 -1.023744 -0.441564 -0.656148 -0.52802 -0.090964   0.613866          -0.322371    1.290430     0.0        0.0  -0.208392 -0.917910 -0.832981 -0.273306  0.687411  0.826899 -0.253673 -0.859081 -0.096178 -0.410154  0.907233  0.956383 -0.086143 -0.804529  0.756892  0.775844\n",
       "1 -1.565901 -0.574058 -0.264209  0.132000 -0.656148 -0.52802 -0.226682  -1.686465          -0.322371   -0.569587     0.0        0.0  -0.190429 -0.200411 -0.874191 -0.288705  0.593496 -0.910816  0.291727 -0.863742 -0.021692 -0.391268 -0.748213  0.791099 -0.428475 -0.407501 -1.052346 -0.185059\n",
       "2  1.057539 -0.854581 -0.390799  1.279129 -0.656148 -0.52802  0.001130  -1.942058          -0.322371   -0.426142     0.0        0.0  -0.199411  0.402311  0.945365 -0.356651 -1.250892  0.504024  0.295484  0.894477 -0.619014  0.735603  0.321161 -1.054903 -0.132612  0.363538  1.266359  0.990116"
      ]
     },
     "execution_count": 64,
     "metadata": {},
     "output_type": "execute_result"
    }
   ],
   "source": [
    "test_data.head(3)"
   ]
  },
  {
   "cell_type": "code",
   "execution_count": 48,
   "metadata": {},
   "outputs": [],
   "source": [
    "test_data=delete(test_data,\"SaleID\")"
   ]
  },
  {
   "cell_type": "code",
   "execution_count": 50,
   "metadata": {},
   "outputs": [],
   "source": [
    "test_data=delete(test_data,\"name\")"
   ]
  },
  {
   "cell_type": "code",
   "execution_count": 52,
   "metadata": {},
   "outputs": [],
   "source": [
    "test_data=StandardScaler().fit_transform(test_data)"
   ]
  },
  {
   "cell_type": "code",
   "execution_count": 57,
   "metadata": {},
   "outputs": [],
   "source": [
    "test_data=pd.DataFrame(test_data)\n",
    "test_data.columns=data1.columns"
   ]
  },
  {
   "cell_type": "code",
   "execution_count": 59,
   "metadata": {},
   "outputs": [],
   "source": [
    "#预测"
   ]
  },
  {
   "cell_type": "code",
   "execution_count": 60,
   "metadata": {},
   "outputs": [],
   "source": [
    "test_rfr_pred1=model_rfr.predict(test_data)"
   ]
  },
  {
   "cell_type": "code",
   "execution_count": 62,
   "metadata": {},
   "outputs": [
    {
     "data": {
      "text/plain": [
       "array([1284.67, 1878.22, 8978.5 , ..., 5293.68, 5174.69, 5691.33])"
      ]
     },
     "execution_count": 62,
     "metadata": {},
     "output_type": "execute_result"
    }
   ],
   "source": [
    "test_rfr_pred1"
   ]
  },
  {
   "cell_type": "code",
   "execution_count": 72,
   "metadata": {},
   "outputs": [],
   "source": [
    "test_xgb_pred2=model_xgb.predict(np.array(test_data))"
   ]
  },
  {
   "cell_type": "code",
   "execution_count": 73,
   "metadata": {},
   "outputs": [
    {
     "data": {
      "text/plain": [
       "array([1485.1403, 1831.8303, 7977.811 , ..., 5936.838 , 4980.952 ,\n",
       "       5880.97  ], dtype=float32)"
      ]
     },
     "execution_count": 73,
     "metadata": {},
     "output_type": "execute_result"
    }
   ],
   "source": [
    "test_xgb_pred2"
   ]
  },
  {
   "cell_type": "code",
   "execution_count": 76,
   "metadata": {},
   "outputs": [],
   "source": [
    "Mean_test_pred=Mean_method(test_rfr_pred1,test_xgb_pred2)"
   ]
  },
  {
   "cell_type": "code",
   "execution_count": 77,
   "metadata": {},
   "outputs": [
    {
     "data": {
      "text/plain": [
       "0         1384.905129\n",
       "1         1855.025161\n",
       "2         8478.155518\n",
       "3         1249.992471\n",
       "4         2030.798325\n",
       "             ...     \n",
       "49995     6309.089297\n",
       "49996    18444.365898\n",
       "49997     5615.258945\n",
       "49998     5077.821074\n",
       "49999     5786.150107\n",
       "Length: 50000, dtype: float64"
      ]
     },
     "execution_count": 77,
     "metadata": {},
     "output_type": "execute_result"
    }
   ],
   "source": [
    "Mean_test_pred"
   ]
  },
  {
   "cell_type": "code",
   "execution_count": 78,
   "metadata": {},
   "outputs": [],
   "source": [
    "Mean_test_pred.to_csv(r\"C:\\Users\\xiongyuan\\Desktop\\predict.csv\")"
   ]
  },
  {
   "cell_type": "code",
   "execution_count": null,
   "metadata": {},
   "outputs": [],
   "source": []
  }
 ],
 "metadata": {
  "kernelspec": {
   "display_name": "Python 3.8.3 64-bit ('base': conda)",
   "language": "python",
   "name": "python38364bitbasecondad9bd0a7157c84fa7bace955ad09d0846"
  },
  "language_info": {
   "codemirror_mode": {
    "name": "ipython",
    "version": 3
   },
   "file_extension": ".py",
   "mimetype": "text/x-python",
   "name": "python",
   "nbconvert_exporter": "python",
   "pygments_lexer": "ipython3",
   "version": "3.8.3"
  }
 },
 "nbformat": 4,
 "nbformat_minor": 4
}
