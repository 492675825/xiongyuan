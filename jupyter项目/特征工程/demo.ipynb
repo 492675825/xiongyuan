{
 "metadata": {
  "language_info": {
   "codemirror_mode": {
    "name": "ipython",
    "version": 3
   },
   "file_extension": ".py",
   "mimetype": "text/x-python",
   "name": "python",
   "nbconvert_exporter": "python",
   "pygments_lexer": "ipython3",
   "version": "3.8.3-final"
  },
  "orig_nbformat": 2,
  "kernelspec": {
   "name": "python38364bitbasecondad9bd0a7157c84fa7bace955ad09d0846",
   "display_name": "Python 3.8.3 64-bit ('base': conda)"
  }
 },
 "nbformat": 4,
 "nbformat_minor": 2,
 "cells": [
  {
   "cell_type": "code",
   "execution_count": 55,
   "metadata": {},
   "outputs": [],
   "source": [
    "import pandas as pd \n",
    "import numpy as np \n",
    "import matplotlib.pyplot as plt \n",
    "from scipy import stats\n",
    "import seaborn as sns"
   ]
  },
  {
   "cell_type": "code",
   "execution_count": 56,
   "metadata": {},
   "outputs": [],
   "source": [
    "df=pd.read_csv(r'D:\\文件\\学习\\数据集\\HR\\data\\HR.csv')\n",
    "#删除缺失值\n",
    "df=df.dropna()\n",
    "#删除department中的错误类别sale\n",
    "df=df[df['department']!='sale']"
   ]
  },
  {
   "cell_type": "code",
   "execution_count": 57,
   "metadata": {},
   "outputs": [
    {
     "output_type": "execute_result",
     "data": {
      "text/plain": [
       "   satisfaction_level  last_evaluation  number_project  average_monthly_hours  \\\n",
       "0                0.38             0.53               2                    157   \n",
       "1                0.80             0.86               5                    262   \n",
       "2                0.11             0.88               7                    272   \n",
       "3                0.72             0.87               5                    223   \n",
       "4                0.37             0.52               2                    159   \n",
       "\n",
       "   time_spend_company  Work_accident  left  promotion_last_5years department  \\\n",
       "0                   3              0     1                      0      sales   \n",
       "1                   6              0     1                      0      sales   \n",
       "2                   4              0     1                      0      sales   \n",
       "3                   5              0     1                      0      sales   \n",
       "4                   3              0     1                      0      sales   \n",
       "\n",
       "   salary  \n",
       "0     low  \n",
       "1  medium  \n",
       "2  medium  \n",
       "3     low  \n",
       "4     low  "
      ],
      "text/html": "<div>\n<style scoped>\n    .dataframe tbody tr th:only-of-type {\n        vertical-align: middle;\n    }\n\n    .dataframe tbody tr th {\n        vertical-align: top;\n    }\n\n    .dataframe thead th {\n        text-align: right;\n    }\n</style>\n<table border=\"1\" class=\"dataframe\">\n  <thead>\n    <tr style=\"text-align: right;\">\n      <th></th>\n      <th>satisfaction_level</th>\n      <th>last_evaluation</th>\n      <th>number_project</th>\n      <th>average_monthly_hours</th>\n      <th>time_spend_company</th>\n      <th>Work_accident</th>\n      <th>left</th>\n      <th>promotion_last_5years</th>\n      <th>department</th>\n      <th>salary</th>\n    </tr>\n  </thead>\n  <tbody>\n    <tr>\n      <th>0</th>\n      <td>0.38</td>\n      <td>0.53</td>\n      <td>2</td>\n      <td>157</td>\n      <td>3</td>\n      <td>0</td>\n      <td>1</td>\n      <td>0</td>\n      <td>sales</td>\n      <td>low</td>\n    </tr>\n    <tr>\n      <th>1</th>\n      <td>0.80</td>\n      <td>0.86</td>\n      <td>5</td>\n      <td>262</td>\n      <td>6</td>\n      <td>0</td>\n      <td>1</td>\n      <td>0</td>\n      <td>sales</td>\n      <td>medium</td>\n    </tr>\n    <tr>\n      <th>2</th>\n      <td>0.11</td>\n      <td>0.88</td>\n      <td>7</td>\n      <td>272</td>\n      <td>4</td>\n      <td>0</td>\n      <td>1</td>\n      <td>0</td>\n      <td>sales</td>\n      <td>medium</td>\n    </tr>\n    <tr>\n      <th>3</th>\n      <td>0.72</td>\n      <td>0.87</td>\n      <td>5</td>\n      <td>223</td>\n      <td>5</td>\n      <td>0</td>\n      <td>1</td>\n      <td>0</td>\n      <td>sales</td>\n      <td>low</td>\n    </tr>\n    <tr>\n      <th>4</th>\n      <td>0.37</td>\n      <td>0.52</td>\n      <td>2</td>\n      <td>159</td>\n      <td>3</td>\n      <td>0</td>\n      <td>1</td>\n      <td>0</td>\n      <td>sales</td>\n      <td>low</td>\n    </tr>\n  </tbody>\n</table>\n</div>"
     },
     "metadata": {},
     "execution_count": 57
    }
   ],
   "source": [
    "df.head()"
   ]
  },
  {
   "cell_type": "code",
   "execution_count": 58,
   "metadata": {},
   "outputs": [
    {
     "output_type": "stream",
     "name": "stdout",
     "text": [
      "<class 'pandas.core.frame.DataFrame'>\nInt64Index: 14999 entries, 0 to 14998\nData columns (total 10 columns):\n #   Column                 Non-Null Count  Dtype  \n---  ------                 --------------  -----  \n 0   satisfaction_level     14999 non-null  float64\n 1   last_evaluation        14999 non-null  float64\n 2   number_project         14999 non-null  int64  \n 3   average_monthly_hours  14999 non-null  int64  \n 4   time_spend_company     14999 non-null  int64  \n 5   Work_accident          14999 non-null  int64  \n 6   left                   14999 non-null  int64  \n 7   promotion_last_5years  14999 non-null  int64  \n 8   department             14999 non-null  object \n 9   salary                 14999 non-null  object \ndtypes: float64(2), int64(6), object(2)\nmemory usage: 1.3+ MB\n"
     ]
    }
   ],
   "source": [
    "df.info()"
   ]
  },
  {
   "cell_type": "code",
   "execution_count": 59,
   "metadata": {},
   "outputs": [],
   "source": [
    "#离散值数值化\n",
    "from sklearn.preprocessing import LabelEncoder\n",
    "label_encoder=LabelEncoder()\n",
    "department_file=label_encoder.fit_transform(df['department'].values.reshape(-1,1)).reshape(1,-1)[0]"
   ]
  },
  {
   "cell_type": "code",
   "execution_count": 60,
   "metadata": {},
   "outputs": [
    {
     "output_type": "execute_result",
     "data": {
      "text/plain": [
       "{0: 'IT',\n",
       " 1: 'RandD',\n",
       " 2: 'accounting',\n",
       " 3: 'hr',\n",
       " 4: 'management',\n",
       " 5: 'marketing',\n",
       " 6: 'product_mng',\n",
       " 7: 'sales',\n",
       " 8: 'support',\n",
       " 9: 'technical'}"
      ]
     },
     "metadata": {},
     "execution_count": 60
    }
   ],
   "source": [
    "department_mapping={index:label for index,label in enumerate(label_encoder.classes_)}\n",
    "department_mapping"
   ]
  },
  {
   "cell_type": "code",
   "execution_count": 61,
   "metadata": {},
   "outputs": [
    {
     "output_type": "execute_result",
     "data": {
      "text/plain": [
       "       department_IT  department_RandD  department_accounting  department_hr  \\\n",
       "0                  0                 0                      0              0   \n",
       "1                  0                 0                      0              0   \n",
       "2                  0                 0                      0              0   \n",
       "3                  0                 0                      0              0   \n",
       "4                  0                 0                      0              0   \n",
       "...              ...               ...                    ...            ...   \n",
       "14994              0                 0                      0              0   \n",
       "14995              0                 0                      0              0   \n",
       "14996              0                 0                      0              0   \n",
       "14997              0                 0                      0              0   \n",
       "14998              0                 0                      0              0   \n",
       "\n",
       "       department_management  department_marketing  department_product_mng  \\\n",
       "0                          0                     0                       0   \n",
       "1                          0                     0                       0   \n",
       "2                          0                     0                       0   \n",
       "3                          0                     0                       0   \n",
       "4                          0                     0                       0   \n",
       "...                      ...                   ...                     ...   \n",
       "14994                      0                     0                       0   \n",
       "14995                      0                     0                       0   \n",
       "14996                      0                     0                       0   \n",
       "14997                      0                     0                       0   \n",
       "14998                      0                     0                       0   \n",
       "\n",
       "       department_sales  department_support  department_technical  \n",
       "0                     1                   0                     0  \n",
       "1                     1                   0                     0  \n",
       "2                     1                   0                     0  \n",
       "3                     1                   0                     0  \n",
       "4                     1                   0                     0  \n",
       "...                 ...                 ...                   ...  \n",
       "14994                 0                   1                     0  \n",
       "14995                 0                   1                     0  \n",
       "14996                 0                   1                     0  \n",
       "14997                 0                   1                     0  \n",
       "14998                 0                   1                     0  \n",
       "\n",
       "[14999 rows x 10 columns]"
      ],
      "text/html": "<div>\n<style scoped>\n    .dataframe tbody tr th:only-of-type {\n        vertical-align: middle;\n    }\n\n    .dataframe tbody tr th {\n        vertical-align: top;\n    }\n\n    .dataframe thead th {\n        text-align: right;\n    }\n</style>\n<table border=\"1\" class=\"dataframe\">\n  <thead>\n    <tr style=\"text-align: right;\">\n      <th></th>\n      <th>department_IT</th>\n      <th>department_RandD</th>\n      <th>department_accounting</th>\n      <th>department_hr</th>\n      <th>department_management</th>\n      <th>department_marketing</th>\n      <th>department_product_mng</th>\n      <th>department_sales</th>\n      <th>department_support</th>\n      <th>department_technical</th>\n    </tr>\n  </thead>\n  <tbody>\n    <tr>\n      <th>0</th>\n      <td>0</td>\n      <td>0</td>\n      <td>0</td>\n      <td>0</td>\n      <td>0</td>\n      <td>0</td>\n      <td>0</td>\n      <td>1</td>\n      <td>0</td>\n      <td>0</td>\n    </tr>\n    <tr>\n      <th>1</th>\n      <td>0</td>\n      <td>0</td>\n      <td>0</td>\n      <td>0</td>\n      <td>0</td>\n      <td>0</td>\n      <td>0</td>\n      <td>1</td>\n      <td>0</td>\n      <td>0</td>\n    </tr>\n    <tr>\n      <th>2</th>\n      <td>0</td>\n      <td>0</td>\n      <td>0</td>\n      <td>0</td>\n      <td>0</td>\n      <td>0</td>\n      <td>0</td>\n      <td>1</td>\n      <td>0</td>\n      <td>0</td>\n    </tr>\n    <tr>\n      <th>3</th>\n      <td>0</td>\n      <td>0</td>\n      <td>0</td>\n      <td>0</td>\n      <td>0</td>\n      <td>0</td>\n      <td>0</td>\n      <td>1</td>\n      <td>0</td>\n      <td>0</td>\n    </tr>\n    <tr>\n      <th>4</th>\n      <td>0</td>\n      <td>0</td>\n      <td>0</td>\n      <td>0</td>\n      <td>0</td>\n      <td>0</td>\n      <td>0</td>\n      <td>1</td>\n      <td>0</td>\n      <td>0</td>\n    </tr>\n    <tr>\n      <th>...</th>\n      <td>...</td>\n      <td>...</td>\n      <td>...</td>\n      <td>...</td>\n      <td>...</td>\n      <td>...</td>\n      <td>...</td>\n      <td>...</td>\n      <td>...</td>\n      <td>...</td>\n    </tr>\n    <tr>\n      <th>14994</th>\n      <td>0</td>\n      <td>0</td>\n      <td>0</td>\n      <td>0</td>\n      <td>0</td>\n      <td>0</td>\n      <td>0</td>\n      <td>0</td>\n      <td>1</td>\n      <td>0</td>\n    </tr>\n    <tr>\n      <th>14995</th>\n      <td>0</td>\n      <td>0</td>\n      <td>0</td>\n      <td>0</td>\n      <td>0</td>\n      <td>0</td>\n      <td>0</td>\n      <td>0</td>\n      <td>1</td>\n      <td>0</td>\n    </tr>\n    <tr>\n      <th>14996</th>\n      <td>0</td>\n      <td>0</td>\n      <td>0</td>\n      <td>0</td>\n      <td>0</td>\n      <td>0</td>\n      <td>0</td>\n      <td>0</td>\n      <td>1</td>\n      <td>0</td>\n    </tr>\n    <tr>\n      <th>14997</th>\n      <td>0</td>\n      <td>0</td>\n      <td>0</td>\n      <td>0</td>\n      <td>0</td>\n      <td>0</td>\n      <td>0</td>\n      <td>0</td>\n      <td>1</td>\n      <td>0</td>\n    </tr>\n    <tr>\n      <th>14998</th>\n      <td>0</td>\n      <td>0</td>\n      <td>0</td>\n      <td>0</td>\n      <td>0</td>\n      <td>0</td>\n      <td>0</td>\n      <td>0</td>\n      <td>1</td>\n      <td>0</td>\n    </tr>\n  </tbody>\n</table>\n<p>14999 rows × 10 columns</p>\n</div>"
     },
     "metadata": {},
     "execution_count": 61
    }
   ],
   "source": [
    "#哑变量\n",
    "department_dummy=pd.get_dummies(df['department'],prefix='department')\n",
    "department_dummy"
   ]
  },
  {
   "cell_type": "code",
   "execution_count": 62,
   "metadata": {},
   "outputs": [],
   "source": [
    "#二值化\n",
    "# satisfaction_level\n",
    "from sklearn.preprocessing import Binarizer\n",
    "sat_bin=Binarizer(threshold=0.5)\n",
    "sat_bin_code=sat_bin.fit_transform(df['satisfaction_level'].values.reshape(-1,1)).reshape(1,-1)[0]"
   ]
  },
  {
   "cell_type": "code",
   "execution_count": 63,
   "metadata": {},
   "outputs": [
    {
     "output_type": "execute_result",
     "data": {
      "text/plain": [
       "array([0., 1., 0., ..., 0., 0., 0.])"
      ]
     },
     "metadata": {},
     "execution_count": 63
    }
   ],
   "source": [
    "sat_bin_code"
   ]
  },
  {
   "cell_type": "code",
   "execution_count": 64,
   "metadata": {},
   "outputs": [
    {
     "output_type": "execute_result",
     "data": {
      "text/plain": [
       "         0      1     2       3        4      5        6         7           8\n",
       "0      2.0  157.0   4.0   314.0  24649.0    8.0    628.0   49298.0   3869893.0\n",
       "1      5.0  262.0  25.0  1310.0  68644.0  125.0   6550.0  343220.0  17984728.0\n",
       "2      7.0  272.0  49.0  1904.0  73984.0  343.0  13328.0  517888.0  20123648.0\n",
       "3      5.0  223.0  25.0  1115.0  49729.0  125.0   5575.0  248645.0  11089567.0\n",
       "4      2.0  159.0   4.0   318.0  25281.0    8.0    636.0   50562.0   4019679.0\n",
       "...    ...    ...   ...     ...      ...    ...      ...       ...         ...\n",
       "14994  2.0  151.0   4.0   302.0  22801.0    8.0    604.0   45602.0   3442951.0\n",
       "14995  2.0  160.0   4.0   320.0  25600.0    8.0    640.0   51200.0   4096000.0\n",
       "14996  2.0  143.0   4.0   286.0  20449.0    8.0    572.0   40898.0   2924207.0\n",
       "14997  6.0  280.0  36.0  1680.0  78400.0  216.0  10080.0  470400.0  21952000.0\n",
       "14998  2.0  158.0   4.0   316.0  24964.0    8.0    632.0   49928.0   3944312.0\n",
       "\n",
       "[14999 rows x 9 columns]"
      ],
      "text/html": "<div>\n<style scoped>\n    .dataframe tbody tr th:only-of-type {\n        vertical-align: middle;\n    }\n\n    .dataframe tbody tr th {\n        vertical-align: top;\n    }\n\n    .dataframe thead th {\n        text-align: right;\n    }\n</style>\n<table border=\"1\" class=\"dataframe\">\n  <thead>\n    <tr style=\"text-align: right;\">\n      <th></th>\n      <th>0</th>\n      <th>1</th>\n      <th>2</th>\n      <th>3</th>\n      <th>4</th>\n      <th>5</th>\n      <th>6</th>\n      <th>7</th>\n      <th>8</th>\n    </tr>\n  </thead>\n  <tbody>\n    <tr>\n      <th>0</th>\n      <td>2.0</td>\n      <td>157.0</td>\n      <td>4.0</td>\n      <td>314.0</td>\n      <td>24649.0</td>\n      <td>8.0</td>\n      <td>628.0</td>\n      <td>49298.0</td>\n      <td>3869893.0</td>\n    </tr>\n    <tr>\n      <th>1</th>\n      <td>5.0</td>\n      <td>262.0</td>\n      <td>25.0</td>\n      <td>1310.0</td>\n      <td>68644.0</td>\n      <td>125.0</td>\n      <td>6550.0</td>\n      <td>343220.0</td>\n      <td>17984728.0</td>\n    </tr>\n    <tr>\n      <th>2</th>\n      <td>7.0</td>\n      <td>272.0</td>\n      <td>49.0</td>\n      <td>1904.0</td>\n      <td>73984.0</td>\n      <td>343.0</td>\n      <td>13328.0</td>\n      <td>517888.0</td>\n      <td>20123648.0</td>\n    </tr>\n    <tr>\n      <th>3</th>\n      <td>5.0</td>\n      <td>223.0</td>\n      <td>25.0</td>\n      <td>1115.0</td>\n      <td>49729.0</td>\n      <td>125.0</td>\n      <td>5575.0</td>\n      <td>248645.0</td>\n      <td>11089567.0</td>\n    </tr>\n    <tr>\n      <th>4</th>\n      <td>2.0</td>\n      <td>159.0</td>\n      <td>4.0</td>\n      <td>318.0</td>\n      <td>25281.0</td>\n      <td>8.0</td>\n      <td>636.0</td>\n      <td>50562.0</td>\n      <td>4019679.0</td>\n    </tr>\n    <tr>\n      <th>...</th>\n      <td>...</td>\n      <td>...</td>\n      <td>...</td>\n      <td>...</td>\n      <td>...</td>\n      <td>...</td>\n      <td>...</td>\n      <td>...</td>\n      <td>...</td>\n    </tr>\n    <tr>\n      <th>14994</th>\n      <td>2.0</td>\n      <td>151.0</td>\n      <td>4.0</td>\n      <td>302.0</td>\n      <td>22801.0</td>\n      <td>8.0</td>\n      <td>604.0</td>\n      <td>45602.0</td>\n      <td>3442951.0</td>\n    </tr>\n    <tr>\n      <th>14995</th>\n      <td>2.0</td>\n      <td>160.0</td>\n      <td>4.0</td>\n      <td>320.0</td>\n      <td>25600.0</td>\n      <td>8.0</td>\n      <td>640.0</td>\n      <td>51200.0</td>\n      <td>4096000.0</td>\n    </tr>\n    <tr>\n      <th>14996</th>\n      <td>2.0</td>\n      <td>143.0</td>\n      <td>4.0</td>\n      <td>286.0</td>\n      <td>20449.0</td>\n      <td>8.0</td>\n      <td>572.0</td>\n      <td>40898.0</td>\n      <td>2924207.0</td>\n    </tr>\n    <tr>\n      <th>14997</th>\n      <td>6.0</td>\n      <td>280.0</td>\n      <td>36.0</td>\n      <td>1680.0</td>\n      <td>78400.0</td>\n      <td>216.0</td>\n      <td>10080.0</td>\n      <td>470400.0</td>\n      <td>21952000.0</td>\n    </tr>\n    <tr>\n      <th>14998</th>\n      <td>2.0</td>\n      <td>158.0</td>\n      <td>4.0</td>\n      <td>316.0</td>\n      <td>24964.0</td>\n      <td>8.0</td>\n      <td>632.0</td>\n      <td>49928.0</td>\n      <td>3944312.0</td>\n    </tr>\n  </tbody>\n</table>\n<p>14999 rows × 9 columns</p>\n</div>"
     },
     "metadata": {},
     "execution_count": 64
    }
   ],
   "source": [
    "#多项式增加维度\n",
    "from sklearn.preprocessing import PolynomialFeatures\n",
    "df_col=df.iloc[:,2:4]\n",
    "num_and_hour=PolynomialFeatures(degree=3,interaction_only=False,include_bias=False)\n",
    "res=num_and_hour.fit_transform(df_col)\n",
    "res=pd.DataFrame(res)\n",
    "res"
   ]
  },
  {
   "cell_type": "code",
   "execution_count": 65,
   "metadata": {},
   "outputs": [],
   "source": [
    "#连续值离散化\n",
    "avg_hours=df['average_monthly_hours'].copy()"
   ]
  },
  {
   "cell_type": "code",
   "execution_count": 66,
   "metadata": {},
   "outputs": [
    {
     "output_type": "execute_result",
     "data": {
      "text/plain": [
       "0        2\n",
       "1        4\n",
       "2        5\n",
       "3        3\n",
       "4        2\n",
       "        ..\n",
       "14994    2\n",
       "14995    2\n",
       "14996    2\n",
       "14997    5\n",
       "14998    2\n",
       "Name: average_monthly_hours, Length: 14999, dtype: category\n",
       "Categories (5, int64): [1 < 2 < 3 < 4 < 5]"
      ]
     },
     "metadata": {},
     "execution_count": 66
    }
   ],
   "source": [
    "k=5\n",
    "avg_hour_01=pd.cut(x=avg_hours,bins=k,labels=range(1,k+1))\n",
    "avg_hour_01"
   ]
  },
  {
   "cell_type": "code",
   "execution_count": 67,
   "metadata": {},
   "outputs": [],
   "source": [
    "#日期格式处理\n",
    "train_data=pd.read_csv(r\"D:\\文件\\学习\\数据集\\二手车交易\\trainDataAfterCleaning.csv\",index_col=False)"
   ]
  },
  {
   "cell_type": "code",
   "execution_count": 68,
   "metadata": {},
   "outputs": [
    {
     "output_type": "execute_result",
     "data": {
      "text/plain": [
       "   SaleID    name   regDate  model  brand  bodyType  fuelType  gearbox  power  \\\n",
       "0       0     736  20040402   30.0      6       1.0       0.0      0.0     60   \n",
       "1       1    2262  20030301   40.0      1       2.0       0.0      0.0      0   \n",
       "2       2   14874  20040403  115.0     15       1.0       0.0      0.0    163   \n",
       "3       3   71865  19960908  109.0     10       0.0       0.0      1.0    193   \n",
       "4       4  111080  20120103  110.0      5       1.0       0.0      0.0     68   \n",
       "\n",
       "   kilometer  ...       v_6       v_7       v_8       v_9      v_10      v_11  \\\n",
       "0       12.5  ...  0.101988  0.129549  0.022816  0.097462 -2.881803  2.804097   \n",
       "1       15.0  ...  0.121004  0.135731  0.026597  0.020582 -4.900482  2.096338   \n",
       "2       12.5  ...  0.114912  0.165147  0.062173  0.027075 -4.846749  1.803559   \n",
       "3       15.0  ...  0.110300  0.121964  0.033395  0.000000 -4.509599  1.285940   \n",
       "4        5.0  ...  0.073205  0.091880  0.078819  0.121534 -1.896240  0.910783   \n",
       "\n",
       "       v_12      v_13      v_14  price  \n",
       "0 -2.420821  0.795292  0.914762   1850  \n",
       "1 -1.030483 -1.722674  0.245522   3600  \n",
       "2  1.565330 -0.832687 -0.229963   6222  \n",
       "3 -0.501868 -2.438353 -0.478699   2400  \n",
       "4  0.931110  2.834518  1.923482   5200  \n",
       "\n",
       "[5 rows x 31 columns]"
      ],
      "text/html": "<div>\n<style scoped>\n    .dataframe tbody tr th:only-of-type {\n        vertical-align: middle;\n    }\n\n    .dataframe tbody tr th {\n        vertical-align: top;\n    }\n\n    .dataframe thead th {\n        text-align: right;\n    }\n</style>\n<table border=\"1\" class=\"dataframe\">\n  <thead>\n    <tr style=\"text-align: right;\">\n      <th></th>\n      <th>SaleID</th>\n      <th>name</th>\n      <th>regDate</th>\n      <th>model</th>\n      <th>brand</th>\n      <th>bodyType</th>\n      <th>fuelType</th>\n      <th>gearbox</th>\n      <th>power</th>\n      <th>kilometer</th>\n      <th>...</th>\n      <th>v_6</th>\n      <th>v_7</th>\n      <th>v_8</th>\n      <th>v_9</th>\n      <th>v_10</th>\n      <th>v_11</th>\n      <th>v_12</th>\n      <th>v_13</th>\n      <th>v_14</th>\n      <th>price</th>\n    </tr>\n  </thead>\n  <tbody>\n    <tr>\n      <th>0</th>\n      <td>0</td>\n      <td>736</td>\n      <td>20040402</td>\n      <td>30.0</td>\n      <td>6</td>\n      <td>1.0</td>\n      <td>0.0</td>\n      <td>0.0</td>\n      <td>60</td>\n      <td>12.5</td>\n      <td>...</td>\n      <td>0.101988</td>\n      <td>0.129549</td>\n      <td>0.022816</td>\n      <td>0.097462</td>\n      <td>-2.881803</td>\n      <td>2.804097</td>\n      <td>-2.420821</td>\n      <td>0.795292</td>\n      <td>0.914762</td>\n      <td>1850</td>\n    </tr>\n    <tr>\n      <th>1</th>\n      <td>1</td>\n      <td>2262</td>\n      <td>20030301</td>\n      <td>40.0</td>\n      <td>1</td>\n      <td>2.0</td>\n      <td>0.0</td>\n      <td>0.0</td>\n      <td>0</td>\n      <td>15.0</td>\n      <td>...</td>\n      <td>0.121004</td>\n      <td>0.135731</td>\n      <td>0.026597</td>\n      <td>0.020582</td>\n      <td>-4.900482</td>\n      <td>2.096338</td>\n      <td>-1.030483</td>\n      <td>-1.722674</td>\n      <td>0.245522</td>\n      <td>3600</td>\n    </tr>\n    <tr>\n      <th>2</th>\n      <td>2</td>\n      <td>14874</td>\n      <td>20040403</td>\n      <td>115.0</td>\n      <td>15</td>\n      <td>1.0</td>\n      <td>0.0</td>\n      <td>0.0</td>\n      <td>163</td>\n      <td>12.5</td>\n      <td>...</td>\n      <td>0.114912</td>\n      <td>0.165147</td>\n      <td>0.062173</td>\n      <td>0.027075</td>\n      <td>-4.846749</td>\n      <td>1.803559</td>\n      <td>1.565330</td>\n      <td>-0.832687</td>\n      <td>-0.229963</td>\n      <td>6222</td>\n    </tr>\n    <tr>\n      <th>3</th>\n      <td>3</td>\n      <td>71865</td>\n      <td>19960908</td>\n      <td>109.0</td>\n      <td>10</td>\n      <td>0.0</td>\n      <td>0.0</td>\n      <td>1.0</td>\n      <td>193</td>\n      <td>15.0</td>\n      <td>...</td>\n      <td>0.110300</td>\n      <td>0.121964</td>\n      <td>0.033395</td>\n      <td>0.000000</td>\n      <td>-4.509599</td>\n      <td>1.285940</td>\n      <td>-0.501868</td>\n      <td>-2.438353</td>\n      <td>-0.478699</td>\n      <td>2400</td>\n    </tr>\n    <tr>\n      <th>4</th>\n      <td>4</td>\n      <td>111080</td>\n      <td>20120103</td>\n      <td>110.0</td>\n      <td>5</td>\n      <td>1.0</td>\n      <td>0.0</td>\n      <td>0.0</td>\n      <td>68</td>\n      <td>5.0</td>\n      <td>...</td>\n      <td>0.073205</td>\n      <td>0.091880</td>\n      <td>0.078819</td>\n      <td>0.121534</td>\n      <td>-1.896240</td>\n      <td>0.910783</td>\n      <td>0.931110</td>\n      <td>2.834518</td>\n      <td>1.923482</td>\n      <td>5200</td>\n    </tr>\n  </tbody>\n</table>\n<p>5 rows × 31 columns</p>\n</div>"
     },
     "metadata": {},
     "execution_count": 68
    }
   ],
   "source": [
    "train_data.head()"
   ]
  },
  {
   "cell_type": "code",
   "execution_count": 69,
   "metadata": {},
   "outputs": [
    {
     "output_type": "stream",
     "name": "stdout",
     "text": [
      "<class 'pandas.core.frame.DataFrame'>\nRangeIndex: 149999 entries, 0 to 149998\nData columns (total 31 columns):\n #   Column             Non-Null Count   Dtype  \n---  ------             --------------   -----  \n 0   SaleID             149999 non-null  int64  \n 1   name               149999 non-null  int64  \n 2   regDate            149999 non-null  int64  \n 3   model              149999 non-null  float64\n 4   brand              149999 non-null  int64  \n 5   bodyType           149999 non-null  float64\n 6   fuelType           149999 non-null  float64\n 7   gearbox            149999 non-null  float64\n 8   power              149999 non-null  int64  \n 9   kilometer          149999 non-null  float64\n 10  notRepairedDamage  149999 non-null  float64\n 11  regionCode         149999 non-null  int64  \n 12  seller             149999 non-null  int64  \n 13  offerType          149999 non-null  int64  \n 14  creatDate          149999 non-null  int64  \n 15  v_0                149999 non-null  float64\n 16  v_1                149999 non-null  float64\n 17  v_2                149999 non-null  float64\n 18  v_3                149999 non-null  float64\n 19  v_4                149999 non-null  float64\n 20  v_5                149999 non-null  float64\n 21  v_6                149999 non-null  float64\n 22  v_7                149999 non-null  float64\n 23  v_8                149999 non-null  float64\n 24  v_9                149999 non-null  float64\n 25  v_10               149999 non-null  float64\n 26  v_11               149999 non-null  float64\n 27  v_12               149999 non-null  float64\n 28  v_13               149999 non-null  float64\n 29  v_14               149999 non-null  float64\n 30  price              149999 non-null  int64  \ndtypes: float64(21), int64(10)\nmemory usage: 35.5 MB\n"
     ]
    }
   ],
   "source": [
    "train_data.info()"
   ]
  },
  {
   "cell_type": "code",
   "execution_count": 77,
   "metadata": {},
   "outputs": [],
   "source": [
    "year_data=[str(x)[:4] for x in train_data['regDate']]\n",
    "month_data=[str(x)[4:6] for x in train_data['regDate']]\n",
    "day_data=[str(x)[6:] for x in train_data['regDate']]\n",
    "year_data=pd.DataFrame(year_data)\n",
    "month_data=pd.DataFrame(month_data)\n",
    "day_data=pd.DataFrame(day_data)\n",
    "year_data.columns=['year']\n",
    "month_data.columns=['month']\n",
    "day_data.columns=['day']\n",
    "train_data=pd.concat([train_data,year_data,month_data,day_data],axis=1)"
   ]
  },
  {
   "cell_type": "code",
   "execution_count": 80,
   "metadata": {},
   "outputs": [
    {
     "output_type": "stream",
     "name": "stdout",
     "text": [
      "<class 'pandas.core.frame.DataFrame'>\nRangeIndex: 149999 entries, 0 to 149998\nData columns (total 34 columns):\n #   Column             Non-Null Count   Dtype  \n---  ------             --------------   -----  \n 0   SaleID             149999 non-null  int64  \n 1   name               149999 non-null  int64  \n 2   regDate            149999 non-null  int64  \n 3   model              149999 non-null  float64\n 4   brand              149999 non-null  int64  \n 5   bodyType           149999 non-null  float64\n 6   fuelType           149999 non-null  float64\n 7   gearbox            149999 non-null  float64\n 8   power              149999 non-null  int64  \n 9   kilometer          149999 non-null  float64\n 10  notRepairedDamage  149999 non-null  float64\n 11  regionCode         149999 non-null  int64  \n 12  seller             149999 non-null  int64  \n 13  offerType          149999 non-null  int64  \n 14  creatDate          149999 non-null  int64  \n 15  v_0                149999 non-null  float64\n 16  v_1                149999 non-null  float64\n 17  v_2                149999 non-null  float64\n 18  v_3                149999 non-null  float64\n 19  v_4                149999 non-null  float64\n 20  v_5                149999 non-null  float64\n 21  v_6                149999 non-null  float64\n 22  v_7                149999 non-null  float64\n 23  v_8                149999 non-null  float64\n 24  v_9                149999 non-null  float64\n 25  v_10               149999 non-null  float64\n 26  v_11               149999 non-null  float64\n 27  v_12               149999 non-null  float64\n 28  v_13               149999 non-null  float64\n 29  v_14               149999 non-null  float64\n 30  price              149999 non-null  int64  \n 31  year               149999 non-null  int64  \n 32  month              149999 non-null  int64  \n 33  day                149999 non-null  int64  \ndtypes: float64(21), int64(13)\nmemory usage: 38.9 MB\n"
     ]
    }
   ],
   "source": [
    "train_data.info()"
   ]
  },
  {
   "cell_type": "code",
   "execution_count": 79,
   "metadata": {},
   "outputs": [],
   "source": [
    "train_data=train_data.astype({'year':'int64','month':'int64','day':'int64'})"
   ]
  },
  {
   "cell_type": "code",
   "execution_count": 83,
   "metadata": {},
   "outputs": [],
   "source": [
    "train_data['month']=train_data['month'].replace(0,3)"
   ]
  },
  {
   "cell_type": "code",
   "execution_count": 96,
   "metadata": {},
   "outputs": [
    {
     "output_type": "execute_result",
     "data": {
      "text/plain": [
       "   SaleID    name   regDate  model  brand  bodyType  fuelType  gearbox  power  \\\n",
       "0       0     736  20040402   30.0      6       1.0       0.0      0.0     60   \n",
       "1       1    2262  20030301   40.0      1       2.0       0.0      0.0      0   \n",
       "2       2   14874  20040403  115.0     15       1.0       0.0      0.0    163   \n",
       "3       3   71865  19960908  109.0     10       0.0       0.0      1.0    193   \n",
       "4       4  111080  20120103  110.0      5       1.0       0.0      0.0     68   \n",
       "\n",
       "   kilometer  ...      v_12      v_13      v_14  price  year  month  day  \\\n",
       "0       12.5  ... -2.420821  0.795292  0.914762   1850  2004      4    2   \n",
       "1       15.0  ... -1.030483 -1.722674  0.245522   3600  2003      3    1   \n",
       "2       12.5  ...  1.565330 -0.832687 -0.229963   6222  2004      4    3   \n",
       "3       15.0  ... -0.501868 -2.438353 -0.478699   2400  1996      9    8   \n",
       "4        5.0  ...  0.931110  2.834518  1.923482   5200  2012      1    3   \n",
       "\n",
       "    datetime  week  day_of_year  \n",
       "0 2004-04-02    14           93  \n",
       "1 2003-03-01     9           60  \n",
       "2 2004-04-03    14           94  \n",
       "3 1996-09-08    36          252  \n",
       "4 2012-01-03     1            3  \n",
       "\n",
       "[5 rows x 37 columns]"
      ],
      "text/html": "<div>\n<style scoped>\n    .dataframe tbody tr th:only-of-type {\n        vertical-align: middle;\n    }\n\n    .dataframe tbody tr th {\n        vertical-align: top;\n    }\n\n    .dataframe thead th {\n        text-align: right;\n    }\n</style>\n<table border=\"1\" class=\"dataframe\">\n  <thead>\n    <tr style=\"text-align: right;\">\n      <th></th>\n      <th>SaleID</th>\n      <th>name</th>\n      <th>regDate</th>\n      <th>model</th>\n      <th>brand</th>\n      <th>bodyType</th>\n      <th>fuelType</th>\n      <th>gearbox</th>\n      <th>power</th>\n      <th>kilometer</th>\n      <th>...</th>\n      <th>v_12</th>\n      <th>v_13</th>\n      <th>v_14</th>\n      <th>price</th>\n      <th>year</th>\n      <th>month</th>\n      <th>day</th>\n      <th>datetime</th>\n      <th>week</th>\n      <th>day_of_year</th>\n    </tr>\n  </thead>\n  <tbody>\n    <tr>\n      <th>0</th>\n      <td>0</td>\n      <td>736</td>\n      <td>20040402</td>\n      <td>30.0</td>\n      <td>6</td>\n      <td>1.0</td>\n      <td>0.0</td>\n      <td>0.0</td>\n      <td>60</td>\n      <td>12.5</td>\n      <td>...</td>\n      <td>-2.420821</td>\n      <td>0.795292</td>\n      <td>0.914762</td>\n      <td>1850</td>\n      <td>2004</td>\n      <td>4</td>\n      <td>2</td>\n      <td>2004-04-02</td>\n      <td>14</td>\n      <td>93</td>\n    </tr>\n    <tr>\n      <th>1</th>\n      <td>1</td>\n      <td>2262</td>\n      <td>20030301</td>\n      <td>40.0</td>\n      <td>1</td>\n      <td>2.0</td>\n      <td>0.0</td>\n      <td>0.0</td>\n      <td>0</td>\n      <td>15.0</td>\n      <td>...</td>\n      <td>-1.030483</td>\n      <td>-1.722674</td>\n      <td>0.245522</td>\n      <td>3600</td>\n      <td>2003</td>\n      <td>3</td>\n      <td>1</td>\n      <td>2003-03-01</td>\n      <td>9</td>\n      <td>60</td>\n    </tr>\n    <tr>\n      <th>2</th>\n      <td>2</td>\n      <td>14874</td>\n      <td>20040403</td>\n      <td>115.0</td>\n      <td>15</td>\n      <td>1.0</td>\n      <td>0.0</td>\n      <td>0.0</td>\n      <td>163</td>\n      <td>12.5</td>\n      <td>...</td>\n      <td>1.565330</td>\n      <td>-0.832687</td>\n      <td>-0.229963</td>\n      <td>6222</td>\n      <td>2004</td>\n      <td>4</td>\n      <td>3</td>\n      <td>2004-04-03</td>\n      <td>14</td>\n      <td>94</td>\n    </tr>\n    <tr>\n      <th>3</th>\n      <td>3</td>\n      <td>71865</td>\n      <td>19960908</td>\n      <td>109.0</td>\n      <td>10</td>\n      <td>0.0</td>\n      <td>0.0</td>\n      <td>1.0</td>\n      <td>193</td>\n      <td>15.0</td>\n      <td>...</td>\n      <td>-0.501868</td>\n      <td>-2.438353</td>\n      <td>-0.478699</td>\n      <td>2400</td>\n      <td>1996</td>\n      <td>9</td>\n      <td>8</td>\n      <td>1996-09-08</td>\n      <td>36</td>\n      <td>252</td>\n    </tr>\n    <tr>\n      <th>4</th>\n      <td>4</td>\n      <td>111080</td>\n      <td>20120103</td>\n      <td>110.0</td>\n      <td>5</td>\n      <td>1.0</td>\n      <td>0.0</td>\n      <td>0.0</td>\n      <td>68</td>\n      <td>5.0</td>\n      <td>...</td>\n      <td>0.931110</td>\n      <td>2.834518</td>\n      <td>1.923482</td>\n      <td>5200</td>\n      <td>2012</td>\n      <td>1</td>\n      <td>3</td>\n      <td>2012-01-03</td>\n      <td>1</td>\n      <td>3</td>\n    </tr>\n  </tbody>\n</table>\n<p>5 rows × 37 columns</p>\n</div>"
     },
     "metadata": {},
     "execution_count": 96
    }
   ],
   "source": [
    "train_data.head()"
   ]
  },
  {
   "cell_type": "code",
   "execution_count": 87,
   "metadata": {},
   "outputs": [],
   "source": [
    "from datetime import datetime\n",
    "date_list=[datetime(x,y,z) for x,y,z in zip(train_data.year,train_data.month,train_data.day)]\n",
    "date_list=pd.DataFrame(date_list)\n",
    "train_data['datetime']=date_list\n"
   ]
  },
  {
   "cell_type": "code",
   "execution_count": 95,
   "metadata": {},
   "outputs": [],
   "source": [
    "train_data['year']=train_data['datetime'].apply(lambda x:x.year)\n",
    "train_data['week']=train_data['datetime'].apply(lambda x:x.week)\n",
    "train_data['day_of_year']=train_data['datetime'].apply(lambda x:x.dayofyear)"
   ]
  },
  {
   "cell_type": "code",
   "execution_count": null,
   "metadata": {},
   "outputs": [],
   "source": []
  }
 ]
}