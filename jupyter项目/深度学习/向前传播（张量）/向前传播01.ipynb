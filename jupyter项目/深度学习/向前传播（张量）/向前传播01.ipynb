{
 "cells": [
  {
   "cell_type": "code",
   "execution_count": 1,
   "metadata": {
    "collapsed": true
   },
   "outputs": [],
   "source": [
    "import tensorflow as tf \n",
    "from tensorflow import keras\n",
    "from tensorflow.keras import datasets #kerass提供的数据集"
   ]
  },
  {
   "source": [
    "### 一、加载数据"
   ],
   "cell_type": "markdown",
   "metadata": {}
  },
  {
   "cell_type": "code",
   "execution_count": 2,
   "outputs": [
    {
     "output_type": "stream",
     "name": "stdout",
     "text": [
      "Downloading data from https://storage.googleapis.com/tensorflow/tf-keras-datasets/mnist.npz\n",
      "11493376/11490434 [==============================] - 2s 0us/step\n"
     ]
    }
   ],
   "source": [
    "#加载数据集\n",
    "(x,y),_=datasets.mnist.load_data()"
   ],
   "metadata": {
    "collapsed": false,
    "pycharm": {
     "name": "#%%\n"
    }
   }
  },
  {
   "source": [
    "### 二、将数据转换成tensor"
   ],
   "cell_type": "markdown",
   "metadata": {}
  },
  {
   "cell_type": "code",
   "execution_count": 4,
   "metadata": {},
   "outputs": [],
   "source": [
    "#转换成tensor\n",
    "x=tf.convert_to_tensor(x,dtype=tf.float32)\n",
    "y=tf.convert_to_tensor(y,dtype=tf.int32)"
   ]
  },
  {
   "source": [
    "### 三、查看数据形状"
   ],
   "cell_type": "markdown",
   "metadata": {}
  },
  {
   "cell_type": "code",
   "execution_count": 5,
   "metadata": {},
   "outputs": [
    {
     "output_type": "execute_result",
     "data": {
      "text/plain": [
       "TensorShape([60000, 28, 28])"
      ]
     },
     "metadata": {},
     "execution_count": 5
    }
   ],
   "source": [
    "x.shape"
   ]
  },
  {
   "cell_type": "code",
   "execution_count": 6,
   "metadata": {},
   "outputs": [
    {
     "output_type": "execute_result",
     "data": {
      "text/plain": [
       "TensorShape([60000])"
      ]
     },
     "metadata": {},
     "execution_count": 6
    }
   ],
   "source": [
    "y.shape"
   ]
  },
  {
   "cell_type": "code",
   "execution_count": 7,
   "metadata": {},
   "outputs": [
    {
     "output_type": "execute_result",
     "data": {
      "text/plain": [
       "tf.float32"
      ]
     },
     "metadata": {},
     "execution_count": 7
    }
   ],
   "source": [
    "x.dtype"
   ]
  },
  {
   "cell_type": "code",
   "execution_count": 8,
   "metadata": {},
   "outputs": [
    {
     "output_type": "execute_result",
     "data": {
      "text/plain": [
       "tf.int32"
      ]
     },
     "metadata": {},
     "execution_count": 8
    }
   ],
   "source": [
    "y.dtype"
   ]
  },
  {
   "cell_type": "code",
   "execution_count": 9,
   "metadata": {},
   "outputs": [
    {
     "output_type": "execute_result",
     "data": {
      "text/plain": [
       "<tf.Tensor: shape=(), dtype=float32, numpy=0.0>"
      ]
     },
     "metadata": {},
     "execution_count": 9
    }
   ],
   "source": [
    "#查看最小值\n",
    "tf.reduce_min(x)"
   ]
  },
  {
   "cell_type": "code",
   "execution_count": 10,
   "metadata": {},
   "outputs": [
    {
     "output_type": "execute_result",
     "data": {
      "text/plain": [
       "<tf.Tensor: shape=(), dtype=float32, numpy=255.0>"
      ]
     },
     "metadata": {},
     "execution_count": 10
    }
   ],
   "source": [
    "#查看最大值\n",
    "tf.reduce_max(x)"
   ]
  },
  {
   "cell_type": "code",
   "execution_count": 11,
   "metadata": {},
   "outputs": [
    {
     "output_type": "execute_result",
     "data": {
      "text/plain": [
       "<tf.Tensor: shape=(), dtype=int32, numpy=0>"
      ]
     },
     "metadata": {},
     "execution_count": 11
    }
   ],
   "source": [
    "#查看最小值\n",
    "tf.reduce_min(y)"
   ]
  },
  {
   "cell_type": "code",
   "execution_count": 12,
   "metadata": {},
   "outputs": [
    {
     "output_type": "execute_result",
     "data": {
      "text/plain": [
       "<tf.Tensor: shape=(), dtype=int32, numpy=9>"
      ]
     },
     "metadata": {},
     "execution_count": 12
    }
   ],
   "source": [
    "#查看最大值\n",
    "tf.reduce_max(y)"
   ]
  },
  {
   "source": [
    "### 四、数据缩放"
   ],
   "cell_type": "markdown",
   "metadata": {}
  },
  {
   "cell_type": "code",
   "execution_count": 14,
   "metadata": {},
   "outputs": [],
   "source": [
    "#通过刚刚查看数据的最大最小值，利用数据的最大值，将数据缩放到0~1之间有利于tensorflow训练\n",
    "x=tf.convert_to_tensor(x,dtype=tf.float32)/255\n",
    "#y值之后会做one-hot编码，所以这里不用缩放\n",
    "# y=tf.convert_to_tensor(y,dtype=tf.int32)/9"
   ]
  },
  {
   "source": [
    "### 五、创建一个数据集"
   ],
   "cell_type": "markdown",
   "metadata": {}
  },
  {
   "cell_type": "code",
   "execution_count": 16,
   "metadata": {},
   "outputs": [],
   "source": [
    "#创建一个数据集，指定一次取出的数据的多少，这里一次取128\n",
    "train_db=tf.data.Dataset.from_tensor_slices((x,y)).batch(128)"
   ]
  },
  {
   "cell_type": "code",
   "execution_count": 17,
   "metadata": {},
   "outputs": [],
   "source": [
    "train_iter=iter(train_db)\n",
    "sample=next(train_iter)"
   ]
  },
  {
   "cell_type": "code",
   "execution_count": 19,
   "metadata": {},
   "outputs": [
    {
     "output_type": "execute_result",
     "data": {
      "text/plain": [
       "TensorShape([128, 28, 28])"
      ]
     },
     "metadata": {},
     "execution_count": 19
    }
   ],
   "source": [
    "sample[0].shape"
   ]
  },
  {
   "cell_type": "code",
   "execution_count": 22,
   "metadata": {},
   "outputs": [
    {
     "output_type": "execute_result",
     "data": {
      "text/plain": [
       "TensorShape([128])"
      ]
     },
     "metadata": {},
     "execution_count": 22
    }
   ],
   "source": [
    "sample[1].shape"
   ]
  },
  {
   "cell_type": "code",
   "execution_count": 24,
   "metadata": {},
   "outputs": [],
   "source": [
    "#截取正太分布的某一个范围的数据\n",
    "#[b,784]=>[b,256]=>[b,128]=>[b,10]\n",
    "#w的第一个参数是输入，第二个参数是输出\n",
    "#b的参数要w的输出保持一致\n",
    "w1=tf.random.truncated_normal([784,256])\n",
    "b1=tf.zeros([256])\n",
    "w2=tf.random.truncated_normal([256,128])\n",
    "b2=tf.zeros([128])\n",
    "w3=tf.random.truncated_normal([128,10])\n",
    "b3=tf.zeros([10])"
   ]
  },
  {
   "cell_type": "code",
   "execution_count": null,
   "metadata": {},
   "outputs": [],
   "source": [
    "#前向运算\n",
    "# 使用公式h1=x@w1+b1\n",
    "for (x,y) in train_db:\n",
    "    #x:[128,28,28]\n",
    "    #y:[128]\n",
    "    x=tf.reshape(x,[-1,28*28]) #维度变换[b,28,28]=>[b,28*28]\n",
    "    h1=x@w1+tf.broadcast_to(b1,[x.shape[0],256]) #[b,784]@[784,256]+[256]=>[b,256]+[256]矩阵相乘"
   ]
  }
 ],
 "metadata": {
  "kernelspec": {
   "name": "python38364bitbasecondad9bd0a7157c84fa7bace955ad09d0846",
   "language": "python",
   "display_name": "Python 3.8.3 64-bit ('base': conda)"
  },
  "language_info": {
   "codemirror_mode": {
    "name": "ipython",
    "version": 2
   },
   "file_extension": ".py",
   "mimetype": "text/x-python",
   "name": "python",
   "nbconvert_exporter": "python",
   "pygments_lexer": "ipython2",
   "version": "3.8.3-final"
  }
 },
 "nbformat": 4,
 "nbformat_minor": 0
}