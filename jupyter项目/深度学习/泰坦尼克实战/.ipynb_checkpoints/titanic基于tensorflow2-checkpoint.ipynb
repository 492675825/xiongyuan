{
 "cells": [
  {
   "cell_type": "code",
   "execution_count": 1,
   "metadata": {},
   "outputs": [
    {
     "name": "stdout",
     "output_type": "stream",
     "text": [
      "2.3.1\n"
     ]
    }
   ],
   "source": [
    "import pandas as pd \n",
    "import numpy as np \n",
    "import os\n",
    "import time\n",
    "import tensorflow as tf\n",
    "from tensorflow import keras\n",
    "import warnings\n",
    "warnings.filterwarnings('ignore')\n",
    "print(tf.__version__)"
   ]
  },
  {
   "cell_type": "markdown",
   "metadata": {},
   "source": [
    "### 一、导入数据"
   ]
  },
  {
   "cell_type": "code",
   "execution_count": 2,
   "metadata": {},
   "outputs": [],
   "source": [
    "train_file='./train.csv'\n",
    "eval_file='./eval.csv'"
   ]
  },
  {
   "cell_type": "code",
   "execution_count": 3,
   "metadata": {},
   "outputs": [],
   "source": [
    "#导入训练集和测试集\n",
    "train_df=pd.read_csv(train_file)\n",
    "eval_df=pd.read_csv(eval_file)"
   ]
  },
  {
   "cell_type": "code",
   "execution_count": 4,
   "metadata": {},
   "outputs": [],
   "source": [
    "#pop函数可以将dataFrame中的某个字段提出掉,同时指定某个变量去接受去掉的那个字段\n",
    "y_train=train_df.pop('survived')\n",
    "y_eval=eval_df.pop('survived')"
   ]
  },
  {
   "cell_type": "markdown",
   "metadata": {},
   "source": [
    "### 二、将csv的数据包装成tensorflow可以识别的的格式"
   ]
  },
  {
   "cell_type": "code",
   "execution_count": 5,
   "metadata": {},
   "outputs": [
    {
     "name": "stdout",
     "output_type": "stream",
     "text": [
      "sex ['male' 'female']\n",
      "n_siblings_spouses [1 0 3 4 2 5 8]\n",
      "parch [0 1 2 5 3 4]\n",
      "class ['Third' 'First' 'Second']\n",
      "deck ['unknown' 'C' 'G' 'A' 'B' 'D' 'F' 'E']\n",
      "embark_town ['Southampton' 'Cherbourg' 'Queenstown' 'unknown']\n",
      "alone ['n' 'y']\n"
     ]
    }
   ],
   "source": [
    "#离散特征群\n",
    "categorical_columns=['sex','n_siblings_spouses','parch','class','deck',\n",
    "    'embark_town','alone']\n",
    "#连续特征群\n",
    "numeric_columns=['age','fare']\n",
    "\n",
    "feature_columns=[]\n",
    "\n",
    "for categorical_column in categorical_columns:\n",
    "    vocab=train_df[categorical_column].unique()\n",
    "    print(categorical_column,vocab)\n",
    "    #transform categorical type feature\n",
    "    #feature and feature`s value\n",
    "    vocab_list=tf.feature_column.categorical_column_with_vocabulary_list(\n",
    "        categorical_column,vocab)\n",
    "    vocab_list=tf.feature_column.indicator_column(vocab_list)\n",
    "    #append categorical data to feature_columns()\n",
    "    feature_columns.append(vocab_list)\n",
    "\n",
    "for categorical_column in numeric_columns:\n",
    "    #transform numeric type feature\n",
    "    #must define data type to float\n",
    "    num_list=tf.feature_column.numeric_column(categorical_column,dtype=tf.float32)\n",
    "    #append numeric data to feature_columns()\n",
    "    feature_columns.append(num_list)"
   ]
  },
  {
   "cell_type": "code",
   "execution_count": 6,
   "metadata": {},
   "outputs": [
    {
     "data": {
      "text/plain": [
       "[IndicatorColumn(categorical_column=VocabularyListCategoricalColumn(key='sex', vocabulary_list=('male', 'female'), dtype=tf.string, default_value=-1, num_oov_buckets=0)),\n",
       " IndicatorColumn(categorical_column=VocabularyListCategoricalColumn(key='n_siblings_spouses', vocabulary_list=(1, 0, 3, 4, 2, 5, 8), dtype=tf.int64, default_value=-1, num_oov_buckets=0)),\n",
       " IndicatorColumn(categorical_column=VocabularyListCategoricalColumn(key='parch', vocabulary_list=(0, 1, 2, 5, 3, 4), dtype=tf.int64, default_value=-1, num_oov_buckets=0)),\n",
       " IndicatorColumn(categorical_column=VocabularyListCategoricalColumn(key='class', vocabulary_list=('Third', 'First', 'Second'), dtype=tf.string, default_value=-1, num_oov_buckets=0)),\n",
       " IndicatorColumn(categorical_column=VocabularyListCategoricalColumn(key='deck', vocabulary_list=('unknown', 'C', 'G', 'A', 'B', 'D', 'F', 'E'), dtype=tf.string, default_value=-1, num_oov_buckets=0)),\n",
       " IndicatorColumn(categorical_column=VocabularyListCategoricalColumn(key='embark_town', vocabulary_list=('Southampton', 'Cherbourg', 'Queenstown', 'unknown'), dtype=tf.string, default_value=-1, num_oov_buckets=0)),\n",
       " IndicatorColumn(categorical_column=VocabularyListCategoricalColumn(key='alone', vocabulary_list=('n', 'y'), dtype=tf.string, default_value=-1, num_oov_buckets=0)),\n",
       " NumericColumn(key='age', shape=(1,), default_value=None, dtype=tf.float32, normalizer_fn=None),\n",
       " NumericColumn(key='fare', shape=(1,), default_value=None, dtype=tf.float32, normalizer_fn=None)]"
      ]
     },
     "execution_count": 6,
     "metadata": {},
     "output_type": "execute_result"
    }
   ],
   "source": [
    "feature_columns"
   ]
  },
  {
   "cell_type": "markdown",
   "metadata": {},
   "source": [
    "### 三、定义创建dataset数据集函数"
   ]
  },
  {
   "cell_type": "code",
   "execution_count": 7,
   "metadata": {},
   "outputs": [],
   "source": [
    "def make_dataset(data_df,label_df,epochs=10,shuffle=True,batch_size=32):\n",
    "    #must transform dataFrame type to key:value type\n",
    "    dataset=tf.data.Dataset.from_tensor_slices((dict(data_df),label_df))\n",
    "    if shuffle:\n",
    "        dataset=dataset.shuffle(10000)\n",
    "    dataset=dataset.repeat(epochs).batch(batch_size)\n",
    "    return dataset"
   ]
  },
  {
   "cell_type": "markdown",
   "metadata": {},
   "source": [
    "### 四、创建训练和测试样本"
   ]
  },
  {
   "cell_type": "code",
   "execution_count": 8,
   "metadata": {},
   "outputs": [],
   "source": [
    "#创建train and test 的dataset\n",
    "train_dataset=make_dataset(train_df,y_train,epochs=100,)\n",
    "eval_dataset=make_dataset(eval_df,y_eval,epochs=1,shuffle=False)"
   ]
  },
  {
   "cell_type": "markdown",
   "metadata": {},
   "source": [
    "### 五、创建神经网络模型"
   ]
  },
  {
   "cell_type": "code",
   "execution_count": 9,
   "metadata": {},
   "outputs": [],
   "source": [
    "#用keras建立神经网络模型\n",
    "model=keras.models.Sequential()\n",
    "#first-tier must DenseFeatures()\n",
    "model.add(keras.layers.DenseFeatures(feature_columns))\n",
    "'''\n",
    "    use the module keras.layers.DenseFeature\n",
    "    if values are categorical type then execute one-hot transform\n",
    "    if values are numeric type then keep the original data content unchanged\n",
    "'''\n",
    "model.add(keras.layers.Dense(100,activation='relu'))\n",
    "model.add(keras.layers.Dense(100,activation='relu'))\n",
    "model.add(keras.layers.Dense(2,activation='softmax'))\n",
    "\n",
    "model.compile(loss='sparse_categorical_crossentropy',\n",
    "                optimizer=keras.optimizers.SGD(lr=0.01),\n",
    "             metrics=['accuracy'])"
   ]
  },
  {
   "cell_type": "markdown",
   "metadata": {},
   "source": [
    "### 六、模型训练"
   ]
  },
  {
   "cell_type": "code",
   "execution_count": 10,
   "metadata": {},
   "outputs": [
    {
     "name": "stdout",
     "output_type": "stream",
     "text": [
      "Epoch 1/100\n",
      "WARNING:tensorflow:Layers in a Sequential model should only have a single input tensor, but we receive a <class 'dict'> input: {'sex': <tf.Tensor 'ExpandDims_8:0' shape=(None, 1) dtype=string>, 'age': <tf.Tensor 'ExpandDims:0' shape=(None, 1) dtype=float64>, 'n_siblings_spouses': <tf.Tensor 'ExpandDims_6:0' shape=(None, 1) dtype=int64>, 'parch': <tf.Tensor 'ExpandDims_7:0' shape=(None, 1) dtype=int64>, 'fare': <tf.Tensor 'ExpandDims_5:0' shape=(None, 1) dtype=float64>, 'class': <tf.Tensor 'ExpandDims_2:0' shape=(None, 1) dtype=string>, 'deck': <tf.Tensor 'ExpandDims_3:0' shape=(None, 1) dtype=string>, 'embark_town': <tf.Tensor 'ExpandDims_4:0' shape=(None, 1) dtype=string>, 'alone': <tf.Tensor 'ExpandDims_1:0' shape=(None, 1) dtype=string>}\n",
      "Consider rewriting this model with the Functional API.\n",
      "WARNING:tensorflow:Layer dense_features is casting an input tensor from dtype float64 to the layer's dtype of float32, which is new behavior in TensorFlow 2.  The layer has dtype float32 because its dtype defaults to floatx.\n",
      "\n",
      "If you intended to run this layer in float32, you can safely ignore this warning. If in doubt, this warning is likely only an issue if you are porting a TensorFlow 1.X model to TensorFlow 2.\n",
      "\n",
      "To change all layers to have dtype float64 by default, call `tf.keras.backend.set_floatx('float64')`. To change just this layer, pass dtype='float64' to the layer constructor. If you are the author of this layer, you can disable autocasting by passing autocast=False to the base Layer constructor.\n",
      "\n",
      "WARNING:tensorflow:Layers in a Sequential model should only have a single input tensor, but we receive a <class 'dict'> input: {'sex': <tf.Tensor 'ExpandDims_8:0' shape=(None, 1) dtype=string>, 'age': <tf.Tensor 'ExpandDims:0' shape=(None, 1) dtype=float64>, 'n_siblings_spouses': <tf.Tensor 'ExpandDims_6:0' shape=(None, 1) dtype=int64>, 'parch': <tf.Tensor 'ExpandDims_7:0' shape=(None, 1) dtype=int64>, 'fare': <tf.Tensor 'ExpandDims_5:0' shape=(None, 1) dtype=float64>, 'class': <tf.Tensor 'ExpandDims_2:0' shape=(None, 1) dtype=string>, 'deck': <tf.Tensor 'ExpandDims_3:0' shape=(None, 1) dtype=string>, 'embark_town': <tf.Tensor 'ExpandDims_4:0' shape=(None, 1) dtype=string>, 'alone': <tf.Tensor 'ExpandDims_1:0' shape=(None, 1) dtype=string>}\n",
      "Consider rewriting this model with the Functional API.\n",
      " 1/20 [>.............................] - ETA: 0s - loss: 2.5634 - accuracy: 0.3125WARNING:tensorflow:Layers in a Sequential model should only have a single input tensor, but we receive a <class 'dict'> input: {'sex': <tf.Tensor 'ExpandDims_8:0' shape=(None, 1) dtype=string>, 'age': <tf.Tensor 'ExpandDims:0' shape=(None, 1) dtype=float64>, 'n_siblings_spouses': <tf.Tensor 'ExpandDims_6:0' shape=(None, 1) dtype=int64>, 'parch': <tf.Tensor 'ExpandDims_7:0' shape=(None, 1) dtype=int64>, 'fare': <tf.Tensor 'ExpandDims_5:0' shape=(None, 1) dtype=float64>, 'class': <tf.Tensor 'ExpandDims_2:0' shape=(None, 1) dtype=string>, 'deck': <tf.Tensor 'ExpandDims_3:0' shape=(None, 1) dtype=string>, 'embark_town': <tf.Tensor 'ExpandDims_4:0' shape=(None, 1) dtype=string>, 'alone': <tf.Tensor 'ExpandDims_1:0' shape=(None, 1) dtype=string>}\n",
      "Consider rewriting this model with the Functional API.\n",
      "20/20 [==============================] - 1s 31ms/step - loss: 1.6310 - accuracy: 0.6125 - val_loss: 1.1893 - val_accuracy: 0.4531\n",
      "Epoch 2/100\n",
      "20/20 [==============================] - 0s 3ms/step - loss: 0.8970 - accuracy: 0.6078 - val_loss: 0.6105 - val_accuracy: 0.6641\n",
      "Epoch 3/100\n",
      "20/20 [==============================] - 0s 3ms/step - loss: 0.6377 - accuracy: 0.6797 - val_loss: 0.6063 - val_accuracy: 0.6875\n",
      "Epoch 4/100\n",
      "20/20 [==============================] - 0s 3ms/step - loss: 0.6190 - accuracy: 0.6750 - val_loss: 0.6344 - val_accuracy: 0.6758\n",
      "Epoch 5/100\n",
      "20/20 [==============================] - 0s 4ms/step - loss: 0.6666 - accuracy: 0.6547 - val_loss: 0.5881 - val_accuracy: 0.7031\n",
      "Epoch 6/100\n",
      "20/20 [==============================] - 0s 3ms/step - loss: 0.6070 - accuracy: 0.6844 - val_loss: 0.5863 - val_accuracy: 0.6875\n",
      "Epoch 7/100\n",
      "20/20 [==============================] - 0s 3ms/step - loss: 0.5991 - accuracy: 0.7094 - val_loss: 0.6098 - val_accuracy: 0.7070\n",
      "Epoch 8/100\n",
      "20/20 [==============================] - 0s 3ms/step - loss: 0.6006 - accuracy: 0.6891 - val_loss: 0.6005 - val_accuracy: 0.6758\n",
      "Epoch 9/100\n",
      "20/20 [==============================] - 0s 4ms/step - loss: 0.5791 - accuracy: 0.7156 - val_loss: 0.5769 - val_accuracy: 0.6992\n",
      "Epoch 10/100\n",
      "20/20 [==============================] - 0s 4ms/step - loss: 0.5965 - accuracy: 0.6812 - val_loss: 0.5824 - val_accuracy: 0.6992\n",
      "Epoch 11/100\n",
      "20/20 [==============================] - 0s 4ms/step - loss: 0.5881 - accuracy: 0.7063 - val_loss: 0.5754 - val_accuracy: 0.6953\n",
      "Epoch 12/100\n",
      "20/20 [==============================] - 0s 3ms/step - loss: 0.5883 - accuracy: 0.6953 - val_loss: 0.5811 - val_accuracy: 0.7031\n",
      "Epoch 13/100\n",
      "20/20 [==============================] - 0s 3ms/step - loss: 0.6030 - accuracy: 0.6734 - val_loss: 0.5763 - val_accuracy: 0.7031\n",
      "Epoch 14/100\n",
      "20/20 [==============================] - 0s 3ms/step - loss: 0.5779 - accuracy: 0.6875 - val_loss: 0.5866 - val_accuracy: 0.6797\n",
      "Epoch 15/100\n",
      "20/20 [==============================] - 0s 3ms/step - loss: 0.5823 - accuracy: 0.6906 - val_loss: 0.5690 - val_accuracy: 0.7109\n",
      "Epoch 16/100\n",
      "20/20 [==============================] - 0s 3ms/step - loss: 0.5855 - accuracy: 0.6812 - val_loss: 0.5707 - val_accuracy: 0.7109\n",
      "Epoch 17/100\n",
      "20/20 [==============================] - 0s 3ms/step - loss: 0.5892 - accuracy: 0.6938 - val_loss: 0.5864 - val_accuracy: 0.6914\n",
      "Epoch 18/100\n",
      "20/20 [==============================] - 0s 3ms/step - loss: 0.5790 - accuracy: 0.6859 - val_loss: 0.5554 - val_accuracy: 0.6992\n",
      "Epoch 19/100\n",
      "20/20 [==============================] - 0s 3ms/step - loss: 0.5781 - accuracy: 0.7141 - val_loss: 0.6957 - val_accuracy: 0.6250\n",
      "Epoch 20/100\n",
      "20/20 [==============================] - 0s 3ms/step - loss: 0.5774 - accuracy: 0.6953 - val_loss: 0.5654 - val_accuracy: 0.6953\n",
      "Epoch 21/100\n",
      "20/20 [==============================] - 0s 3ms/step - loss: 0.5675 - accuracy: 0.7109 - val_loss: 0.5622 - val_accuracy: 0.7109\n",
      "Epoch 22/100\n",
      "20/20 [==============================] - 0s 3ms/step - loss: 0.5655 - accuracy: 0.7063 - val_loss: 0.5532 - val_accuracy: 0.7031\n",
      "Epoch 23/100\n",
      "20/20 [==============================] - 0s 3ms/step - loss: 0.5806 - accuracy: 0.7000 - val_loss: 0.5559 - val_accuracy: 0.6953\n",
      "Epoch 24/100\n",
      "20/20 [==============================] - 0s 3ms/step - loss: 0.5741 - accuracy: 0.7078 - val_loss: 0.5490 - val_accuracy: 0.6797\n",
      "Epoch 25/100\n",
      "20/20 [==============================] - 0s 3ms/step - loss: 0.5469 - accuracy: 0.7297 - val_loss: 0.6325 - val_accuracy: 0.6562\n",
      "Epoch 26/100\n",
      "20/20 [==============================] - 0s 3ms/step - loss: 0.5733 - accuracy: 0.7094 - val_loss: 0.5585 - val_accuracy: 0.7109\n",
      "Epoch 27/100\n",
      "20/20 [==============================] - 0s 3ms/step - loss: 0.5621 - accuracy: 0.7125 - val_loss: 0.5438 - val_accuracy: 0.7148\n",
      "Epoch 28/100\n",
      "20/20 [==============================] - 0s 3ms/step - loss: 0.5594 - accuracy: 0.7234 - val_loss: 0.5386 - val_accuracy: 0.7188\n",
      "Epoch 29/100\n",
      "20/20 [==============================] - 0s 3ms/step - loss: 0.5456 - accuracy: 0.7203 - val_loss: 0.5352 - val_accuracy: 0.7031\n",
      "Epoch 30/100\n",
      "20/20 [==============================] - 0s 3ms/step - loss: 0.5303 - accuracy: 0.7156 - val_loss: 0.5481 - val_accuracy: 0.6914\n",
      "Epoch 31/100\n",
      "20/20 [==============================] - 0s 3ms/step - loss: 0.5752 - accuracy: 0.7016 - val_loss: 0.5631 - val_accuracy: 0.7109\n",
      "Epoch 32/100\n",
      "20/20 [==============================] - 0s 3ms/step - loss: 0.5532 - accuracy: 0.7188 - val_loss: 0.5517 - val_accuracy: 0.6914\n",
      "Epoch 33/100\n",
      "20/20 [==============================] - 0s 3ms/step - loss: 0.5543 - accuracy: 0.7188 - val_loss: 0.5404 - val_accuracy: 0.7188\n",
      "Epoch 34/100\n",
      "20/20 [==============================] - 0s 3ms/step - loss: 0.5485 - accuracy: 0.7312 - val_loss: 0.5666 - val_accuracy: 0.7188\n",
      "Epoch 35/100\n",
      "20/20 [==============================] - 0s 3ms/step - loss: 0.5559 - accuracy: 0.7234 - val_loss: 0.5270 - val_accuracy: 0.7188\n",
      "Epoch 36/100\n",
      "20/20 [==============================] - 0s 3ms/step - loss: 0.5563 - accuracy: 0.7406 - val_loss: 0.5318 - val_accuracy: 0.7070\n",
      "Epoch 37/100\n",
      "20/20 [==============================] - 0s 3ms/step - loss: 0.5527 - accuracy: 0.7125 - val_loss: 0.5549 - val_accuracy: 0.7227\n",
      "Epoch 38/100\n",
      "20/20 [==============================] - 0s 3ms/step - loss: 0.5439 - accuracy: 0.7219 - val_loss: 0.5593 - val_accuracy: 0.7109\n",
      "Epoch 39/100\n",
      "20/20 [==============================] - 0s 3ms/step - loss: 0.5585 - accuracy: 0.7016 - val_loss: 0.7861 - val_accuracy: 0.6250\n",
      "Epoch 40/100\n",
      "20/20 [==============================] - 0s 4ms/step - loss: 0.5565 - accuracy: 0.7359 - val_loss: 0.5262 - val_accuracy: 0.7383\n",
      "Epoch 41/100\n",
      "20/20 [==============================] - 0s 4ms/step - loss: 0.5476 - accuracy: 0.7359 - val_loss: 0.6153 - val_accuracy: 0.6250\n",
      "Epoch 42/100\n",
      "20/20 [==============================] - 0s 4ms/step - loss: 0.5718 - accuracy: 0.7016 - val_loss: 0.5869 - val_accuracy: 0.6484\n",
      "Epoch 43/100\n",
      "20/20 [==============================] - 0s 4ms/step - loss: 0.5393 - accuracy: 0.7250 - val_loss: 0.7354 - val_accuracy: 0.6289\n",
      "Epoch 44/100\n",
      "20/20 [==============================] - 0s 3ms/step - loss: 0.5733 - accuracy: 0.7328 - val_loss: 0.5522 - val_accuracy: 0.7109\n",
      "Epoch 45/100\n",
      "20/20 [==============================] - 0s 3ms/step - loss: 0.5310 - accuracy: 0.7547 - val_loss: 0.5317 - val_accuracy: 0.7188\n",
      "Epoch 46/100\n",
      "20/20 [==============================] - 0s 3ms/step - loss: 0.5529 - accuracy: 0.7328 - val_loss: 0.5547 - val_accuracy: 0.7266\n",
      "Epoch 47/100\n",
      "20/20 [==============================] - 0s 3ms/step - loss: 0.5461 - accuracy: 0.7219 - val_loss: 0.5203 - val_accuracy: 0.7344\n",
      "Epoch 48/100\n",
      "20/20 [==============================] - 0s 3ms/step - loss: 0.5499 - accuracy: 0.7516 - val_loss: 0.5240 - val_accuracy: 0.7344\n",
      "Epoch 49/100\n",
      "20/20 [==============================] - 0s 3ms/step - loss: 0.5222 - accuracy: 0.7594 - val_loss: 0.5111 - val_accuracy: 0.7539\n",
      "Epoch 50/100\n",
      "20/20 [==============================] - 0s 3ms/step - loss: 0.5505 - accuracy: 0.7094 - val_loss: 0.5441 - val_accuracy: 0.7148\n",
      "Epoch 51/100\n",
      "20/20 [==============================] - 0s 3ms/step - loss: 0.5527 - accuracy: 0.7234 - val_loss: 0.5204 - val_accuracy: 0.7422\n",
      "Epoch 52/100\n",
      "20/20 [==============================] - 0s 3ms/step - loss: 0.5465 - accuracy: 0.7141 - val_loss: 0.5310 - val_accuracy: 0.6914\n",
      "Epoch 53/100\n",
      "20/20 [==============================] - 0s 3ms/step - loss: 0.5284 - accuracy: 0.7375 - val_loss: 0.5317 - val_accuracy: 0.7344\n",
      "Epoch 54/100\n",
      "20/20 [==============================] - 0s 4ms/step - loss: 0.5208 - accuracy: 0.7656 - val_loss: 0.5146 - val_accuracy: 0.7383\n",
      "Epoch 55/100\n",
      "20/20 [==============================] - 0s 5ms/step - loss: 0.5538 - accuracy: 0.7250 - val_loss: 0.6327 - val_accuracy: 0.6719\n",
      "Epoch 56/100\n",
      "20/20 [==============================] - 0s 4ms/step - loss: 0.5717 - accuracy: 0.7078 - val_loss: 0.5229 - val_accuracy: 0.7109\n",
      "Epoch 57/100\n",
      "20/20 [==============================] - 0s 4ms/step - loss: 0.5293 - accuracy: 0.7266 - val_loss: 0.5539 - val_accuracy: 0.7070\n",
      "Epoch 58/100\n",
      "20/20 [==============================] - 0s 3ms/step - loss: 0.5336 - accuracy: 0.7391 - val_loss: 0.5105 - val_accuracy: 0.7539\n",
      "Epoch 59/100\n",
      "20/20 [==============================] - 0s 4ms/step - loss: 0.5201 - accuracy: 0.7422 - val_loss: 0.5229 - val_accuracy: 0.7461\n",
      "Epoch 60/100\n",
      "20/20 [==============================] - 0s 3ms/step - loss: 0.5573 - accuracy: 0.7469 - val_loss: 0.5217 - val_accuracy: 0.7461\n",
      "Epoch 61/100\n",
      "20/20 [==============================] - 0s 3ms/step - loss: 0.5147 - accuracy: 0.7625 - val_loss: 0.5393 - val_accuracy: 0.7109\n",
      "Epoch 62/100\n",
      "20/20 [==============================] - 0s 3ms/step - loss: 0.5298 - accuracy: 0.7656 - val_loss: 0.5432 - val_accuracy: 0.7188\n",
      "Epoch 63/100\n",
      "20/20 [==============================] - 0s 3ms/step - loss: 0.5027 - accuracy: 0.7734 - val_loss: 0.5170 - val_accuracy: 0.7266\n",
      "Epoch 64/100\n",
      "20/20 [==============================] - 0s 3ms/step - loss: 0.5475 - accuracy: 0.7281 - val_loss: 0.5175 - val_accuracy: 0.7812\n",
      "Epoch 65/100\n",
      "20/20 [==============================] - 0s 3ms/step - loss: 0.5329 - accuracy: 0.7422 - val_loss: 0.4974 - val_accuracy: 0.7383\n",
      "Epoch 66/100\n",
      "20/20 [==============================] - 0s 3ms/step - loss: 0.5136 - accuracy: 0.7375 - val_loss: 0.5370 - val_accuracy: 0.7109\n",
      "Epoch 67/100\n",
      "20/20 [==============================] - 0s 3ms/step - loss: 0.5326 - accuracy: 0.7437 - val_loss: 0.5224 - val_accuracy: 0.7266\n",
      "Epoch 68/100\n",
      "20/20 [==============================] - 0s 3ms/step - loss: 0.5271 - accuracy: 0.7453 - val_loss: 0.5490 - val_accuracy: 0.7148\n",
      "Epoch 69/100\n",
      "20/20 [==============================] - 0s 3ms/step - loss: 0.5301 - accuracy: 0.7625 - val_loss: 0.5285 - val_accuracy: 0.7266\n",
      "Epoch 70/100\n",
      "20/20 [==============================] - 0s 3ms/step - loss: 0.5549 - accuracy: 0.7422 - val_loss: 0.4976 - val_accuracy: 0.7422\n",
      "Epoch 71/100\n",
      "20/20 [==============================] - 0s 3ms/step - loss: 0.5546 - accuracy: 0.7359 - val_loss: 0.5379 - val_accuracy: 0.7305\n",
      "Epoch 72/100\n",
      "20/20 [==============================] - 0s 3ms/step - loss: 0.4992 - accuracy: 0.7406 - val_loss: 0.5186 - val_accuracy: 0.7461\n",
      "Epoch 73/100\n",
      "20/20 [==============================] - 0s 3ms/step - loss: 0.5392 - accuracy: 0.7344 - val_loss: 0.5266 - val_accuracy: 0.7070\n",
      "Epoch 74/100\n",
      "20/20 [==============================] - 0s 3ms/step - loss: 0.5255 - accuracy: 0.7391 - val_loss: 0.4946 - val_accuracy: 0.7539\n",
      "Epoch 75/100\n",
      "20/20 [==============================] - 0s 3ms/step - loss: 0.4937 - accuracy: 0.7766 - val_loss: 0.4969 - val_accuracy: 0.7578\n",
      "Epoch 76/100\n",
      "20/20 [==============================] - 0s 3ms/step - loss: 0.5413 - accuracy: 0.7578 - val_loss: 0.5107 - val_accuracy: 0.7422\n",
      "Epoch 77/100\n",
      "20/20 [==============================] - 0s 3ms/step - loss: 0.5376 - accuracy: 0.7297 - val_loss: 0.5056 - val_accuracy: 0.7500\n",
      "Epoch 78/100\n",
      "20/20 [==============================] - 0s 3ms/step - loss: 0.5010 - accuracy: 0.7797 - val_loss: 0.5351 - val_accuracy: 0.7461\n",
      "Epoch 79/100\n",
      "20/20 [==============================] - 0s 3ms/step - loss: 0.5148 - accuracy: 0.7719 - val_loss: 0.4979 - val_accuracy: 0.7617\n",
      "Epoch 80/100\n",
      "20/20 [==============================] - 0s 4ms/step - loss: 0.4998 - accuracy: 0.7797 - val_loss: 0.5075 - val_accuracy: 0.7344\n",
      "Epoch 81/100\n",
      "20/20 [==============================] - 0s 3ms/step - loss: 0.4781 - accuracy: 0.7812 - val_loss: 0.5447 - val_accuracy: 0.7266\n",
      "Epoch 82/100\n",
      "20/20 [==============================] - 0s 3ms/step - loss: 0.5405 - accuracy: 0.7406 - val_loss: 0.5041 - val_accuracy: 0.7500\n",
      "Epoch 83/100\n",
      "20/20 [==============================] - 0s 3ms/step - loss: 0.4902 - accuracy: 0.7922 - val_loss: 0.5135 - val_accuracy: 0.7461\n",
      "Epoch 84/100\n",
      "20/20 [==============================] - 0s 3ms/step - loss: 0.5361 - accuracy: 0.7391 - val_loss: 0.5152 - val_accuracy: 0.7539\n",
      "Epoch 85/100\n",
      "20/20 [==============================] - 0s 3ms/step - loss: 0.5427 - accuracy: 0.7359 - val_loss: 0.5389 - val_accuracy: 0.7070\n",
      "Epoch 86/100\n",
      "20/20 [==============================] - 0s 3ms/step - loss: 0.5404 - accuracy: 0.7453 - val_loss: 0.5356 - val_accuracy: 0.7227\n",
      "Epoch 87/100\n",
      "20/20 [==============================] - 0s 3ms/step - loss: 0.4947 - accuracy: 0.7750 - val_loss: 0.4899 - val_accuracy: 0.7578\n",
      "Epoch 88/100\n",
      "20/20 [==============================] - 0s 3ms/step - loss: 0.5235 - accuracy: 0.7437 - val_loss: 0.5812 - val_accuracy: 0.6562\n",
      "Epoch 89/100\n",
      "20/20 [==============================] - 0s 3ms/step - loss: 0.5347 - accuracy: 0.7437 - val_loss: 0.5200 - val_accuracy: 0.7305\n",
      "Epoch 90/100\n",
      "20/20 [==============================] - 0s 3ms/step - loss: 0.5271 - accuracy: 0.7453 - val_loss: 0.5005 - val_accuracy: 0.7695\n",
      "Epoch 91/100\n",
      "20/20 [==============================] - 0s 3ms/step - loss: 0.4894 - accuracy: 0.7797 - val_loss: 0.5148 - val_accuracy: 0.7266\n",
      "Epoch 92/100\n",
      "20/20 [==============================] - 0s 3ms/step - loss: 0.5127 - accuracy: 0.7547 - val_loss: 0.5930 - val_accuracy: 0.6484\n",
      "Epoch 93/100\n",
      "20/20 [==============================] - 0s 3ms/step - loss: 0.5386 - accuracy: 0.7500 - val_loss: 0.5025 - val_accuracy: 0.7500\n",
      "Epoch 94/100\n",
      "20/20 [==============================] - 0s 3ms/step - loss: 0.4998 - accuracy: 0.7625 - val_loss: 0.4971 - val_accuracy: 0.7656\n",
      "Epoch 95/100\n",
      "20/20 [==============================] - 0s 3ms/step - loss: 0.5324 - accuracy: 0.7484 - val_loss: 0.4960 - val_accuracy: 0.7656\n",
      "Epoch 96/100\n",
      "20/20 [==============================] - 0s 3ms/step - loss: 0.5061 - accuracy: 0.7688 - val_loss: 0.4891 - val_accuracy: 0.7578\n",
      "Epoch 97/100\n",
      "20/20 [==============================] - 0s 3ms/step - loss: 0.5259 - accuracy: 0.7594 - val_loss: 0.4955 - val_accuracy: 0.7852\n",
      "Epoch 98/100\n",
      "20/20 [==============================] - 0s 3ms/step - loss: 0.5029 - accuracy: 0.7597 - val_loss: 0.5379 - val_accuracy: 0.7070\n",
      "Epoch 99/100\n",
      "WARNING:tensorflow:Your input ran out of data; interrupting training. Make sure that your dataset or generator can generate at least `steps_per_epoch * epochs` batches (in this case, 2000 batches). You may need to use the repeat() function when building your dataset.\n",
      " 0/20 [..............................] - 0s 0s/step - loss: 0.5029 - accuracy: 0.7597 - val_loss: 0.5379 - val_accuracy: 0.7070\n"
     ]
    }
   ],
   "source": [
    "#训练模型\n",
    "history=model.fit(train_dataset,\n",
    "                  validation_data=eval_dataset,\n",
    "                 steps_per_epoch=20,\n",
    "                 validation_steps=8,\n",
    "                 epochs=100)"
   ]
  },
  {
   "cell_type": "code",
   "execution_count": null,
   "metadata": {},
   "outputs": [],
   "source": []
  }
 ],
 "metadata": {
  "kernelspec": {
   "display_name": "Python 3",
   "language": "python",
   "name": "python3"
  },
  "language_info": {
   "codemirror_mode": {
    "name": "ipython",
    "version": 3
   },
   "file_extension": ".py",
   "mimetype": "text/x-python",
   "name": "python",
   "nbconvert_exporter": "python",
   "pygments_lexer": "ipython3",
   "version": "3.8.3"
  }
 },
 "nbformat": 4,
 "nbformat_minor": 4
}
