{
 "cells": [
  {
   "cell_type": "code",
   "execution_count": 1,
   "metadata": {},
   "outputs": [
    {
     "name": "stdout",
     "output_type": "stream",
     "text": [
      "2.3.1\n"
     ]
    }
   ],
   "source": [
    "import pandas as pd \n",
    "import numpy as np \n",
    "import os\n",
    "import time\n",
    "import tensorflow as tf\n",
    "from tensorflow import keras\n",
    "import warnings\n",
    "warnings.filterwarnings('ignore')\n",
    "print(tf.__version__)"
   ]
  },
  {
   "cell_type": "code",
   "execution_count": 2,
   "metadata": {},
   "outputs": [],
   "source": [
    "train_file='./train.csv'\n",
    "eval_file='./eval.csv'"
   ]
  },
  {
   "cell_type": "code",
   "execution_count": 3,
   "metadata": {},
   "outputs": [],
   "source": [
    "#导入训练集和测试集\n",
    "train_df=pd.read_csv(train_file)\n",
    "eval_df=pd.read_csv(eval_file)"
   ]
  },
  {
   "cell_type": "code",
   "execution_count": 4,
   "metadata": {},
   "outputs": [
    {
     "data": {
      "text/html": [
       "<div>\n",
       "<style scoped>\n",
       "    .dataframe tbody tr th:only-of-type {\n",
       "        vertical-align: middle;\n",
       "    }\n",
       "\n",
       "    .dataframe tbody tr th {\n",
       "        vertical-align: top;\n",
       "    }\n",
       "\n",
       "    .dataframe thead th {\n",
       "        text-align: right;\n",
       "    }\n",
       "</style>\n",
       "<table border=\"1\" class=\"dataframe\">\n",
       "  <thead>\n",
       "    <tr style=\"text-align: right;\">\n",
       "      <th></th>\n",
       "      <th>survived</th>\n",
       "      <th>sex</th>\n",
       "      <th>age</th>\n",
       "      <th>n_siblings_spouses</th>\n",
       "      <th>parch</th>\n",
       "      <th>fare</th>\n",
       "      <th>class</th>\n",
       "      <th>deck</th>\n",
       "      <th>embark_town</th>\n",
       "      <th>alone</th>\n",
       "    </tr>\n",
       "  </thead>\n",
       "  <tbody>\n",
       "    <tr>\n",
       "      <th>0</th>\n",
       "      <td>0</td>\n",
       "      <td>male</td>\n",
       "      <td>22.0</td>\n",
       "      <td>1</td>\n",
       "      <td>0</td>\n",
       "      <td>7.2500</td>\n",
       "      <td>Third</td>\n",
       "      <td>unknown</td>\n",
       "      <td>Southampton</td>\n",
       "      <td>n</td>\n",
       "    </tr>\n",
       "    <tr>\n",
       "      <th>1</th>\n",
       "      <td>1</td>\n",
       "      <td>female</td>\n",
       "      <td>38.0</td>\n",
       "      <td>1</td>\n",
       "      <td>0</td>\n",
       "      <td>71.2833</td>\n",
       "      <td>First</td>\n",
       "      <td>C</td>\n",
       "      <td>Cherbourg</td>\n",
       "      <td>n</td>\n",
       "    </tr>\n",
       "    <tr>\n",
       "      <th>2</th>\n",
       "      <td>1</td>\n",
       "      <td>female</td>\n",
       "      <td>26.0</td>\n",
       "      <td>0</td>\n",
       "      <td>0</td>\n",
       "      <td>7.9250</td>\n",
       "      <td>Third</td>\n",
       "      <td>unknown</td>\n",
       "      <td>Southampton</td>\n",
       "      <td>y</td>\n",
       "    </tr>\n",
       "    <tr>\n",
       "      <th>3</th>\n",
       "      <td>1</td>\n",
       "      <td>female</td>\n",
       "      <td>35.0</td>\n",
       "      <td>1</td>\n",
       "      <td>0</td>\n",
       "      <td>53.1000</td>\n",
       "      <td>First</td>\n",
       "      <td>C</td>\n",
       "      <td>Southampton</td>\n",
       "      <td>n</td>\n",
       "    </tr>\n",
       "    <tr>\n",
       "      <th>4</th>\n",
       "      <td>0</td>\n",
       "      <td>male</td>\n",
       "      <td>28.0</td>\n",
       "      <td>0</td>\n",
       "      <td>0</td>\n",
       "      <td>8.4583</td>\n",
       "      <td>Third</td>\n",
       "      <td>unknown</td>\n",
       "      <td>Queenstown</td>\n",
       "      <td>y</td>\n",
       "    </tr>\n",
       "  </tbody>\n",
       "</table>\n",
       "</div>"
      ],
      "text/plain": [
       "   survived     sex   age  n_siblings_spouses  parch     fare  class     deck  \\\n",
       "0         0    male  22.0                   1      0   7.2500  Third  unknown   \n",
       "1         1  female  38.0                   1      0  71.2833  First        C   \n",
       "2         1  female  26.0                   0      0   7.9250  Third  unknown   \n",
       "3         1  female  35.0                   1      0  53.1000  First        C   \n",
       "4         0    male  28.0                   0      0   8.4583  Third  unknown   \n",
       "\n",
       "   embark_town alone  \n",
       "0  Southampton     n  \n",
       "1    Cherbourg     n  \n",
       "2  Southampton     y  \n",
       "3  Southampton     n  \n",
       "4   Queenstown     y  "
      ]
     },
     "execution_count": 4,
     "metadata": {},
     "output_type": "execute_result"
    }
   ],
   "source": [
    "train_df.head()"
   ]
  },
  {
   "cell_type": "code",
   "execution_count": 5,
   "metadata": {},
   "outputs": [],
   "source": [
    "#pop函数可以将dataFrame中的某个字段提出掉,同时指定某个变量去接受去掉的那个字段\n",
    "y_train=train_df.pop('survived')\n",
    "y_eval=eval_df.pop('survived')"
   ]
  },
  {
   "cell_type": "code",
   "execution_count": 6,
   "metadata": {},
   "outputs": [
    {
     "name": "stdout",
     "output_type": "stream",
     "text": [
      "sex ['male' 'female']\n",
      "n_siblings_spouses [1 0 3 4 2 5 8]\n",
      "parch [0 1 2 5 3 4]\n",
      "class ['Third' 'First' 'Second']\n",
      "deck ['unknown' 'C' 'G' 'A' 'B' 'D' 'F' 'E']\n",
      "embark_town ['Southampton' 'Cherbourg' 'Queenstown' 'unknown']\n",
      "alone ['n' 'y']\n"
     ]
    }
   ],
   "source": [
    "#定义离散特征\n",
    "categorical_columns=['sex','n_siblings_spouses','parch','class','deck','embark_town','alone']\n",
    "#定义连续特征\n",
    "numeric_columns=['age','fare']\n",
    "feature_columns=[]\n",
    "#对离散值做one-hot编码\n",
    "for categorical_column in categorical_columns:\n",
    "    vocab=train_df[categorical_column].unique() #取出离散特征中的离散值种类\n",
    "    print(categorical_column,vocab)\n",
    "    feature_columns.append(tf.feature_column.indicator_column(\n",
    "        tf.feature_column.categorical_column_with_vocabulary_list(\n",
    "            categorical_column,vocab)))\n",
    "\n",
    "#对连续特征直接加入到feature_columns中去\n",
    "for categorical_column in numeric_columns:\n",
    "    feature_columns.append(\n",
    "    tf.feature_column.numeric_column(\n",
    "    categorical_column,dtype=tf.float32))"
   ]
  },
  {
   "cell_type": "code",
   "execution_count": 18,
   "metadata": {},
   "outputs": [
    {
     "data": {
      "text/plain": [
       "[IndicatorColumn(categorical_column=VocabularyListCategoricalColumn(key='sex', vocabulary_list=('male', 'female'), dtype=tf.string, default_value=-1, num_oov_buckets=0)),\n",
       " IndicatorColumn(categorical_column=VocabularyListCategoricalColumn(key='n_siblings_spouses', vocabulary_list=(1, 0, 3, 4, 2, 5, 8), dtype=tf.int64, default_value=-1, num_oov_buckets=0)),\n",
       " IndicatorColumn(categorical_column=VocabularyListCategoricalColumn(key='parch', vocabulary_list=(0, 1, 2, 5, 3, 4), dtype=tf.int64, default_value=-1, num_oov_buckets=0)),\n",
       " IndicatorColumn(categorical_column=VocabularyListCategoricalColumn(key='class', vocabulary_list=('Third', 'First', 'Second'), dtype=tf.string, default_value=-1, num_oov_buckets=0)),\n",
       " IndicatorColumn(categorical_column=VocabularyListCategoricalColumn(key='deck', vocabulary_list=('unknown', 'C', 'G', 'A', 'B', 'D', 'F', 'E'), dtype=tf.string, default_value=-1, num_oov_buckets=0)),\n",
       " IndicatorColumn(categorical_column=VocabularyListCategoricalColumn(key='embark_town', vocabulary_list=('Southampton', 'Cherbourg', 'Queenstown', 'unknown'), dtype=tf.string, default_value=-1, num_oov_buckets=0)),\n",
       " IndicatorColumn(categorical_column=VocabularyListCategoricalColumn(key='alone', vocabulary_list=('n', 'y'), dtype=tf.string, default_value=-1, num_oov_buckets=0)),\n",
       " NumericColumn(key='age', shape=(1,), default_value=None, dtype=tf.float32, normalizer_fn=None),\n",
       " NumericColumn(key='fare', shape=(1,), default_value=None, dtype=tf.float32, normalizer_fn=None)]"
      ]
     },
     "execution_count": 18,
     "metadata": {},
     "output_type": "execute_result"
    }
   ],
   "source": [
    "feature_columns"
   ]
  },
  {
   "cell_type": "code",
   "execution_count": 7,
   "metadata": {},
   "outputs": [],
   "source": [
    "#构建一个dataset\n",
    "def make_dataset(data_df,label_df,epochs=10,shuffle=True,batch_size=32):\n",
    "    dataset=tf.data.Dataset.from_tensor_slices(\n",
    "        (dict(data_df),label_df))  #要把数据转换成字典的形式才符合tf.dataset的格式要求\n",
    "    if shuffle:\n",
    "        dataset=dataset.shuffle(10000)\n",
    "    dataset=dataset.repeat(epochs).batch(batch_size)\n",
    "    return dataset"
   ]
  },
  {
   "cell_type": "code",
   "execution_count": 9,
   "metadata": {
    "collapsed": true,
    "jupyter": {
     "outputs_hidden": true
    }
   },
   "outputs": [
    {
     "name": "stdout",
     "output_type": "stream",
     "text": [
      "INFO:tensorflow:Using default config.\n",
      "INFO:tensorflow:Using config: {'_model_dir': 'linear_model', '_tf_random_seed': None, '_save_summary_steps': 100, '_save_checkpoints_steps': None, '_save_checkpoints_secs': 600, '_session_config': allow_soft_placement: true\n",
      "graph_options {\n",
      "  rewrite_options {\n",
      "    meta_optimizer_iterations: ONE\n",
      "  }\n",
      "}\n",
      ", '_keep_checkpoint_max': 5, '_keep_checkpoint_every_n_hours': 10000, '_log_step_count_steps': 100, '_train_distribute': None, '_device_fn': None, '_protocol': None, '_eval_distribute': None, '_experimental_distribute': None, '_experimental_max_worker_delay_secs': None, '_session_creation_timeout_secs': 7200, '_service': None, '_cluster_spec': ClusterSpec({}), '_task_type': 'worker', '_task_id': 0, '_global_id_in_cluster': 0, '_master': '', '_evaluation_master': '', '_is_chief': True, '_num_ps_replicas': 0, '_num_worker_replicas': 1}\n",
      "WARNING:tensorflow:From C:\\Users\\xiongyuan\\anaconda3\\lib\\site-packages\\tensorflow\\python\\training\\training_util.py:235: Variable.initialized_value (from tensorflow.python.ops.variables) is deprecated and will be removed in a future version.\n",
      "Instructions for updating:\n",
      "Use Variable.read_value. Variables in 2.X are initialized automatically both in eager and graph (inside tf.defun) contexts.\n",
      "INFO:tensorflow:Calling model_fn.\n",
      "WARNING:tensorflow:Layer linear/linear_model is casting an input tensor from dtype float64 to the layer's dtype of float32, which is new behavior in TensorFlow 2.  The layer has dtype float32 because its dtype defaults to floatx.\n",
      "\n",
      "If you intended to run this layer in float32, you can safely ignore this warning. If in doubt, this warning is likely only an issue if you are porting a TensorFlow 1.X model to TensorFlow 2.\n",
      "\n",
      "To change all layers to have dtype float64 by default, call `tf.keras.backend.set_floatx('float64')`. To change just this layer, pass dtype='float64' to the layer constructor. If you are the author of this layer, you can disable autocasting by passing autocast=False to the base Layer constructor.\n",
      "\n",
      "WARNING:tensorflow:From C:\\Users\\xiongyuan\\anaconda3\\lib\\site-packages\\tensorflow_estimator\\python\\estimator\\canned\\linear.py:1471: Layer.add_variable (from tensorflow.python.keras.engine.base_layer_v1) is deprecated and will be removed in a future version.\n",
      "Instructions for updating:\n",
      "Please use `layer.add_weight` method instead.\n",
      "WARNING:tensorflow:From C:\\Users\\xiongyuan\\anaconda3\\lib\\site-packages\\tensorflow\\python\\keras\\optimizer_v2\\ftrl.py:111: calling Constant.__init__ (from tensorflow.python.ops.init_ops) with dtype is deprecated and will be removed in a future version.\n",
      "Instructions for updating:\n",
      "Call initializer instance with the dtype argument instead of passing it to the constructor\n",
      "INFO:tensorflow:Done calling model_fn.\n",
      "INFO:tensorflow:Create CheckpointSaverHook.\n",
      "INFO:tensorflow:Graph was finalized.\n",
      "INFO:tensorflow:Running local_init_op.\n",
      "INFO:tensorflow:Done running local_init_op.\n",
      "INFO:tensorflow:Calling checkpoint listeners before saving checkpoint 0...\n",
      "INFO:tensorflow:Saving checkpoints for 0 into linear_model\\model.ckpt.\n",
      "INFO:tensorflow:Calling checkpoint listeners after saving checkpoint 0...\n",
      "INFO:tensorflow:loss = 0.6931472, step = 0\n",
      "INFO:tensorflow:global_step/sec: 297.53\n",
      "INFO:tensorflow:loss = 0.6623105, step = 100 (0.338 sec)\n",
      "INFO:tensorflow:global_step/sec: 576.251\n",
      "INFO:tensorflow:loss = 0.32925022, step = 200 (0.176 sec)\n",
      "INFO:tensorflow:global_step/sec: 535.996\n",
      "INFO:tensorflow:loss = 0.3794947, step = 300 (0.185 sec)\n",
      "INFO:tensorflow:global_step/sec: 485.489\n",
      "INFO:tensorflow:loss = 0.49224585, step = 400 (0.206 sec)\n",
      "INFO:tensorflow:global_step/sec: 511.567\n",
      "INFO:tensorflow:loss = 0.50919765, step = 500 (0.195 sec)\n",
      "INFO:tensorflow:global_step/sec: 475.198\n",
      "INFO:tensorflow:loss = 0.52457565, step = 600 (0.209 sec)\n",
      "INFO:tensorflow:global_step/sec: 409.16\n",
      "INFO:tensorflow:loss = 0.4257458, step = 700 (0.246 sec)\n",
      "INFO:tensorflow:global_step/sec: 363.288\n",
      "INFO:tensorflow:loss = 0.55387604, step = 800 (0.275 sec)\n",
      "INFO:tensorflow:global_step/sec: 351.553\n",
      "INFO:tensorflow:loss = 0.5105431, step = 900 (0.285 sec)\n",
      "INFO:tensorflow:global_step/sec: 385.368\n",
      "INFO:tensorflow:loss = 0.5361346, step = 1000 (0.257 sec)\n",
      "INFO:tensorflow:global_step/sec: 492.675\n",
      "INFO:tensorflow:loss = 0.33081332, step = 1100 (0.203 sec)\n",
      "INFO:tensorflow:global_step/sec: 504.288\n",
      "INFO:tensorflow:loss = 0.5560789, step = 1200 (0.198 sec)\n",
      "INFO:tensorflow:global_step/sec: 489.113\n",
      "INFO:tensorflow:loss = 0.39097327, step = 1300 (0.204 sec)\n",
      "INFO:tensorflow:global_step/sec: 507.485\n",
      "INFO:tensorflow:loss = 0.41730744, step = 1400 (0.197 sec)\n",
      "INFO:tensorflow:global_step/sec: 500.051\n",
      "INFO:tensorflow:loss = 0.35379043, step = 1500 (0.200 sec)\n",
      "INFO:tensorflow:global_step/sec: 501.336\n",
      "INFO:tensorflow:loss = 0.37937465, step = 1600 (0.199 sec)\n",
      "INFO:tensorflow:global_step/sec: 493.929\n",
      "INFO:tensorflow:loss = 0.19964972, step = 1700 (0.202 sec)\n",
      "INFO:tensorflow:global_step/sec: 491.503\n",
      "INFO:tensorflow:loss = 0.49792948, step = 1800 (0.203 sec)\n",
      "INFO:tensorflow:global_step/sec: 439.769\n",
      "INFO:tensorflow:loss = 0.31810287, step = 1900 (0.228 sec)\n",
      "INFO:tensorflow:Calling checkpoint listeners before saving checkpoint 1960...\n",
      "INFO:tensorflow:Saving checkpoints for 1960 into linear_model\\model.ckpt.\n",
      "INFO:tensorflow:Calling checkpoint listeners after saving checkpoint 1960...\n",
      "INFO:tensorflow:Loss for final step: 0.2629402.\n"
     ]
    },
    {
     "data": {
      "text/plain": [
       "<tensorflow_estimator.python.estimator.canned.linear.LinearClassifierV2 at 0x24b0da5e160>"
      ]
     },
     "execution_count": 9,
     "metadata": {},
     "output_type": "execute_result"
    }
   ],
   "source": [
    "#线性模型\n",
    "output_dir='linear_model'\n",
    "if not os.path.exists(output_dir):\n",
    "    os.mkdir(output_dir)\n",
    "    \n",
    "linear_estimator=tf.estimator.LinearClassifier(\n",
    "                        model_dir=output_dir,\n",
    "                        n_classes=2,\n",
    "                        feature_columns=feature_columns\n",
    "                        )\n",
    "linear_estimator.train(input_fn=lambda:make_dataset(\n",
    "        train_df,y_train,epochs=100))"
   ]
  },
  {
   "cell_type": "code",
   "execution_count": 11,
   "metadata": {
    "collapsed": true,
    "jupyter": {
     "outputs_hidden": true
    }
   },
   "outputs": [
    {
     "name": "stdout",
     "output_type": "stream",
     "text": [
      "INFO:tensorflow:Calling model_fn.\n",
      "WARNING:tensorflow:Layer linear/linear_model is casting an input tensor from dtype float64 to the layer's dtype of float32, which is new behavior in TensorFlow 2.  The layer has dtype float32 because its dtype defaults to floatx.\n",
      "\n",
      "If you intended to run this layer in float32, you can safely ignore this warning. If in doubt, this warning is likely only an issue if you are porting a TensorFlow 1.X model to TensorFlow 2.\n",
      "\n",
      "To change all layers to have dtype float64 by default, call `tf.keras.backend.set_floatx('float64')`. To change just this layer, pass dtype='float64' to the layer constructor. If you are the author of this layer, you can disable autocasting by passing autocast=False to the base Layer constructor.\n",
      "\n",
      "INFO:tensorflow:Done calling model_fn.\n",
      "INFO:tensorflow:Starting evaluation at 2020-11-21T23:10:12Z\n",
      "INFO:tensorflow:Graph was finalized.\n",
      "INFO:tensorflow:Restoring parameters from linear_model\\model.ckpt-1960\n",
      "INFO:tensorflow:Running local_init_op.\n",
      "INFO:tensorflow:Done running local_init_op.\n",
      "INFO:tensorflow:Inference Time : 1.13001s\n",
      "INFO:tensorflow:Finished evaluation at 2020-11-21-23:10:13\n",
      "INFO:tensorflow:Saving dict for global step 1960: accuracy = 0.7765151, accuracy_baseline = 0.625, auc = 0.83446586, auc_precision_recall = 0.77405626, average_loss = 0.48604155, global_step = 1960, label/mean = 0.375, loss = 0.4815914, precision = 0.7380952, prediction/mean = 0.31645536, recall = 0.6262626\n",
      "INFO:tensorflow:Saving 'checkpoint_path' summary for global step 1960: linear_model\\model.ckpt-1960\n"
     ]
    },
    {
     "data": {
      "text/plain": [
       "{'accuracy': 0.7765151,\n",
       " 'accuracy_baseline': 0.625,\n",
       " 'auc': 0.83446586,\n",
       " 'auc_precision_recall': 0.77405626,\n",
       " 'average_loss': 0.48604155,\n",
       " 'label/mean': 0.375,\n",
       " 'loss': 0.4815914,\n",
       " 'precision': 0.7380952,\n",
       " 'prediction/mean': 0.31645536,\n",
       " 'recall': 0.6262626,\n",
       " 'global_step': 1960}"
      ]
     },
     "execution_count": 11,
     "metadata": {},
     "output_type": "execute_result"
    }
   ],
   "source": [
    "linear_estimator.evaluate(input_fn=lambda :make_dataset(\n",
    "    eval_df,y_eval,epochs=1,shuffle=False,batch_size=20))"
   ]
  },
  {
   "cell_type": "code",
   "execution_count": 14,
   "metadata": {
    "collapsed": true,
    "jupyter": {
     "outputs_hidden": true
    }
   },
   "outputs": [
    {
     "name": "stdout",
     "output_type": "stream",
     "text": [
      "INFO:tensorflow:Using default config.\n",
      "INFO:tensorflow:Using config: {'_model_dir': './dnn_model', '_tf_random_seed': None, '_save_summary_steps': 100, '_save_checkpoints_steps': None, '_save_checkpoints_secs': 600, '_session_config': allow_soft_placement: true\n",
      "graph_options {\n",
      "  rewrite_options {\n",
      "    meta_optimizer_iterations: ONE\n",
      "  }\n",
      "}\n",
      ", '_keep_checkpoint_max': 5, '_keep_checkpoint_every_n_hours': 10000, '_log_step_count_steps': 100, '_train_distribute': None, '_device_fn': None, '_protocol': None, '_eval_distribute': None, '_experimental_distribute': None, '_experimental_max_worker_delay_secs': None, '_session_creation_timeout_secs': 7200, '_service': None, '_cluster_spec': ClusterSpec({}), '_task_type': 'worker', '_task_id': 0, '_global_id_in_cluster': 0, '_master': '', '_evaluation_master': '', '_is_chief': True, '_num_ps_replicas': 0, '_num_worker_replicas': 1}\n",
      "INFO:tensorflow:Calling model_fn.\n",
      "WARNING:tensorflow:Layer dnn is casting an input tensor from dtype float64 to the layer's dtype of float32, which is new behavior in TensorFlow 2.  The layer has dtype float32 because its dtype defaults to floatx.\n",
      "\n",
      "If you intended to run this layer in float32, you can safely ignore this warning. If in doubt, this warning is likely only an issue if you are porting a TensorFlow 1.X model to TensorFlow 2.\n",
      "\n",
      "To change all layers to have dtype float64 by default, call `tf.keras.backend.set_floatx('float64')`. To change just this layer, pass dtype='float64' to the layer constructor. If you are the author of this layer, you can disable autocasting by passing autocast=False to the base Layer constructor.\n",
      "\n",
      "INFO:tensorflow:Done calling model_fn.\n",
      "INFO:tensorflow:Create CheckpointSaverHook.\n",
      "INFO:tensorflow:Graph was finalized.\n",
      "INFO:tensorflow:Running local_init_op.\n",
      "INFO:tensorflow:Done running local_init_op.\n",
      "INFO:tensorflow:Calling checkpoint listeners before saving checkpoint 0...\n",
      "INFO:tensorflow:Saving checkpoints for 0 into ./dnn_model\\model.ckpt.\n",
      "INFO:tensorflow:Calling checkpoint listeners after saving checkpoint 0...\n",
      "INFO:tensorflow:loss = 2.1868627, step = 0\n",
      "INFO:tensorflow:global_step/sec: 198.944\n",
      "INFO:tensorflow:loss = 0.5942943, step = 100 (0.507 sec)\n",
      "INFO:tensorflow:global_step/sec: 333.641\n",
      "INFO:tensorflow:loss = 0.61659795, step = 200 (0.300 sec)\n",
      "INFO:tensorflow:global_step/sec: 330.233\n",
      "INFO:tensorflow:loss = 0.36590827, step = 300 (0.304 sec)\n",
      "INFO:tensorflow:global_step/sec: 316.102\n",
      "INFO:tensorflow:loss = 0.44382283, step = 400 (0.315 sec)\n",
      "INFO:tensorflow:global_step/sec: 319.779\n",
      "INFO:tensorflow:loss = 0.3646394, step = 500 (0.315 sec)\n",
      "INFO:tensorflow:global_step/sec: 325.542\n",
      "INFO:tensorflow:loss = 0.47727638, step = 600 (0.306 sec)\n",
      "INFO:tensorflow:global_step/sec: 330.917\n",
      "INFO:tensorflow:loss = 0.43745834, step = 700 (0.303 sec)\n",
      "INFO:tensorflow:global_step/sec: 327.667\n",
      "INFO:tensorflow:loss = 0.35477847, step = 800 (0.306 sec)\n",
      "INFO:tensorflow:global_step/sec: 319.673\n",
      "INFO:tensorflow:loss = 0.41965827, step = 900 (0.309 sec)\n",
      "INFO:tensorflow:global_step/sec: 354.789\n",
      "INFO:tensorflow:loss = 0.54004353, step = 1000 (0.283 sec)\n",
      "INFO:tensorflow:global_step/sec: 327.673\n",
      "INFO:tensorflow:loss = 0.2986362, step = 1100 (0.306 sec)\n",
      "INFO:tensorflow:global_step/sec: 312.359\n",
      "INFO:tensorflow:loss = 0.16654468, step = 1200 (0.319 sec)\n",
      "INFO:tensorflow:global_step/sec: 308.482\n",
      "INFO:tensorflow:loss = 0.35590908, step = 1300 (0.325 sec)\n",
      "INFO:tensorflow:global_step/sec: 309.47\n",
      "INFO:tensorflow:loss = 0.37079456, step = 1400 (0.321 sec)\n",
      "INFO:tensorflow:global_step/sec: 318.308\n",
      "INFO:tensorflow:loss = 0.2941238, step = 1500 (0.315 sec)\n",
      "INFO:tensorflow:global_step/sec: 318.307\n",
      "INFO:tensorflow:loss = 0.30478764, step = 1600 (0.316 sec)\n",
      "INFO:tensorflow:global_step/sec: 308.024\n",
      "INFO:tensorflow:loss = 0.50879323, step = 1700 (0.325 sec)\n",
      "INFO:tensorflow:global_step/sec: 307.56\n",
      "INFO:tensorflow:loss = 0.38243362, step = 1800 (0.322 sec)\n",
      "INFO:tensorflow:global_step/sec: 268.069\n",
      "INFO:tensorflow:loss = 0.3790133, step = 1900 (0.376 sec)\n",
      "INFO:tensorflow:Calling checkpoint listeners before saving checkpoint 1960...\n",
      "INFO:tensorflow:Saving checkpoints for 1960 into ./dnn_model\\model.ckpt.\n",
      "INFO:tensorflow:Calling checkpoint listeners after saving checkpoint 1960...\n",
      "INFO:tensorflow:Loss for final step: 0.3163405.\n"
     ]
    },
    {
     "data": {
      "text/plain": [
       "<tensorflow_estimator.python.estimator.canned.dnn.DNNClassifierV2 at 0x24b1b42ff70>"
      ]
     },
     "execution_count": 14,
     "metadata": {},
     "output_type": "execute_result"
    }
   ],
   "source": [
    "#深度神经网络\n",
    "dnn_output_dir='./dnn_model'\n",
    "if not os.path.exists(dnn_output_dir):\n",
    "    os.mkdir(dnn_output_dir)\n",
    "    \n",
    "dnn_estimator=tf.estimator.DNNClassifier(\n",
    "            model_dir=dnn_output_dir,\n",
    "            n_classes=2,\n",
    "            feature_columns=feature_columns,\n",
    "            hidden_units=[128,128],\n",
    "            activation_fn=tf.nn.relu,\n",
    "            optimizer='Adam')\n",
    "dnn_estimator.train(input_fn=lambda :make_dataset(\n",
    "    train_df,y_train,epochs=100))"
   ]
  },
  {
   "cell_type": "code",
   "execution_count": 15,
   "metadata": {
    "collapsed": true,
    "jupyter": {
     "outputs_hidden": true
    }
   },
   "outputs": [
    {
     "name": "stdout",
     "output_type": "stream",
     "text": [
      "INFO:tensorflow:Calling model_fn.\n",
      "WARNING:tensorflow:Layer dnn is casting an input tensor from dtype float64 to the layer's dtype of float32, which is new behavior in TensorFlow 2.  The layer has dtype float32 because its dtype defaults to floatx.\n",
      "\n",
      "If you intended to run this layer in float32, you can safely ignore this warning. If in doubt, this warning is likely only an issue if you are porting a TensorFlow 1.X model to TensorFlow 2.\n",
      "\n",
      "To change all layers to have dtype float64 by default, call `tf.keras.backend.set_floatx('float64')`. To change just this layer, pass dtype='float64' to the layer constructor. If you are the author of this layer, you can disable autocasting by passing autocast=False to the base Layer constructor.\n",
      "\n",
      "INFO:tensorflow:Done calling model_fn.\n",
      "INFO:tensorflow:Starting evaluation at 2020-11-21T23:26:59Z\n",
      "INFO:tensorflow:Graph was finalized.\n",
      "INFO:tensorflow:Restoring parameters from ./dnn_model\\model.ckpt-1960\n",
      "INFO:tensorflow:Running local_init_op.\n",
      "INFO:tensorflow:Done running local_init_op.\n",
      "INFO:tensorflow:Inference Time : 1.25248s\n",
      "INFO:tensorflow:Finished evaluation at 2020-11-21-23:27:00\n",
      "INFO:tensorflow:Saving dict for global step 1960: accuracy = 0.79545456, accuracy_baseline = 0.625, auc = 0.8477808, auc_precision_recall = 0.8173081, average_loss = 0.49418905, global_step = 1960, label/mean = 0.375, loss = 0.49466464, precision = 0.7027027, prediction/mean = 0.44329187, recall = 0.7878788\n",
      "INFO:tensorflow:Saving 'checkpoint_path' summary for global step 1960: ./dnn_model\\model.ckpt-1960\n"
     ]
    },
    {
     "data": {
      "text/plain": [
       "{'accuracy': 0.79545456,\n",
       " 'accuracy_baseline': 0.625,\n",
       " 'auc': 0.8477808,\n",
       " 'auc_precision_recall': 0.8173081,\n",
       " 'average_loss': 0.49418905,\n",
       " 'label/mean': 0.375,\n",
       " 'loss': 0.49466464,\n",
       " 'precision': 0.7027027,\n",
       " 'prediction/mean': 0.44329187,\n",
       " 'recall': 0.7878788,\n",
       " 'global_step': 1960}"
      ]
     },
     "execution_count": 15,
     "metadata": {},
     "output_type": "execute_result"
    }
   ],
   "source": [
    "dnn_estimator.evaluate(input_fn=lambda :make_dataset(\n",
    "    eval_df,y_eval,epochs=1,shuffle=False,batch_size=20))"
   ]
  },
  {
   "cell_type": "code",
   "execution_count": null,
   "metadata": {},
   "outputs": [],
   "source": []
  }
 ],
 "metadata": {
  "kernelspec": {
   "display_name": "Python 3.8.3 64-bit ('base': conda)",
   "language": "python",
   "name": "python38364bitbasecondad9bd0a7157c84fa7bace955ad09d0846"
  },
  "language_info": {
   "codemirror_mode": {
    "name": "ipython",
    "version": 3
   },
   "file_extension": ".py",
   "mimetype": "text/x-python",
   "name": "python",
   "nbconvert_exporter": "python",
   "pygments_lexer": "ipython3",
   "version": "3.8.3"
  }
 },
 "nbformat": 4,
 "nbformat_minor": 4
}
