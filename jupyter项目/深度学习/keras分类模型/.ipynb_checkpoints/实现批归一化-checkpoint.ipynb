{
 "cells": [
  {
   "cell_type": "code",
   "execution_count": 1,
   "metadata": {},
   "outputs": [],
   "source": [
    "import matplotlib.pyplot as plt \n",
    "import numpy as np \n",
    "import pandas as pd \n",
    "import time \n",
    "import tensorflow as tf \n",
    "from tensorflow import keras"
   ]
  },
  {
   "cell_type": "code",
   "execution_count": 2,
   "metadata": {},
   "outputs": [
    {
     "name": "stdout",
     "output_type": "stream",
     "text": [
      "2.3.1\n"
     ]
    }
   ],
   "source": [
    "#查看tesorflow版本\n",
    "print(tf.__version__)"
   ]
  },
  {
   "cell_type": "markdown",
   "metadata": {},
   "source": [
    "### 一、切分数据"
   ]
  },
  {
   "cell_type": "code",
   "execution_count": 3,
   "metadata": {},
   "outputs": [],
   "source": [
    "#导入fashion_mnist手写数字数据集\n",
    "fashion_mnist=keras.datasets.fashion_mnist\n",
    "#创建训练集和验证集\n",
    "(x_train_all,y_train_all),(x_test,y_test)=fashion_mnist.load_data()\n",
    "#将训练集进一步拆分成训练集和验证集合\n",
    "#前5000张作为验证集，5000张之后都作为训练集\n",
    "x_valid,x_train=x_train_all[:5000],x_train_all[5000:]\n",
    "y_valid,y_train=y_train_all[:5000],y_train_all[5000:]"
   ]
  },
  {
   "cell_type": "markdown",
   "metadata": {},
   "source": [
    "### 二、对数据做归一化"
   ]
  },
  {
   "cell_type": "code",
   "execution_count": 4,
   "metadata": {},
   "outputs": [],
   "source": [
    "#归一化,归一化在深度学习中非常重要，可以有效的提高模型的准确率\n",
    "from sklearn.preprocessing import StandardScaler\n",
    "scaler=StandardScaler()\n",
    "#归一化需要是二维矩阵，而这里的x_train,x_valid都是三维的所以需要先reshape（-1,1）,之后再reshape回三维的\n",
    "x_train_scaled=scaler.fit_transform(x_train.astype(np.float32).reshape(-1,1)).reshape(-1,28,28)\n",
    "x_valid_scaled=scaler.transform(x_valid.astype(np.float32).reshape(-1,1)).reshape(-1,28,28)\n",
    "x_test_scaled=scaler.transform(x_test.astype(np.float32).reshape(-1,1)).reshape(-1,28,28)"
   ]
  },
  {
   "cell_type": "code",
   "execution_count": 5,
   "metadata": {},
   "outputs": [
    {
     "name": "stdout",
     "output_type": "stream",
     "text": [
      "(5000, 28, 28) (5000,)\n",
      "(55000, 28, 28) (55000,)\n",
      "(10000, 28, 28) (10000,)\n"
     ]
    }
   ],
   "source": [
    "#查看训练集合，测试集，验证集的数据形状\n",
    "print(x_valid.shape,y_valid.shape)\n",
    "print(x_train.shape,y_train.shape)\n",
    "print(x_test.shape,y_test.shape)"
   ]
  },
  {
   "cell_type": "markdown",
   "metadata": {},
   "source": [
    "### 三、模型构建"
   ]
  },
  {
   "cell_type": "code",
   "execution_count": 6,
   "metadata": {},
   "outputs": [],
   "source": [
    "#tf.keras.models.sequential()\n",
    "\n",
    "#深度神经网络\n",
    "model=keras.models.Sequential()\n",
    "model.add(keras.layers.Flatten(input_shape=[28,28]))\n",
    "#循环20次，生成20层的中间层神经元\n",
    "for _ in range(20):\n",
    "    model.add(keras.layers.Dense(100,activation='relu'))\n",
    "#最后一次的输出层的神经元个数\n",
    "model.add(keras.layers.Dense(10,activation='softmax'))\n",
    "\n",
    "\n",
    "#定义激活函数\n",
    "#relu:y=max(0,x),输入是x，输出是x和0两个数字中较大的一个\n",
    "#softmax：将向量变成概率分布\n",
    "model.compile(loss='sparse_categorical_crossentropy',optimizer='sgd',metrics=['accuracy']) "
   ]
  },
  {
   "cell_type": "code",
   "execution_count": 7,
   "metadata": {},
   "outputs": [
    {
     "data": {
      "text/plain": [
       "[<tensorflow.python.keras.layers.core.Flatten at 0x2d0c4744190>,\n",
       " <tensorflow.python.keras.layers.core.Dense at 0x2d0cb73df40>,\n",
       " <tensorflow.python.keras.layers.core.Dense at 0x2d0cb778ac0>,\n",
       " <tensorflow.python.keras.layers.core.Dense at 0x2d0cb7e3370>,\n",
       " <tensorflow.python.keras.layers.core.Dense at 0x2d0cb7eda60>,\n",
       " <tensorflow.python.keras.layers.core.Dense at 0x2d0cb7f6f70>,\n",
       " <tensorflow.python.keras.layers.core.Dense at 0x2d0cb7f65e0>,\n",
       " <tensorflow.python.keras.layers.core.Dense at 0x2d0cb7fe370>,\n",
       " <tensorflow.python.keras.layers.core.Dense at 0x2d0cb805ac0>,\n",
       " <tensorflow.python.keras.layers.core.Dense at 0x2d0cb80ddf0>,\n",
       " <tensorflow.python.keras.layers.core.Dense at 0x2d0cb8130d0>,\n",
       " <tensorflow.python.keras.layers.core.Dense at 0x2d0cb81e9d0>,\n",
       " <tensorflow.python.keras.layers.core.Dense at 0x2d0cb825760>,\n",
       " <tensorflow.python.keras.layers.core.Dense at 0x2d0cb825a00>,\n",
       " <tensorflow.python.keras.layers.core.Dense at 0x2d0cb82cbe0>,\n",
       " <tensorflow.python.keras.layers.core.Dense at 0x2d0cb833970>,\n",
       " <tensorflow.python.keras.layers.core.Dense at 0x2d0cb83afd0>,\n",
       " <tensorflow.python.keras.layers.core.Dense at 0x2d0cb845af0>,\n",
       " <tensorflow.python.keras.layers.core.Dense at 0x2d0cb84c880>,\n",
       " <tensorflow.python.keras.layers.core.Dense at 0x2d0cb84c640>,\n",
       " <tensorflow.python.keras.layers.core.Dense at 0x2d0cb855c10>,\n",
       " <tensorflow.python.keras.layers.core.Dense at 0x2d0cb73df10>]"
      ]
     },
     "execution_count": 7,
     "metadata": {},
     "output_type": "execute_result"
    }
   ],
   "source": [
    "#查看神经网络有多少层神经网络\n",
    "model.layers"
   ]
  },
  {
   "cell_type": "code",
   "execution_count": 8,
   "metadata": {},
   "outputs": [
    {
     "name": "stdout",
     "output_type": "stream",
     "text": [
      "Model: \"sequential\"\n",
      "_________________________________________________________________\n",
      "Layer (type)                 Output Shape              Param #   \n",
      "=================================================================\n",
      "flatten (Flatten)            (None, 784)               0         \n",
      "_________________________________________________________________\n",
      "dense (Dense)                (None, 100)               78500     \n",
      "_________________________________________________________________\n",
      "dense_1 (Dense)              (None, 100)               10100     \n",
      "_________________________________________________________________\n",
      "dense_2 (Dense)              (None, 100)               10100     \n",
      "_________________________________________________________________\n",
      "dense_3 (Dense)              (None, 100)               10100     \n",
      "_________________________________________________________________\n",
      "dense_4 (Dense)              (None, 100)               10100     \n",
      "_________________________________________________________________\n",
      "dense_5 (Dense)              (None, 100)               10100     \n",
      "_________________________________________________________________\n",
      "dense_6 (Dense)              (None, 100)               10100     \n",
      "_________________________________________________________________\n",
      "dense_7 (Dense)              (None, 100)               10100     \n",
      "_________________________________________________________________\n",
      "dense_8 (Dense)              (None, 100)               10100     \n",
      "_________________________________________________________________\n",
      "dense_9 (Dense)              (None, 100)               10100     \n",
      "_________________________________________________________________\n",
      "dense_10 (Dense)             (None, 100)               10100     \n",
      "_________________________________________________________________\n",
      "dense_11 (Dense)             (None, 100)               10100     \n",
      "_________________________________________________________________\n",
      "dense_12 (Dense)             (None, 100)               10100     \n",
      "_________________________________________________________________\n",
      "dense_13 (Dense)             (None, 100)               10100     \n",
      "_________________________________________________________________\n",
      "dense_14 (Dense)             (None, 100)               10100     \n",
      "_________________________________________________________________\n",
      "dense_15 (Dense)             (None, 100)               10100     \n",
      "_________________________________________________________________\n",
      "dense_16 (Dense)             (None, 100)               10100     \n",
      "_________________________________________________________________\n",
      "dense_17 (Dense)             (None, 100)               10100     \n",
      "_________________________________________________________________\n",
      "dense_18 (Dense)             (None, 100)               10100     \n",
      "_________________________________________________________________\n",
      "dense_19 (Dense)             (None, 100)               10100     \n",
      "_________________________________________________________________\n",
      "dense_20 (Dense)             (None, 10)                1010      \n",
      "=================================================================\n",
      "Total params: 271,410\n",
      "Trainable params: 271,410\n",
      "Non-trainable params: 0\n",
      "_________________________________________________________________\n"
     ]
    }
   ],
   "source": [
    "#查看模型架构\n",
    "model.summary()\n",
    "#[None,784]*w+b->[None,300] w.shape [784,300],b=[300]"
   ]
  },
  {
   "cell_type": "markdown",
   "metadata": {},
   "source": [
    "### 四、模型训练"
   ]
  },
  {
   "cell_type": "code",
   "execution_count": 9,
   "metadata": {},
   "outputs": [
    {
     "name": "stdout",
     "output_type": "stream",
     "text": [
      "Epoch 1/10\n",
      "   1/1719 [..............................] - ETA: 0s - loss: 2.3026 - accuracy: 0.0625WARNING:tensorflow:From C:\\Users\\xiongyuan\\anaconda3\\lib\\site-packages\\tensorflow\\python\\ops\\summary_ops_v2.py:1277: stop (from tensorflow.python.eager.profiler) is deprecated and will be removed after 2020-07-01.\n",
      "Instructions for updating:\n",
      "use `tf.profiler.experimental.stop` instead.\n",
      "   2/1719 [..............................] - ETA: 2:43 - loss: 2.3026 - accuracy: 0.0625WARNING:tensorflow:Callbacks method `on_train_batch_end` is slow compared to the batch time (batch time: 0.0060s vs `on_train_batch_end` time: 0.1825s). Check your callbacks.\n",
      "1719/1719 [==============================] - 8s 4ms/step - loss: 2.1815 - accuracy: 0.2705 - val_loss: 1.0673 - val_accuracy: 0.5396\n",
      "Epoch 2/10\n",
      "1719/1719 [==============================] - 8s 5ms/step - loss: 0.8233 - accuracy: 0.6793 - val_loss: 0.6307 - val_accuracy: 0.7700\n",
      "Epoch 3/10\n",
      "1719/1719 [==============================] - 7s 4ms/step - loss: 0.6113 - accuracy: 0.7760 - val_loss: 0.5753 - val_accuracy: 0.7972\n",
      "Epoch 4/10\n",
      "1719/1719 [==============================] - 7s 4ms/step - loss: 0.5224 - accuracy: 0.8161 - val_loss: 0.4735 - val_accuracy: 0.8364\n",
      "Epoch 5/10\n",
      "1719/1719 [==============================] - 7s 4ms/step - loss: 0.4617 - accuracy: 0.8417 - val_loss: 0.4576 - val_accuracy: 0.8418\n",
      "Epoch 6/10\n",
      "1719/1719 [==============================] - 8s 5ms/step - loss: 0.4347 - accuracy: 0.8496 - val_loss: 0.4085 - val_accuracy: 0.8564\n",
      "Epoch 7/10\n",
      "1719/1719 [==============================] - 7s 4ms/step - loss: 0.4103 - accuracy: 0.8578 - val_loss: 0.4134 - val_accuracy: 0.8604\n",
      "Epoch 8/10\n",
      "1719/1719 [==============================] - 7s 4ms/step - loss: 0.3953 - accuracy: 0.8634 - val_loss: 0.4113 - val_accuracy: 0.8644\n",
      "Epoch 9/10\n",
      "1719/1719 [==============================] - 7s 4ms/step - loss: 0.3888 - accuracy: 0.8670 - val_loss: 0.4022 - val_accuracy: 0.8622\n",
      "Epoch 10/10\n",
      "1719/1719 [==============================] - 7s 4ms/step - loss: 0.4185 - accuracy: 0.8574 - val_loss: 0.5898 - val_accuracy: 0.8166\n"
     ]
    }
   ],
   "source": [
    "#模型训练,添加callback回调函数(Tensorboard,earlystopping,ModelCheckpoint)\n",
    "logdir='./dnn-callbacks' #创建一个文件路径以及文件名，模型跑出来的结果会保存在项目文件的callbacks中去\n",
    "import os\n",
    "if not os.path.exists(logdir):\n",
    "    os.mkdir(logdir)\n",
    "\n",
    "output_model_file=os.path.join(logdir,'fashion_mnist_model.h5')\n",
    "#定义回调函数\n",
    "callbacks=[\n",
    "    #使用tensorboard\n",
    "    keras.callbacks.TensorBoard(logdir),\n",
    "    #每次跑完模型保存模型\n",
    "    keras.callbacks.ModelCheckpoint(output_model_file,save_best_only=True),\n",
    "    #当指标在运行中没有提升，就提前停止训练\n",
    "    keras.callbacks.EarlyStopping(patience=5,min_delta=1e-3)   #1e-3表示1的e负3次方\n",
    "]\n",
    "history=model.fit(x_train_scaled,y_train,epochs=10,validation_data=(x_valid_scaled,y_valid),callbacks=callbacks)"
   ]
  },
  {
   "cell_type": "code",
   "execution_count": 10,
   "metadata": {},
   "outputs": [
    {
     "data": {
      "text/plain": [
       "{'loss': [2.1814703941345215,\n",
       "  0.8232897520065308,\n",
       "  0.6113287210464478,\n",
       "  0.5223706364631653,\n",
       "  0.46174556016921997,\n",
       "  0.4346977770328522,\n",
       "  0.41028618812561035,\n",
       "  0.39531099796295166,\n",
       "  0.38879862427711487,\n",
       "  0.41850486397743225],\n",
       " 'accuracy': [0.2704545557498932,\n",
       "  0.6792727112770081,\n",
       "  0.7760000228881836,\n",
       "  0.8160545229911804,\n",
       "  0.8417090773582458,\n",
       "  0.8495818376541138,\n",
       "  0.8578181862831116,\n",
       "  0.8633999824523926,\n",
       "  0.8670363426208496,\n",
       "  0.8573818206787109],\n",
       " 'val_loss': [1.0673259496688843,\n",
       "  0.6306661367416382,\n",
       "  0.5752549767494202,\n",
       "  0.4735375940799713,\n",
       "  0.45760267972946167,\n",
       "  0.4084610342979431,\n",
       "  0.4134415090084076,\n",
       "  0.41133174300193787,\n",
       "  0.40221744775772095,\n",
       "  0.5897738337516785],\n",
       " 'val_accuracy': [0.5396000146865845,\n",
       "  0.7699999809265137,\n",
       "  0.7972000241279602,\n",
       "  0.8363999724388123,\n",
       "  0.8417999744415283,\n",
       "  0.8564000129699707,\n",
       "  0.8604000210762024,\n",
       "  0.8644000291824341,\n",
       "  0.8622000217437744,\n",
       "  0.8166000247001648]}"
      ]
     },
     "execution_count": 10,
     "metadata": {},
     "output_type": "execute_result"
    }
   ],
   "source": [
    "history.history"
   ]
  },
  {
   "cell_type": "markdown",
   "metadata": {},
   "source": [
    "### 五、查看模型效果"
   ]
  },
  {
   "cell_type": "code",
   "execution_count": 14,
   "metadata": {},
   "outputs": [
    {
     "data": {
      "image/png": "[encoded data removed]",
      "text/plain": [
       "<Figure size 576x360 with 1 Axes>"
      ]
     },
     "metadata": {
      "needs_background": "light"
     },
     "output_type": "display_data"
    }
   ],
   "source": [
    "#绘图，也可以不绘图，直接用tensorboard打开查看结果\n",
    "def plot_learning_curves(history):\n",
    "    pd.DataFrame(history.history).plot(figsize=(8,5))\n",
    "    plt.grid(True)\n",
    "    plt.gca().set_ylim(0,3)\n",
    "    plt.show()\n",
    "plot_learning_curves(history)\n",
    "#可以看出损失函数在不断的下降，准确率在不断的提升"
   ]
  },
  {
   "cell_type": "code",
   "execution_count": 12,
   "metadata": {},
   "outputs": [
    {
     "name": "stdout",
     "output_type": "stream",
     "text": [
      "313/313 [==============================] - 1s 2ms/step - loss: 0.6155 - accuracy: 0.8108\n"
     ]
    },
    {
     "data": {
      "text/plain": [
       "[0.6155186891555786, 0.8108000159263611]"
      ]
     },
     "execution_count": 12,
     "metadata": {},
     "output_type": "execute_result"
    }
   ],
   "source": [
    "#可以在测试集上进一步评估模型结果\n",
    "model.evaluate(x_test_scaled,y_test)\n",
    "#可以看到结果中测试集上loss是0.44,准确率是0.84"
   ]
  },
  {
   "cell_type": "markdown",
   "metadata": {},
   "source": [
    "### 五、读取callback的结果"
   ]
  },
  {
   "cell_type": "code",
   "execution_count": 13,
   "metadata": {},
   "outputs": [],
   "source": [
    "#1--打开anaconda的powershell\n",
    "#2--cd到项目文件夹中去\n",
    "#3--输入命令：tensorboard --logdir=callbacks #注意callbacks是文件名，是自己之前回调函数中创建的"
   ]
  },
  {
   "cell_type": "markdown",
   "metadata": {},
   "source": []
  },
  {
   "cell_type": "markdown",
   "metadata": {},
   "source": [
    "### **六、梯度消失**"
   ]
  },
  {
   "cell_type": "code",
   "execution_count": null,
   "metadata": {},
   "outputs": [],
   "source": [
    "#梯度消失的原因\n",
    "#1--出现在深度神经网络中\n",
    "#2--参数众多，训练不充分\n",
    "#3--梯度消失-->链式法则-->复合函数（类似f(q(x))）"
   ]
  }
 ],
 "metadata": {
  "kernelspec": {
   "display_name": "Python 3.8.3 64-bit ('base': conda)",
   "language": "python",
   "name": "python38364bitbasecondad9bd0a7157c84fa7bace955ad09d0846"
  },
  "language_info": {
   "codemirror_mode": {
    "name": "ipython",
    "version": 3
   },
   "file_extension": ".py",
   "mimetype": "text/x-python",
   "name": "python",
   "nbconvert_exporter": "python",
   "pygments_lexer": "ipython3",
   "version": "3.8.3"
  }
 },
 "nbformat": 4,
 "nbformat_minor": 4
}
