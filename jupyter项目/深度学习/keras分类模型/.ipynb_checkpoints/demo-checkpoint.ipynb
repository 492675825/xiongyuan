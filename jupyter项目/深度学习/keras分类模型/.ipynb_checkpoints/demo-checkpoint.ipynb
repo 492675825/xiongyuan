{
 "cells": [
  {
   "cell_type": "code",
   "execution_count": 1,
   "metadata": {},
   "outputs": [],
   "source": [
    "import pandas as pd\n",
    "import numpy as np \n",
    "import time \n",
    "import tensorflow as tf\n",
    "from tensorflow import keras\n",
    "import matplotlib.pyplot as plt"
   ]
  },
  {
   "cell_type": "code",
   "execution_count": 2,
   "metadata": {},
   "outputs": [
    {
     "name": "stdout",
     "output_type": "stream",
     "text": [
      "2.3.1\n"
     ]
    }
   ],
   "source": [
    "print(tf.__version__)"
   ]
  },
  {
   "cell_type": "code",
   "execution_count": 3,
   "metadata": {},
   "outputs": [],
   "source": [
    "fashion_mnist=keras.datasets.fashion_mnist\n",
    "(x_train_all,y_train_all),(x_test,y_test)=fashion_mnist.load_data()\n",
    "x_valid,x_train=x_train_all[:5000],x_train_all[5000:]\n",
    "y_valid,y_train=y_train_all[:5000],y_train_all[5000:]"
   ]
  },
  {
   "cell_type": "code",
   "execution_count": 4,
   "metadata": {},
   "outputs": [],
   "source": [
    "from sklearn.preprocessing import StandardScaler\n",
    "scaler=StandardScaler()\n",
    "x_train_scaled=scaler.fit_transform(x_train.astype(np.float32).reshape(-1,1)).reshape(-1,28,28)\n",
    "x_valid_scaled=scaler.transform(x_valid.astype(np.float32).reshape(-1,1)).reshape(-1,28,28)\n",
    "x_test_scaled=scaler.transform(x_test.astype(np.float32).reshape(-1,1)).reshape(-1,28,28)"
   ]
  },
  {
   "cell_type": "code",
   "execution_count": 5,
   "metadata": {},
   "outputs": [
    {
     "name": "stdout",
     "output_type": "stream",
     "text": [
      "(5000, 28, 28) (5000,)\n"
     ]
    }
   ],
   "source": [
    "print(x_valid.shape,y_valid.shape)"
   ]
  },
  {
   "cell_type": "code",
   "execution_count": 9,
   "metadata": {},
   "outputs": [],
   "source": [
    "#模型创建\n",
    "model=keras.models.Sequential()\n",
    "model.add(keras.layers.Flatten(input_shape=[28,28]))\n",
    "model.add(keras.layers.Dense(300,activation='relu'))\n",
    "model.add(keras.layers.Dense(100,activation='softmax'))\n",
    "#定义激活函数\n",
    "model.compile(loss='sparse_categorical_crossentropy',optimizer=keras.optimizers.SGD(0.001),metrics=['accuracy'])"
   ]
  },
  {
   "cell_type": "code",
   "execution_count": 10,
   "metadata": {},
   "outputs": [
    {
     "data": {
      "text/plain": [
       "[<tensorflow.python.keras.layers.core.Flatten at 0x2488e4f2df0>,\n",
       " <tensorflow.python.keras.layers.core.Dense at 0x2488e74e190>,\n",
       " <tensorflow.python.keras.layers.core.Dense at 0x2488e417460>]"
      ]
     },
     "execution_count": 10,
     "metadata": {},
     "output_type": "execute_result"
    }
   ],
   "source": [
    "model.layers"
   ]
  },
  {
   "cell_type": "code",
   "execution_count": 11,
   "metadata": {},
   "outputs": [
    {
     "name": "stdout",
     "output_type": "stream",
     "text": [
      "Model: \"sequential_1\"\n",
      "_________________________________________________________________\n",
      "Layer (type)                 Output Shape              Param #   \n",
      "=================================================================\n",
      "flatten_1 (Flatten)          (None, 784)               0         \n",
      "_________________________________________________________________\n",
      "dense_1 (Dense)              (None, 300)               235500    \n",
      "_________________________________________________________________\n",
      "dense_2 (Dense)              (None, 100)               30100     \n",
      "=================================================================\n",
      "Total params: 265,600\n",
      "Trainable params: 265,600\n",
      "Non-trainable params: 0\n",
      "_________________________________________________________________\n"
     ]
    }
   ],
   "source": [
    "model.summary()"
   ]
  },
  {
   "cell_type": "code",
   "execution_count": 12,
   "metadata": {},
   "outputs": [
    {
     "name": "stdout",
     "output_type": "stream",
     "text": [
      "Epoch 1/50\n",
      "1719/1719 [==============================] - 4s 2ms/step - loss: 1.0515 - accuracy: 0.6891 - val_loss: 0.6411 - val_accuracy: 0.7828\n",
      "Epoch 2/50\n",
      "1719/1719 [==============================] - 4s 2ms/step - loss: 0.6057 - accuracy: 0.7904 - val_loss: 0.5458 - val_accuracy: 0.8094\n",
      "Epoch 3/50\n",
      "1719/1719 [==============================] - 4s 2ms/step - loss: 0.5392 - accuracy: 0.8137 - val_loss: 0.5039 - val_accuracy: 0.8252\n",
      "Epoch 4/50\n",
      "1719/1719 [==============================] - 4s 2ms/step - loss: 0.5034 - accuracy: 0.8249 - val_loss: 0.4772 - val_accuracy: 0.8358\n",
      "Epoch 5/50\n",
      "1719/1719 [==============================] - 4s 2ms/step - loss: 0.4794 - accuracy: 0.8336 - val_loss: 0.4598 - val_accuracy: 0.8410\n",
      "Epoch 6/50\n",
      "1719/1719 [==============================] - 4s 2ms/step - loss: 0.4619 - accuracy: 0.8383 - val_loss: 0.4465 - val_accuracy: 0.8470\n",
      "Epoch 7/50\n",
      "1719/1719 [==============================] - 4s 2ms/step - loss: 0.4481 - accuracy: 0.8432 - val_loss: 0.4363 - val_accuracy: 0.8494\n",
      "Epoch 8/50\n",
      "1719/1719 [==============================] - 4s 2ms/step - loss: 0.4367 - accuracy: 0.8473 - val_loss: 0.4272 - val_accuracy: 0.8508\n",
      "Epoch 9/50\n",
      "1719/1719 [==============================] - 4s 2ms/step - loss: 0.4266 - accuracy: 0.8518 - val_loss: 0.4209 - val_accuracy: 0.8528\n",
      "Epoch 10/50\n",
      "1719/1719 [==============================] - 4s 3ms/step - loss: 0.4182 - accuracy: 0.8543 - val_loss: 0.4137 - val_accuracy: 0.8540\n",
      "Epoch 11/50\n",
      "1719/1719 [==============================] - 4s 2ms/step - loss: 0.4107 - accuracy: 0.8562 - val_loss: 0.4112 - val_accuracy: 0.8560\n",
      "Epoch 12/50\n",
      "1719/1719 [==============================] - 4s 3ms/step - loss: 0.4040 - accuracy: 0.8597 - val_loss: 0.4024 - val_accuracy: 0.8592\n",
      "Epoch 13/50\n",
      "1719/1719 [==============================] - 4s 2ms/step - loss: 0.3978 - accuracy: 0.8608 - val_loss: 0.3994 - val_accuracy: 0.8594\n",
      "Epoch 14/50\n",
      "1719/1719 [==============================] - 4s 3ms/step - loss: 0.3925 - accuracy: 0.8630 - val_loss: 0.3952 - val_accuracy: 0.8598\n",
      "Epoch 15/50\n",
      "1719/1719 [==============================] - 4s 2ms/step - loss: 0.3876 - accuracy: 0.8643 - val_loss: 0.3904 - val_accuracy: 0.8624\n",
      "Epoch 16/50\n",
      "1719/1719 [==============================] - 4s 2ms/step - loss: 0.3829 - accuracy: 0.8655 - val_loss: 0.3868 - val_accuracy: 0.8638\n",
      "Epoch 17/50\n",
      "1719/1719 [==============================] - 4s 2ms/step - loss: 0.3785 - accuracy: 0.8684 - val_loss: 0.3830 - val_accuracy: 0.8638\n",
      "Epoch 18/50\n",
      "1719/1719 [==============================] - 5s 3ms/step - loss: 0.3746 - accuracy: 0.8684 - val_loss: 0.3810 - val_accuracy: 0.8666\n",
      "Epoch 19/50\n",
      "1719/1719 [==============================] - 4s 2ms/step - loss: 0.3708 - accuracy: 0.8707 - val_loss: 0.3781 - val_accuracy: 0.8670\n",
      "Epoch 20/50\n",
      "1719/1719 [==============================] - 4s 2ms/step - loss: 0.3673 - accuracy: 0.8721 - val_loss: 0.3769 - val_accuracy: 0.8670\n",
      "Epoch 21/50\n",
      "1719/1719 [==============================] - 4s 2ms/step - loss: 0.3638 - accuracy: 0.8726 - val_loss: 0.3757 - val_accuracy: 0.8674\n",
      "Epoch 22/50\n",
      "1719/1719 [==============================] - 4s 3ms/step - loss: 0.3607 - accuracy: 0.8746 - val_loss: 0.3721 - val_accuracy: 0.8682\n",
      "Epoch 23/50\n",
      "1719/1719 [==============================] - 4s 2ms/step - loss: 0.3574 - accuracy: 0.8753 - val_loss: 0.3701 - val_accuracy: 0.8668\n",
      "Epoch 24/50\n",
      "1719/1719 [==============================] - 4s 2ms/step - loss: 0.3547 - accuracy: 0.8759 - val_loss: 0.3681 - val_accuracy: 0.8698\n",
      "Epoch 25/50\n",
      "1719/1719 [==============================] - 4s 2ms/step - loss: 0.3518 - accuracy: 0.8769 - val_loss: 0.3645 - val_accuracy: 0.8682\n",
      "Epoch 26/50\n",
      "1719/1719 [==============================] - 4s 2ms/step - loss: 0.3493 - accuracy: 0.8773 - val_loss: 0.3640 - val_accuracy: 0.8710\n",
      "Epoch 27/50\n",
      "1719/1719 [==============================] - 4s 2ms/step - loss: 0.3468 - accuracy: 0.8788 - val_loss: 0.3625 - val_accuracy: 0.8704\n",
      "Epoch 28/50\n",
      "1719/1719 [==============================] - 4s 2ms/step - loss: 0.3441 - accuracy: 0.8797 - val_loss: 0.3622 - val_accuracy: 0.8706\n",
      "Epoch 29/50\n",
      "1719/1719 [==============================] - 5s 3ms/step - loss: 0.3418 - accuracy: 0.8796 - val_loss: 0.3617 - val_accuracy: 0.8702\n",
      "Epoch 30/50\n",
      "1719/1719 [==============================] - 4s 2ms/step - loss: 0.3393 - accuracy: 0.8812 - val_loss: 0.3586 - val_accuracy: 0.8724\n",
      "Epoch 31/50\n",
      "1719/1719 [==============================] - 4s 2ms/step - loss: 0.3373 - accuracy: 0.8817 - val_loss: 0.3549 - val_accuracy: 0.8762\n",
      "Epoch 32/50\n",
      "1719/1719 [==============================] - 4s 2ms/step - loss: 0.3351 - accuracy: 0.8827 - val_loss: 0.3538 - val_accuracy: 0.8726\n",
      "Epoch 33/50\n",
      "1719/1719 [==============================] - 5s 3ms/step - loss: 0.3330 - accuracy: 0.8831 - val_loss: 0.3539 - val_accuracy: 0.8734\n",
      "Epoch 34/50\n",
      "1719/1719 [==============================] - 4s 3ms/step - loss: 0.3310 - accuracy: 0.8846 - val_loss: 0.3514 - val_accuracy: 0.8734\n",
      "Epoch 35/50\n",
      "1719/1719 [==============================] - 5s 3ms/step - loss: 0.3288 - accuracy: 0.8838 - val_loss: 0.3487 - val_accuracy: 0.8770\n",
      "Epoch 36/50\n",
      "1719/1719 [==============================] - 4s 2ms/step - loss: 0.3268 - accuracy: 0.8851 - val_loss: 0.3487 - val_accuracy: 0.8764\n",
      "Epoch 37/50\n",
      "1719/1719 [==============================] - 4s 3ms/step - loss: 0.3249 - accuracy: 0.8852 - val_loss: 0.3500 - val_accuracy: 0.8760\n",
      "Epoch 38/50\n",
      "1719/1719 [==============================] - 4s 2ms/step - loss: 0.3230 - accuracy: 0.8867 - val_loss: 0.3474 - val_accuracy: 0.8766\n",
      "Epoch 39/50\n",
      "1719/1719 [==============================] - 4s 2ms/step - loss: 0.3211 - accuracy: 0.8868 - val_loss: 0.3465 - val_accuracy: 0.8754\n",
      "Epoch 40/50\n",
      "1719/1719 [==============================] - 4s 2ms/step - loss: 0.3194 - accuracy: 0.8876 - val_loss: 0.3437 - val_accuracy: 0.8770\n",
      "Epoch 41/50\n",
      "1719/1719 [==============================] - 4s 2ms/step - loss: 0.3178 - accuracy: 0.8877 - val_loss: 0.3426 - val_accuracy: 0.8766\n",
      "Epoch 42/50\n",
      "1719/1719 [==============================] - 4s 2ms/step - loss: 0.3159 - accuracy: 0.8890 - val_loss: 0.3425 - val_accuracy: 0.8792\n",
      "Epoch 43/50\n",
      "1719/1719 [==============================] - 4s 2ms/step - loss: 0.3143 - accuracy: 0.8897 - val_loss: 0.3427 - val_accuracy: 0.8780\n",
      "Epoch 44/50\n",
      "1719/1719 [==============================] - 5s 3ms/step - loss: 0.3127 - accuracy: 0.8896 - val_loss: 0.3442 - val_accuracy: 0.8786\n",
      "Epoch 45/50\n",
      "1719/1719 [==============================] - 5s 3ms/step - loss: 0.3110 - accuracy: 0.8910 - val_loss: 0.3394 - val_accuracy: 0.8772\n",
      "Epoch 46/50\n",
      "1719/1719 [==============================] - 4s 2ms/step - loss: 0.3095 - accuracy: 0.8914 - val_loss: 0.3381 - val_accuracy: 0.8794\n",
      "Epoch 47/50\n",
      "1719/1719 [==============================] - 4s 2ms/step - loss: 0.3078 - accuracy: 0.8921 - val_loss: 0.3388 - val_accuracy: 0.8766\n",
      "Epoch 48/50\n",
      "1719/1719 [==============================] - 4s 3ms/step - loss: 0.3061 - accuracy: 0.8926 - val_loss: 0.3351 - val_accuracy: 0.8808\n",
      "Epoch 49/50\n",
      "1719/1719 [==============================] - 5s 3ms/step - loss: 0.3045 - accuracy: 0.8930 - val_loss: 0.3350 - val_accuracy: 0.8800\n",
      "Epoch 50/50\n",
      "1719/1719 [==============================] - 5s 3ms/step - loss: 0.3031 - accuracy: 0.8927 - val_loss: 0.3347 - val_accuracy: 0.8822\n"
     ]
    }
   ],
   "source": [
    "history=model.fit(x_train_scaled,y_train,epochs=50,validation_data=(x_valid_scaled,y_valid))"
   ]
  },
  {
   "cell_type": "code",
   "execution_count": null,
   "metadata": {},
   "outputs": [],
   "source": []
  }
 ],
 "metadata": {
  "kernelspec": {
   "display_name": "Python 3.8.3 64-bit ('base': conda)",
   "language": "python",
   "name": "python38364bitbasecondad9bd0a7157c84fa7bace955ad09d0846"
  },
  "language_info": {
   "codemirror_mode": {
    "name": "ipython",
    "version": 3
   },
   "file_extension": ".py",
   "mimetype": "text/x-python",
   "name": "python",
   "nbconvert_exporter": "python",
   "pygments_lexer": "ipython3",
   "version": "3.8.3"
  }
 },
 "nbformat": 4,
 "nbformat_minor": 4
}
