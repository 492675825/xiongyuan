{
 "cells": [
  {
   "cell_type": "code",
   "execution_count": 1,
   "metadata": {},
   "outputs": [],
   "source": [
    "import matplotlib.pyplot as plt \n",
    "import numpy as np \n",
    "import pandas as pd \n",
    "import time \n",
    "import tensorflow as tf \n",
    "from tensorflow import keras"
   ]
  },
  {
   "cell_type": "code",
   "execution_count": 2,
   "metadata": {},
   "outputs": [
    {
     "name": "stdout",
     "output_type": "stream",
     "text": [
      "2.3.1\n"
     ]
    }
   ],
   "source": [
    "#查看tesorflow版本\n",
    "print(tf.__version__)"
   ]
  },
  {
   "cell_type": "markdown",
   "metadata": {},
   "source": [
    "### 一、切分数据"
   ]
  },
  {
   "cell_type": "code",
   "execution_count": 3,
   "metadata": {},
   "outputs": [],
   "source": [
    "#导入fashion_mnist手写数字数据集\n",
    "fashion_mnist=keras.datasets.fashion_mnist\n",
    "#创建训练集和验证集\n",
    "(x_train_all,y_train_all),(x_test,y_test)=fashion_mnist.load_data()\n",
    "#将训练集进一步拆分成训练集和验证集合\n",
    "#前5000张作为验证集，5000张之后都作为训练集\n",
    "x_valid,x_train=x_train_all[:5000],x_train_all[5000:]\n",
    "y_valid,y_train=y_train_all[:5000],y_train_all[5000:]"
   ]
  },
  {
   "cell_type": "markdown",
   "metadata": {},
   "source": [
    "### 二、对数据做归一化"
   ]
  },
  {
   "cell_type": "code",
   "execution_count": 4,
   "metadata": {},
   "outputs": [],
   "source": [
    "#归一化,归一化在深度学习中非常重要，可以有效的提高模型的准确率\n",
    "from sklearn.preprocessing import StandardScaler\n",
    "scaler=StandardScaler()\n",
    "#归一化需要是二维矩阵，而这里的x_train,x_valid都是三维的所以需要先reshape（-1,1）,之后再reshape回三维的\n",
    "x_train_scaled=scaler.fit_transform(x_train.astype(np.float32).reshape(-1,1)).reshape(-1,28,28)\n",
    "x_valid_scaled=scaler.transform(x_valid.astype(np.float32).reshape(-1,1)).reshape(-1,28,28)\n",
    "x_test_scaled=scaler.transform(x_test.astype(np.float32).reshape(-1,1)).reshape(-1,28,28)"
   ]
  },
  {
   "cell_type": "code",
   "execution_count": 5,
   "metadata": {},
   "outputs": [
    {
     "name": "stdout",
     "output_type": "stream",
     "text": [
      "(5000, 28, 28) (5000,)\n",
      "(55000, 28, 28) (55000,)\n",
      "(10000, 28, 28) (10000,)\n"
     ]
    }
   ],
   "source": [
    "#查看训练集合，测试集，验证集的数据形状\n",
    "print(x_valid.shape,y_valid.shape)\n",
    "print(x_train.shape,y_train.shape)\n",
    "print(x_test.shape,y_test.shape)"
   ]
  },
  {
   "cell_type": "markdown",
   "metadata": {},
   "source": [
    "### 三、模型构建"
   ]
  },
  {
   "cell_type": "code",
   "execution_count": 6,
   "metadata": {},
   "outputs": [],
   "source": [
    "#tf.keras.models.sequential()\n",
    "\n",
    "#深度神经网络\n",
    "model=keras.models.Sequential()\n",
    "model.add(keras.layers.Flatten(input_shape=[28,28]))\n",
    "\n",
    "#循环20次，生成20层的中间层神经元\n",
    "for _ in range(20):\n",
    "    model.add(keras.layers.Dense(100,activation='relu'))\n",
    "    model.add(keras.layers.BatchNormalization()) #增加批归一化，批归一化就是每层神经元都做一次归一化的处理\n",
    "    \n",
    "#最后一次的输出层的神经元个数\n",
    "model.add(keras.layers.Dense(10,activation='softmax'))\n",
    "\n",
    "\n",
    "#定义激活函数\n",
    "#relu:y=max(0,x),输入是x，输出是x和0两个数字中较大的一个\n",
    "#softmax：将向量变成概率分布\n",
    "model.compile(\n",
    "    loss='sparse_categorical_crossentropy',\n",
    "    optimizer='sgd',\n",
    "    metrics=['accuracy']) "
   ]
  },
  {
   "cell_type": "code",
   "execution_count": 7,
   "metadata": {},
   "outputs": [
    {
     "data": {
      "text/plain": [
       "[<tensorflow.python.keras.layers.core.Flatten at 0x20790f064c0>,\n",
       " <tensorflow.python.keras.layers.core.Dense at 0x20797efafa0>,\n",
       " <tensorflow.python.keras.layers.normalization_v2.BatchNormalization at 0x20797f37be0>,\n",
       " <tensorflow.python.keras.layers.core.Dense at 0x20798174190>,\n",
       " <tensorflow.python.keras.layers.normalization_v2.BatchNormalization at 0x207981c64c0>,\n",
       " <tensorflow.python.keras.layers.core.Dense at 0x20798329520>,\n",
       " <tensorflow.python.keras.layers.normalization_v2.BatchNormalization at 0x2079835af40>,\n",
       " <tensorflow.python.keras.layers.core.Dense at 0x2079836ac70>,\n",
       " <tensorflow.python.keras.layers.normalization_v2.BatchNormalization at 0x2079838e250>,\n",
       " <tensorflow.python.keras.layers.core.Dense at 0x20798393520>,\n",
       " <tensorflow.python.keras.layers.normalization_v2.BatchNormalization at 0x207983bdb50>,\n",
       " <tensorflow.python.keras.layers.core.Dense at 0x207983d5c10>,\n",
       " <tensorflow.python.keras.layers.normalization_v2.BatchNormalization at 0x2079871e4c0>,\n",
       " <tensorflow.python.keras.layers.core.Dense at 0x207987314c0>,\n",
       " <tensorflow.python.keras.layers.normalization_v2.BatchNormalization at 0x2079875caf0>,\n",
       " <tensorflow.python.keras.layers.core.Dense at 0x20798762fd0>,\n",
       " <tensorflow.python.keras.layers.normalization_v2.BatchNormalization at 0x2079878b610>,\n",
       " <tensorflow.python.keras.layers.core.Dense at 0x2079879daf0>,\n",
       " <tensorflow.python.keras.layers.normalization_v2.BatchNormalization at 0x207987a4b20>,\n",
       " <tensorflow.python.keras.layers.core.Dense at 0x207987ccfa0>,\n",
       " <tensorflow.python.keras.layers.normalization_v2.BatchNormalization at 0x20798800130>,\n",
       " <tensorflow.python.keras.layers.core.Dense at 0x20798809a00>,\n",
       " <tensorflow.python.keras.layers.normalization_v2.BatchNormalization at 0x20798833a90>,\n",
       " <tensorflow.python.keras.layers.core.Dense at 0x20798839f10>,\n",
       " <tensorflow.python.keras.layers.normalization_v2.BatchNormalization at 0x2079886b6d0>,\n",
       " <tensorflow.python.keras.layers.core.Dense at 0x20798873850>,\n",
       " <tensorflow.python.keras.layers.normalization_v2.BatchNormalization at 0x2079889ea90>,\n",
       " <tensorflow.python.keras.layers.core.Dense at 0x207988a6f10>,\n",
       " <tensorflow.python.keras.layers.normalization_v2.BatchNormalization at 0x207988ce610>,\n",
       " <tensorflow.python.keras.layers.core.Dense at 0x207988e1af0>,\n",
       " <tensorflow.python.keras.layers.normalization_v2.BatchNormalization at 0x2079890cac0>,\n",
       " <tensorflow.python.keras.layers.core.Dense at 0x20798911fd0>,\n",
       " <tensorflow.python.keras.layers.normalization_v2.BatchNormalization at 0x20798939d90>,\n",
       " <tensorflow.python.keras.layers.core.Dense at 0x2079894cb20>,\n",
       " <tensorflow.python.keras.layers.normalization_v2.BatchNormalization at 0x20798977af0>,\n",
       " <tensorflow.python.keras.layers.core.Dense at 0x2079897dfd0>,\n",
       " <tensorflow.python.keras.layers.normalization_v2.BatchNormalization at 0x207989a8670>,\n",
       " <tensorflow.python.keras.layers.core.Dense at 0x207989b7730>,\n",
       " <tensorflow.python.keras.layers.normalization_v2.BatchNormalization at 0x207989e5b50>,\n",
       " <tensorflow.python.keras.layers.core.Dense at 0x207989fbbb0>,\n",
       " <tensorflow.python.keras.layers.normalization_v2.BatchNormalization at 0x20798a144c0>,\n",
       " <tensorflow.python.keras.layers.core.Dense at 0x20797f37070>]"
      ]
     },
     "execution_count": 7,
     "metadata": {},
     "output_type": "execute_result"
    }
   ],
   "source": [
    "#查看神经网络有多少层神经网络\n",
    "model.layers"
   ]
  },
  {
   "cell_type": "code",
   "execution_count": 8,
   "metadata": {},
   "outputs": [
    {
     "name": "stdout",
     "output_type": "stream",
     "text": [
      "Model: \"sequential\"\n",
      "_________________________________________________________________\n",
      "Layer (type)                 Output Shape              Param #   \n",
      "=================================================================\n",
      "flatten (Flatten)            (None, 784)               0         \n",
      "_________________________________________________________________\n",
      "dense (Dense)                (None, 100)               78500     \n",
      "_________________________________________________________________\n",
      "batch_normalization (BatchNo (None, 100)               400       \n",
      "_________________________________________________________________\n",
      "dense_1 (Dense)              (None, 100)               10100     \n",
      "_________________________________________________________________\n",
      "batch_normalization_1 (Batch (None, 100)               400       \n",
      "_________________________________________________________________\n",
      "dense_2 (Dense)              (None, 100)               10100     \n",
      "_________________________________________________________________\n",
      "batch_normalization_2 (Batch (None, 100)               400       \n",
      "_________________________________________________________________\n",
      "dense_3 (Dense)              (None, 100)               10100     \n",
      "_________________________________________________________________\n",
      "batch_normalization_3 (Batch (None, 100)               400       \n",
      "_________________________________________________________________\n",
      "dense_4 (Dense)              (None, 100)               10100     \n",
      "_________________________________________________________________\n",
      "batch_normalization_4 (Batch (None, 100)               400       \n",
      "_________________________________________________________________\n",
      "dense_5 (Dense)              (None, 100)               10100     \n",
      "_________________________________________________________________\n",
      "batch_normalization_5 (Batch (None, 100)               400       \n",
      "_________________________________________________________________\n",
      "dense_6 (Dense)              (None, 100)               10100     \n",
      "_________________________________________________________________\n",
      "batch_normalization_6 (Batch (None, 100)               400       \n",
      "_________________________________________________________________\n",
      "dense_7 (Dense)              (None, 100)               10100     \n",
      "_________________________________________________________________\n",
      "batch_normalization_7 (Batch (None, 100)               400       \n",
      "_________________________________________________________________\n",
      "dense_8 (Dense)              (None, 100)               10100     \n",
      "_________________________________________________________________\n",
      "batch_normalization_8 (Batch (None, 100)               400       \n",
      "_________________________________________________________________\n",
      "dense_9 (Dense)              (None, 100)               10100     \n",
      "_________________________________________________________________\n",
      "batch_normalization_9 (Batch (None, 100)               400       \n",
      "_________________________________________________________________\n",
      "dense_10 (Dense)             (None, 100)               10100     \n",
      "_________________________________________________________________\n",
      "batch_normalization_10 (Batc (None, 100)               400       \n",
      "_________________________________________________________________\n",
      "dense_11 (Dense)             (None, 100)               10100     \n",
      "_________________________________________________________________\n",
      "batch_normalization_11 (Batc (None, 100)               400       \n",
      "_________________________________________________________________\n",
      "dense_12 (Dense)             (None, 100)               10100     \n",
      "_________________________________________________________________\n",
      "batch_normalization_12 (Batc (None, 100)               400       \n",
      "_________________________________________________________________\n",
      "dense_13 (Dense)             (None, 100)               10100     \n",
      "_________________________________________________________________\n",
      "batch_normalization_13 (Batc (None, 100)               400       \n",
      "_________________________________________________________________\n",
      "dense_14 (Dense)             (None, 100)               10100     \n",
      "_________________________________________________________________\n",
      "batch_normalization_14 (Batc (None, 100)               400       \n",
      "_________________________________________________________________\n",
      "dense_15 (Dense)             (None, 100)               10100     \n",
      "_________________________________________________________________\n",
      "batch_normalization_15 (Batc (None, 100)               400       \n",
      "_________________________________________________________________\n",
      "dense_16 (Dense)             (None, 100)               10100     \n",
      "_________________________________________________________________\n",
      "batch_normalization_16 (Batc (None, 100)               400       \n",
      "_________________________________________________________________\n",
      "dense_17 (Dense)             (None, 100)               10100     \n",
      "_________________________________________________________________\n",
      "batch_normalization_17 (Batc (None, 100)               400       \n",
      "_________________________________________________________________\n",
      "dense_18 (Dense)             (None, 100)               10100     \n",
      "_________________________________________________________________\n",
      "batch_normalization_18 (Batc (None, 100)               400       \n",
      "_________________________________________________________________\n",
      "dense_19 (Dense)             (None, 100)               10100     \n",
      "_________________________________________________________________\n",
      "batch_normalization_19 (Batc (None, 100)               400       \n",
      "_________________________________________________________________\n",
      "dense_20 (Dense)             (None, 10)                1010      \n",
      "=================================================================\n",
      "Total params: 279,410\n",
      "Trainable params: 275,410\n",
      "Non-trainable params: 4,000\n",
      "_________________________________________________________________\n"
     ]
    }
   ],
   "source": [
    "#查看模型架构\n",
    "model.summary()\n",
    "#[None,784]*w+b->[None,300] w.shape [784,300],b=[300]"
   ]
  },
  {
   "cell_type": "markdown",
   "metadata": {},
   "source": [
    "### 四、模型训练"
   ]
  },
  {
   "cell_type": "code",
   "execution_count": 9,
   "metadata": {},
   "outputs": [
    {
     "name": "stdout",
     "output_type": "stream",
     "text": [
      "Epoch 1/10\n",
      "   1/1719 [..............................] - ETA: 0s - loss: 2.7808 - accuracy: 0.0938WARNING:tensorflow:From C:\\Users\\xiongyuan\\anaconda3\\lib\\site-packages\\tensorflow\\python\\ops\\summary_ops_v2.py:1277: stop (from tensorflow.python.eager.profiler) is deprecated and will be removed after 2020-07-01.\n",
      "Instructions for updating:\n",
      "use `tf.profiler.experimental.stop` instead.\n",
      "   2/1719 [..............................] - ETA: 9:36 - loss: 2.7035 - accuracy: 0.0781WARNING:tensorflow:Callbacks method `on_train_batch_end` is slow compared to the batch time (batch time: 0.0099s vs `on_train_batch_end` time: 0.6587s). Check your callbacks.\n",
      "1719/1719 [==============================] - 20s 12ms/step - loss: 1.0682 - accuracy: 0.6209 - val_loss: 0.6261 - val_accuracy: 0.7758\n",
      "Epoch 2/10\n",
      "1719/1719 [==============================] - 18s 11ms/step - loss: 0.7541 - accuracy: 0.7345 - val_loss: 0.5406 - val_accuracy: 0.8006\n",
      "Epoch 3/10\n",
      "1719/1719 [==============================] - 16s 10ms/step - loss: 0.6572 - accuracy: 0.7671 - val_loss: 0.5000 - val_accuracy: 0.8206\n",
      "Epoch 4/10\n",
      "1719/1719 [==============================] - 18s 10ms/step - loss: 0.5947 - accuracy: 0.7890 - val_loss: 0.4916 - val_accuracy: 0.8250\n",
      "Epoch 5/10\n",
      "1719/1719 [==============================] - 18s 10ms/step - loss: 0.5559 - accuracy: 0.8044 - val_loss: 0.4534 - val_accuracy: 0.8430\n",
      "Epoch 6/10\n",
      "1719/1719 [==============================] - 18s 10ms/step - loss: 0.5167 - accuracy: 0.8177 - val_loss: 0.4186 - val_accuracy: 0.8502\n",
      "Epoch 7/10\n",
      "1719/1719 [==============================] - 18s 10ms/step - loss: 0.4900 - accuracy: 0.8271 - val_loss: 0.4191 - val_accuracy: 0.8460\n",
      "Epoch 8/10\n",
      "1719/1719 [==============================] - 18s 10ms/step - loss: 0.4657 - accuracy: 0.8361 - val_loss: 0.3986 - val_accuracy: 0.8552\n",
      "Epoch 9/10\n",
      "1719/1719 [==============================] - 18s 10ms/step - loss: 0.4536 - accuracy: 0.8413 - val_loss: 0.3771 - val_accuracy: 0.8670\n",
      "Epoch 10/10\n",
      "1719/1719 [==============================] - 18s 10ms/step - loss: 0.4343 - accuracy: 0.8468 - val_loss: 0.3777 - val_accuracy: 0.8654\n"
     ]
    }
   ],
   "source": [
    "#模型训练,添加callback回调函数(Tensorboard,earlystopping,ModelCheckpoint)\n",
    "logdir='./dnn-callbacks' #创建一个文件路径以及文件名，模型跑出来的结果会保存在项目文件的callbacks中去\n",
    "import os\n",
    "if not os.path.exists(logdir):\n",
    "    os.mkdir(logdir)\n",
    "\n",
    "output_model_file=os.path.join(logdir,'fashion_mnist_model.h5')\n",
    "#定义回调函数\n",
    "callbacks=[\n",
    "    #使用tensorboard\n",
    "    keras.callbacks.TensorBoard(logdir),\n",
    "    #每次跑完模型保存模型\n",
    "    keras.callbacks.ModelCheckpoint(output_model_file,save_best_only=True),\n",
    "    #当指标在运行中没有提升，就提前停止训练\n",
    "    keras.callbacks.EarlyStopping(patience=5,min_delta=1e-3)   #1e-3表示1的e负3次方\n",
    "]\n",
    "history=model.fit(\n",
    "    x_train_scaled,\n",
    "    y_train,\n",
    "    epochs=10,\n",
    "    validation_data=(x_valid_scaled,y_valid),\n",
    "    callbacks=callbacks)"
   ]
  },
  {
   "cell_type": "code",
   "execution_count": 10,
   "metadata": {},
   "outputs": [
    {
     "data": {
      "text/plain": [
       "{'loss': [1.0682275295257568,\n",
       "  0.7541311979293823,\n",
       "  0.6572195887565613,\n",
       "  0.5947300791740417,\n",
       "  0.5558900833129883,\n",
       "  0.5167071223258972,\n",
       "  0.4900243878364563,\n",
       "  0.46572232246398926,\n",
       "  0.4535534381866455,\n",
       "  0.4343382716178894],\n",
       " 'accuracy': [0.6209272742271423,\n",
       "  0.7345272898674011,\n",
       "  0.767090916633606,\n",
       "  0.7889999747276306,\n",
       "  0.8044000267982483,\n",
       "  0.8177090883255005,\n",
       "  0.8270545601844788,\n",
       "  0.8361272811889648,\n",
       "  0.8413090705871582,\n",
       "  0.8468000292778015],\n",
       " 'val_loss': [0.6261320114135742,\n",
       "  0.5406219959259033,\n",
       "  0.5000357627868652,\n",
       "  0.49156278371810913,\n",
       "  0.4534112215042114,\n",
       "  0.4185654819011688,\n",
       "  0.41911327838897705,\n",
       "  0.3985871374607086,\n",
       "  0.37709152698516846,\n",
       "  0.37765589356422424],\n",
       " 'val_accuracy': [0.7757999897003174,\n",
       "  0.800599992275238,\n",
       "  0.8205999732017517,\n",
       "  0.824999988079071,\n",
       "  0.8429999947547913,\n",
       "  0.8501999974250793,\n",
       "  0.8460000157356262,\n",
       "  0.8551999926567078,\n",
       "  0.8669999837875366,\n",
       "  0.8654000163078308]}"
      ]
     },
     "execution_count": 10,
     "metadata": {},
     "output_type": "execute_result"
    }
   ],
   "source": [
    "history.history"
   ]
  },
  {
   "cell_type": "markdown",
   "metadata": {},
   "source": [
    "### 五、查看模型效果"
   ]
  },
  {
   "cell_type": "code",
   "execution_count": 15,
   "metadata": {},
   "outputs": [
    {
     "data": {
      "image/png": "[encoded data removed]",
      "text/plain": [
       "<Figure size 576x360 with 1 Axes>"
      ]
     },
     "metadata": {
      "needs_background": "light"
     },
     "output_type": "display_data"
    }
   ],
   "source": [
    "#绘图，也可以不绘图，直接用tensorboard打开查看结果\n",
    "def plot_learning_curves(history):\n",
    "    pd.DataFrame(history.history).plot(figsize=(8,5))\n",
    "    plt.grid(True)\n",
    "    plt.gca().set_ylim(0,1)\n",
    "    plt.show()\n",
    "plot_learning_curves(history)\n",
    "#可以看出损失函数在不断的下降，准确率在不断的提升"
   ]
  },
  {
   "cell_type": "code",
   "execution_count": 12,
   "metadata": {},
   "outputs": [
    {
     "name": "stdout",
     "output_type": "stream",
     "text": [
      "313/313 [==============================] - 1s 3ms/step - loss: 0.4186 - accuracy: 0.8536\n"
     ]
    },
    {
     "data": {
      "text/plain": [
       "[0.4185832440853119, 0.853600025177002]"
      ]
     },
     "execution_count": 12,
     "metadata": {},
     "output_type": "execute_result"
    }
   ],
   "source": [
    "#可以在测试集上进一步评估模型结果\n",
    "model.evaluate(x_test_scaled,y_test)\n",
    "#可以看到结果中测试集上loss是0.44,准确率是0.84"
   ]
  },
  {
   "cell_type": "markdown",
   "metadata": {},
   "source": [
    "### 五、读取callback的结果"
   ]
  },
  {
   "cell_type": "code",
   "execution_count": 13,
   "metadata": {},
   "outputs": [],
   "source": [
    "#1--打开anaconda的powershell\n",
    "#2--cd到项目文件夹中去\n",
    "#3--输入命令：tensorboard --logdir=callbacks #注意callbacks是文件名，是自己之前回调函数中创建的"
   ]
  },
  {
   "cell_type": "markdown",
   "metadata": {},
   "source": []
  },
  {
   "cell_type": "markdown",
   "metadata": {},
   "source": [
    "### **六、梯度消失**"
   ]
  },
  {
   "cell_type": "code",
   "execution_count": 14,
   "metadata": {},
   "outputs": [],
   "source": [
    "#梯度消失的原因\n",
    "#1--出现在深度神经网络中\n",
    "#2--参数众多，训练不充分\n",
    "#3--梯度消失-->链式法则-->复合函数（类似f(q(x))）"
   ]
  }
 ],
 "metadata": {
  "kernelspec": {
   "display_name": "Python 3.8.3 64-bit ('base': conda)",
   "language": "python",
   "name": "python38364bitbasecondad9bd0a7157c84fa7bace955ad09d0846"
  },
  "language_info": {
   "codemirror_mode": {
    "name": "ipython",
    "version": 3
   },
   "file_extension": ".py",
   "mimetype": "text/x-python",
   "name": "python",
   "nbconvert_exporter": "python",
   "pygments_lexer": "ipython3",
   "version": "3.8.3"
  }
 },
 "nbformat": 4,
 "nbformat_minor": 4
}
