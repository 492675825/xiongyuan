{
 "cells": [
  {
   "cell_type": "code",
   "execution_count": 1,
   "metadata": {},
   "outputs": [],
   "source": [
    "import matplotlib.pyplot as plt \n",
    "import numpy as np \n",
    "import pandas as pd \n",
    "import time \n",
    "import tensorflow as tf \n",
    "from tensorflow import keras"
   ]
  },
  {
   "cell_type": "code",
   "execution_count": 2,
   "metadata": {},
   "outputs": [
    {
     "name": "stdout",
     "output_type": "stream",
     "text": [
      "2.3.1\n"
     ]
    }
   ],
   "source": [
    "#查看tesorflow版本\n",
    "print(tf.__version__)"
   ]
  },
  {
   "cell_type": "markdown",
   "metadata": {},
   "source": [
    "### 一、切分数据"
   ]
  },
  {
   "cell_type": "code",
   "execution_count": 3,
   "metadata": {},
   "outputs": [],
   "source": [
    "#导入fashion_mnist手写数字数据集\n",
    "fashion_mnist=keras.datasets.fashion_mnist\n",
    "#创建训练集和验证集\n",
    "(x_train_all,y_train_all),(x_test,y_test)=fashion_mnist.load_data()\n",
    "#将训练集进一步拆分成训练集和验证集合\n",
    "#前5000张作为验证集，5000张之后都作为训练集\n",
    "x_valid,x_train=x_train_all[:5000],x_train_all[5000:]\n",
    "y_valid,y_train=y_train_all[:5000],y_train_all[5000:]"
   ]
  },
  {
   "cell_type": "markdown",
   "metadata": {},
   "source": [
    "### 二、对数据做归一化"
   ]
  },
  {
   "cell_type": "code",
   "execution_count": 4,
   "metadata": {},
   "outputs": [],
   "source": [
    "#归一化,归一化在深度学习中非常重要，可以有效的提高模型的准确率\n",
    "from sklearn.preprocessing import StandardScaler\n",
    "scaler=StandardScaler()\n",
    "#归一化需要是二维矩阵，而这里的x_train,x_valid都是三维的所以需要先reshape（-1,1）,之后再reshape回三维的\n",
    "x_train_scaled=scaler.fit_transform(x_train.astype(np.float32).reshape(-1,1)).reshape(-1,28,28)\n",
    "x_valid_scaled=scaler.transform(x_valid.astype(np.float32).reshape(-1,1)).reshape(-1,28,28)\n",
    "x_test_scaled=scaler.transform(x_test.astype(np.float32).reshape(-1,1)).reshape(-1,28,28)"
   ]
  },
  {
   "cell_type": "code",
   "execution_count": 5,
   "metadata": {},
   "outputs": [
    {
     "name": "stdout",
     "output_type": "stream",
     "text": [
      "(5000, 28, 28) (5000,)\n",
      "(55000, 28, 28) (55000,)\n",
      "(10000, 28, 28) (10000,)\n"
     ]
    }
   ],
   "source": [
    "#查看训练集合，测试集，验证集的数据形状\n",
    "print(x_valid.shape,y_valid.shape)\n",
    "print(x_train.shape,y_train.shape)\n",
    "print(x_test.shape,y_test.shape)"
   ]
  },
  {
   "cell_type": "markdown",
   "metadata": {},
   "source": [
    "### 三、模型构建"
   ]
  },
  {
   "cell_type": "code",
   "execution_count": 6,
   "metadata": {},
   "outputs": [],
   "source": [
    "#tf.keras.models.sequential()\n",
    "'''\n",
    "#定义激活函数\n",
    "#relu:y=max(0,x),输入是x，输出是x和0两个数字中较大的一个\n",
    "#激活函数换成selu函数，selu函数自带归一化效果\n",
    "#softmax：将向量变成概率分布'''\n",
    "\n",
    "#深度神经网络\n",
    "model=keras.models.Sequential()\n",
    "model.add(keras.layers.Flatten(input_shape=[28,28]))\n",
    "#循环20次，生成20层的中间层神经元\n",
    "for _ in range(20):\n",
    "    model.add(keras.layers.Dense(100,activation='selu')) #激活函数换成selu函数，selu函数自带归一化效果\n",
    "model.add(keras.layers.AlphaDropout(rate=0.5))  #在中间层神经元定义完之后再定义dropout层，rate=0.5记住就行\n",
    "model.add(keras.layers.Dense(10,activation='softmax')) #最后一次的输出层的神经元个数\n",
    "model.compile(loss='sparse_categorical_crossentropy',optimizer='sgd',metrics=['accuracy'])  #"
   ]
  },
  {
   "cell_type": "code",
   "execution_count": 7,
   "metadata": {},
   "outputs": [
    {
     "data": {
      "text/plain": [
       "[<tensorflow.python.keras.layers.core.Flatten at 0x2cf345bac70>,\n",
       " <tensorflow.python.keras.layers.core.Dense at 0x2cf345f9e50>,\n",
       " <tensorflow.python.keras.layers.core.Dense at 0x2cf34688c40>,\n",
       " <tensorflow.python.keras.layers.core.Dense at 0x2cf346de4f0>,\n",
       " <tensorflow.python.keras.layers.core.Dense at 0x2cf3482cc70>,\n",
       " <tensorflow.python.keras.layers.core.Dense at 0x2cf34835ca0>,\n",
       " <tensorflow.python.keras.layers.core.Dense at 0x2cf3483df70>,\n",
       " <tensorflow.python.keras.layers.core.Dense at 0x2cf3483deb0>,\n",
       " <tensorflow.python.keras.layers.core.Dense at 0x2cf34845c40>,\n",
       " <tensorflow.python.keras.layers.core.Dense at 0x2cf348499d0>,\n",
       " <tensorflow.python.keras.layers.core.Dense at 0x2cf34853820>,\n",
       " <tensorflow.python.keras.layers.core.Dense at 0x2cf3485eb80>,\n",
       " <tensorflow.python.keras.layers.core.Dense at 0x2cf348a58e0>,\n",
       " <tensorflow.python.keras.layers.core.Dense at 0x2cf348a56a0>,\n",
       " <tensorflow.python.keras.layers.core.Dense at 0x2cf348ac910>,\n",
       " <tensorflow.python.keras.layers.core.Dense at 0x2cf348b3af0>,\n",
       " <tensorflow.python.keras.layers.core.Dense at 0x2cf348ba880>,\n",
       " <tensorflow.python.keras.layers.core.Dense at 0x2cf348c52e0>,\n",
       " <tensorflow.python.keras.layers.core.Dense at 0x2cf348cba00>,\n",
       " <tensorflow.python.keras.layers.core.Dense at 0x2cf348d4790>,\n",
       " <tensorflow.python.keras.layers.core.Dense at 0x2cf348d4ee0>,\n",
       " <tensorflow.python.keras.layers.noise.AlphaDropout at 0x2cf346880d0>,\n",
       " <tensorflow.python.keras.layers.core.Dense at 0x2cf348dbee0>]"
      ]
     },
     "execution_count": 7,
     "metadata": {},
     "output_type": "execute_result"
    }
   ],
   "source": [
    "#查看神经网络有多少层神经网络\n",
    "model.layers"
   ]
  },
  {
   "cell_type": "code",
   "execution_count": 8,
   "metadata": {},
   "outputs": [
    {
     "name": "stdout",
     "output_type": "stream",
     "text": [
      "Model: \"sequential\"\n",
      "_________________________________________________________________\n",
      "Layer (type)                 Output Shape              Param #   \n",
      "=================================================================\n",
      "flatten (Flatten)            (None, 784)               0         \n",
      "_________________________________________________________________\n",
      "dense (Dense)                (None, 100)               78500     \n",
      "_________________________________________________________________\n",
      "dense_1 (Dense)              (None, 100)               10100     \n",
      "_________________________________________________________________\n",
      "dense_2 (Dense)              (None, 100)               10100     \n",
      "_________________________________________________________________\n",
      "dense_3 (Dense)              (None, 100)               10100     \n",
      "_________________________________________________________________\n",
      "dense_4 (Dense)              (None, 100)               10100     \n",
      "_________________________________________________________________\n",
      "dense_5 (Dense)              (None, 100)               10100     \n",
      "_________________________________________________________________\n",
      "dense_6 (Dense)              (None, 100)               10100     \n",
      "_________________________________________________________________\n",
      "dense_7 (Dense)              (None, 100)               10100     \n",
      "_________________________________________________________________\n",
      "dense_8 (Dense)              (None, 100)               10100     \n",
      "_________________________________________________________________\n",
      "dense_9 (Dense)              (None, 100)               10100     \n",
      "_________________________________________________________________\n",
      "dense_10 (Dense)             (None, 100)               10100     \n",
      "_________________________________________________________________\n",
      "dense_11 (Dense)             (None, 100)               10100     \n",
      "_________________________________________________________________\n",
      "dense_12 (Dense)             (None, 100)               10100     \n",
      "_________________________________________________________________\n",
      "dense_13 (Dense)             (None, 100)               10100     \n",
      "_________________________________________________________________\n",
      "dense_14 (Dense)             (None, 100)               10100     \n",
      "_________________________________________________________________\n",
      "dense_15 (Dense)             (None, 100)               10100     \n",
      "_________________________________________________________________\n",
      "dense_16 (Dense)             (None, 100)               10100     \n",
      "_________________________________________________________________\n",
      "dense_17 (Dense)             (None, 100)               10100     \n",
      "_________________________________________________________________\n",
      "dense_18 (Dense)             (None, 100)               10100     \n",
      "_________________________________________________________________\n",
      "dense_19 (Dense)             (None, 100)               10100     \n",
      "_________________________________________________________________\n",
      "alpha_dropout (AlphaDropout) (None, 100)               0         \n",
      "_________________________________________________________________\n",
      "dense_20 (Dense)             (None, 10)                1010      \n",
      "=================================================================\n",
      "Total params: 271,410\n",
      "Trainable params: 271,410\n",
      "Non-trainable params: 0\n",
      "_________________________________________________________________\n"
     ]
    }
   ],
   "source": [
    "#查看模型架构\n",
    "model.summary()\n",
    "#[None,784]*w+b->[None,300] w.shape [784,300],b=[300]"
   ]
  },
  {
   "cell_type": "markdown",
   "metadata": {},
   "source": [
    "### 四、模型训练"
   ]
  },
  {
   "cell_type": "code",
   "execution_count": 9,
   "metadata": {},
   "outputs": [
    {
     "name": "stdout",
     "output_type": "stream",
     "text": [
      "Epoch 1/10\n",
      "   1/1719 [..............................] - ETA: 0s - loss: 3.2229 - accuracy: 0.0938WARNING:tensorflow:From C:\\Users\\xiongyuan\\anaconda3\\lib\\site-packages\\tensorflow\\python\\ops\\summary_ops_v2.py:1277: stop (from tensorflow.python.eager.profiler) is deprecated and will be removed after 2020-07-01.\n",
      "Instructions for updating:\n",
      "use `tf.profiler.experimental.stop` instead.\n",
      "   2/1719 [..............................] - ETA: 2:11 - loss: 2.9285 - accuracy: 0.0938WARNING:tensorflow:Callbacks method `on_train_batch_end` is slow compared to the batch time (batch time: 0.0050s vs `on_train_batch_end` time: 0.1476s). Check your callbacks.\n",
      "1719/1719 [==============================] - 8s 5ms/step - loss: 0.7058 - accuracy: 0.7632 - val_loss: 0.6152 - val_accuracy: 0.8442\n",
      "Epoch 2/10\n",
      "1719/1719 [==============================] - 8s 5ms/step - loss: 0.4573 - accuracy: 0.8436 - val_loss: 0.6272 - val_accuracy: 0.8532\n",
      "Epoch 3/10\n",
      "1719/1719 [==============================] - 8s 5ms/step - loss: 0.4051 - accuracy: 0.8596 - val_loss: 0.5384 - val_accuracy: 0.8718\n",
      "Epoch 4/10\n",
      "1719/1719 [==============================] - 8s 5ms/step - loss: 0.3738 - accuracy: 0.8678 - val_loss: 0.5295 - val_accuracy: 0.8714\n",
      "Epoch 5/10\n",
      "1719/1719 [==============================] - 8s 5ms/step - loss: 0.3501 - accuracy: 0.8775 - val_loss: 0.5696 - val_accuracy: 0.8734\n",
      "Epoch 6/10\n",
      "1719/1719 [==============================] - 9s 5ms/step - loss: 0.3318 - accuracy: 0.8808 - val_loss: 0.5187 - val_accuracy: 0.8754\n",
      "Epoch 7/10\n",
      "1719/1719 [==============================] - 8s 5ms/step - loss: 0.3183 - accuracy: 0.8857 - val_loss: 0.4984 - val_accuracy: 0.8766\n",
      "Epoch 8/10\n",
      "1719/1719 [==============================] - 8s 5ms/step - loss: 0.3021 - accuracy: 0.8909 - val_loss: 0.5672 - val_accuracy: 0.8802\n",
      "Epoch 9/10\n",
      "1719/1719 [==============================] - 8s 5ms/step - loss: 0.2940 - accuracy: 0.8925 - val_loss: 0.5175 - val_accuracy: 0.8860\n",
      "Epoch 10/10\n",
      "1719/1719 [==============================] - 8s 5ms/step - loss: 0.2832 - accuracy: 0.8961 - val_loss: 0.5033 - val_accuracy: 0.8836\n"
     ]
    }
   ],
   "source": [
    "#模型训练,添加callback回调函数(Tensorboard,earlystopping,ModelCheckpoint)\n",
    "logdir='./dnn-callbacks' #创建一个文件路径以及文件名，模型跑出来的结果会保存在项目文件的callbacks中去\n",
    "import os\n",
    "if not os.path.exists(logdir):\n",
    "    os.mkdir(logdir)\n",
    "\n",
    "output_model_file=os.path.join(logdir,'fashion_mnist_model.h5')\n",
    "#定义回调函数\n",
    "callbacks=[\n",
    "    #使用tensorboard\n",
    "    keras.callbacks.TensorBoard(logdir),\n",
    "    #每次跑完模型保存模型\n",
    "    keras.callbacks.ModelCheckpoint(output_model_file,save_best_only=True),\n",
    "    #当指标在运行中没有提升，就提前停止训练\n",
    "    keras.callbacks.EarlyStopping(patience=5,min_delta=1e-3)   #1e-3表示1的e负3次方\n",
    "]\n",
    "history=model.fit(x_train_scaled,y_train,epochs=10,validation_data=(x_valid_scaled,y_valid),callbacks=callbacks)"
   ]
  },
  {
   "cell_type": "code",
   "execution_count": 10,
   "metadata": {},
   "outputs": [
    {
     "data": {
      "text/plain": [
       "{'loss': [0.7058268189430237,\n",
       "  0.4572756886482239,\n",
       "  0.405064195394516,\n",
       "  0.3737671375274658,\n",
       "  0.35014209151268005,\n",
       "  0.33176061511039734,\n",
       "  0.3183082640171051,\n",
       "  0.3020767271518707,\n",
       "  0.2940015196800232,\n",
       "  0.28320205211639404],\n",
       " 'accuracy': [0.7631818056106567,\n",
       "  0.8436181545257568,\n",
       "  0.8596000075340271,\n",
       "  0.8677636384963989,\n",
       "  0.8774726986885071,\n",
       "  0.8808363676071167,\n",
       "  0.8856727480888367,\n",
       "  0.890890896320343,\n",
       "  0.8924727439880371,\n",
       "  0.8960909247398376],\n",
       " 'val_loss': [0.6152207255363464,\n",
       "  0.6271664500236511,\n",
       "  0.5384207963943481,\n",
       "  0.5295476317405701,\n",
       "  0.5695902109146118,\n",
       "  0.5187016129493713,\n",
       "  0.49837446212768555,\n",
       "  0.5672163963317871,\n",
       "  0.517545223236084,\n",
       "  0.5033468008041382],\n",
       " 'val_accuracy': [0.8442000150680542,\n",
       "  0.8532000184059143,\n",
       "  0.8718000054359436,\n",
       "  0.871399998664856,\n",
       "  0.8733999729156494,\n",
       "  0.8754000067710876,\n",
       "  0.8766000270843506,\n",
       "  0.8802000284194946,\n",
       "  0.8859999775886536,\n",
       "  0.8835999965667725]}"
      ]
     },
     "execution_count": 10,
     "metadata": {},
     "output_type": "execute_result"
    }
   ],
   "source": [
    "history.history"
   ]
  },
  {
   "cell_type": "markdown",
   "metadata": {},
   "source": [
    "### 五、查看模型效果"
   ]
  },
  {
   "cell_type": "code",
   "execution_count": 11,
   "metadata": {},
   "outputs": [
    {
     "data": {
      "image/png": "[encoded data removed]",
      "text/plain": [
       "<Figure size 576x360 with 1 Axes>"
      ]
     },
     "metadata": {
      "needs_background": "light"
     },
     "output_type": "display_data"
    }
   ],
   "source": [
    "#绘图，也可以不绘图，直接用tensorboard打开查看结果\n",
    "def plot_learning_curves(history):\n",
    "    pd.DataFrame(history.history).plot(figsize=(8,5))\n",
    "    plt.grid(True)\n",
    "    plt.gca().set_ylim(0,3)\n",
    "    plt.show()\n",
    "plot_learning_curves(history)\n",
    "#可以看出损失函数在不断的下降，准确率在不断的提升"
   ]
  },
  {
   "cell_type": "code",
   "execution_count": 12,
   "metadata": {},
   "outputs": [
    {
     "name": "stdout",
     "output_type": "stream",
     "text": [
      "313/313 [==============================] - 1s 2ms/step - loss: 0.5932 - accuracy: 0.8705\n"
     ]
    },
    {
     "data": {
      "text/plain": [
       "[0.5931863188743591, 0.8705000281333923]"
      ]
     },
     "execution_count": 12,
     "metadata": {},
     "output_type": "execute_result"
    }
   ],
   "source": [
    "#可以在测试集上进一步评估模型结果\n",
    "model.evaluate(x_test_scaled,y_test)\n",
    "#可以看到结果中测试集上loss是0.44,准确率是0.84"
   ]
  },
  {
   "cell_type": "markdown",
   "metadata": {},
   "source": [
    "### 五、读取callback的结果"
   ]
  },
  {
   "cell_type": "code",
   "execution_count": 13,
   "metadata": {},
   "outputs": [],
   "source": [
    "#1--打开anaconda的powershell\n",
    "#2--cd到项目文件夹中去\n",
    "#3--输入命令：tensorboard --logdir=callbacks #注意callbacks是文件名，是自己之前回调函数中创建的"
   ]
  },
  {
   "cell_type": "markdown",
   "metadata": {},
   "source": []
  },
  {
   "cell_type": "markdown",
   "metadata": {},
   "source": [
    "### **六、梯度消失**"
   ]
  },
  {
   "cell_type": "code",
   "execution_count": 14,
   "metadata": {},
   "outputs": [],
   "source": [
    "#梯度消失的原因\n",
    "#1--出现在深度神经网络中\n",
    "#2--参数众多，训练不充分\n",
    "#3--梯度消失-->链式法则-->复合函数（类似f(q(x))）"
   ]
  }
 ],
 "metadata": {
  "kernelspec": {
   "display_name": "Python 3.8.3 64-bit ('base': conda)",
   "language": "python",
   "name": "python38364bitbasecondad9bd0a7157c84fa7bace955ad09d0846"
  },
  "language_info": {
   "codemirror_mode": {
    "name": "ipython",
    "version": 3
   },
   "file_extension": ".py",
   "mimetype": "text/x-python",
   "name": "python",
   "nbconvert_exporter": "python",
   "pygments_lexer": "ipython3",
   "version": "3.8.3"
  }
 },
 "nbformat": 4,
 "nbformat_minor": 4
}
