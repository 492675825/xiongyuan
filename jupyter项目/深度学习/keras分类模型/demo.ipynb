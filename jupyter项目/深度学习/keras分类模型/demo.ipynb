{
 "cells": [
  {
   "cell_type": "code",
   "execution_count": 1,
   "metadata": {},
   "outputs": [],
   "source": [
    "import pandas as pd\n",
    "import numpy as np \n",
    "import time\n",
    "import tensorflow as tf\n",
    "from tensorflow import keras\n",
    "import matplotlib.pyplot as plt\n",
    "import warnings\n",
    "warnings.filterwarnings('ignore')"
   ]
  },
  {
   "cell_type": "code",
   "execution_count": 2,
   "metadata": {},
   "outputs": [],
   "source": [
    "pd.set_option('display.max_columns',100)\n",
    "pd.set_option('expand_frame_repr',False)"
   ]
  },
  {
   "cell_type": "code",
   "execution_count": 3,
   "metadata": {},
   "outputs": [],
   "source": [
    "from sklearn.datasets import fetch_california_housing\n",
    "housing=fetch_california_housing()"
   ]
  },
  {
   "cell_type": "code",
   "execution_count": 4,
   "metadata": {},
   "outputs": [],
   "source": [
    "from sklearn.model_selection import train_test_split\n",
    "x_train_all,x_test,y_train_all,y_test=train_test_split(\n",
    "    housing.data,housing.target,random_state=7)\n",
    "x_train,x_valid,y_train,y_valid=train_test_split(\n",
    "    x_train_all,y_train_all,random_state=7)"
   ]
  },
  {
   "cell_type": "code",
   "execution_count": 5,
   "metadata": {},
   "outputs": [],
   "source": [
    "from sklearn.preprocessing import StandardScaler\n",
    "scaler=StandardScaler()\n",
    "x_train_scaler=scaler.fit_transform(x_train)\n",
    "x_valid_scaler=scaler.transform(x_valid)\n",
    "x_test_scaler=scaler.transform(x_test)"
   ]
  },
  {
   "cell_type": "markdown",
   "metadata": {
    "pycharm": {
     "name": "#%% md\n"
    }
   },
   "source": [
    "## 构建模型"
   ]
  },
  {
   "cell_type": "code",
   "execution_count": 6,
   "metadata": {},
   "outputs": [],
   "source": [
    "model=keras.models.Sequential()\n",
    "model.add(keras.layers.Dense(\n",
    "    30,activation='relu',input_shape=x_train.shape[1:8]))\n",
    "for _ in range(20):\n",
    "    model.add(keras.layers.Dense(30,activation='relu'))\n",
    "    model.add(keras.layers.BatchNormalization())\n",
    "model.add(keras.layers.Dense(1))\n",
    "\n",
    "model.compile(\n",
    "    loss='mean_squared_error',\n",
    "    optimizer='sgd',\n",
    "    metrics=['accuracy'])"
   ]
  },
  {
   "cell_type": "code",
   "execution_count": 7,
   "metadata": {},
   "outputs": [],
   "source": [
    "logdir='./regressor_callbacks'\n",
    "import os\n",
    "if not os.path.exists(logdir):\n",
    "    os.mkdir(logdir)\n",
    "output_model_file=os.path.join(logdir,'fashion_mnist_model.h5')\n",
    "\n",
    "callbacks=[\n",
    "    keras.callbacks.TensorBoard(logdir),\n",
    "    keras.callbacks.ModelCheckpoint(output_model_file,save_best_only=True),\n",
    "    keras.callbacks.EarlyStopping(patience=5,min_delta=1e-3)\n",
    "]"
   ]
  },
  {
   "cell_type": "code",
   "execution_count": 8,
   "metadata": {},
   "outputs": [
    {
     "name": "stdout",
     "output_type": "stream",
     "text": [
      "Epoch 1/100\n",
      "  1/363 [..............................] - ETA: 0s - loss: 7.5104 - accuracy: 0.0000e+00WARNING:tensorflow:From C:\\Users\\xiongyuan\\anaconda3\\lib\\site-packages\\tensorflow\\python\\ops\\summary_ops_v2.py:1277: stop (from tensorflow.python.eager.profiler) is deprecated and will be removed after 2020-07-01.\n",
      "Instructions for updating:\n",
      "use `tf.profiler.experimental.stop` instead.\n",
      "  2/363 [..............................] - ETA: 2:07 - loss: 6.9045 - accuracy: 0.0000e+00WARNING:tensorflow:Callbacks method `on_train_batch_begin` is slow compared to the batch time (batch time: 0.0060s vs `on_train_batch_begin` time: 0.0120s). Check your callbacks.\n",
      "WARNING:tensorflow:Callbacks method `on_train_batch_end` is slow compared to the batch time (batch time: 0.0060s vs `on_train_batch_end` time: 0.6868s). Check your callbacks.\n",
      "363/363 [==============================] - 4s 11ms/step - loss: 1.2406 - accuracy: 0.0025 - val_loss: 0.8051 - val_accuracy: 0.0036\n",
      "Epoch 2/100\n",
      "363/363 [==============================] - 3s 7ms/step - loss: 0.8171 - accuracy: 0.0027 - val_loss: 0.7284 - val_accuracy: 0.0036\n",
      "Epoch 3/100\n",
      "363/363 [==============================] - 3s 7ms/step - loss: 0.7492 - accuracy: 0.0027 - val_loss: 0.6862 - val_accuracy: 0.0036\n",
      "Epoch 4/100\n",
      "363/363 [==============================] - 3s 7ms/step - loss: 0.7098 - accuracy: 0.0027 - val_loss: 0.6045 - val_accuracy: 0.0036\n",
      "Epoch 5/100\n",
      "363/363 [==============================] - 2s 6ms/step - loss: 0.6605 - accuracy: 0.0027 - val_loss: 0.6093 - val_accuracy: 0.0036\n",
      "Epoch 6/100\n",
      "363/363 [==============================] - 3s 7ms/step - loss: 0.6415 - accuracy: 0.0027 - val_loss: 0.5737 - val_accuracy: 0.0036\n",
      "Epoch 7/100\n",
      "363/363 [==============================] - 2s 7ms/step - loss: 0.6223 - accuracy: 0.0027 - val_loss: 0.5463 - val_accuracy: 0.0036\n",
      "Epoch 8/100\n",
      "363/363 [==============================] - 3s 7ms/step - loss: 0.6066 - accuracy: 0.0027 - val_loss: 0.5861 - val_accuracy: 0.0036\n",
      "Epoch 9/100\n",
      "363/363 [==============================] - 3s 8ms/step - loss: 0.5924 - accuracy: 0.0027 - val_loss: 0.5308 - val_accuracy: 0.0036\n",
      "Epoch 10/100\n",
      "363/363 [==============================] - 2s 6ms/step - loss: 0.5779 - accuracy: 0.0027 - val_loss: 0.5065 - val_accuracy: 0.0036\n",
      "Epoch 11/100\n",
      "363/363 [==============================] - 3s 8ms/step - loss: 0.5630 - accuracy: 0.0027 - val_loss: 0.5024 - val_accuracy: 0.0036\n",
      "Epoch 12/100\n",
      "363/363 [==============================] - 3s 7ms/step - loss: 0.5559 - accuracy: 0.0027 - val_loss: 0.5023 - val_accuracy: 0.0036\n",
      "Epoch 13/100\n",
      "363/363 [==============================] - 2s 7ms/step - loss: 0.5536 - accuracy: 0.0027 - val_loss: 0.4653 - val_accuracy: 0.0036\n",
      "Epoch 14/100\n",
      "363/363 [==============================] - 2s 6ms/step - loss: 0.5319 - accuracy: 0.0027 - val_loss: 0.4725 - val_accuracy: 0.0036\n",
      "Epoch 15/100\n",
      "363/363 [==============================] - 2s 7ms/step - loss: 0.5086 - accuracy: 0.0027 - val_loss: 0.4857 - val_accuracy: 0.0036\n",
      "Epoch 16/100\n",
      "363/363 [==============================] - 2s 6ms/step - loss: 0.4998 - accuracy: 0.0027 - val_loss: 0.4830 - val_accuracy: 0.0036\n",
      "Epoch 17/100\n",
      "363/363 [==============================] - 2s 7ms/step - loss: 0.4871 - accuracy: 0.0027 - val_loss: 0.4163 - val_accuracy: 0.0036\n",
      "Epoch 18/100\n",
      "363/363 [==============================] - 3s 8ms/step - loss: 0.4844 - accuracy: 0.0027 - val_loss: 0.4102 - val_accuracy: 0.0036\n",
      "Epoch 19/100\n",
      "363/363 [==============================] - 3s 7ms/step - loss: 0.4638 - accuracy: 0.0027 - val_loss: 0.4187 - val_accuracy: 0.0036\n",
      "Epoch 20/100\n",
      "363/363 [==============================] - 3s 7ms/step - loss: 0.4496 - accuracy: 0.0027 - val_loss: 0.5129 - val_accuracy: 0.0036\n",
      "Epoch 21/100\n",
      "363/363 [==============================] - 2s 7ms/step - loss: 0.4620 - accuracy: 0.0027 - val_loss: 0.4273 - val_accuracy: 0.0036\n",
      "Epoch 22/100\n",
      "363/363 [==============================] - 2s 7ms/step - loss: 0.4470 - accuracy: 0.0027 - val_loss: 0.4052 - val_accuracy: 0.0036\n",
      "Epoch 23/100\n",
      "363/363 [==============================] - 2s 6ms/step - loss: 0.4461 - accuracy: 0.0027 - val_loss: 0.4521 - val_accuracy: 0.0036\n",
      "Epoch 24/100\n",
      "363/363 [==============================] - 2s 7ms/step - loss: 0.4394 - accuracy: 0.0027 - val_loss: 0.3640 - val_accuracy: 0.0036\n",
      "Epoch 25/100\n",
      "363/363 [==============================] - 2s 6ms/step - loss: 0.4306 - accuracy: 0.0027 - val_loss: 0.4047 - val_accuracy: 0.0036\n",
      "Epoch 26/100\n",
      "363/363 [==============================] - 3s 8ms/step - loss: 0.4291 - accuracy: 0.0027 - val_loss: 0.3580 - val_accuracy: 0.0036\n",
      "Epoch 27/100\n",
      "363/363 [==============================] - 2s 7ms/step - loss: 0.4258 - accuracy: 0.0027 - val_loss: 0.3772 - val_accuracy: 0.0036\n",
      "Epoch 28/100\n",
      "363/363 [==============================] - 3s 8ms/step - loss: 0.4192 - accuracy: 0.0027 - val_loss: 0.3430 - val_accuracy: 0.0036\n",
      "Epoch 29/100\n",
      "363/363 [==============================] - 2s 6ms/step - loss: 0.4172 - accuracy: 0.0027 - val_loss: 0.3442 - val_accuracy: 0.0036\n",
      "Epoch 30/100\n",
      "363/363 [==============================] - 2s 6ms/step - loss: 0.4140 - accuracy: 0.0027 - val_loss: 0.3542 - val_accuracy: 0.0036\n",
      "Epoch 31/100\n",
      "363/363 [==============================] - 3s 7ms/step - loss: 0.4166 - accuracy: 0.0027 - val_loss: 0.3993 - val_accuracy: 0.0036\n",
      "Epoch 32/100\n",
      "363/363 [==============================] - 2s 6ms/step - loss: 0.4114 - accuracy: 0.0027 - val_loss: 0.3484 - val_accuracy: 0.0036\n",
      "Epoch 33/100\n",
      "363/363 [==============================] - 2s 6ms/step - loss: 0.4050 - accuracy: 0.0027 - val_loss: 0.3602 - val_accuracy: 0.0036\n"
     ]
    }
   ],
   "source": [
    "history=model.fit(\n",
    "    x_train_scaler,\n",
    "    y_train,\n",
    "    validation_data=(x_valid_scaler,y_valid),\n",
    "    epochs=100,\n",
    "    callbacks=callbacks)"
   ]
  }
 ],
 "metadata": {
  "kernelspec": {
   "display_name": "Python 3.8.3 64-bit ('base': conda)",
   "language": "python",
   "name": "python38364bitbasecondad9bd0a7157c84fa7bace955ad09d0846"
  },
  "language_info": {
   "codemirror_mode": {
    "name": "ipython",
    "version": 3
   },
   "file_extension": ".py",
   "mimetype": "text/x-python",
   "name": "python",
   "nbconvert_exporter": "python",
   "pygments_lexer": "ipython3",
   "version": "3.8.3"
  }
 },
 "nbformat": 4,
 "nbformat_minor": 4
}