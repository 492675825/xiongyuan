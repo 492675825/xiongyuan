{
 "cells": [
  {
   "cell_type": "code",
   "execution_count": 1,
   "metadata": {},
   "outputs": [],
   "source": [
    "import pandas as pd\n",
    "import numpy as np \n",
    "import time \n",
    "import tensorflow as tf\n",
    "from tensorflow import keras\n",
    "import matplotlib.pyplot as plt"
   ]
  },
  {
   "cell_type": "code",
   "execution_count": 2,
   "metadata": {},
   "outputs": [
    {
     "name": "stdout",
     "output_type": "stream",
     "text": [
      "2.3.1\n"
     ]
    }
   ],
   "source": [
    "print(tf.__version__)"
   ]
  },
  {
   "cell_type": "code",
   "execution_count": 3,
   "metadata": {},
   "outputs": [],
   "source": [
    "fashion_mnist=keras.datasets.fashion_mnist\n",
    "(x_train_all,y_train_all),(x_test,y_test)=fashion_mnist.load_data()\n",
    "x_valid,x_train=x_train_all[:5000],x_train_all[5000:]\n",
    "y_valid,y_train=y_train_all[:5000],y_train_all[5000:]"
   ]
  },
  {
   "cell_type": "code",
   "execution_count": 4,
   "metadata": {},
   "outputs": [],
   "source": [
    "from sklearn.preprocessing import StandardScaler\n",
    "scaler=StandardScaler()\n",
    "x_train_scaled=scaler.fit_transform(x_train.astype(np.float32).reshape(-1,1)).reshape(-1,28,28)\n",
    "x_valid_scaled=scaler.transform(x_valid.astype(np.float32).reshape(-1,1)).reshape(-1,28,28)\n",
    "x_test_scaled=scaler.transform(x_test.astype(np.float32).reshape(-1,1)).reshape(-1,28,28)"
   ]
  },
  {
   "cell_type": "code",
   "execution_count": 5,
   "metadata": {},
   "outputs": [
    {
     "name": "stdout",
     "output_type": "stream",
     "text": [
      "(5000, 28, 28) (5000,)\n"
     ]
    }
   ],
   "source": [
    "print(x_valid.shape,y_valid.shape)"
   ]
  },
  {
   "cell_type": "code",
   "execution_count": 6,
   "metadata": {},
   "outputs": [],
   "source": [
    "#模型创建\n",
    "model=keras.models.Sequential()\n",
    "#layers.Flatten（）表示吧数据压成一维数组（向量），一般用在卷积层到全连接层的过渡\n",
    "model.add(keras.layers.Flatten(input_shape=[28,28]))\n",
    "model.add(keras.layers.Dense(300,activation='relu'))\n",
    "model.add(keras.layers.Dense(100,activation='softmax'))\n",
    "#定义激活函数\n",
    "model.compile(loss='sparse_categorical_crossentropy',optimizer=keras.optimizers.SGD(0.001),metrics=['accuracy'])"
   ]
  },
  {
   "cell_type": "code",
   "execution_count": 7,
   "metadata": {},
   "outputs": [
    {
     "data": {
      "text/plain": [
       "[<tensorflow.python.keras.layers.core.Flatten at 0x1c4c04645b0>,\n",
       " <tensorflow.python.keras.layers.core.Dense at 0x1c4c745ec70>,\n",
       " <tensorflow.python.keras.layers.core.Dense at 0x1c4c7473cd0>]"
      ]
     },
     "execution_count": 7,
     "metadata": {},
     "output_type": "execute_result"
    }
   ],
   "source": [
    "model.layers"
   ]
  },
  {
   "cell_type": "code",
   "execution_count": 8,
   "metadata": {},
   "outputs": [
    {
     "name": "stdout",
     "output_type": "stream",
     "text": [
      "Model: \"sequential\"\n",
      "_________________________________________________________________\n",
      "Layer (type)                 Output Shape              Param #   \n",
      "=================================================================\n",
      "flatten (Flatten)            (None, 784)               0         \n",
      "_________________________________________________________________\n",
      "dense (Dense)                (None, 300)               235500    \n",
      "_________________________________________________________________\n",
      "dense_1 (Dense)              (None, 100)               30100     \n",
      "=================================================================\n",
      "Total params: 265,600\n",
      "Trainable params: 265,600\n",
      "Non-trainable params: 0\n",
      "_________________________________________________________________\n"
     ]
    }
   ],
   "source": [
    "model.summary()"
   ]
  },
  {
   "cell_type": "code",
   "execution_count": 9,
   "metadata": {},
   "outputs": [
    {
     "name": "stdout",
     "output_type": "stream",
     "text": [
      "Epoch 1/100\n",
      "1719/1719 [==============================] - 4s 3ms/step - loss: 1.0678 - accuracy: 0.6910 - val_loss: 0.6366 - val_accuracy: 0.7924\n",
      "Epoch 2/100\n",
      "1719/1719 [==============================] - 5s 3ms/step - loss: 0.5975 - accuracy: 0.7959 - val_loss: 0.5403 - val_accuracy: 0.8194\n",
      "Epoch 3/100\n",
      "1719/1719 [==============================] - 5s 3ms/step - loss: 0.5310 - accuracy: 0.8161 - val_loss: 0.4973 - val_accuracy: 0.8344\n",
      "Epoch 4/100\n",
      "1719/1719 [==============================] - 7s 4ms/step - loss: 0.4956 - accuracy: 0.8282 - val_loss: 0.4719 - val_accuracy: 0.8430\n",
      "Epoch 5/100\n",
      "1719/1719 [==============================] - 6s 3ms/step - loss: 0.4727 - accuracy: 0.8347 - val_loss: 0.4548 - val_accuracy: 0.8454\n",
      "Epoch 6/100\n",
      "1719/1719 [==============================] - 5s 3ms/step - loss: 0.4559 - accuracy: 0.8410 - val_loss: 0.4451 - val_accuracy: 0.8516\n",
      "Epoch 7/100\n",
      "1719/1719 [==============================] - 4s 2ms/step - loss: 0.4421 - accuracy: 0.8447 - val_loss: 0.4323 - val_accuracy: 0.8546\n",
      "Epoch 8/100\n",
      "1719/1719 [==============================] - 4s 2ms/step - loss: 0.4307 - accuracy: 0.8494 - val_loss: 0.4209 - val_accuracy: 0.8540\n",
      "Epoch 9/100\n",
      "1719/1719 [==============================] - 4s 2ms/step - loss: 0.4213 - accuracy: 0.8516 - val_loss: 0.4140 - val_accuracy: 0.8594\n",
      "Epoch 10/100\n",
      "1719/1719 [==============================] - 4s 2ms/step - loss: 0.4131 - accuracy: 0.8547 - val_loss: 0.4100 - val_accuracy: 0.8600\n",
      "Epoch 11/100\n",
      "1719/1719 [==============================] - 4s 2ms/step - loss: 0.4059 - accuracy: 0.8574 - val_loss: 0.4036 - val_accuracy: 0.8636\n",
      "Epoch 12/100\n",
      "1719/1719 [==============================] - 4s 2ms/step - loss: 0.3993 - accuracy: 0.8589 - val_loss: 0.3976 - val_accuracy: 0.8646\n",
      "Epoch 13/100\n",
      "1719/1719 [==============================] - 4s 2ms/step - loss: 0.3935 - accuracy: 0.8617 - val_loss: 0.3970 - val_accuracy: 0.8650\n",
      "Epoch 14/100\n",
      "1719/1719 [==============================] - 4s 2ms/step - loss: 0.3881 - accuracy: 0.8636 - val_loss: 0.3908 - val_accuracy: 0.8630\n",
      "Epoch 15/100\n",
      "1719/1719 [==============================] - 4s 2ms/step - loss: 0.3833 - accuracy: 0.8651 - val_loss: 0.3898 - val_accuracy: 0.8654\n",
      "Epoch 16/100\n",
      "1719/1719 [==============================] - 4s 2ms/step - loss: 0.3790 - accuracy: 0.8671 - val_loss: 0.3830 - val_accuracy: 0.8666\n",
      "Epoch 17/100\n",
      "1719/1719 [==============================] - 4s 2ms/step - loss: 0.3744 - accuracy: 0.8684 - val_loss: 0.3812 - val_accuracy: 0.8686\n",
      "Epoch 18/100\n",
      "1719/1719 [==============================] - 4s 2ms/step - loss: 0.3707 - accuracy: 0.8689 - val_loss: 0.3796 - val_accuracy: 0.8694\n",
      "Epoch 19/100\n",
      "1719/1719 [==============================] - 4s 2ms/step - loss: 0.3670 - accuracy: 0.8711 - val_loss: 0.3774 - val_accuracy: 0.8666\n",
      "Epoch 20/100\n",
      "1719/1719 [==============================] - 4s 2ms/step - loss: 0.3635 - accuracy: 0.8727 - val_loss: 0.3732 - val_accuracy: 0.8674\n",
      "Epoch 21/100\n",
      "1719/1719 [==============================] - 4s 2ms/step - loss: 0.3600 - accuracy: 0.8741 - val_loss: 0.3707 - val_accuracy: 0.8696\n",
      "Epoch 22/100\n",
      "1719/1719 [==============================] - 4s 2ms/step - loss: 0.3571 - accuracy: 0.8745 - val_loss: 0.3691 - val_accuracy: 0.8692\n",
      "Epoch 23/100\n",
      "1719/1719 [==============================] - 4s 2ms/step - loss: 0.3539 - accuracy: 0.8754 - val_loss: 0.3659 - val_accuracy: 0.8708\n",
      "Epoch 24/100\n",
      "1719/1719 [==============================] - 4s 2ms/step - loss: 0.3510 - accuracy: 0.8769 - val_loss: 0.3648 - val_accuracy: 0.8732\n",
      "Epoch 25/100\n",
      "1719/1719 [==============================] - 4s 2ms/step - loss: 0.3482 - accuracy: 0.8779 - val_loss: 0.3620 - val_accuracy: 0.8720\n",
      "Epoch 26/100\n",
      "1719/1719 [==============================] - 4s 2ms/step - loss: 0.3453 - accuracy: 0.8789 - val_loss: 0.3622 - val_accuracy: 0.8746\n",
      "Epoch 27/100\n",
      "1719/1719 [==============================] - 4s 2ms/step - loss: 0.3431 - accuracy: 0.8791 - val_loss: 0.3584 - val_accuracy: 0.8754\n",
      "Epoch 28/100\n",
      "1719/1719 [==============================] - 4s 2ms/step - loss: 0.3406 - accuracy: 0.8808 - val_loss: 0.3554 - val_accuracy: 0.8730\n",
      "Epoch 29/100\n",
      "1719/1719 [==============================] - 4s 2ms/step - loss: 0.3378 - accuracy: 0.8813 - val_loss: 0.3565 - val_accuracy: 0.8768\n",
      "Epoch 30/100\n",
      "1719/1719 [==============================] - 4s 2ms/step - loss: 0.3356 - accuracy: 0.8817 - val_loss: 0.3554 - val_accuracy: 0.8732\n",
      "Epoch 31/100\n",
      "1719/1719 [==============================] - 4s 2ms/step - loss: 0.3334 - accuracy: 0.8829 - val_loss: 0.3522 - val_accuracy: 0.8762\n",
      "Epoch 32/100\n",
      "1719/1719 [==============================] - 4s 2ms/step - loss: 0.3311 - accuracy: 0.8834 - val_loss: 0.3516 - val_accuracy: 0.8776\n",
      "Epoch 33/100\n",
      "1719/1719 [==============================] - 4s 2ms/step - loss: 0.3293 - accuracy: 0.8847 - val_loss: 0.3499 - val_accuracy: 0.8764\n",
      "Epoch 34/100\n",
      "1719/1719 [==============================] - 4s 2ms/step - loss: 0.3273 - accuracy: 0.8848 - val_loss: 0.3498 - val_accuracy: 0.8754\n",
      "Epoch 35/100\n",
      "1719/1719 [==============================] - 4s 2ms/step - loss: 0.3253 - accuracy: 0.8853 - val_loss: 0.3482 - val_accuracy: 0.8778\n",
      "Epoch 36/100\n",
      "1719/1719 [==============================] - 4s 2ms/step - loss: 0.3232 - accuracy: 0.8868 - val_loss: 0.3452 - val_accuracy: 0.8782\n",
      "Epoch 37/100\n",
      "1719/1719 [==============================] - 4s 2ms/step - loss: 0.3212 - accuracy: 0.8863 - val_loss: 0.3440 - val_accuracy: 0.8784\n",
      "Epoch 38/100\n",
      "1719/1719 [==============================] - 4s 2ms/step - loss: 0.3196 - accuracy: 0.8872 - val_loss: 0.3450 - val_accuracy: 0.8804\n",
      "Epoch 39/100\n",
      "1719/1719 [==============================] - 4s 2ms/step - loss: 0.3177 - accuracy: 0.8878 - val_loss: 0.3415 - val_accuracy: 0.8802\n",
      "Epoch 40/100\n",
      "1719/1719 [==============================] - 4s 2ms/step - loss: 0.3159 - accuracy: 0.8888 - val_loss: 0.3406 - val_accuracy: 0.8800\n",
      "Epoch 41/100\n",
      "1719/1719 [==============================] - 4s 2ms/step - loss: 0.3142 - accuracy: 0.8888 - val_loss: 0.3398 - val_accuracy: 0.8780\n",
      "Epoch 42/100\n",
      "1719/1719 [==============================] - 5s 3ms/step - loss: 0.3124 - accuracy: 0.8897 - val_loss: 0.3386 - val_accuracy: 0.8808\n",
      "Epoch 43/100\n",
      "1719/1719 [==============================] - 6s 3ms/step - loss: 0.3108 - accuracy: 0.8904 - val_loss: 0.3382 - val_accuracy: 0.8814\n",
      "Epoch 44/100\n",
      "1719/1719 [==============================] - 6s 3ms/step - loss: 0.3092 - accuracy: 0.8914 - val_loss: 0.3376 - val_accuracy: 0.8806\n",
      "Epoch 45/100\n",
      "1719/1719 [==============================] - 5s 3ms/step - loss: 0.3075 - accuracy: 0.8914 - val_loss: 0.3374 - val_accuracy: 0.8828\n",
      "Epoch 46/100\n",
      "1719/1719 [==============================] - 5s 3ms/step - loss: 0.3060 - accuracy: 0.8931 - val_loss: 0.3377 - val_accuracy: 0.8804\n",
      "Epoch 47/100\n",
      "1719/1719 [==============================] - 4s 3ms/step - loss: 0.3045 - accuracy: 0.8923 - val_loss: 0.3366 - val_accuracy: 0.8802\n",
      "Epoch 48/100\n",
      "1719/1719 [==============================] - 5s 3ms/step - loss: 0.3030 - accuracy: 0.8931 - val_loss: 0.3364 - val_accuracy: 0.8820\n",
      "Epoch 49/100\n",
      "1719/1719 [==============================] - 5s 3ms/step - loss: 0.3013 - accuracy: 0.8931 - val_loss: 0.3333 - val_accuracy: 0.8812\n",
      "Epoch 50/100\n",
      "1719/1719 [==============================] - 5s 3ms/step - loss: 0.2999 - accuracy: 0.8937 - val_loss: 0.3332 - val_accuracy: 0.8820\n",
      "Epoch 51/100\n",
      "1719/1719 [==============================] - 4s 2ms/step - loss: 0.2983 - accuracy: 0.8943 - val_loss: 0.3332 - val_accuracy: 0.8846\n",
      "Epoch 52/100\n",
      "1719/1719 [==============================] - 5s 3ms/step - loss: 0.2970 - accuracy: 0.8953 - val_loss: 0.3310 - val_accuracy: 0.8822\n",
      "Epoch 53/100\n",
      "1719/1719 [==============================] - 4s 3ms/step - loss: 0.2954 - accuracy: 0.8956 - val_loss: 0.3302 - val_accuracy: 0.8818\n",
      "Epoch 54/100\n",
      "1719/1719 [==============================] - 4s 2ms/step - loss: 0.2941 - accuracy: 0.8969 - val_loss: 0.3302 - val_accuracy: 0.8830\n",
      "Epoch 55/100\n",
      "1719/1719 [==============================] - 4s 2ms/step - loss: 0.2927 - accuracy: 0.8964 - val_loss: 0.3303 - val_accuracy: 0.8836\n",
      "Epoch 56/100\n",
      "1719/1719 [==============================] - 4s 2ms/step - loss: 0.2913 - accuracy: 0.8972 - val_loss: 0.3291 - val_accuracy: 0.8832\n",
      "Epoch 57/100\n",
      "1719/1719 [==============================] - 4s 2ms/step - loss: 0.2899 - accuracy: 0.8977 - val_loss: 0.3298 - val_accuracy: 0.8852\n",
      "Epoch 58/100\n",
      "1719/1719 [==============================] - 4s 2ms/step - loss: 0.2888 - accuracy: 0.8979 - val_loss: 0.3271 - val_accuracy: 0.8808\n",
      "Epoch 59/100\n",
      "1719/1719 [==============================] - 4s 2ms/step - loss: 0.2874 - accuracy: 0.8989 - val_loss: 0.3245 - val_accuracy: 0.8840\n",
      "Epoch 60/100\n",
      "1719/1719 [==============================] - 4s 2ms/step - loss: 0.2861 - accuracy: 0.8995 - val_loss: 0.3256 - val_accuracy: 0.8834\n",
      "Epoch 61/100\n",
      "1719/1719 [==============================] - 4s 2ms/step - loss: 0.2847 - accuracy: 0.8993 - val_loss: 0.3277 - val_accuracy: 0.8850\n",
      "Epoch 62/100\n",
      "1719/1719 [==============================] - 5s 3ms/step - loss: 0.2834 - accuracy: 0.9003 - val_loss: 0.3246 - val_accuracy: 0.8840\n",
      "Epoch 63/100\n",
      "1719/1719 [==============================] - 5s 3ms/step - loss: 0.2826 - accuracy: 0.9010 - val_loss: 0.3236 - val_accuracy: 0.8850\n",
      "Epoch 64/100\n",
      "1719/1719 [==============================] - 5s 3ms/step - loss: 0.2811 - accuracy: 0.9016 - val_loss: 0.3221 - val_accuracy: 0.8840\n",
      "Epoch 65/100\n",
      "1719/1719 [==============================] - 5s 3ms/step - loss: 0.2798 - accuracy: 0.9017 - val_loss: 0.3223 - val_accuracy: 0.8814\n",
      "Epoch 66/100\n",
      "1719/1719 [==============================] - 5s 3ms/step - loss: 0.2785 - accuracy: 0.9019 - val_loss: 0.3241 - val_accuracy: 0.8872\n",
      "Epoch 67/100\n",
      "1719/1719 [==============================] - 5s 3ms/step - loss: 0.2774 - accuracy: 0.9029 - val_loss: 0.3238 - val_accuracy: 0.8880\n",
      "Epoch 68/100\n",
      "1719/1719 [==============================] - 5s 3ms/step - loss: 0.2761 - accuracy: 0.9032 - val_loss: 0.3202 - val_accuracy: 0.8844\n",
      "Epoch 69/100\n",
      "1719/1719 [==============================] - 5s 3ms/step - loss: 0.2750 - accuracy: 0.9037 - val_loss: 0.3214 - val_accuracy: 0.8864\n",
      "Epoch 70/100\n",
      "1719/1719 [==============================] - 5s 3ms/step - loss: 0.2738 - accuracy: 0.9033 - val_loss: 0.3207 - val_accuracy: 0.8864\n",
      "Epoch 71/100\n",
      "1719/1719 [==============================] - 4s 2ms/step - loss: 0.2727 - accuracy: 0.9039 - val_loss: 0.3186 - val_accuracy: 0.8858\n",
      "Epoch 72/100\n",
      "1719/1719 [==============================] - 4s 2ms/step - loss: 0.2715 - accuracy: 0.9043 - val_loss: 0.3214 - val_accuracy: 0.8886\n",
      "Epoch 73/100\n",
      "1719/1719 [==============================] - 4s 3ms/step - loss: 0.2706 - accuracy: 0.9047 - val_loss: 0.3209 - val_accuracy: 0.8866\n",
      "Epoch 74/100\n",
      "1719/1719 [==============================] - 4s 2ms/step - loss: 0.2694 - accuracy: 0.9057 - val_loss: 0.3182 - val_accuracy: 0.8866\n",
      "Epoch 75/100\n",
      "1719/1719 [==============================] - 4s 2ms/step - loss: 0.2685 - accuracy: 0.9055 - val_loss: 0.3171 - val_accuracy: 0.8874\n",
      "Epoch 76/100\n",
      "1719/1719 [==============================] - 4s 2ms/step - loss: 0.2672 - accuracy: 0.9065 - val_loss: 0.3156 - val_accuracy: 0.8868\n",
      "Epoch 77/100\n",
      "1719/1719 [==============================] - 5s 3ms/step - loss: 0.2666 - accuracy: 0.9057 - val_loss: 0.3155 - val_accuracy: 0.8872\n",
      "Epoch 78/100\n",
      "1719/1719 [==============================] - 5s 3ms/step - loss: 0.2652 - accuracy: 0.9063 - val_loss: 0.3146 - val_accuracy: 0.8846\n",
      "Epoch 79/100\n",
      "1719/1719 [==============================] - 4s 2ms/step - loss: 0.2643 - accuracy: 0.9076 - val_loss: 0.3139 - val_accuracy: 0.8886\n",
      "Epoch 80/100\n",
      "1719/1719 [==============================] - 4s 2ms/step - loss: 0.2632 - accuracy: 0.9078 - val_loss: 0.3149 - val_accuracy: 0.8888\n",
      "Epoch 81/100\n",
      "1719/1719 [==============================] - 4s 2ms/step - loss: 0.2620 - accuracy: 0.9084 - val_loss: 0.3146 - val_accuracy: 0.8888\n",
      "Epoch 82/100\n",
      "1719/1719 [==============================] - 4s 2ms/step - loss: 0.2610 - accuracy: 0.9088 - val_loss: 0.3142 - val_accuracy: 0.8872\n",
      "Epoch 83/100\n",
      "1719/1719 [==============================] - 4s 2ms/step - loss: 0.2602 - accuracy: 0.9082 - val_loss: 0.3145 - val_accuracy: 0.8882\n",
      "Epoch 84/100\n",
      "1719/1719 [==============================] - 4s 2ms/step - loss: 0.2591 - accuracy: 0.9096 - val_loss: 0.3127 - val_accuracy: 0.8896\n",
      "Epoch 85/100\n",
      "1719/1719 [==============================] - 4s 2ms/step - loss: 0.2581 - accuracy: 0.9099 - val_loss: 0.3134 - val_accuracy: 0.8870\n",
      "Epoch 86/100\n",
      "1719/1719 [==============================] - 4s 2ms/step - loss: 0.2569 - accuracy: 0.9103 - val_loss: 0.3114 - val_accuracy: 0.8880\n",
      "Epoch 87/100\n",
      "1719/1719 [==============================] - 4s 2ms/step - loss: 0.2561 - accuracy: 0.9104 - val_loss: 0.3109 - val_accuracy: 0.8896\n",
      "Epoch 88/100\n",
      "1719/1719 [==============================] - 4s 2ms/step - loss: 0.2553 - accuracy: 0.9111 - val_loss: 0.3124 - val_accuracy: 0.8912\n",
      "Epoch 89/100\n",
      "1719/1719 [==============================] - 4s 2ms/step - loss: 0.2541 - accuracy: 0.9117 - val_loss: 0.3113 - val_accuracy: 0.8910\n",
      "Epoch 90/100\n",
      "1719/1719 [==============================] - 4s 2ms/step - loss: 0.2531 - accuracy: 0.9116 - val_loss: 0.3109 - val_accuracy: 0.8872\n",
      "Epoch 91/100\n",
      "1719/1719 [==============================] - 4s 2ms/step - loss: 0.2523 - accuracy: 0.9118 - val_loss: 0.3116 - val_accuracy: 0.8888\n",
      "Epoch 92/100\n",
      "1719/1719 [==============================] - 4s 2ms/step - loss: 0.2512 - accuracy: 0.9132 - val_loss: 0.3116 - val_accuracy: 0.8892\n",
      "Epoch 93/100\n",
      "1719/1719 [==============================] - 4s 2ms/step - loss: 0.2504 - accuracy: 0.9129 - val_loss: 0.3085 - val_accuracy: 0.8912\n",
      "Epoch 94/100\n",
      "1719/1719 [==============================] - 4s 2ms/step - loss: 0.2495 - accuracy: 0.9132 - val_loss: 0.3111 - val_accuracy: 0.8904\n",
      "Epoch 95/100\n",
      "1719/1719 [==============================] - 4s 2ms/step - loss: 0.2484 - accuracy: 0.9137 - val_loss: 0.3128 - val_accuracy: 0.8868\n",
      "Epoch 96/100\n",
      "1719/1719 [==============================] - 4s 2ms/step - loss: 0.2477 - accuracy: 0.9142 - val_loss: 0.3128 - val_accuracy: 0.8918\n",
      "Epoch 97/100\n",
      "1719/1719 [==============================] - 4s 2ms/step - loss: 0.2465 - accuracy: 0.9144 - val_loss: 0.3119 - val_accuracy: 0.8918\n",
      "Epoch 98/100\n",
      "1719/1719 [==============================] - 4s 2ms/step - loss: 0.2458 - accuracy: 0.9143 - val_loss: 0.3082 - val_accuracy: 0.8920\n",
      "Epoch 99/100\n",
      "1719/1719 [==============================] - 4s 2ms/step - loss: 0.2449 - accuracy: 0.9154 - val_loss: 0.3087 - val_accuracy: 0.8894\n",
      "Epoch 100/100\n",
      "1719/1719 [==============================] - 4s 2ms/step - loss: 0.2440 - accuracy: 0.9155 - val_loss: 0.3067 - val_accuracy: 0.8910\n"
     ]
    }
   ],
   "source": [
    "history=model.fit(x_train_scaled,y_train,epochs=100,validation_data=(x_valid_scaled,y_valid))"
   ]
  },
  {
   "cell_type": "code",
   "execution_count": null,
   "metadata": {},
   "outputs": [],
   "source": []
  }
 ],
 "metadata": {
  "kernelspec": {
   "display_name": "Python 3.8.3 64-bit ('base': conda)",
   "language": "python",
   "name": "python38364bitbasecondad9bd0a7157c84fa7bace955ad09d0846"
  },
  "language_info": {
   "codemirror_mode": {
    "name": "ipython",
    "version": 3
   },
   "file_extension": ".py",
   "mimetype": "text/x-python",
   "name": "python",
   "nbconvert_exporter": "python",
   "pygments_lexer": "ipython3",
   "version": "3.8.3"
  }
 },
 "nbformat": 4,
 "nbformat_minor": 4
}