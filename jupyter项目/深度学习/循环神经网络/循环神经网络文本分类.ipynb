{
 "cells": [
  {
   "cell_type": "code",
   "execution_count": 2,
   "metadata": {},
   "outputs": [
    {
     "name": "stdout",
     "output_type": "stream",
     "text": [
      "2.3.1\n"
     ]
    }
   ],
   "source": [
    "import numpy as np \n",
    "import pandas as pd\n",
    "import os \n",
    "import sys\n",
    "import time\n",
    "import tensorflow as tf\n",
    "from tensorflow import keras\n",
    "import warnings\n",
    "warnings.filterwarnings('ignore')\n",
    "print(tf.__version__)"
   ]
  },
  {
   "cell_type": "markdown",
   "metadata": {},
   "source": [
    "## 一、引入数据集"
   ]
  },
  {
   "cell_type": "code",
   "execution_count": 3,
   "metadata": {},
   "outputs": [],
   "source": [
    "#引入keras里面的dataset，这是一个电影评分数据集\n",
    "imdb=keras.datasets.imdb\n",
    "vocab_size=10000\n",
    "index_from = 3\n",
    "(train_data, train_labels), (test_data, test_labels) = imdb.load_data( \n",
    "    num_words = vocab_size,index_from = index_from)"
   ]
  },
  {
   "cell_type": "code",
   "execution_count": 7,
   "metadata": {},
   "outputs": [
    {
     "data": {
      "text/plain": [
       "(25000,)"
      ]
     },
     "execution_count": 7,
     "metadata": {},
     "output_type": "execute_result"
    }
   ],
   "source": [
    "train_data.shape"
   ]
  },
  {
   "cell_type": "code",
   "execution_count": 8,
   "metadata": {},
   "outputs": [
    {
     "data": {
      "text/plain": [
       "(25000,)"
      ]
     },
     "execution_count": 8,
     "metadata": {},
     "output_type": "execute_result"
    }
   ],
   "source": [
    "train_labels.shape"
   ]
  },
  {
   "cell_type": "markdown",
   "metadata": {},
   "source": [
    "## 二、构造完整的句子"
   ]
  },
  {
   "cell_type": "code",
   "execution_count": 10,
   "metadata": {},
   "outputs": [
    {
     "name": "stdout",
     "output_type": "stream",
     "text": [
      "Downloading data from https://storage.googleapis.com/tensorflow/tf-keras-datasets/imdb_word_index.json\n",
      "1646592/1641221 [==============================] - 1s 1us/step\n"
     ]
    }
   ],
   "source": [
    "#映入词表\n",
    "word_index = imdb.get_word_index()"
   ]
  },
  {
   "cell_type": "code",
   "execution_count": 13,
   "metadata": {},
   "outputs": [
    {
     "data": {
      "text/plain": [
       "88584"
      ]
     },
     "execution_count": 13,
     "metadata": {},
     "output_type": "execute_result"
    }
   ],
   "source": [
    "len(word_index)"
   ]
  },
  {
   "cell_type": "code",
   "execution_count": 14,
   "metadata": {},
   "outputs": [],
   "source": [
    "#因为在设定了起始位置从3开始，因为word_index的索引总体都要往后偏移三个单位\n",
    "word_index = {k:(v+3) for k, v in word_index.items()}"
   ]
  },
  {
   "cell_type": "code",
   "execution_count": 16,
   "metadata": {},
   "outputs": [
    {
     "data": {
      "text/plain": [
       "\"<START> this film was just brilliant casting location scenery story direction everyone's really suited the part they played and you could just imagine being there robert <UNK> is an amazing actor and now the same being director <UNK> father came from the same scottish island as myself so i loved the fact there was a real connection with this film the witty remarks throughout the film were great it was just brilliant so much that i bought the film as soon as it was released for <UNK> and would recommend it to everyone to watch and the fly fishing was amazing really cried at the end it was so sad and you know what they say if you cry at a film it must have been good and this definitely was also <UNK> to the two little boy's that played the <UNK> of norman and paul they were just brilliant children are often left out of the <UNK> list i think because the stars that play them all grown up are such a big profile for the whole film but these children are amazing and should be praised for what they have done don't you think the whole story was so lovely because it was true and was someone's life after all that was shared with us all\""
      ]
     },
     "execution_count": 16,
     "metadata": {},
     "output_type": "execute_result"
    }
   ],
   "source": [
    "#因为设定了偏移量为3所以在前3个量中可以插入特殊字符\n",
    "word_index['<PAD>'] = 0  #做padding的时候用来填充的字符\n",
    "word_index['<START>'] =1  #每个句子开始之前插入一个起始字符\n",
    "word_index['<UNK>'] = 2  #找不到字符的时候返回UNK\n",
    "word_index['<END>'] = 3  #在每个句子的末尾加入一个特殊字符\n",
    "\n",
    "reverse_word_index =dict([(value,key) for key,value in word_index.items()])\n",
    "\n",
    "def decode_review(text_ids):\n",
    "    return \" \".join(\n",
    "        [reverse_word_index.get(word_id,\"<UNK>\") for word_id in text_ids])\n",
    "decode_review(train_data[0])"
   ]
  },
  {
   "cell_type": "code",
   "execution_count": 17,
   "metadata": {},
   "outputs": [],
   "source": [
    "max_length = 500\n",
    "\n",
    "train_data = keras.preprocessing.sequence.pad_sequences(\n",
    "    train_data,  #list of list\n",
    "    value = word_index['<PAD>'],\n",
    "    padding = 'post',  #post,pre\n",
    "    maxlen = max_length\n",
    ")\n",
    "\n",
    "test_data = keras.preprocessing.sequence.pad_sequences(\n",
    "    test_data,  #list of list\n",
    "    value = word_index['<PAD>'],\n",
    "    padding = 'post',  #post,pre\n",
    "    maxlen = max_length\n",
    ")"
   ]
  },
  {
   "cell_type": "code",
   "execution_count": 18,
   "metadata": {},
   "outputs": [
    {
     "name": "stdout",
     "output_type": "stream",
     "text": [
      "[   1   14   22   16   43  530  973 1622 1385   65  458 4468   66 3941\n",
      "    4  173   36  256    5   25  100   43  838  112   50  670    2    9\n",
      "   35  480  284    5  150    4  172  112  167    2  336  385   39    4\n",
      "  172 4536 1111   17  546   38   13  447    4  192   50   16    6  147\n",
      " 2025   19   14   22    4 1920 4613  469    4   22   71   87   12   16\n",
      "   43  530   38   76   15   13 1247    4   22   17  515   17   12   16\n",
      "  626   18    2    5   62  386   12    8  316    8  106    5    4 2223\n",
      " 5244   16  480   66 3785   33    4  130   12   16   38  619    5   25\n",
      "  124   51   36  135   48   25 1415   33    6   22   12  215   28   77\n",
      "   52    5   14  407   16   82    2    8    4  107  117 5952   15  256\n",
      "    4    2    7 3766    5  723   36   71   43  530  476   26  400  317\n",
      "   46    7    4    2 1029   13  104   88    4  381   15  297   98   32\n",
      " 2071   56   26  141    6  194 7486   18    4  226   22   21  134  476\n",
      "   26  480    5  144   30 5535   18   51   36   28  224   92   25  104\n",
      "    4  226   65   16   38 1334   88   12   16  283    5   16 4472  113\n",
      "  103   32   15   16 5345   19  178   32    0    0    0    0    0    0\n",
      "    0    0    0    0    0    0    0    0    0    0    0    0    0    0\n",
      "    0    0    0    0    0    0    0    0    0    0    0    0    0    0\n",
      "    0    0    0    0    0    0    0    0    0    0    0    0    0    0\n",
      "    0    0    0    0    0    0    0    0    0    0    0    0    0    0\n",
      "    0    0    0    0    0    0    0    0    0    0    0    0    0    0\n",
      "    0    0    0    0    0    0    0    0    0    0    0    0    0    0\n",
      "    0    0    0    0    0    0    0    0    0    0    0    0    0    0\n",
      "    0    0    0    0    0    0    0    0    0    0    0    0    0    0\n",
      "    0    0    0    0    0    0    0    0    0    0    0    0    0    0\n",
      "    0    0    0    0    0    0    0    0    0    0    0    0    0    0\n",
      "    0    0    0    0    0    0    0    0    0    0    0    0    0    0\n",
      "    0    0    0    0    0    0    0    0    0    0    0    0    0    0\n",
      "    0    0    0    0    0    0    0    0    0    0    0    0    0    0\n",
      "    0    0    0    0    0    0    0    0    0    0    0    0    0    0\n",
      "    0    0    0    0    0    0    0    0    0    0    0    0    0    0\n",
      "    0    0    0    0    0    0    0    0    0    0    0    0    0    0\n",
      "    0    0    0    0    0    0    0    0    0    0    0    0    0    0\n",
      "    0    0    0    0    0    0    0    0    0    0    0    0    0    0\n",
      "    0    0    0    0    0    0    0    0    0    0    0    0    0    0\n",
      "    0    0    0    0    0    0    0    0    0    0]\n"
     ]
    }
   ],
   "source": [
    "print(train_data[0])"
   ]
  },
  {
   "cell_type": "code",
   "execution_count": 20,
   "metadata": {},
   "outputs": [],
   "source": [
    "embedding_dim = 16\n",
    "batch_size = 128\n",
    "\n",
    "model = keras.models.Sequential([   \n",
    "    keras.layers.Embedding(vocab_size,\n",
    "                           embedding_dim,\n",
    "                           input_length=max_length),\n",
    "    keras.layers.GlobalAveragePooling1D(),\n",
    "    keras.layers.Dense(64,activation='relu'),\n",
    "    keras.layers.Dense(1,activation='sigmoid')\n",
    "])"
   ]
  },
  {
   "cell_type": "code",
   "execution_count": 21,
   "metadata": {},
   "outputs": [
    {
     "name": "stdout",
     "output_type": "stream",
     "text": [
      "Model: \"sequential\"\n",
      "_________________________________________________________________\n",
      "Layer (type)                 Output Shape              Param #   \n",
      "=================================================================\n",
      "embedding (Embedding)        (None, 500, 16)           160000    \n",
      "_________________________________________________________________\n",
      "global_average_pooling1d (Gl (None, 16)                0         \n",
      "_________________________________________________________________\n",
      "dense (Dense)                (None, 64)                1088      \n",
      "_________________________________________________________________\n",
      "dense_1 (Dense)              (None, 1)                 65        \n",
      "=================================================================\n",
      "Total params: 161,153\n",
      "Trainable params: 161,153\n",
      "Non-trainable params: 0\n",
      "_________________________________________________________________\n"
     ]
    }
   ],
   "source": [
    "model.summary()"
   ]
  },
  {
   "cell_type": "code",
   "execution_count": 22,
   "metadata": {},
   "outputs": [],
   "source": [
    "model.compile(\n",
    "    optimizer='adam',\n",
    "    loss='binary_crossentropy',\n",
    "    metrics=['accuracy'])"
   ]
  },
  {
   "cell_type": "code",
   "execution_count": 23,
   "metadata": {},
   "outputs": [
    {
     "name": "stdout",
     "output_type": "stream",
     "text": [
      "Epoch 1/30\n",
      "157/157 [==============================] - 2s 15ms/step - loss: 0.6843 - accuracy: 0.5943 - val_loss: 0.6508 - val_accuracy: 0.7294\n",
      "Epoch 2/30\n",
      "157/157 [==============================] - 2s 12ms/step - loss: 0.5467 - accuracy: 0.7918 - val_loss: 0.4386 - val_accuracy: 0.8378\n",
      "Epoch 3/30\n",
      "157/157 [==============================] - 2s 13ms/step - loss: 0.3588 - accuracy: 0.8741 - val_loss: 0.3416 - val_accuracy: 0.8680\n",
      "Epoch 4/30\n",
      "157/157 [==============================] - ETA: 0s - loss: 0.2788 - accuracy: 0.89 - 2s 13ms/step - loss: 0.2788 - accuracy: 0.8974 - val_loss: 0.3038 - val_accuracy: 0.8838\n",
      "Epoch 5/30\n",
      "157/157 [==============================] - 2s 14ms/step - loss: 0.2395 - accuracy: 0.9120 - val_loss: 0.2917 - val_accuracy: 0.8870\n",
      "Epoch 6/30\n",
      "157/157 [==============================] - 2s 13ms/step - loss: 0.2103 - accuracy: 0.9238 - val_loss: 0.2823 - val_accuracy: 0.8918\n",
      "Epoch 7/30\n",
      "157/157 [==============================] - 2s 13ms/step - loss: 0.1885 - accuracy: 0.9332 - val_loss: 0.2843 - val_accuracy: 0.8898\n",
      "Epoch 8/30\n",
      "157/157 [==============================] - 2s 14ms/step - loss: 0.1710 - accuracy: 0.9394 - val_loss: 0.2842 - val_accuracy: 0.8920\n",
      "Epoch 9/30\n",
      "157/157 [==============================] - 2s 15ms/step - loss: 0.1553 - accuracy: 0.9461 - val_loss: 0.2833 - val_accuracy: 0.8954\n",
      "Epoch 10/30\n",
      "157/157 [==============================] - 2s 15ms/step - loss: 0.1415 - accuracy: 0.9520 - val_loss: 0.2894 - val_accuracy: 0.8942\n",
      "Epoch 11/30\n",
      "157/157 [==============================] - 2s 14ms/step - loss: 0.1303 - accuracy: 0.9568 - val_loss: 0.2964 - val_accuracy: 0.8928\n",
      "Epoch 12/30\n",
      "157/157 [==============================] - 2s 14ms/step - loss: 0.1208 - accuracy: 0.9599 - val_loss: 0.3031 - val_accuracy: 0.8930\n",
      "Epoch 13/30\n",
      "157/157 [==============================] - 2s 14ms/step - loss: 0.1107 - accuracy: 0.9640 - val_loss: 0.3120 - val_accuracy: 0.8952\n",
      "Epoch 14/30\n",
      "157/157 [==============================] - 2s 15ms/step - loss: 0.1017 - accuracy: 0.9679 - val_loss: 0.3343 - val_accuracy: 0.8862\n",
      "Epoch 15/30\n",
      "157/157 [==============================] - 2s 15ms/step - loss: 0.0933 - accuracy: 0.9709 - val_loss: 0.3403 - val_accuracy: 0.8908\n",
      "Epoch 16/30\n",
      "157/157 [==============================] - 2s 14ms/step - loss: 0.0859 - accuracy: 0.9741 - val_loss: 0.3458 - val_accuracy: 0.8908\n",
      "Epoch 17/30\n",
      "157/157 [==============================] - 2s 14ms/step - loss: 0.0786 - accuracy: 0.9778 - val_loss: 0.3652 - val_accuracy: 0.8890\n",
      "Epoch 18/30\n",
      "157/157 [==============================] - 2s 14ms/step - loss: 0.0726 - accuracy: 0.9797 - val_loss: 0.3740 - val_accuracy: 0.8858\n",
      "Epoch 19/30\n",
      "157/157 [==============================] - 2s 14ms/step - loss: 0.0656 - accuracy: 0.9815 - val_loss: 0.3909 - val_accuracy: 0.8846\n",
      "Epoch 20/30\n",
      "157/157 [==============================] - 2s 14ms/step - loss: 0.0595 - accuracy: 0.9841 - val_loss: 0.4033 - val_accuracy: 0.8864\n",
      "Epoch 21/30\n",
      "157/157 [==============================] - 2s 13ms/step - loss: 0.0554 - accuracy: 0.9849 - val_loss: 0.4190 - val_accuracy: 0.8858\n",
      "Epoch 22/30\n",
      "157/157 [==============================] - 2s 15ms/step - loss: 0.0506 - accuracy: 0.9879 - val_loss: 0.4398 - val_accuracy: 0.8814\n",
      "Epoch 23/30\n",
      "157/157 [==============================] - 2s 15ms/step - loss: 0.0455 - accuracy: 0.9892 - val_loss: 0.4549 - val_accuracy: 0.8808\n",
      "Epoch 24/30\n",
      "157/157 [==============================] - 2s 15ms/step - loss: 0.0415 - accuracy: 0.9902 - val_loss: 0.4741 - val_accuracy: 0.8796\n",
      "Epoch 25/30\n",
      "157/157 [==============================] - 2s 14ms/step - loss: 0.0372 - accuracy: 0.9919 - val_loss: 0.4903 - val_accuracy: 0.8840\n",
      "Epoch 26/30\n",
      "157/157 [==============================] - 2s 14ms/step - loss: 0.0332 - accuracy: 0.9930 - val_loss: 0.5086 - val_accuracy: 0.8810\n",
      "Epoch 27/30\n",
      "157/157 [==============================] - 2s 14ms/step - loss: 0.0302 - accuracy: 0.9942 - val_loss: 0.5294 - val_accuracy: 0.8784\n",
      "Epoch 28/30\n",
      "157/157 [==============================] - 2s 14ms/step - loss: 0.0271 - accuracy: 0.9949 - val_loss: 0.5478 - val_accuracy: 0.8796\n",
      "Epoch 29/30\n",
      "157/157 [==============================] - 2s 14ms/step - loss: 0.0244 - accuracy: 0.9958 - val_loss: 0.5726 - val_accuracy: 0.8776\n",
      "Epoch 30/30\n",
      "157/157 [==============================] - 2s 14ms/step - loss: 0.0234 - accuracy: 0.9958 - val_loss: 0.6118 - val_accuracy: 0.8766\n"
     ]
    }
   ],
   "source": [
    "history = model.fit(\n",
    "    train_data,\n",
    "    train_labels,\n",
    "    epochs=30,\n",
    "    batch_size=batch_size,\n",
    "    validation_split=0.2)"
   ]
  },
  {
   "cell_type": "code",
   "execution_count": 24,
   "metadata": {},
   "outputs": [
    {
     "name": "stdout",
     "output_type": "stream",
     "text": [
      "196/196 [==============================] - 1s 4ms/step - loss: 0.6553 - accuracy: 0.8577\n"
     ]
    },
    {
     "data": {
      "text/plain": [
       "[0.6553318500518799, 0.8577200174331665]"
      ]
     },
     "execution_count": 24,
     "metadata": {},
     "output_type": "execute_result"
    }
   ],
   "source": [
    "model.evaluate(test_data,test_labels,\n",
    "                batch_size=batch_size)"
   ]
  },
  {
   "cell_type": "code",
   "execution_count": null,
   "metadata": {},
   "outputs": [],
   "source": []
  }
 ],
 "metadata": {
  "kernelspec": {
   "display_name": "Python 3.8.3 64-bit ('base': conda)",
   "language": "python",
   "name": "python38364bitbasecondad9bd0a7157c84fa7bace955ad09d0846"
  },
  "language_info": {
   "codemirror_mode": {
    "name": "ipython",
    "version": 3
   },
   "file_extension": ".py",
   "mimetype": "text/x-python",
   "name": "python",
   "nbconvert_exporter": "python",
   "pygments_lexer": "ipython3",
   "version": "3.8.3"
  }
 },
 "nbformat": 4,
 "nbformat_minor": 4
}
