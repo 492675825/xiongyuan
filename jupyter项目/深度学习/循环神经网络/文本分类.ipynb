{
 "cells": [
  {
   "cell_type": "code",
   "execution_count": 1,
   "metadata": {},
   "outputs": [
    {
     "name": "stdout",
     "output_type": "stream",
     "text": [
      "2.3.1\n"
     ]
    }
   ],
   "source": [
    "import numpy as np \n",
    "import pandas as pd\n",
    "import os \n",
    "import sys\n",
    "import time\n",
    "import tensorflow as tf\n",
    "from tensorflow import keras\n",
    "import warnings\n",
    "warnings.filterwarnings('ignore')\n",
    "print(tf.__version__)"
   ]
  },
  {
   "cell_type": "markdown",
   "metadata": {},
   "source": [
    "## 一、引入数据集"
   ]
  },
  {
   "cell_type": "code",
   "execution_count": 2,
   "metadata": {},
   "outputs": [],
   "source": [
    "#引入keras里面的dataset，这是一个电影评分数据集\n",
    "imdb=keras.datasets.imdb\n",
    "vocab_size=10000\n",
    "index_from = 3\n",
    "(train_data, train_labels), (test_data, test_labels) = imdb.load_data( \n",
    "    num_words = vocab_size,index_from = index_from)"
   ]
  },
  {
   "cell_type": "code",
   "execution_count": 3,
   "metadata": {},
   "outputs": [
    {
     "data": {
      "text/plain": [
       "(25000,)"
      ]
     },
     "execution_count": 3,
     "metadata": {},
     "output_type": "execute_result"
    }
   ],
   "source": [
    "train_data.shape"
   ]
  },
  {
   "cell_type": "code",
   "execution_count": 4,
   "metadata": {},
   "outputs": [
    {
     "data": {
      "text/plain": [
       "(25000,)"
      ]
     },
     "execution_count": 4,
     "metadata": {},
     "output_type": "execute_result"
    }
   ],
   "source": [
    "train_labels.shape"
   ]
  },
  {
   "cell_type": "markdown",
   "metadata": {},
   "source": [
    "## 二、构造完整的句子"
   ]
  },
  {
   "cell_type": "code",
   "execution_count": 5,
   "metadata": {},
   "outputs": [],
   "source": [
    "#映入词表\n",
    "word_index = imdb.get_word_index()"
   ]
  },
  {
   "cell_type": "code",
   "execution_count": 6,
   "metadata": {},
   "outputs": [
    {
     "data": {
      "text/plain": [
       "88584"
      ]
     },
     "execution_count": 6,
     "metadata": {},
     "output_type": "execute_result"
    }
   ],
   "source": [
    "len(word_index)"
   ]
  },
  {
   "cell_type": "code",
   "execution_count": 7,
   "metadata": {},
   "outputs": [],
   "source": [
    "#因为在设定了起始位置从3开始，因为word_index的索引总体都要往后偏移三个单位\n",
    "word_index = {k:(v+3) for k, v in word_index.items()}"
   ]
  },
  {
   "cell_type": "code",
   "execution_count": 8,
   "metadata": {},
   "outputs": [
    {
     "data": {
      "text/plain": [
       "\"<START> this film was just brilliant casting location scenery story direction everyone's really suited the part they played and you could just imagine being there robert <UNK> is an amazing actor and now the same being director <UNK> father came from the same scottish island as myself so i loved the fact there was a real connection with this film the witty remarks throughout the film were great it was just brilliant so much that i bought the film as soon as it was released for <UNK> and would recommend it to everyone to watch and the fly fishing was amazing really cried at the end it was so sad and you know what they say if you cry at a film it must have been good and this definitely was also <UNK> to the two little boy's that played the <UNK> of norman and paul they were just brilliant children are often left out of the <UNK> list i think because the stars that play them all grown up are such a big profile for the whole film but these children are amazing and should be praised for what they have done don't you think the whole story was so lovely because it was true and was someone's life after all that was shared with us all\""
      ]
     },
     "execution_count": 8,
     "metadata": {},
     "output_type": "execute_result"
    }
   ],
   "source": [
    "#因为设定了偏移量为3所以在前3个量中可以插入特殊字符\n",
    "word_index['<PAD>'] = 0  #做padding的时候用来填充的字符\n",
    "word_index['<START>'] =1  #每个句子开始之前插入一个起始字符\n",
    "word_index['<UNK>'] = 2  #找不到字符的时候返回UNK\n",
    "word_index['<END>'] = 3  #在每个句子的末尾加入一个特殊字符\n",
    "\n",
    "reverse_word_index =dict([(value,key) for key,value in word_index.items()])\n",
    "\n",
    "def decode_review(text_ids):\n",
    "    return \" \".join(\n",
    "        [reverse_word_index.get(word_id,\"<UNK>\") for word_id in text_ids])\n",
    "decode_review(train_data[0])"
   ]
  },
  {
   "cell_type": "code",
   "execution_count": 9,
   "metadata": {},
   "outputs": [],
   "source": [
    "max_length = 500\n",
    "\n",
    "train_data = keras.preprocessing.sequence.pad_sequences(\n",
    "    train_data,  #list of list\n",
    "    value = word_index['<PAD>'],\n",
    "    padding = 'post',  #post,pre\n",
    "    maxlen = max_length\n",
    ")\n",
    "\n",
    "test_data = keras.preprocessing.sequence.pad_sequences(\n",
    "    test_data,  #list of list\n",
    "    value = word_index['<PAD>'],\n",
    "    padding = 'post',  #post,pre\n",
    "    maxlen = max_length\n",
    ")"
   ]
  },
  {
   "cell_type": "code",
   "execution_count": 10,
   "metadata": {},
   "outputs": [
    {
     "name": "stdout",
     "output_type": "stream",
     "text": [
      "[   1   14   22   16   43  530  973 1622 1385   65  458 4468   66 3941\n",
      "    4  173   36  256    5   25  100   43  838  112   50  670    2    9\n",
      "   35  480  284    5  150    4  172  112  167    2  336  385   39    4\n",
      "  172 4536 1111   17  546   38   13  447    4  192   50   16    6  147\n",
      " 2025   19   14   22    4 1920 4613  469    4   22   71   87   12   16\n",
      "   43  530   38   76   15   13 1247    4   22   17  515   17   12   16\n",
      "  626   18    2    5   62  386   12    8  316    8  106    5    4 2223\n",
      " 5244   16  480   66 3785   33    4  130   12   16   38  619    5   25\n",
      "  124   51   36  135   48   25 1415   33    6   22   12  215   28   77\n",
      "   52    5   14  407   16   82    2    8    4  107  117 5952   15  256\n",
      "    4    2    7 3766    5  723   36   71   43  530  476   26  400  317\n",
      "   46    7    4    2 1029   13  104   88    4  381   15  297   98   32\n",
      " 2071   56   26  141    6  194 7486   18    4  226   22   21  134  476\n",
      "   26  480    5  144   30 5535   18   51   36   28  224   92   25  104\n",
      "    4  226   65   16   38 1334   88   12   16  283    5   16 4472  113\n",
      "  103   32   15   16 5345   19  178   32    0    0    0    0    0    0\n",
      "    0    0    0    0    0    0    0    0    0    0    0    0    0    0\n",
      "    0    0    0    0    0    0    0    0    0    0    0    0    0    0\n",
      "    0    0    0    0    0    0    0    0    0    0    0    0    0    0\n",
      "    0    0    0    0    0    0    0    0    0    0    0    0    0    0\n",
      "    0    0    0    0    0    0    0    0    0    0    0    0    0    0\n",
      "    0    0    0    0    0    0    0    0    0    0    0    0    0    0\n",
      "    0    0    0    0    0    0    0    0    0    0    0    0    0    0\n",
      "    0    0    0    0    0    0    0    0    0    0    0    0    0    0\n",
      "    0    0    0    0    0    0    0    0    0    0    0    0    0    0\n",
      "    0    0    0    0    0    0    0    0    0    0    0    0    0    0\n",
      "    0    0    0    0    0    0    0    0    0    0    0    0    0    0\n",
      "    0    0    0    0    0    0    0    0    0    0    0    0    0    0\n",
      "    0    0    0    0    0    0    0    0    0    0    0    0    0    0\n",
      "    0    0    0    0    0    0    0    0    0    0    0    0    0    0\n",
      "    0    0    0    0    0    0    0    0    0    0    0    0    0    0\n",
      "    0    0    0    0    0    0    0    0    0    0    0    0    0    0\n",
      "    0    0    0    0    0    0    0    0    0    0    0    0    0    0\n",
      "    0    0    0    0    0    0    0    0    0    0    0    0    0    0\n",
      "    0    0    0    0    0    0    0    0    0    0    0    0    0    0\n",
      "    0    0    0    0    0    0    0    0    0    0]\n"
     ]
    }
   ],
   "source": [
    "print(train_data[0])"
   ]
  },
  {
   "cell_type": "code",
   "execution_count": 12,
   "metadata": {},
   "outputs": [],
   "source": [
    "embedding_dim = 16\n",
    "batch_size = 128\n",
    "\n",
    "single_rnn_model = keras.models.Sequential([   \n",
    "    keras.layers.Embedding(vocab_size,\n",
    "                           embedding_dim,\n",
    "                           input_length=max_length),\n",
    "    keras.layers.SimpleRNN(units = 64, \n",
    "                           return_sequences=False),\n",
    "    keras.layers.Dense(64,activation='relu'),\n",
    "    keras.layers.Dense(1,activation='sigmoid'),\n",
    "])"
   ]
  },
  {
   "cell_type": "code",
   "execution_count": 13,
   "metadata": {},
   "outputs": [
    {
     "name": "stdout",
     "output_type": "stream",
     "text": [
      "Model: \"sequential\"\n",
      "_________________________________________________________________\n",
      "Layer (type)                 Output Shape              Param #   \n",
      "=================================================================\n",
      "embedding (Embedding)        (None, 500, 16)           160000    \n",
      "_________________________________________________________________\n",
      "simple_rnn (SimpleRNN)       (None, 64)                5184      \n",
      "_________________________________________________________________\n",
      "dense (Dense)                (None, 64)                4160      \n",
      "_________________________________________________________________\n",
      "dense_1 (Dense)              (None, 1)                 65        \n",
      "=================================================================\n",
      "Total params: 169,409\n",
      "Trainable params: 169,409\n",
      "Non-trainable params: 0\n",
      "_________________________________________________________________\n"
     ]
    }
   ],
   "source": [
    "single_rnn_model.summary()"
   ]
  },
  {
   "cell_type": "code",
   "execution_count": 14,
   "metadata": {},
   "outputs": [],
   "source": [
    "single_rnn_model.compile(\n",
    "    optimizer='adam',\n",
    "    loss='binary_crossentropy',\n",
    "    metrics=['accuracy'])"
   ]
  },
  {
   "cell_type": "code",
   "execution_count": 15,
   "metadata": {},
   "outputs": [
    {
     "name": "stdout",
     "output_type": "stream",
     "text": [
      "Epoch 1/30\n",
      "157/157 [==============================] - 32s 205ms/step - loss: 0.6944 - accuracy: 0.5030 - val_loss: 0.6933 - val_accuracy: 0.4954\n",
      "Epoch 2/30\n",
      "157/157 [==============================] - 33s 209ms/step - loss: 0.6949 - accuracy: 0.5048 - val_loss: 0.6931 - val_accuracy: 0.4946\n",
      "Epoch 3/30\n",
      "157/157 [==============================] - 32s 206ms/step - loss: 0.6931 - accuracy: 0.5053 - val_loss: 0.6937 - val_accuracy: 0.4944\n",
      "Epoch 4/30\n",
      "157/157 [==============================] - 33s 208ms/step - loss: 0.6862 - accuracy: 0.5289 - val_loss: 0.6960 - val_accuracy: 0.5070\n",
      "Epoch 5/30\n",
      "157/157 [==============================] - 33s 209ms/step - loss: 0.6682 - accuracy: 0.5386 - val_loss: 0.6984 - val_accuracy: 0.5028\n",
      "Epoch 6/30\n",
      "157/157 [==============================] - 34s 216ms/step - loss: 0.6516 - accuracy: 0.5339 - val_loss: 0.7039 - val_accuracy: 0.5018\n",
      "Epoch 7/30\n",
      "157/157 [==============================] - 33s 213ms/step - loss: 0.6455 - accuracy: 0.5469 - val_loss: 0.7173 - val_accuracy: 0.5002\n",
      "Epoch 8/30\n",
      "157/157 [==============================] - 34s 215ms/step - loss: 0.6414 - accuracy: 0.5428 - val_loss: 0.7263 - val_accuracy: 0.5004\n",
      "Epoch 9/30\n",
      "157/157 [==============================] - 35s 221ms/step - loss: 0.6423 - accuracy: 0.5520 - val_loss: 0.7541 - val_accuracy: 0.4990\n",
      "Epoch 10/30\n",
      "157/157 [==============================] - 35s 222ms/step - loss: 0.6508 - accuracy: 0.5372 - val_loss: 0.7089 - val_accuracy: 0.5108\n",
      "Epoch 11/30\n",
      "157/157 [==============================] - 36s 232ms/step - loss: 0.6402 - accuracy: 0.5453 - val_loss: 0.7395 - val_accuracy: 0.5114\n",
      "Epoch 12/30\n",
      "157/157 [==============================] - 36s 229ms/step - loss: 0.6354 - accuracy: 0.5507 - val_loss: 0.7261 - val_accuracy: 0.5088\n",
      "Epoch 13/30\n",
      "157/157 [==============================] - 36s 229ms/step - loss: 0.6362 - accuracy: 0.5494 - val_loss: 0.7392 - val_accuracy: 0.5118\n",
      "Epoch 14/30\n",
      "157/157 [==============================] - 36s 229ms/step - loss: 0.6355 - accuracy: 0.5445 - val_loss: 0.7466 - val_accuracy: 0.5090\n",
      "Epoch 15/30\n",
      "157/157 [==============================] - 36s 232ms/step - loss: 0.6337 - accuracy: 0.5498 - val_loss: 0.7558 - val_accuracy: 0.4994\n",
      "Epoch 16/30\n",
      "157/157 [==============================] - 36s 230ms/step - loss: 0.6399 - accuracy: 0.5459 - val_loss: 0.7450 - val_accuracy: 0.5066\n",
      "Epoch 17/30\n",
      "157/157 [==============================] - 37s 233ms/step - loss: 0.6352 - accuracy: 0.5480 - val_loss: 0.7723 - val_accuracy: 0.4986\n",
      "Epoch 18/30\n",
      "157/157 [==============================] - 38s 244ms/step - loss: 0.6377 - accuracy: 0.5470 - val_loss: 0.7641 - val_accuracy: 0.5086\n",
      "Epoch 19/30\n",
      "157/157 [==============================] - 38s 244ms/step - loss: 0.6341 - accuracy: 0.5462 - val_loss: 0.7860 - val_accuracy: 0.4964\n",
      "Epoch 20/30\n",
      "157/157 [==============================] - 34s 216ms/step - loss: 0.6387 - accuracy: 0.5440 - val_loss: 0.7585 - val_accuracy: 0.5090\n",
      "Epoch 21/30\n",
      "157/157 [==============================] - 33s 213ms/step - loss: 0.6332 - accuracy: 0.5466 - val_loss: 0.7670 - val_accuracy: 0.5068\n",
      "Epoch 22/30\n",
      "157/157 [==============================] - 35s 222ms/step - loss: 0.6343 - accuracy: 0.5437 - val_loss: 0.7984 - val_accuracy: 0.4970\n",
      "Epoch 23/30\n",
      "157/157 [==============================] - 33s 213ms/step - loss: 0.6342 - accuracy: 0.5528 - val_loss: 0.7570 - val_accuracy: 0.5098\n",
      "Epoch 24/30\n",
      "157/157 [==============================] - 35s 221ms/step - loss: 0.6364 - accuracy: 0.5387 - val_loss: 0.7773 - val_accuracy: 0.5074\n",
      "Epoch 25/30\n",
      "157/157 [==============================] - 33s 211ms/step - loss: 0.6299 - accuracy: 0.5522 - val_loss: 0.7931 - val_accuracy: 0.4978\n",
      "Epoch 26/30\n",
      "157/157 [==============================] - 29s 184ms/step - loss: 0.6360 - accuracy: 0.5470 - val_loss: 0.7653 - val_accuracy: 0.4986\n",
      "Epoch 27/30\n",
      "157/157 [==============================] - 30s 188ms/step - loss: 0.6334 - accuracy: 0.5529 - val_loss: 0.7844 - val_accuracy: 0.4994\n",
      "Epoch 28/30\n",
      "157/157 [==============================] - 28s 179ms/step - loss: 0.6371 - accuracy: 0.5408 - val_loss: 0.7869 - val_accuracy: 0.5008\n",
      "Epoch 29/30\n",
      "157/157 [==============================] - 28s 179ms/step - loss: 0.6347 - accuracy: 0.5424 - val_loss: 0.7831 - val_accuracy: 0.5096\n",
      "Epoch 30/30\n",
      "157/157 [==============================] - 28s 177ms/step - loss: 0.6364 - accuracy: 0.5403 - val_loss: 0.7944 - val_accuracy: 0.5086\n"
     ]
    }
   ],
   "source": [
    "history = single_rnn_model.fit(\n",
    "    train_data,\n",
    "    train_labels,\n",
    "    epochs=30,\n",
    "    batch_size=batch_size,\n",
    "    validation_split=0.2)"
   ]
  },
  {
   "cell_type": "code",
   "execution_count": null,
   "metadata": {},
   "outputs": [],
   "source": [
    "single_rnn_model.evaluate(test_data,test_labels,\n",
    "                batch_size=batch_size)"
   ]
  },
  {
   "cell_type": "code",
   "execution_count": null,
   "metadata": {},
   "outputs": [],
   "source": []
  }
 ],
 "metadata": {
  "kernelspec": {
   "display_name": "Python 3.8.3 64-bit ('base': conda)",
   "language": "python",
   "name": "python38364bitbasecondad9bd0a7157c84fa7bace955ad09d0846"
  },
  "language_info": {
   "codemirror_mode": {
    "name": "ipython",
    "version": 3
   },
   "file_extension": ".py",
   "mimetype": "text/x-python",
   "name": "python",
   "nbconvert_exporter": "python",
   "pygments_lexer": "ipython3",
   "version": "3.8.3"
  }
 },
 "nbformat": 4,
 "nbformat_minor": 4
}
