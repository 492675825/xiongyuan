{
 "cells": [
  {
   "cell_type": "code",
   "execution_count": 1,
   "metadata": {},
   "outputs": [],
   "source": [
    "from sklearn.tree import DecisionTreeClassifier\n",
    "from sklearn.tree import DecisionTreeRegressor"
   ]
  },
  {
   "cell_type": "code",
   "execution_count": null,
   "metadata": {},
   "outputs": [],
   "source": [
    "#分类决策树重要参数\n",
    "#1、不纯度指标\n",
    "criterion=\"entropy\"/\"gini\"（默认）  \n",
    "#2、设置分枝中随机模式\n",
    "random_state=30\n",
    "#3、最大深度\n",
    "max_depth=5\n",
    "#4、最小样本量（规定分枝后子节点至少要包含多少样本量，小于样本数量不再进行分支）\n",
    "min_samples_leaf\n",
    "#5、最小样本量（规定节点必须有多少样本，如果样本不足，不让分枝）\n",
    "min_samples_split\n",
    "\n",
    "#回归树\n",
    "#1、分枝质量指标\n",
    "criterion=\"mse\"/\"mae\""
   ]
  }
 ],
 "metadata": {
  "kernelspec": {
   "display_name": "Python 3.8.3 64-bit ('base': conda)",
   "language": "python",
   "name": "python38364bitbasecondad9bd0a7157c84fa7bace955ad09d0846"
  },
  "language_info": {
   "codemirror_mode": {
    "name": "ipython",
    "version": 3
   },
   "file_extension": ".py",
   "mimetype": "text/x-python",
   "name": "python",
   "nbconvert_exporter": "python",
   "pygments_lexer": "ipython3",
   "version": "3.8.3"
  }
 },
 "nbformat": 4,
 "nbformat_minor": 4
}
