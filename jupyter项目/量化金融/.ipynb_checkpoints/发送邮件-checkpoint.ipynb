{
 "cells": [
  {
   "cell_type": "code",
   "execution_count": 1,
   "metadata": {},
   "outputs": [],
   "source": [
    "import smtplib\n",
    "from email.mime.text import MIMEText #邮件文本处理\n",
    "from email.header import Header"
   ]
  },
  {
   "cell_type": "code",
   "execution_count": 2,
   "metadata": {},
   "outputs": [],
   "source": [
    "#指定邮箱服务器\n",
    "mail_host = 'smtp.163.com'\n",
    "#邮箱用户名\n",
    "mail_user = 'xiongyuanadd'\n",
    "#密码(用smtp的授权码,开启stmp的邮箱会生成)\n",
    "mail_pass = 'HTRIRUKTWPIWMNEO' \n",
    "#邮件发送方邮箱地址\n",
    "sender = '熊源<xiongyuanadd@163.com>'\n",
    "#邮件接收方邮箱地址(可以在list中添加多个邮箱)\n",
    "receivers = ['492675825@qq.com<492675825@qq.com>']"
   ]
  },
  {
   "cell_type": "code",
   "execution_count": 3,
   "metadata": {},
   "outputs": [],
   "source": [
    "#设置邮件信息\n",
    "message = MIMEText('this is a email what I use python to write', 'plain', 'utf-8')\n",
    "#邮件主题\n",
    "message['Subject'] = Header('from hugh')\n",
    "#发送邮件方\n",
    "message['From'] = Header(sender)\n",
    "#接收方\n",
    "message['To'] = Header(receivers[0])\n",
    "#抄送人\n",
    "# message['CC'] = sender"
   ]
  },
  {
   "cell_type": "code",
   "execution_count": 4,
   "metadata": {},
   "outputs": [
    {
     "name": "stdout",
     "output_type": "stream",
     "text": [
      "error (554, b'DT:SPM 163 smtp12,EMCowAAX+TglL1JggMtghA--.46042S2 1615998757,please see http://mail.163.com/help/help_spam_16.htm?ip=59.42.111.46&hostid=smtp12&time=1615998757')\n"
     ]
    }
   ],
   "source": [
    "#登入并发送邮件\n",
    "try:\n",
    "    smtp_obj = smtplib.SMTP()\n",
    "    #连接到服务器\n",
    "    smtp_obj.connect(mail_host,25)\n",
    "    #登入到服务器\n",
    "    smtp_obj.login(mail_user, mail_pass)\n",
    "    #发送\n",
    "    smtp_obj.sendmail(\n",
    "        sender,receivers,message.as_string())\n",
    "    #退出\n",
    "    smtp_obj.quit()\n",
    "    print('发送成功!')\n",
    "except smtplib.SMTPException as e:\n",
    "    print('error',e)"
   ]
  },
  {
   "cell_type": "code",
   "execution_count": null,
   "metadata": {},
   "outputs": [],
   "source": []
  }
 ],
 "metadata": {
  "kernelspec": {
   "display_name": "Python 3.8.3 64-bit ('base': conda)",
   "language": "python",
   "name": "python38364bitbasecondad9bd0a7157c84fa7bace955ad09d0846"
  },
  "language_info": {
   "codemirror_mode": {
    "name": "ipython",
    "version": 3
   },
   "file_extension": ".py",
   "mimetype": "text/x-python",
   "name": "python",
   "nbconvert_exporter": "python",
   "pygments_lexer": "ipython3",
   "version": "3.8.3"
  }
 },
 "nbformat": 4,
 "nbformat_minor": 4
}
