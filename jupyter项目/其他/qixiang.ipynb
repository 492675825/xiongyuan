{
 "cells": [
  {
   "cell_type": "code",
   "execution_count": 1,
   "metadata": {},
   "outputs": [],
   "source": [
    "import pandas as pd \n",
    "import numpy as np \n",
    "import matplotlib.pyplot as plt "
   ]
  },
  {
   "cell_type": "code",
   "execution_count": 2,
   "metadata": {},
   "outputs": [],
   "source": [
    "pd.set_option(\"display.max_column\",100)\n",
    "pd.set_option(\"expand_frame_repr\",False)"
   ]
  },
  {
   "cell_type": "code",
   "execution_count": 9,
   "metadata": {},
   "outputs": [],
   "source": [
    "df=pd.read_csv(r\"D:\\文件\\学习\\数据集\\广东气象资料\\S202008051600018847600\\S202008051600018847600.txt\",sep=\" \",index_col=False)"
   ]
  },
  {
   "cell_type": "code",
   "execution_count": 10,
   "metadata": {},
   "outputs": [
    {
     "output_type": "execute_result",
     "data": {
      "text/plain": "   V01301  V_TIME_AVAILA  V04292  V12001_701  V12001_701_05  V12001_701_06  V13004_701  V13305_701  V13306_701  V11002_701\n0   57988      119812010       1        10.0           15.7            6.5         9.6         0.6         0.6         1.0\n1   57988      119812010       2        10.0           15.6            6.5         9.8         0.7         0.5         0.9\n2   57988      119812010       3         9.9           15.4            6.5        10.0         1.7         1.1         1.1\n3   57988      119812010       4         9.9           15.3            6.5         9.8         5.7         2.6         1.1\n4   57988      119812010       5         9.8           15.1            6.5         9.7         3.7         6.5         0.9",
      "text/html": "<div>\n<style scoped>\n    .dataframe tbody tr th:only-of-type {\n        vertical-align: middle;\n    }\n\n    .dataframe tbody tr th {\n        vertical-align: top;\n    }\n\n    .dataframe thead th {\n        text-align: right;\n    }\n</style>\n<table border=\"1\" class=\"dataframe\">\n  <thead>\n    <tr style=\"text-align: right;\">\n      <th></th>\n      <th>V01301</th>\n      <th>V_TIME_AVAILA</th>\n      <th>V04292</th>\n      <th>V12001_701</th>\n      <th>V12001_701_05</th>\n      <th>V12001_701_06</th>\n      <th>V13004_701</th>\n      <th>V13305_701</th>\n      <th>V13306_701</th>\n      <th>V11002_701</th>\n    </tr>\n  </thead>\n  <tbody>\n    <tr>\n      <th>0</th>\n      <td>57988</td>\n      <td>119812010</td>\n      <td>1</td>\n      <td>10.0</td>\n      <td>15.7</td>\n      <td>6.5</td>\n      <td>9.6</td>\n      <td>0.6</td>\n      <td>0.6</td>\n      <td>1.0</td>\n    </tr>\n    <tr>\n      <th>1</th>\n      <td>57988</td>\n      <td>119812010</td>\n      <td>2</td>\n      <td>10.0</td>\n      <td>15.6</td>\n      <td>6.5</td>\n      <td>9.8</td>\n      <td>0.7</td>\n      <td>0.5</td>\n      <td>0.9</td>\n    </tr>\n    <tr>\n      <th>2</th>\n      <td>57988</td>\n      <td>119812010</td>\n      <td>3</td>\n      <td>9.9</td>\n      <td>15.4</td>\n      <td>6.5</td>\n      <td>10.0</td>\n      <td>1.7</td>\n      <td>1.1</td>\n      <td>1.1</td>\n    </tr>\n    <tr>\n      <th>3</th>\n      <td>57988</td>\n      <td>119812010</td>\n      <td>4</td>\n      <td>9.9</td>\n      <td>15.3</td>\n      <td>6.5</td>\n      <td>9.8</td>\n      <td>5.7</td>\n      <td>2.6</td>\n      <td>1.1</td>\n    </tr>\n    <tr>\n      <th>4</th>\n      <td>57988</td>\n      <td>119812010</td>\n      <td>5</td>\n      <td>9.8</td>\n      <td>15.1</td>\n      <td>6.5</td>\n      <td>9.7</td>\n      <td>3.7</td>\n      <td>6.5</td>\n      <td>0.9</td>\n    </tr>\n  </tbody>\n</table>\n</div>"
     },
     "metadata": {},
     "execution_count": 10
    }
   ],
   "source": [
    "df.head()"
   ]
  },
  {
   "cell_type": "code",
   "execution_count": 11,
   "metadata": {},
   "outputs": [
    {
     "output_type": "stream",
     "name": "stdout",
     "text": "<class 'pandas.core.frame.DataFrame'>\nRangeIndex: 34310 entries, 0 to 34309\nData columns (total 10 columns):\n #   Column         Non-Null Count  Dtype  \n---  ------         --------------  -----  \n 0   V01301         34310 non-null  int64  \n 1   V_TIME_AVAILA  34310 non-null  int64  \n 2   V04292         34310 non-null  int64  \n 3   V12001_701     34310 non-null  float64\n 4   V12001_701_05  34310 non-null  float64\n 5   V12001_701_06  34310 non-null  float64\n 6   V13004_701     34310 non-null  float64\n 7   V13305_701     34310 non-null  float64\n 8   V13306_701     34310 non-null  float64\n 9   V11002_701     34310 non-null  float64\ndtypes: float64(7), int64(3)\nmemory usage: 2.6 MB\n"
    }
   ],
   "source": [
    "df.info()"
   ]
  },
  {
   "cell_type": "code",
   "execution_count": null,
   "metadata": {},
   "outputs": [],
   "source": []
  }
 ],
 "metadata": {
  "language_info": {
   "codemirror_mode": {
    "name": "ipython",
    "version": 3
   },
   "file_extension": ".py",
   "mimetype": "text/x-python",
   "name": "python",
   "nbconvert_exporter": "python",
   "pygments_lexer": "ipython3",
   "version": "3.8.2-final"
  },
  "orig_nbformat": 2,
  "kernelspec": {
   "name": "python38264bit0523e0b233c34a7f86d5e28964edf02f",
   "display_name": "Python 3.8.2 64-bit"
  }
 },
 "nbformat": 4,
 "nbformat_minor": 2
}