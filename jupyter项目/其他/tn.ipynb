{
 "cells": [
  {
   "cell_type": "code",
   "execution_count": null,
   "metadata": {},
   "outputs": [],
   "source": [
    "import pandas as pd \n",
    "import numpy as np \n",
    "import matplotlib.pyplot as plt \n",
    "import seaborn as sns"
   ]
  },
  {
   "cell_type": "code",
   "execution_count": null,
   "metadata": {},
   "outputs": [],
   "source": [
    "#分类决策树\n",
    "from sklearn.tree import DecisionTreeClassifier\n",
    "clf=DecisionTreeClassifier()\n",
    "clf=clf.fit(x_train,y_train)\n",
    "result=clf.score(x_test,y_test)"
   ]
  },
  {
   "cell_type": "code",
   "execution_count": null,
   "metadata": {},
   "outputs": [],
   "source": [
    "#分类随机森林\n",
    "from sklearn.ensemble import RandomForestClassifier\n",
    "rfc=RandomForestClassifier(n_estimators=20,random_state=2)\n",
    "rfc=rfc.fit(x_train,y_train)\n",
    "resutl=rfc.score(x_test,y_test)"
   ]
  },
  {
   "cell_type": "code",
   "execution_count": null,
   "metadata": {},
   "outputs": [],
   "source": [
    "#分类逻辑回归\n",
    "from sklearn.linear_model import LogisticRegression\n",
    "lr=LogisticRegression()\n",
    "lr=lr.fit(x_train,y_train)\n",
    "lr.score(x_test,y_test)"
   ]
  },
  {
   "cell_type": "code",
   "execution_count": null,
   "metadata": {},
   "outputs": [],
   "source": [
    "#分类支持向量机\n",
    "from sklearn.svm import SVC\n",
    "clf=SVC()\n",
    "clf=clf.fit(x_train,y_train)\n",
    "clf.score(x_test,y_test)"
   ]
  },
  {
   "cell_type": "code",
   "execution_count": null,
   "metadata": {},
   "outputs": [],
   "source": [
    "#分类朴素贝叶斯\n",
    "from sklearn.naive_bayes import GaussianNB #高斯朴素贝叶斯\n",
    "model=GaussianNB()\n",
    "model=model.fit(x_train,y_train)\n",
    "model.score(x_test,Y_test)"
   ]
  },
  {
   "cell_type": "code",
   "execution_count": null,
   "metadata": {},
   "outputs": [],
   "source": [
    "#分类XGboost\n",
    "from xgboost import XGBClassifier\n",
    "model=XGBClassifier()\n",
    "model=model.fit(x_train,y_train)\n",
    "model.score()"
   ]
  },
  {
   "cell_type": "code",
   "execution_count": null,
   "metadata": {},
   "outputs": [],
   "source": [
    "#分类KNN\n",
    "from sklearn.neighbors import KNeighborsClassifier\n",
    "model=KNeighborsClassifier(n_neighbors=5)\n",
    "model=model.fit(x_train,y_train)\n",
    "model.score(x_test,y_test)"
   ]
  },
  {
   "cell_type": "code",
   "execution_count": null,
   "metadata": {},
   "outputs": [],
   "source": [
    "#K折交叉验证\n",
    "data=df \n",
    "target=label\n",
    "from sklearn.model_selection import KFold\n",
    "kf=KFold(n_splits=5)\n",
    "for train_index,test_index in kf.split(data):\n",
    "    x_train=data.values[train_index]\n",
    "    x_test=data.values[test_index]\n",
    "    y_train=target[train_index]\n",
    "    y_test=target[test_index]\n",
    "\n",
    "#简单交叉验证\n",
    "from sklearn.model_selection import train_test_split\n",
    "x_train,x_test,y_train,y_test=train_test_split(test_size=0.2)"
   ]
  },
  {
   "cell_type": "code",
   "execution_count": null,
   "metadata": {},
   "outputs": [],
   "source": [
    "#分类模型评估指标\n",
    "from sklearn.metrics import accuracy_score   #正确率\n",
    "from sklearn.metrics import precision_score  #精确率\n",
    "from sklearn.metrics import recall_score    #召回率\n",
    "from sklearn.metrics import f1_score       #调和平均值F1\n",
    "from sklearn.metrics import classification_report #分类评估报告\n",
    "\n",
    "accuracy_score=accuracy_score(y_test,y_pred)\n",
    "precision_score=precision_score(y_test,y_pred)\n",
    "recall_score=recall_score(y_test,y_pred)\n",
    "f1_score=f1_score(y_test,y_pred)\n",
    "classification_report=classification_report(y_true=y_test,y_pred=y_pred)\n",
    "\n"
   ]
  },
  {
   "cell_type": "code",
   "execution_count": null,
   "metadata": {},
   "outputs": [],
   "source": []
  }
 ],
 "metadata": {
  "language_info": {
   "codemirror_mode": {
    "name": "ipython",
    "version": 3
   },
   "file_extension": ".py",
   "mimetype": "text/x-python",
   "name": "python",
   "nbconvert_exporter": "python",
   "pygments_lexer": "ipython3",
   "version": "3.8.2-final"
  },
  "orig_nbformat": 2,
  "kernelspec": {
   "name": "python38264bit0523e0b233c34a7f86d5e28964edf02f",
   "display_name": "Python 3.8.2 64-bit"
  }
 },
 "nbformat": 4,
 "nbformat_minor": 2
}