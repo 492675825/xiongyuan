{
 "metadata": {
  "language_info": {
   "codemirror_mode": {
    "name": "ipython",
    "version": 3
   },
   "file_extension": ".py",
   "mimetype": "text/x-python",
   "name": "python",
   "nbconvert_exporter": "python",
   "pygments_lexer": "ipython3",
   "version": "3.8.3-final"
  },
  "orig_nbformat": 2,
  "kernelspec": {
   "name": "Python 3.8.3 64-bit ('xiongyuan': virtualenv)",
   "display_name": "Python 3.8.3 64-bit ('xiongyuan': virtualenv)",
   "metadata": {
    "interpreter": {
     "hash": "1b96d706070f6b4309a3580279756cfb797f6193b34f4ed506e6001db0b41bf4"
    }
   }
  }
 },
 "nbformat": 4,
 "nbformat_minor": 2,
 "cells": [
  {
   "cell_type": "code",
   "execution_count": 43,
   "metadata": {},
   "outputs": [],
   "source": [
    "import pandas as pd \n",
    "import numpy as np\n",
    "import random"
   ]
  },
  {
   "cell_type": "code",
   "execution_count": 44,
   "metadata": {},
   "outputs": [],
   "source": [
    "#创建1副牌52张\n",
    "def poker_game():\n",
    "    # 建立1副牌52张\n",
    "    poker = []\n",
    "    poker_list = [\"A\", \"2\", \"3\", \"4\", \"5\", \"6\", \"7\", \"8\", \"9\", \"10\", \"J\", \"Q\", \"K\"]\n",
    "    color_type = [\"S\", \"D\", \"H\", \"C\"]\n",
    "    for color in color_type:\n",
    "        for po in poker_list:\n",
    "            poker_number=color+po\n",
    "            poker.append(poker_number)\n",
    "    return  poker"
   ]
  },
  {
   "cell_type": "code",
   "execution_count": 45,
   "metadata": {},
   "outputs": [
    {
     "output_type": "error",
     "ename": "SyntaxError",
     "evalue": "invalid syntax (<ipython-input-45-aa73e54bcfb7>, line 4)",
     "traceback": [
      "\u001b[1;36m  File \u001b[1;32m\"<ipython-input-45-aa73e54bcfb7>\"\u001b[1;36m, line \u001b[1;32m4\u001b[0m\n\u001b[1;33m    poker_\"{}\".format(n)=begin\u001b[0m\n\u001b[1;37m          ^\u001b[0m\n\u001b[1;31mSyntaxError\u001b[0m\u001b[1;31m:\u001b[0m invalid syntax\n"
     ]
    }
   ],
   "source": [
    "#发牌\n",
    "n=52\n",
    "begin=poker_game()"
   ]
  },
  {
   "cell_type": "code",
   "execution_count": 37,
   "metadata": {},
   "outputs": [],
   "source": [
    "player_01=random.choice(poker_n)"
   ]
  },
  {
   "cell_type": "code",
   "execution_count": 38,
   "metadata": {},
   "outputs": [
    {
     "output_type": "execute_result",
     "data": {
      "text/plain": [
       "'H9'"
      ]
     },
     "metadata": {},
     "execution_count": 38
    }
   ],
   "source": [
    "player_01"
   ]
  }
 ]
}