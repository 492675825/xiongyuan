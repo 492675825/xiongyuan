{
 "metadata": {
  "language_info": {
   "codemirror_mode": {
    "name": "ipython",
    "version": 3
   },
   "file_extension": ".py",
   "mimetype": "text/x-python",
   "name": "python",
   "nbconvert_exporter": "python",
   "pygments_lexer": "ipython3",
   "version": "3.8.3-final"
  },
  "orig_nbformat": 2,
  "kernelspec": {
   "name": "python38364bitbasecondad9bd0a7157c84fa7bace955ad09d0846",
   "display_name": "Python 3.8.3 64-bit ('base': conda)"
  }
 },
 "nbformat": 4,
 "nbformat_minor": 2,
 "cells": [
  {
   "cell_type": "code",
   "execution_count": 1,
   "metadata": {},
   "outputs": [],
   "source": [
    "import pandas as pd \n",
    "import numpy as np \n",
    "import gc"
   ]
  },
  {
   "cell_type": "code",
   "execution_count": 2,
   "metadata": {},
   "outputs": [],
   "source": [
    "pd.set_option(\"display.max_column\",100)\n",
    "pd.set_option(\"expand_frame_repr\",False)\n",
    "df=pd.read_csv(r\"D:\\文件\\学习\\数据集\\淘宝APP\\UserBehavior.csv\\train.csv\")"
   ]
  },
  {
   "cell_type": "code",
   "execution_count": 3,
   "metadata": {},
   "outputs": [
    {
     "output_type": "execute_result",
     "data": {
      "text/plain": [
       "   1  2268318  2520377  pv  1511544070\n",
       "0  1  2333346  2520771  pv  1511561733\n",
       "1  1  2576651   149192  pv  1511572885\n",
       "2  1  3830808  4181361  pv  1511593493\n",
       "3  1  4365585  2520377  pv  1511596146\n",
       "4  1  4606018  2735466  pv  1511616481"
      ],
      "text/html": "<div>\n<style scoped>\n    .dataframe tbody tr th:only-of-type {\n        vertical-align: middle;\n    }\n\n    .dataframe tbody tr th {\n        vertical-align: top;\n    }\n\n    .dataframe thead th {\n        text-align: right;\n    }\n</style>\n<table border=\"1\" class=\"dataframe\">\n  <thead>\n    <tr style=\"text-align: right;\">\n      <th></th>\n      <th>1</th>\n      <th>2268318</th>\n      <th>2520377</th>\n      <th>pv</th>\n      <th>1511544070</th>\n    </tr>\n  </thead>\n  <tbody>\n    <tr>\n      <th>0</th>\n      <td>1</td>\n      <td>2333346</td>\n      <td>2520771</td>\n      <td>pv</td>\n      <td>1511561733</td>\n    </tr>\n    <tr>\n      <th>1</th>\n      <td>1</td>\n      <td>2576651</td>\n      <td>149192</td>\n      <td>pv</td>\n      <td>1511572885</td>\n    </tr>\n    <tr>\n      <th>2</th>\n      <td>1</td>\n      <td>3830808</td>\n      <td>4181361</td>\n      <td>pv</td>\n      <td>1511593493</td>\n    </tr>\n    <tr>\n      <th>3</th>\n      <td>1</td>\n      <td>4365585</td>\n      <td>2520377</td>\n      <td>pv</td>\n      <td>1511596146</td>\n    </tr>\n    <tr>\n      <th>4</th>\n      <td>1</td>\n      <td>4606018</td>\n      <td>2735466</td>\n      <td>pv</td>\n      <td>1511616481</td>\n    </tr>\n  </tbody>\n</table>\n</div>"
     },
     "metadata": {},
     "execution_count": 3
    }
   ],
   "source": [
    "df.head()"
   ]
  },
  {
   "cell_type": "code",
   "execution_count": 4,
   "metadata": {},
   "outputs": [
    {
     "output_type": "stream",
     "name": "stdout",
     "text": [
      "<class 'pandas.core.frame.DataFrame'>\nRangeIndex: 100150806 entries, 0 to 100150805\nData columns (total 5 columns):\n #   Column      Dtype \n---  ------      ----- \n 0   1           int64 \n 1   2268318     int64 \n 2   2520377     int64 \n 3   pv          object\n 4   1511544070  int64 \ndtypes: int64(4), object(1)\nmemory usage: 3.7+ GB\n"
     ]
    }
   ],
   "source": [
    "df.info()"
   ]
  },
  {
   "cell_type": "code",
   "execution_count": 5,
   "metadata": {},
   "outputs": [],
   "source": [
    "import gc \n",
    "from collections import Counter\n",
    "import copy"
   ]
  },
  {
   "cell_type": "code",
   "execution_count": 6,
   "metadata": {},
   "outputs": [],
   "source": [
    "def reduce_mem_usage(df,verbose=True):\n",
    "    start_mem=df.memory_usage().sum()/1024**2\n",
    "    numerics = ['int16', 'int32', 'int64', 'float16', 'float32', 'float64']\n",
    "    for col in df.columns:\n",
    "        col_type=df[col].dtypes\n",
    "        if col_type in numerics:\n",
    "            c_min=df[col].min()\n",
    "            c_max=df[col].max()\n",
    "            if str(col_type)[:3]==\"int\":\n",
    "                if c_min > np.iinfo(np.int16).min and c_max < np.iinfo(np.int16).max:\n",
    "                    df[col]=df[col].astype(np.int16)\n",
    "                elif c_min > np.iinfo(np.int32).min and c_max < np.iinfo(np.int32).max:\n",
    "                    df[col]=df[col].astype(np.int32)\n",
    "                elif c_min > np.iinfo(np.int64).min and c_max < np.iinfo(np.int64).max:\n",
    "                    df[col]=df[col].astype(np.int64)\n",
    "    end_mem=df.memory_usage().sum()/1024**2\n",
    "    print(\"压缩前：\",start_mem)\n",
    "    print(\"压缩后：\",end_mem)\n",
    "    return df"
   ]
  },
  {
   "cell_type": "code",
   "execution_count": 7,
   "metadata": {},
   "outputs": [
    {
     "output_type": "stream",
     "name": "stdout",
     "text": [
      "压缩前： 3820.450180053711\n压缩后： 2292.2701568603516\n"
     ]
    }
   ],
   "source": [
    "df=reduce_mem_usage(df)"
   ]
  },
  {
   "cell_type": "code",
   "execution_count": 9,
   "metadata": {},
   "outputs": [
    {
     "output_type": "execute_result",
     "data": {
      "text/plain": [
       "11903"
      ]
     },
     "metadata": {},
     "execution_count": 9
    }
   ],
   "source": [
    "gc.collect()"
   ]
  },
  {
   "cell_type": "code",
   "execution_count": 10,
   "metadata": {},
   "outputs": [
    {
     "output_type": "execute_result",
     "data": {
      "text/plain": [
       "   1  2268318  2520377  pv  1511544070\n",
       "0  1  2333346  2520771  pv  1511561733\n",
       "1  1  2576651   149192  pv  1511572885\n",
       "2  1  3830808  4181361  pv  1511593493\n",
       "3  1  4365585  2520377  pv  1511596146\n",
       "4  1  4606018  2735466  pv  1511616481"
      ],
      "text/html": "<div>\n<style scoped>\n    .dataframe tbody tr th:only-of-type {\n        vertical-align: middle;\n    }\n\n    .dataframe tbody tr th {\n        vertical-align: top;\n    }\n\n    .dataframe thead th {\n        text-align: right;\n    }\n</style>\n<table border=\"1\" class=\"dataframe\">\n  <thead>\n    <tr style=\"text-align: right;\">\n      <th></th>\n      <th>1</th>\n      <th>2268318</th>\n      <th>2520377</th>\n      <th>pv</th>\n      <th>1511544070</th>\n    </tr>\n  </thead>\n  <tbody>\n    <tr>\n      <th>0</th>\n      <td>1</td>\n      <td>2333346</td>\n      <td>2520771</td>\n      <td>pv</td>\n      <td>1511561733</td>\n    </tr>\n    <tr>\n      <th>1</th>\n      <td>1</td>\n      <td>2576651</td>\n      <td>149192</td>\n      <td>pv</td>\n      <td>1511572885</td>\n    </tr>\n    <tr>\n      <th>2</th>\n      <td>1</td>\n      <td>3830808</td>\n      <td>4181361</td>\n      <td>pv</td>\n      <td>1511593493</td>\n    </tr>\n    <tr>\n      <th>3</th>\n      <td>1</td>\n      <td>4365585</td>\n      <td>2520377</td>\n      <td>pv</td>\n      <td>1511596146</td>\n    </tr>\n    <tr>\n      <th>4</th>\n      <td>1</td>\n      <td>4606018</td>\n      <td>2735466</td>\n      <td>pv</td>\n      <td>1511616481</td>\n    </tr>\n  </tbody>\n</table>\n</div>"
     },
     "metadata": {},
     "execution_count": 10
    }
   ],
   "source": [
    "df.head()"
   ]
  },
  {
   "cell_type": "code",
   "execution_count": null,
   "metadata": {},
   "outputs": [],
   "source": []
  }
 ]
}