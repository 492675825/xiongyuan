{
 "cells": [
  {
   "cell_type": "code",
   "execution_count": 1,
   "metadata": {},
   "outputs": [],
   "source": [
    "import pandas as pd\n",
    "import numpy as np\n",
    "import matplotlib.pyplot as plt\n",
    "import seaborn as sns\n",
    "import warnings\n",
    "import json\n",
    "warnings.filterwarnings('ignore')"
   ]
  },
  {
   "cell_type": "code",
   "execution_count": 2,
   "metadata": {},
   "outputs": [],
   "source": [
    "pd.set_option('display.max_columns',100)\n",
    "pd.set_option('expand_frame_repr',False)"
   ]
  },
  {
   "cell_type": "markdown",
   "metadata": {},
   "source": [
    "## 构造自定义函数"
   ]
  },
  {
   "cell_type": "code",
   "execution_count": 3,
   "metadata": {},
   "outputs": [],
   "source": [
    "class DataProcessing:\n",
    "    def __init__(self):\n",
    "        pass\n",
    "    #数据格式的转换\n",
    "    #获取item的特征信息矩阵\n",
    "    def prepare_item_profile(self, file='D:\\文件\\学习\\数据集\\【推荐系统】\\MovieLens\\movies.csv'):\n",
    "        items = pd.read_csv(file)  #读取数据\n",
    "        item_ids = set(items['MovieID'].values)  #获取数据唯一标识\n",
    "        self.item_dict = {} #创建一个字典\n",
    "        genres_all = list()  #创建一个列表\n",
    "        for item in item_ids:  #在唯一的item_ids中间循环\n",
    "            #把对应ID的'genres'字段的值切分开来类似‘['Animation', \"Children's\", 'Comedy']’\n",
    "            genres = items[items['MovieID']==item]['Genres'].values[0].split(\"|\")\n",
    "            #设置dict默认值，对应的key,value分别是item和[],然后往里面添加数据\n",
    "            self.item_dict.setdefault(item,[]).extend(genres)\n",
    "            #设置将数据也插入一份到list中\n",
    "            genres_all.extend(genres)\n",
    "            #对list列表中的数据进行唯一化操作\n",
    "            self.genres_all=set(genres_all)\n",
    "        self.item_matrix = {}\n",
    "        #遍历字典中的key值\n",
    "        for item in self.item_dict.keys():\n",
    "            #生成由0形成的矩阵，共有唯一值组成的list这么多列\n",
    "            #形如{'1': [0, 0, 0]}\n",
    "            self.item_matrix[str(item)]=[0] * len(set(self.genres_all))\n",
    "            for genre in self.item_dict[item]:\n",
    "                #字典类型转换成list的时候，只会保留key，values将被全部删除\n",
    "                #这里的index是指list返回的指定的值所在的索引号\n",
    "                index = list(set(genres_all)).index(genre)\n",
    "                #在有值的位置标记为1\n",
    "                self.item_matrix[str(item)][index] = 1\n",
    "        #把矩阵item_matrix转换成json格式并且保存\n",
    "        json.dump(self.item_matrix, open('D:\\文件\\学习\\数据集\\【推荐系统】\\MovieLens\\item_profile.json','w'))\n",
    "        print('item 信息计算完成，保存路径为：{}'.format('D:\\文件\\学习\\数据集\\【推荐系统】\\MovieLens\\item_profile.json'))\n",
    "            "
   ]
  },
  {
   "cell_type": "code",
   "execution_count": 4,
   "metadata": {},
   "outputs": [],
   "source": [
    "df_movie=pd.read_csv(r'D:\\文件\\学习\\数据集\\【推荐系统】\\MovieLens\\movies.csv')"
   ]
  },
  {
   "cell_type": "code",
   "execution_count": 5,
   "metadata": {},
   "outputs": [],
   "source": [
    "item_ids =set(df_movie['MovieID'].values)"
   ]
  },
  {
   "cell_type": "code",
   "execution_count": 6,
   "metadata": {},
   "outputs": [],
   "source": [
    "item_dict={}\n",
    "genres_all=list()"
   ]
  },
  {
   "cell_type": "code",
   "execution_count": 8,
   "metadata": {},
   "outputs": [],
   "source": [
    "item_matrix = {}"
   ]
  },
  {
   "cell_type": "code",
   "execution_count": 9,
   "metadata": {},
   "outputs": [],
   "source": [
    "item_matrix[str(1)] = [0] * 3"
   ]
  },
  {
   "cell_type": "code",
   "execution_count": 10,
   "metadata": {},
   "outputs": [
    {
     "data": {
      "text/plain": [
       "{'1': [0, 0, 0]}"
      ]
     },
     "execution_count": 10,
     "metadata": {},
     "output_type": "execute_result"
    }
   ],
   "source": [
    "item_matrix"
   ]
  },
  {
   "cell_type": "code",
   "execution_count": 24,
   "metadata": {},
   "outputs": [],
   "source": [
    "aaa={'1':[1,2,3,4,5],'2':[1,2,3,4,5],'4':[1,2,3,4,5]}"
   ]
  },
  {
   "cell_type": "code",
   "execution_count": 25,
   "metadata": {},
   "outputs": [
    {
     "data": {
      "text/plain": [
       "{'1': [1, 2, 3, 4, 5], '2': [1, 2, 3, 4, 5], '4': [1, 2, 3, 4, 5]}"
      ]
     },
     "execution_count": 25,
     "metadata": {},
     "output_type": "execute_result"
    }
   ],
   "source": [
    "aaa"
   ]
  },
  {
   "cell_type": "code",
   "execution_count": 30,
   "metadata": {},
   "outputs": [
    {
     "data": {
      "text/plain": [
       "0"
      ]
     },
     "execution_count": 30,
     "metadata": {},
     "output_type": "execute_result"
    }
   ],
   "source": [
    "list(aaa).index('1')"
   ]
  },
  {
   "cell_type": "markdown",
   "metadata": {},
   "source": [
    "## 数据处理"
   ]
  },
  {
   "cell_type": "code",
   "execution_count": 11,
   "metadata": {},
   "outputs": [
    {
     "name": "stdout",
     "output_type": "stream",
     "text": [
      "item 信息计算完成，保存路径为：D:\\文件\\学习\\数据集\\【推荐系统】\\MovieLens\\item_profile.json\n"
     ]
    }
   ],
   "source": [
    "transform_to_json = DataProcessing()\n",
    "_json = transform_to_json.prepare_item_profile()"
   ]
  },
  {
   "cell_type": "markdown",
   "metadata": {},
   "source": [
    "## 数据概况"
   ]
  },
  {
   "cell_type": "code",
   "execution_count": 12,
   "metadata": {},
   "outputs": [
    {
     "data": {
      "text/html": [
       "<div>\n",
       "<style scoped>\n",
       "    .dataframe tbody tr th:only-of-type {\n",
       "        vertical-align: middle;\n",
       "    }\n",
       "\n",
       "    .dataframe tbody tr th {\n",
       "        vertical-align: top;\n",
       "    }\n",
       "\n",
       "    .dataframe thead th {\n",
       "        text-align: right;\n",
       "    }\n",
       "</style>\n",
       "<table border=\"1\" class=\"dataframe\">\n",
       "  <thead>\n",
       "    <tr style=\"text-align: right;\">\n",
       "      <th></th>\n",
       "      <th>MovieID</th>\n",
       "      <th>Title</th>\n",
       "      <th>Genres</th>\n",
       "    </tr>\n",
       "  </thead>\n",
       "  <tbody>\n",
       "    <tr>\n",
       "      <th>0</th>\n",
       "      <td>1</td>\n",
       "      <td>Toy Story (1995)</td>\n",
       "      <td>Animation|Children's|Comedy</td>\n",
       "    </tr>\n",
       "    <tr>\n",
       "      <th>1</th>\n",
       "      <td>2</td>\n",
       "      <td>Jumanji (1995)</td>\n",
       "      <td>Adventure|Children's|Fantasy</td>\n",
       "    </tr>\n",
       "    <tr>\n",
       "      <th>2</th>\n",
       "      <td>3</td>\n",
       "      <td>Grumpier Old Men (1995)</td>\n",
       "      <td>Comedy|Romance</td>\n",
       "    </tr>\n",
       "    <tr>\n",
       "      <th>3</th>\n",
       "      <td>4</td>\n",
       "      <td>Waiting to Exhale (1995)</td>\n",
       "      <td>Comedy|Drama</td>\n",
       "    </tr>\n",
       "    <tr>\n",
       "      <th>4</th>\n",
       "      <td>5</td>\n",
       "      <td>Father of the Bride Part II (1995)</td>\n",
       "      <td>Comedy</td>\n",
       "    </tr>\n",
       "    <tr>\n",
       "      <th>...</th>\n",
       "      <td>...</td>\n",
       "      <td>...</td>\n",
       "      <td>...</td>\n",
       "    </tr>\n",
       "    <tr>\n",
       "      <th>3878</th>\n",
       "      <td>3948</td>\n",
       "      <td>Meet the Parents (2000)</td>\n",
       "      <td>Comedy</td>\n",
       "    </tr>\n",
       "    <tr>\n",
       "      <th>3879</th>\n",
       "      <td>3949</td>\n",
       "      <td>Requiem for a Dream (2000)</td>\n",
       "      <td>Drama</td>\n",
       "    </tr>\n",
       "    <tr>\n",
       "      <th>3880</th>\n",
       "      <td>3950</td>\n",
       "      <td>Tigerland (2000)</td>\n",
       "      <td>Drama</td>\n",
       "    </tr>\n",
       "    <tr>\n",
       "      <th>3881</th>\n",
       "      <td>3951</td>\n",
       "      <td>Two Family House (2000)</td>\n",
       "      <td>Drama</td>\n",
       "    </tr>\n",
       "    <tr>\n",
       "      <th>3882</th>\n",
       "      <td>3952</td>\n",
       "      <td>Contender, The (2000)</td>\n",
       "      <td>Drama|Thriller</td>\n",
       "    </tr>\n",
       "  </tbody>\n",
       "</table>\n",
       "<p>3883 rows × 3 columns</p>\n",
       "</div>"
      ],
      "text/plain": [
       "      MovieID                               Title                        Genres\n",
       "0           1                    Toy Story (1995)   Animation|Children's|Comedy\n",
       "1           2                      Jumanji (1995)  Adventure|Children's|Fantasy\n",
       "2           3             Grumpier Old Men (1995)                Comedy|Romance\n",
       "3           4            Waiting to Exhale (1995)                  Comedy|Drama\n",
       "4           5  Father of the Bride Part II (1995)                        Comedy\n",
       "...       ...                                 ...                           ...\n",
       "3878     3948             Meet the Parents (2000)                        Comedy\n",
       "3879     3949          Requiem for a Dream (2000)                         Drama\n",
       "3880     3950                    Tigerland (2000)                         Drama\n",
       "3881     3951             Two Family House (2000)                         Drama\n",
       "3882     3952               Contender, The (2000)                Drama|Thriller\n",
       "\n",
       "[3883 rows x 3 columns]"
      ]
     },
     "execution_count": 12,
     "metadata": {},
     "output_type": "execute_result"
    }
   ],
   "source": [
    "df_movie = pd.read_csv(r'D:\\文件\\学习\\数据集\\【推荐系统】\\MovieLens\\movies.csv')\n",
    "df_movie"
   ]
  },
  {
   "cell_type": "code",
   "execution_count": null,
   "metadata": {},
   "outputs": [],
   "source": []
  }
 ],
 "metadata": {
  "kernelspec": {
   "display_name": "Python 3.8.3 64-bit ('base': conda)",
   "language": "python",
   "name": "python38364bitbasecondad9bd0a7157c84fa7bace955ad09d0846"
  },
  "language_info": {
   "codemirror_mode": {
    "name": "ipython",
    "version": 3
   },
   "file_extension": ".py",
   "mimetype": "text/x-python",
   "name": "python",
   "nbconvert_exporter": "python",
   "pygments_lexer": "ipython3",
   "version": "3.8.3"
  }
 },
 "nbformat": 4,
 "nbformat_minor": 4
}
