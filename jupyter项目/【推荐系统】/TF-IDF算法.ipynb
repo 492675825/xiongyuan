{
 "cells": [
  {
   "cell_type": "code",
   "execution_count": 1,
   "metadata": {},
   "outputs": [],
   "source": [
    "import pandas as pd\n",
    "import numpy as np"
   ]
  },
  {
   "cell_type": "code",
   "execution_count": 2,
   "metadata": {},
   "outputs": [],
   "source": [
    "#构造数据\n",
    "docA=\"The cat sat on my bed\"\n",
    "docB=\"The dog sat on my knees\"c"
   ]
  },
  {
   "cell_type": "code",
   "execution_count": 3,
   "metadata": {},
   "outputs": [],
   "source": [
    "#3--将每组数据按照空格拆分开\n",
    "bowA=docA.split(\" \")\n",
    "bowB=docB.split(\" \")"
   ]
  },
  {
   "cell_type": "code",
   "execution_count": 4,
   "metadata": {},
   "outputs": [],
   "source": [
    "#4--构建词库,合并数据，去重\n",
    "wordSet = set(bowA).union(set(bowB))"
   ]
  },
  {
   "cell_type": "code",
   "execution_count": 6,
   "metadata": {},
   "outputs": [],
   "source": [
    "#5-用字典的方式将A，B文档赋成{key:0}\n",
    "wordDictA=dict.fromkeys(wordSet,0)\n",
    "wordDictB=dict.fromkeys(wordSet,0)\n",
    "#6--遍历，累加两组文档中出现的单词\n",
    "for word in bowA:\n",
    "    wordDictA[word]=wordDictA[word]+1\n",
    "for word in bowB:\n",
    "    wordDictB[word]=wordDictB[word]+1"
   ]
  },
  {
   "cell_type": "code",
   "execution_count": 9,
   "metadata": {},
   "outputs": [
    {
     "data": {
      "text/html": [
       "<div>\n",
       "<style scoped>\n",
       "    .dataframe tbody tr th:only-of-type {\n",
       "        vertical-align: middle;\n",
       "    }\n",
       "\n",
       "    .dataframe tbody tr th {\n",
       "        vertical-align: top;\n",
       "    }\n",
       "\n",
       "    .dataframe thead th {\n",
       "        text-align: right;\n",
       "    }\n",
       "</style>\n",
       "<table border=\"1\" class=\"dataframe\">\n",
       "  <thead>\n",
       "    <tr style=\"text-align: right;\">\n",
       "      <th></th>\n",
       "      <th>my</th>\n",
       "      <th>dog</th>\n",
       "      <th>on</th>\n",
       "      <th>The</th>\n",
       "      <th>bed</th>\n",
       "      <th>sat</th>\n",
       "      <th>knees</th>\n",
       "      <th>cat</th>\n",
       "    </tr>\n",
       "  </thead>\n",
       "  <tbody>\n",
       "    <tr>\n",
       "      <th>0</th>\n",
       "      <td>1</td>\n",
       "      <td>0</td>\n",
       "      <td>1</td>\n",
       "      <td>1</td>\n",
       "      <td>1</td>\n",
       "      <td>1</td>\n",
       "      <td>0</td>\n",
       "      <td>1</td>\n",
       "    </tr>\n",
       "    <tr>\n",
       "      <th>1</th>\n",
       "      <td>1</td>\n",
       "      <td>1</td>\n",
       "      <td>1</td>\n",
       "      <td>1</td>\n",
       "      <td>0</td>\n",
       "      <td>1</td>\n",
       "      <td>1</td>\n",
       "      <td>0</td>\n",
       "    </tr>\n",
       "  </tbody>\n",
       "</table>\n",
       "</div>"
      ],
      "text/plain": [
       "   my  dog  on  The  bed  sat  knees  cat\n",
       "0   1    0   1    1    1    1      0    1\n",
       "1   1    1   1    1    0    1      1    0"
      ]
     },
     "execution_count": 9,
     "metadata": {},
     "output_type": "execute_result"
    }
   ],
   "source": [
    "#将数据转换成DataFrame格式方便查看\n",
    "pd.DataFrame([wordDictA,wordDictB])"
   ]
  },
  {
   "cell_type": "code",
   "execution_count": 12,
   "metadata": {},
   "outputs": [],
   "source": [
    "#7、构建计算TF（term frequence词频）函数\n",
    "def computeTF(wordDict,bow):  #wordDict表示一篇文档中的单词，bow表示所有文档\n",
    "    #用一个字典对象记录TF\n",
    "    tfDict={}\n",
    "    nbowCount=len(bow) #文档数量\n",
    "    for word,count in wordDict.items():\n",
    "        tfDict[word]=count/nbowCount\n",
    "    return tfDict"
   ]
  },
  {
   "cell_type": "code",
   "execution_count": 13,
   "metadata": {},
   "outputs": [],
   "source": [
    "#调用TF函数\n",
    "tfA=computeTF(wordDictA,bowA)\n",
    "tfB=computeTF(wordDictB,bowB)"
   ]
  },
  {
   "cell_type": "code",
   "execution_count": 15,
   "metadata": {},
   "outputs": [
    {
     "data": {
      "text/plain": [
       "{'my': 0.16666666666666666,\n",
       " 'dog': 0.0,\n",
       " 'on': 0.16666666666666666,\n",
       " 'The': 0.16666666666666666,\n",
       " 'bed': 0.16666666666666666,\n",
       " 'sat': 0.16666666666666666,\n",
       " 'knees': 0.0,\n",
       " 'cat': 0.16666666666666666}"
      ]
     },
     "execution_count": 15,
     "metadata": {},
     "output_type": "execute_result"
    }
   ],
   "source": [
    "tfA"
   ]
  },
  {
   "cell_type": "code",
   "execution_count": 22,
   "metadata": {},
   "outputs": [],
   "source": [
    "#计算IDF（inverse Document Frequency）逆文档频率\n",
    "def computeIDF(wordDictList):\n",
    "    #用一个字典对象保存IDF结果，每个词作为key,初始值为0\n",
    "    idfDict=dict.fromkeys(wordDictList[0],0)\n",
    "    N=len(wordDictList)\n",
    "    import math\n",
    "    for wordDict in wordDictList:\n",
    "        #遍历字典中的每个词汇,统计Ni\n",
    "        for word,count in wordDict.items():\n",
    "            if count>0:\n",
    "                #先把Ni增加1存入到idfDict\n",
    "                idfDict[word]=idfDict[word]+1\n",
    "    #已经得到所有词汇i对应的Ni,现在根据公式把它替换成为最后的IDF值\n",
    "    for word,ni in idfDict.items():\n",
    "        idfDict[word]=math.log10((N+1)/(ni+1))\n",
    "    return idfDict"
   ]
  },
  {
   "cell_type": "code",
   "execution_count": 23,
   "metadata": {},
   "outputs": [
    {
     "data": {
      "text/plain": [
       "{'my': 0.0,\n",
       " 'dog': 0.17609125905568124,\n",
       " 'on': 0.0,\n",
       " 'The': 0.0,\n",
       " 'bed': 0.17609125905568124,\n",
       " 'sat': 0.0,\n",
       " 'knees': 0.17609125905568124,\n",
       " 'cat': 0.17609125905568124}"
      ]
     },
     "execution_count": 23,
     "metadata": {},
     "output_type": "execute_result"
    }
   ],
   "source": [
    "#调用IDF函数\n",
    "idfs=computeIDF([wordDictA,wordDictB])\n",
    "idfs"
   ]
  },
  {
   "cell_type": "code",
   "execution_count": 26,
   "metadata": {},
   "outputs": [],
   "source": [
    "#构造TF-IDF函数\n",
    "def computeTFIDF(tf,idfs):\n",
    "    tfidf={}\n",
    "    for word,tfval in tf.items():\n",
    "        tfidf[word]=tfval*idfs[word]\n",
    "    return tfidf"
   ]
  },
  {
   "cell_type": "code",
   "execution_count": 28,
   "metadata": {},
   "outputs": [
    {
     "data": {
      "text/html": [
       "<div>\n",
       "<style scoped>\n",
       "    .dataframe tbody tr th:only-of-type {\n",
       "        vertical-align: middle;\n",
       "    }\n",
       "\n",
       "    .dataframe tbody tr th {\n",
       "        vertical-align: top;\n",
       "    }\n",
       "\n",
       "    .dataframe thead th {\n",
       "        text-align: right;\n",
       "    }\n",
       "</style>\n",
       "<table border=\"1\" class=\"dataframe\">\n",
       "  <thead>\n",
       "    <tr style=\"text-align: right;\">\n",
       "      <th></th>\n",
       "      <th>my</th>\n",
       "      <th>dog</th>\n",
       "      <th>on</th>\n",
       "      <th>The</th>\n",
       "      <th>bed</th>\n",
       "      <th>sat</th>\n",
       "      <th>knees</th>\n",
       "      <th>cat</th>\n",
       "    </tr>\n",
       "  </thead>\n",
       "  <tbody>\n",
       "    <tr>\n",
       "      <th>0</th>\n",
       "      <td>0.0</td>\n",
       "      <td>0.000000</td>\n",
       "      <td>0.0</td>\n",
       "      <td>0.0</td>\n",
       "      <td>0.029349</td>\n",
       "      <td>0.0</td>\n",
       "      <td>0.000000</td>\n",
       "      <td>0.029349</td>\n",
       "    </tr>\n",
       "    <tr>\n",
       "      <th>1</th>\n",
       "      <td>0.0</td>\n",
       "      <td>0.029349</td>\n",
       "      <td>0.0</td>\n",
       "      <td>0.0</td>\n",
       "      <td>0.000000</td>\n",
       "      <td>0.0</td>\n",
       "      <td>0.029349</td>\n",
       "      <td>0.000000</td>\n",
       "    </tr>\n",
       "  </tbody>\n",
       "</table>\n",
       "</div>"
      ],
      "text/plain": [
       "    my       dog   on  The       bed  sat     knees       cat\n",
       "0  0.0  0.000000  0.0  0.0  0.029349  0.0  0.000000  0.029349\n",
       "1  0.0  0.029349  0.0  0.0  0.000000  0.0  0.029349  0.000000"
      ]
     },
     "execution_count": 28,
     "metadata": {},
     "output_type": "execute_result"
    }
   ],
   "source": [
    "#调用TF-IDF函数\n",
    "tfidfA=computeTFIDF(tfA,idfs)\n",
    "tfidfB=computeTFIDF(tfB,idfs)\n",
    "pd.DataFrame([tfidfA,tfidfB])"
   ]
  },
  {
   "cell_type": "code",
   "execution_count": null,
   "metadata": {},
   "outputs": [],
   "source": []
  }
 ],
 "metadata": {
  "kernelspec": {
   "display_name": "Python 3.8.3 64-bit ('base': conda)",
   "language": "python",
   "name": "python38364bitbasecondad9bd0a7157c84fa7bace955ad09d0846"
  },
  "language_info": {
   "codemirror_mode": {
    "name": "ipython",
    "version": 3
   },
   "file_extension": ".py",
   "mimetype": "text/x-python",
   "name": "python",
   "nbconvert_exporter": "python",
   "pygments_lexer": "ipython3",
   "version": "3.8.3"
  }
 },
 "nbformat": 4,
 "nbformat_minor": 2
}
