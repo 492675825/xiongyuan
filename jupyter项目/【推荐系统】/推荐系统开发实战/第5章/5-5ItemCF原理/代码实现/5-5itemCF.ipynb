{
 "cells": [
  {
   "cell_type": "code",
   "execution_count": 1,
   "metadata": {},
   "outputs": [],
   "source": [
    "import math\n",
    "import pandas as pd\n",
    "import numpy as np"
   ]
  },
  {
   "cell_type": "code",
   "execution_count": null,
   "metadata": {},
   "outputs": [],
   "source": [
    "class ItemCF:\n",
    "    def __init__(self):\n",
    "        self.user_score_dict = self.initUserScore()\n",
    "        self.items_sim = self.ItemSimilarity()\n",
    "\n",
    "    # 初始化数据\n",
    "    def initUserScore(self):\n",
    "        user_score_dict = {\n",
    "            \"A\": {\"a\": 3.0, \"b\": 4.0, \"c\": 0.0, \"d\": 3.5, \"e\": 0.0},\n",
    "            \"B\": {\"a\": 4.0, \"b\": 0.0, \"c\": 4.5, \"d\": 0.0, \"e\": 3.5},\n",
    "            \"C\": {\"a\": 0.0, \"b\": 3.5, \"c\": 0.0, \"d\": 0.0, \"e\": 3.0},\n",
    "            \"D\": {\"a\": 0.0, \"b\": 4.0, \"c\": 0.0, \"d\": 3.5, \"e\": 3.0}\n",
    "        }\n",
    "        return user_score_dict\n",
    "\n",
    "    #计算item之间的相似度\n",
    "    def ItemSimilarity(self):\n",
    "        #相似度矩阵\n",
    "        itemSim = dict()\n",
    "        #物品用户矩阵\n",
    "        item_user_count = dict()\n",
    "        #同现矩阵\n",
    "        count = dict()\n",
    "        #物品用户矩阵实现\n",
    "        for user, item in self.user_score_dict.items():\n",
    "            for i in item.keys():\n",
    "                item_user_count.setdefault(i, 0)\n",
    "                if self.user_score_dict[user][i] >0.0:\n",
    "                    item_user_count[i] += 1\n",
    "                #同现矩阵实现\n",
    "                for j in item.keys():\n",
    "                    count.setdefault(i, {}).setdefault(j,0)\n",
    "                    if(\n",
    "                        self.user_score_dict[user][i] >0.0\n",
    "                        and self.user_score_dict[user][j] >0.0\n",
    "                        and i !=j\n",
    "                    ):\n",
    "                        count[i][j] += 1\n",
    "        #同现矩阵 -> 相似度矩阵\n",
    "        for i, related_items in count.items():\n",
    "            itemSim.setdefault(i, {})\n",
    "            for j, cuv in related_items.items():\n",
    "                itemSim[i].setdefault(j, 0)\n",
    "                itemSim[i][j] = cuv / item_user_count[i]\n",
    "        return itemSim\n",
    "\n",
    "    #预测用户对item的评分\n",
    "    def preUserItemScore(self, userA, item):\n",
    "        score = 0.0\n",
    "        #循环遍历相似度矩阵\n",
    "        for item1 in self.items_sim[item].keys():\n",
    "            if item1 !=item:\n",
    "                score +=(self.items_sim[item][item1] * self.user_score_dict[userA][item1])\n",
    "        return score\n",
    "\n",
    "    #为用户推荐物品\n",
    "    def recommend(self, userA):\n",
    "        #计算userA未评分item的可能评分\n",
    "        user_item_score_dict ={}\n",
    "        for item in self.user_score_dict[userA].keys():\n",
    "            user_item_score_dict[item] = self.preUserItemScore(userA, item)\n",
    "        return user_item_score_dict"
   ]
  },
  {
   "cell_type": "code",
   "execution_count": null,
   "outputs": [],
   "source": [
    "if __name__ == '__main__':\n",
    "    ib= ItemCF()\n",
    "    print(ib.recommend('C'))\n"
   ],
   "metadata": {
    "collapsed": false,
    "pycharm": {
     "name": "#%%\n"
    }
   }
  }
 ],
 "metadata": {
  "kernelspec": {
   "display_name": "Python 3.8.3 64-bit ('base': conda)",
   "language": "python",
   "name": "python38364bitbasecondad9bd0a7157c84fa7bace955ad09d0846"
  },
  "language_info": {
   "codemirror_mode": {
    "name": "ipython",
    "version": 3
   },
   "file_extension": ".py",
   "mimetype": "text/x-python",
   "name": "python",
   "nbconvert_exporter": "python",
   "pygments_lexer": "ipython3",
   "version": "3.8.3"
  }
 },
 "nbformat": 4,
 "nbformat_minor": 4
}