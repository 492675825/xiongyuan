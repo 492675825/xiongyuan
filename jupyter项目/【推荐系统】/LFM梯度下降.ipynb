{
 "metadata": {
  "language_info": {
   "codemirror_mode": {
    "name": "ipython",
    "version": 3
   },
   "file_extension": ".py",
   "mimetype": "text/x-python",
   "name": "python",
   "nbconvert_exporter": "python",
   "pygments_lexer": "ipython3",
   "version": "3.8.3-final"
  },
  "orig_nbformat": 2,
  "kernelspec": {
   "name": "python38364bitbasecondad9bd0a7157c84fa7bace955ad09d0846",
   "display_name": "Python 3.8.3 64-bit ('base': conda)"
  }
 },
 "nbformat": 4,
 "nbformat_minor": 2,
 "cells": [
  {
   "cell_type": "code",
   "execution_count": 13,
   "metadata": {},
   "outputs": [],
   "source": [
    "import pandas as pd \n",
    "import numpy as np "
   ]
  },
  {
   "cell_type": "code",
   "execution_count": 18,
   "metadata": {},
   "outputs": [],
   "source": [
    "#2--构造评分矩阵\n",
    "R=np.array([[4,0,2,0,1],\n",
    "            [2,3,2,0,1],\n",
    "            [4,3,2,1,1],\n",
    "            [1,0,2,2,1],\n",
    "            [4,1,2,0,1],\n",
    "            [4,3,2,1,1]])"
   ]
  },
  {
   "cell_type": "code",
   "execution_count": 35,
   "metadata": {},
   "outputs": [],
   "source": [
    "#3--设定超参数\n",
    "K=5 #隐性特征的维度\n",
    "max_iter=5000 #最大迭代次数\n",
    "alpha=0.0002 #步长\n",
    "lamda=0.004 #正则化系数\n"
   ]
  },
  {
   "cell_type": "code",
   "execution_count": 36,
   "metadata": {},
   "outputs": [],
   "source": [
    "#4--构造LFM梯度下降算法的函数\n",
    "def LFM_grad_desc(R,K=5,max_iter=1000,alpha=0.001,lamda=0.002):\n",
    "    #基本维度参数定义\n",
    "    M=len(R)\n",
    "    N=len(R[0])\n",
    "    #P,Q初始值，随机生成\n",
    "    P=np.random.rand(M,K)\n",
    "    Q=np.random.rand(N,K)\n",
    "    #把Q进行转置\n",
    "    Q=Q.T\n",
    "    #开始迭代\n",
    "    for step in range(max_iter):\n",
    "        #对所有的用户u，物品i做遍历，对应的特征向量Pu,Qi梯度下降\n",
    "        for u in range(M):\n",
    "            for i in range(N):\n",
    "                #对于每一个大于0的评分，求出预测评分误差\n",
    "                if R[u][i]>0:\n",
    "                    eui=np.dot(P[u,:],Q[:,i])-R[u][i]\n",
    "                    #带入公式，按照梯度下降算法更新当前的Pu,Qi\n",
    "                    for k in range(K):\n",
    "                        P[u][k]=P[u][k]-alpha*(2*eui*Q[k][i]+2*lamda*P[u][k])\n",
    "                        Q[k][i]=Q[k][i]-alpha*(2*eui*P[u][k]+2*lamda*Q[k][i])\n",
    "        #u,i遍历完成，所有特征向量更新完成，可以得到P，Q,可以计算育成评分矩阵\n",
    "        predR=np.dot(P,Q)\n",
    "        #计算当前损失函数\n",
    "        cost=0\n",
    "        for u in range(M):\n",
    "            for i in range(N):\n",
    "                if R[u][i]>0:\n",
    "                    cost=cost+(np.dot(P[u,:],Q[:,i])-R[u][i])**2\n",
    "                    #加上正则化项\n",
    "                    for k in range(K):\n",
    "                        cost=cost+lamda*(P[u][k]**2+Q[k][i]**2)\n",
    "        if cost<0.001:\n",
    "            break\n",
    "    return P,Q.T,cost"
   ]
  },
  {
   "cell_type": "code",
   "execution_count": 37,
   "metadata": {
    "tags": []
   },
   "outputs": [
    {
     "output_type": "stream",
     "name": "stdout",
     "text": "[[ 1.21397664  0.44185198  0.55988866  0.87119203  0.30119205]\n [ 0.28312504  1.02412214  0.23689556  0.96806516  0.06080651]\n [ 1.02965976  0.73950381  0.43210785  0.7350411   0.81013375]\n [-0.46262588  0.91098927  0.68737953  1.15827473 -0.02180266]\n [ 1.4577801   0.17013311  0.82600175  0.21954573  0.20607077]\n [ 0.94932986  0.70720916  0.71141918  0.67531287  0.67739028]]\n[[ 1.92781321  0.64717059  1.06005517  0.54171268  0.80153764]\n [ 0.05027905  1.45090959  0.46399309  1.4494197   0.69686971]\n [ 0.50512302  0.78934434  0.70205524  0.8084648   0.14040347]\n [-0.3719581   0.61593327  0.45223151  0.82362557  0.11903821]\n [ 0.22205454  0.38193343  0.59794631  0.3157368  -0.03953677]]\n0.8744054346649918\n[[4 0 2 0 1]\n [2 3 2 0 1]\n [4 3 2 1 1]\n [1 0 2 2 1]\n [4 1 2 0 1]\n [4 3 2 1 1]]\n[[3.93313921 2.43452386 2.10167018 0.82719159 1.03626965]\n [2.03286816 3.05556873 1.90889581 1.4371734  0.89891621]\n [3.96916874 2.95515927 2.11519202 0.96974301 0.9695086 ]\n [1.03634588 3.28107464 1.90134282 1.99543006 1.0227971 ]\n [4.08014449 1.16522106 1.65697881 0.14145533 0.94376221]\n [3.95073854 2.85478609 2.17829011 1.04104916 1.0927396 ]]\n"
    }
   ],
   "source": [
    "#5--调用LFM梯度下降函数\n",
    "P,Q,cost=LFM_grad_desc(R,K,max_iter,alpha,lamda)\n",
    "predR=P.dot(Q.T)\n",
    "print(P)\n",
    "print(Q)\n",
    "print(cost)\n",
    "print(R)\n",
    "print(predR)"
   ]
  },
  {
   "cell_type": "code",
   "execution_count": null,
   "metadata": {},
   "outputs": [],
   "source": []
  }
 ]
}