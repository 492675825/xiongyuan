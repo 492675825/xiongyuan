{
 "cells": [
  {
   "cell_type": "code",
   "execution_count": 2,
   "metadata": {},
   "outputs": [],
   "source": [
    "import pandas as pd\n",
    "import numpy as np"
   ]
  },
  {
   "cell_type": "code",
   "execution_count": 10,
   "metadata": {},
   "outputs": [
    {
     "data": {
      "text/html": [
       "<div>\n",
       "<style scoped>\n",
       "    .dataframe tbody tr th:only-of-type {\n",
       "        vertical-align: middle;\n",
       "    }\n",
       "\n",
       "    .dataframe tbody tr th {\n",
       "        vertical-align: top;\n",
       "    }\n",
       "\n",
       "    .dataframe thead th {\n",
       "        text-align: right;\n",
       "    }\n",
       "</style>\n",
       "<table border=\"1\" class=\"dataframe\">\n",
       "  <thead>\n",
       "    <tr style=\"text-align: right;\">\n",
       "      <th></th>\n",
       "      <th>发长</th>\n",
       "      <th>发质</th>\n",
       "      <th>性别</th>\n",
       "    </tr>\n",
       "  </thead>\n",
       "  <tbody>\n",
       "    <tr>\n",
       "      <th>0</th>\n",
       "      <td>长</td>\n",
       "      <td>粗</td>\n",
       "      <td>男</td>\n",
       "    </tr>\n",
       "    <tr>\n",
       "      <th>1</th>\n",
       "      <td>短</td>\n",
       "      <td>粗</td>\n",
       "      <td>男</td>\n",
       "    </tr>\n",
       "    <tr>\n",
       "      <th>2</th>\n",
       "      <td>短</td>\n",
       "      <td>粗</td>\n",
       "      <td>男</td>\n",
       "    </tr>\n",
       "    <tr>\n",
       "      <th>3</th>\n",
       "      <td>长</td>\n",
       "      <td>细</td>\n",
       "      <td>女</td>\n",
       "    </tr>\n",
       "    <tr>\n",
       "      <th>4</th>\n",
       "      <td>短</td>\n",
       "      <td>细</td>\n",
       "      <td>女</td>\n",
       "    </tr>\n",
       "    <tr>\n",
       "      <th>5</th>\n",
       "      <td>短</td>\n",
       "      <td>粗</td>\n",
       "      <td>女</td>\n",
       "    </tr>\n",
       "    <tr>\n",
       "      <th>6</th>\n",
       "      <td>长</td>\n",
       "      <td>粗</td>\n",
       "      <td>女</td>\n",
       "    </tr>\n",
       "    <tr>\n",
       "      <th>7</th>\n",
       "      <td>长</td>\n",
       "      <td>粗</td>\n",
       "      <td>女</td>\n",
       "    </tr>\n",
       "  </tbody>\n",
       "</table>\n",
       "</div>"
      ],
      "text/plain": [
       "  发长 发质 性别\n",
       "0  长  粗  男\n",
       "1  短  粗  男\n",
       "2  短  粗  男\n",
       "3  长  细  女\n",
       "4  短  细  女\n",
       "5  短  粗  女\n",
       "6  长  粗  女\n",
       "7  长  粗  女"
      ]
     },
     "execution_count": 10,
     "metadata": {},
     "output_type": "execute_result"
    }
   ],
   "source": [
    "#创建数据集\n",
    "df=np.array([['长','粗','男'],\n",
    "           ['短','粗','男'],\n",
    "            ['短','粗','男'],\n",
    "           ['长','细','女'],\n",
    "           ['短','细','女'],\n",
    "           ['短','粗','女'],\n",
    "           ['长','粗','女'],\n",
    "           ['长','粗','女']]) \n",
    "\n",
    "df=pd.DataFrame(df)\n",
    "\n",
    "df.columns=[\"发长\",\"发质\",\"性别\"]\n",
    "\n",
    "df"
   ]
  },
  {
   "cell_type": "code",
   "execution_count": 34,
   "metadata": {},
   "outputs": [],
   "source": [
    "#标签\n",
    "label=df.iloc[:,-1]"
   ]
  },
  {
   "cell_type": "code",
   "execution_count": 36,
   "metadata": {},
   "outputs": [],
   "source": [
    "#特征\n",
    "data=df.iloc[:,0:-1]"
   ]
  },
  {
   "cell_type": "code",
   "execution_count": 64,
   "metadata": {},
   "outputs": [
    {
     "data": {
      "text/plain": [
       "0.04879494069539858"
      ]
     },
     "execution_count": 64,
     "metadata": {},
     "output_type": "execute_result"
    }
   ],
   "source": [
    "#计算发长的PK值\n",
    "data_long_hire=df[df[\"发长\"]==\"长\"]\n",
    "data_short_hire=df[df[\"发长\"]==\"短\"]\n",
    "\n",
    "data_long_hire\n",
    "\n",
    "#总体的信息熵\n",
    "#男比例\n",
    "Ent_male=len(df[df[\"性别\"]==\"男\"])/len(df)\n",
    "Ent_male\n",
    "\n",
    "#女比例\n",
    "Ent_female=len(df[df[\"性别\"]==\"女\"])/len(df)\n",
    "Ent_female\n",
    "\n",
    "#总体的信息熵\n",
    "Ent_whole=-(Ent_male*np.log2(Ent_male)+Ent_female*np.log2(Ent_female))\n",
    "Ent_whole\n",
    "\n",
    "#发长的男女性别比例\n",
    "#长发-男\n",
    "long_male=len(data_long_hire[data_long_hire[\"性别\"]==\"男\"])/len(data_long_hire)\n",
    "long_male\n",
    "\n",
    "#长发-nv\n",
    "long_female=len(data_long_hire[data_long_hire[\"性别\"]==\"女\"])/len(data_long_hire)\n",
    "long_female\n",
    "\n",
    "#长发信息熵\n",
    "Ent_long=-(long_male*np.log2(long_male)+long_female*np.log2(long_female))\n",
    "Ent_long\n",
    "\n",
    "#短发男女性别比例\n",
    "data_short_hire\n",
    "\n",
    "#短-男\n",
    "short_male=len(data_short_hire[data_short_hire[\"性别\"]==\"男\"])/len(data_short_hire)\n",
    "short_male\n",
    "\n",
    "#短-女\n",
    "short_female=len(data_short_hire[data_short_hire[\"性别\"]==\"女\"])/len(data_short_hire)\n",
    "short_female\n",
    "\n",
    "#短发信息熵\n",
    "Ent_short=-(short_male*np.log2(short_male)+short_female*np.log2(short_female))\n",
    "Ent_short\n",
    "\n",
    "#总体中发长占比\n",
    "#短发\n",
    "whole_short_rate=len(df[df[\"发长\"]==\"短\"])/len(df)\n",
    "whole_short_rate\n",
    "\n",
    "#长发\n",
    "whole_long_rate=len(df[df[\"发长\"]==\"长\"])/len(df)\n",
    "whole_long_rate\n",
    "\n",
    "#发长的信息增益\n",
    "Gain_long_or_short=Ent_whole-(whole_short_rate*Ent_short+whole_long_rate*Ent_long)\n",
    "Gain_long_or_short\n"
   ]
  },
  {
   "cell_type": "code",
   "execution_count": null,
   "metadata": {},
   "outputs": [],
   "source": [
    "df[\"发长\"].value_counts()"
   ]
  }
 ],
 "metadata": {
  "kernelspec": {
   "display_name": "Python 3.8.3 64-bit ('base': conda)",
   "language": "python",
   "name": "python38364bitbasecondad9bd0a7157c84fa7bace955ad09d0846"
  },
  "language_info": {
   "codemirror_mode": {
    "name": "ipython",
    "version": 3
   },
   "file_extension": ".py",
   "mimetype": "text/x-python",
   "name": "python",
   "nbconvert_exporter": "python",
   "pygments_lexer": "ipython3",
   "version": "3.8.3"
  }
 },
 "nbformat": 4,
 "nbformat_minor": 4
}
