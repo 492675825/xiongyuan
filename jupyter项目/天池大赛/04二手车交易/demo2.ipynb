{
 "metadata": {
  "language_info": {
   "codemirror_mode": {
    "name": "ipython",
    "version": 3
   },
   "file_extension": ".py",
   "mimetype": "text/x-python",
   "name": "python",
   "nbconvert_exporter": "python",
   "pygments_lexer": "ipython3",
   "version": "3.8.3-final"
  },
  "orig_nbformat": 2,
  "kernelspec": {
   "name": "python38364bitbasecondad9bd0a7157c84fa7bace955ad09d0846",
   "display_name": "Python 3.8.3 64-bit ('base': conda)"
  }
 },
 "nbformat": 4,
 "nbformat_minor": 2,
 "cells": [
  {
   "cell_type": "code",
   "execution_count": 21,
   "metadata": {},
   "outputs": [],
   "source": [
    "import pandas as pd \n",
    "import numpy as np \n",
    "import matplotlib.pyplot as plt \n",
    "import seaborn as sns"
   ]
  },
  {
   "cell_type": "code",
   "execution_count": 22,
   "metadata": {},
   "outputs": [],
   "source": [
    "pd.set_option(\"display.max_columns\",100)\n",
    "pd.set_option(\"expand_frame_repr\",False)"
   ]
  },
  {
   "cell_type": "code",
   "execution_count": 23,
   "metadata": {},
   "outputs": [],
   "source": [
    "train_data=pd.read_csv(r\"D:\\文件\\学习\\数据集\\二手车交易\\trainDataAfterCleaning.csv\",index_col=False)\n",
    "test_data=pd.read_csv(r\"D:\\文件\\学习\\数据集\\二手车交易\\testDataAfterCleaning.csv\",index_col=False)"
   ]
  },
  {
   "cell_type": "code",
   "execution_count": 24,
   "metadata": {},
   "outputs": [
    {
     "output_type": "execute_result",
     "data": {
      "text/plain": [
       "   SaleID    name   regDate  model  brand  bodyType  fuelType  gearbox  power  kilometer  notRepairedDamage  regionCode  seller  offerType  creatDate        v_0       v_1       v_2       v_3       v_4       v_5       v_6       v_7       v_8       v_9      v_10      v_11      v_12      v_13      v_14  price\n",
       "0       0     736  20040402   30.0      6       1.0       0.0      0.0     60       12.5                0.0        1046       0          0   20160404  43.357796  3.966344  0.050257  2.159744  1.143786  0.235676  0.101988  0.129549  0.022816  0.097462 -2.881803  2.804097 -2.420821  0.795292  0.914762   1850\n",
       "1       1    2262  20030301   40.0      1       2.0       0.0      0.0      0       15.0                0.0        4366       0          0   20160309  45.305273  5.236112  0.137925  1.380657 -1.422165  0.264777  0.121004  0.135731  0.026597  0.020582 -4.900482  2.096338 -1.030483 -1.722674  0.245522   3600\n",
       "2       2   14874  20040403  115.0     15       1.0       0.0      0.0    163       12.5                0.0        2806       0          0   20160402  45.978359  4.823792  1.319524 -0.998467 -0.996911  0.251410  0.114912  0.165147  0.062173  0.027075 -4.846749  1.803559  1.565330 -0.832687 -0.229963   6222\n",
       "3       3   71865  19960908  109.0     10       0.0       0.0      1.0    193       15.0                0.0         434       0          0   20160312  45.687478  4.492574 -0.050616  0.883600 -2.228079  0.274293  0.110300  0.121964  0.033395  0.000000 -4.509599  1.285940 -0.501868 -2.438353 -0.478699   2400\n",
       "4       4  111080  20120103  110.0      5       1.0       0.0      0.0     68        5.0                0.0        6977       0          0   20160313  44.383511  2.031433  0.572169 -1.571239  2.246088  0.228036  0.073205  0.091880  0.078819  0.121534 -1.896240  0.910783  0.931110  2.834518  1.923482   5200"
      ],
      "text/html": "<div>\n<style scoped>\n    .dataframe tbody tr th:only-of-type {\n        vertical-align: middle;\n    }\n\n    .dataframe tbody tr th {\n        vertical-align: top;\n    }\n\n    .dataframe thead th {\n        text-align: right;\n    }\n</style>\n<table border=\"1\" class=\"dataframe\">\n  <thead>\n    <tr style=\"text-align: right;\">\n      <th></th>\n      <th>SaleID</th>\n      <th>name</th>\n      <th>regDate</th>\n      <th>model</th>\n      <th>brand</th>\n      <th>bodyType</th>\n      <th>fuelType</th>\n      <th>gearbox</th>\n      <th>power</th>\n      <th>kilometer</th>\n      <th>notRepairedDamage</th>\n      <th>regionCode</th>\n      <th>seller</th>\n      <th>offerType</th>\n      <th>creatDate</th>\n      <th>v_0</th>\n      <th>v_1</th>\n      <th>v_2</th>\n      <th>v_3</th>\n      <th>v_4</th>\n      <th>v_5</th>\n      <th>v_6</th>\n      <th>v_7</th>\n      <th>v_8</th>\n      <th>v_9</th>\n      <th>v_10</th>\n      <th>v_11</th>\n      <th>v_12</th>\n      <th>v_13</th>\n      <th>v_14</th>\n      <th>price</th>\n    </tr>\n  </thead>\n  <tbody>\n    <tr>\n      <th>0</th>\n      <td>0</td>\n      <td>736</td>\n      <td>20040402</td>\n      <td>30.0</td>\n      <td>6</td>\n      <td>1.0</td>\n      <td>0.0</td>\n      <td>0.0</td>\n      <td>60</td>\n      <td>12.5</td>\n      <td>0.0</td>\n      <td>1046</td>\n      <td>0</td>\n      <td>0</td>\n      <td>20160404</td>\n      <td>43.357796</td>\n      <td>3.966344</td>\n      <td>0.050257</td>\n      <td>2.159744</td>\n      <td>1.143786</td>\n      <td>0.235676</td>\n      <td>0.101988</td>\n      <td>0.129549</td>\n      <td>0.022816</td>\n      <td>0.097462</td>\n      <td>-2.881803</td>\n      <td>2.804097</td>\n      <td>-2.420821</td>\n      <td>0.795292</td>\n      <td>0.914762</td>\n      <td>1850</td>\n    </tr>\n    <tr>\n      <th>1</th>\n      <td>1</td>\n      <td>2262</td>\n      <td>20030301</td>\n      <td>40.0</td>\n      <td>1</td>\n      <td>2.0</td>\n      <td>0.0</td>\n      <td>0.0</td>\n      <td>0</td>\n      <td>15.0</td>\n      <td>0.0</td>\n      <td>4366</td>\n      <td>0</td>\n      <td>0</td>\n      <td>20160309</td>\n      <td>45.305273</td>\n      <td>5.236112</td>\n      <td>0.137925</td>\n      <td>1.380657</td>\n      <td>-1.422165</td>\n      <td>0.264777</td>\n      <td>0.121004</td>\n      <td>0.135731</td>\n      <td>0.026597</td>\n      <td>0.020582</td>\n      <td>-4.900482</td>\n      <td>2.096338</td>\n      <td>-1.030483</td>\n      <td>-1.722674</td>\n      <td>0.245522</td>\n      <td>3600</td>\n    </tr>\n    <tr>\n      <th>2</th>\n      <td>2</td>\n      <td>14874</td>\n      <td>20040403</td>\n      <td>115.0</td>\n      <td>15</td>\n      <td>1.0</td>\n      <td>0.0</td>\n      <td>0.0</td>\n      <td>163</td>\n      <td>12.5</td>\n      <td>0.0</td>\n      <td>2806</td>\n      <td>0</td>\n      <td>0</td>\n      <td>20160402</td>\n      <td>45.978359</td>\n      <td>4.823792</td>\n      <td>1.319524</td>\n      <td>-0.998467</td>\n      <td>-0.996911</td>\n      <td>0.251410</td>\n      <td>0.114912</td>\n      <td>0.165147</td>\n      <td>0.062173</td>\n      <td>0.027075</td>\n      <td>-4.846749</td>\n      <td>1.803559</td>\n      <td>1.565330</td>\n      <td>-0.832687</td>\n      <td>-0.229963</td>\n      <td>6222</td>\n    </tr>\n    <tr>\n      <th>3</th>\n      <td>3</td>\n      <td>71865</td>\n      <td>19960908</td>\n      <td>109.0</td>\n      <td>10</td>\n      <td>0.0</td>\n      <td>0.0</td>\n      <td>1.0</td>\n      <td>193</td>\n      <td>15.0</td>\n      <td>0.0</td>\n      <td>434</td>\n      <td>0</td>\n      <td>0</td>\n      <td>20160312</td>\n      <td>45.687478</td>\n      <td>4.492574</td>\n      <td>-0.050616</td>\n      <td>0.883600</td>\n      <td>-2.228079</td>\n      <td>0.274293</td>\n      <td>0.110300</td>\n      <td>0.121964</td>\n      <td>0.033395</td>\n      <td>0.000000</td>\n      <td>-4.509599</td>\n      <td>1.285940</td>\n      <td>-0.501868</td>\n      <td>-2.438353</td>\n      <td>-0.478699</td>\n      <td>2400</td>\n    </tr>\n    <tr>\n      <th>4</th>\n      <td>4</td>\n      <td>111080</td>\n      <td>20120103</td>\n      <td>110.0</td>\n      <td>5</td>\n      <td>1.0</td>\n      <td>0.0</td>\n      <td>0.0</td>\n      <td>68</td>\n      <td>5.0</td>\n      <td>0.0</td>\n      <td>6977</td>\n      <td>0</td>\n      <td>0</td>\n      <td>20160313</td>\n      <td>44.383511</td>\n      <td>2.031433</td>\n      <td>0.572169</td>\n      <td>-1.571239</td>\n      <td>2.246088</td>\n      <td>0.228036</td>\n      <td>0.073205</td>\n      <td>0.091880</td>\n      <td>0.078819</td>\n      <td>0.121534</td>\n      <td>-1.896240</td>\n      <td>0.910783</td>\n      <td>0.931110</td>\n      <td>2.834518</td>\n      <td>1.923482</td>\n      <td>5200</td>\n    </tr>\n  </tbody>\n</table>\n</div>"
     },
     "metadata": {},
     "execution_count": 24
    }
   ],
   "source": [
    "train_data.head()"
   ]
  },
  {
   "cell_type": "code",
   "execution_count": 25,
   "metadata": {},
   "outputs": [
    {
     "output_type": "stream",
     "name": "stdout",
     "text": [
      "<class 'pandas.core.frame.DataFrame'>\nRangeIndex: 149999 entries, 0 to 149998\nData columns (total 31 columns):\n #   Column             Non-Null Count   Dtype  \n---  ------             --------------   -----  \n 0   SaleID             149999 non-null  int64  \n 1   name               149999 non-null  int64  \n 2   regDate            149999 non-null  int64  \n 3   model              149999 non-null  float64\n 4   brand              149999 non-null  int64  \n 5   bodyType           149999 non-null  float64\n 6   fuelType           149999 non-null  float64\n 7   gearbox            149999 non-null  float64\n 8   power              149999 non-null  int64  \n 9   kilometer          149999 non-null  float64\n 10  notRepairedDamage  149999 non-null  float64\n 11  regionCode         149999 non-null  int64  \n 12  seller             149999 non-null  int64  \n 13  offerType          149999 non-null  int64  \n 14  creatDate          149999 non-null  int64  \n 15  v_0                149999 non-null  float64\n 16  v_1                149999 non-null  float64\n 17  v_2                149999 non-null  float64\n 18  v_3                149999 non-null  float64\n 19  v_4                149999 non-null  float64\n 20  v_5                149999 non-null  float64\n 21  v_6                149999 non-null  float64\n 22  v_7                149999 non-null  float64\n 23  v_8                149999 non-null  float64\n 24  v_9                149999 non-null  float64\n 25  v_10               149999 non-null  float64\n 26  v_11               149999 non-null  float64\n 27  v_12               149999 non-null  float64\n 28  v_13               149999 non-null  float64\n 29  v_14               149999 non-null  float64\n 30  price              149999 non-null  int64  \ndtypes: float64(21), int64(10)\nmemory usage: 35.5 MB\n"
     ]
    }
   ],
   "source": [
    "train_data.info()"
   ]
  },
  {
   "cell_type": "code",
   "execution_count": 26,
   "metadata": {},
   "outputs": [
    {
     "output_type": "execute_result",
     "data": {
      "text/plain": [
       "   SaleID    name   regDate  model  brand  bodyType  fuelType  gearbox  power  kilometer  notRepairedDamage  regionCode  seller  offerType  creatDate        v_0       v_1       v_2       v_3       v_4       v_5       v_6       v_7       v_8       v_9      v_10      v_11      v_12      v_13      v_14\n",
       "0  200000  133777  20000501   67.0      0       1.0       0.0      0.0    101       15.0                0.0        5019       0          0   20160308  42.142061 -3.094739 -0.721300  1.466344  1.009846  0.236520  0.000241  0.105319  0.046233  0.094522  3.619512 -0.280607 -2.019761  0.978828  0.803322\n",
       "1  200001   61206  19950211   19.0      6       2.0       0.0      0.0     73        6.0                0.0        1505       0          0   20160310  43.907034 -3.244605 -0.766430  1.276718 -1.065338  0.261518  0.000000  0.120323  0.046784  0.035385  2.997376 -1.406705 -1.020884 -1.349990 -0.200542\n",
       "2  200002   67829  20090606    5.0      5       4.0       0.0      0.0    120        5.0                0.0        1776       0          0   20160309  45.389665  3.372384 -0.965565 -2.447316  0.624268  0.261691  0.090836  0.000000  0.079655  0.073586 -3.951084 -0.433467  0.918964  1.634604  1.027173\n",
       "3  200003    8892  20020601   22.0      9       1.0       0.0      0.0     58       15.0                0.0          26       0          0   20160314  42.788775  4.035052 -0.217403  1.708806  1.119165  0.236050  0.101777  0.098950  0.026830  0.096614 -2.846788  2.800267 -2.524610  1.076819  0.461610\n",
       "4  200004   76998  20030301   46.0      6       0.0       0.0      0.0    116       15.0                0.0         738       0          0   20160306  43.670763 -3.135382 -1.134107  0.470315  0.134032  0.257000  0.000000  0.066732  0.057771  0.068852  2.839010 -1.659801 -0.924142  0.199423  0.451014"
      ],
      "text/html": "<div>\n<style scoped>\n    .dataframe tbody tr th:only-of-type {\n        vertical-align: middle;\n    }\n\n    .dataframe tbody tr th {\n        vertical-align: top;\n    }\n\n    .dataframe thead th {\n        text-align: right;\n    }\n</style>\n<table border=\"1\" class=\"dataframe\">\n  <thead>\n    <tr style=\"text-align: right;\">\n      <th></th>\n      <th>SaleID</th>\n      <th>name</th>\n      <th>regDate</th>\n      <th>model</th>\n      <th>brand</th>\n      <th>bodyType</th>\n      <th>fuelType</th>\n      <th>gearbox</th>\n      <th>power</th>\n      <th>kilometer</th>\n      <th>notRepairedDamage</th>\n      <th>regionCode</th>\n      <th>seller</th>\n      <th>offerType</th>\n      <th>creatDate</th>\n      <th>v_0</th>\n      <th>v_1</th>\n      <th>v_2</th>\n      <th>v_3</th>\n      <th>v_4</th>\n      <th>v_5</th>\n      <th>v_6</th>\n      <th>v_7</th>\n      <th>v_8</th>\n      <th>v_9</th>\n      <th>v_10</th>\n      <th>v_11</th>\n      <th>v_12</th>\n      <th>v_13</th>\n      <th>v_14</th>\n    </tr>\n  </thead>\n  <tbody>\n    <tr>\n      <th>0</th>\n      <td>200000</td>\n      <td>133777</td>\n      <td>20000501</td>\n      <td>67.0</td>\n      <td>0</td>\n      <td>1.0</td>\n      <td>0.0</td>\n      <td>0.0</td>\n      <td>101</td>\n      <td>15.0</td>\n      <td>0.0</td>\n      <td>5019</td>\n      <td>0</td>\n      <td>0</td>\n      <td>20160308</td>\n      <td>42.142061</td>\n      <td>-3.094739</td>\n      <td>-0.721300</td>\n      <td>1.466344</td>\n      <td>1.009846</td>\n      <td>0.236520</td>\n      <td>0.000241</td>\n      <td>0.105319</td>\n      <td>0.046233</td>\n      <td>0.094522</td>\n      <td>3.619512</td>\n      <td>-0.280607</td>\n      <td>-2.019761</td>\n      <td>0.978828</td>\n      <td>0.803322</td>\n    </tr>\n    <tr>\n      <th>1</th>\n      <td>200001</td>\n      <td>61206</td>\n      <td>19950211</td>\n      <td>19.0</td>\n      <td>6</td>\n      <td>2.0</td>\n      <td>0.0</td>\n      <td>0.0</td>\n      <td>73</td>\n      <td>6.0</td>\n      <td>0.0</td>\n      <td>1505</td>\n      <td>0</td>\n      <td>0</td>\n      <td>20160310</td>\n      <td>43.907034</td>\n      <td>-3.244605</td>\n      <td>-0.766430</td>\n      <td>1.276718</td>\n      <td>-1.065338</td>\n      <td>0.261518</td>\n      <td>0.000000</td>\n      <td>0.120323</td>\n      <td>0.046784</td>\n      <td>0.035385</td>\n      <td>2.997376</td>\n      <td>-1.406705</td>\n      <td>-1.020884</td>\n      <td>-1.349990</td>\n      <td>-0.200542</td>\n    </tr>\n    <tr>\n      <th>2</th>\n      <td>200002</td>\n      <td>67829</td>\n      <td>20090606</td>\n      <td>5.0</td>\n      <td>5</td>\n      <td>4.0</td>\n      <td>0.0</td>\n      <td>0.0</td>\n      <td>120</td>\n      <td>5.0</td>\n      <td>0.0</td>\n      <td>1776</td>\n      <td>0</td>\n      <td>0</td>\n      <td>20160309</td>\n      <td>45.389665</td>\n      <td>3.372384</td>\n      <td>-0.965565</td>\n      <td>-2.447316</td>\n      <td>0.624268</td>\n      <td>0.261691</td>\n      <td>0.090836</td>\n      <td>0.000000</td>\n      <td>0.079655</td>\n      <td>0.073586</td>\n      <td>-3.951084</td>\n      <td>-0.433467</td>\n      <td>0.918964</td>\n      <td>1.634604</td>\n      <td>1.027173</td>\n    </tr>\n    <tr>\n      <th>3</th>\n      <td>200003</td>\n      <td>8892</td>\n      <td>20020601</td>\n      <td>22.0</td>\n      <td>9</td>\n      <td>1.0</td>\n      <td>0.0</td>\n      <td>0.0</td>\n      <td>58</td>\n      <td>15.0</td>\n      <td>0.0</td>\n      <td>26</td>\n      <td>0</td>\n      <td>0</td>\n      <td>20160314</td>\n      <td>42.788775</td>\n      <td>4.035052</td>\n      <td>-0.217403</td>\n      <td>1.708806</td>\n      <td>1.119165</td>\n      <td>0.236050</td>\n      <td>0.101777</td>\n      <td>0.098950</td>\n      <td>0.026830</td>\n      <td>0.096614</td>\n      <td>-2.846788</td>\n      <td>2.800267</td>\n      <td>-2.524610</td>\n      <td>1.076819</td>\n      <td>0.461610</td>\n    </tr>\n    <tr>\n      <th>4</th>\n      <td>200004</td>\n      <td>76998</td>\n      <td>20030301</td>\n      <td>46.0</td>\n      <td>6</td>\n      <td>0.0</td>\n      <td>0.0</td>\n      <td>0.0</td>\n      <td>116</td>\n      <td>15.0</td>\n      <td>0.0</td>\n      <td>738</td>\n      <td>0</td>\n      <td>0</td>\n      <td>20160306</td>\n      <td>43.670763</td>\n      <td>-3.135382</td>\n      <td>-1.134107</td>\n      <td>0.470315</td>\n      <td>0.134032</td>\n      <td>0.257000</td>\n      <td>0.000000</td>\n      <td>0.066732</td>\n      <td>0.057771</td>\n      <td>0.068852</td>\n      <td>2.839010</td>\n      <td>-1.659801</td>\n      <td>-0.924142</td>\n      <td>0.199423</td>\n      <td>0.451014</td>\n    </tr>\n  </tbody>\n</table>\n</div>"
     },
     "metadata": {},
     "execution_count": 26
    }
   ],
   "source": [
    "test_data.head()"
   ]
  },
  {
   "cell_type": "code",
   "execution_count": 27,
   "metadata": {},
   "outputs": [
    {
     "output_type": "stream",
     "name": "stdout",
     "text": [
      "<class 'pandas.core.frame.DataFrame'>\nRangeIndex: 50000 entries, 0 to 49999\nData columns (total 30 columns):\n #   Column             Non-Null Count  Dtype  \n---  ------             --------------  -----  \n 0   SaleID             50000 non-null  int64  \n 1   name               50000 non-null  int64  \n 2   regDate            50000 non-null  int64  \n 3   model              50000 non-null  float64\n 4   brand              50000 non-null  int64  \n 5   bodyType           50000 non-null  float64\n 6   fuelType           50000 non-null  float64\n 7   gearbox            50000 non-null  float64\n 8   power              50000 non-null  int64  \n 9   kilometer          50000 non-null  float64\n 10  notRepairedDamage  50000 non-null  float64\n 11  regionCode         50000 non-null  int64  \n 12  seller             50000 non-null  int64  \n 13  offerType          50000 non-null  int64  \n 14  creatDate          50000 non-null  int64  \n 15  v_0                50000 non-null  float64\n 16  v_1                50000 non-null  float64\n 17  v_2                50000 non-null  float64\n 18  v_3                50000 non-null  float64\n 19  v_4                50000 non-null  float64\n 20  v_5                50000 non-null  float64\n 21  v_6                50000 non-null  float64\n 22  v_7                50000 non-null  float64\n 23  v_8                50000 non-null  float64\n 24  v_9                50000 non-null  float64\n 25  v_10               50000 non-null  float64\n 26  v_11               50000 non-null  float64\n 27  v_12               50000 non-null  float64\n 28  v_13               50000 non-null  float64\n 29  v_14               50000 non-null  float64\ndtypes: float64(21), int64(9)\nmemory usage: 11.4 MB\n"
     ]
    }
   ],
   "source": [
    "test_data.info()"
   ]
  },
  {
   "cell_type": "code",
   "execution_count": 28,
   "metadata": {},
   "outputs": [],
   "source": [
    "#特征工程\n",
    "#查看两个表数据之间的差异\n",
    "train_name_data=train_data[['name']].copy().drop_duplicates()\n",
    "test_name_data=test_data[['name']].copy().drop_duplicates()"
   ]
  },
  {
   "cell_type": "code",
   "execution_count": 29,
   "metadata": {},
   "outputs": [],
   "source": [
    "train_name_data['train_flag']=1"
   ]
  },
  {
   "cell_type": "code",
   "execution_count": 30,
   "metadata": {},
   "outputs": [
    {
     "output_type": "execute_result",
     "data": {
      "text/plain": [
       "         name  train_flag\n",
       "0      133777         NaN\n",
       "1       61206         NaN\n",
       "2       67829         NaN\n",
       "3        8892         1.0\n",
       "4       76998         NaN\n",
       "...       ...         ...\n",
       "37531  111443         NaN\n",
       "37532  152834         NaN\n",
       "37533  132531         NaN\n",
       "37534  143405         NaN\n",
       "37535   78202         NaN\n",
       "\n",
       "[37536 rows x 2 columns]"
      ],
      "text/html": "<div>\n<style scoped>\n    .dataframe tbody tr th:only-of-type {\n        vertical-align: middle;\n    }\n\n    .dataframe tbody tr th {\n        vertical-align: top;\n    }\n\n    .dataframe thead th {\n        text-align: right;\n    }\n</style>\n<table border=\"1\" class=\"dataframe\">\n  <thead>\n    <tr style=\"text-align: right;\">\n      <th></th>\n      <th>name</th>\n      <th>train_flag</th>\n    </tr>\n  </thead>\n  <tbody>\n    <tr>\n      <th>0</th>\n      <td>133777</td>\n      <td>NaN</td>\n    </tr>\n    <tr>\n      <th>1</th>\n      <td>61206</td>\n      <td>NaN</td>\n    </tr>\n    <tr>\n      <th>2</th>\n      <td>67829</td>\n      <td>NaN</td>\n    </tr>\n    <tr>\n      <th>3</th>\n      <td>8892</td>\n      <td>1.0</td>\n    </tr>\n    <tr>\n      <th>4</th>\n      <td>76998</td>\n      <td>NaN</td>\n    </tr>\n    <tr>\n      <th>...</th>\n      <td>...</td>\n      <td>...</td>\n    </tr>\n    <tr>\n      <th>37531</th>\n      <td>111443</td>\n      <td>NaN</td>\n    </tr>\n    <tr>\n      <th>37532</th>\n      <td>152834</td>\n      <td>NaN</td>\n    </tr>\n    <tr>\n      <th>37533</th>\n      <td>132531</td>\n      <td>NaN</td>\n    </tr>\n    <tr>\n      <th>37534</th>\n      <td>143405</td>\n      <td>NaN</td>\n    </tr>\n    <tr>\n      <th>37535</th>\n      <td>78202</td>\n      <td>NaN</td>\n    </tr>\n  </tbody>\n</table>\n<p>37536 rows × 2 columns</p>\n</div>"
     },
     "metadata": {},
     "execution_count": 30
    }
   ],
   "source": [
    "merge_name=test_name_data.merge(train_name_data,on='name',how='left')\n",
    "merge_name"
   ]
  },
  {
   "cell_type": "code",
   "execution_count": 31,
   "metadata": {},
   "outputs": [
    {
     "output_type": "execute_result",
     "data": {
      "text/plain": [
       "0.08567042273306509"
      ]
     },
     "metadata": {},
     "execution_count": 31
    }
   ],
   "source": [
    "len(merge_name[merge_name['train_flag']==1])/len(train_name_data)"
   ]
  },
  {
   "cell_type": "code",
   "execution_count": 32,
   "metadata": {},
   "outputs": [
    {
     "output_type": "execute_result",
     "data": {
      "text/plain": [
       "0.2274616368286445"
      ]
     },
     "metadata": {},
     "execution_count": 32
    }
   ],
   "source": [
    "len(merge_name[merge_name['train_flag']==1])/len(test_name_data)"
   ]
  },
  {
   "cell_type": "code",
   "execution_count": 33,
   "metadata": {},
   "outputs": [],
   "source": [
    "train_file=train_data['name'].unique()\n",
    "test_file=test_data['name'].unique()"
   ]
  },
  {
   "cell_type": "code",
   "execution_count": 34,
   "metadata": {},
   "outputs": [
    {
     "output_type": "execute_result",
     "data": {
      "text/plain": [
       "91123"
      ]
     },
     "metadata": {},
     "execution_count": 34
    }
   ],
   "source": [
    "len(set(train_file)-set(test_file))"
   ]
  },
  {
   "cell_type": "code",
   "execution_count": 35,
   "metadata": {},
   "outputs": [
    {
     "output_type": "execute_result",
     "data": {
      "text/plain": [
       "28998"
      ]
     },
     "metadata": {},
     "execution_count": 35
    }
   ],
   "source": [
    "len(set(test_file)-set(train_file))"
   ]
  },
  {
   "cell_type": "code",
   "execution_count": 36,
   "metadata": {},
   "outputs": [],
   "source": [
    "#创建特征创造的函数\n",
    "def add_count_featuren_name(df,col_name,new_name):\n",
    "    single_col=df[[col_name]]\n",
    "    single_col[new_name]=1\n",
    "    single_col=single_col.groupby(col_name).agg('sum').reset_index()\n",
    "    df=df.merge(single_col,on=col_name,how='left')\n",
    "    return df   "
   ]
  },
  {
   "cell_type": "code",
   "execution_count": 37,
   "metadata": {},
   "outputs": [
    {
     "output_type": "execute_result",
     "data": {
      "text/plain": [
       "   SaleID    name   regDate  model  brand  bodyType  fuelType  gearbox  power  kilometer  notRepairedDamage  regionCode  seller  offerType  creatDate        v_0       v_1       v_2       v_3       v_4       v_5       v_6       v_7       v_8       v_9      v_10      v_11      v_12      v_13      v_14  price  name_count\n",
       "0       0     736  20040402   30.0      6       1.0       0.0      0.0     60       12.5                0.0        1046       0          0   20160404  43.357796  3.966344  0.050257  2.159744  1.143786  0.235676  0.101988  0.129549  0.022816  0.097462 -2.881803  2.804097 -2.420821  0.795292  0.914762   1850          78\n",
       "1       1    2262  20030301   40.0      1       2.0       0.0      0.0      0       15.0                0.0        4366       0          0   20160309  45.305273  5.236112  0.137925  1.380657 -1.422165  0.264777  0.121004  0.135731  0.026597  0.020582 -4.900482  2.096338 -1.030483 -1.722674  0.245522   3600          19\n",
       "2       2   14874  20040403  115.0     15       1.0       0.0      0.0    163       12.5                0.0        2806       0          0   20160402  45.978359  4.823792  1.319524 -0.998467 -0.996911  0.251410  0.114912  0.165147  0.062173  0.027075 -4.846749  1.803559  1.565330 -0.832687 -0.229963   6222           2\n",
       "3       3   71865  19960908  109.0     10       0.0       0.0      1.0    193       15.0                0.0         434       0          0   20160312  45.687478  4.492574 -0.050616  0.883600 -2.228079  0.274293  0.110300  0.121964  0.033395  0.000000 -4.509599  1.285940 -0.501868 -2.438353 -0.478699   2400           2\n",
       "4       4  111080  20120103  110.0      5       1.0       0.0      0.0     68        5.0                0.0        6977       0          0   20160313  44.383511  2.031433  0.572169 -1.571239  2.246088  0.228036  0.073205  0.091880  0.078819  0.121534 -1.896240  0.910783  0.931110  2.834518  1.923482   5200           1"
      ],
      "text/html": "<div>\n<style scoped>\n    .dataframe tbody tr th:only-of-type {\n        vertical-align: middle;\n    }\n\n    .dataframe tbody tr th {\n        vertical-align: top;\n    }\n\n    .dataframe thead th {\n        text-align: right;\n    }\n</style>\n<table border=\"1\" class=\"dataframe\">\n  <thead>\n    <tr style=\"text-align: right;\">\n      <th></th>\n      <th>SaleID</th>\n      <th>name</th>\n      <th>regDate</th>\n      <th>model</th>\n      <th>brand</th>\n      <th>bodyType</th>\n      <th>fuelType</th>\n      <th>gearbox</th>\n      <th>power</th>\n      <th>kilometer</th>\n      <th>notRepairedDamage</th>\n      <th>regionCode</th>\n      <th>seller</th>\n      <th>offerType</th>\n      <th>creatDate</th>\n      <th>v_0</th>\n      <th>v_1</th>\n      <th>v_2</th>\n      <th>v_3</th>\n      <th>v_4</th>\n      <th>v_5</th>\n      <th>v_6</th>\n      <th>v_7</th>\n      <th>v_8</th>\n      <th>v_9</th>\n      <th>v_10</th>\n      <th>v_11</th>\n      <th>v_12</th>\n      <th>v_13</th>\n      <th>v_14</th>\n      <th>price</th>\n      <th>name_count</th>\n    </tr>\n  </thead>\n  <tbody>\n    <tr>\n      <th>0</th>\n      <td>0</td>\n      <td>736</td>\n      <td>20040402</td>\n      <td>30.0</td>\n      <td>6</td>\n      <td>1.0</td>\n      <td>0.0</td>\n      <td>0.0</td>\n      <td>60</td>\n      <td>12.5</td>\n      <td>0.0</td>\n      <td>1046</td>\n      <td>0</td>\n      <td>0</td>\n      <td>20160404</td>\n      <td>43.357796</td>\n      <td>3.966344</td>\n      <td>0.050257</td>\n      <td>2.159744</td>\n      <td>1.143786</td>\n      <td>0.235676</td>\n      <td>0.101988</td>\n      <td>0.129549</td>\n      <td>0.022816</td>\n      <td>0.097462</td>\n      <td>-2.881803</td>\n      <td>2.804097</td>\n      <td>-2.420821</td>\n      <td>0.795292</td>\n      <td>0.914762</td>\n      <td>1850</td>\n      <td>78</td>\n    </tr>\n    <tr>\n      <th>1</th>\n      <td>1</td>\n      <td>2262</td>\n      <td>20030301</td>\n      <td>40.0</td>\n      <td>1</td>\n      <td>2.0</td>\n      <td>0.0</td>\n      <td>0.0</td>\n      <td>0</td>\n      <td>15.0</td>\n      <td>0.0</td>\n      <td>4366</td>\n      <td>0</td>\n      <td>0</td>\n      <td>20160309</td>\n      <td>45.305273</td>\n      <td>5.236112</td>\n      <td>0.137925</td>\n      <td>1.380657</td>\n      <td>-1.422165</td>\n      <td>0.264777</td>\n      <td>0.121004</td>\n      <td>0.135731</td>\n      <td>0.026597</td>\n      <td>0.020582</td>\n      <td>-4.900482</td>\n      <td>2.096338</td>\n      <td>-1.030483</td>\n      <td>-1.722674</td>\n      <td>0.245522</td>\n      <td>3600</td>\n      <td>19</td>\n    </tr>\n    <tr>\n      <th>2</th>\n      <td>2</td>\n      <td>14874</td>\n      <td>20040403</td>\n      <td>115.0</td>\n      <td>15</td>\n      <td>1.0</td>\n      <td>0.0</td>\n      <td>0.0</td>\n      <td>163</td>\n      <td>12.5</td>\n      <td>0.0</td>\n      <td>2806</td>\n      <td>0</td>\n      <td>0</td>\n      <td>20160402</td>\n      <td>45.978359</td>\n      <td>4.823792</td>\n      <td>1.319524</td>\n      <td>-0.998467</td>\n      <td>-0.996911</td>\n      <td>0.251410</td>\n      <td>0.114912</td>\n      <td>0.165147</td>\n      <td>0.062173</td>\n      <td>0.027075</td>\n      <td>-4.846749</td>\n      <td>1.803559</td>\n      <td>1.565330</td>\n      <td>-0.832687</td>\n      <td>-0.229963</td>\n      <td>6222</td>\n      <td>2</td>\n    </tr>\n    <tr>\n      <th>3</th>\n      <td>3</td>\n      <td>71865</td>\n      <td>19960908</td>\n      <td>109.0</td>\n      <td>10</td>\n      <td>0.0</td>\n      <td>0.0</td>\n      <td>1.0</td>\n      <td>193</td>\n      <td>15.0</td>\n      <td>0.0</td>\n      <td>434</td>\n      <td>0</td>\n      <td>0</td>\n      <td>20160312</td>\n      <td>45.687478</td>\n      <td>4.492574</td>\n      <td>-0.050616</td>\n      <td>0.883600</td>\n      <td>-2.228079</td>\n      <td>0.274293</td>\n      <td>0.110300</td>\n      <td>0.121964</td>\n      <td>0.033395</td>\n      <td>0.000000</td>\n      <td>-4.509599</td>\n      <td>1.285940</td>\n      <td>-0.501868</td>\n      <td>-2.438353</td>\n      <td>-0.478699</td>\n      <td>2400</td>\n      <td>2</td>\n    </tr>\n    <tr>\n      <th>4</th>\n      <td>4</td>\n      <td>111080</td>\n      <td>20120103</td>\n      <td>110.0</td>\n      <td>5</td>\n      <td>1.0</td>\n      <td>0.0</td>\n      <td>0.0</td>\n      <td>68</td>\n      <td>5.0</td>\n      <td>0.0</td>\n      <td>6977</td>\n      <td>0</td>\n      <td>0</td>\n      <td>20160313</td>\n      <td>44.383511</td>\n      <td>2.031433</td>\n      <td>0.572169</td>\n      <td>-1.571239</td>\n      <td>2.246088</td>\n      <td>0.228036</td>\n      <td>0.073205</td>\n      <td>0.091880</td>\n      <td>0.078819</td>\n      <td>0.121534</td>\n      <td>-1.896240</td>\n      <td>0.910783</td>\n      <td>0.931110</td>\n      <td>2.834518</td>\n      <td>1.923482</td>\n      <td>5200</td>\n      <td>1</td>\n    </tr>\n  </tbody>\n</table>\n</div>"
     },
     "metadata": {},
     "execution_count": 37
    }
   ],
   "source": [
    "#调用函数\n",
    "train_data=add_count_featuren_name(train_data,'name','name_count')\n",
    "train_data.head()"
   ]
  },
  {
   "cell_type": "code",
   "execution_count": 38,
   "metadata": {},
   "outputs": [
    {
     "output_type": "execute_result",
     "data": {
      "text/plain": [
       "   SaleID    name   regDate  model  brand  bodyType  fuelType  gearbox  power  kilometer  notRepairedDamage  regionCode  seller  offerType  creatDate        v_0       v_1       v_2       v_3       v_4       v_5       v_6       v_7       v_8       v_9      v_10      v_11      v_12      v_13      v_14  price  name_count  brand_count\n",
       "0       0     736  20040402   30.0      6       1.0       0.0      0.0     60       12.5                0.0        1046       0          0   20160404  43.357796  3.966344  0.050257  2.159744  1.143786  0.235676  0.101988  0.129549  0.022816  0.097462 -2.881803  2.804097 -2.420821  0.795292  0.914762   1850          78        10217\n",
       "1       1    2262  20030301   40.0      1       2.0       0.0      0.0      0       15.0                0.0        4366       0          0   20160309  45.305273  5.236112  0.137925  1.380657 -1.422165  0.264777  0.121004  0.135731  0.026597  0.020582 -4.900482  2.096338 -1.030483 -1.722674  0.245522   3600          19        13794\n",
       "2       2   14874  20040403  115.0     15       1.0       0.0      0.0    163       12.5                0.0        2806       0          0   20160402  45.978359  4.823792  1.319524 -0.998467 -0.996911  0.251410  0.114912  0.165147  0.062173  0.027075 -4.846749  1.803559  1.565330 -0.832687 -0.229963   6222           2         1458\n",
       "3       3   71865  19960908  109.0     10       0.0       0.0      1.0    193       15.0                0.0         434       0          0   20160312  45.687478  4.492574 -0.050616  0.883600 -2.228079  0.274293  0.110300  0.121964  0.033395  0.000000 -4.509599  1.285940 -0.501868 -2.438353 -0.478699   2400           2        14249\n",
       "4       4  111080  20120103  110.0      5       1.0       0.0      0.0     68        5.0                0.0        6977       0          0   20160313  44.383511  2.031433  0.572169 -1.571239  2.246088  0.228036  0.073205  0.091880  0.078819  0.121534 -1.896240  0.910783  0.931110  2.834518  1.923482   5200           1         4665"
      ],
      "text/html": "<div>\n<style scoped>\n    .dataframe tbody tr th:only-of-type {\n        vertical-align: middle;\n    }\n\n    .dataframe tbody tr th {\n        vertical-align: top;\n    }\n\n    .dataframe thead th {\n        text-align: right;\n    }\n</style>\n<table border=\"1\" class=\"dataframe\">\n  <thead>\n    <tr style=\"text-align: right;\">\n      <th></th>\n      <th>SaleID</th>\n      <th>name</th>\n      <th>regDate</th>\n      <th>model</th>\n      <th>brand</th>\n      <th>bodyType</th>\n      <th>fuelType</th>\n      <th>gearbox</th>\n      <th>power</th>\n      <th>kilometer</th>\n      <th>notRepairedDamage</th>\n      <th>regionCode</th>\n      <th>seller</th>\n      <th>offerType</th>\n      <th>creatDate</th>\n      <th>v_0</th>\n      <th>v_1</th>\n      <th>v_2</th>\n      <th>v_3</th>\n      <th>v_4</th>\n      <th>v_5</th>\n      <th>v_6</th>\n      <th>v_7</th>\n      <th>v_8</th>\n      <th>v_9</th>\n      <th>v_10</th>\n      <th>v_11</th>\n      <th>v_12</th>\n      <th>v_13</th>\n      <th>v_14</th>\n      <th>price</th>\n      <th>name_count</th>\n      <th>brand_count</th>\n    </tr>\n  </thead>\n  <tbody>\n    <tr>\n      <th>0</th>\n      <td>0</td>\n      <td>736</td>\n      <td>20040402</td>\n      <td>30.0</td>\n      <td>6</td>\n      <td>1.0</td>\n      <td>0.0</td>\n      <td>0.0</td>\n      <td>60</td>\n      <td>12.5</td>\n      <td>0.0</td>\n      <td>1046</td>\n      <td>0</td>\n      <td>0</td>\n      <td>20160404</td>\n      <td>43.357796</td>\n      <td>3.966344</td>\n      <td>0.050257</td>\n      <td>2.159744</td>\n      <td>1.143786</td>\n      <td>0.235676</td>\n      <td>0.101988</td>\n      <td>0.129549</td>\n      <td>0.022816</td>\n      <td>0.097462</td>\n      <td>-2.881803</td>\n      <td>2.804097</td>\n      <td>-2.420821</td>\n      <td>0.795292</td>\n      <td>0.914762</td>\n      <td>1850</td>\n      <td>78</td>\n      <td>10217</td>\n    </tr>\n    <tr>\n      <th>1</th>\n      <td>1</td>\n      <td>2262</td>\n      <td>20030301</td>\n      <td>40.0</td>\n      <td>1</td>\n      <td>2.0</td>\n      <td>0.0</td>\n      <td>0.0</td>\n      <td>0</td>\n      <td>15.0</td>\n      <td>0.0</td>\n      <td>4366</td>\n      <td>0</td>\n      <td>0</td>\n      <td>20160309</td>\n      <td>45.305273</td>\n      <td>5.236112</td>\n      <td>0.137925</td>\n      <td>1.380657</td>\n      <td>-1.422165</td>\n      <td>0.264777</td>\n      <td>0.121004</td>\n      <td>0.135731</td>\n      <td>0.026597</td>\n      <td>0.020582</td>\n      <td>-4.900482</td>\n      <td>2.096338</td>\n      <td>-1.030483</td>\n      <td>-1.722674</td>\n      <td>0.245522</td>\n      <td>3600</td>\n      <td>19</td>\n      <td>13794</td>\n    </tr>\n    <tr>\n      <th>2</th>\n      <td>2</td>\n      <td>14874</td>\n      <td>20040403</td>\n      <td>115.0</td>\n      <td>15</td>\n      <td>1.0</td>\n      <td>0.0</td>\n      <td>0.0</td>\n      <td>163</td>\n      <td>12.5</td>\n      <td>0.0</td>\n      <td>2806</td>\n      <td>0</td>\n      <td>0</td>\n      <td>20160402</td>\n      <td>45.978359</td>\n      <td>4.823792</td>\n      <td>1.319524</td>\n      <td>-0.998467</td>\n      <td>-0.996911</td>\n      <td>0.251410</td>\n      <td>0.114912</td>\n      <td>0.165147</td>\n      <td>0.062173</td>\n      <td>0.027075</td>\n      <td>-4.846749</td>\n      <td>1.803559</td>\n      <td>1.565330</td>\n      <td>-0.832687</td>\n      <td>-0.229963</td>\n      <td>6222</td>\n      <td>2</td>\n      <td>1458</td>\n    </tr>\n    <tr>\n      <th>3</th>\n      <td>3</td>\n      <td>71865</td>\n      <td>19960908</td>\n      <td>109.0</td>\n      <td>10</td>\n      <td>0.0</td>\n      <td>0.0</td>\n      <td>1.0</td>\n      <td>193</td>\n      <td>15.0</td>\n      <td>0.0</td>\n      <td>434</td>\n      <td>0</td>\n      <td>0</td>\n      <td>20160312</td>\n      <td>45.687478</td>\n      <td>4.492574</td>\n      <td>-0.050616</td>\n      <td>0.883600</td>\n      <td>-2.228079</td>\n      <td>0.274293</td>\n      <td>0.110300</td>\n      <td>0.121964</td>\n      <td>0.033395</td>\n      <td>0.000000</td>\n      <td>-4.509599</td>\n      <td>1.285940</td>\n      <td>-0.501868</td>\n      <td>-2.438353</td>\n      <td>-0.478699</td>\n      <td>2400</td>\n      <td>2</td>\n      <td>14249</td>\n    </tr>\n    <tr>\n      <th>4</th>\n      <td>4</td>\n      <td>111080</td>\n      <td>20120103</td>\n      <td>110.0</td>\n      <td>5</td>\n      <td>1.0</td>\n      <td>0.0</td>\n      <td>0.0</td>\n      <td>68</td>\n      <td>5.0</td>\n      <td>0.0</td>\n      <td>6977</td>\n      <td>0</td>\n      <td>0</td>\n      <td>20160313</td>\n      <td>44.383511</td>\n      <td>2.031433</td>\n      <td>0.572169</td>\n      <td>-1.571239</td>\n      <td>2.246088</td>\n      <td>0.228036</td>\n      <td>0.073205</td>\n      <td>0.091880</td>\n      <td>0.078819</td>\n      <td>0.121534</td>\n      <td>-1.896240</td>\n      <td>0.910783</td>\n      <td>0.931110</td>\n      <td>2.834518</td>\n      <td>1.923482</td>\n      <td>5200</td>\n      <td>1</td>\n      <td>4665</td>\n    </tr>\n  </tbody>\n</table>\n</div>"
     },
     "metadata": {},
     "execution_count": 38
    }
   ],
   "source": [
    "train_data=add_count_featuren_name(train_data,'brand','brand_count')\n",
    "train_data.head()"
   ]
  },
  {
   "cell_type": "code",
   "execution_count": 39,
   "metadata": {},
   "outputs": [
    {
     "output_type": "execute_result",
     "data": {
      "text/plain": [
       "   SaleID    name   regDate  model  brand  bodyType  fuelType  gearbox  power  kilometer  notRepairedDamage  regionCode  seller  offerType  creatDate        v_0       v_1       v_2       v_3       v_4       v_5       v_6       v_7       v_8       v_9      v_10      v_11      v_12      v_13      v_14  price  name_count  brand_count  bodyType_count\n",
       "0       0     736  20040402   30.0      6       1.0       0.0      0.0     60       12.5                0.0        1046       0          0   20160404  43.357796  3.966344  0.050257  2.159744  1.143786  0.235676  0.101988  0.129549  0.022816  0.097462 -2.881803  2.804097 -2.420821  0.795292  0.914762   1850          78        10217           39778\n",
       "1       1    2262  20030301   40.0      1       2.0       0.0      0.0      0       15.0                0.0        4366       0          0   20160309  45.305273  5.236112  0.137925  1.380657 -1.422165  0.264777  0.121004  0.135731  0.026597  0.020582 -4.900482  2.096338 -1.030483 -1.722674  0.245522   3600          19        13794           30324\n",
       "2       2   14874  20040403  115.0     15       1.0       0.0      0.0    163       12.5                0.0        2806       0          0   20160402  45.978359  4.823792  1.319524 -0.998467 -0.996911  0.251410  0.114912  0.165147  0.062173  0.027075 -4.846749  1.803559  1.565330 -0.832687 -0.229963   6222           2         1458           39778\n",
       "3       3   71865  19960908  109.0     10       0.0       0.0      1.0    193       15.0                0.0         434       0          0   20160312  45.687478  4.492574 -0.050616  0.883600 -2.228079  0.274293  0.110300  0.121964  0.033395  0.000000 -4.509599  1.285940 -0.501868 -2.438353 -0.478699   2400           2        14249           41420\n",
       "4       4  111080  20120103  110.0      5       1.0       0.0      0.0     68        5.0                0.0        6977       0          0   20160313  44.383511  2.031433  0.572169 -1.571239  2.246088  0.228036  0.073205  0.091880  0.078819  0.121534 -1.896240  0.910783  0.931110  2.834518  1.923482   5200           1         4665           39778"
      ],
      "text/html": "<div>\n<style scoped>\n    .dataframe tbody tr th:only-of-type {\n        vertical-align: middle;\n    }\n\n    .dataframe tbody tr th {\n        vertical-align: top;\n    }\n\n    .dataframe thead th {\n        text-align: right;\n    }\n</style>\n<table border=\"1\" class=\"dataframe\">\n  <thead>\n    <tr style=\"text-align: right;\">\n      <th></th>\n      <th>SaleID</th>\n      <th>name</th>\n      <th>regDate</th>\n      <th>model</th>\n      <th>brand</th>\n      <th>bodyType</th>\n      <th>fuelType</th>\n      <th>gearbox</th>\n      <th>power</th>\n      <th>kilometer</th>\n      <th>notRepairedDamage</th>\n      <th>regionCode</th>\n      <th>seller</th>\n      <th>offerType</th>\n      <th>creatDate</th>\n      <th>v_0</th>\n      <th>v_1</th>\n      <th>v_2</th>\n      <th>v_3</th>\n      <th>v_4</th>\n      <th>v_5</th>\n      <th>v_6</th>\n      <th>v_7</th>\n      <th>v_8</th>\n      <th>v_9</th>\n      <th>v_10</th>\n      <th>v_11</th>\n      <th>v_12</th>\n      <th>v_13</th>\n      <th>v_14</th>\n      <th>price</th>\n      <th>name_count</th>\n      <th>brand_count</th>\n      <th>bodyType_count</th>\n    </tr>\n  </thead>\n  <tbody>\n    <tr>\n      <th>0</th>\n      <td>0</td>\n      <td>736</td>\n      <td>20040402</td>\n      <td>30.0</td>\n      <td>6</td>\n      <td>1.0</td>\n      <td>0.0</td>\n      <td>0.0</td>\n      <td>60</td>\n      <td>12.5</td>\n      <td>0.0</td>\n      <td>1046</td>\n      <td>0</td>\n      <td>0</td>\n      <td>20160404</td>\n      <td>43.357796</td>\n      <td>3.966344</td>\n      <td>0.050257</td>\n      <td>2.159744</td>\n      <td>1.143786</td>\n      <td>0.235676</td>\n      <td>0.101988</td>\n      <td>0.129549</td>\n      <td>0.022816</td>\n      <td>0.097462</td>\n      <td>-2.881803</td>\n      <td>2.804097</td>\n      <td>-2.420821</td>\n      <td>0.795292</td>\n      <td>0.914762</td>\n      <td>1850</td>\n      <td>78</td>\n      <td>10217</td>\n      <td>39778</td>\n    </tr>\n    <tr>\n      <th>1</th>\n      <td>1</td>\n      <td>2262</td>\n      <td>20030301</td>\n      <td>40.0</td>\n      <td>1</td>\n      <td>2.0</td>\n      <td>0.0</td>\n      <td>0.0</td>\n      <td>0</td>\n      <td>15.0</td>\n      <td>0.0</td>\n      <td>4366</td>\n      <td>0</td>\n      <td>0</td>\n      <td>20160309</td>\n      <td>45.305273</td>\n      <td>5.236112</td>\n      <td>0.137925</td>\n      <td>1.380657</td>\n      <td>-1.422165</td>\n      <td>0.264777</td>\n      <td>0.121004</td>\n      <td>0.135731</td>\n      <td>0.026597</td>\n      <td>0.020582</td>\n      <td>-4.900482</td>\n      <td>2.096338</td>\n      <td>-1.030483</td>\n      <td>-1.722674</td>\n      <td>0.245522</td>\n      <td>3600</td>\n      <td>19</td>\n      <td>13794</td>\n      <td>30324</td>\n    </tr>\n    <tr>\n      <th>2</th>\n      <td>2</td>\n      <td>14874</td>\n      <td>20040403</td>\n      <td>115.0</td>\n      <td>15</td>\n      <td>1.0</td>\n      <td>0.0</td>\n      <td>0.0</td>\n      <td>163</td>\n      <td>12.5</td>\n      <td>0.0</td>\n      <td>2806</td>\n      <td>0</td>\n      <td>0</td>\n      <td>20160402</td>\n      <td>45.978359</td>\n      <td>4.823792</td>\n      <td>1.319524</td>\n      <td>-0.998467</td>\n      <td>-0.996911</td>\n      <td>0.251410</td>\n      <td>0.114912</td>\n      <td>0.165147</td>\n      <td>0.062173</td>\n      <td>0.027075</td>\n      <td>-4.846749</td>\n      <td>1.803559</td>\n      <td>1.565330</td>\n      <td>-0.832687</td>\n      <td>-0.229963</td>\n      <td>6222</td>\n      <td>2</td>\n      <td>1458</td>\n      <td>39778</td>\n    </tr>\n    <tr>\n      <th>3</th>\n      <td>3</td>\n      <td>71865</td>\n      <td>19960908</td>\n      <td>109.0</td>\n      <td>10</td>\n      <td>0.0</td>\n      <td>0.0</td>\n      <td>1.0</td>\n      <td>193</td>\n      <td>15.0</td>\n      <td>0.0</td>\n      <td>434</td>\n      <td>0</td>\n      <td>0</td>\n      <td>20160312</td>\n      <td>45.687478</td>\n      <td>4.492574</td>\n      <td>-0.050616</td>\n      <td>0.883600</td>\n      <td>-2.228079</td>\n      <td>0.274293</td>\n      <td>0.110300</td>\n      <td>0.121964</td>\n      <td>0.033395</td>\n      <td>0.000000</td>\n      <td>-4.509599</td>\n      <td>1.285940</td>\n      <td>-0.501868</td>\n      <td>-2.438353</td>\n      <td>-0.478699</td>\n      <td>2400</td>\n      <td>2</td>\n      <td>14249</td>\n      <td>41420</td>\n    </tr>\n    <tr>\n      <th>4</th>\n      <td>4</td>\n      <td>111080</td>\n      <td>20120103</td>\n      <td>110.0</td>\n      <td>5</td>\n      <td>1.0</td>\n      <td>0.0</td>\n      <td>0.0</td>\n      <td>68</td>\n      <td>5.0</td>\n      <td>0.0</td>\n      <td>6977</td>\n      <td>0</td>\n      <td>0</td>\n      <td>20160313</td>\n      <td>44.383511</td>\n      <td>2.031433</td>\n      <td>0.572169</td>\n      <td>-1.571239</td>\n      <td>2.246088</td>\n      <td>0.228036</td>\n      <td>0.073205</td>\n      <td>0.091880</td>\n      <td>0.078819</td>\n      <td>0.121534</td>\n      <td>-1.896240</td>\n      <td>0.910783</td>\n      <td>0.931110</td>\n      <td>2.834518</td>\n      <td>1.923482</td>\n      <td>5200</td>\n      <td>1</td>\n      <td>4665</td>\n      <td>39778</td>\n    </tr>\n  </tbody>\n</table>\n</div>"
     },
     "metadata": {},
     "execution_count": 39
    }
   ],
   "source": [
    "train_data=add_count_featuren_name(train_data,'bodyType','bodyType_count')\n",
    "train_data.head()"
   ]
  },
  {
   "cell_type": "code",
   "execution_count": 40,
   "metadata": {},
   "outputs": [
    {
     "output_type": "execute_result",
     "data": {
      "text/plain": [
       "   SaleID    name   regDate  model  brand  bodyType  fuelType  gearbox  power  kilometer  notRepairedDamage  regionCode  seller  offerType  creatDate        v_0       v_1       v_2       v_3       v_4       v_5       v_6       v_7       v_8       v_9      v_10      v_11      v_12      v_13      v_14  price  name_count  brand_count  bodyType_count  fuelType_count\n",
       "0       0     736  20040402   30.0      6       1.0       0.0      0.0     60       12.5                0.0        1046       0          0   20160404  43.357796  3.966344  0.050257  2.159744  1.143786  0.235676  0.101988  0.129549  0.022816  0.097462 -2.881803  2.804097 -2.420821  0.795292  0.914762   1850          78        10217           39778          100336\n",
       "1       1    2262  20030301   40.0      1       2.0       0.0      0.0      0       15.0                0.0        4366       0          0   20160309  45.305273  5.236112  0.137925  1.380657 -1.422165  0.264777  0.121004  0.135731  0.026597  0.020582 -4.900482  2.096338 -1.030483 -1.722674  0.245522   3600          19        13794           30324          100336\n",
       "2       2   14874  20040403  115.0     15       1.0       0.0      0.0    163       12.5                0.0        2806       0          0   20160402  45.978359  4.823792  1.319524 -0.998467 -0.996911  0.251410  0.114912  0.165147  0.062173  0.027075 -4.846749  1.803559  1.565330 -0.832687 -0.229963   6222           2         1458           39778          100336\n",
       "3       3   71865  19960908  109.0     10       0.0       0.0      1.0    193       15.0                0.0         434       0          0   20160312  45.687478  4.492574 -0.050616  0.883600 -2.228079  0.274293  0.110300  0.121964  0.033395  0.000000 -4.509599  1.285940 -0.501868 -2.438353 -0.478699   2400           2        14249           41420          100336\n",
       "4       4  111080  20120103  110.0      5       1.0       0.0      0.0     68        5.0                0.0        6977       0          0   20160313  44.383511  2.031433  0.572169 -1.571239  2.246088  0.228036  0.073205  0.091880  0.078819  0.121534 -1.896240  0.910783  0.931110  2.834518  1.923482   5200           1         4665           39778          100336"
      ],
      "text/html": "<div>\n<style scoped>\n    .dataframe tbody tr th:only-of-type {\n        vertical-align: middle;\n    }\n\n    .dataframe tbody tr th {\n        vertical-align: top;\n    }\n\n    .dataframe thead th {\n        text-align: right;\n    }\n</style>\n<table border=\"1\" class=\"dataframe\">\n  <thead>\n    <tr style=\"text-align: right;\">\n      <th></th>\n      <th>SaleID</th>\n      <th>name</th>\n      <th>regDate</th>\n      <th>model</th>\n      <th>brand</th>\n      <th>bodyType</th>\n      <th>fuelType</th>\n      <th>gearbox</th>\n      <th>power</th>\n      <th>kilometer</th>\n      <th>notRepairedDamage</th>\n      <th>regionCode</th>\n      <th>seller</th>\n      <th>offerType</th>\n      <th>creatDate</th>\n      <th>v_0</th>\n      <th>v_1</th>\n      <th>v_2</th>\n      <th>v_3</th>\n      <th>v_4</th>\n      <th>v_5</th>\n      <th>v_6</th>\n      <th>v_7</th>\n      <th>v_8</th>\n      <th>v_9</th>\n      <th>v_10</th>\n      <th>v_11</th>\n      <th>v_12</th>\n      <th>v_13</th>\n      <th>v_14</th>\n      <th>price</th>\n      <th>name_count</th>\n      <th>brand_count</th>\n      <th>bodyType_count</th>\n      <th>fuelType_count</th>\n    </tr>\n  </thead>\n  <tbody>\n    <tr>\n      <th>0</th>\n      <td>0</td>\n      <td>736</td>\n      <td>20040402</td>\n      <td>30.0</td>\n      <td>6</td>\n      <td>1.0</td>\n      <td>0.0</td>\n      <td>0.0</td>\n      <td>60</td>\n      <td>12.5</td>\n      <td>0.0</td>\n      <td>1046</td>\n      <td>0</td>\n      <td>0</td>\n      <td>20160404</td>\n      <td>43.357796</td>\n      <td>3.966344</td>\n      <td>0.050257</td>\n      <td>2.159744</td>\n      <td>1.143786</td>\n      <td>0.235676</td>\n      <td>0.101988</td>\n      <td>0.129549</td>\n      <td>0.022816</td>\n      <td>0.097462</td>\n      <td>-2.881803</td>\n      <td>2.804097</td>\n      <td>-2.420821</td>\n      <td>0.795292</td>\n      <td>0.914762</td>\n      <td>1850</td>\n      <td>78</td>\n      <td>10217</td>\n      <td>39778</td>\n      <td>100336</td>\n    </tr>\n    <tr>\n      <th>1</th>\n      <td>1</td>\n      <td>2262</td>\n      <td>20030301</td>\n      <td>40.0</td>\n      <td>1</td>\n      <td>2.0</td>\n      <td>0.0</td>\n      <td>0.0</td>\n      <td>0</td>\n      <td>15.0</td>\n      <td>0.0</td>\n      <td>4366</td>\n      <td>0</td>\n      <td>0</td>\n      <td>20160309</td>\n      <td>45.305273</td>\n      <td>5.236112</td>\n      <td>0.137925</td>\n      <td>1.380657</td>\n      <td>-1.422165</td>\n      <td>0.264777</td>\n      <td>0.121004</td>\n      <td>0.135731</td>\n      <td>0.026597</td>\n      <td>0.020582</td>\n      <td>-4.900482</td>\n      <td>2.096338</td>\n      <td>-1.030483</td>\n      <td>-1.722674</td>\n      <td>0.245522</td>\n      <td>3600</td>\n      <td>19</td>\n      <td>13794</td>\n      <td>30324</td>\n      <td>100336</td>\n    </tr>\n    <tr>\n      <th>2</th>\n      <td>2</td>\n      <td>14874</td>\n      <td>20040403</td>\n      <td>115.0</td>\n      <td>15</td>\n      <td>1.0</td>\n      <td>0.0</td>\n      <td>0.0</td>\n      <td>163</td>\n      <td>12.5</td>\n      <td>0.0</td>\n      <td>2806</td>\n      <td>0</td>\n      <td>0</td>\n      <td>20160402</td>\n      <td>45.978359</td>\n      <td>4.823792</td>\n      <td>1.319524</td>\n      <td>-0.998467</td>\n      <td>-0.996911</td>\n      <td>0.251410</td>\n      <td>0.114912</td>\n      <td>0.165147</td>\n      <td>0.062173</td>\n      <td>0.027075</td>\n      <td>-4.846749</td>\n      <td>1.803559</td>\n      <td>1.565330</td>\n      <td>-0.832687</td>\n      <td>-0.229963</td>\n      <td>6222</td>\n      <td>2</td>\n      <td>1458</td>\n      <td>39778</td>\n      <td>100336</td>\n    </tr>\n    <tr>\n      <th>3</th>\n      <td>3</td>\n      <td>71865</td>\n      <td>19960908</td>\n      <td>109.0</td>\n      <td>10</td>\n      <td>0.0</td>\n      <td>0.0</td>\n      <td>1.0</td>\n      <td>193</td>\n      <td>15.0</td>\n      <td>0.0</td>\n      <td>434</td>\n      <td>0</td>\n      <td>0</td>\n      <td>20160312</td>\n      <td>45.687478</td>\n      <td>4.492574</td>\n      <td>-0.050616</td>\n      <td>0.883600</td>\n      <td>-2.228079</td>\n      <td>0.274293</td>\n      <td>0.110300</td>\n      <td>0.121964</td>\n      <td>0.033395</td>\n      <td>0.000000</td>\n      <td>-4.509599</td>\n      <td>1.285940</td>\n      <td>-0.501868</td>\n      <td>-2.438353</td>\n      <td>-0.478699</td>\n      <td>2400</td>\n      <td>2</td>\n      <td>14249</td>\n      <td>41420</td>\n      <td>100336</td>\n    </tr>\n    <tr>\n      <th>4</th>\n      <td>4</td>\n      <td>111080</td>\n      <td>20120103</td>\n      <td>110.0</td>\n      <td>5</td>\n      <td>1.0</td>\n      <td>0.0</td>\n      <td>0.0</td>\n      <td>68</td>\n      <td>5.0</td>\n      <td>0.0</td>\n      <td>6977</td>\n      <td>0</td>\n      <td>0</td>\n      <td>20160313</td>\n      <td>44.383511</td>\n      <td>2.031433</td>\n      <td>0.572169</td>\n      <td>-1.571239</td>\n      <td>2.246088</td>\n      <td>0.228036</td>\n      <td>0.073205</td>\n      <td>0.091880</td>\n      <td>0.078819</td>\n      <td>0.121534</td>\n      <td>-1.896240</td>\n      <td>0.910783</td>\n      <td>0.931110</td>\n      <td>2.834518</td>\n      <td>1.923482</td>\n      <td>5200</td>\n      <td>1</td>\n      <td>4665</td>\n      <td>39778</td>\n      <td>100336</td>\n    </tr>\n  </tbody>\n</table>\n</div>"
     },
     "metadata": {},
     "execution_count": 40
    }
   ],
   "source": [
    "train_data=add_count_featuren_name(train_data,'fuelType','fuelType_count')\n",
    "train_data.head()"
   ]
  },
  {
   "cell_type": "code",
   "execution_count": 41,
   "metadata": {},
   "outputs": [
    {
     "output_type": "execute_result",
     "data": {
      "text/plain": [
       "   SaleID    name   regDate  model  brand  bodyType  fuelType  gearbox  power  kilometer  notRepairedDamage  regionCode  seller  offerType  creatDate        v_0       v_1       v_2       v_3       v_4       v_5       v_6       v_7       v_8       v_9      v_10      v_11      v_12      v_13      v_14  price  name_count  brand_count  bodyType_count  fuelType_count  regionCode_count\n",
       "0       0     736  20040402   30.0      6       1.0       0.0      0.0     60       12.5                0.0        1046       0          0   20160404  43.357796  3.966344  0.050257  2.159744  1.143786  0.235676  0.101988  0.129549  0.022816  0.097462 -2.881803  2.804097 -2.420821  0.795292  0.914762   1850          78        10217           39778          100336                34\n",
       "1       1    2262  20030301   40.0      1       2.0       0.0      0.0      0       15.0                0.0        4366       0          0   20160309  45.305273  5.236112  0.137925  1.380657 -1.422165  0.264777  0.121004  0.135731  0.026597  0.020582 -4.900482  2.096338 -1.030483 -1.722674  0.245522   3600          19        13794           30324          100336                 8\n",
       "2       2   14874  20040403  115.0     15       1.0       0.0      0.0    163       12.5                0.0        2806       0          0   20160402  45.978359  4.823792  1.319524 -0.998467 -0.996911  0.251410  0.114912  0.165147  0.062173  0.027075 -4.846749  1.803559  1.565330 -0.832687 -0.229963   6222           2         1458           39778          100336                17\n",
       "3       3   71865  19960908  109.0     10       0.0       0.0      1.0    193       15.0                0.0         434       0          0   20160312  45.687478  4.492574 -0.050616  0.883600 -2.228079  0.274293  0.110300  0.121964  0.033395  0.000000 -4.509599  1.285940 -0.501868 -2.438353 -0.478699   2400           2        14249           41420          100336                38\n",
       "4       4  111080  20120103  110.0      5       1.0       0.0      0.0     68        5.0                0.0        6977       0          0   20160313  44.383511  2.031433  0.572169 -1.571239  2.246088  0.228036  0.073205  0.091880  0.078819  0.121534 -1.896240  0.910783  0.931110  2.834518  1.923482   5200           1         4665           39778          100336                 4"
      ],
      "text/html": "<div>\n<style scoped>\n    .dataframe tbody tr th:only-of-type {\n        vertical-align: middle;\n    }\n\n    .dataframe tbody tr th {\n        vertical-align: top;\n    }\n\n    .dataframe thead th {\n        text-align: right;\n    }\n</style>\n<table border=\"1\" class=\"dataframe\">\n  <thead>\n    <tr style=\"text-align: right;\">\n      <th></th>\n      <th>SaleID</th>\n      <th>name</th>\n      <th>regDate</th>\n      <th>model</th>\n      <th>brand</th>\n      <th>bodyType</th>\n      <th>fuelType</th>\n      <th>gearbox</th>\n      <th>power</th>\n      <th>kilometer</th>\n      <th>notRepairedDamage</th>\n      <th>regionCode</th>\n      <th>seller</th>\n      <th>offerType</th>\n      <th>creatDate</th>\n      <th>v_0</th>\n      <th>v_1</th>\n      <th>v_2</th>\n      <th>v_3</th>\n      <th>v_4</th>\n      <th>v_5</th>\n      <th>v_6</th>\n      <th>v_7</th>\n      <th>v_8</th>\n      <th>v_9</th>\n      <th>v_10</th>\n      <th>v_11</th>\n      <th>v_12</th>\n      <th>v_13</th>\n      <th>v_14</th>\n      <th>price</th>\n      <th>name_count</th>\n      <th>brand_count</th>\n      <th>bodyType_count</th>\n      <th>fuelType_count</th>\n      <th>regionCode_count</th>\n    </tr>\n  </thead>\n  <tbody>\n    <tr>\n      <th>0</th>\n      <td>0</td>\n      <td>736</td>\n      <td>20040402</td>\n      <td>30.0</td>\n      <td>6</td>\n      <td>1.0</td>\n      <td>0.0</td>\n      <td>0.0</td>\n      <td>60</td>\n      <td>12.5</td>\n      <td>0.0</td>\n      <td>1046</td>\n      <td>0</td>\n      <td>0</td>\n      <td>20160404</td>\n      <td>43.357796</td>\n      <td>3.966344</td>\n      <td>0.050257</td>\n      <td>2.159744</td>\n      <td>1.143786</td>\n      <td>0.235676</td>\n      <td>0.101988</td>\n      <td>0.129549</td>\n      <td>0.022816</td>\n      <td>0.097462</td>\n      <td>-2.881803</td>\n      <td>2.804097</td>\n      <td>-2.420821</td>\n      <td>0.795292</td>\n      <td>0.914762</td>\n      <td>1850</td>\n      <td>78</td>\n      <td>10217</td>\n      <td>39778</td>\n      <td>100336</td>\n      <td>34</td>\n    </tr>\n    <tr>\n      <th>1</th>\n      <td>1</td>\n      <td>2262</td>\n      <td>20030301</td>\n      <td>40.0</td>\n      <td>1</td>\n      <td>2.0</td>\n      <td>0.0</td>\n      <td>0.0</td>\n      <td>0</td>\n      <td>15.0</td>\n      <td>0.0</td>\n      <td>4366</td>\n      <td>0</td>\n      <td>0</td>\n      <td>20160309</td>\n      <td>45.305273</td>\n      <td>5.236112</td>\n      <td>0.137925</td>\n      <td>1.380657</td>\n      <td>-1.422165</td>\n      <td>0.264777</td>\n      <td>0.121004</td>\n      <td>0.135731</td>\n      <td>0.026597</td>\n      <td>0.020582</td>\n      <td>-4.900482</td>\n      <td>2.096338</td>\n      <td>-1.030483</td>\n      <td>-1.722674</td>\n      <td>0.245522</td>\n      <td>3600</td>\n      <td>19</td>\n      <td>13794</td>\n      <td>30324</td>\n      <td>100336</td>\n      <td>8</td>\n    </tr>\n    <tr>\n      <th>2</th>\n      <td>2</td>\n      <td>14874</td>\n      <td>20040403</td>\n      <td>115.0</td>\n      <td>15</td>\n      <td>1.0</td>\n      <td>0.0</td>\n      <td>0.0</td>\n      <td>163</td>\n      <td>12.5</td>\n      <td>0.0</td>\n      <td>2806</td>\n      <td>0</td>\n      <td>0</td>\n      <td>20160402</td>\n      <td>45.978359</td>\n      <td>4.823792</td>\n      <td>1.319524</td>\n      <td>-0.998467</td>\n      <td>-0.996911</td>\n      <td>0.251410</td>\n      <td>0.114912</td>\n      <td>0.165147</td>\n      <td>0.062173</td>\n      <td>0.027075</td>\n      <td>-4.846749</td>\n      <td>1.803559</td>\n      <td>1.565330</td>\n      <td>-0.832687</td>\n      <td>-0.229963</td>\n      <td>6222</td>\n      <td>2</td>\n      <td>1458</td>\n      <td>39778</td>\n      <td>100336</td>\n      <td>17</td>\n    </tr>\n    <tr>\n      <th>3</th>\n      <td>3</td>\n      <td>71865</td>\n      <td>19960908</td>\n      <td>109.0</td>\n      <td>10</td>\n      <td>0.0</td>\n      <td>0.0</td>\n      <td>1.0</td>\n      <td>193</td>\n      <td>15.0</td>\n      <td>0.0</td>\n      <td>434</td>\n      <td>0</td>\n      <td>0</td>\n      <td>20160312</td>\n      <td>45.687478</td>\n      <td>4.492574</td>\n      <td>-0.050616</td>\n      <td>0.883600</td>\n      <td>-2.228079</td>\n      <td>0.274293</td>\n      <td>0.110300</td>\n      <td>0.121964</td>\n      <td>0.033395</td>\n      <td>0.000000</td>\n      <td>-4.509599</td>\n      <td>1.285940</td>\n      <td>-0.501868</td>\n      <td>-2.438353</td>\n      <td>-0.478699</td>\n      <td>2400</td>\n      <td>2</td>\n      <td>14249</td>\n      <td>41420</td>\n      <td>100336</td>\n      <td>38</td>\n    </tr>\n    <tr>\n      <th>4</th>\n      <td>4</td>\n      <td>111080</td>\n      <td>20120103</td>\n      <td>110.0</td>\n      <td>5</td>\n      <td>1.0</td>\n      <td>0.0</td>\n      <td>0.0</td>\n      <td>68</td>\n      <td>5.0</td>\n      <td>0.0</td>\n      <td>6977</td>\n      <td>0</td>\n      <td>0</td>\n      <td>20160313</td>\n      <td>44.383511</td>\n      <td>2.031433</td>\n      <td>0.572169</td>\n      <td>-1.571239</td>\n      <td>2.246088</td>\n      <td>0.228036</td>\n      <td>0.073205</td>\n      <td>0.091880</td>\n      <td>0.078819</td>\n      <td>0.121534</td>\n      <td>-1.896240</td>\n      <td>0.910783</td>\n      <td>0.931110</td>\n      <td>2.834518</td>\n      <td>1.923482</td>\n      <td>5200</td>\n      <td>1</td>\n      <td>4665</td>\n      <td>39778</td>\n      <td>100336</td>\n      <td>4</td>\n    </tr>\n  </tbody>\n</table>\n</div>"
     },
     "metadata": {},
     "execution_count": 41
    }
   ],
   "source": [
    "train_data=add_count_featuren_name(train_data,'regionCode','regionCode_count')\n",
    "train_data.head()"
   ]
  },
  {
   "cell_type": "code",
   "execution_count": 42,
   "metadata": {},
   "outputs": [],
   "source": [
    "#删除SaleID\n",
    "train_data=train_data.drop(\"SaleID\",axis=1)"
   ]
  },
  {
   "cell_type": "code",
   "execution_count": 44,
   "metadata": {},
   "outputs": [
    {
     "output_type": "execute_result",
     "data": {
      "text/plain": [
       "     name   regDate  model  brand  bodyType  fuelType  gearbox  power  kilometer  notRepairedDamage  regionCode  seller  offerType  creatDate        v_0       v_1       v_2       v_3       v_4       v_5       v_6       v_7       v_8       v_9      v_10      v_11      v_12      v_13      v_14  price  name_count  brand_count  bodyType_count  fuelType_count  regionCode_count\n",
       "0     736  20040402   30.0      6       1.0       0.0      0.0     60       12.5                0.0        1046       0          0   20160404  43.357796  3.966344  0.050257  2.159744  1.143786  0.235676  0.101988  0.129549  0.022816  0.097462 -2.881803  2.804097 -2.420821  0.795292  0.914762   1850          78        10217           39778          100336                34\n",
       "1    2262  20030301   40.0      1       2.0       0.0      0.0      0       15.0                0.0        4366       0          0   20160309  45.305273  5.236112  0.137925  1.380657 -1.422165  0.264777  0.121004  0.135731  0.026597  0.020582 -4.900482  2.096338 -1.030483 -1.722674  0.245522   3600          19        13794           30324          100336                 8\n",
       "2   14874  20040403  115.0     15       1.0       0.0      0.0    163       12.5                0.0        2806       0          0   20160402  45.978359  4.823792  1.319524 -0.998467 -0.996911  0.251410  0.114912  0.165147  0.062173  0.027075 -4.846749  1.803559  1.565330 -0.832687 -0.229963   6222           2         1458           39778          100336                17\n",
       "3   71865  19960908  109.0     10       0.0       0.0      1.0    193       15.0                0.0         434       0          0   20160312  45.687478  4.492574 -0.050616  0.883600 -2.228079  0.274293  0.110300  0.121964  0.033395  0.000000 -4.509599  1.285940 -0.501868 -2.438353 -0.478699   2400           2        14249           41420          100336                38\n",
       "4  111080  20120103  110.0      5       1.0       0.0      0.0     68        5.0                0.0        6977       0          0   20160313  44.383511  2.031433  0.572169 -1.571239  2.246088  0.228036  0.073205  0.091880  0.078819  0.121534 -1.896240  0.910783  0.931110  2.834518  1.923482   5200           1         4665           39778          100336                 4"
      ],
      "text/html": "<div>\n<style scoped>\n    .dataframe tbody tr th:only-of-type {\n        vertical-align: middle;\n    }\n\n    .dataframe tbody tr th {\n        vertical-align: top;\n    }\n\n    .dataframe thead th {\n        text-align: right;\n    }\n</style>\n<table border=\"1\" class=\"dataframe\">\n  <thead>\n    <tr style=\"text-align: right;\">\n      <th></th>\n      <th>name</th>\n      <th>regDate</th>\n      <th>model</th>\n      <th>brand</th>\n      <th>bodyType</th>\n      <th>fuelType</th>\n      <th>gearbox</th>\n      <th>power</th>\n      <th>kilometer</th>\n      <th>notRepairedDamage</th>\n      <th>regionCode</th>\n      <th>seller</th>\n      <th>offerType</th>\n      <th>creatDate</th>\n      <th>v_0</th>\n      <th>v_1</th>\n      <th>v_2</th>\n      <th>v_3</th>\n      <th>v_4</th>\n      <th>v_5</th>\n      <th>v_6</th>\n      <th>v_7</th>\n      <th>v_8</th>\n      <th>v_9</th>\n      <th>v_10</th>\n      <th>v_11</th>\n      <th>v_12</th>\n      <th>v_13</th>\n      <th>v_14</th>\n      <th>price</th>\n      <th>name_count</th>\n      <th>brand_count</th>\n      <th>bodyType_count</th>\n      <th>fuelType_count</th>\n      <th>regionCode_count</th>\n    </tr>\n  </thead>\n  <tbody>\n    <tr>\n      <th>0</th>\n      <td>736</td>\n      <td>20040402</td>\n      <td>30.0</td>\n      <td>6</td>\n      <td>1.0</td>\n      <td>0.0</td>\n      <td>0.0</td>\n      <td>60</td>\n      <td>12.5</td>\n      <td>0.0</td>\n      <td>1046</td>\n      <td>0</td>\n      <td>0</td>\n      <td>20160404</td>\n      <td>43.357796</td>\n      <td>3.966344</td>\n      <td>0.050257</td>\n      <td>2.159744</td>\n      <td>1.143786</td>\n      <td>0.235676</td>\n      <td>0.101988</td>\n      <td>0.129549</td>\n      <td>0.022816</td>\n      <td>0.097462</td>\n      <td>-2.881803</td>\n      <td>2.804097</td>\n      <td>-2.420821</td>\n      <td>0.795292</td>\n      <td>0.914762</td>\n      <td>1850</td>\n      <td>78</td>\n      <td>10217</td>\n      <td>39778</td>\n      <td>100336</td>\n      <td>34</td>\n    </tr>\n    <tr>\n      <th>1</th>\n      <td>2262</td>\n      <td>20030301</td>\n      <td>40.0</td>\n      <td>1</td>\n      <td>2.0</td>\n      <td>0.0</td>\n      <td>0.0</td>\n      <td>0</td>\n      <td>15.0</td>\n      <td>0.0</td>\n      <td>4366</td>\n      <td>0</td>\n      <td>0</td>\n      <td>20160309</td>\n      <td>45.305273</td>\n      <td>5.236112</td>\n      <td>0.137925</td>\n      <td>1.380657</td>\n      <td>-1.422165</td>\n      <td>0.264777</td>\n      <td>0.121004</td>\n      <td>0.135731</td>\n      <td>0.026597</td>\n      <td>0.020582</td>\n      <td>-4.900482</td>\n      <td>2.096338</td>\n      <td>-1.030483</td>\n      <td>-1.722674</td>\n      <td>0.245522</td>\n      <td>3600</td>\n      <td>19</td>\n      <td>13794</td>\n      <td>30324</td>\n      <td>100336</td>\n      <td>8</td>\n    </tr>\n    <tr>\n      <th>2</th>\n      <td>14874</td>\n      <td>20040403</td>\n      <td>115.0</td>\n      <td>15</td>\n      <td>1.0</td>\n      <td>0.0</td>\n      <td>0.0</td>\n      <td>163</td>\n      <td>12.5</td>\n      <td>0.0</td>\n      <td>2806</td>\n      <td>0</td>\n      <td>0</td>\n      <td>20160402</td>\n      <td>45.978359</td>\n      <td>4.823792</td>\n      <td>1.319524</td>\n      <td>-0.998467</td>\n      <td>-0.996911</td>\n      <td>0.251410</td>\n      <td>0.114912</td>\n      <td>0.165147</td>\n      <td>0.062173</td>\n      <td>0.027075</td>\n      <td>-4.846749</td>\n      <td>1.803559</td>\n      <td>1.565330</td>\n      <td>-0.832687</td>\n      <td>-0.229963</td>\n      <td>6222</td>\n      <td>2</td>\n      <td>1458</td>\n      <td>39778</td>\n      <td>100336</td>\n      <td>17</td>\n    </tr>\n    <tr>\n      <th>3</th>\n      <td>71865</td>\n      <td>19960908</td>\n      <td>109.0</td>\n      <td>10</td>\n      <td>0.0</td>\n      <td>0.0</td>\n      <td>1.0</td>\n      <td>193</td>\n      <td>15.0</td>\n      <td>0.0</td>\n      <td>434</td>\n      <td>0</td>\n      <td>0</td>\n      <td>20160312</td>\n      <td>45.687478</td>\n      <td>4.492574</td>\n      <td>-0.050616</td>\n      <td>0.883600</td>\n      <td>-2.228079</td>\n      <td>0.274293</td>\n      <td>0.110300</td>\n      <td>0.121964</td>\n      <td>0.033395</td>\n      <td>0.000000</td>\n      <td>-4.509599</td>\n      <td>1.285940</td>\n      <td>-0.501868</td>\n      <td>-2.438353</td>\n      <td>-0.478699</td>\n      <td>2400</td>\n      <td>2</td>\n      <td>14249</td>\n      <td>41420</td>\n      <td>100336</td>\n      <td>38</td>\n    </tr>\n    <tr>\n      <th>4</th>\n      <td>111080</td>\n      <td>20120103</td>\n      <td>110.0</td>\n      <td>5</td>\n      <td>1.0</td>\n      <td>0.0</td>\n      <td>0.0</td>\n      <td>68</td>\n      <td>5.0</td>\n      <td>0.0</td>\n      <td>6977</td>\n      <td>0</td>\n      <td>0</td>\n      <td>20160313</td>\n      <td>44.383511</td>\n      <td>2.031433</td>\n      <td>0.572169</td>\n      <td>-1.571239</td>\n      <td>2.246088</td>\n      <td>0.228036</td>\n      <td>0.073205</td>\n      <td>0.091880</td>\n      <td>0.078819</td>\n      <td>0.121534</td>\n      <td>-1.896240</td>\n      <td>0.910783</td>\n      <td>0.931110</td>\n      <td>2.834518</td>\n      <td>1.923482</td>\n      <td>5200</td>\n      <td>1</td>\n      <td>4665</td>\n      <td>39778</td>\n      <td>100336</td>\n      <td>4</td>\n    </tr>\n  </tbody>\n</table>\n</div>"
     },
     "metadata": {},
     "execution_count": 44
    }
   ],
   "source": [
    "train_data.head()\n"
   ]
  },
  {
   "cell_type": "code",
   "execution_count": 45,
   "metadata": {},
   "outputs": [],
   "source": [
    "#切分数据\n",
    "data=train_data.drop('price',axis=1)\n",
    "label=train_data['price']\n",
    "from sklearn.model_selection import KFold\n",
    "kf=KFold(n_splits=5)\n",
    "for train_index,test_index in kf.split(data):\n",
    "    x_train=data.values[train_index]\n",
    "    x_test=data.values[test_index]\n",
    "    y_train=label.values[train_index]\n",
    "    y_test=label.values[test_index]"
   ]
  },
  {
   "cell_type": "code",
   "execution_count": 48,
   "metadata": {},
   "outputs": [
    {
     "output_type": "execute_result",
     "data": {
      "text/plain": [
       "0.9191705329237724"
      ]
     },
     "metadata": {},
     "execution_count": 48
    }
   ],
   "source": [
    "#决策树\n",
    "from sklearn.tree import DecisionTreeRegressor\n",
    "model_dtr=DecisionTreeRegressor()\n",
    "model_dtr.fit(x_train,y_train)\n",
    "model_dtr.score(x_test,y_test)"
   ]
  },
  {
   "cell_type": "code",
   "execution_count": 49,
   "metadata": {},
   "outputs": [
    {
     "output_type": "execute_result",
     "data": {
      "text/plain": [
       "0.9191705329237724"
      ]
     },
     "metadata": {},
     "execution_count": 49
    }
   ],
   "source": [
    "#随机森林\n",
    "from sklearn.ensemble import RandomForestRegressor\n",
    "model_rfr=RandomForestRegressor()\n",
    "model_rfr.fit(x_train,y_train)\n",
    "model_dtr.score(x_test,y_test)"
   ]
  },
  {
   "cell_type": "code",
   "execution_count": 52,
   "metadata": {},
   "outputs": [
    {
     "output_type": "execute_result",
     "data": {
      "text/plain": [
       "0.9656521886050009"
      ]
     },
     "metadata": {},
     "execution_count": 52
    }
   ],
   "source": [
    "#XGB\n",
    "from xgboost import XGBRegressor\n",
    "model_xgb=XGBRegressor()\n",
    "model_xgb.fit(x_train,y_train)\n",
    "model_xgb.score(x_test,y_test)"
   ]
  },
  {
   "cell_type": "code",
   "execution_count": 54,
   "metadata": {},
   "outputs": [],
   "source": [
    "#mse\n",
    "from sklearn.metrics import mean_squared_error\n",
    "def mse(model,x_test,y_test):\n",
    "    y_pred=model.predict(x_test)\n",
    "    mse=mean_squared_error(y_test,y_pred)\n",
    "    return print(\"{}\".format(model),\":\",mse)"
   ]
  },
  {
   "cell_type": "code",
   "execution_count": 55,
   "metadata": {},
   "outputs": [
    {
     "output_type": "stream",
     "name": "stdout",
     "text": [
      "DecisionTreeRegressor() : 4487926.923522451\n"
     ]
    }
   ],
   "source": [
    "mse_dtr=mse(model_dtr,x_test,y_test)"
   ]
  },
  {
   "cell_type": "code",
   "execution_count": 56,
   "metadata": {},
   "outputs": [
    {
     "output_type": "stream",
     "name": "stdout",
     "text": [
      "RandomForestRegressor() : 2121046.898742795\n"
     ]
    }
   ],
   "source": [
    "mse_rfr=mse(model_rfr,x_test,y_test)"
   ]
  },
  {
   "cell_type": "code",
   "execution_count": 57,
   "metadata": {},
   "outputs": [
    {
     "output_type": "stream",
     "name": "stdout",
     "text": [
      "XGBRegressor(base_score=0.5, booster='gbtree', colsample_bylevel=1,\n             colsample_bynode=1, colsample_bytree=1, gamma=0, gpu_id=-1,\n             importance_type='gain', interaction_constraints='',\n             learning_rate=0.300000012, max_delta_step=0, max_depth=6,\n             min_child_weight=1, missing=nan, monotone_constraints='()',\n             n_estimators=100, n_jobs=0, num_parallel_tree=1, random_state=0,\n             reg_alpha=0, reg_lambda=1, scale_pos_weight=1, subsample=1,\n             tree_method='exact', validate_parameters=1, verbosity=None) : 1907107.3099902207\n"
     ]
    }
   ],
   "source": [
    "mse_xgb=mse(model_xgb,x_test,y_test)"
   ]
  },
  {
   "cell_type": "code",
   "execution_count": 58,
   "metadata": {},
   "outputs": [],
   "source": [
    "#模型融合\n",
    "def ronghe(y_pred1,y_pred2):\n",
    "    mean_pred=pd.concat([pd.Series(y_pred1),pd.Series(y_pred2)],axis=1).mean(axis=1)\n",
    "    return mean_pred"
   ]
  },
  {
   "cell_type": "code",
   "execution_count": 59,
   "metadata": {},
   "outputs": [],
   "source": [
    "y_pred1=model_rfr.predict(x_test)\n",
    "y_pred2=model_xgb.predict(x_test)"
   ]
  },
  {
   "cell_type": "code",
   "execution_count": 60,
   "metadata": {},
   "outputs": [],
   "source": [
    "y_pred_mean=ronghe(y_pred1,y_pred2)"
   ]
  },
  {
   "cell_type": "code",
   "execution_count": 61,
   "metadata": {},
   "outputs": [
    {
     "output_type": "execute_result",
     "data": {
      "text/plain": [
       "1837125.4235156532"
      ]
     },
     "metadata": {},
     "execution_count": 61
    }
   ],
   "source": [
    "mse_mean=mean_squared_error(y_test,y_pred_mean)\n",
    "mse_mean"
   ]
  },
  {
   "cell_type": "code",
   "execution_count": null,
   "metadata": {},
   "outputs": [],
   "source": []
  }
 ]
}