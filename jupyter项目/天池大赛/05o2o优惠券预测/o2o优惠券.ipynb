{
 "cells": [
  {
   "cell_type": "code",
   "execution_count": 1,
   "metadata": {},
   "outputs": [],
   "source": [
    "import pandas as pd\n",
    "import numpy as np \n",
    "import matplotlib.pyplot as plt\n",
    "import seaborn as sns"
   ]
  },
  {
   "cell_type": "code",
   "execution_count": 2,
   "metadata": {},
   "outputs": [],
   "source": [
    "pd.set_option(\"display.max_column\",100)\n",
    "pd.set_option(\"expand_frame_repr\",False)"
   ]
  },
  {
   "cell_type": "code",
   "execution_count": 3,
   "metadata": {},
   "outputs": [],
   "source": [
    "off_train_file=r\"D:\\dataset\\o2o\\ccf_offline_stage1_train.csv\"\n",
    "off_test_file=r\"D:\\dataset\\o2o\\ccf_offline_stage1_test_revised.csv\"\n",
    "on_train_file=r\"D:\\dataset\\o2o\\ccf_online_stage1_train.csv\"\n",
    "off_train=pd.read_csv(off_train_file)\n",
    "off_test=pd.read_csv(off_test_file)\n",
    "on_train=pd.read_csv(on_train_file)"
   ]
  },
  {
   "cell_type": "code",
   "execution_count": 4,
   "metadata": {},
   "outputs": [
    {
     "output_type": "execute_result",
     "data": {
      "text/plain": [
       "   User_id  Merchant_id  Coupon_id Discount_rate  Distance  Date_received        Date\n",
       "0  1439408         2632        NaN           NaN       0.0            NaN  20160217.0\n",
       "1  1439408         4663    11002.0        150:20       1.0     20160528.0         NaN\n",
       "2  1439408         2632     8591.0          20:1       0.0     20160217.0         NaN\n",
       "3  1439408         2632     1078.0          20:1       0.0     20160319.0         NaN\n",
       "4  1439408         2632     8591.0          20:1       0.0     20160613.0         NaN"
      ],
      "text/html": "<div>\n<style scoped>\n    .dataframe tbody tr th:only-of-type {\n        vertical-align: middle;\n    }\n\n    .dataframe tbody tr th {\n        vertical-align: top;\n    }\n\n    .dataframe thead th {\n        text-align: right;\n    }\n</style>\n<table border=\"1\" class=\"dataframe\">\n  <thead>\n    <tr style=\"text-align: right;\">\n      <th></th>\n      <th>User_id</th>\n      <th>Merchant_id</th>\n      <th>Coupon_id</th>\n      <th>Discount_rate</th>\n      <th>Distance</th>\n      <th>Date_received</th>\n      <th>Date</th>\n    </tr>\n  </thead>\n  <tbody>\n    <tr>\n      <th>0</th>\n      <td>1439408</td>\n      <td>2632</td>\n      <td>NaN</td>\n      <td>NaN</td>\n      <td>0.0</td>\n      <td>NaN</td>\n      <td>20160217.0</td>\n    </tr>\n    <tr>\n      <th>1</th>\n      <td>1439408</td>\n      <td>4663</td>\n      <td>11002.0</td>\n      <td>150:20</td>\n      <td>1.0</td>\n      <td>20160528.0</td>\n      <td>NaN</td>\n    </tr>\n    <tr>\n      <th>2</th>\n      <td>1439408</td>\n      <td>2632</td>\n      <td>8591.0</td>\n      <td>20:1</td>\n      <td>0.0</td>\n      <td>20160217.0</td>\n      <td>NaN</td>\n    </tr>\n    <tr>\n      <th>3</th>\n      <td>1439408</td>\n      <td>2632</td>\n      <td>1078.0</td>\n      <td>20:1</td>\n      <td>0.0</td>\n      <td>20160319.0</td>\n      <td>NaN</td>\n    </tr>\n    <tr>\n      <th>4</th>\n      <td>1439408</td>\n      <td>2632</td>\n      <td>8591.0</td>\n      <td>20:1</td>\n      <td>0.0</td>\n      <td>20160613.0</td>\n      <td>NaN</td>\n    </tr>\n  </tbody>\n</table>\n</div>"
     },
     "metadata": {},
     "execution_count": 4
    }
   ],
   "source": [
    "#查看数据\n",
    "off_train.head()"
   ]
  },
  {
   "cell_type": "code",
   "execution_count": 5,
   "metadata": {},
   "outputs": [
    {
     "output_type": "stream",
     "name": "stdout",
     "text": [
      "<class 'pandas.core.frame.DataFrame'>\nRangeIndex: 1754884 entries, 0 to 1754883\nData columns (total 7 columns):\n #   Column         Dtype  \n---  ------         -----  \n 0   User_id        int64  \n 1   Merchant_id    int64  \n 2   Coupon_id      float64\n 3   Discount_rate  object \n 4   Distance       float64\n 5   Date_received  float64\n 6   Date           float64\ndtypes: float64(4), int64(2), object(1)\nmemory usage: 93.7+ MB\n"
     ]
    }
   ],
   "source": [
    "off_train.info()"
   ]
  },
  {
   "cell_type": "code",
   "execution_count": 6,
   "metadata": {},
   "outputs": [
    {
     "output_type": "execute_result",
     "data": {
      "text/plain": [
       "    User_id  Merchant_id  Action  Coupon_id Discount_rate  Date_received        Date\n",
       "0  13740231        18907       2  100017492        500:50     20160513.0         NaN\n",
       "1  13740231        34805       1        NaN           NaN            NaN  20160321.0\n",
       "2  14336199        18907       0        NaN           NaN            NaN  20160618.0\n",
       "3  14336199        18907       0        NaN           NaN            NaN  20160618.0\n",
       "4  14336199        18907       0        NaN           NaN            NaN  20160618.0"
      ],
      "text/html": "<div>\n<style scoped>\n    .dataframe tbody tr th:only-of-type {\n        vertical-align: middle;\n    }\n\n    .dataframe tbody tr th {\n        vertical-align: top;\n    }\n\n    .dataframe thead th {\n        text-align: right;\n    }\n</style>\n<table border=\"1\" class=\"dataframe\">\n  <thead>\n    <tr style=\"text-align: right;\">\n      <th></th>\n      <th>User_id</th>\n      <th>Merchant_id</th>\n      <th>Action</th>\n      <th>Coupon_id</th>\n      <th>Discount_rate</th>\n      <th>Date_received</th>\n      <th>Date</th>\n    </tr>\n  </thead>\n  <tbody>\n    <tr>\n      <th>0</th>\n      <td>13740231</td>\n      <td>18907</td>\n      <td>2</td>\n      <td>100017492</td>\n      <td>500:50</td>\n      <td>20160513.0</td>\n      <td>NaN</td>\n    </tr>\n    <tr>\n      <th>1</th>\n      <td>13740231</td>\n      <td>34805</td>\n      <td>1</td>\n      <td>NaN</td>\n      <td>NaN</td>\n      <td>NaN</td>\n      <td>20160321.0</td>\n    </tr>\n    <tr>\n      <th>2</th>\n      <td>14336199</td>\n      <td>18907</td>\n      <td>0</td>\n      <td>NaN</td>\n      <td>NaN</td>\n      <td>NaN</td>\n      <td>20160618.0</td>\n    </tr>\n    <tr>\n      <th>3</th>\n      <td>14336199</td>\n      <td>18907</td>\n      <td>0</td>\n      <td>NaN</td>\n      <td>NaN</td>\n      <td>NaN</td>\n      <td>20160618.0</td>\n    </tr>\n    <tr>\n      <th>4</th>\n      <td>14336199</td>\n      <td>18907</td>\n      <td>0</td>\n      <td>NaN</td>\n      <td>NaN</td>\n      <td>NaN</td>\n      <td>20160618.0</td>\n    </tr>\n  </tbody>\n</table>\n</div>"
     },
     "metadata": {},
     "execution_count": 6
    }
   ],
   "source": [
    "on_train.head()"
   ]
  },
  {
   "cell_type": "code",
   "execution_count": 7,
   "metadata": {},
   "outputs": [
    {
     "output_type": "stream",
     "name": "stdout",
     "text": [
      "<class 'pandas.core.frame.DataFrame'>\nRangeIndex: 11429826 entries, 0 to 11429825\nData columns (total 7 columns):\n #   Column         Dtype  \n---  ------         -----  \n 0   User_id        int64  \n 1   Merchant_id    int64  \n 2   Action         int64  \n 3   Coupon_id      object \n 4   Discount_rate  object \n 5   Date_received  float64\n 6   Date           float64\ndtypes: float64(2), int64(3), object(2)\nmemory usage: 610.4+ MB\n"
     ]
    }
   ],
   "source": [
    "on_train.info()"
   ]
  },
  {
   "cell_type": "code",
   "execution_count": 8,
   "metadata": {},
   "outputs": [
    {
     "output_type": "execute_result",
     "data": {
      "text/plain": [
       "   User_id  Merchant_id  Coupon_id Discount_rate  Distance  Date_received\n",
       "0  4129537          450       9983          30:5       1.0       20160712\n",
       "1  6949378         1300       3429          30:5       NaN       20160706\n",
       "2  2166529         7113       6928        200:20       5.0       20160727\n",
       "3  2166529         7113       1808        100:10       5.0       20160727\n",
       "4  6172162         7605       6500          30:1       2.0       20160708"
      ],
      "text/html": "<div>\n<style scoped>\n    .dataframe tbody tr th:only-of-type {\n        vertical-align: middle;\n    }\n\n    .dataframe tbody tr th {\n        vertical-align: top;\n    }\n\n    .dataframe thead th {\n        text-align: right;\n    }\n</style>\n<table border=\"1\" class=\"dataframe\">\n  <thead>\n    <tr style=\"text-align: right;\">\n      <th></th>\n      <th>User_id</th>\n      <th>Merchant_id</th>\n      <th>Coupon_id</th>\n      <th>Discount_rate</th>\n      <th>Distance</th>\n      <th>Date_received</th>\n    </tr>\n  </thead>\n  <tbody>\n    <tr>\n      <th>0</th>\n      <td>4129537</td>\n      <td>450</td>\n      <td>9983</td>\n      <td>30:5</td>\n      <td>1.0</td>\n      <td>20160712</td>\n    </tr>\n    <tr>\n      <th>1</th>\n      <td>6949378</td>\n      <td>1300</td>\n      <td>3429</td>\n      <td>30:5</td>\n      <td>NaN</td>\n      <td>20160706</td>\n    </tr>\n    <tr>\n      <th>2</th>\n      <td>2166529</td>\n      <td>7113</td>\n      <td>6928</td>\n      <td>200:20</td>\n      <td>5.0</td>\n      <td>20160727</td>\n    </tr>\n    <tr>\n      <th>3</th>\n      <td>2166529</td>\n      <td>7113</td>\n      <td>1808</td>\n      <td>100:10</td>\n      <td>5.0</td>\n      <td>20160727</td>\n    </tr>\n    <tr>\n      <th>4</th>\n      <td>6172162</td>\n      <td>7605</td>\n      <td>6500</td>\n      <td>30:1</td>\n      <td>2.0</td>\n      <td>20160708</td>\n    </tr>\n  </tbody>\n</table>\n</div>"
     },
     "metadata": {},
     "execution_count": 8
    }
   ],
   "source": [
    "off_test.head()"
   ]
  },
  {
   "cell_type": "code",
   "execution_count": 9,
   "metadata": {},
   "outputs": [
    {
     "output_type": "stream",
     "name": "stdout",
     "text": [
      "<class 'pandas.core.frame.DataFrame'>\nRangeIndex: 113640 entries, 0 to 113639\nData columns (total 6 columns):\n #   Column         Non-Null Count   Dtype  \n---  ------         --------------   -----  \n 0   User_id        113640 non-null  int64  \n 1   Merchant_id    113640 non-null  int64  \n 2   Coupon_id      113640 non-null  int64  \n 3   Discount_rate  113640 non-null  object \n 4   Distance       101576 non-null  float64\n 5   Date_received  113640 non-null  int64  \ndtypes: float64(1), int64(4), object(1)\nmemory usage: 5.2+ MB\n"
     ]
    }
   ],
   "source": [
    "off_test.info()"
   ]
  },
  {
   "cell_type": "code",
   "execution_count": 10,
   "metadata": {},
   "outputs": [
    {
     "output_type": "execute_result",
     "data": {
      "text/plain": [
       "User_id               0\n",
       "Merchant_id           0\n",
       "Coupon_id        701602\n",
       "Discount_rate    701602\n",
       "Distance         106003\n",
       "Date_received    701602\n",
       "Date             977900\n",
       "dtype: int64"
      ]
     },
     "metadata": {},
     "execution_count": 10
    }
   ],
   "source": [
    "#查看空值\n",
    "off_train.isnull().sum()"
   ]
  },
  {
   "cell_type": "code",
   "execution_count": 11,
   "metadata": {},
   "outputs": [
    {
     "output_type": "execute_result",
     "data": {
      "text/plain": [
       "User_id                 0\n",
       "Merchant_id             0\n",
       "Action                  0\n",
       "Coupon_id        10557469\n",
       "Discount_rate    10557469\n",
       "Date_received    10557469\n",
       "Date               655898\n",
       "dtype: int64"
      ]
     },
     "metadata": {},
     "execution_count": 11
    }
   ],
   "source": [
    "on_train.isnull().sum()"
   ]
  },
  {
   "cell_type": "code",
   "execution_count": 12,
   "metadata": {},
   "outputs": [
    {
     "output_type": "execute_result",
     "data": {
      "text/plain": [
       "User_id              0\n",
       "Merchant_id          0\n",
       "Coupon_id            0\n",
       "Discount_rate        0\n",
       "Distance         12064\n",
       "Date_received        0\n",
       "dtype: int64"
      ]
     },
     "metadata": {},
     "execution_count": 12
    }
   ],
   "source": [
    "off_test.isnull().sum()"
   ]
  },
  {
   "cell_type": "code",
   "execution_count": 13,
   "metadata": {},
   "outputs": [
    {
     "output_type": "display_data",
     "data": {
      "text/plain": "20160101.0"
     },
     "metadata": {}
    },
    {
     "output_type": "display_data",
     "data": {
      "text/plain": "20160615.0"
     },
     "metadata": {}
    },
    {
     "output_type": "display_data",
     "data": {
      "text/plain": "20160101.0"
     },
     "metadata": {}
    },
    {
     "output_type": "display_data",
     "data": {
      "text/plain": "20160615.0"
     },
     "metadata": {}
    },
    {
     "output_type": "display_data",
     "data": {
      "text/plain": "20160701"
     },
     "metadata": {}
    },
    {
     "output_type": "display_data",
     "data": {
      "text/plain": "20160731"
     },
     "metadata": {}
    }
   ],
   "source": [
    "#查看数据边界\n",
    "#领券日期\n",
    "display(off_train[off_train[\"Date_received\"]!=\"null\"][\"Date_received\"].min())\n",
    "display(off_train[off_train[\"Date_received\"]!=\"null\"][\"Date_received\"].max())\n",
    "display(on_train[on_train[\"Date_received\"]!=\"null\"][\"Date_received\"].min())\n",
    "display(on_train[on_train[\"Date_received\"]!=\"null\"][\"Date_received\"].max())\n",
    "display(off_test[off_test[\"Date_received\"]!=\"null\"][\"Date_received\"].min())\n",
    "display(off_test[off_test[\"Date_received\"]!=\"null\"][\"Date_received\"].max())"
   ]
  },
  {
   "cell_type": "code",
   "execution_count": 14,
   "metadata": {},
   "outputs": [
    {
     "output_type": "display_data",
     "data": {
      "text/plain": "20160101.0"
     },
     "metadata": {}
    },
    {
     "output_type": "display_data",
     "data": {
      "text/plain": "20160630.0"
     },
     "metadata": {}
    },
    {
     "output_type": "display_data",
     "data": {
      "text/plain": "20160101.0"
     },
     "metadata": {}
    },
    {
     "output_type": "display_data",
     "data": {
      "text/plain": "20160630.0"
     },
     "metadata": {}
    }
   ],
   "source": [
    "#用券日期\n",
    "display(off_train[off_train[\"Date\"]!=\"null\"][\"Date\"].min())\n",
    "display(off_train[off_train[\"Date\"]!=\"null\"][\"Date\"].max())\n",
    "display(on_train[on_train[\"Date\"]!=\"null\"][\"Date\"].min())\n",
    "display(on_train[on_train[\"Date\"]!=\"null\"][\"Date\"].max())"
   ]
  },
  {
   "cell_type": "code",
   "execution_count": 15,
   "metadata": {},
   "outputs": [],
   "source": [
    "#查看训练集和测试集的相关性\n",
    "#查看online和offline训练集的user_id与测试集的重合度\n",
    "#off_train[[]]的写法，是将user_id保持成DataFrame的格式方便后面merge,不然将变成Series\n",
    "off_train_user=off_train[[\"User_id\"]].copy().drop_duplicates()\n",
    "off_test_user=off_test[[\"User_id\"]].copy().drop_duplicates()\n",
    "on_train_user=on_train[[\"User_id\"]].copy().drop_duplicates()"
   ]
  },
  {
   "cell_type": "code",
   "execution_count": 16,
   "metadata": {},
   "outputs": [
    {
     "output_type": "display_data",
     "data": {
      "text/plain": "539438"
     },
     "metadata": {}
    },
    {
     "output_type": "display_data",
     "data": {
      "text/plain": "762858"
     },
     "metadata": {}
    },
    {
     "output_type": "display_data",
     "data": {
      "text/plain": "76309"
     },
     "metadata": {}
    }
   ],
   "source": [
    "#User_id的数量\n",
    "display(len(off_train_user))\n",
    "display(len(on_train_user))\n",
    "display(len(off_test_user))"
   ]
  },
  {
   "cell_type": "code",
   "execution_count": 17,
   "metadata": {},
   "outputs": [
    {
     "output_type": "display_data",
     "data": {
      "text/plain": "0.9999737907717308"
     },
     "metadata": {}
    },
    {
     "output_type": "display_data",
     "data": {
      "text/plain": "0.5655296229802513"
     },
     "metadata": {}
    }
   ],
   "source": [
    "#使用merge的方式将训练集合和测试集合并，以此判断他们有多少重合的项\n",
    "off_train_user[\"off_train_flag\"]=1\n",
    "off_merge=off_test_user.merge(off_train_user,on=\"User_id\",how=\"left\").reset_index().fillna(0)\n",
    "display(off_merge[\"off_train_flag\"].sum()/off_merge[\"off_train_flag\"].count())\n",
    "\n",
    "on_train_user[\"on_train_flag\"]=1\n",
    "on_merge=off_test_user.merge(on_train_user,on=\"User_id\",how=\"left\").reset_index().fillna(0)\n",
    "display(on_merge[\"on_train_flag\"].sum()/on_merge[\"on_train_flag\"].count())"
   ]
  },
  {
   "cell_type": "code",
   "execution_count": 18,
   "metadata": {},
   "outputs": [],
   "source": [
    "#查看online和offline训练集合的merchant_id与训练集的重合度\n",
    "off_train_merchant=off_train[[\"Merchant_id\"]].copy().drop_duplicates()\n",
    "off_test_merchant=off_test[[\"Merchant_id\"]].copy().drop_duplicates()\n",
    "on_train_merchant=on_train[[\"Merchant_id\"]].copy().drop_duplicates()"
   ]
  },
  {
   "cell_type": "code",
   "execution_count": 19,
   "metadata": {},
   "outputs": [
    {
     "output_type": "display_data",
     "data": {
      "text/plain": "8415"
     },
     "metadata": {}
    },
    {
     "output_type": "display_data",
     "data": {
      "text/plain": "7999"
     },
     "metadata": {}
    },
    {
     "output_type": "display_data",
     "data": {
      "text/plain": "1559"
     },
     "metadata": {}
    }
   ],
   "source": [
    "#merchant_id的数量\n",
    "display(len(off_train_merchant))\n",
    "display(len(on_train_merchant))\n",
    "display(len(off_test_merchant))"
   ]
  },
  {
   "cell_type": "code",
   "execution_count": 20,
   "metadata": {},
   "outputs": [
    {
     "output_type": "display_data",
     "data": {
      "text/plain": "0.9993585631815266"
     },
     "metadata": {}
    },
    {
     "output_type": "display_data",
     "data": {
      "text/plain": "0.0"
     },
     "metadata": {}
    }
   ],
   "source": [
    "#合并训练集和测试集的样本，看看有多少样本可以merge出来\n",
    "#给off_train_merchant增加一个字段\"off_train_flag\"作为off_train_merchant的唯一标识符\n",
    "off_train_merchant[\"off_train_flag\"]=1\n",
    "off_merge=off_test_merchant.merge(off_train_merchant,on=\"Merchant_id\",how=\"left\").reset_index().fillna(0)\n",
    "display(off_merge[\"off_train_flag\"].sum()/off_merge[\"off_train_flag\"].count())\n",
    "\n",
    "on_train_merchant[\"on_train_flag\"]=1\n",
    "on_merge=off_test_merchant.merge(on_train_merchant,on=\"Merchant_id\",how=\"left\").reset_index().fillna(0)\n",
    "display(on_merge[\"on_train_flag\"].sum()/on_merge[\"on_train_flag\"].count())"
   ]
  },
  {
   "cell_type": "code",
   "execution_count": 21,
   "metadata": {},
   "outputs": [],
   "source": [
    "#特征工程"
   ]
  },
  {
   "cell_type": "code",
   "execution_count": 22,
   "metadata": {},
   "outputs": [],
   "source": [
    "#工具类\n",
    "#计算折扣率，将满减和折扣统一\n",
    "def get_discount_rate(s):\n",
    "    s = str(s)\n",
    "    if s=='null':\n",
    "        return -1\n",
    "    s = s.split(fd_seperator)\n",
    "    if len(s) == 1:\n",
    "        return float(s[0])\n",
    "    else:\n",
    "        return round((1.0-float(s[1])/float(s[0])),3)\n",
    "\n",
    "#获取是否满减（full reduction promotion）\n",
    "def get_if_fd(s):\n",
    "    s = str(s)\n",
    "    s = s.split(fd_seperator)\n",
    "    if len(s)==1:\n",
    "        return 0\n",
    "    else:\n",
    "        return 1\n",
    "        \n",
    "#获取满减的条件\n",
    "def get_full_value(s):\n",
    "    s = str(s)\n",
    "    s = s.split(fd_seperator)\n",
    "    if len(s)==1:\n",
    "        #return 'null'\n",
    "        return np.nan\n",
    "    else:\n",
    "        return int(s[0])\n",
    "        \n",
    "#获取满减的优惠     \n",
    "def get_reduction_value(s):\n",
    "    s = str(s)\n",
    "    s = s.split(fd_seperator)\n",
    "    if len(s) == 1:\n",
    "        #return 'null'\n",
    "        return np.nan\n",
    "    else:\n",
    "        return int(s[1])\n",
    "\n",
    "#获取日期间隔，输入内容为Date_received:Date\n",
    "def get_day_gap(s):\n",
    "    s = s.split(fd_seperator)\n",
    "    if s[0]=='null':\n",
    "        return -1\n",
    "    if s[1]=='null':\n",
    "        return -1\n",
    "    else:    \n",
    "        return (date(int(s[0][0:4]),int(s[0][4:6]),int(s[0][6:8])) - date(int(s[1][0:4]),int(s[1][4:6]),int(s[1][6:8]))).days\n",
    "\n",
    "\n",
    "#获取Label，输入内容为Date:Date_received\n",
    "def get_label(s):\n",
    "    s = s.split(fd_seperator)\n",
    "    if s[0]=='null':\n",
    "        return 0\n",
    "    if s[1]=='null':\n",
    "        return -1\n",
    "    elif (date(int(s[0][0:4]),int(s[0][4:6]),int(s[0][6:8]))-date(int(s[1][0:4]),int(s[1][4:6]),int(s[1][6:8]))).days<=15:\n",
    "        return 1\n",
    "    else:\n",
    "        return 0\n",
    "\n",
    "#增加折扣相关特征\n",
    "def add_discount(df):\n",
    "    df['if_fd']=df['discount_rate'].apply(get_if_fd)\n",
    "    df['full_value']=df['discount_rate'].apply(get_full_value)\n",
    "    df['reduction_value']=df['discount_rate'].apply(get_reduction_value)\n",
    "    df['discount_rate']=df['discount_rate'].apply(get_discount_rate)\n",
    "    df.distance=df.distance.replace('null',np.nan)\n",
    "    return df\n",
    "\n",
    "#计算日期间隔  \n",
    "def add_day_gap(df):\n",
    "    df['day_gap']=df['date'].astype('str') + ':' +  df['date_received'].astype('str')\n",
    "    df['day_gap']=df['day_gap'].apply(get_day_gap)\n",
    "    return df\n",
    "\n",
    "#获取label\n",
    "def add_label(df):\n",
    "    df['label']=df['date'].astype('str') + ':' +  df['date_received'].astype('str')\n",
    "    df['label']=df['label'].apply(get_label)\n",
    "    return df\n",
    "\n",
    "def is_firstlastone(x):\n",
    "    if x==0:\n",
    "        return 1\n",
    "    elif x>0:\n",
    "        return 0\n",
    "    else:\n",
    "        #return -1\n",
    "        return np.nan\n",
    "\n",
    "def get_day_gap_before(s):\n",
    "    date_received,dates = s.split('-')\n",
    "    dates = dates.split(':')\n",
    "    gaps = []\n",
    "    for d in dates:\n",
    "        #将时间差转化为天数\n",
    "        this_gap = (dt.date(int(date_received[0:4]),int(date_received[4:6]),int(date_received[6:8]))-dt.date(int(d[0:4]),int(d[4:6]),int(d[6:8]))).days\n",
    "        if this_gap>0:\n",
    "            gaps.append(this_gap)\n",
    "    if len(gaps)==0:\n",
    "        #return -1\n",
    "        return np.nan\n",
    "    else:\n",
    "        return min(gaps)\n",
    "    \n",
    "def get_day_gap_after(s):\n",
    "    date_received,dates = s.split('-')\n",
    "    dates = dates.split(':')\n",
    "    gaps = []\n",
    "    for d in dates:\n",
    "        this_gap = (dt.datetime(int(d[0:4]),int(d[4:6]),int(d[6:8]))-dt.datetime(int(date_received[0:4]),int(date_received[4:6]),int(date_received[6:8]))).days\n",
    "        if this_gap>0:\n",
    "            gaps.append(this_gap)\n",
    "    if len(gaps)==0:\n",
    "        #return -1\n",
    "        return np.nan\n",
    "    else:\n",
    "        return min(gaps)"
   ]
  },
  {
   "cell_type": "code",
   "execution_count": 23,
   "metadata": {},
   "outputs": [],
   "source": [
    "#工具函数(起到统计量的作用)\n",
    "# df:添加特征的dataframe\n",
    "# df_group:特征生成的数据集\n",
    "# group_cols:用于group by的列\n",
    "# value_col:被统计的列\n",
    "# agg_ops:处理方式 包括：count,mean,sum,std,max,min,nunique\n",
    "# col_names:新特征的名称\n",
    "def add_agg_feature_names(df,df_group,group_cols,value_col,agg_ops,col_names):\n",
    "    df_group[value_col]=df_group[value_col].astype(\"float\")\n",
    "    df_agg=pd.DataFrame(df_group.groupby(group_cols)[value_col].agg(agg_ops)).reset_index()\n",
    "    df_agg.columns=group_cols+col_names\n",
    "    df=df.merge(df_agg,on=group_cols,how=\"left\")\n",
    "    return df \n",
    "\n",
    "#统计特征处理函数\n",
    "#名称按照keyword+\"_\"+value_col+\"_\"+op自动增加\n",
    "def add_agg_feature(df,df_group,group_cols,value_col,agg_ops,keyword):\n",
    "    col_names=[]\n",
    "    for op in agg_ops:\n",
    "        col_names.append(keyword+\"_\"+value_col+\"_\"+op)\n",
    "    df=add_agg_feature_names(df,df_group,group_cols,value_col,agg_ops,col_names)\n",
    "    return df \n",
    "\n",
    "#因为count特征会很多，所以开发一个专门增加count特征的函数\n",
    "def add_count_new_feature(df,df_group,group_cols,new_feature_name):\n",
    "    df_group[new_feature_name]=1\n",
    "    df_group=df_group.groupby(group_cols).agg(\"sum\").reset_index()\n",
    "    df=df.merge(df_group,on=group_cols,how=\"left\")\n",
    "    return df "
   ]
  },
  {
   "cell_type": "code",
   "execution_count": 24,
   "metadata": {},
   "outputs": [],
   "source": [
    "#特征群生成（起到特征创造的作用）\n",
    "#商户相关特征群\n",
    "def get_merchant_feature(feature):\n",
    "    merchant=feature[['Merchant_id','Coupon_id','Distance','Date_received','Date']].copy()\n",
    "    t=merchant[['Merchant_id']].copy()\n",
    "    #删除重复行数据\n",
    "    t.drop_duplicates(inplace=True)\n",
    "\n",
    "    #卖出的商品\n",
    "    t1=merchant[merchant.Date!=\"null\"][[\"Merchant_id\"]].copy()\n",
    "    merchant_feature=add_count_new_feature(t,t1,\"Merchant_id\",\"total_sales\")\n",
    "\n",
    "    #在每个商户销售中，使用优惠券的交易次数（正样本）\n",
    "    t2=merchant[(merchant.Date!=\"null\") & (merchant.Coupon_id!=\"null\")][[\"Merchant_id\"]].copy()\n",
    "    merchant_feature=add_count_new_feature(merchant_feature,t2,\"Merchant_id\",\"sales_use_coupon\")\n",
    "\n",
    "    #每个商户发放的优惠券总数\n",
    "    t3=merchant[merchant.Coupon_id!=\"null\"][[\"Merchant_id\"]].copy()\n",
    "    merchant_feature=add_count_new_feature(merchant_feature,t3,\"Merchant_id\",\"total_coupon\")\n",
    "\n",
    "    #在每个线下商户含有优惠券的交易中，统计和用户距离的最大值，最小值，平均值，中位数\n",
    "    t4=merchant[(merchant.Date!=\"null\") & (merchant.Coupon_id!=\"null\")][[\"Merchant_id\",\"Distance\"]].copy()\n",
    "    t4.Distance=t4.Distance.astype(\"int\")\n",
    "    merchant_feature=add_agg_feature(merchant_feature,t4,[\"Merchant_id\"],\"Distance\",[\"min\",\"max\",\"mean\",\"median\"],\"merchant\")\n",
    "\n",
    "    #将数据中的nan用0来替换\n",
    "    merchant_feature.sales_use_coupon=merchant_feature.sales_use_coupon.replace(np.nan,0)\n",
    "\n",
    "    #商户发放优惠券的使用率\n",
    "    merchant_feature[\"merchant_coupon_transfer_rate\"]=merchant_feature.sales_use_coupon.astype(\"float\")/merchant_feature.total_coupon\n",
    "\n",
    "    #在商户交易中，使用优惠券的交易占比\n",
    "    merchant_feature['coupon_rate']=merchant_feature.sales_use_coupon.astype(\"float\")/merchant_feature.total_sales\n",
    "\n",
    "    #将数据中的nan用0来替换\n",
    "    merchant_feature.total_coupon=merchant_feature.total_coupon.replace(np.nan,0)\n",
    "\n",
    "    return merchant_feature\n"
   ]
  },
  {
   "cell_type": "code",
   "execution_count": 25,
   "metadata": {},
   "outputs": [],
   "source": [
    "#用户相关特征群\n",
    "def get_user_feature(feature):\n",
    "    user=feature[['User_id','Merchant_id','Coupon_id','Discount_rate','Distance','Date_received','Date']].copy()\n",
    "    t=user[['User_id']].copy()\n",
    "    t.drop_duplicates(inplace=True)\n",
    "    #每个用户交易的商户数\n",
    "    t1=user[user.Date!=\"null\"][[\"User_id\",\"Merchant_id\"]].copy()\n",
    "    t1.drop_duplicates(inplace=True)\n",
    "    t1=t1[[\"User_id\"]]\n",
    "    user_feature=add_count_new_feature(t,t1,\"User_id\",\"count_merchant\")\n",
    "    #在每个用户线下使用优惠券产生的交易中，统计和商户距离的最大值，最小值，平均值，中位数\n",
    "    t2=user[(user.Date!=\"null\") & (user.Coupon_id!=\"null\") & (user.Distance!=\"null\")][[\"User_id\",\"Distance\"]]\n",
    "    t2.Distance=t2.Distance.astype('int')\n",
    "    user_feature=add_agg_feature(user_feature,t2,[\"User_id\"],\"Distance\",[\"min\",\"max\",'mean',\"median\"],\"user\")\n",
    "    #每个用户使用优惠券消费的额次数\n",
    "    t7=user[(user.Date !=\"null\") & (user.Coupon_id !=\"null\")][[\"User_id\"]]\n",
    "    user_feature=add_count_new_feature(user_feature,t7,\"User_id\",\"buy_use_coupon\")\n",
    "    #每个用户消费的总次数\n",
    "    t8=user[user.Date!=\"null\"][[\"User_id\"]]\n",
    "    user_feature=add_count_new_feature(user_feature,t8,\"User_id\",\"buy_total\")\n",
    "    #每个用户收到优惠券的总数\n",
    "    t9=user[user.Coupon_id !=\"null\"][[\"User_id\"]]\n",
    "    user_feature=add_count_new_feature(user_feature,t9,\"User_id\",\"coupon_received\")\n",
    "    #用户从收到优惠券到用优惠券的时间间隔，统计其最大值，最小值，平均值，中位数\n",
    "    t10=user[(user.Date_received!=\"null\") & (user.Date!=\"null\")][[\"User_id\",\"Data_received\",\"Data\"]]\n",
    "    t10=add_day_gap(t10)\n",
    "    t10=t10[[\"User_id\",\"day_gap\"]]\n",
    "    user_feature=add_agg_feature(user_feature,t10,[\"User_id\"],\"day_gap\",[\"min\",'max',\"mean\",\"median\"],\"user\")\n",
    "\n",
    "    #将数据中的nan用0来替换\n",
    "    user_feature.count_merchant=user_feature.count_merchant.replace(np.nan,0)\n",
    "    user_feature.buy_use_coupon=user_feature.buy_use_coupon.replace(np.nan,0)\n",
    "\n",
    "    #统计用户用券消费在总消费中的占比\n",
    "    user_feature[\"buy_use_coupon_rate\"]=user_feature.buy_use_coupon.astype(\"float\")/user_feature.buy_total.astype(\"float\")\n",
    "\n",
    "    #统计用户收到消费券的使用率\n",
    "    user_feature[\"user_coupon_transfer_rate\"]=user_feature.buy_use_coupon.astype(\"float\")/user_feature.coupon_received.astype(\"float\")\n",
    "    #将数据中的nan用0来替换\n",
    "    user_feature.buy_total=user_feature.buy_total.replace(np.nan,0)\n",
    "    user_feature.coupon_received=user_feature.coupon_received.replace(np.nan,0)\n",
    "    return user_feature"
   ]
  },
  {
   "cell_type": "code",
   "execution_count": 26,
   "metadata": {},
   "outputs": [],
   "source": [
    "#用户和商户关系特征群\n",
    "def get_user_merchant_feature(feature):\n",
    "    t=feature[[\"User_id\",\"Merchant_id\"]].copy()\n",
    "    t.drop_duplicates(inplace=True)\n",
    "    #一个用户在一个商家交易的总次数\n",
    "    t0=feature[[\"User_id\",\"Merchant_id\",\"Date\"]].copy()\n",
    "    t0=t0[t0.Date!=\"null\"][[\"User_id\",\"Merchant_id\"]]\n",
    "    user_merchant=add_count_new_feature(t,t0,[\"User_id\",\"Merchant_id\"],\"User_merchant_buy_total\")\n",
    "    #一个用户在一个商家一共收到的优惠券数量\n",
    "    t1=feature[[\"User_id\",\"Merchant_id\",\"Coupon_id\"]]\n",
    "    t1=t1[t1.Coupon_id!=\"null\"][['User_id',\"Merchant_id\"]]\n",
    "    user_merchant=add_count_new_feature(user_merchant,t1,['User_id','Merchant_id'],'user_merchant_received')\n",
    "    #一个用户在一个商家使用优惠券消费的次数\n",
    "    t2=feature[['User_id',\"Merchant_id\",'Data','Data_recevied']]\n",
    "    t2=t2[(t2.Data!=\"null\") & (t2.Data_recevied!=\"null\")][[\"User_id\",'Merchant_id']]\n",
    "    user_merchant=add_count_new_feature(user_merchant,t2,['User_id','Merchant_id'],'user_merchant_buy_use_coupon')\n",
    "    #一个用户在一个商家的到店次数\n",
    "    t3=feature[['User_id','Merchant_id']]\n",
    "    user_merchant=add_count_new_feature(user_merchant,t3,['User_id','Merchant_id'],'user_merchant_any')\n",
    "    #一个用户在一个商家没有使用优惠券消费的次数\n",
    "    t4=feature[['User_id','Merchant_id','Data','Coupon_id']]\n",
    "    t4=t4[(t4.Data!=\"null\") & (t4.Coupon_id=='null')]['User_id','Merchant_id']\n",
    "    user_merchant=add_count_new_feature(user_merchant,t4,['User_id','Merchant_id'],'user_merchant_buy_common')\n",
    "    #将数据中nan用0来替换\n",
    "    user_merchant.user_merchant_buy_use_coupon=user_merchant.user_merchant_buy_use_coupon.replace(np.nan,0)\n",
    "    user_merchant.user_merchant_buy_common=user_merchant.user_merchant_buy_common.replace(np.nan,0)\n",
    "    #一个用户对一个商家发放优惠券的使用率\n",
    "    user_merchant['user_merchant_coupon_transfer_rate'] = user_merchant.user_merchant_buy_use_coupon.astype('float') / user_merchant.user_merchant_received.astype('float')\n",
    "    #一个用户在一个商家的总消费次数中，用优惠券消费的次数占比\n",
    "    user_merchant['user_merchant_coupon_buy_rate'] = user_merchant.user_merchant_buy_use_coupon.astype('float') / user_merchant.user_merchant_buy_total.astype('float')\n",
    "    #一个用户到店后消费的可能性统计\n",
    "    user_merchant['user_merchant_rate'] = user_merchant.user_merchant_buy_total.astype('float') / user_merchant.user_merchant_any.astype('float')\n",
    "    #一个用户在一个商家的总消费次数中，不用优惠券消费次数占比\n",
    "    user_merchant['user_merchant_common_buy_rate'] = user_merchant.user_merchant_buy_common.astype('float') / user_merchant.user_merchant_buy_total.astype('float')\n",
    "    return user_merchant\n"
   ]
  },
  {
   "cell_type": "code",
   "execution_count": 1,
   "metadata": {},
   "outputs": [],
   "source": [
    "#提取穿越特征（Leakage特征群）\n",
    "def get_leakage_feature(dataset):\n",
    "    t = dataset[['user_id']].copy()\n",
    "    t['this_month_user_receive_all_coupon_count'] = 1\n",
    "    t = t.groupby('user_id').agg('sum').reset_index()\n",
    "    \n",
    "    t1 = dataset[['user_id','coupon_id']].copy()\n",
    "    t1['this_month_user_receive_same_coupn_count'] = 1\n",
    "    t1 = t1.groupby(['user_id','coupon_id']).agg('sum').reset_index()\n",
    "        \n",
    "    t2 = dataset[['user_id','coupon_id','date_received']].copy()\n",
    "    t2.date_received = t2.date_received.astype('str')\n",
    "    #如果出现相同的用户接收相同的优惠券在接收时间上用‘：’连接上第n次接受优惠券的时间\n",
    "    t2 = t2.groupby(['user_id','coupon_id'])['date_received'].agg(lambda x:':'.join(x)).reset_index()\n",
    "    #将接收时间的一组按着':'分开，这样就可以计算接受了优惠券的数量,apply是合并\n",
    "    t2['receive_number'] = t2.date_received.apply(lambda s:len(s.split(':')))\n",
    "    t2 = t2[t2.receive_number > 1]\n",
    "    #最大接受的日期\n",
    "    t2['max_date_received'] = t2.date_received.apply(lambda s:max([int(d) for d in s.split(':')]))\n",
    "    #最小的接收日期\n",
    "    t2['min_date_received'] = t2.date_received.apply(lambda s:min([int(d) for d in s.split(':')]))\n",
    "    t2 = t2[['user_id','coupon_id','max_date_received','min_date_received']]\n",
    "\n",
    "    t3 = dataset[['user_id','coupon_id','date_received']]\n",
    "    #将两表融合只保留左表数据,这样得到的表，相当于保留了最近接收时间和最远接受时间\n",
    "    t3 = pd.merge(t3,t2,on=['user_id','coupon_id'],how='left')\n",
    "    #这个优惠券最近接受时间\n",
    "    t3['this_month_user_receive_same_coupon_lastone']= t3.max_date_received-t3.date_received.astype(int)\n",
    "    #这个优惠券最远接受时间\n",
    "    t3['this_month_user_receive_same_coupon_firstone'] = t3.date_received.astype(int)-t3.min_date_received\n",
    "    \n",
    "    t3.this_month_user_receive_same_coupon_lastone = t3.this_month_user_receive_same_coupon_lastone.apply(is_firstlastone)\n",
    "    t3.this_month_user_receive_same_coupon_firstone = t3.this_month_user_receive_same_coupon_lastone.apply(is_firstlastone)\n",
    "    t3 = t3[['user_id','coupon_id','date_received','this_month_user_receive_same_coupon_lastone','this_month_user_receive_same_coupon_firstone']]\n",
    "       \n",
    "    #提取第四个特征,一个用户所接收到的所有优惠券的数量\n",
    "    t4 = dataset[['user_id','date_received']].copy()\n",
    "    t4['this_day_receive_all_coupon_count'] = 1\n",
    "    t4 = t4.groupby(['user_id','date_received']).agg('sum').reset_index()\n",
    "\n",
    "    #提取第五个特征,一个用户不同时间所接收到不同优惠券的数量\n",
    "    t5 = dataset[['user_id','coupon_id','date_received']].copy()\n",
    "    t5['this_day_user_receive_same_coupon_count'] = 1\n",
    "    t5 = t5.groupby(['user_id','coupon_id','date_received']).agg('sum').reset_index()\n",
    "    \n",
    "    #一个用户不同优惠券 的接受时间\n",
    "    t6 = dataset[['user_id','coupon_id','date_received']].copy()\n",
    "    t6.date_received = t6.date_received.astype('str')\n",
    "    t6 = t6.groupby(['user_id','coupon_id'])['date_received'].agg(lambda x:':'.join(x)).reset_index()\n",
    "    t6.rename(columns={'date_received':'dates'},inplace = True)\n",
    "    \n",
    "    t7 = dataset[['user_id','coupon_id','date_received']]\n",
    "    t7 = pd.merge(t7,t6,on=['user_id','coupon_id'],how='left')\n",
    "    t7['date_received_date'] = t7.date_received.astype('str')+'-'+t7.dates\n",
    "    t7['day_gap_before'] = t7.date_received_date.apply(get_day_gap_before)\n",
    "    t7['day_gap_after'] = t7.date_received_date.apply(get_day_gap_after)\n",
    "    t7 = t7[['user_id','coupon_id','date_received','day_gap_before','day_gap_after']]\n",
    "    \n",
    "    other_feature = pd.merge(t1,t,on='user_id')\n",
    "    other_feature = pd.merge(other_feature,t3,on=['user_id','coupon_id'])\n",
    "    other_feature = pd.merge(other_feature,t4,on=['user_id','date_received'])\n",
    "    other_feature = pd.merge(other_feature,t5,on=['user_id','coupon_id','date_received'])\n",
    "    other_feature = pd.merge(other_feature,t7,on=['user_id','coupon_id','date_received'])\n",
    "    return other_feature"
   ]
  },
  {
   "cell_type": "code",
   "execution_count": 2,
   "metadata": {},
   "outputs": [],
   "source": [
    "#########################不同版本特征#############################\n",
    "#特征1只有最基础的特征\n",
    "def f1(dataset,if_train):\n",
    "    result=add_discount(dataset) \n",
    "    result.drop_duplicates(inplace=True)\n",
    "    if if_train:\n",
    "        result=add_label(result)\n",
    "    return result\n",
    "\n",
    "#特征2增加Merchant,user特征\n",
    "def f2(dataset,feature,if_train):\n",
    "       \n",
    "    result=add_discount(dataset)\n",
    "    \n",
    "    merchant_feature=get_merchant_feature(feature)\n",
    "    result=result.merge(merchant_feature, on='merchant_id', how=\"left\")\n",
    "    \n",
    "    user_feature=get_user_feature(feature)\n",
    "    result=result.merge(user_feature, on='user_id', how=\"left\")\n",
    "    \n",
    "    user_merchant=get_user_merchant_feature(feature)\n",
    "    result=result.merge(user_merchant, on=['user_id','merchant_id'], how=\"left\")\n",
    "    \n",
    "    result.drop_duplicates(inplace=True)\n",
    "    \n",
    "    if if_train:\n",
    "        result=add_label(result)\n",
    "     \n",
    "    return result\n",
    "\n",
    "#特征3增加leakage特征\n",
    "def f3(dataset,feature,if_train):\n",
    "       \n",
    "    result=add_discount(dataset)\n",
    "    \n",
    "    merchant_feature=get_merchant_feature(feature)\n",
    "    result=result.merge(merchant_feature, on='merchant_id', how=\"left\")\n",
    "    \n",
    "    user_feature=get_user_feature(feature)\n",
    "    result=result.merge(user_feature, on='user_id', how=\"left\")\n",
    "    \n",
    "    user_merchant=get_user_merchant_feature(feature)\n",
    "    result=result.merge(user_merchant, on=['user_id','merchant_id'], how=\"left\")\n",
    "    \n",
    "    leakage_feature=get_leakage_feature(dataset)\n",
    "    result=result.merge(leakage_feature, on=['user_id','coupon_id','date_received'],how='left')\n",
    "    \n",
    "    result.drop_duplicates(inplace=True)\n",
    "    if if_train:\n",
    "        result=add_label(result)\n",
    "     \n",
    "    return result\n",
    "    "
   ]
  },
  {
   "cell_type": "code",
   "execution_count": null,
   "metadata": {},
   "outputs": [],
   "source": []
  }
 ],
 "metadata": {
  "kernelspec": {
   "display_name": "Python 3.8.3 64-bit ('base': conda)",
   "language": "python",
   "name": "python38364bitbasecondad9bd0a7157c84fa7bace955ad09d0846"
  },
  "language_info": {
   "codemirror_mode": {
    "name": "ipython",
    "version": 3
   },
   "file_extension": ".py",
   "mimetype": "text/x-python",
   "name": "python",
   "nbconvert_exporter": "python",
   "pygments_lexer": "ipython3",
   "version": "3.8.3-final"
  }
 },
 "nbformat": 4,
 "nbformat_minor": 4
}