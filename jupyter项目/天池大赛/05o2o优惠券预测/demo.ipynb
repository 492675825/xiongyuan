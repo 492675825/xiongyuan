{
 "metadata": {
  "language_info": {
   "codemirror_mode": {
    "name": "ipython",
    "version": 3
   },
   "file_extension": ".py",
   "mimetype": "text/x-python",
   "name": "python",
   "nbconvert_exporter": "python",
   "pygments_lexer": "ipython3",
   "version": "3.8.3-final"
  },
  "orig_nbformat": 2,
  "kernelspec": {
   "name": "python3",
   "display_name": "Python 3"
  }
 },
 "nbformat": 4,
 "nbformat_minor": 2,
 "cells": [
  {
   "cell_type": "code",
   "execution_count": 1,
   "metadata": {},
   "outputs": [],
   "source": [
    "import pandas as pd \n",
    "import numpy as np \n",
    "import matplotlib.pyplot as plt\n",
    "import seaborn as sns"
   ]
  },
  {
   "cell_type": "code",
   "execution_count": 2,
   "metadata": {},
   "outputs": [],
   "source": [
    "pd.set_option(\"display.max_column\",100)\n",
    "pd.set_option(\"expand_frame_repr\",False)"
   ]
  },
  {
   "cell_type": "code",
   "execution_count": 3,
   "metadata": {},
   "outputs": [],
   "source": [
    "off_train_file=r\"D:\\dataset\\o2o\\ccf_offline_stage1_train.csv\"\n",
    "off_test_file=r\"D:\\dataset\\o2o\\ccf_offline_stage1_test_revised.csv\"\n",
    "on_train_file=r\"D:\\dataset\\o2o\\ccf_online_stage1_train.csv\"\n",
    "off_train=pd.read_csv(off_train_file)\n",
    "off_test=pd.read_csv(off_test_file)\n",
    "on_train=pd.read_csv(on_train_file)"
   ]
  },
  {
   "cell_type": "code",
   "execution_count": null,
   "metadata": {},
   "outputs": [],
   "source": [
    "#工具函数\n",
    "def add_agg_feature_name(df,df_group,group_cols,value_col,agg_ops,col_names):\n",
    "    df_group[value_col]=df_group[value_col].astype(\"float\")\n",
    "    df_agg=pd.DataFrame(df_group.groupby(group_cols)[value_col].agg(agg_ops)).reset_index()\n",
    "    df_agg.columns=group_cols+col_names\n",
    "    df=df.merge(df_agg,on=group_cols,how=\"left\")\n",
    "    return df;"
   ]
  }
 ]
}