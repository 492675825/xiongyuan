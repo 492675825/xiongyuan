{
 "cells": [
  {
   "cell_type": "markdown",
   "metadata": {},
   "source": [
    "# 天猫用户重复购买预测"
   ]
  },
  {
   "cell_type": "markdown",
   "metadata": {},
   "source": [
    "## 一、数据探索"
   ]
  },
  {
   "cell_type": "code",
   "execution_count": 1,
   "metadata": {},
   "outputs": [],
   "source": [
    "import pandas as pd \n",
    "import numpy as np \n",
    "import matplotlib.pyplot as plt \n",
    "import seaborn as sns \n",
    "from scipy import stats\n",
    "import warnings\n",
    "warnings.filterwarnings(\"ignore\")\n",
    "\n",
    "pd.set_option(\"display.max_column\",100)\n",
    "pd.set_option(\"expand_frame_repr\",False)\n",
    "%matplotlib inline"
   ]
  },
  {
   "cell_type": "markdown",
   "metadata": {},
   "source": [
    "## (一)读取数据"
   ]
  },
  {
   "cell_type": "code",
   "execution_count": 2,
   "metadata": {},
   "outputs": [],
   "source": [
    "#1--读取数据\n",
    "test_data=pd.read_csv(r'D:\\文件\\学习\\数据集\\天猫用户复购\\data_format1\\test_format1.csv')\n",
    "train_data=pd.read_csv(r'D:\\文件\\学习\\数据集\\天猫用户复购\\data_format1\\train_format1.csv')\n",
    "user_info=pd.read_csv(r'D:\\文件\\学习\\数据集\\天猫用户复购\\data_format1\\user_info_format1.csv')\n",
    "user_log=pd.read_csv(r'D:\\文件\\学习\\数据集\\天猫用户复购\\data_format1\\user_log_format1.csv')"
   ]
  },
  {
   "cell_type": "code",
   "execution_count": 3,
   "metadata": {},
   "outputs": [
    {
     "output_type": "display_data",
     "data": {
      "text/plain": "   user_id  merchant_id  label\n0    34176         3906      0\n1    34176          121      0\n2    34176         4356      1\n3    34176         2217      0\n4   230784         4818      0",
      "text/html": "<div>\n<style scoped>\n    .dataframe tbody tr th:only-of-type {\n        vertical-align: middle;\n    }\n\n    .dataframe tbody tr th {\n        vertical-align: top;\n    }\n\n    .dataframe thead th {\n        text-align: right;\n    }\n</style>\n<table border=\"1\" class=\"dataframe\">\n  <thead>\n    <tr style=\"text-align: right;\">\n      <th></th>\n      <th>user_id</th>\n      <th>merchant_id</th>\n      <th>label</th>\n    </tr>\n  </thead>\n  <tbody>\n    <tr>\n      <th>0</th>\n      <td>34176</td>\n      <td>3906</td>\n      <td>0</td>\n    </tr>\n    <tr>\n      <th>1</th>\n      <td>34176</td>\n      <td>121</td>\n      <td>0</td>\n    </tr>\n    <tr>\n      <th>2</th>\n      <td>34176</td>\n      <td>4356</td>\n      <td>1</td>\n    </tr>\n    <tr>\n      <th>3</th>\n      <td>34176</td>\n      <td>2217</td>\n      <td>0</td>\n    </tr>\n    <tr>\n      <th>4</th>\n      <td>230784</td>\n      <td>4818</td>\n      <td>0</td>\n    </tr>\n  </tbody>\n</table>\n</div>"
     },
     "metadata": {}
    },
    {
     "output_type": "display_data",
     "data": {
      "text/plain": "   user_id  merchant_id  prob\n0   163968         4605   NaN\n1   360576         1581   NaN\n2    98688         1964   NaN\n3    98688         3645   NaN\n4   295296         3361   NaN",
      "text/html": "<div>\n<style scoped>\n    .dataframe tbody tr th:only-of-type {\n        vertical-align: middle;\n    }\n\n    .dataframe tbody tr th {\n        vertical-align: top;\n    }\n\n    .dataframe thead th {\n        text-align: right;\n    }\n</style>\n<table border=\"1\" class=\"dataframe\">\n  <thead>\n    <tr style=\"text-align: right;\">\n      <th></th>\n      <th>user_id</th>\n      <th>merchant_id</th>\n      <th>prob</th>\n    </tr>\n  </thead>\n  <tbody>\n    <tr>\n      <th>0</th>\n      <td>163968</td>\n      <td>4605</td>\n      <td>NaN</td>\n    </tr>\n    <tr>\n      <th>1</th>\n      <td>360576</td>\n      <td>1581</td>\n      <td>NaN</td>\n    </tr>\n    <tr>\n      <th>2</th>\n      <td>98688</td>\n      <td>1964</td>\n      <td>NaN</td>\n    </tr>\n    <tr>\n      <th>3</th>\n      <td>98688</td>\n      <td>3645</td>\n      <td>NaN</td>\n    </tr>\n    <tr>\n      <th>4</th>\n      <td>295296</td>\n      <td>3361</td>\n      <td>NaN</td>\n    </tr>\n  </tbody>\n</table>\n</div>"
     },
     "metadata": {}
    },
    {
     "output_type": "display_data",
     "data": {
      "text/plain": "   user_id  age_range  gender\n0   376517        6.0     1.0\n1   234512        5.0     0.0\n2   344532        5.0     0.0\n3   186135        5.0     0.0\n4    30230        5.0     0.0",
      "text/html": "<div>\n<style scoped>\n    .dataframe tbody tr th:only-of-type {\n        vertical-align: middle;\n    }\n\n    .dataframe tbody tr th {\n        vertical-align: top;\n    }\n\n    .dataframe thead th {\n        text-align: right;\n    }\n</style>\n<table border=\"1\" class=\"dataframe\">\n  <thead>\n    <tr style=\"text-align: right;\">\n      <th></th>\n      <th>user_id</th>\n      <th>age_range</th>\n      <th>gender</th>\n    </tr>\n  </thead>\n  <tbody>\n    <tr>\n      <th>0</th>\n      <td>376517</td>\n      <td>6.0</td>\n      <td>1.0</td>\n    </tr>\n    <tr>\n      <th>1</th>\n      <td>234512</td>\n      <td>5.0</td>\n      <td>0.0</td>\n    </tr>\n    <tr>\n      <th>2</th>\n      <td>344532</td>\n      <td>5.0</td>\n      <td>0.0</td>\n    </tr>\n    <tr>\n      <th>3</th>\n      <td>186135</td>\n      <td>5.0</td>\n      <td>0.0</td>\n    </tr>\n    <tr>\n      <th>4</th>\n      <td>30230</td>\n      <td>5.0</td>\n      <td>0.0</td>\n    </tr>\n  </tbody>\n</table>\n</div>"
     },
     "metadata": {}
    },
    {
     "output_type": "display_data",
     "data": {
      "text/plain": "   user_id  item_id  cat_id  seller_id  brand_id  time_stamp  action_type\n0   328862   323294     833       2882    2661.0         829            0\n1   328862   844400    1271       2882    2661.0         829            0\n2   328862   575153    1271       2882    2661.0         829            0\n3   328862   996875    1271       2882    2661.0         829            0\n4   328862  1086186    1271       1253    1049.0         829            0",
      "text/html": "<div>\n<style scoped>\n    .dataframe tbody tr th:only-of-type {\n        vertical-align: middle;\n    }\n\n    .dataframe tbody tr th {\n        vertical-align: top;\n    }\n\n    .dataframe thead th {\n        text-align: right;\n    }\n</style>\n<table border=\"1\" class=\"dataframe\">\n  <thead>\n    <tr style=\"text-align: right;\">\n      <th></th>\n      <th>user_id</th>\n      <th>item_id</th>\n      <th>cat_id</th>\n      <th>seller_id</th>\n      <th>brand_id</th>\n      <th>time_stamp</th>\n      <th>action_type</th>\n    </tr>\n  </thead>\n  <tbody>\n    <tr>\n      <th>0</th>\n      <td>328862</td>\n      <td>323294</td>\n      <td>833</td>\n      <td>2882</td>\n      <td>2661.0</td>\n      <td>829</td>\n      <td>0</td>\n    </tr>\n    <tr>\n      <th>1</th>\n      <td>328862</td>\n      <td>844400</td>\n      <td>1271</td>\n      <td>2882</td>\n      <td>2661.0</td>\n      <td>829</td>\n      <td>0</td>\n    </tr>\n    <tr>\n      <th>2</th>\n      <td>328862</td>\n      <td>575153</td>\n      <td>1271</td>\n      <td>2882</td>\n      <td>2661.0</td>\n      <td>829</td>\n      <td>0</td>\n    </tr>\n    <tr>\n      <th>3</th>\n      <td>328862</td>\n      <td>996875</td>\n      <td>1271</td>\n      <td>2882</td>\n      <td>2661.0</td>\n      <td>829</td>\n      <td>0</td>\n    </tr>\n    <tr>\n      <th>4</th>\n      <td>328862</td>\n      <td>1086186</td>\n      <td>1271</td>\n      <td>1253</td>\n      <td>1049.0</td>\n      <td>829</td>\n      <td>0</td>\n    </tr>\n  </tbody>\n</table>\n</div>"
     },
     "metadata": {}
    }
   ],
   "source": [
    "display(train_data.head())\n",
    "display(test_data.head())\n",
    "display(user_info.head())\n",
    "display(user_log.head())"
   ]
  },
  {
   "cell_type": "code",
   "execution_count": 4,
   "metadata": {
    "tags": []
   },
   "outputs": [
    {
     "output_type": "stream",
     "name": "stdout",
     "text": "&lt;class &#39;pandas.core.frame.DataFrame&#39;&gt;\nRangeIndex: 260864 entries, 0 to 260863\nData columns (total 3 columns):\n #   Column       Non-Null Count   Dtype\n---  ------       --------------   -----\n 0   user_id      260864 non-null  int64\n 1   merchant_id  260864 non-null  int64\n 2   label        260864 non-null  int64\ndtypes: int64(3)\nmemory usage: 6.0 MB\n"
    },
    {
     "output_type": "display_data",
     "data": {
      "text/plain": "None"
     },
     "metadata": {}
    },
    {
     "output_type": "stream",
     "name": "stdout",
     "text": "&lt;class &#39;pandas.core.frame.DataFrame&#39;&gt;\nRangeIndex: 261477 entries, 0 to 261476\nData columns (total 3 columns):\n #   Column       Non-Null Count   Dtype  \n---  ------       --------------   -----  \n 0   user_id      261477 non-null  int64  \n 1   merchant_id  261477 non-null  int64  \n 2   prob         0 non-null       float64\ndtypes: float64(1), int64(2)\nmemory usage: 6.0 MB\n"
    },
    {
     "output_type": "display_data",
     "data": {
      "text/plain": "None"
     },
     "metadata": {}
    },
    {
     "output_type": "stream",
     "name": "stdout",
     "text": "&lt;class &#39;pandas.core.frame.DataFrame&#39;&gt;\nRangeIndex: 424170 entries, 0 to 424169\nData columns (total 3 columns):\n #   Column     Non-Null Count   Dtype  \n---  ------     --------------   -----  \n 0   user_id    424170 non-null  int64  \n 1   age_range  421953 non-null  float64\n 2   gender     417734 non-null  float64\ndtypes: float64(2), int64(1)\nmemory usage: 9.7 MB\n"
    },
    {
     "output_type": "display_data",
     "data": {
      "text/plain": "None"
     },
     "metadata": {}
    },
    {
     "output_type": "stream",
     "name": "stdout",
     "text": "&lt;class &#39;pandas.core.frame.DataFrame&#39;&gt;\nRangeIndex: 54925330 entries, 0 to 54925329\nData columns (total 7 columns):\n #   Column       Dtype  \n---  ------       -----  \n 0   user_id      int64  \n 1   item_id      int64  \n 2   cat_id       int64  \n 3   seller_id    int64  \n 4   brand_id     float64\n 5   time_stamp   int64  \n 6   action_type  int64  \ndtypes: float64(1), int64(6)\nmemory usage: 2.9 GB\n"
    },
    {
     "output_type": "display_data",
     "data": {
      "text/plain": "None"
     },
     "metadata": {}
    }
   ],
   "source": [
    "display(train_data.info())\n",
    "display(test_data.info())\n",
    "display(user_info.info())\n",
    "display(user_log.info())"
   ]
  },
  {
   "cell_type": "markdown",
   "metadata": {},
   "source": [
    "## (二)查看缺失值"
   ]
  },
  {
   "cell_type": "code",
   "execution_count": 5,
   "metadata": {},
   "outputs": [
    {
     "output_type": "execute_result",
     "data": {
      "text/plain": "0.005226677982884221"
     },
     "metadata": {},
     "execution_count": 5
    }
   ],
   "source": [
    "#查看user_info中age_range字段缺失比例\n",
    "user_info[\"age_range\"].isnull().sum()/user_info.shape[0]"
   ]
  },
  {
   "cell_type": "code",
   "execution_count": 6,
   "metadata": {},
   "outputs": [
    {
     "output_type": "execute_result",
     "data": {
      "text/plain": "2217"
     },
     "metadata": {},
     "execution_count": 6
    }
   ],
   "source": [
    "#age_range缺失数量\n",
    "user_info[\"age_range\"].isnull().sum()"
   ]
  },
  {
   "cell_type": "code",
   "execution_count": 7,
   "metadata": {},
   "outputs": [
    {
     "output_type": "execute_result",
     "data": {
      "text/plain": "3.0    111654\n0.0     92914\n4.0     79991\n2.0     52871\n5.0     40777\n6.0     35464\n7.0      6992\n8.0      1266\n1.0        24\nName: age_range, dtype: int64"
     },
     "metadata": {},
     "execution_count": 7
    }
   ],
   "source": [
    "#查看age_range分布\n",
    "user_info[\"age_range\"].value_counts()"
   ]
  },
  {
   "cell_type": "code",
   "execution_count": 8,
   "metadata": {},
   "outputs": [
    {
     "output_type": "execute_result",
     "data": {
      "text/plain": "0.01517316170403376"
     },
     "metadata": {},
     "execution_count": 8
    }
   ],
   "source": [
    "#查看user_info中gender字段确实比例\n",
    "user_info[\"gender\"].isnull().sum()/user_info.shape[0]"
   ]
  },
  {
   "cell_type": "code",
   "execution_count": 9,
   "metadata": {},
   "outputs": [
    {
     "output_type": "execute_result",
     "data": {
      "text/plain": "6436"
     },
     "metadata": {},
     "execution_count": 9
    }
   ],
   "source": [
    "#查看gender确实数量\n",
    "user_info[\"gender\"].isnull().sum()"
   ]
  },
  {
   "cell_type": "code",
   "execution_count": 10,
   "metadata": {},
   "outputs": [
    {
     "output_type": "execute_result",
     "data": {
      "text/plain": "0.0    285638\n1.0    121670\n2.0     10426\nName: gender, dtype: int64"
     },
     "metadata": {},
     "execution_count": 10
    }
   ],
   "source": [
    "#查看gender分布\n",
    "user_info[\"gender\"].value_counts()"
   ]
  },
  {
   "cell_type": "code",
   "execution_count": 11,
   "metadata": {},
   "outputs": [
    {
     "output_type": "execute_result",
     "data": {
      "text/plain": "user_id            0\nitem_id            0\ncat_id             0\nseller_id          0\nbrand_id       91015\ntime_stamp         0\naction_type        0\ndtype: int64"
     },
     "metadata": {},
     "execution_count": 11
    }
   ],
   "source": [
    "#查看user_log缺失情况\n",
    "user_log.isnull().sum()"
   ]
  },
  {
   "cell_type": "code",
   "execution_count": 12,
   "metadata": {},
   "outputs": [
    {
     "output_type": "execute_result",
     "data": {
      "text/plain": "             user_id      age_range         gender\ncount  424170.000000  421953.000000  417734.000000\nmean   212085.500000       2.930262       0.341179\nstd    122447.476178       1.942978       0.524112\nmin         1.000000       0.000000       0.000000\n25%    106043.250000       2.000000       0.000000\n50%    212085.500000       3.000000       0.000000\n75%    318127.750000       4.000000       1.000000\nmax    424170.000000       8.000000       2.000000",
      "text/html": "<div>\n<style scoped>\n    .dataframe tbody tr th:only-of-type {\n        vertical-align: middle;\n    }\n\n    .dataframe tbody tr th {\n        vertical-align: top;\n    }\n\n    .dataframe thead th {\n        text-align: right;\n    }\n</style>\n<table border=\"1\" class=\"dataframe\">\n  <thead>\n    <tr style=\"text-align: right;\">\n      <th></th>\n      <th>user_id</th>\n      <th>age_range</th>\n      <th>gender</th>\n    </tr>\n  </thead>\n  <tbody>\n    <tr>\n      <th>count</th>\n      <td>424170.000000</td>\n      <td>421953.000000</td>\n      <td>417734.000000</td>\n    </tr>\n    <tr>\n      <th>mean</th>\n      <td>212085.500000</td>\n      <td>2.930262</td>\n      <td>0.341179</td>\n    </tr>\n    <tr>\n      <th>std</th>\n      <td>122447.476178</td>\n      <td>1.942978</td>\n      <td>0.524112</td>\n    </tr>\n    <tr>\n      <th>min</th>\n      <td>1.000000</td>\n      <td>0.000000</td>\n      <td>0.000000</td>\n    </tr>\n    <tr>\n      <th>25%</th>\n      <td>106043.250000</td>\n      <td>2.000000</td>\n      <td>0.000000</td>\n    </tr>\n    <tr>\n      <th>50%</th>\n      <td>212085.500000</td>\n      <td>3.000000</td>\n      <td>0.000000</td>\n    </tr>\n    <tr>\n      <th>75%</th>\n      <td>318127.750000</td>\n      <td>4.000000</td>\n      <td>1.000000</td>\n    </tr>\n    <tr>\n      <th>max</th>\n      <td>424170.000000</td>\n      <td>8.000000</td>\n      <td>2.000000</td>\n    </tr>\n  </tbody>\n</table>\n</div>"
     },
     "metadata": {},
     "execution_count": 12
    }
   ],
   "source": [
    "user_info.describe()"
   ]
  },
  {
   "cell_type": "code",
   "execution_count": 13,
   "metadata": {},
   "outputs": [
    {
     "output_type": "execute_result",
     "data": {
      "text/plain": "            user_id       item_id        cat_id     seller_id      brand_id    time_stamp   action_type\ncount  5.492533e+07  5.492533e+07  5.492533e+07  5.492533e+07  5.483432e+07  5.492533e+07  5.492533e+07\nmean   2.121568e+05  5.538613e+05  8.770308e+02  2.470941e+03  4.153348e+03  9.230953e+02  2.854458e-01\nstd    1.222872e+05  3.221459e+05  4.486269e+02  1.473310e+03  2.397679e+03  1.954305e+02  8.075806e-01\nmin    1.000000e+00  1.000000e+00  1.000000e+00  1.000000e+00  1.000000e+00  5.110000e+02  0.000000e+00\n25%    1.063360e+05  2.731680e+05  5.550000e+02  1.151000e+03  2.027000e+03  7.300000e+02  0.000000e+00\n50%    2.126540e+05  5.555290e+05  8.210000e+02  2.459000e+03  4.065000e+03  1.010000e+03  0.000000e+00\n75%    3.177500e+05  8.306890e+05  1.252000e+03  3.760000e+03  6.196000e+03  1.109000e+03  0.000000e+00\nmax    4.241700e+05  1.113166e+06  1.671000e+03  4.995000e+03  8.477000e+03  1.112000e+03  3.000000e+00",
      "text/html": "<div>\n<style scoped>\n    .dataframe tbody tr th:only-of-type {\n        vertical-align: middle;\n    }\n\n    .dataframe tbody tr th {\n        vertical-align: top;\n    }\n\n    .dataframe thead th {\n        text-align: right;\n    }\n</style>\n<table border=\"1\" class=\"dataframe\">\n  <thead>\n    <tr style=\"text-align: right;\">\n      <th></th>\n      <th>user_id</th>\n      <th>item_id</th>\n      <th>cat_id</th>\n      <th>seller_id</th>\n      <th>brand_id</th>\n      <th>time_stamp</th>\n      <th>action_type</th>\n    </tr>\n  </thead>\n  <tbody>\n    <tr>\n      <th>count</th>\n      <td>5.492533e+07</td>\n      <td>5.492533e+07</td>\n      <td>5.492533e+07</td>\n      <td>5.492533e+07</td>\n      <td>5.483432e+07</td>\n      <td>5.492533e+07</td>\n      <td>5.492533e+07</td>\n    </tr>\n    <tr>\n      <th>mean</th>\n      <td>2.121568e+05</td>\n      <td>5.538613e+05</td>\n      <td>8.770308e+02</td>\n      <td>2.470941e+03</td>\n      <td>4.153348e+03</td>\n      <td>9.230953e+02</td>\n      <td>2.854458e-01</td>\n    </tr>\n    <tr>\n      <th>std</th>\n      <td>1.222872e+05</td>\n      <td>3.221459e+05</td>\n      <td>4.486269e+02</td>\n      <td>1.473310e+03</td>\n      <td>2.397679e+03</td>\n      <td>1.954305e+02</td>\n      <td>8.075806e-01</td>\n    </tr>\n    <tr>\n      <th>min</th>\n      <td>1.000000e+00</td>\n      <td>1.000000e+00</td>\n      <td>1.000000e+00</td>\n      <td>1.000000e+00</td>\n      <td>1.000000e+00</td>\n      <td>5.110000e+02</td>\n      <td>0.000000e+00</td>\n    </tr>\n    <tr>\n      <th>25%</th>\n      <td>1.063360e+05</td>\n      <td>2.731680e+05</td>\n      <td>5.550000e+02</td>\n      <td>1.151000e+03</td>\n      <td>2.027000e+03</td>\n      <td>7.300000e+02</td>\n      <td>0.000000e+00</td>\n    </tr>\n    <tr>\n      <th>50%</th>\n      <td>2.126540e+05</td>\n      <td>5.555290e+05</td>\n      <td>8.210000e+02</td>\n      <td>2.459000e+03</td>\n      <td>4.065000e+03</td>\n      <td>1.010000e+03</td>\n      <td>0.000000e+00</td>\n    </tr>\n    <tr>\n      <th>75%</th>\n      <td>3.177500e+05</td>\n      <td>8.306890e+05</td>\n      <td>1.252000e+03</td>\n      <td>3.760000e+03</td>\n      <td>6.196000e+03</td>\n      <td>1.109000e+03</td>\n      <td>0.000000e+00</td>\n    </tr>\n    <tr>\n      <th>max</th>\n      <td>4.241700e+05</td>\n      <td>1.113166e+06</td>\n      <td>1.671000e+03</td>\n      <td>4.995000e+03</td>\n      <td>8.477000e+03</td>\n      <td>1.112000e+03</td>\n      <td>3.000000e+00</td>\n    </tr>\n  </tbody>\n</table>\n</div>"
     },
     "metadata": {},
     "execution_count": 13
    }
   ],
   "source": [
    "user_log.describe()"
   ]
  },
  {
   "cell_type": "code",
   "execution_count": 14,
   "metadata": {},
   "outputs": [],
   "source": [
    "label_gp=train_data[\"label\"].value_counts()"
   ]
  },
  {
   "cell_type": "code",
   "execution_count": 15,
   "metadata": {},
   "outputs": [
    {
     "output_type": "execute_result",
     "data": {
      "text/plain": "0    244912\n1     15952\nName: label, dtype: int64"
     },
     "metadata": {},
     "execution_count": 15
    }
   ],
   "source": [
    "label_gp"
   ]
  },
  {
   "cell_type": "code",
   "execution_count": 16,
   "metadata": {},
   "outputs": [
    {
     "output_type": "display_data",
     "data": {
      "text/plain": "&lt;Figure size 432x432 with 1 Axes&gt;",
      "image/svg+xml": "<?xml version=\"1.0\" encoding=\"utf-8\" standalone=\"no\"?>\r\n<!DOCTYPE svg PUBLIC \"-//W3C//DTD SVG 1.1//EN\"\r\n  \"http://www.w3.org/Graphics/SVG/1.1/DTD/svg11.dtd\">\r\n<!-- Created with matplotlib (https://matplotlib.org/) -->\r\n<svg height=\"166.581818pt\" version=\"1.1\" viewBox=\"0 0 166.581818 166.581818\" width=\"166.581818pt\" xmlns=\"http://www.w3.org/2000/svg\" xmlns:xlink=\"http://www.w3.org/1999/xlink\">\r\n <defs>\r\n  <style type=\"text/css\">\r\n*{stroke-linecap:butt;stroke-linejoin:round;}\r\n  </style>\r\n </defs>\r\n <g id=\"figure_1\">\r\n  <g id=\"patch_1\">\r\n   <path d=\"M 0 166.581818 \r\nL 166.581818 166.581818 \r\nL 166.581818 -0 \r\nL 0 -0 \r\nz\r\n\" style=\"fill:none;\"/>\r\n  </g>\r\n  <g id=\"axes_1\">\r\n   <g id=\"patch_2\">\r\n    <path d=\"M 144.163636 83.290909 \r\nC 144.163636 75.788828 142.776778 68.35098 140.073108 61.353024 \r\nC 137.369438 54.355069 133.395253 47.916838 128.351275 42.363506 \r\nC 123.307297 36.810173 117.279899 32.236833 110.573505 28.87447 \r\nC 103.867111 25.512106 96.596559 23.418296 89.129061 22.69879 \r\nC 81.661563 21.979284 74.124991 22.646403 66.899992 24.666454 \r\nC 59.674993 26.686504 52.885287 30.024895 46.873798 34.513015 \r\nC 40.86231 39.001135 35.731979 44.56213 31.741922 50.915134 \r\nC 27.751864 57.268138 24.970405 64.304362 23.538027 71.66843 \r\nC 22.105649 79.032499 22.046879 86.598311 23.364686 93.983742 \r\nC 24.682493 101.369174 27.35431 108.447758 31.245194 114.86198 \r\nC 35.136078 121.276201 40.179401 126.916223 46.120443 131.497188 \r\nC 52.061484 136.078153 58.798511 139.521617 65.991257 141.653662 \r\nC 73.184003 143.785707 80.709302 144.569824 88.187076 143.966411 \r\nC 95.66485 143.362997 102.967051 141.382385 109.72487 138.124609 \r\nC 116.482688 134.866833 122.580404 130.387679 127.710043 124.913373 \r\nC 132.839681 119.439067 136.913403 113.063351 139.725458 106.108241 \r\nL 83.290909 83.290909 \r\nL 144.163636 83.290909 \r\nz\r\n\" style=\"fill:#1f77b4;\"/>\r\n   </g>\r\n   <g id=\"patch_3\">\r\n    <path d=\"M 145.700746 107.270488 \r\nC 147.163018 103.653824 148.274243 99.904953 149.01908 96.07563 \r\nC 149.763918 92.246308 150.138925 88.354236 150.138925 84.453147 \r\nL 89.266197 84.453156 \r\nL 145.700746 107.270488 \r\nz\r\n\" style=\"fill:#ff7f0e;\"/>\r\n   </g>\r\n   <g id=\"matplotlib.axis_1\"/>\r\n   <g id=\"matplotlib.axis_2\"/>\r\n   <g id=\"text_1\">\r\n    <!-- 93.9% -->\r\n    <defs>\r\n     <path d=\"M 10.984375 1.515625 \r\nL 10.984375 10.5 \r\nQ 14.703125 8.734375 18.5 7.8125 \r\nQ 22.3125 6.890625 25.984375 6.890625 \r\nQ 35.75 6.890625 40.890625 13.453125 \r\nQ 46.046875 20.015625 46.78125 33.40625 \r\nQ 43.953125 29.203125 39.59375 26.953125 \r\nQ 35.25 24.703125 29.984375 24.703125 \r\nQ 19.046875 24.703125 12.671875 31.3125 \r\nQ 6.296875 37.9375 6.296875 49.421875 \r\nQ 6.296875 60.640625 12.9375 67.421875 \r\nQ 19.578125 74.21875 30.609375 74.21875 \r\nQ 43.265625 74.21875 49.921875 64.515625 \r\nQ 56.59375 54.828125 56.59375 36.375 \r\nQ 56.59375 19.140625 48.40625 8.859375 \r\nQ 40.234375 -1.421875 26.421875 -1.421875 \r\nQ 22.703125 -1.421875 18.890625 -0.6875 \r\nQ 15.09375 0.046875 10.984375 1.515625 \r\nz\r\nM 30.609375 32.421875 \r\nQ 37.25 32.421875 41.125 36.953125 \r\nQ 45.015625 41.5 45.015625 49.421875 \r\nQ 45.015625 57.28125 41.125 61.84375 \r\nQ 37.25 66.40625 30.609375 66.40625 \r\nQ 23.96875 66.40625 20.09375 61.84375 \r\nQ 16.21875 57.28125 16.21875 49.421875 \r\nQ 16.21875 41.5 20.09375 36.953125 \r\nQ 23.96875 32.421875 30.609375 32.421875 \r\nz\r\n\" id=\"DejaVuSans-57\"/>\r\n     <path d=\"M 40.578125 39.3125 \r\nQ 47.65625 37.796875 51.625 33 \r\nQ 55.609375 28.21875 55.609375 21.1875 \r\nQ 55.609375 10.40625 48.1875 4.484375 \r\nQ 40.765625 -1.421875 27.09375 -1.421875 \r\nQ 22.515625 -1.421875 17.65625 -0.515625 \r\nQ 12.796875 0.390625 7.625 2.203125 \r\nL 7.625 11.71875 \r\nQ 11.71875 9.328125 16.59375 8.109375 \r\nQ 21.484375 6.890625 26.8125 6.890625 \r\nQ 36.078125 6.890625 40.9375 10.546875 \r\nQ 45.796875 14.203125 45.796875 21.1875 \r\nQ 45.796875 27.640625 41.28125 31.265625 \r\nQ 36.765625 34.90625 28.71875 34.90625 \r\nL 20.21875 34.90625 \r\nL 20.21875 43.015625 \r\nL 29.109375 43.015625 \r\nQ 36.375 43.015625 40.234375 45.921875 \r\nQ 44.09375 48.828125 44.09375 54.296875 \r\nQ 44.09375 59.90625 40.109375 62.90625 \r\nQ 36.140625 65.921875 28.71875 65.921875 \r\nQ 24.65625 65.921875 20.015625 65.03125 \r\nQ 15.375 64.15625 9.8125 62.3125 \r\nL 9.8125 71.09375 \r\nQ 15.4375 72.65625 20.34375 73.4375 \r\nQ 25.25 74.21875 29.59375 74.21875 \r\nQ 40.828125 74.21875 47.359375 69.109375 \r\nQ 53.90625 64.015625 53.90625 55.328125 \r\nQ 53.90625 49.265625 50.4375 45.09375 \r\nQ 46.96875 40.921875 40.578125 39.3125 \r\nz\r\n\" id=\"DejaVuSans-51\"/>\r\n     <path d=\"M 10.6875 12.40625 \r\nL 21 12.40625 \r\nL 21 0 \r\nL 10.6875 0 \r\nz\r\n\" id=\"DejaVuSans-46\"/>\r\n     <path d=\"M 72.703125 32.078125 \r\nQ 68.453125 32.078125 66.03125 28.46875 \r\nQ 63.625 24.859375 63.625 18.40625 \r\nQ 63.625 12.0625 66.03125 8.421875 \r\nQ 68.453125 4.78125 72.703125 4.78125 \r\nQ 76.859375 4.78125 79.265625 8.421875 \r\nQ 81.6875 12.0625 81.6875 18.40625 \r\nQ 81.6875 24.8125 79.265625 28.4375 \r\nQ 76.859375 32.078125 72.703125 32.078125 \r\nz\r\nM 72.703125 38.28125 \r\nQ 80.421875 38.28125 84.953125 32.90625 \r\nQ 89.5 27.546875 89.5 18.40625 \r\nQ 89.5 9.28125 84.9375 3.921875 \r\nQ 80.375 -1.421875 72.703125 -1.421875 \r\nQ 64.890625 -1.421875 60.34375 3.921875 \r\nQ 55.8125 9.28125 55.8125 18.40625 \r\nQ 55.8125 27.59375 60.375 32.9375 \r\nQ 64.9375 38.28125 72.703125 38.28125 \r\nz\r\nM 22.3125 68.015625 \r\nQ 18.109375 68.015625 15.6875 64.375 \r\nQ 13.28125 60.75 13.28125 54.390625 \r\nQ 13.28125 47.953125 15.671875 44.328125 \r\nQ 18.0625 40.71875 22.3125 40.71875 \r\nQ 26.5625 40.71875 28.96875 44.328125 \r\nQ 31.390625 47.953125 31.390625 54.390625 \r\nQ 31.390625 60.6875 28.953125 64.34375 \r\nQ 26.515625 68.015625 22.3125 68.015625 \r\nz\r\nM 66.40625 74.21875 \r\nL 74.21875 74.21875 \r\nL 28.609375 -1.421875 \r\nL 20.796875 -1.421875 \r\nz\r\nM 22.3125 74.21875 \r\nQ 30.03125 74.21875 34.609375 68.875 \r\nQ 39.203125 63.53125 39.203125 54.390625 \r\nQ 39.203125 45.171875 34.640625 39.84375 \r\nQ 30.078125 34.515625 22.3125 34.515625 \r\nQ 14.546875 34.515625 10.03125 39.859375 \r\nQ 5.515625 45.21875 5.515625 54.390625 \r\nQ 5.515625 63.484375 10.046875 68.84375 \r\nQ 14.59375 74.21875 22.3125 74.21875 \r\nz\r\n\" id=\"DejaVuSans-37\"/>\r\n    </defs>\r\n    <g transform=\"translate(31.555586 79.076797)scale(0.1 -0.1)\">\r\n     <use xlink:href=\"#DejaVuSans-57\"/>\r\n     <use x=\"63.623047\" xlink:href=\"#DejaVuSans-51\"/>\r\n     <use x=\"127.246094\" xlink:href=\"#DejaVuSans-46\"/>\r\n     <use x=\"159.033203\" xlink:href=\"#DejaVuSans-57\"/>\r\n     <use x=\"222.65625\" xlink:href=\"#DejaVuSans-37\"/>\r\n    </g>\r\n   </g>\r\n   <g id=\"text_2\">\r\n    <!-- 6.1% -->\r\n    <defs>\r\n     <path d=\"M 33.015625 40.375 \r\nQ 26.375 40.375 22.484375 35.828125 \r\nQ 18.609375 31.296875 18.609375 23.390625 \r\nQ 18.609375 15.53125 22.484375 10.953125 \r\nQ 26.375 6.390625 33.015625 6.390625 \r\nQ 39.65625 6.390625 43.53125 10.953125 \r\nQ 47.40625 15.53125 47.40625 23.390625 \r\nQ 47.40625 31.296875 43.53125 35.828125 \r\nQ 39.65625 40.375 33.015625 40.375 \r\nz\r\nM 52.59375 71.296875 \r\nL 52.59375 62.3125 \r\nQ 48.875 64.0625 45.09375 64.984375 \r\nQ 41.3125 65.921875 37.59375 65.921875 \r\nQ 27.828125 65.921875 22.671875 59.328125 \r\nQ 17.53125 52.734375 16.796875 39.40625 \r\nQ 19.671875 43.65625 24.015625 45.921875 \r\nQ 28.375 48.1875 33.59375 48.1875 \r\nQ 44.578125 48.1875 50.953125 41.515625 \r\nQ 57.328125 34.859375 57.328125 23.390625 \r\nQ 57.328125 12.15625 50.6875 5.359375 \r\nQ 44.046875 -1.421875 33.015625 -1.421875 \r\nQ 20.359375 -1.421875 13.671875 8.265625 \r\nQ 6.984375 17.96875 6.984375 36.375 \r\nQ 6.984375 53.65625 15.1875 63.9375 \r\nQ 23.390625 74.21875 37.203125 74.21875 \r\nQ 40.921875 74.21875 44.703125 73.484375 \r\nQ 48.484375 72.75 52.59375 71.296875 \r\nz\r\n\" id=\"DejaVuSans-54\"/>\r\n     <path d=\"M 12.40625 8.296875 \r\nL 28.515625 8.296875 \r\nL 28.515625 63.921875 \r\nL 10.984375 60.40625 \r\nL 10.984375 69.390625 \r\nL 28.421875 72.90625 \r\nL 38.28125 72.90625 \r\nL 38.28125 8.296875 \r\nL 54.390625 8.296875 \r\nL 54.390625 0 \r\nL 12.40625 0 \r\nz\r\n\" id=\"DejaVuSans-49\"/>\r\n    </defs>\r\n    <g transform=\"translate(112.415583 94.186016)scale(0.1 -0.1)\">\r\n     <use xlink:href=\"#DejaVuSans-54\"/>\r\n     <use x=\"63.623047\" xlink:href=\"#DejaVuSans-46\"/>\r\n     <use x=\"95.410156\" xlink:href=\"#DejaVuSans-49\"/>\r\n     <use x=\"159.033203\" xlink:href=\"#DejaVuSans-37\"/>\r\n    </g>\r\n   </g>\r\n  </g>\r\n </g>\r\n</svg>\r\n",
      "image/png": "[encoded data removed]"
     },
     "metadata": {}
    }
   ],
   "source": [
    "#查看样本不均衡情况并可视化\n",
    "plt.figure(figsize=(6,6))\n",
    "plt.subplot(1,2,1)\n",
    "plt.pie(label_gp,autopct=\"%1.1f%%\",explode=[0,0.1])\n",
    "plt.show()"
   ]
  },
  {
   "cell_type": "markdown",
   "metadata": {},
   "source": [
    "## (三)统计分析"
   ]
  },
  {
   "cell_type": "code",
   "execution_count": 17,
   "metadata": {},
   "outputs": [
    {
     "output_type": "execute_result",
     "data": {
      "text/plain": "   user_id  merchant_id  label\n0    34176         3906      0\n1    34176          121      0\n2    34176         4356      1\n3    34176         2217      0\n4   230784         4818      0",
      "text/html": "<div>\n<style scoped>\n    .dataframe tbody tr th:only-of-type {\n        vertical-align: middle;\n    }\n\n    .dataframe tbody tr th {\n        vertical-align: top;\n    }\n\n    .dataframe thead th {\n        text-align: right;\n    }\n</style>\n<table border=\"1\" class=\"dataframe\">\n  <thead>\n    <tr style=\"text-align: right;\">\n      <th></th>\n      <th>user_id</th>\n      <th>merchant_id</th>\n      <th>label</th>\n    </tr>\n  </thead>\n  <tbody>\n    <tr>\n      <th>0</th>\n      <td>34176</td>\n      <td>3906</td>\n      <td>0</td>\n    </tr>\n    <tr>\n      <th>1</th>\n      <td>34176</td>\n      <td>121</td>\n      <td>0</td>\n    </tr>\n    <tr>\n      <th>2</th>\n      <td>34176</td>\n      <td>4356</td>\n      <td>1</td>\n    </tr>\n    <tr>\n      <th>3</th>\n      <td>34176</td>\n      <td>2217</td>\n      <td>0</td>\n    </tr>\n    <tr>\n      <th>4</th>\n      <td>230784</td>\n      <td>4818</td>\n      <td>0</td>\n    </tr>\n  </tbody>\n</table>\n</div>"
     },
     "metadata": {},
     "execution_count": 17
    }
   ],
   "source": [
    "train_data.head()"
   ]
  },
  {
   "cell_type": "code",
   "execution_count": 18,
   "metadata": {},
   "outputs": [],
   "source": [
    "#查看购买次数前5的店铺的ID号\n",
    "train_data_merchant=train_data[\"merchant_id\"].value_counts().head(5) #value_counts会根据结果默认降序排列\n",
    "train_data_merchant=pd.DataFrame(train_data_merchant)"
   ]
  },
  {
   "cell_type": "code",
   "execution_count": 19,
   "metadata": {},
   "outputs": [
    {
     "output_type": "execute_result",
     "data": {
      "text/plain": "      merchant_id\n4044         3379\n3828         3254\n4173         2542\n1102         2483\n4976         1925",
      "text/html": "<div>\n<style scoped>\n    .dataframe tbody tr th:only-of-type {\n        vertical-align: middle;\n    }\n\n    .dataframe tbody tr th {\n        vertical-align: top;\n    }\n\n    .dataframe thead th {\n        text-align: right;\n    }\n</style>\n<table border=\"1\" class=\"dataframe\">\n  <thead>\n    <tr style=\"text-align: right;\">\n      <th></th>\n      <th>merchant_id</th>\n    </tr>\n  </thead>\n  <tbody>\n    <tr>\n      <th>4044</th>\n      <td>3379</td>\n    </tr>\n    <tr>\n      <th>3828</th>\n      <td>3254</td>\n    </tr>\n    <tr>\n      <th>4173</th>\n      <td>2542</td>\n    </tr>\n    <tr>\n      <th>1102</th>\n      <td>2483</td>\n    </tr>\n    <tr>\n      <th>4976</th>\n      <td>1925</td>\n    </tr>\n  </tbody>\n</table>\n</div>"
     },
     "metadata": {},
     "execution_count": 19
    }
   ],
   "source": [
    "train_data_merchant"
   ]
  },
  {
   "cell_type": "code",
   "execution_count": 20,
   "metadata": {},
   "outputs": [],
   "source": [
    "#查看购买次数前五的店铺的复购总次数"
   ]
  },
  {
   "cell_type": "code",
   "execution_count": 21,
   "metadata": {},
   "outputs": [],
   "source": [
    "merchant_4044=train_data[train_data[\"merchant_id\"]==4044]\n",
    "merchant_3828=train_data[train_data[\"merchant_id\"]==3828]\n",
    "merchant_4173=train_data[train_data[\"merchant_id\"]==4173]\n",
    "merchant_1102=train_data[train_data[\"merchant_id\"]==1102]\n",
    "merchant_4976=train_data[train_data[\"merchant_id\"]==4976]"
   ]
  },
  {
   "cell_type": "code",
   "execution_count": 22,
   "metadata": {},
   "outputs": [
    {
     "output_type": "execute_result",
     "data": {
      "text/plain": "        user_id  merchant_id  label\n101      315264         4044      0\n279      153984         4044      0\n305       28032         4044      1\n565       76929         4044      0\n612      280449         4044      0\n...         ...          ...    ...\n259980      893         4976      0\n260343   262526         4976      0\n260349     1406         4976      0\n260737    75647         4976      0\n260823    25727         4976      0\n\n[13583 rows x 3 columns]",
      "text/html": "<div>\n<style scoped>\n    .dataframe tbody tr th:only-of-type {\n        vertical-align: middle;\n    }\n\n    .dataframe tbody tr th {\n        vertical-align: top;\n    }\n\n    .dataframe thead th {\n        text-align: right;\n    }\n</style>\n<table border=\"1\" class=\"dataframe\">\n  <thead>\n    <tr style=\"text-align: right;\">\n      <th></th>\n      <th>user_id</th>\n      <th>merchant_id</th>\n      <th>label</th>\n    </tr>\n  </thead>\n  <tbody>\n    <tr>\n      <th>101</th>\n      <td>315264</td>\n      <td>4044</td>\n      <td>0</td>\n    </tr>\n    <tr>\n      <th>279</th>\n      <td>153984</td>\n      <td>4044</td>\n      <td>0</td>\n    </tr>\n    <tr>\n      <th>305</th>\n      <td>28032</td>\n      <td>4044</td>\n      <td>1</td>\n    </tr>\n    <tr>\n      <th>565</th>\n      <td>76929</td>\n      <td>4044</td>\n      <td>0</td>\n    </tr>\n    <tr>\n      <th>612</th>\n      <td>280449</td>\n      <td>4044</td>\n      <td>0</td>\n    </tr>\n    <tr>\n      <th>...</th>\n      <td>...</td>\n      <td>...</td>\n      <td>...</td>\n    </tr>\n    <tr>\n      <th>259980</th>\n      <td>893</td>\n      <td>4976</td>\n      <td>0</td>\n    </tr>\n    <tr>\n      <th>260343</th>\n      <td>262526</td>\n      <td>4976</td>\n      <td>0</td>\n    </tr>\n    <tr>\n      <th>260349</th>\n      <td>1406</td>\n      <td>4976</td>\n      <td>0</td>\n    </tr>\n    <tr>\n      <th>260737</th>\n      <td>75647</td>\n      <td>4976</td>\n      <td>0</td>\n    </tr>\n    <tr>\n      <th>260823</th>\n      <td>25727</td>\n      <td>4976</td>\n      <td>0</td>\n    </tr>\n  </tbody>\n</table>\n<p>13583 rows × 3 columns</p>\n</div>"
     },
     "metadata": {},
     "execution_count": 22
    }
   ],
   "source": [
    "merchant_id=pd.concat([merchant_4044,merchant_3828,merchant_4173,merchant_1102,merchant_4976],axis=0)\n",
    "merchant_id"
   ]
  },
  {
   "cell_type": "code",
   "execution_count": 23,
   "metadata": {},
   "outputs": [
    {
     "output_type": "execute_result",
     "data": {
      "text/plain": "               user_id  label\nmerchant_id                  \n1102         529518675    207\n3828         687154793    410\n4044         716175866    209\n4173         539581960    173\n4976         399349634    113",
      "text/html": "<div>\n<style scoped>\n    .dataframe tbody tr th:only-of-type {\n        vertical-align: middle;\n    }\n\n    .dataframe tbody tr th {\n        vertical-align: top;\n    }\n\n    .dataframe thead th {\n        text-align: right;\n    }\n</style>\n<table border=\"1\" class=\"dataframe\">\n  <thead>\n    <tr style=\"text-align: right;\">\n      <th></th>\n      <th>user_id</th>\n      <th>label</th>\n    </tr>\n    <tr>\n      <th>merchant_id</th>\n      <th></th>\n      <th></th>\n    </tr>\n  </thead>\n  <tbody>\n    <tr>\n      <th>1102</th>\n      <td>529518675</td>\n      <td>207</td>\n    </tr>\n    <tr>\n      <th>3828</th>\n      <td>687154793</td>\n      <td>410</td>\n    </tr>\n    <tr>\n      <th>4044</th>\n      <td>716175866</td>\n      <td>209</td>\n    </tr>\n    <tr>\n      <th>4173</th>\n      <td>539581960</td>\n      <td>173</td>\n    </tr>\n    <tr>\n      <th>4976</th>\n      <td>399349634</td>\n      <td>113</td>\n    </tr>\n  </tbody>\n</table>\n</div>"
     },
     "metadata": {},
     "execution_count": 23
    }
   ],
   "source": [
    "merchant_id_groupby=merchant_id.groupby(\"merchant_id\").sum()\n",
    "merchant_id_groupby"
   ]
  },
  {
   "cell_type": "code",
   "execution_count": 24,
   "metadata": {},
   "outputs": [
    {
     "output_type": "display_data",
     "data": {
      "text/plain": "&lt;Figure size 432x288 with 1 Axes&gt;",
      "image/svg+xml": "<?xml version=\"1.0\" encoding=\"utf-8\" standalone=\"no\"?>\r\n<!DOCTYPE svg PUBLIC \"-//W3C//DTD SVG 1.1//EN\"\r\n  \"http://www.w3.org/Graphics/SVG/1.1/DTD/svg11.dtd\">\r\n<!-- Created with matplotlib (https://matplotlib.org/) -->\r\n<svg height=\"249.378676pt\" version=\"1.1\" viewBox=\"0 0 381.65 249.378676\" width=\"381.65pt\" xmlns=\"http://www.w3.org/2000/svg\" xmlns:xlink=\"http://www.w3.org/1999/xlink\">\r\n <defs>\r\n  <style type=\"text/css\">\r\n*{stroke-linecap:butt;stroke-linejoin:round;}\r\n  </style>\r\n </defs>\r\n <g id=\"figure_1\">\r\n  <g id=\"patch_1\">\r\n   <path d=\"M -0 249.378676 \r\nL 381.65 249.378676 \r\nL 381.65 0 \r\nL -0 0 \r\nz\r\n\" style=\"fill:none;\"/>\r\n  </g>\r\n  <g id=\"axes_1\">\r\n   <g id=\"patch_2\">\r\n    <path d=\"M 39.65 225.500551 \r\nL 374.45 225.500551 \r\nL 374.45 8.060551 \r\nL 39.65 8.060551 \r\nz\r\n\" style=\"fill:#ffffff;\"/>\r\n   </g>\r\n   <g id=\"patch_3\">\r\n    <path clip-path=\"url(#pd2137547f0)\" d=\"M 54.868182 225.500551 \r\nL 105.595455 225.500551 \r\nL 105.595455 18.414836 \r\nL 54.868182 18.414836 \r\nz\r\n\" style=\"fill:#1f77b4;\"/>\r\n   </g>\r\n   <g id=\"patch_4\">\r\n    <path clip-path=\"url(#pd2137547f0)\" d=\"M 118.277273 225.500551 \r\nL 169.004545 225.500551 \r\nL 169.004545 26.075598 \r\nL 118.277273 26.075598 \r\nz\r\n\" style=\"fill:#1f77b4;\"/>\r\n   </g>\r\n   <g id=\"patch_5\">\r\n    <path clip-path=\"url(#pd2137547f0)\" d=\"M 181.686364 225.500551 \r\nL 232.413636 225.500551 \r\nL 232.413636 69.711298 \r\nL 181.686364 69.711298 \r\nz\r\n\" style=\"fill:#1f77b4;\"/>\r\n   </g>\r\n   <g id=\"patch_6\">\r\n    <path clip-path=\"url(#pd2137547f0)\" d=\"M 245.095455 225.500551 \r\nL 295.822727 225.500551 \r\nL 295.822727 73.327177 \r\nL 245.095455 73.327177 \r\nz\r\n\" style=\"fill:#1f77b4;\"/>\r\n   </g>\r\n   <g id=\"patch_7\">\r\n    <path clip-path=\"url(#pd2137547f0)\" d=\"M 308.504545 225.500551 \r\nL 359.231818 225.500551 \r\nL 359.231818 107.524818 \r\nL 308.504545 107.524818 \r\nz\r\n\" style=\"fill:#1f77b4;\"/>\r\n   </g>\r\n   <g id=\"patch_8\">\r\n    <path clip-path=\"url(#pd2137547f0)\" d=\"M 54.868182 225.500551 \r\nL 105.595455 225.500551 \r\nL 105.595455 212.814329 \r\nL 54.868182 212.814329 \r\nz\r\n\" style=\"fill:#ff7f0e;\"/>\r\n   </g>\r\n   <g id=\"patch_9\">\r\n    <path clip-path=\"url(#pd2137547f0)\" d=\"M 118.277273 225.500551 \r\nL 169.004545 225.500551 \r\nL 169.004545 200.373252 \r\nL 118.277273 200.373252 \r\nz\r\n\" style=\"fill:#ff7f0e;\"/>\r\n   </g>\r\n   <g id=\"patch_10\">\r\n    <path clip-path=\"url(#pd2137547f0)\" d=\"M 181.686364 225.500551 \r\nL 232.413636 225.500551 \r\nL 232.413636 212.691757 \r\nL 181.686364 212.691757 \r\nz\r\n\" style=\"fill:#ff7f0e;\"/>\r\n   </g>\r\n   <g id=\"patch_11\">\r\n    <path clip-path=\"url(#pd2137547f0)\" d=\"M 245.095455 225.500551 \r\nL 295.822727 225.500551 \r\nL 295.822727 214.898056 \r\nL 245.095455 214.898056 \r\nz\r\n\" style=\"fill:#ff7f0e;\"/>\r\n   </g>\r\n   <g id=\"patch_12\">\r\n    <path clip-path=\"url(#pd2137547f0)\" d=\"M 308.504545 225.500551 \r\nL 359.231818 225.500551 \r\nL 359.231818 218.575222 \r\nL 308.504545 218.575222 \r\nz\r\n\" style=\"fill:#ff7f0e;\"/>\r\n   </g>\r\n   <g id=\"matplotlib.axis_1\">\r\n    <g id=\"xtick_1\">\r\n     <g id=\"line2d_1\">\r\n      <defs>\r\n       <path d=\"M 0 0 \r\nL 0 3.5 \r\n\" id=\"m0b93f26cff\" style=\"stroke:#000000;stroke-width:0.8;\"/>\r\n      </defs>\r\n      <g>\r\n       <use style=\"stroke:#000000;stroke-width:0.8;\" x=\"80.231818\" xlink:href=\"#m0b93f26cff\" y=\"225.500551\"/>\r\n      </g>\r\n     </g>\r\n     <g id=\"text_1\">\r\n      <!-- 1102 -->\r\n      <defs>\r\n       <path d=\"M 12.40625 8.296875 \r\nL 28.515625 8.296875 \r\nL 28.515625 63.921875 \r\nL 10.984375 60.40625 \r\nL 10.984375 69.390625 \r\nL 28.421875 72.90625 \r\nL 38.28125 72.90625 \r\nL 38.28125 8.296875 \r\nL 54.390625 8.296875 \r\nL 54.390625 0 \r\nL 12.40625 0 \r\nz\r\n\" id=\"DejaVuSans-49\"/>\r\n       <path d=\"M 31.78125 66.40625 \r\nQ 24.171875 66.40625 20.328125 58.90625 \r\nQ 16.5 51.421875 16.5 36.375 \r\nQ 16.5 21.390625 20.328125 13.890625 \r\nQ 24.171875 6.390625 31.78125 6.390625 \r\nQ 39.453125 6.390625 43.28125 13.890625 \r\nQ 47.125 21.390625 47.125 36.375 \r\nQ 47.125 51.421875 43.28125 58.90625 \r\nQ 39.453125 66.40625 31.78125 66.40625 \r\nz\r\nM 31.78125 74.21875 \r\nQ 44.046875 74.21875 50.515625 64.515625 \r\nQ 56.984375 54.828125 56.984375 36.375 \r\nQ 56.984375 17.96875 50.515625 8.265625 \r\nQ 44.046875 -1.421875 31.78125 -1.421875 \r\nQ 19.53125 -1.421875 13.0625 8.265625 \r\nQ 6.59375 17.96875 6.59375 36.375 \r\nQ 6.59375 54.828125 13.0625 64.515625 \r\nQ 19.53125 74.21875 31.78125 74.21875 \r\nz\r\n\" id=\"DejaVuSans-48\"/>\r\n       <path d=\"M 19.1875 8.296875 \r\nL 53.609375 8.296875 \r\nL 53.609375 0 \r\nL 7.328125 0 \r\nL 7.328125 8.296875 \r\nQ 12.9375 14.109375 22.625 23.890625 \r\nQ 32.328125 33.6875 34.8125 36.53125 \r\nQ 39.546875 41.84375 41.421875 45.53125 \r\nQ 43.3125 49.21875 43.3125 52.78125 \r\nQ 43.3125 58.59375 39.234375 62.25 \r\nQ 35.15625 65.921875 28.609375 65.921875 \r\nQ 23.96875 65.921875 18.8125 64.3125 \r\nQ 13.671875 62.703125 7.8125 59.421875 \r\nL 7.8125 69.390625 \r\nQ 13.765625 71.78125 18.9375 73 \r\nQ 24.125 74.21875 28.421875 74.21875 \r\nQ 39.75 74.21875 46.484375 68.546875 \r\nQ 53.21875 62.890625 53.21875 53.421875 \r\nQ 53.21875 48.921875 51.53125 44.890625 \r\nQ 49.859375 40.875 45.40625 35.40625 \r\nQ 44.1875 33.984375 37.640625 27.21875 \r\nQ 31.109375 20.453125 19.1875 8.296875 \r\nz\r\n\" id=\"DejaVuSans-50\"/>\r\n      </defs>\r\n      <g transform=\"translate(67.506818 240.098988)scale(0.1 -0.1)\">\r\n       <use xlink:href=\"#DejaVuSans-49\"/>\r\n       <use x=\"63.623047\" xlink:href=\"#DejaVuSans-49\"/>\r\n       <use x=\"127.246094\" xlink:href=\"#DejaVuSans-48\"/>\r\n       <use x=\"190.869141\" xlink:href=\"#DejaVuSans-50\"/>\r\n      </g>\r\n     </g>\r\n    </g>\r\n    <g id=\"xtick_2\">\r\n     <g id=\"line2d_2\">\r\n      <g>\r\n       <use style=\"stroke:#000000;stroke-width:0.8;\" x=\"143.640909\" xlink:href=\"#m0b93f26cff\" y=\"225.500551\"/>\r\n      </g>\r\n     </g>\r\n     <g id=\"text_2\">\r\n      <!-- 3828 -->\r\n      <defs>\r\n       <path d=\"M 40.578125 39.3125 \r\nQ 47.65625 37.796875 51.625 33 \r\nQ 55.609375 28.21875 55.609375 21.1875 \r\nQ 55.609375 10.40625 48.1875 4.484375 \r\nQ 40.765625 -1.421875 27.09375 -1.421875 \r\nQ 22.515625 -1.421875 17.65625 -0.515625 \r\nQ 12.796875 0.390625 7.625 2.203125 \r\nL 7.625 11.71875 \r\nQ 11.71875 9.328125 16.59375 8.109375 \r\nQ 21.484375 6.890625 26.8125 6.890625 \r\nQ 36.078125 6.890625 40.9375 10.546875 \r\nQ 45.796875 14.203125 45.796875 21.1875 \r\nQ 45.796875 27.640625 41.28125 31.265625 \r\nQ 36.765625 34.90625 28.71875 34.90625 \r\nL 20.21875 34.90625 \r\nL 20.21875 43.015625 \r\nL 29.109375 43.015625 \r\nQ 36.375 43.015625 40.234375 45.921875 \r\nQ 44.09375 48.828125 44.09375 54.296875 \r\nQ 44.09375 59.90625 40.109375 62.90625 \r\nQ 36.140625 65.921875 28.71875 65.921875 \r\nQ 24.65625 65.921875 20.015625 65.03125 \r\nQ 15.375 64.15625 9.8125 62.3125 \r\nL 9.8125 71.09375 \r\nQ 15.4375 72.65625 20.34375 73.4375 \r\nQ 25.25 74.21875 29.59375 74.21875 \r\nQ 40.828125 74.21875 47.359375 69.109375 \r\nQ 53.90625 64.015625 53.90625 55.328125 \r\nQ 53.90625 49.265625 50.4375 45.09375 \r\nQ 46.96875 40.921875 40.578125 39.3125 \r\nz\r\n\" id=\"DejaVuSans-51\"/>\r\n       <path d=\"M 31.78125 34.625 \r\nQ 24.75 34.625 20.71875 30.859375 \r\nQ 16.703125 27.09375 16.703125 20.515625 \r\nQ 16.703125 13.921875 20.71875 10.15625 \r\nQ 24.75 6.390625 31.78125 6.390625 \r\nQ 38.8125 6.390625 42.859375 10.171875 \r\nQ 46.921875 13.96875 46.921875 20.515625 \r\nQ 46.921875 27.09375 42.890625 30.859375 \r\nQ 38.875 34.625 31.78125 34.625 \r\nz\r\nM 21.921875 38.8125 \r\nQ 15.578125 40.375 12.03125 44.71875 \r\nQ 8.5 49.078125 8.5 55.328125 \r\nQ 8.5 64.0625 14.71875 69.140625 \r\nQ 20.953125 74.21875 31.78125 74.21875 \r\nQ 42.671875 74.21875 48.875 69.140625 \r\nQ 55.078125 64.0625 55.078125 55.328125 \r\nQ 55.078125 49.078125 51.53125 44.71875 \r\nQ 48 40.375 41.703125 38.8125 \r\nQ 48.828125 37.15625 52.796875 32.3125 \r\nQ 56.78125 27.484375 56.78125 20.515625 \r\nQ 56.78125 9.90625 50.3125 4.234375 \r\nQ 43.84375 -1.421875 31.78125 -1.421875 \r\nQ 19.734375 -1.421875 13.25 4.234375 \r\nQ 6.78125 9.90625 6.78125 20.515625 \r\nQ 6.78125 27.484375 10.78125 32.3125 \r\nQ 14.796875 37.15625 21.921875 38.8125 \r\nz\r\nM 18.3125 54.390625 \r\nQ 18.3125 48.734375 21.84375 45.5625 \r\nQ 25.390625 42.390625 31.78125 42.390625 \r\nQ 38.140625 42.390625 41.71875 45.5625 \r\nQ 45.3125 48.734375 45.3125 54.390625 \r\nQ 45.3125 60.0625 41.71875 63.234375 \r\nQ 38.140625 66.40625 31.78125 66.40625 \r\nQ 25.390625 66.40625 21.84375 63.234375 \r\nQ 18.3125 60.0625 18.3125 54.390625 \r\nz\r\n\" id=\"DejaVuSans-56\"/>\r\n      </defs>\r\n      <g transform=\"translate(130.915909 240.098988)scale(0.1 -0.1)\">\r\n       <use xlink:href=\"#DejaVuSans-51\"/>\r\n       <use x=\"63.623047\" xlink:href=\"#DejaVuSans-56\"/>\r\n       <use x=\"127.246094\" xlink:href=\"#DejaVuSans-50\"/>\r\n       <use x=\"190.869141\" xlink:href=\"#DejaVuSans-56\"/>\r\n      </g>\r\n     </g>\r\n    </g>\r\n    <g id=\"xtick_3\">\r\n     <g id=\"line2d_3\">\r\n      <g>\r\n       <use style=\"stroke:#000000;stroke-width:0.8;\" x=\"207.05\" xlink:href=\"#m0b93f26cff\" y=\"225.500551\"/>\r\n      </g>\r\n     </g>\r\n     <g id=\"text_3\">\r\n      <!-- 4044 -->\r\n      <defs>\r\n       <path d=\"M 37.796875 64.3125 \r\nL 12.890625 25.390625 \r\nL 37.796875 25.390625 \r\nz\r\nM 35.203125 72.90625 \r\nL 47.609375 72.90625 \r\nL 47.609375 25.390625 \r\nL 58.015625 25.390625 \r\nL 58.015625 17.1875 \r\nL 47.609375 17.1875 \r\nL 47.609375 0 \r\nL 37.796875 0 \r\nL 37.796875 17.1875 \r\nL 4.890625 17.1875 \r\nL 4.890625 26.703125 \r\nz\r\n\" id=\"DejaVuSans-52\"/>\r\n      </defs>\r\n      <g transform=\"translate(194.325 240.098988)scale(0.1 -0.1)\">\r\n       <use xlink:href=\"#DejaVuSans-52\"/>\r\n       <use x=\"63.623047\" xlink:href=\"#DejaVuSans-48\"/>\r\n       <use x=\"127.246094\" xlink:href=\"#DejaVuSans-52\"/>\r\n       <use x=\"190.869141\" xlink:href=\"#DejaVuSans-52\"/>\r\n      </g>\r\n     </g>\r\n    </g>\r\n    <g id=\"xtick_4\">\r\n     <g id=\"line2d_4\">\r\n      <g>\r\n       <use style=\"stroke:#000000;stroke-width:0.8;\" x=\"270.459091\" xlink:href=\"#m0b93f26cff\" y=\"225.500551\"/>\r\n      </g>\r\n     </g>\r\n     <g id=\"text_4\">\r\n      <!-- 4173 -->\r\n      <defs>\r\n       <path d=\"M 8.203125 72.90625 \r\nL 55.078125 72.90625 \r\nL 55.078125 68.703125 \r\nL 28.609375 0 \r\nL 18.3125 0 \r\nL 43.21875 64.59375 \r\nL 8.203125 64.59375 \r\nz\r\n\" id=\"DejaVuSans-55\"/>\r\n      </defs>\r\n      <g transform=\"translate(257.734091 240.098988)scale(0.1 -0.1)\">\r\n       <use xlink:href=\"#DejaVuSans-52\"/>\r\n       <use x=\"63.623047\" xlink:href=\"#DejaVuSans-49\"/>\r\n       <use x=\"127.246094\" xlink:href=\"#DejaVuSans-55\"/>\r\n       <use x=\"190.869141\" xlink:href=\"#DejaVuSans-51\"/>\r\n      </g>\r\n     </g>\r\n    </g>\r\n    <g id=\"xtick_5\">\r\n     <g id=\"line2d_5\">\r\n      <g>\r\n       <use style=\"stroke:#000000;stroke-width:0.8;\" x=\"333.868182\" xlink:href=\"#m0b93f26cff\" y=\"225.500551\"/>\r\n      </g>\r\n     </g>\r\n     <g id=\"text_5\">\r\n      <!-- 4976 -->\r\n      <defs>\r\n       <path d=\"M 10.984375 1.515625 \r\nL 10.984375 10.5 \r\nQ 14.703125 8.734375 18.5 7.8125 \r\nQ 22.3125 6.890625 25.984375 6.890625 \r\nQ 35.75 6.890625 40.890625 13.453125 \r\nQ 46.046875 20.015625 46.78125 33.40625 \r\nQ 43.953125 29.203125 39.59375 26.953125 \r\nQ 35.25 24.703125 29.984375 24.703125 \r\nQ 19.046875 24.703125 12.671875 31.3125 \r\nQ 6.296875 37.9375 6.296875 49.421875 \r\nQ 6.296875 60.640625 12.9375 67.421875 \r\nQ 19.578125 74.21875 30.609375 74.21875 \r\nQ 43.265625 74.21875 49.921875 64.515625 \r\nQ 56.59375 54.828125 56.59375 36.375 \r\nQ 56.59375 19.140625 48.40625 8.859375 \r\nQ 40.234375 -1.421875 26.421875 -1.421875 \r\nQ 22.703125 -1.421875 18.890625 -0.6875 \r\nQ 15.09375 0.046875 10.984375 1.515625 \r\nz\r\nM 30.609375 32.421875 \r\nQ 37.25 32.421875 41.125 36.953125 \r\nQ 45.015625 41.5 45.015625 49.421875 \r\nQ 45.015625 57.28125 41.125 61.84375 \r\nQ 37.25 66.40625 30.609375 66.40625 \r\nQ 23.96875 66.40625 20.09375 61.84375 \r\nQ 16.21875 57.28125 16.21875 49.421875 \r\nQ 16.21875 41.5 20.09375 36.953125 \r\nQ 23.96875 32.421875 30.609375 32.421875 \r\nz\r\n\" id=\"DejaVuSans-57\"/>\r\n       <path d=\"M 33.015625 40.375 \r\nQ 26.375 40.375 22.484375 35.828125 \r\nQ 18.609375 31.296875 18.609375 23.390625 \r\nQ 18.609375 15.53125 22.484375 10.953125 \r\nQ 26.375 6.390625 33.015625 6.390625 \r\nQ 39.65625 6.390625 43.53125 10.953125 \r\nQ 47.40625 15.53125 47.40625 23.390625 \r\nQ 47.40625 31.296875 43.53125 35.828125 \r\nQ 39.65625 40.375 33.015625 40.375 \r\nz\r\nM 52.59375 71.296875 \r\nL 52.59375 62.3125 \r\nQ 48.875 64.0625 45.09375 64.984375 \r\nQ 41.3125 65.921875 37.59375 65.921875 \r\nQ 27.828125 65.921875 22.671875 59.328125 \r\nQ 17.53125 52.734375 16.796875 39.40625 \r\nQ 19.671875 43.65625 24.015625 45.921875 \r\nQ 28.375 48.1875 33.59375 48.1875 \r\nQ 44.578125 48.1875 50.953125 41.515625 \r\nQ 57.328125 34.859375 57.328125 23.390625 \r\nQ 57.328125 12.15625 50.6875 5.359375 \r\nQ 44.046875 -1.421875 33.015625 -1.421875 \r\nQ 20.359375 -1.421875 13.671875 8.265625 \r\nQ 6.984375 17.96875 6.984375 36.375 \r\nQ 6.984375 53.65625 15.1875 63.9375 \r\nQ 23.390625 74.21875 37.203125 74.21875 \r\nQ 40.921875 74.21875 44.703125 73.484375 \r\nQ 48.484375 72.75 52.59375 71.296875 \r\nz\r\n\" id=\"DejaVuSans-54\"/>\r\n      </defs>\r\n      <g transform=\"translate(321.143182 240.098988)scale(0.1 -0.1)\">\r\n       <use xlink:href=\"#DejaVuSans-52\"/>\r\n       <use x=\"63.623047\" xlink:href=\"#DejaVuSans-57\"/>\r\n       <use x=\"127.246094\" xlink:href=\"#DejaVuSans-55\"/>\r\n       <use x=\"190.869141\" xlink:href=\"#DejaVuSans-54\"/>\r\n      </g>\r\n     </g>\r\n    </g>\r\n   </g>\r\n   <g id=\"matplotlib.axis_2\">\r\n    <g id=\"ytick_1\">\r\n     <g id=\"line2d_6\">\r\n      <defs>\r\n       <path d=\"M 0 0 \r\nL -3.5 0 \r\n\" id=\"mc587443b03\" style=\"stroke:#000000;stroke-width:0.8;\"/>\r\n      </defs>\r\n      <g>\r\n       <use style=\"stroke:#000000;stroke-width:0.8;\" x=\"39.65\" xlink:href=\"#mc587443b03\" y=\"225.500551\"/>\r\n      </g>\r\n     </g>\r\n     <g id=\"text_6\">\r\n      <!-- 0 -->\r\n      <g transform=\"translate(26.2875 229.299769)scale(0.1 -0.1)\">\r\n       <use xlink:href=\"#DejaVuSans-48\"/>\r\n      </g>\r\n     </g>\r\n    </g>\r\n    <g id=\"ytick_2\">\r\n     <g id=\"line2d_7\">\r\n      <g>\r\n       <use style=\"stroke:#000000;stroke-width:0.8;\" x=\"39.65\" xlink:href=\"#mc587443b03\" y=\"194.857503\"/>\r\n      </g>\r\n     </g>\r\n     <g id=\"text_7\">\r\n      <!-- 500 -->\r\n      <defs>\r\n       <path d=\"M 10.796875 72.90625 \r\nL 49.515625 72.90625 \r\nL 49.515625 64.59375 \r\nL 19.828125 64.59375 \r\nL 19.828125 46.734375 \r\nQ 21.96875 47.46875 24.109375 47.828125 \r\nQ 26.265625 48.1875 28.421875 48.1875 \r\nQ 40.625 48.1875 47.75 41.5 \r\nQ 54.890625 34.8125 54.890625 23.390625 \r\nQ 54.890625 11.625 47.5625 5.09375 \r\nQ 40.234375 -1.421875 26.90625 -1.421875 \r\nQ 22.3125 -1.421875 17.546875 -0.640625 \r\nQ 12.796875 0.140625 7.71875 1.703125 \r\nL 7.71875 11.625 \r\nQ 12.109375 9.234375 16.796875 8.0625 \r\nQ 21.484375 6.890625 26.703125 6.890625 \r\nQ 35.15625 6.890625 40.078125 11.328125 \r\nQ 45.015625 15.765625 45.015625 23.390625 \r\nQ 45.015625 31 40.078125 35.4375 \r\nQ 35.15625 39.890625 26.703125 39.890625 \r\nQ 22.75 39.890625 18.8125 39.015625 \r\nQ 14.890625 38.140625 10.796875 36.28125 \r\nz\r\n\" id=\"DejaVuSans-53\"/>\r\n      </defs>\r\n      <g transform=\"translate(13.5625 198.656722)scale(0.1 -0.1)\">\r\n       <use xlink:href=\"#DejaVuSans-53\"/>\r\n       <use x=\"63.623047\" xlink:href=\"#DejaVuSans-48\"/>\r\n       <use x=\"127.246094\" xlink:href=\"#DejaVuSans-48\"/>\r\n      </g>\r\n     </g>\r\n    </g>\r\n    <g id=\"ytick_3\">\r\n     <g id=\"line2d_8\">\r\n      <g>\r\n       <use style=\"stroke:#000000;stroke-width:0.8;\" x=\"39.65\" xlink:href=\"#mc587443b03\" y=\"164.214456\"/>\r\n      </g>\r\n     </g>\r\n     <g id=\"text_8\">\r\n      <!-- 1000 -->\r\n      <g transform=\"translate(7.2 168.013674)scale(0.1 -0.1)\">\r\n       <use xlink:href=\"#DejaVuSans-49\"/>\r\n       <use x=\"63.623047\" xlink:href=\"#DejaVuSans-48\"/>\r\n       <use x=\"127.246094\" xlink:href=\"#DejaVuSans-48\"/>\r\n       <use x=\"190.869141\" xlink:href=\"#DejaVuSans-48\"/>\r\n      </g>\r\n     </g>\r\n    </g>\r\n    <g id=\"ytick_4\">\r\n     <g id=\"line2d_9\">\r\n      <g>\r\n       <use style=\"stroke:#000000;stroke-width:0.8;\" x=\"39.65\" xlink:href=\"#mc587443b03\" y=\"133.571408\"/>\r\n      </g>\r\n     </g>\r\n     <g id=\"text_9\">\r\n      <!-- 1500 -->\r\n      <g transform=\"translate(7.2 137.370627)scale(0.1 -0.1)\">\r\n       <use xlink:href=\"#DejaVuSans-49\"/>\r\n       <use x=\"63.623047\" xlink:href=\"#DejaVuSans-53\"/>\r\n       <use x=\"127.246094\" xlink:href=\"#DejaVuSans-48\"/>\r\n       <use x=\"190.869141\" xlink:href=\"#DejaVuSans-48\"/>\r\n      </g>\r\n     </g>\r\n    </g>\r\n    <g id=\"ytick_5\">\r\n     <g id=\"line2d_10\">\r\n      <g>\r\n       <use style=\"stroke:#000000;stroke-width:0.8;\" x=\"39.65\" xlink:href=\"#mc587443b03\" y=\"102.928361\"/>\r\n      </g>\r\n     </g>\r\n     <g id=\"text_10\">\r\n      <!-- 2000 -->\r\n      <g transform=\"translate(7.2 106.72758)scale(0.1 -0.1)\">\r\n       <use xlink:href=\"#DejaVuSans-50\"/>\r\n       <use x=\"63.623047\" xlink:href=\"#DejaVuSans-48\"/>\r\n       <use x=\"127.246094\" xlink:href=\"#DejaVuSans-48\"/>\r\n       <use x=\"190.869141\" xlink:href=\"#DejaVuSans-48\"/>\r\n      </g>\r\n     </g>\r\n    </g>\r\n    <g id=\"ytick_6\">\r\n     <g id=\"line2d_11\">\r\n      <g>\r\n       <use style=\"stroke:#000000;stroke-width:0.8;\" x=\"39.65\" xlink:href=\"#mc587443b03\" y=\"72.285314\"/>\r\n      </g>\r\n     </g>\r\n     <g id=\"text_11\">\r\n      <!-- 2500 -->\r\n      <g transform=\"translate(7.2 76.084532)scale(0.1 -0.1)\">\r\n       <use xlink:href=\"#DejaVuSans-50\"/>\r\n       <use x=\"63.623047\" xlink:href=\"#DejaVuSans-53\"/>\r\n       <use x=\"127.246094\" xlink:href=\"#DejaVuSans-48\"/>\r\n       <use x=\"190.869141\" xlink:href=\"#DejaVuSans-48\"/>\r\n      </g>\r\n     </g>\r\n    </g>\r\n    <g id=\"ytick_7\">\r\n     <g id=\"line2d_12\">\r\n      <g>\r\n       <use style=\"stroke:#000000;stroke-width:0.8;\" x=\"39.65\" xlink:href=\"#mc587443b03\" y=\"41.642266\"/>\r\n      </g>\r\n     </g>\r\n     <g id=\"text_12\">\r\n      <!-- 3000 -->\r\n      <g transform=\"translate(7.2 45.441485)scale(0.1 -0.1)\">\r\n       <use xlink:href=\"#DejaVuSans-51\"/>\r\n       <use x=\"63.623047\" xlink:href=\"#DejaVuSans-48\"/>\r\n       <use x=\"127.246094\" xlink:href=\"#DejaVuSans-48\"/>\r\n       <use x=\"190.869141\" xlink:href=\"#DejaVuSans-48\"/>\r\n      </g>\r\n     </g>\r\n    </g>\r\n    <g id=\"ytick_8\">\r\n     <g id=\"line2d_13\">\r\n      <g>\r\n       <use style=\"stroke:#000000;stroke-width:0.8;\" x=\"39.65\" xlink:href=\"#mc587443b03\" y=\"10.999219\"/>\r\n      </g>\r\n     </g>\r\n     <g id=\"text_13\">\r\n      <!-- 3500 -->\r\n      <g transform=\"translate(7.2 14.798437)scale(0.1 -0.1)\">\r\n       <use xlink:href=\"#DejaVuSans-51\"/>\r\n       <use x=\"63.623047\" xlink:href=\"#DejaVuSans-53\"/>\r\n       <use x=\"127.246094\" xlink:href=\"#DejaVuSans-48\"/>\r\n       <use x=\"190.869141\" xlink:href=\"#DejaVuSans-48\"/>\r\n      </g>\r\n     </g>\r\n    </g>\r\n   </g>\r\n   <g id=\"patch_13\">\r\n    <path d=\"M 39.65 225.500551 \r\nL 39.65 8.060551 \r\n\" style=\"fill:none;stroke:#000000;stroke-linecap:square;stroke-linejoin:miter;stroke-width:0.8;\"/>\r\n   </g>\r\n   <g id=\"patch_14\">\r\n    <path d=\"M 374.45 225.500551 \r\nL 374.45 8.060551 \r\n\" style=\"fill:none;stroke:#000000;stroke-linecap:square;stroke-linejoin:miter;stroke-width:0.8;\"/>\r\n   </g>\r\n   <g id=\"patch_15\">\r\n    <path d=\"M 39.65 225.500551 \r\nL 374.45 225.500551 \r\n\" style=\"fill:none;stroke:#000000;stroke-linecap:square;stroke-linejoin:miter;stroke-width:0.8;\"/>\r\n   </g>\r\n   <g id=\"patch_16\">\r\n    <path d=\"M 39.65 8.060551 \r\nL 374.45 8.060551 \r\n\" style=\"fill:none;stroke:#000000;stroke-linecap:square;stroke-linejoin:miter;stroke-width:0.8;\"/>\r\n   </g>\r\n   <g id=\"legend_1\">\r\n    <g id=\"patch_17\">\r\n     <path d=\"M 285.946875 45.416801 \r\nL 367.45 45.416801 \r\nQ 369.45 45.416801 369.45 43.416801 \r\nL 369.45 15.060551 \r\nQ 369.45 13.060551 367.45 13.060551 \r\nL 285.946875 13.060551 \r\nQ 283.946875 13.060551 283.946875 15.060551 \r\nL 283.946875 43.416801 \r\nQ 283.946875 45.416801 285.946875 45.416801 \r\nz\r\n\" style=\"fill:#ffffff;opacity:0.8;stroke:#cccccc;stroke-linejoin:miter;\"/>\r\n    </g>\r\n    <g id=\"patch_18\">\r\n     <path d=\"M 287.946875 24.658988 \r\nL 307.946875 24.658988 \r\nL 307.946875 17.658988 \r\nL 287.946875 17.658988 \r\nz\r\n\" style=\"fill:#1f77b4;\"/>\r\n    </g>\r\n    <g id=\"text_14\">\r\n     <!-- count -->\r\n     <defs>\r\n      <path d=\"M 48.78125 52.59375 \r\nL 48.78125 44.1875 \r\nQ 44.96875 46.296875 41.140625 47.34375 \r\nQ 37.3125 48.390625 33.40625 48.390625 \r\nQ 24.65625 48.390625 19.8125 42.84375 \r\nQ 14.984375 37.3125 14.984375 27.296875 \r\nQ 14.984375 17.28125 19.8125 11.734375 \r\nQ 24.65625 6.203125 33.40625 6.203125 \r\nQ 37.3125 6.203125 41.140625 7.25 \r\nQ 44.96875 8.296875 48.78125 10.40625 \r\nL 48.78125 2.09375 \r\nQ 45.015625 0.34375 40.984375 -0.53125 \r\nQ 36.96875 -1.421875 32.421875 -1.421875 \r\nQ 20.0625 -1.421875 12.78125 6.34375 \r\nQ 5.515625 14.109375 5.515625 27.296875 \r\nQ 5.515625 40.671875 12.859375 48.328125 \r\nQ 20.21875 56 33.015625 56 \r\nQ 37.15625 56 41.109375 55.140625 \r\nQ 45.0625 54.296875 48.78125 52.59375 \r\nz\r\n\" id=\"DejaVuSans-99\"/>\r\n      <path d=\"M 30.609375 48.390625 \r\nQ 23.390625 48.390625 19.1875 42.75 \r\nQ 14.984375 37.109375 14.984375 27.296875 \r\nQ 14.984375 17.484375 19.15625 11.84375 \r\nQ 23.34375 6.203125 30.609375 6.203125 \r\nQ 37.796875 6.203125 41.984375 11.859375 \r\nQ 46.1875 17.53125 46.1875 27.296875 \r\nQ 46.1875 37.015625 41.984375 42.703125 \r\nQ 37.796875 48.390625 30.609375 48.390625 \r\nz\r\nM 30.609375 56 \r\nQ 42.328125 56 49.015625 48.375 \r\nQ 55.71875 40.765625 55.71875 27.296875 \r\nQ 55.71875 13.875 49.015625 6.21875 \r\nQ 42.328125 -1.421875 30.609375 -1.421875 \r\nQ 18.84375 -1.421875 12.171875 6.21875 \r\nQ 5.515625 13.875 5.515625 27.296875 \r\nQ 5.515625 40.765625 12.171875 48.375 \r\nQ 18.84375 56 30.609375 56 \r\nz\r\n\" id=\"DejaVuSans-111\"/>\r\n      <path d=\"M 8.5 21.578125 \r\nL 8.5 54.6875 \r\nL 17.484375 54.6875 \r\nL 17.484375 21.921875 \r\nQ 17.484375 14.15625 20.5 10.265625 \r\nQ 23.53125 6.390625 29.59375 6.390625 \r\nQ 36.859375 6.390625 41.078125 11.03125 \r\nQ 45.3125 15.671875 45.3125 23.6875 \r\nL 45.3125 54.6875 \r\nL 54.296875 54.6875 \r\nL 54.296875 0 \r\nL 45.3125 0 \r\nL 45.3125 8.40625 \r\nQ 42.046875 3.421875 37.71875 1 \r\nQ 33.40625 -1.421875 27.6875 -1.421875 \r\nQ 18.265625 -1.421875 13.375 4.4375 \r\nQ 8.5 10.296875 8.5 21.578125 \r\nz\r\nM 31.109375 56 \r\nz\r\n\" id=\"DejaVuSans-117\"/>\r\n      <path d=\"M 54.890625 33.015625 \r\nL 54.890625 0 \r\nL 45.90625 0 \r\nL 45.90625 32.71875 \r\nQ 45.90625 40.484375 42.875 44.328125 \r\nQ 39.84375 48.1875 33.796875 48.1875 \r\nQ 26.515625 48.1875 22.3125 43.546875 \r\nQ 18.109375 38.921875 18.109375 30.90625 \r\nL 18.109375 0 \r\nL 9.078125 0 \r\nL 9.078125 54.6875 \r\nL 18.109375 54.6875 \r\nL 18.109375 46.1875 \r\nQ 21.34375 51.125 25.703125 53.5625 \r\nQ 30.078125 56 35.796875 56 \r\nQ 45.21875 56 50.046875 50.171875 \r\nQ 54.890625 44.34375 54.890625 33.015625 \r\nz\r\n\" id=\"DejaVuSans-110\"/>\r\n      <path d=\"M 18.3125 70.21875 \r\nL 18.3125 54.6875 \r\nL 36.8125 54.6875 \r\nL 36.8125 47.703125 \r\nL 18.3125 47.703125 \r\nL 18.3125 18.015625 \r\nQ 18.3125 11.328125 20.140625 9.421875 \r\nQ 21.96875 7.515625 27.59375 7.515625 \r\nL 36.8125 7.515625 \r\nL 36.8125 0 \r\nL 27.59375 0 \r\nQ 17.1875 0 13.234375 3.875 \r\nQ 9.28125 7.765625 9.28125 18.015625 \r\nL 9.28125 47.703125 \r\nL 2.6875 47.703125 \r\nL 2.6875 54.6875 \r\nL 9.28125 54.6875 \r\nL 9.28125 70.21875 \r\nz\r\n\" id=\"DejaVuSans-116\"/>\r\n     </defs>\r\n     <g transform=\"translate(315.946875 24.658988)scale(0.1 -0.1)\">\r\n      <use xlink:href=\"#DejaVuSans-99\"/>\r\n      <use x=\"54.980469\" xlink:href=\"#DejaVuSans-111\"/>\r\n      <use x=\"116.162109\" xlink:href=\"#DejaVuSans-117\"/>\r\n      <use x=\"179.541016\" xlink:href=\"#DejaVuSans-110\"/>\r\n      <use x=\"242.919922\" xlink:href=\"#DejaVuSans-116\"/>\r\n     </g>\r\n    </g>\r\n    <g id=\"patch_19\">\r\n     <path d=\"M 287.946875 39.337113 \r\nL 307.946875 39.337113 \r\nL 307.946875 32.337113 \r\nL 287.946875 32.337113 \r\nz\r\n\" style=\"fill:#ff7f0e;\"/>\r\n    </g>\r\n    <g id=\"text_15\">\r\n     <!-- buy again -->\r\n     <defs>\r\n      <path d=\"M 48.6875 27.296875 \r\nQ 48.6875 37.203125 44.609375 42.84375 \r\nQ 40.53125 48.484375 33.40625 48.484375 \r\nQ 26.265625 48.484375 22.1875 42.84375 \r\nQ 18.109375 37.203125 18.109375 27.296875 \r\nQ 18.109375 17.390625 22.1875 11.75 \r\nQ 26.265625 6.109375 33.40625 6.109375 \r\nQ 40.53125 6.109375 44.609375 11.75 \r\nQ 48.6875 17.390625 48.6875 27.296875 \r\nz\r\nM 18.109375 46.390625 \r\nQ 20.953125 51.265625 25.265625 53.625 \r\nQ 29.59375 56 35.59375 56 \r\nQ 45.5625 56 51.78125 48.09375 \r\nQ 58.015625 40.1875 58.015625 27.296875 \r\nQ 58.015625 14.40625 51.78125 6.484375 \r\nQ 45.5625 -1.421875 35.59375 -1.421875 \r\nQ 29.59375 -1.421875 25.265625 0.953125 \r\nQ 20.953125 3.328125 18.109375 8.203125 \r\nL 18.109375 0 \r\nL 9.078125 0 \r\nL 9.078125 75.984375 \r\nL 18.109375 75.984375 \r\nz\r\n\" id=\"DejaVuSans-98\"/>\r\n      <path d=\"M 32.171875 -5.078125 \r\nQ 28.375 -14.84375 24.75 -17.8125 \r\nQ 21.140625 -20.796875 15.09375 -20.796875 \r\nL 7.90625 -20.796875 \r\nL 7.90625 -13.28125 \r\nL 13.1875 -13.28125 \r\nQ 16.890625 -13.28125 18.9375 -11.515625 \r\nQ 21 -9.765625 23.484375 -3.21875 \r\nL 25.09375 0.875 \r\nL 2.984375 54.6875 \r\nL 12.5 54.6875 \r\nL 29.59375 11.921875 \r\nL 46.6875 54.6875 \r\nL 56.203125 54.6875 \r\nz\r\n\" id=\"DejaVuSans-121\"/>\r\n      <path id=\"DejaVuSans-32\"/>\r\n      <path d=\"M 34.28125 27.484375 \r\nQ 23.390625 27.484375 19.1875 25 \r\nQ 14.984375 22.515625 14.984375 16.5 \r\nQ 14.984375 11.71875 18.140625 8.90625 \r\nQ 21.296875 6.109375 26.703125 6.109375 \r\nQ 34.1875 6.109375 38.703125 11.40625 \r\nQ 43.21875 16.703125 43.21875 25.484375 \r\nL 43.21875 27.484375 \r\nz\r\nM 52.203125 31.203125 \r\nL 52.203125 0 \r\nL 43.21875 0 \r\nL 43.21875 8.296875 \r\nQ 40.140625 3.328125 35.546875 0.953125 \r\nQ 30.953125 -1.421875 24.3125 -1.421875 \r\nQ 15.921875 -1.421875 10.953125 3.296875 \r\nQ 6 8.015625 6 15.921875 \r\nQ 6 25.140625 12.171875 29.828125 \r\nQ 18.359375 34.515625 30.609375 34.515625 \r\nL 43.21875 34.515625 \r\nL 43.21875 35.40625 \r\nQ 43.21875 41.609375 39.140625 45 \r\nQ 35.0625 48.390625 27.6875 48.390625 \r\nQ 23 48.390625 18.546875 47.265625 \r\nQ 14.109375 46.140625 10.015625 43.890625 \r\nL 10.015625 52.203125 \r\nQ 14.9375 54.109375 19.578125 55.046875 \r\nQ 24.21875 56 28.609375 56 \r\nQ 40.484375 56 46.34375 49.84375 \r\nQ 52.203125 43.703125 52.203125 31.203125 \r\nz\r\n\" id=\"DejaVuSans-97\"/>\r\n      <path d=\"M 45.40625 27.984375 \r\nQ 45.40625 37.75 41.375 43.109375 \r\nQ 37.359375 48.484375 30.078125 48.484375 \r\nQ 22.859375 48.484375 18.828125 43.109375 \r\nQ 14.796875 37.75 14.796875 27.984375 \r\nQ 14.796875 18.265625 18.828125 12.890625 \r\nQ 22.859375 7.515625 30.078125 7.515625 \r\nQ 37.359375 7.515625 41.375 12.890625 \r\nQ 45.40625 18.265625 45.40625 27.984375 \r\nz\r\nM 54.390625 6.78125 \r\nQ 54.390625 -7.171875 48.1875 -13.984375 \r\nQ 42 -20.796875 29.203125 -20.796875 \r\nQ 24.46875 -20.796875 20.265625 -20.09375 \r\nQ 16.0625 -19.390625 12.109375 -17.921875 \r\nL 12.109375 -9.1875 \r\nQ 16.0625 -11.328125 19.921875 -12.34375 \r\nQ 23.78125 -13.375 27.78125 -13.375 \r\nQ 36.625 -13.375 41.015625 -8.765625 \r\nQ 45.40625 -4.15625 45.40625 5.171875 \r\nL 45.40625 9.625 \r\nQ 42.625 4.78125 38.28125 2.390625 \r\nQ 33.9375 0 27.875 0 \r\nQ 17.828125 0 11.671875 7.65625 \r\nQ 5.515625 15.328125 5.515625 27.984375 \r\nQ 5.515625 40.671875 11.671875 48.328125 \r\nQ 17.828125 56 27.875 56 \r\nQ 33.9375 56 38.28125 53.609375 \r\nQ 42.625 51.21875 45.40625 46.390625 \r\nL 45.40625 54.6875 \r\nL 54.390625 54.6875 \r\nz\r\n\" id=\"DejaVuSans-103\"/>\r\n      <path d=\"M 9.421875 54.6875 \r\nL 18.40625 54.6875 \r\nL 18.40625 0 \r\nL 9.421875 0 \r\nz\r\nM 9.421875 75.984375 \r\nL 18.40625 75.984375 \r\nL 18.40625 64.59375 \r\nL 9.421875 64.59375 \r\nz\r\n\" id=\"DejaVuSans-105\"/>\r\n     </defs>\r\n     <g transform=\"translate(315.946875 39.337113)scale(0.1 -0.1)\">\r\n      <use xlink:href=\"#DejaVuSans-98\"/>\r\n      <use x=\"63.476562\" xlink:href=\"#DejaVuSans-117\"/>\r\n      <use x=\"126.855469\" xlink:href=\"#DejaVuSans-121\"/>\r\n      <use x=\"186.035156\" xlink:href=\"#DejaVuSans-32\"/>\r\n      <use x=\"217.822266\" xlink:href=\"#DejaVuSans-97\"/>\r\n      <use x=\"279.101562\" xlink:href=\"#DejaVuSans-103\"/>\r\n      <use x=\"342.578125\" xlink:href=\"#DejaVuSans-97\"/>\r\n      <use x=\"403.857422\" xlink:href=\"#DejaVuSans-105\"/>\r\n      <use x=\"431.640625\" xlink:href=\"#DejaVuSans-110\"/>\r\n     </g>\r\n    </g>\r\n   </g>\r\n  </g>\r\n </g>\r\n <defs>\r\n  <clipPath id=\"pd2137547f0\">\r\n   <rect height=\"217.44\" width=\"334.8\" x=\"39.65\" y=\"8.060551\"/>\r\n  </clipPath>\r\n </defs>\r\n</svg>\r\n",
      "image/png": "[encoded data removed]"
     },
     "metadata": {
      "needs_background": "light"
     }
    }
   ],
   "source": [
    "#查看销量前5的商户的复购数量\n",
    "# plt.figure(figsize=(10,10))\n",
    "plt.bar(x=range(1,6),height=train_data_merchant[\"merchant_id\"],tick_label=train_data_merchant.index,label=\"count\")\n",
    "plt.bar(x=range(1,6),height=merchant_id_groupby[\"label\"],tick_label=merchant_id_groupby.index,label=\"buy again\")\n",
    "plt.legend(loc=\"best\")\n",
    "plt.show()"
   ]
  },
  {
   "cell_type": "code",
   "execution_count": 25,
   "metadata": {},
   "outputs": [
    {
     "output_type": "execute_result",
     "data": {
      "text/plain": "Index              128\nuser_id        2086912\nmerchant_id    2086912\nlabel          2086912\ndtype: int64"
     },
     "metadata": {},
     "execution_count": 25
    }
   ],
   "source": [
    "train_data.memory_usage()"
   ]
  },
  {
   "cell_type": "markdown",
   "metadata": {},
   "source": [
    "## （二）特征工程"
   ]
  },
  {
   "cell_type": "code",
   "execution_count": 26,
   "metadata": {},
   "outputs": [],
   "source": [
    "import numpy as np\n",
    "import pandas as pd\n",
    "import matplotlib.pyplot as plt\n",
    "import seaborn as sns\n",
    "from scipy import stats\n",
    "\n",
    "import gc \n",
    "from collections import Counter\n",
    "import copy\n",
    "\n",
    "import warnings\n",
    "warnings.filterwarnings(\"ignore\")\n",
    " \n",
    "%matplotlib inline"
   ]
  },
  {
   "cell_type": "markdown",
   "metadata": {},
   "source": [
    "### 1、数据内存压缩"
   ]
  },
  {
   "cell_type": "code",
   "execution_count": 27,
   "metadata": {},
   "outputs": [],
   "source": [
    "# reduce memory\n",
    "def reduce_mem_usage(df, verbose=True):\n",
    "    #定义起始内存显示\n",
    "    start_mem = df.memory_usage().sum() / 1024**2\n",
    "    #定义一个数据类型的列表\n",
    "    numerics = ['int16', 'int32', 'int64', 'float16', 'float32', 'float64']\n",
    "\n",
    "    for col in df.columns:\n",
    "        #定义col_type接受数据集各个字段的数据类型\n",
    "        col_type = df[col].dtypes\n",
    "        if col_type in numerics:\n",
    "            #显示字段中单个数据占用的最小字节\n",
    "            c_min = df[col].min()\n",
    "            #显示字段中单个数据占用的最大字节\n",
    "            c_max = df[col].max()\n",
    "            #截取数据类型的前三位数\n",
    "            if str(col_type)[:3] == 'int':\n",
    "                #当前字段占用的最小字节数量和最大字节数量在int8类型的范围内，则将当前字段的数据类型转换成int8\n",
    "                if c_min > np.iinfo(np.int8).min and c_max < np.iinfo(np.int8).max:\n",
    "                    df[col] = df[col].astype(np.int8)\n",
    "                elif c_min > np.iinfo(np.int16).min and c_max < np.iinfo(np.int16).max:\n",
    "                    df[col] = df[col].astype(np.int16)\n",
    "                elif c_min > np.iinfo(np.int32).min and c_max < np.iinfo(np.int32).max:\n",
    "                    df[col] = df[col].astype(np.int32)\n",
    "                elif c_min > np.iinfo(np.int64).min and c_max < np.iinfo(np.int64).max:\n",
    "                    df[col] = df[col].astype(np.int64)\n",
    "            else:\n",
    "                #当前字段占用的最小字节数量和最大字节数量在float16类型的范围内，则将当前字段的数据类型转换成float16\n",
    "                if c_min > np.finfo(np.float16).min and c_max < np.finfo(np.float16).max:\n",
    "                    df[col] = df[col].astype(np.float16)\n",
    "                elif c_min > np.finfo(np.float32).min and c_max < np.finfo(np.float32).max:\n",
    "                    df[col] = df[col].astype(np.float32)\n",
    "                else:\n",
    "                    df[col] = df[col].astype(np.float64)\n",
    "    #定义结束时的内存显示               \n",
    "    end_mem = df.memory_usage().sum() / 1024**2\n",
    "    print('Memory usage after optimization is: {:.2f} MB'.format(end_mem))\n",
    "    print('Decreased by {:.1f}%'.format(100 * (start_mem - end_mem) / start_mem))\n",
    "    return df"
   ]
  },
  {
   "cell_type": "code",
   "execution_count": 28,
   "metadata": {
    "tags": []
   },
   "outputs": [
    {
     "output_type": "stream",
     "name": "stdout",
     "text": "Memory usage after optimization is: 1.74 MB\nDecreased by 70.8%\nMemory usage after optimization is: 3.49 MB\nDecreased by 41.7%\nMemory usage after optimization is: 3.24 MB\nDecreased by 66.7%\nMemory usage after optimization is: 890.48 MB\nDecreased by 69.6%\n"
    }
   ],
   "source": [
    "#调用内存压缩函数\n",
    "train_data=reduce_mem_usage(train_data)\n",
    "test_data=reduce_mem_usage(test_data)\n",
    "user_info=reduce_mem_usage(user_info)\n",
    "user_log=reduce_mem_usage(user_log)"
   ]
  },
  {
   "cell_type": "code",
   "execution_count": 29,
   "metadata": {},
   "outputs": [
    {
     "output_type": "execute_result",
     "data": {
      "text/plain": "5007"
     },
     "metadata": {},
     "execution_count": 29
    }
   ],
   "source": [
    "# 进⾏内存回收并显示回收的数量\n",
    "gc.collect()"
   ]
  },
  {
   "cell_type": "markdown",
   "metadata": {},
   "source": [
    "### 2、合并用户数据"
   ]
  },
  {
   "cell_type": "code",
   "execution_count": 30,
   "metadata": {},
   "outputs": [],
   "source": [
    "#合并train_data,test_data,user_info三个表\n",
    "all_data=train_data.append(test_data)\n",
    "all_data=all_data.merge(user_info,on=[\"user_id\"],how=\"left\")\n"
   ]
  },
  {
   "cell_type": "markdown",
   "metadata": {},
   "source": [
    "### 3、用户行为日志按时间排序"
   ]
  },
  {
   "cell_type": "code",
   "execution_count": 31,
   "metadata": {},
   "outputs": [
    {
     "output_type": "execute_result",
     "data": {
      "text/plain": "          user_id  item_id  cat_id  seller_id  brand_id  time_stamp  action_type\n23288890        1   181459     276       2245    4752.0        1009            0\n23288891        1   779078     276       2245    4752.0        1009            0\n23288892        1   779078     276       2245    4752.0        1009            0\n23288893        1   452837     276       2245    4752.0        1009            0\n23288894        1   543397     276       2245    4752.0        1009            0",
      "text/html": "<div>\n<style scoped>\n    .dataframe tbody tr th:only-of-type {\n        vertical-align: middle;\n    }\n\n    .dataframe tbody tr th {\n        vertical-align: top;\n    }\n\n    .dataframe thead th {\n        text-align: right;\n    }\n</style>\n<table border=\"1\" class=\"dataframe\">\n  <thead>\n    <tr style=\"text-align: right;\">\n      <th></th>\n      <th>user_id</th>\n      <th>item_id</th>\n      <th>cat_id</th>\n      <th>seller_id</th>\n      <th>brand_id</th>\n      <th>time_stamp</th>\n      <th>action_type</th>\n    </tr>\n  </thead>\n  <tbody>\n    <tr>\n      <th>23288890</th>\n      <td>1</td>\n      <td>181459</td>\n      <td>276</td>\n      <td>2245</td>\n      <td>4752.0</td>\n      <td>1009</td>\n      <td>0</td>\n    </tr>\n    <tr>\n      <th>23288891</th>\n      <td>1</td>\n      <td>779078</td>\n      <td>276</td>\n      <td>2245</td>\n      <td>4752.0</td>\n      <td>1009</td>\n      <td>0</td>\n    </tr>\n    <tr>\n      <th>23288892</th>\n      <td>1</td>\n      <td>779078</td>\n      <td>276</td>\n      <td>2245</td>\n      <td>4752.0</td>\n      <td>1009</td>\n      <td>0</td>\n    </tr>\n    <tr>\n      <th>23288893</th>\n      <td>1</td>\n      <td>452837</td>\n      <td>276</td>\n      <td>2245</td>\n      <td>4752.0</td>\n      <td>1009</td>\n      <td>0</td>\n    </tr>\n    <tr>\n      <th>23288894</th>\n      <td>1</td>\n      <td>543397</td>\n      <td>276</td>\n      <td>2245</td>\n      <td>4752.0</td>\n      <td>1009</td>\n      <td>0</td>\n    </tr>\n  </tbody>\n</table>\n</div>"
     },
     "metadata": {},
     "execution_count": 31
    }
   ],
   "source": [
    "user_log=user_log.sort_values([\"user_id\",\"time_stamp\"])\n",
    "user_log.head()"
   ]
  },
  {
   "cell_type": "markdown",
   "metadata": {},
   "source": [
    "### 4、合并user_log表中相同user_id的各个字段"
   ]
  },
  {
   "cell_type": "code",
   "execution_count": 32,
   "metadata": {},
   "outputs": [],
   "source": [
    "list_join_func=lambda x:\" \".join([str(i) for i in x])"
   ]
  },
  {
   "cell_type": "code",
   "execution_count": 33,
   "metadata": {},
   "outputs": [],
   "source": [
    "#定义groupby的聚合方法\n",
    "agg_dict={\n",
    "    \"item_id\":list_join_func,\n",
    "    \"cat_id\":list_join_func,\n",
    "    \"seller_id\":list_join_func,\n",
    "    \"brand_id\":list_join_func,\n",
    "    \"time_stamp\":list_join_func,\n",
    "    \"action_type\":list_join_func\n",
    "}"
   ]
  },
  {
   "cell_type": "code",
   "execution_count": 34,
   "metadata": {},
   "outputs": [],
   "source": [
    "#定义字段名称重命名\n",
    "rename_dict={\n",
    "    \"item_id\":\"item_path\",\n",
    "    \"cat_id\":\"cat_path\",\n",
    "    \"seller_id\":\"seller_path\",\n",
    "    \"brand_id\":\"brand_path\",\n",
    "    \"time_stamp\":\"time_stamp_path\",\n",
    "    \"action_type\":\"action_type_path\"\n",
    "}"
   ]
  },
  {
   "cell_type": "code",
   "execution_count": 35,
   "metadata": {},
   "outputs": [
    {
     "output_type": "execute_result",
     "data": {
      "text/plain": "   user_id                                          item_path                                           cat_path                                        seller_path                                         brand_path                                    time_stamp_path                                   action_type_path\n0        1  181459 779078 779078 452837 543397 504149 5041...  276 276 276 276 276 1023 1023 1023 1023 1252 1...  2245 2245 2245 2245 2245 925 925 925 925 4026 ...  4752.0 4752.0 4752.0 4752.0 4752.0 7400.0 7400...  1009 1009 1009 1009 1009 1011 1011 1011 1011 1...  0 0 0 0 0 0 0 2 0 0 0 0 0 0 2 0 0 0 0 0 0 2 2 ...\n1        2  348983 749563 239288 751744 239288 714176 1972...  177 177 602 602 602 1213 602 602 602 1213 1213...  2223 2223 420 420 420 420 420 420 420 420 420 ...  3272.0 3272.0 4952.0 4952.0 4952.0 4058.0 4952...  527 527 626 626 626 626 626 626 626 626 626 62...  0 0 0 0 0 0 0 0 0 0 0 0 0 0 0 0 0 0 2 2 2 0 0 ...\n2        3  895754 895754 182882 182882 985337 175397 9463...  1505 1505 1271 1271 1271 662 1134 1134 1134 45...  795 795 2123 2123 4925 1102 4461 4461 4461 474...  3608.0 3608.0 4796.0 4796.0 8004.0 1214.0 905....  516 516 627 627 627 727 819 819 820 906 906 90...  2 2 0 0 0 0 0 2 0 0 0 0 0 0 0 0 0 0 0 0 0 0 0 ...\n3        4  836727 243874 185489 95474 30073 790055 790055...  612 1577 1505 1505 1505 1505 1505 1505 1505 15...  1221 1221 1221 1221 1221 1221 1221 1221 1221 1...  7736.0 7736.0 7736.0 7736.0 7736.0 7736.0 7736...  527 527 527 527 527 527 527 527 527 527 527 52...  0 0 0 0 0 0 0 0 0 0 0 0 0 0 0 0 0 0 0 0 0 0 0 ...\n4        5  511956 728354 568450 754044 1011255 741215 362...  302 351 812 1213 142 464 1028 35 1213 351 142 ...  3098 3215 641 3736 1483 176 4848 641 3736 4547...  5544.0 5480.0 4264.0 3124.0 4640.0 6664.0 2804...  519 520 520 520 520 520 520 520 520 520 520 52...  3 0 0 2 0 0 0 0 0 0 0 2 0 0 0 0 0 0 0 0 0 0 0 ...",
      "text/html": "<div>\n<style scoped>\n    .dataframe tbody tr th:only-of-type {\n        vertical-align: middle;\n    }\n\n    .dataframe tbody tr th {\n        vertical-align: top;\n    }\n\n    .dataframe thead th {\n        text-align: right;\n    }\n</style>\n<table border=\"1\" class=\"dataframe\">\n  <thead>\n    <tr style=\"text-align: right;\">\n      <th></th>\n      <th>user_id</th>\n      <th>item_path</th>\n      <th>cat_path</th>\n      <th>seller_path</th>\n      <th>brand_path</th>\n      <th>time_stamp_path</th>\n      <th>action_type_path</th>\n    </tr>\n  </thead>\n  <tbody>\n    <tr>\n      <th>0</th>\n      <td>1</td>\n      <td>181459 779078 779078 452837 543397 504149 5041...</td>\n      <td>276 276 276 276 276 1023 1023 1023 1023 1252 1...</td>\n      <td>2245 2245 2245 2245 2245 925 925 925 925 4026 ...</td>\n      <td>4752.0 4752.0 4752.0 4752.0 4752.0 7400.0 7400...</td>\n      <td>1009 1009 1009 1009 1009 1011 1011 1011 1011 1...</td>\n      <td>0 0 0 0 0 0 0 2 0 0 0 0 0 0 2 0 0 0 0 0 0 2 2 ...</td>\n    </tr>\n    <tr>\n      <th>1</th>\n      <td>2</td>\n      <td>348983 749563 239288 751744 239288 714176 1972...</td>\n      <td>177 177 602 602 602 1213 602 602 602 1213 1213...</td>\n      <td>2223 2223 420 420 420 420 420 420 420 420 420 ...</td>\n      <td>3272.0 3272.0 4952.0 4952.0 4952.0 4058.0 4952...</td>\n      <td>527 527 626 626 626 626 626 626 626 626 626 62...</td>\n      <td>0 0 0 0 0 0 0 0 0 0 0 0 0 0 0 0 0 0 2 2 2 0 0 ...</td>\n    </tr>\n    <tr>\n      <th>2</th>\n      <td>3</td>\n      <td>895754 895754 182882 182882 985337 175397 9463...</td>\n      <td>1505 1505 1271 1271 1271 662 1134 1134 1134 45...</td>\n      <td>795 795 2123 2123 4925 1102 4461 4461 4461 474...</td>\n      <td>3608.0 3608.0 4796.0 4796.0 8004.0 1214.0 905....</td>\n      <td>516 516 627 627 627 727 819 819 820 906 906 90...</td>\n      <td>2 2 0 0 0 0 0 2 0 0 0 0 0 0 0 0 0 0 0 0 0 0 0 ...</td>\n    </tr>\n    <tr>\n      <th>3</th>\n      <td>4</td>\n      <td>836727 243874 185489 95474 30073 790055 790055...</td>\n      <td>612 1577 1505 1505 1505 1505 1505 1505 1505 15...</td>\n      <td>1221 1221 1221 1221 1221 1221 1221 1221 1221 1...</td>\n      <td>7736.0 7736.0 7736.0 7736.0 7736.0 7736.0 7736...</td>\n      <td>527 527 527 527 527 527 527 527 527 527 527 52...</td>\n      <td>0 0 0 0 0 0 0 0 0 0 0 0 0 0 0 0 0 0 0 0 0 0 0 ...</td>\n    </tr>\n    <tr>\n      <th>4</th>\n      <td>5</td>\n      <td>511956 728354 568450 754044 1011255 741215 362...</td>\n      <td>302 351 812 1213 142 464 1028 35 1213 351 142 ...</td>\n      <td>3098 3215 641 3736 1483 176 4848 641 3736 4547...</td>\n      <td>5544.0 5480.0 4264.0 3124.0 4640.0 6664.0 2804...</td>\n      <td>519 520 520 520 520 520 520 520 520 520 520 52...</td>\n      <td>3 0 0 2 0 0 0 0 0 0 0 2 0 0 0 0 0 0 0 0 0 0 0 ...</td>\n    </tr>\n  </tbody>\n</table>\n</div>"
     },
     "metadata": {},
     "execution_count": 35
    }
   ],
   "source": [
    "user_log_path=user_log.groupby(\"user_id\").agg(agg_dict).reset_index().rename(columns=rename_dict)\n",
    "\n",
    "user_log_path.head()"
   ]
  },
  {
   "cell_type": "code",
   "execution_count": 36,
   "metadata": {},
   "outputs": [
    {
     "output_type": "execute_result",
     "data": {
      "text/plain": "   user_id  merchant_id  label  prob  age_range  gender                                          item_path                                           cat_path                                        seller_path                                         brand_path                                    time_stamp_path                                   action_type_path\n0    34176         3906    0.0   NaN        6.0     0.0  581818 879005 581818 581818 1011673 52343 2773...  1505 662 1505 1505 1505 662 1095 1505 662 1095...  416 3606 416 416 416 3760 3606 416 1926 3004 4...  4014.0 33.0 4014.0 4014.0 4014.0 3738.0 33.0 4...  521 521 521 521 521 521 521 521 521 521 521 52...  0 0 0 0 0 0 0 0 0 0 0 0 0 2 0 0 0 0 0 0 2 0 2 ...\n1    34176          121    0.0   NaN        6.0     0.0  581818 879005 581818 581818 1011673 52343 2773...  1505 662 1505 1505 1505 662 1095 1505 662 1095...  416 3606 416 416 416 3760 3606 416 1926 3004 4...  4014.0 33.0 4014.0 4014.0 4014.0 3738.0 33.0 4...  521 521 521 521 521 521 521 521 521 521 521 52...  0 0 0 0 0 0 0 0 0 0 0 0 0 2 0 0 0 0 0 0 2 0 2 ...\n2    34176         4356    1.0   NaN        6.0     0.0  581818 879005 581818 581818 1011673 52343 2773...  1505 662 1505 1505 1505 662 1095 1505 662 1095...  416 3606 416 416 416 3760 3606 416 1926 3004 4...  4014.0 33.0 4014.0 4014.0 4014.0 3738.0 33.0 4...  521 521 521 521 521 521 521 521 521 521 521 52...  0 0 0 0 0 0 0 0 0 0 0 0 0 2 0 0 0 0 0 0 2 0 2 ...\n3    34176         2217    0.0   NaN        6.0     0.0  581818 879005 581818 581818 1011673 52343 2773...  1505 662 1505 1505 1505 662 1095 1505 662 1095...  416 3606 416 416 416 3760 3606 416 1926 3004 4...  4014.0 33.0 4014.0 4014.0 4014.0 3738.0 33.0 4...  521 521 521 521 521 521 521 521 521 521 521 52...  0 0 0 0 0 0 0 0 0 0 0 0 0 2 0 0 0 0 0 0 2 0 2 ...\n4   230784         4818    0.0   NaN        0.0     0.0  191923 191923 191923 191923 964906 229470 2294...  1023 1023 1023 1023 662 664 664 1544 664 662 6...  3545 3545 3545 3545 4566 2537 2537 2420 2537 4...  5860.0 5860.0 5860.0 5860.0 6320.0 6064.0 6064...  601 601 601 601 614 614 614 614 614 614 618 61...  0 2 0 0 0 0 0 0 0 0 0 0 0 0 0 0 2 2 0 0 0 0 0 ...",
      "text/html": "<div>\n<style scoped>\n    .dataframe tbody tr th:only-of-type {\n        vertical-align: middle;\n    }\n\n    .dataframe tbody tr th {\n        vertical-align: top;\n    }\n\n    .dataframe thead th {\n        text-align: right;\n    }\n</style>\n<table border=\"1\" class=\"dataframe\">\n  <thead>\n    <tr style=\"text-align: right;\">\n      <th></th>\n      <th>user_id</th>\n      <th>merchant_id</th>\n      <th>label</th>\n      <th>prob</th>\n      <th>age_range</th>\n      <th>gender</th>\n      <th>item_path</th>\n      <th>cat_path</th>\n      <th>seller_path</th>\n      <th>brand_path</th>\n      <th>time_stamp_path</th>\n      <th>action_type_path</th>\n    </tr>\n  </thead>\n  <tbody>\n    <tr>\n      <th>0</th>\n      <td>34176</td>\n      <td>3906</td>\n      <td>0.0</td>\n      <td>NaN</td>\n      <td>6.0</td>\n      <td>0.0</td>\n      <td>581818 879005 581818 581818 1011673 52343 2773...</td>\n      <td>1505 662 1505 1505 1505 662 1095 1505 662 1095...</td>\n      <td>416 3606 416 416 416 3760 3606 416 1926 3004 4...</td>\n      <td>4014.0 33.0 4014.0 4014.0 4014.0 3738.0 33.0 4...</td>\n      <td>521 521 521 521 521 521 521 521 521 521 521 52...</td>\n      <td>0 0 0 0 0 0 0 0 0 0 0 0 0 2 0 0 0 0 0 0 2 0 2 ...</td>\n    </tr>\n    <tr>\n      <th>1</th>\n      <td>34176</td>\n      <td>121</td>\n      <td>0.0</td>\n      <td>NaN</td>\n      <td>6.0</td>\n      <td>0.0</td>\n      <td>581818 879005 581818 581818 1011673 52343 2773...</td>\n      <td>1505 662 1505 1505 1505 662 1095 1505 662 1095...</td>\n      <td>416 3606 416 416 416 3760 3606 416 1926 3004 4...</td>\n      <td>4014.0 33.0 4014.0 4014.0 4014.0 3738.0 33.0 4...</td>\n      <td>521 521 521 521 521 521 521 521 521 521 521 52...</td>\n      <td>0 0 0 0 0 0 0 0 0 0 0 0 0 2 0 0 0 0 0 0 2 0 2 ...</td>\n    </tr>\n    <tr>\n      <th>2</th>\n      <td>34176</td>\n      <td>4356</td>\n      <td>1.0</td>\n      <td>NaN</td>\n      <td>6.0</td>\n      <td>0.0</td>\n      <td>581818 879005 581818 581818 1011673 52343 2773...</td>\n      <td>1505 662 1505 1505 1505 662 1095 1505 662 1095...</td>\n      <td>416 3606 416 416 416 3760 3606 416 1926 3004 4...</td>\n      <td>4014.0 33.0 4014.0 4014.0 4014.0 3738.0 33.0 4...</td>\n      <td>521 521 521 521 521 521 521 521 521 521 521 52...</td>\n      <td>0 0 0 0 0 0 0 0 0 0 0 0 0 2 0 0 0 0 0 0 2 0 2 ...</td>\n    </tr>\n    <tr>\n      <th>3</th>\n      <td>34176</td>\n      <td>2217</td>\n      <td>0.0</td>\n      <td>NaN</td>\n      <td>6.0</td>\n      <td>0.0</td>\n      <td>581818 879005 581818 581818 1011673 52343 2773...</td>\n      <td>1505 662 1505 1505 1505 662 1095 1505 662 1095...</td>\n      <td>416 3606 416 416 416 3760 3606 416 1926 3004 4...</td>\n      <td>4014.0 33.0 4014.0 4014.0 4014.0 3738.0 33.0 4...</td>\n      <td>521 521 521 521 521 521 521 521 521 521 521 52...</td>\n      <td>0 0 0 0 0 0 0 0 0 0 0 0 0 2 0 0 0 0 0 0 2 0 2 ...</td>\n    </tr>\n    <tr>\n      <th>4</th>\n      <td>230784</td>\n      <td>4818</td>\n      <td>0.0</td>\n      <td>NaN</td>\n      <td>0.0</td>\n      <td>0.0</td>\n      <td>191923 191923 191923 191923 964906 229470 2294...</td>\n      <td>1023 1023 1023 1023 662 664 664 1544 664 662 6...</td>\n      <td>3545 3545 3545 3545 4566 2537 2537 2420 2537 4...</td>\n      <td>5860.0 5860.0 5860.0 5860.0 6320.0 6064.0 6064...</td>\n      <td>601 601 601 601 614 614 614 614 614 614 618 61...</td>\n      <td>0 2 0 0 0 0 0 0 0 0 0 0 0 0 0 0 2 2 0 0 0 0 0 ...</td>\n    </tr>\n  </tbody>\n</table>\n</div>"
     },
     "metadata": {},
     "execution_count": 36
    }
   ],
   "source": [
    "#合并all_data表和user_log_path表\n",
    "all_data_path=all_data.merge(user_log_path,on=\"user_id\")\n",
    "all_data_path.head()"
   ]
  },
  {
   "cell_type": "code",
   "execution_count": 37,
   "metadata": {},
   "outputs": [],
   "source": [
    "#删除内存中的user_log表并回收内存\n",
    "# del user_log\n",
    "# gc.collect()"
   ]
  },
  {
   "cell_type": "markdown",
   "metadata": {},
   "source": [
    "### 5、定义数据统计函数"
   ]
  },
  {
   "cell_type": "markdown",
   "metadata": {},
   "source": [
    "#### (1)定义统计函数"
   ]
  },
  {
   "cell_type": "code",
   "execution_count": 38,
   "metadata": {},
   "outputs": [],
   "source": [
    "#统计数据的总数\n",
    "def cnt_(x):\n",
    "    try:\n",
    "        return len(x.split(\" \"))\n",
    "    except:\n",
    "        return -1"
   ]
  },
  {
   "cell_type": "code",
   "execution_count": 39,
   "metadata": {},
   "outputs": [],
   "source": [
    "#统计唯一数据总数\n",
    "def nunique_(x):\n",
    "    try:\n",
    "        return len(set(x.split(\" \")))\n",
    "    except:\n",
    "        return -1"
   ]
  },
  {
   "cell_type": "code",
   "execution_count": 40,
   "metadata": {},
   "outputs": [],
   "source": [
    "#统计数据最大值\n",
    "def max_(x):\n",
    "    try:\n",
    "        return np.max([int(i) for i in x.split(\" \")])\n",
    "    except:\n",
    "        return -1"
   ]
  },
  {
   "cell_type": "code",
   "execution_count": 41,
   "metadata": {},
   "outputs": [],
   "source": [
    "#统计数据最小值\n",
    "def min_(x):\n",
    "    try:\n",
    "        return np.min([int(i) for i in x.split(\" \")])\n",
    "    except:\n",
    "        return -1"
   ]
  },
  {
   "cell_type": "code",
   "execution_count": 42,
   "metadata": {},
   "outputs": [],
   "source": [
    "#统计数据的标准差\n",
    "def std_(x):\n",
    "    try:\n",
    "        return np.std([float(i) for i in x.split(\" \")])\n",
    "    except:\n",
    "        return -1"
   ]
  },
  {
   "cell_type": "code",
   "execution_count": 43,
   "metadata": {},
   "outputs": [],
   "source": [
    "#统计数据中top N的数据\n",
    "def most_n(x,n):\n",
    "    try:\n",
    "        return Counter(x.split(\" \")).most_common(n)[n-1][0]\n",
    "    except:\n",
    "        return -1"
   ]
  },
  {
   "cell_type": "code",
   "execution_count": 44,
   "metadata": {},
   "outputs": [],
   "source": [
    "#统计数据中top N数据的总数\n",
    "def most_n_cnt(x,n):\n",
    "    try:\n",
    "        return Counter(x.split(\" \")).most_common(n)[n-1][1]\n",
    "    except:\n",
    "        return -1"
   ]
  },
  {
   "cell_type": "markdown",
   "metadata": {},
   "source": [
    "#### (2)调用统计函数(调用的目的是生成新的一列)"
   ]
  },
  {
   "cell_type": "code",
   "execution_count": 45,
   "metadata": {},
   "outputs": [],
   "source": [
    "#用户操作总次数\n",
    "def user_cnt(df_data, single_col, name):\n",
    "    df_data[name] = df_data[single_col].apply(cnt_)\n",
    "    return df_data\n",
    "#用户下单数量\n",
    "def user_nunique(df_data, single_col, name):\n",
    "    df_data[name] = df_data[single_col].apply(nunique_)\n",
    "    return df_data\n",
    "#用户下单最多\n",
    "def user_max(df_data, single_col, name):\n",
    "    df_data[name] = df_data[single_col].apply(max_)\n",
    "    return df_data\n",
    "\n",
    "def user_min(df_data, single_col, name):\n",
    "    df_data[name] = df_data[single_col].apply(min_)\n",
    "    return df_data\n",
    "    \n",
    "def user_std(df_data, single_col, name):\n",
    "    df_data[name] = df_data[single_col].apply(std_)\n",
    "    return df_data\n",
    "\n",
    "def user_most_n(df_data, single_col, name, n=1):\n",
    "    func = lambda x: most_n(x, n)\n",
    "    df_data[name] = df_data[single_col].apply(func)\n",
    "    return df_data\n",
    "\n",
    "def user_most_n_cnt(df_data, single_col, name, n=1):\n",
    "    func = lambda x: most_n_cnt(x, n)\n",
    "    df_data[name] = df_data[single_col].apply(func)\n",
    "    return df_data"
   ]
  },
  {
   "cell_type": "markdown",
   "metadata": {},
   "source": [
    "### 6、提取商铺的基本统计特征(特征创造)"
   ]
  },
  {
   "cell_type": "code",
   "execution_count": 46,
   "metadata": {},
   "outputs": [],
   "source": [
    "#前2000行作为测试样本(学习时使用，避免全量数据耗时过多)\n",
    "all_data_test=all_data_path.head(2000)"
   ]
  },
  {
   "cell_type": "code",
   "execution_count": 47,
   "metadata": {},
   "outputs": [
    {
     "output_type": "execute_result",
     "data": {
      "text/plain": "   user_id  merchant_id  label  prob  age_range  gender                                          item_path                                           cat_path                                        seller_path                                         brand_path                                    time_stamp_path                                   action_type_path  user_cnt\n0    34176         3906    0.0   NaN        6.0     0.0  581818 879005 581818 581818 1011673 52343 2773...  1505 662 1505 1505 1505 662 1095 1505 662 1095...  416 3606 416 416 416 3760 3606 416 1926 3004 4...  4014.0 33.0 4014.0 4014.0 4014.0 3738.0 33.0 4...  521 521 521 521 521 521 521 521 521 521 521 52...  0 0 0 0 0 0 0 0 0 0 0 0 0 2 0 0 0 0 0 0 2 0 2 ...       451\n1    34176          121    0.0   NaN        6.0     0.0  581818 879005 581818 581818 1011673 52343 2773...  1505 662 1505 1505 1505 662 1095 1505 662 1095...  416 3606 416 416 416 3760 3606 416 1926 3004 4...  4014.0 33.0 4014.0 4014.0 4014.0 3738.0 33.0 4...  521 521 521 521 521 521 521 521 521 521 521 52...  0 0 0 0 0 0 0 0 0 0 0 0 0 2 0 0 0 0 0 0 2 0 2 ...       451\n2    34176         4356    1.0   NaN        6.0     0.0  581818 879005 581818 581818 1011673 52343 2773...  1505 662 1505 1505 1505 662 1095 1505 662 1095...  416 3606 416 416 416 3760 3606 416 1926 3004 4...  4014.0 33.0 4014.0 4014.0 4014.0 3738.0 33.0 4...  521 521 521 521 521 521 521 521 521 521 521 52...  0 0 0 0 0 0 0 0 0 0 0 0 0 2 0 0 0 0 0 0 2 0 2 ...       451\n3    34176         2217    0.0   NaN        6.0     0.0  581818 879005 581818 581818 1011673 52343 2773...  1505 662 1505 1505 1505 662 1095 1505 662 1095...  416 3606 416 416 416 3760 3606 416 1926 3004 4...  4014.0 33.0 4014.0 4014.0 4014.0 3738.0 33.0 4...  521 521 521 521 521 521 521 521 521 521 521 52...  0 0 0 0 0 0 0 0 0 0 0 0 0 2 0 0 0 0 0 0 2 0 2 ...       451\n4   230784         4818    0.0   NaN        0.0     0.0  191923 191923 191923 191923 964906 229470 2294...  1023 1023 1023 1023 662 664 664 1544 664 662 6...  3545 3545 3545 3545 4566 2537 2537 2420 2537 4...  5860.0 5860.0 5860.0 5860.0 6320.0 6064.0 6064...  601 601 601 601 614 614 614 614 614 614 618 61...  0 2 0 0 0 0 0 0 0 0 0 0 0 0 0 0 2 2 0 0 0 0 0 ...        54",
      "text/html": "<div>\n<style scoped>\n    .dataframe tbody tr th:only-of-type {\n        vertical-align: middle;\n    }\n\n    .dataframe tbody tr th {\n        vertical-align: top;\n    }\n\n    .dataframe thead th {\n        text-align: right;\n    }\n</style>\n<table border=\"1\" class=\"dataframe\">\n  <thead>\n    <tr style=\"text-align: right;\">\n      <th></th>\n      <th>user_id</th>\n      <th>merchant_id</th>\n      <th>label</th>\n      <th>prob</th>\n      <th>age_range</th>\n      <th>gender</th>\n      <th>item_path</th>\n      <th>cat_path</th>\n      <th>seller_path</th>\n      <th>brand_path</th>\n      <th>time_stamp_path</th>\n      <th>action_type_path</th>\n      <th>user_cnt</th>\n    </tr>\n  </thead>\n  <tbody>\n    <tr>\n      <th>0</th>\n      <td>34176</td>\n      <td>3906</td>\n      <td>0.0</td>\n      <td>NaN</td>\n      <td>6.0</td>\n      <td>0.0</td>\n      <td>581818 879005 581818 581818 1011673 52343 2773...</td>\n      <td>1505 662 1505 1505 1505 662 1095 1505 662 1095...</td>\n      <td>416 3606 416 416 416 3760 3606 416 1926 3004 4...</td>\n      <td>4014.0 33.0 4014.0 4014.0 4014.0 3738.0 33.0 4...</td>\n      <td>521 521 521 521 521 521 521 521 521 521 521 52...</td>\n      <td>0 0 0 0 0 0 0 0 0 0 0 0 0 2 0 0 0 0 0 0 2 0 2 ...</td>\n      <td>451</td>\n    </tr>\n    <tr>\n      <th>1</th>\n      <td>34176</td>\n      <td>121</td>\n      <td>0.0</td>\n      <td>NaN</td>\n      <td>6.0</td>\n      <td>0.0</td>\n      <td>581818 879005 581818 581818 1011673 52343 2773...</td>\n      <td>1505 662 1505 1505 1505 662 1095 1505 662 1095...</td>\n      <td>416 3606 416 416 416 3760 3606 416 1926 3004 4...</td>\n      <td>4014.0 33.0 4014.0 4014.0 4014.0 3738.0 33.0 4...</td>\n      <td>521 521 521 521 521 521 521 521 521 521 521 52...</td>\n      <td>0 0 0 0 0 0 0 0 0 0 0 0 0 2 0 0 0 0 0 0 2 0 2 ...</td>\n      <td>451</td>\n    </tr>\n    <tr>\n      <th>2</th>\n      <td>34176</td>\n      <td>4356</td>\n      <td>1.0</td>\n      <td>NaN</td>\n      <td>6.0</td>\n      <td>0.0</td>\n      <td>581818 879005 581818 581818 1011673 52343 2773...</td>\n      <td>1505 662 1505 1505 1505 662 1095 1505 662 1095...</td>\n      <td>416 3606 416 416 416 3760 3606 416 1926 3004 4...</td>\n      <td>4014.0 33.0 4014.0 4014.0 4014.0 3738.0 33.0 4...</td>\n      <td>521 521 521 521 521 521 521 521 521 521 521 52...</td>\n      <td>0 0 0 0 0 0 0 0 0 0 0 0 0 2 0 0 0 0 0 0 2 0 2 ...</td>\n      <td>451</td>\n    </tr>\n    <tr>\n      <th>3</th>\n      <td>34176</td>\n      <td>2217</td>\n      <td>0.0</td>\n      <td>NaN</td>\n      <td>6.0</td>\n      <td>0.0</td>\n      <td>581818 879005 581818 581818 1011673 52343 2773...</td>\n      <td>1505 662 1505 1505 1505 662 1095 1505 662 1095...</td>\n      <td>416 3606 416 416 416 3760 3606 416 1926 3004 4...</td>\n      <td>4014.0 33.0 4014.0 4014.0 4014.0 3738.0 33.0 4...</td>\n      <td>521 521 521 521 521 521 521 521 521 521 521 52...</td>\n      <td>0 0 0 0 0 0 0 0 0 0 0 0 0 2 0 0 0 0 0 0 2 0 2 ...</td>\n      <td>451</td>\n    </tr>\n    <tr>\n      <th>4</th>\n      <td>230784</td>\n      <td>4818</td>\n      <td>0.0</td>\n      <td>NaN</td>\n      <td>0.0</td>\n      <td>0.0</td>\n      <td>191923 191923 191923 191923 964906 229470 2294...</td>\n      <td>1023 1023 1023 1023 662 664 664 1544 664 662 6...</td>\n      <td>3545 3545 3545 3545 4566 2537 2537 2420 2537 4...</td>\n      <td>5860.0 5860.0 5860.0 5860.0 6320.0 6064.0 6064...</td>\n      <td>601 601 601 601 614 614 614 614 614 614 618 61...</td>\n      <td>0 2 0 0 0 0 0 0 0 0 0 0 0 0 0 0 2 2 0 0 0 0 0 ...</td>\n      <td>54</td>\n    </tr>\n  </tbody>\n</table>\n</div>"
     },
     "metadata": {},
     "execution_count": 47
    }
   ],
   "source": [
    "#用户操作总次数(字段选择seller_path，因为每操作一次就有一个商户信息)\n",
    "all_data_test=user_cnt(all_data_test,\"seller_path\",\"user_cnt\")\n",
    "all_data_test.head()"
   ]
  },
  {
   "cell_type": "code",
   "execution_count": 48,
   "metadata": {},
   "outputs": [
    {
     "output_type": "execute_result",
     "data": {
      "text/plain": "   user_id  merchant_id  label  prob  age_range  gender                                          item_path                                           cat_path                                        seller_path                                         brand_path                                    time_stamp_path                                   action_type_path  user_cnt  seller_nunique\n0    34176         3906    0.0   NaN        6.0     0.0  581818 879005 581818 581818 1011673 52343 2773...  1505 662 1505 1505 1505 662 1095 1505 662 1095...  416 3606 416 416 416 3760 3606 416 1926 3004 4...  4014.0 33.0 4014.0 4014.0 4014.0 3738.0 33.0 4...  521 521 521 521 521 521 521 521 521 521 521 52...  0 0 0 0 0 0 0 0 0 0 0 0 0 2 0 0 0 0 0 0 2 0 2 ...       451             109\n1    34176          121    0.0   NaN        6.0     0.0  581818 879005 581818 581818 1011673 52343 2773...  1505 662 1505 1505 1505 662 1095 1505 662 1095...  416 3606 416 416 416 3760 3606 416 1926 3004 4...  4014.0 33.0 4014.0 4014.0 4014.0 3738.0 33.0 4...  521 521 521 521 521 521 521 521 521 521 521 52...  0 0 0 0 0 0 0 0 0 0 0 0 0 2 0 0 0 0 0 0 2 0 2 ...       451             109\n2    34176         4356    1.0   NaN        6.0     0.0  581818 879005 581818 581818 1011673 52343 2773...  1505 662 1505 1505 1505 662 1095 1505 662 1095...  416 3606 416 416 416 3760 3606 416 1926 3004 4...  4014.0 33.0 4014.0 4014.0 4014.0 3738.0 33.0 4...  521 521 521 521 521 521 521 521 521 521 521 52...  0 0 0 0 0 0 0 0 0 0 0 0 0 2 0 0 0 0 0 0 2 0 2 ...       451             109\n3    34176         2217    0.0   NaN        6.0     0.0  581818 879005 581818 581818 1011673 52343 2773...  1505 662 1505 1505 1505 662 1095 1505 662 1095...  416 3606 416 416 416 3760 3606 416 1926 3004 4...  4014.0 33.0 4014.0 4014.0 4014.0 3738.0 33.0 4...  521 521 521 521 521 521 521 521 521 521 521 52...  0 0 0 0 0 0 0 0 0 0 0 0 0 2 0 0 0 0 0 0 2 0 2 ...       451             109\n4   230784         4818    0.0   NaN        0.0     0.0  191923 191923 191923 191923 964906 229470 2294...  1023 1023 1023 1023 662 664 664 1544 664 662 6...  3545 3545 3545 3545 4566 2537 2537 2420 2537 4...  5860.0 5860.0 5860.0 5860.0 6320.0 6064.0 6064...  601 601 601 601 614 614 614 614 614 614 618 61...  0 2 0 0 0 0 0 0 0 0 0 0 0 0 0 0 2 2 0 0 0 0 0 ...        54              20",
      "text/html": "<div>\n<style scoped>\n    .dataframe tbody tr th:only-of-type {\n        vertical-align: middle;\n    }\n\n    .dataframe tbody tr th {\n        vertical-align: top;\n    }\n\n    .dataframe thead th {\n        text-align: right;\n    }\n</style>\n<table border=\"1\" class=\"dataframe\">\n  <thead>\n    <tr style=\"text-align: right;\">\n      <th></th>\n      <th>user_id</th>\n      <th>merchant_id</th>\n      <th>label</th>\n      <th>prob</th>\n      <th>age_range</th>\n      <th>gender</th>\n      <th>item_path</th>\n      <th>cat_path</th>\n      <th>seller_path</th>\n      <th>brand_path</th>\n      <th>time_stamp_path</th>\n      <th>action_type_path</th>\n      <th>user_cnt</th>\n      <th>seller_nunique</th>\n    </tr>\n  </thead>\n  <tbody>\n    <tr>\n      <th>0</th>\n      <td>34176</td>\n      <td>3906</td>\n      <td>0.0</td>\n      <td>NaN</td>\n      <td>6.0</td>\n      <td>0.0</td>\n      <td>581818 879005 581818 581818 1011673 52343 2773...</td>\n      <td>1505 662 1505 1505 1505 662 1095 1505 662 1095...</td>\n      <td>416 3606 416 416 416 3760 3606 416 1926 3004 4...</td>\n      <td>4014.0 33.0 4014.0 4014.0 4014.0 3738.0 33.0 4...</td>\n      <td>521 521 521 521 521 521 521 521 521 521 521 52...</td>\n      <td>0 0 0 0 0 0 0 0 0 0 0 0 0 2 0 0 0 0 0 0 2 0 2 ...</td>\n      <td>451</td>\n      <td>109</td>\n    </tr>\n    <tr>\n      <th>1</th>\n      <td>34176</td>\n      <td>121</td>\n      <td>0.0</td>\n      <td>NaN</td>\n      <td>6.0</td>\n      <td>0.0</td>\n      <td>581818 879005 581818 581818 1011673 52343 2773...</td>\n      <td>1505 662 1505 1505 1505 662 1095 1505 662 1095...</td>\n      <td>416 3606 416 416 416 3760 3606 416 1926 3004 4...</td>\n      <td>4014.0 33.0 4014.0 4014.0 4014.0 3738.0 33.0 4...</td>\n      <td>521 521 521 521 521 521 521 521 521 521 521 52...</td>\n      <td>0 0 0 0 0 0 0 0 0 0 0 0 0 2 0 0 0 0 0 0 2 0 2 ...</td>\n      <td>451</td>\n      <td>109</td>\n    </tr>\n    <tr>\n      <th>2</th>\n      <td>34176</td>\n      <td>4356</td>\n      <td>1.0</td>\n      <td>NaN</td>\n      <td>6.0</td>\n      <td>0.0</td>\n      <td>581818 879005 581818 581818 1011673 52343 2773...</td>\n      <td>1505 662 1505 1505 1505 662 1095 1505 662 1095...</td>\n      <td>416 3606 416 416 416 3760 3606 416 1926 3004 4...</td>\n      <td>4014.0 33.0 4014.0 4014.0 4014.0 3738.0 33.0 4...</td>\n      <td>521 521 521 521 521 521 521 521 521 521 521 52...</td>\n      <td>0 0 0 0 0 0 0 0 0 0 0 0 0 2 0 0 0 0 0 0 2 0 2 ...</td>\n      <td>451</td>\n      <td>109</td>\n    </tr>\n    <tr>\n      <th>3</th>\n      <td>34176</td>\n      <td>2217</td>\n      <td>0.0</td>\n      <td>NaN</td>\n      <td>6.0</td>\n      <td>0.0</td>\n      <td>581818 879005 581818 581818 1011673 52343 2773...</td>\n      <td>1505 662 1505 1505 1505 662 1095 1505 662 1095...</td>\n      <td>416 3606 416 416 416 3760 3606 416 1926 3004 4...</td>\n      <td>4014.0 33.0 4014.0 4014.0 4014.0 3738.0 33.0 4...</td>\n      <td>521 521 521 521 521 521 521 521 521 521 521 52...</td>\n      <td>0 0 0 0 0 0 0 0 0 0 0 0 0 2 0 0 0 0 0 0 2 0 2 ...</td>\n      <td>451</td>\n      <td>109</td>\n    </tr>\n    <tr>\n      <th>4</th>\n      <td>230784</td>\n      <td>4818</td>\n      <td>0.0</td>\n      <td>NaN</td>\n      <td>0.0</td>\n      <td>0.0</td>\n      <td>191923 191923 191923 191923 964906 229470 2294...</td>\n      <td>1023 1023 1023 1023 662 664 664 1544 664 662 6...</td>\n      <td>3545 3545 3545 3545 4566 2537 2537 2420 2537 4...</td>\n      <td>5860.0 5860.0 5860.0 5860.0 6320.0 6064.0 6064...</td>\n      <td>601 601 601 601 614 614 614 614 614 614 618 61...</td>\n      <td>0 2 0 0 0 0 0 0 0 0 0 0 0 0 0 0 2 2 0 0 0 0 0 ...</td>\n      <td>54</td>\n      <td>20</td>\n    </tr>\n  </tbody>\n</table>\n</div>"
     },
     "metadata": {},
     "execution_count": 48
    }
   ],
   "source": [
    "#不同店铺个数\n",
    "all_data_test=user_nunique(all_data_test,\"seller_path\",\"seller_nunique\")\n",
    "all_data_test.head()"
   ]
  },
  {
   "cell_type": "code",
   "execution_count": 49,
   "metadata": {},
   "outputs": [
    {
     "output_type": "execute_result",
     "data": {
      "text/plain": "   user_id  merchant_id  label  prob  age_range  gender                                          item_path                                           cat_path                                        seller_path                                         brand_path                                    time_stamp_path                                   action_type_path  user_cnt  seller_nunique  cat_nunique  brand_nunique  item_nunique  time_stamp_nunique  action_type_nunique\n0    34176         3906    0.0   NaN        6.0     0.0  581818 879005 581818 581818 1011673 52343 2773...  1505 662 1505 1505 1505 662 1095 1505 662 1095...  416 3606 416 416 416 3760 3606 416 1926 3004 4...  4014.0 33.0 4014.0 4014.0 4014.0 3738.0 33.0 4...  521 521 521 521 521 521 521 521 521 521 521 52...  0 0 0 0 0 0 0 0 0 0 0 0 0 2 0 0 0 0 0 0 2 0 2 ...       451             109           45            106           256                  47                    3\n1    34176          121    0.0   NaN        6.0     0.0  581818 879005 581818 581818 1011673 52343 2773...  1505 662 1505 1505 1505 662 1095 1505 662 1095...  416 3606 416 416 416 3760 3606 416 1926 3004 4...  4014.0 33.0 4014.0 4014.0 4014.0 3738.0 33.0 4...  521 521 521 521 521 521 521 521 521 521 521 52...  0 0 0 0 0 0 0 0 0 0 0 0 0 2 0 0 0 0 0 0 2 0 2 ...       451             109           45            106           256                  47                    3\n2    34176         4356    1.0   NaN        6.0     0.0  581818 879005 581818 581818 1011673 52343 2773...  1505 662 1505 1505 1505 662 1095 1505 662 1095...  416 3606 416 416 416 3760 3606 416 1926 3004 4...  4014.0 33.0 4014.0 4014.0 4014.0 3738.0 33.0 4...  521 521 521 521 521 521 521 521 521 521 521 52...  0 0 0 0 0 0 0 0 0 0 0 0 0 2 0 0 0 0 0 0 2 0 2 ...       451             109           45            106           256                  47                    3\n3    34176         2217    0.0   NaN        6.0     0.0  581818 879005 581818 581818 1011673 52343 2773...  1505 662 1505 1505 1505 662 1095 1505 662 1095...  416 3606 416 416 416 3760 3606 416 1926 3004 4...  4014.0 33.0 4014.0 4014.0 4014.0 3738.0 33.0 4...  521 521 521 521 521 521 521 521 521 521 521 52...  0 0 0 0 0 0 0 0 0 0 0 0 0 2 0 0 0 0 0 0 2 0 2 ...       451             109           45            106           256                  47                    3\n4   230784         4818    0.0   NaN        0.0     0.0  191923 191923 191923 191923 964906 229470 2294...  1023 1023 1023 1023 662 664 664 1544 664 662 6...  3545 3545 3545 3545 4566 2537 2537 2420 2537 4...  5860.0 5860.0 5860.0 5860.0 6320.0 6064.0 6064...  601 601 601 601 614 614 614 614 614 614 618 61...  0 2 0 0 0 0 0 0 0 0 0 0 0 0 0 0 2 2 0 0 0 0 0 ...        54              20           17             19            31                  16                    2",
      "text/html": "<div>\n<style scoped>\n    .dataframe tbody tr th:only-of-type {\n        vertical-align: middle;\n    }\n\n    .dataframe tbody tr th {\n        vertical-align: top;\n    }\n\n    .dataframe thead th {\n        text-align: right;\n    }\n</style>\n<table border=\"1\" class=\"dataframe\">\n  <thead>\n    <tr style=\"text-align: right;\">\n      <th></th>\n      <th>user_id</th>\n      <th>merchant_id</th>\n      <th>label</th>\n      <th>prob</th>\n      <th>age_range</th>\n      <th>gender</th>\n      <th>item_path</th>\n      <th>cat_path</th>\n      <th>seller_path</th>\n      <th>brand_path</th>\n      <th>time_stamp_path</th>\n      <th>action_type_path</th>\n      <th>user_cnt</th>\n      <th>seller_nunique</th>\n      <th>cat_nunique</th>\n      <th>brand_nunique</th>\n      <th>item_nunique</th>\n      <th>time_stamp_nunique</th>\n      <th>action_type_nunique</th>\n    </tr>\n  </thead>\n  <tbody>\n    <tr>\n      <th>0</th>\n      <td>34176</td>\n      <td>3906</td>\n      <td>0.0</td>\n      <td>NaN</td>\n      <td>6.0</td>\n      <td>0.0</td>\n      <td>581818 879005 581818 581818 1011673 52343 2773...</td>\n      <td>1505 662 1505 1505 1505 662 1095 1505 662 1095...</td>\n      <td>416 3606 416 416 416 3760 3606 416 1926 3004 4...</td>\n      <td>4014.0 33.0 4014.0 4014.0 4014.0 3738.0 33.0 4...</td>\n      <td>521 521 521 521 521 521 521 521 521 521 521 52...</td>\n      <td>0 0 0 0 0 0 0 0 0 0 0 0 0 2 0 0 0 0 0 0 2 0 2 ...</td>\n      <td>451</td>\n      <td>109</td>\n      <td>45</td>\n      <td>106</td>\n      <td>256</td>\n      <td>47</td>\n      <td>3</td>\n    </tr>\n    <tr>\n      <th>1</th>\n      <td>34176</td>\n      <td>121</td>\n      <td>0.0</td>\n      <td>NaN</td>\n      <td>6.0</td>\n      <td>0.0</td>\n      <td>581818 879005 581818 581818 1011673 52343 2773...</td>\n      <td>1505 662 1505 1505 1505 662 1095 1505 662 1095...</td>\n      <td>416 3606 416 416 416 3760 3606 416 1926 3004 4...</td>\n      <td>4014.0 33.0 4014.0 4014.0 4014.0 3738.0 33.0 4...</td>\n      <td>521 521 521 521 521 521 521 521 521 521 521 52...</td>\n      <td>0 0 0 0 0 0 0 0 0 0 0 0 0 2 0 0 0 0 0 0 2 0 2 ...</td>\n      <td>451</td>\n      <td>109</td>\n      <td>45</td>\n      <td>106</td>\n      <td>256</td>\n      <td>47</td>\n      <td>3</td>\n    </tr>\n    <tr>\n      <th>2</th>\n      <td>34176</td>\n      <td>4356</td>\n      <td>1.0</td>\n      <td>NaN</td>\n      <td>6.0</td>\n      <td>0.0</td>\n      <td>581818 879005 581818 581818 1011673 52343 2773...</td>\n      <td>1505 662 1505 1505 1505 662 1095 1505 662 1095...</td>\n      <td>416 3606 416 416 416 3760 3606 416 1926 3004 4...</td>\n      <td>4014.0 33.0 4014.0 4014.0 4014.0 3738.0 33.0 4...</td>\n      <td>521 521 521 521 521 521 521 521 521 521 521 52...</td>\n      <td>0 0 0 0 0 0 0 0 0 0 0 0 0 2 0 0 0 0 0 0 2 0 2 ...</td>\n      <td>451</td>\n      <td>109</td>\n      <td>45</td>\n      <td>106</td>\n      <td>256</td>\n      <td>47</td>\n      <td>3</td>\n    </tr>\n    <tr>\n      <th>3</th>\n      <td>34176</td>\n      <td>2217</td>\n      <td>0.0</td>\n      <td>NaN</td>\n      <td>6.0</td>\n      <td>0.0</td>\n      <td>581818 879005 581818 581818 1011673 52343 2773...</td>\n      <td>1505 662 1505 1505 1505 662 1095 1505 662 1095...</td>\n      <td>416 3606 416 416 416 3760 3606 416 1926 3004 4...</td>\n      <td>4014.0 33.0 4014.0 4014.0 4014.0 3738.0 33.0 4...</td>\n      <td>521 521 521 521 521 521 521 521 521 521 521 52...</td>\n      <td>0 0 0 0 0 0 0 0 0 0 0 0 0 2 0 0 0 0 0 0 2 0 2 ...</td>\n      <td>451</td>\n      <td>109</td>\n      <td>45</td>\n      <td>106</td>\n      <td>256</td>\n      <td>47</td>\n      <td>3</td>\n    </tr>\n    <tr>\n      <th>4</th>\n      <td>230784</td>\n      <td>4818</td>\n      <td>0.0</td>\n      <td>NaN</td>\n      <td>0.0</td>\n      <td>0.0</td>\n      <td>191923 191923 191923 191923 964906 229470 2294...</td>\n      <td>1023 1023 1023 1023 662 664 664 1544 664 662 6...</td>\n      <td>3545 3545 3545 3545 4566 2537 2537 2420 2537 4...</td>\n      <td>5860.0 5860.0 5860.0 5860.0 6320.0 6064.0 6064...</td>\n      <td>601 601 601 601 614 614 614 614 614 614 618 61...</td>\n      <td>0 2 0 0 0 0 0 0 0 0 0 0 0 0 0 0 2 2 0 0 0 0 0 ...</td>\n      <td>54</td>\n      <td>20</td>\n      <td>17</td>\n      <td>19</td>\n      <td>31</td>\n      <td>16</td>\n      <td>2</td>\n    </tr>\n  </tbody>\n</table>\n</div>"
     },
     "metadata": {},
     "execution_count": 49
    }
   ],
   "source": [
    "# 不同品类个数\n",
    "all_data_test = user_nunique(all_data_test,  'cat_path', 'cat_nunique')\n",
    "# 不同品牌个数\n",
    "all_data_test = user_nunique(all_data_test,  'brand_path', 'brand_nunique')\n",
    "# 不同商品个数\n",
    "all_data_test = user_nunique(all_data_test,  'item_path', 'item_nunique')\n",
    "# 活跃天数\n",
    "all_data_test = user_nunique(all_data_test,  'time_stamp_path', 'time_stamp_nunique')\n",
    "# 同一用户产生的操作类型数量\n",
    "all_data_test = user_nunique(all_data_test,  'action_type_path', 'action_type_nunique')\n",
    "all_data_test.head()"
   ]
  },
  {
   "cell_type": "code",
   "execution_count": 50,
   "metadata": {},
   "outputs": [
    {
     "output_type": "execute_result",
     "data": {
      "text/plain": "   user_id  merchant_id  label  prob  age_range  gender                                          item_path                                           cat_path                                        seller_path                                         brand_path                                    time_stamp_path                                   action_type_path  user_cnt  seller_nunique  cat_nunique  brand_nunique  item_nunique  time_stamp_nunique  action_type_nunique  time_stamp_max  time_stamp_min  time_stamp_std  time_stamp_range seller_most_1 cat_most_1 brand_most_1 action_type_1  seller_most_1_cnt  cat_most_1_cnt  brand_most_1_cnt  action_type_1_cnt\n0    34176         3906    0.0   NaN        6.0     0.0  581818 879005 581818 581818 1011673 52343 2773...  1505 662 1505 1505 1505 662 1095 1505 662 1095...  416 3606 416 416 416 3760 3606 416 1926 3004 4...  4014.0 33.0 4014.0 4014.0 4014.0 3738.0 33.0 4...  521 521 521 521 521 521 521 521 521 521 521 52...  0 0 0 0 0 0 0 0 0 0 0 0 0 2 0 0 0 0 0 0 2 0 2 ...       451             109           45            106           256                  47                    3               3               0        0.634270                 3           331        662       4094.0             0                 70              98                70                410\n1    34176          121    0.0   NaN        6.0     0.0  581818 879005 581818 581818 1011673 52343 2773...  1505 662 1505 1505 1505 662 1095 1505 662 1095...  416 3606 416 416 416 3760 3606 416 1926 3004 4...  4014.0 33.0 4014.0 4014.0 4014.0 3738.0 33.0 4...  521 521 521 521 521 521 521 521 521 521 521 52...  0 0 0 0 0 0 0 0 0 0 0 0 0 2 0 0 0 0 0 0 2 0 2 ...       451             109           45            106           256                  47                    3               3               0        0.634270                 3           331        662       4094.0             0                 70              98                70                410\n2    34176         4356    1.0   NaN        6.0     0.0  581818 879005 581818 581818 1011673 52343 2773...  1505 662 1505 1505 1505 662 1095 1505 662 1095...  416 3606 416 416 416 3760 3606 416 1926 3004 4...  4014.0 33.0 4014.0 4014.0 4014.0 3738.0 33.0 4...  521 521 521 521 521 521 521 521 521 521 521 52...  0 0 0 0 0 0 0 0 0 0 0 0 0 2 0 0 0 0 0 0 2 0 2 ...       451             109           45            106           256                  47                    3               3               0        0.634270                 3           331        662       4094.0             0                 70              98                70                410\n3    34176         2217    0.0   NaN        6.0     0.0  581818 879005 581818 581818 1011673 52343 2773...  1505 662 1505 1505 1505 662 1095 1505 662 1095...  416 3606 416 416 416 3760 3606 416 1926 3004 4...  4014.0 33.0 4014.0 4014.0 4014.0 3738.0 33.0 4...  521 521 521 521 521 521 521 521 521 521 521 52...  0 0 0 0 0 0 0 0 0 0 0 0 0 2 0 0 0 0 0 0 2 0 2 ...       451             109           45            106           256                  47                    3               3               0        0.634270                 3           331        662       4094.0             0                 70              98                70                410\n4   230784         4818    0.0   NaN        0.0     0.0  191923 191923 191923 191923 964906 229470 2294...  1023 1023 1023 1023 662 664 664 1544 664 662 6...  3545 3545 3545 3545 4566 2537 2537 2420 2537 4...  5860.0 5860.0 5860.0 5860.0 6320.0 6064.0 6064...  601 601 601 601 614 614 614 614 614 614 618 61...  0 2 0 0 0 0 0 0 0 0 0 0 0 0 0 0 2 2 0 0 0 0 0 ...        54              20           17             19            31                  16                    2               2               0        0.671791                 2          3556        407       1236.0             0                 10               9                10                 47",
      "text/html": "<div>\n<style scoped>\n    .dataframe tbody tr th:only-of-type {\n        vertical-align: middle;\n    }\n\n    .dataframe tbody tr th {\n        vertical-align: top;\n    }\n\n    .dataframe thead th {\n        text-align: right;\n    }\n</style>\n<table border=\"1\" class=\"dataframe\">\n  <thead>\n    <tr style=\"text-align: right;\">\n      <th></th>\n      <th>user_id</th>\n      <th>merchant_id</th>\n      <th>label</th>\n      <th>prob</th>\n      <th>age_range</th>\n      <th>gender</th>\n      <th>item_path</th>\n      <th>cat_path</th>\n      <th>seller_path</th>\n      <th>brand_path</th>\n      <th>time_stamp_path</th>\n      <th>action_type_path</th>\n      <th>user_cnt</th>\n      <th>seller_nunique</th>\n      <th>cat_nunique</th>\n      <th>brand_nunique</th>\n      <th>item_nunique</th>\n      <th>time_stamp_nunique</th>\n      <th>action_type_nunique</th>\n      <th>time_stamp_max</th>\n      <th>time_stamp_min</th>\n      <th>time_stamp_std</th>\n      <th>time_stamp_range</th>\n      <th>seller_most_1</th>\n      <th>cat_most_1</th>\n      <th>brand_most_1</th>\n      <th>action_type_1</th>\n      <th>seller_most_1_cnt</th>\n      <th>cat_most_1_cnt</th>\n      <th>brand_most_1_cnt</th>\n      <th>action_type_1_cnt</th>\n    </tr>\n  </thead>\n  <tbody>\n    <tr>\n      <th>0</th>\n      <td>34176</td>\n      <td>3906</td>\n      <td>0.0</td>\n      <td>NaN</td>\n      <td>6.0</td>\n      <td>0.0</td>\n      <td>581818 879005 581818 581818 1011673 52343 2773...</td>\n      <td>1505 662 1505 1505 1505 662 1095 1505 662 1095...</td>\n      <td>416 3606 416 416 416 3760 3606 416 1926 3004 4...</td>\n      <td>4014.0 33.0 4014.0 4014.0 4014.0 3738.0 33.0 4...</td>\n      <td>521 521 521 521 521 521 521 521 521 521 521 52...</td>\n      <td>0 0 0 0 0 0 0 0 0 0 0 0 0 2 0 0 0 0 0 0 2 0 2 ...</td>\n      <td>451</td>\n      <td>109</td>\n      <td>45</td>\n      <td>106</td>\n      <td>256</td>\n      <td>47</td>\n      <td>3</td>\n      <td>3</td>\n      <td>0</td>\n      <td>0.634270</td>\n      <td>3</td>\n      <td>331</td>\n      <td>662</td>\n      <td>4094.0</td>\n      <td>0</td>\n      <td>70</td>\n      <td>98</td>\n      <td>70</td>\n      <td>410</td>\n    </tr>\n    <tr>\n      <th>1</th>\n      <td>34176</td>\n      <td>121</td>\n      <td>0.0</td>\n      <td>NaN</td>\n      <td>6.0</td>\n      <td>0.0</td>\n      <td>581818 879005 581818 581818 1011673 52343 2773...</td>\n      <td>1505 662 1505 1505 1505 662 1095 1505 662 1095...</td>\n      <td>416 3606 416 416 416 3760 3606 416 1926 3004 4...</td>\n      <td>4014.0 33.0 4014.0 4014.0 4014.0 3738.0 33.0 4...</td>\n      <td>521 521 521 521 521 521 521 521 521 521 521 52...</td>\n      <td>0 0 0 0 0 0 0 0 0 0 0 0 0 2 0 0 0 0 0 0 2 0 2 ...</td>\n      <td>451</td>\n      <td>109</td>\n      <td>45</td>\n      <td>106</td>\n      <td>256</td>\n      <td>47</td>\n      <td>3</td>\n      <td>3</td>\n      <td>0</td>\n      <td>0.634270</td>\n      <td>3</td>\n      <td>331</td>\n      <td>662</td>\n      <td>4094.0</td>\n      <td>0</td>\n      <td>70</td>\n      <td>98</td>\n      <td>70</td>\n      <td>410</td>\n    </tr>\n    <tr>\n      <th>2</th>\n      <td>34176</td>\n      <td>4356</td>\n      <td>1.0</td>\n      <td>NaN</td>\n      <td>6.0</td>\n      <td>0.0</td>\n      <td>581818 879005 581818 581818 1011673 52343 2773...</td>\n      <td>1505 662 1505 1505 1505 662 1095 1505 662 1095...</td>\n      <td>416 3606 416 416 416 3760 3606 416 1926 3004 4...</td>\n      <td>4014.0 33.0 4014.0 4014.0 4014.0 3738.0 33.0 4...</td>\n      <td>521 521 521 521 521 521 521 521 521 521 521 52...</td>\n      <td>0 0 0 0 0 0 0 0 0 0 0 0 0 2 0 0 0 0 0 0 2 0 2 ...</td>\n      <td>451</td>\n      <td>109</td>\n      <td>45</td>\n      <td>106</td>\n      <td>256</td>\n      <td>47</td>\n      <td>3</td>\n      <td>3</td>\n      <td>0</td>\n      <td>0.634270</td>\n      <td>3</td>\n      <td>331</td>\n      <td>662</td>\n      <td>4094.0</td>\n      <td>0</td>\n      <td>70</td>\n      <td>98</td>\n      <td>70</td>\n      <td>410</td>\n    </tr>\n    <tr>\n      <th>3</th>\n      <td>34176</td>\n      <td>2217</td>\n      <td>0.0</td>\n      <td>NaN</td>\n      <td>6.0</td>\n      <td>0.0</td>\n      <td>581818 879005 581818 581818 1011673 52343 2773...</td>\n      <td>1505 662 1505 1505 1505 662 1095 1505 662 1095...</td>\n      <td>416 3606 416 416 416 3760 3606 416 1926 3004 4...</td>\n      <td>4014.0 33.0 4014.0 4014.0 4014.0 3738.0 33.0 4...</td>\n      <td>521 521 521 521 521 521 521 521 521 521 521 52...</td>\n      <td>0 0 0 0 0 0 0 0 0 0 0 0 0 2 0 0 0 0 0 0 2 0 2 ...</td>\n      <td>451</td>\n      <td>109</td>\n      <td>45</td>\n      <td>106</td>\n      <td>256</td>\n      <td>47</td>\n      <td>3</td>\n      <td>3</td>\n      <td>0</td>\n      <td>0.634270</td>\n      <td>3</td>\n      <td>331</td>\n      <td>662</td>\n      <td>4094.0</td>\n      <td>0</td>\n      <td>70</td>\n      <td>98</td>\n      <td>70</td>\n      <td>410</td>\n    </tr>\n    <tr>\n      <th>4</th>\n      <td>230784</td>\n      <td>4818</td>\n      <td>0.0</td>\n      <td>NaN</td>\n      <td>0.0</td>\n      <td>0.0</td>\n      <td>191923 191923 191923 191923 964906 229470 2294...</td>\n      <td>1023 1023 1023 1023 662 664 664 1544 664 662 6...</td>\n      <td>3545 3545 3545 3545 4566 2537 2537 2420 2537 4...</td>\n      <td>5860.0 5860.0 5860.0 5860.0 6320.0 6064.0 6064...</td>\n      <td>601 601 601 601 614 614 614 614 614 614 618 61...</td>\n      <td>0 2 0 0 0 0 0 0 0 0 0 0 0 0 0 0 2 2 0 0 0 0 0 ...</td>\n      <td>54</td>\n      <td>20</td>\n      <td>17</td>\n      <td>19</td>\n      <td>31</td>\n      <td>16</td>\n      <td>2</td>\n      <td>2</td>\n      <td>0</td>\n      <td>0.671791</td>\n      <td>2</td>\n      <td>3556</td>\n      <td>407</td>\n      <td>1236.0</td>\n      <td>0</td>\n      <td>10</td>\n      <td>9</td>\n      <td>10</td>\n      <td>47</td>\n    </tr>\n  </tbody>\n</table>\n</div>"
     },
     "metadata": {},
     "execution_count": 50
    }
   ],
   "source": [
    "# 最晚时间\n",
    "all_data_test = user_max(all_data_test,  'action_type_path', 'time_stamp_max')\n",
    "# 最早时间\n",
    "all_data_test = user_min(all_data_test,  'action_type_path', 'time_stamp_min')\n",
    "# 活跃天数方差\n",
    "all_data_test = user_std(all_data_test,  'action_type_path', 'time_stamp_std')\n",
    "# 最早和最晚相差天数\n",
    "all_data_test['time_stamp_range'] = all_data_test['time_stamp_max'] - all_data_test['time_stamp_min']\n",
    "# 用户最喜欢的店铺\n",
    "all_data_test = user_most_n(all_data_test, 'seller_path', 'seller_most_1', n=1)\n",
    "# 最喜欢的类目\n",
    "all_data_test = user_most_n(all_data_test, 'cat_path', 'cat_most_1', n=1)\n",
    "# 最喜欢的品牌\n",
    "all_data_test = user_most_n(all_data_test, 'brand_path', 'brand_most_1', n=1)\n",
    "# 最常见的行为动作\n",
    "all_data_test = user_most_n(all_data_test, 'action_type_path', 'action_type_1', n=1)\n",
    "# 用户最喜欢的店铺 行为次数\n",
    "all_data_test = user_most_n_cnt(all_data_test, 'seller_path', 'seller_most_1_cnt', n=1)\n",
    "# 最喜欢的类目 行为次数\n",
    "all_data_test = user_most_n_cnt(all_data_test, 'cat_path', 'cat_most_1_cnt', n=1)\n",
    "# 最喜欢的品牌 行为次数\n",
    "all_data_test = user_most_n_cnt(all_data_test, 'brand_path', 'brand_most_1_cnt', n=1)\n",
    "# 最常见的行为动作 行为次数\n",
    "all_data_test = user_most_n_cnt(all_data_test, 'action_type_path', 'action_type_1_cnt', n=1)\n",
    "all_data_test.head()"
   ]
  },
  {
   "cell_type": "markdown",
   "metadata": {},
   "source": [
    "### 7、分开统计用户的点击、加购、购买、收藏特征"
   ]
  },
  {
   "cell_type": "code",
   "execution_count": 51,
   "metadata": {},
   "outputs": [],
   "source": [
    "#不同行为的业务函数定义\n",
    "def col_cnt_(df_data, columns_list, action_type):\n",
    "    try:\n",
    "        data_dict = {}\n",
    "\n",
    "        col_list = copy.deepcopy(columns_list)\n",
    "        if action_type != None:\n",
    "            col_list += ['action_type_path']\n",
    "\n",
    "        for col in col_list:\n",
    "            data_dict[col] = df_data[col].split(' ')\n",
    "\n",
    "        path_len = len(data_dict[col])\n",
    "\n",
    "        data_out = []\n",
    "        for i_ in range(path_len):\n",
    "            data_txt = ''\n",
    "            for col_ in columns_list:\n",
    "                if data_dict['action_type_path'][i_] == action_type:\n",
    "                    data_txt += '_' + data_dict[col_][i_]\n",
    "            data_out.append(data_txt)\n",
    "\n",
    "        return len(data_out)  \n",
    "    except:\n",
    "        return -1\n",
    "\n",
    "def col_nuique_(df_data, columns_list, action_type):\n",
    "    try:\n",
    "        data_dict = {}\n",
    "\n",
    "        col_list = copy.deepcopy(columns_list)\n",
    "        if action_type != None:\n",
    "            col_list += ['action_type_path']\n",
    "\n",
    "        for col in col_list:\n",
    "            data_dict[col] = df_data[col].split(' ')\n",
    "\n",
    "        path_len = len(data_dict[col])\n",
    "\n",
    "        data_out = []\n",
    "        for i_ in range(path_len):\n",
    "            data_txt = ''\n",
    "            for col_ in columns_list:\n",
    "                if data_dict['action_type_path'][i_] == action_type:\n",
    "                    data_txt += '_' + data_dict[col_][i_]\n",
    "            data_out.append(data_txt)\n",
    "\n",
    "        return len(set(data_out))\n",
    "    except:\n",
    "        return -1\n",
    "    \n",
    "\n",
    "def user_col_cnt(df_data, columns_list, action_type, name):\n",
    "    df_data[name] = df_data.apply(lambda x: col_cnt_(x, columns_list, action_type), axis=1)\n",
    "    return df_data\n",
    "\n",
    "def user_col_nunique(df_data, columns_list, action_type, name):\n",
    "    df_data[name] = df_data.apply(lambda x: col_nuique_(x, columns_list, action_type), axis=1)\n",
    "    return df_data"
   ]
  },
  {
   "cell_type": "code",
   "execution_count": 52,
   "metadata": {},
   "outputs": [
    {
     "output_type": "execute_result",
     "data": {
      "text/plain": "   user_id  merchant_id  label  prob  age_range  gender                                          item_path                                           cat_path                                        seller_path                                         brand_path                                    time_stamp_path                                   action_type_path  user_cnt  seller_nunique  cat_nunique  brand_nunique  item_nunique  time_stamp_nunique  action_type_nunique  time_stamp_max  time_stamp_min  time_stamp_std  time_stamp_range seller_most_1 cat_most_1 brand_most_1 action_type_1  seller_most_1_cnt  cat_most_1_cnt  brand_most_1_cnt  action_type_1_cnt  user_cnt_0  user_cnt_1  user_cnt_2  user_cnt_3  seller_nunique_0\n0    34176         3906    0.0   NaN        6.0     0.0  581818 879005 581818 581818 1011673 52343 2773...  1505 662 1505 1505 1505 662 1095 1505 662 1095...  416 3606 416 416 416 3760 3606 416 1926 3004 4...  4014.0 33.0 4014.0 4014.0 4014.0 3738.0 33.0 4...  521 521 521 521 521 521 521 521 521 521 521 52...  0 0 0 0 0 0 0 0 0 0 0 0 0 2 0 0 0 0 0 0 2 0 2 ...       451             109           45            106           256                  47                    3               3               0        0.634270                 3           331        662       4094.0             0                 70              98                70                410         451         451         451         451               107\n1    34176          121    0.0   NaN        6.0     0.0  581818 879005 581818 581818 1011673 52343 2773...  1505 662 1505 1505 1505 662 1095 1505 662 1095...  416 3606 416 416 416 3760 3606 416 1926 3004 4...  4014.0 33.0 4014.0 4014.0 4014.0 3738.0 33.0 4...  521 521 521 521 521 521 521 521 521 521 521 52...  0 0 0 0 0 0 0 0 0 0 0 0 0 2 0 0 0 0 0 0 2 0 2 ...       451             109           45            106           256                  47                    3               3               0        0.634270                 3           331        662       4094.0             0                 70              98                70                410         451         451         451         451               107\n2    34176         4356    1.0   NaN        6.0     0.0  581818 879005 581818 581818 1011673 52343 2773...  1505 662 1505 1505 1505 662 1095 1505 662 1095...  416 3606 416 416 416 3760 3606 416 1926 3004 4...  4014.0 33.0 4014.0 4014.0 4014.0 3738.0 33.0 4...  521 521 521 521 521 521 521 521 521 521 521 52...  0 0 0 0 0 0 0 0 0 0 0 0 0 2 0 0 0 0 0 0 2 0 2 ...       451             109           45            106           256                  47                    3               3               0        0.634270                 3           331        662       4094.0             0                 70              98                70                410         451         451         451         451               107\n3    34176         2217    0.0   NaN        6.0     0.0  581818 879005 581818 581818 1011673 52343 2773...  1505 662 1505 1505 1505 662 1095 1505 662 1095...  416 3606 416 416 416 3760 3606 416 1926 3004 4...  4014.0 33.0 4014.0 4014.0 4014.0 3738.0 33.0 4...  521 521 521 521 521 521 521 521 521 521 521 52...  0 0 0 0 0 0 0 0 0 0 0 0 0 2 0 0 0 0 0 0 2 0 2 ...       451             109           45            106           256                  47                    3               3               0        0.634270                 3           331        662       4094.0             0                 70              98                70                410         451         451         451         451               107\n4   230784         4818    0.0   NaN        0.0     0.0  191923 191923 191923 191923 964906 229470 2294...  1023 1023 1023 1023 662 664 664 1544 664 662 6...  3545 3545 3545 3545 4566 2537 2537 2420 2537 4...  5860.0 5860.0 5860.0 5860.0 6320.0 6064.0 6064...  601 601 601 601 614 614 614 614 614 614 618 61...  0 2 0 0 0 0 0 0 0 0 0 0 0 0 0 0 2 2 0 0 0 0 0 ...        54              20           17             19            31                  16                    2               2               0        0.671791                 2          3556        407       1236.0             0                 10               9                10                 47          54          54          54          54                21",
      "text/html": "<div>\n<style scoped>\n    .dataframe tbody tr th:only-of-type {\n        vertical-align: middle;\n    }\n\n    .dataframe tbody tr th {\n        vertical-align: top;\n    }\n\n    .dataframe thead th {\n        text-align: right;\n    }\n</style>\n<table border=\"1\" class=\"dataframe\">\n  <thead>\n    <tr style=\"text-align: right;\">\n      <th></th>\n      <th>user_id</th>\n      <th>merchant_id</th>\n      <th>label</th>\n      <th>prob</th>\n      <th>age_range</th>\n      <th>gender</th>\n      <th>item_path</th>\n      <th>cat_path</th>\n      <th>seller_path</th>\n      <th>brand_path</th>\n      <th>time_stamp_path</th>\n      <th>action_type_path</th>\n      <th>user_cnt</th>\n      <th>seller_nunique</th>\n      <th>cat_nunique</th>\n      <th>brand_nunique</th>\n      <th>item_nunique</th>\n      <th>time_stamp_nunique</th>\n      <th>action_type_nunique</th>\n      <th>time_stamp_max</th>\n      <th>time_stamp_min</th>\n      <th>time_stamp_std</th>\n      <th>time_stamp_range</th>\n      <th>seller_most_1</th>\n      <th>cat_most_1</th>\n      <th>brand_most_1</th>\n      <th>action_type_1</th>\n      <th>seller_most_1_cnt</th>\n      <th>cat_most_1_cnt</th>\n      <th>brand_most_1_cnt</th>\n      <th>action_type_1_cnt</th>\n      <th>user_cnt_0</th>\n      <th>user_cnt_1</th>\n      <th>user_cnt_2</th>\n      <th>user_cnt_3</th>\n      <th>seller_nunique_0</th>\n    </tr>\n  </thead>\n  <tbody>\n    <tr>\n      <th>0</th>\n      <td>34176</td>\n      <td>3906</td>\n      <td>0.0</td>\n      <td>NaN</td>\n      <td>6.0</td>\n      <td>0.0</td>\n      <td>581818 879005 581818 581818 1011673 52343 2773...</td>\n      <td>1505 662 1505 1505 1505 662 1095 1505 662 1095...</td>\n      <td>416 3606 416 416 416 3760 3606 416 1926 3004 4...</td>\n      <td>4014.0 33.0 4014.0 4014.0 4014.0 3738.0 33.0 4...</td>\n      <td>521 521 521 521 521 521 521 521 521 521 521 52...</td>\n      <td>0 0 0 0 0 0 0 0 0 0 0 0 0 2 0 0 0 0 0 0 2 0 2 ...</td>\n      <td>451</td>\n      <td>109</td>\n      <td>45</td>\n      <td>106</td>\n      <td>256</td>\n      <td>47</td>\n      <td>3</td>\n      <td>3</td>\n      <td>0</td>\n      <td>0.634270</td>\n      <td>3</td>\n      <td>331</td>\n      <td>662</td>\n      <td>4094.0</td>\n      <td>0</td>\n      <td>70</td>\n      <td>98</td>\n      <td>70</td>\n      <td>410</td>\n      <td>451</td>\n      <td>451</td>\n      <td>451</td>\n      <td>451</td>\n      <td>107</td>\n    </tr>\n    <tr>\n      <th>1</th>\n      <td>34176</td>\n      <td>121</td>\n      <td>0.0</td>\n      <td>NaN</td>\n      <td>6.0</td>\n      <td>0.0</td>\n      <td>581818 879005 581818 581818 1011673 52343 2773...</td>\n      <td>1505 662 1505 1505 1505 662 1095 1505 662 1095...</td>\n      <td>416 3606 416 416 416 3760 3606 416 1926 3004 4...</td>\n      <td>4014.0 33.0 4014.0 4014.0 4014.0 3738.0 33.0 4...</td>\n      <td>521 521 521 521 521 521 521 521 521 521 521 52...</td>\n      <td>0 0 0 0 0 0 0 0 0 0 0 0 0 2 0 0 0 0 0 0 2 0 2 ...</td>\n      <td>451</td>\n      <td>109</td>\n      <td>45</td>\n      <td>106</td>\n      <td>256</td>\n      <td>47</td>\n      <td>3</td>\n      <td>3</td>\n      <td>0</td>\n      <td>0.634270</td>\n      <td>3</td>\n      <td>331</td>\n      <td>662</td>\n      <td>4094.0</td>\n      <td>0</td>\n      <td>70</td>\n      <td>98</td>\n      <td>70</td>\n      <td>410</td>\n      <td>451</td>\n      <td>451</td>\n      <td>451</td>\n      <td>451</td>\n      <td>107</td>\n    </tr>\n    <tr>\n      <th>2</th>\n      <td>34176</td>\n      <td>4356</td>\n      <td>1.0</td>\n      <td>NaN</td>\n      <td>6.0</td>\n      <td>0.0</td>\n      <td>581818 879005 581818 581818 1011673 52343 2773...</td>\n      <td>1505 662 1505 1505 1505 662 1095 1505 662 1095...</td>\n      <td>416 3606 416 416 416 3760 3606 416 1926 3004 4...</td>\n      <td>4014.0 33.0 4014.0 4014.0 4014.0 3738.0 33.0 4...</td>\n      <td>521 521 521 521 521 521 521 521 521 521 521 52...</td>\n      <td>0 0 0 0 0 0 0 0 0 0 0 0 0 2 0 0 0 0 0 0 2 0 2 ...</td>\n      <td>451</td>\n      <td>109</td>\n      <td>45</td>\n      <td>106</td>\n      <td>256</td>\n      <td>47</td>\n      <td>3</td>\n      <td>3</td>\n      <td>0</td>\n      <td>0.634270</td>\n      <td>3</td>\n      <td>331</td>\n      <td>662</td>\n      <td>4094.0</td>\n      <td>0</td>\n      <td>70</td>\n      <td>98</td>\n      <td>70</td>\n      <td>410</td>\n      <td>451</td>\n      <td>451</td>\n      <td>451</td>\n      <td>451</td>\n      <td>107</td>\n    </tr>\n    <tr>\n      <th>3</th>\n      <td>34176</td>\n      <td>2217</td>\n      <td>0.0</td>\n      <td>NaN</td>\n      <td>6.0</td>\n      <td>0.0</td>\n      <td>581818 879005 581818 581818 1011673 52343 2773...</td>\n      <td>1505 662 1505 1505 1505 662 1095 1505 662 1095...</td>\n      <td>416 3606 416 416 416 3760 3606 416 1926 3004 4...</td>\n      <td>4014.0 33.0 4014.0 4014.0 4014.0 3738.0 33.0 4...</td>\n      <td>521 521 521 521 521 521 521 521 521 521 521 52...</td>\n      <td>0 0 0 0 0 0 0 0 0 0 0 0 0 2 0 0 0 0 0 0 2 0 2 ...</td>\n      <td>451</td>\n      <td>109</td>\n      <td>45</td>\n      <td>106</td>\n      <td>256</td>\n      <td>47</td>\n      <td>3</td>\n      <td>3</td>\n      <td>0</td>\n      <td>0.634270</td>\n      <td>3</td>\n      <td>331</td>\n      <td>662</td>\n      <td>4094.0</td>\n      <td>0</td>\n      <td>70</td>\n      <td>98</td>\n      <td>70</td>\n      <td>410</td>\n      <td>451</td>\n      <td>451</td>\n      <td>451</td>\n      <td>451</td>\n      <td>107</td>\n    </tr>\n    <tr>\n      <th>4</th>\n      <td>230784</td>\n      <td>4818</td>\n      <td>0.0</td>\n      <td>NaN</td>\n      <td>0.0</td>\n      <td>0.0</td>\n      <td>191923 191923 191923 191923 964906 229470 2294...</td>\n      <td>1023 1023 1023 1023 662 664 664 1544 664 662 6...</td>\n      <td>3545 3545 3545 3545 4566 2537 2537 2420 2537 4...</td>\n      <td>5860.0 5860.0 5860.0 5860.0 6320.0 6064.0 6064...</td>\n      <td>601 601 601 601 614 614 614 614 614 614 618 61...</td>\n      <td>0 2 0 0 0 0 0 0 0 0 0 0 0 0 0 0 2 2 0 0 0 0 0 ...</td>\n      <td>54</td>\n      <td>20</td>\n      <td>17</td>\n      <td>19</td>\n      <td>31</td>\n      <td>16</td>\n      <td>2</td>\n      <td>2</td>\n      <td>0</td>\n      <td>0.671791</td>\n      <td>2</td>\n      <td>3556</td>\n      <td>407</td>\n      <td>1236.0</td>\n      <td>0</td>\n      <td>10</td>\n      <td>9</td>\n      <td>10</td>\n      <td>47</td>\n      <td>54</td>\n      <td>54</td>\n      <td>54</td>\n      <td>54</td>\n      <td>21</td>\n    </tr>\n  </tbody>\n</table>\n</div>"
     },
     "metadata": {},
     "execution_count": 52
    }
   ],
   "source": [
    "# 点击次数\n",
    "all_data_test = user_col_cnt(all_data_test,  ['seller_path'], '0', 'user_cnt_0')\n",
    "# 加购次数\n",
    "all_data_test = user_col_cnt(all_data_test,  ['seller_path'], '1', 'user_cnt_1')\n",
    "# 购买次数\n",
    "all_data_test = user_col_cnt(all_data_test,  ['seller_path'], '2', 'user_cnt_2')\n",
    "# 收藏次数\n",
    "all_data_test = user_col_cnt(all_data_test,  ['seller_path'], '3', 'user_cnt_3')\n",
    "# 不同店铺个数\n",
    "all_data_test = user_col_nunique(all_data_test,  ['seller_path'], '0', 'seller_nunique_0')\n",
    "\n",
    "all_data_test.head()"
   ]
  },
  {
   "cell_type": "markdown",
   "metadata": {},
   "source": [
    "### 7、组合特征"
   ]
  },
  {
   "cell_type": "code",
   "execution_count": 53,
   "metadata": {},
   "outputs": [],
   "source": [
    "# 点击次数\n",
    "all_data_test = user_col_cnt(all_data_test,  ['seller_path', 'item_path'], '0', 'user_cnt_0')\n",
    "\n",
    "# 不同店铺个数\n",
    "all_data_test = user_col_nunique(all_data_test,  ['seller_path', 'item_path'], '0', 'seller_nunique_0')"
   ]
  },
  {
   "cell_type": "code",
   "execution_count": 54,
   "metadata": {},
   "outputs": [
    {
     "output_type": "execute_result",
     "data": {
      "text/plain": "   user_id  merchant_id  label  prob  age_range  gender                                          item_path                                           cat_path                                        seller_path                                         brand_path                                    time_stamp_path                                   action_type_path  user_cnt  seller_nunique  cat_nunique  brand_nunique  item_nunique  time_stamp_nunique  action_type_nunique  time_stamp_max  time_stamp_min  time_stamp_std  time_stamp_range seller_most_1 cat_most_1 brand_most_1 action_type_1  seller_most_1_cnt  cat_most_1_cnt  brand_most_1_cnt  action_type_1_cnt  user_cnt_0  user_cnt_1  user_cnt_2  user_cnt_3  seller_nunique_0\n0    34176         3906    0.0   NaN        6.0     0.0  581818 879005 581818 581818 1011673 52343 2773...  1505 662 1505 1505 1505 662 1095 1505 662 1095...  416 3606 416 416 416 3760 3606 416 1926 3004 4...  4014.0 33.0 4014.0 4014.0 4014.0 3738.0 33.0 4...  521 521 521 521 521 521 521 521 521 521 521 52...  0 0 0 0 0 0 0 0 0 0 0 0 0 2 0 0 0 0 0 0 2 0 2 ...       451             109           45            106           256                  47                    3               3               0        0.634270                 3           331        662       4094.0             0                 70              98                70                410         451         451         451         451               251\n1    34176          121    0.0   NaN        6.0     0.0  581818 879005 581818 581818 1011673 52343 2773...  1505 662 1505 1505 1505 662 1095 1505 662 1095...  416 3606 416 416 416 3760 3606 416 1926 3004 4...  4014.0 33.0 4014.0 4014.0 4014.0 3738.0 33.0 4...  521 521 521 521 521 521 521 521 521 521 521 52...  0 0 0 0 0 0 0 0 0 0 0 0 0 2 0 0 0 0 0 0 2 0 2 ...       451             109           45            106           256                  47                    3               3               0        0.634270                 3           331        662       4094.0             0                 70              98                70                410         451         451         451         451               251\n2    34176         4356    1.0   NaN        6.0     0.0  581818 879005 581818 581818 1011673 52343 2773...  1505 662 1505 1505 1505 662 1095 1505 662 1095...  416 3606 416 416 416 3760 3606 416 1926 3004 4...  4014.0 33.0 4014.0 4014.0 4014.0 3738.0 33.0 4...  521 521 521 521 521 521 521 521 521 521 521 52...  0 0 0 0 0 0 0 0 0 0 0 0 0 2 0 0 0 0 0 0 2 0 2 ...       451             109           45            106           256                  47                    3               3               0        0.634270                 3           331        662       4094.0             0                 70              98                70                410         451         451         451         451               251\n3    34176         2217    0.0   NaN        6.0     0.0  581818 879005 581818 581818 1011673 52343 2773...  1505 662 1505 1505 1505 662 1095 1505 662 1095...  416 3606 416 416 416 3760 3606 416 1926 3004 4...  4014.0 33.0 4014.0 4014.0 4014.0 3738.0 33.0 4...  521 521 521 521 521 521 521 521 521 521 521 52...  0 0 0 0 0 0 0 0 0 0 0 0 0 2 0 0 0 0 0 0 2 0 2 ...       451             109           45            106           256                  47                    3               3               0        0.634270                 3           331        662       4094.0             0                 70              98                70                410         451         451         451         451               251\n4   230784         4818    0.0   NaN        0.0     0.0  191923 191923 191923 191923 964906 229470 2294...  1023 1023 1023 1023 662 664 664 1544 664 662 6...  3545 3545 3545 3545 4566 2537 2537 2420 2537 4...  5860.0 5860.0 5860.0 5860.0 6320.0 6064.0 6064...  601 601 601 601 614 614 614 614 614 614 618 61...  0 2 0 0 0 0 0 0 0 0 0 0 0 0 0 0 2 2 0 0 0 0 0 ...        54              20           17             19            31                  16                    2               2               0        0.671791                 2          3556        407       1236.0             0                 10               9                10                 47          54          54          54          54                31",
      "text/html": "<div>\n<style scoped>\n    .dataframe tbody tr th:only-of-type {\n        vertical-align: middle;\n    }\n\n    .dataframe tbody tr th {\n        vertical-align: top;\n    }\n\n    .dataframe thead th {\n        text-align: right;\n    }\n</style>\n<table border=\"1\" class=\"dataframe\">\n  <thead>\n    <tr style=\"text-align: right;\">\n      <th></th>\n      <th>user_id</th>\n      <th>merchant_id</th>\n      <th>label</th>\n      <th>prob</th>\n      <th>age_range</th>\n      <th>gender</th>\n      <th>item_path</th>\n      <th>cat_path</th>\n      <th>seller_path</th>\n      <th>brand_path</th>\n      <th>time_stamp_path</th>\n      <th>action_type_path</th>\n      <th>user_cnt</th>\n      <th>seller_nunique</th>\n      <th>cat_nunique</th>\n      <th>brand_nunique</th>\n      <th>item_nunique</th>\n      <th>time_stamp_nunique</th>\n      <th>action_type_nunique</th>\n      <th>time_stamp_max</th>\n      <th>time_stamp_min</th>\n      <th>time_stamp_std</th>\n      <th>time_stamp_range</th>\n      <th>seller_most_1</th>\n      <th>cat_most_1</th>\n      <th>brand_most_1</th>\n      <th>action_type_1</th>\n      <th>seller_most_1_cnt</th>\n      <th>cat_most_1_cnt</th>\n      <th>brand_most_1_cnt</th>\n      <th>action_type_1_cnt</th>\n      <th>user_cnt_0</th>\n      <th>user_cnt_1</th>\n      <th>user_cnt_2</th>\n      <th>user_cnt_3</th>\n      <th>seller_nunique_0</th>\n    </tr>\n  </thead>\n  <tbody>\n    <tr>\n      <th>0</th>\n      <td>34176</td>\n      <td>3906</td>\n      <td>0.0</td>\n      <td>NaN</td>\n      <td>6.0</td>\n      <td>0.0</td>\n      <td>581818 879005 581818 581818 1011673 52343 2773...</td>\n      <td>1505 662 1505 1505 1505 662 1095 1505 662 1095...</td>\n      <td>416 3606 416 416 416 3760 3606 416 1926 3004 4...</td>\n      <td>4014.0 33.0 4014.0 4014.0 4014.0 3738.0 33.0 4...</td>\n      <td>521 521 521 521 521 521 521 521 521 521 521 52...</td>\n      <td>0 0 0 0 0 0 0 0 0 0 0 0 0 2 0 0 0 0 0 0 2 0 2 ...</td>\n      <td>451</td>\n      <td>109</td>\n      <td>45</td>\n      <td>106</td>\n      <td>256</td>\n      <td>47</td>\n      <td>3</td>\n      <td>3</td>\n      <td>0</td>\n      <td>0.634270</td>\n      <td>3</td>\n      <td>331</td>\n      <td>662</td>\n      <td>4094.0</td>\n      <td>0</td>\n      <td>70</td>\n      <td>98</td>\n      <td>70</td>\n      <td>410</td>\n      <td>451</td>\n      <td>451</td>\n      <td>451</td>\n      <td>451</td>\n      <td>251</td>\n    </tr>\n    <tr>\n      <th>1</th>\n      <td>34176</td>\n      <td>121</td>\n      <td>0.0</td>\n      <td>NaN</td>\n      <td>6.0</td>\n      <td>0.0</td>\n      <td>581818 879005 581818 581818 1011673 52343 2773...</td>\n      <td>1505 662 1505 1505 1505 662 1095 1505 662 1095...</td>\n      <td>416 3606 416 416 416 3760 3606 416 1926 3004 4...</td>\n      <td>4014.0 33.0 4014.0 4014.0 4014.0 3738.0 33.0 4...</td>\n      <td>521 521 521 521 521 521 521 521 521 521 521 52...</td>\n      <td>0 0 0 0 0 0 0 0 0 0 0 0 0 2 0 0 0 0 0 0 2 0 2 ...</td>\n      <td>451</td>\n      <td>109</td>\n      <td>45</td>\n      <td>106</td>\n      <td>256</td>\n      <td>47</td>\n      <td>3</td>\n      <td>3</td>\n      <td>0</td>\n      <td>0.634270</td>\n      <td>3</td>\n      <td>331</td>\n      <td>662</td>\n      <td>4094.0</td>\n      <td>0</td>\n      <td>70</td>\n      <td>98</td>\n      <td>70</td>\n      <td>410</td>\n      <td>451</td>\n      <td>451</td>\n      <td>451</td>\n      <td>451</td>\n      <td>251</td>\n    </tr>\n    <tr>\n      <th>2</th>\n      <td>34176</td>\n      <td>4356</td>\n      <td>1.0</td>\n      <td>NaN</td>\n      <td>6.0</td>\n      <td>0.0</td>\n      <td>581818 879005 581818 581818 1011673 52343 2773...</td>\n      <td>1505 662 1505 1505 1505 662 1095 1505 662 1095...</td>\n      <td>416 3606 416 416 416 3760 3606 416 1926 3004 4...</td>\n      <td>4014.0 33.0 4014.0 4014.0 4014.0 3738.0 33.0 4...</td>\n      <td>521 521 521 521 521 521 521 521 521 521 521 52...</td>\n      <td>0 0 0 0 0 0 0 0 0 0 0 0 0 2 0 0 0 0 0 0 2 0 2 ...</td>\n      <td>451</td>\n      <td>109</td>\n      <td>45</td>\n      <td>106</td>\n      <td>256</td>\n      <td>47</td>\n      <td>3</td>\n      <td>3</td>\n      <td>0</td>\n      <td>0.634270</td>\n      <td>3</td>\n      <td>331</td>\n      <td>662</td>\n      <td>4094.0</td>\n      <td>0</td>\n      <td>70</td>\n      <td>98</td>\n      <td>70</td>\n      <td>410</td>\n      <td>451</td>\n      <td>451</td>\n      <td>451</td>\n      <td>451</td>\n      <td>251</td>\n    </tr>\n    <tr>\n      <th>3</th>\n      <td>34176</td>\n      <td>2217</td>\n      <td>0.0</td>\n      <td>NaN</td>\n      <td>6.0</td>\n      <td>0.0</td>\n      <td>581818 879005 581818 581818 1011673 52343 2773...</td>\n      <td>1505 662 1505 1505 1505 662 1095 1505 662 1095...</td>\n      <td>416 3606 416 416 416 3760 3606 416 1926 3004 4...</td>\n      <td>4014.0 33.0 4014.0 4014.0 4014.0 3738.0 33.0 4...</td>\n      <td>521 521 521 521 521 521 521 521 521 521 521 52...</td>\n      <td>0 0 0 0 0 0 0 0 0 0 0 0 0 2 0 0 0 0 0 0 2 0 2 ...</td>\n      <td>451</td>\n      <td>109</td>\n      <td>45</td>\n      <td>106</td>\n      <td>256</td>\n      <td>47</td>\n      <td>3</td>\n      <td>3</td>\n      <td>0</td>\n      <td>0.634270</td>\n      <td>3</td>\n      <td>331</td>\n      <td>662</td>\n      <td>4094.0</td>\n      <td>0</td>\n      <td>70</td>\n      <td>98</td>\n      <td>70</td>\n      <td>410</td>\n      <td>451</td>\n      <td>451</td>\n      <td>451</td>\n      <td>451</td>\n      <td>251</td>\n    </tr>\n    <tr>\n      <th>4</th>\n      <td>230784</td>\n      <td>4818</td>\n      <td>0.0</td>\n      <td>NaN</td>\n      <td>0.0</td>\n      <td>0.0</td>\n      <td>191923 191923 191923 191923 964906 229470 2294...</td>\n      <td>1023 1023 1023 1023 662 664 664 1544 664 662 6...</td>\n      <td>3545 3545 3545 3545 4566 2537 2537 2420 2537 4...</td>\n      <td>5860.0 5860.0 5860.0 5860.0 6320.0 6064.0 6064...</td>\n      <td>601 601 601 601 614 614 614 614 614 614 618 61...</td>\n      <td>0 2 0 0 0 0 0 0 0 0 0 0 0 0 0 0 2 2 0 0 0 0 0 ...</td>\n      <td>54</td>\n      <td>20</td>\n      <td>17</td>\n      <td>19</td>\n      <td>31</td>\n      <td>16</td>\n      <td>2</td>\n      <td>2</td>\n      <td>0</td>\n      <td>0.671791</td>\n      <td>2</td>\n      <td>3556</td>\n      <td>407</td>\n      <td>1236.0</td>\n      <td>0</td>\n      <td>10</td>\n      <td>9</td>\n      <td>10</td>\n      <td>47</td>\n      <td>54</td>\n      <td>54</td>\n      <td>54</td>\n      <td>54</td>\n      <td>31</td>\n    </tr>\n  </tbody>\n</table>\n</div>"
     },
     "metadata": {},
     "execution_count": 54
    }
   ],
   "source": [
    "all_data_test.head()"
   ]
  },
  {
   "cell_type": "markdown",
   "metadata": {},
   "source": [
    "### 8、查看提取的特征\n"
   ]
  },
  {
   "cell_type": "code",
   "execution_count": 55,
   "metadata": {},
   "outputs": [
    {
     "output_type": "execute_result",
     "data": {
      "text/plain": "Index([&#39;user_id&#39;, &#39;merchant_id&#39;, &#39;label&#39;, &#39;prob&#39;, &#39;age_range&#39;, &#39;gender&#39;,\n       &#39;item_path&#39;, &#39;cat_path&#39;, &#39;seller_path&#39;, &#39;brand_path&#39;, &#39;time_stamp_path&#39;,\n       &#39;action_type_path&#39;, &#39;user_cnt&#39;, &#39;seller_nunique&#39;, &#39;cat_nunique&#39;,\n       &#39;brand_nunique&#39;, &#39;item_nunique&#39;, &#39;time_stamp_nunique&#39;,\n       &#39;action_type_nunique&#39;, &#39;time_stamp_max&#39;, &#39;time_stamp_min&#39;,\n       &#39;time_stamp_std&#39;, &#39;time_stamp_range&#39;, &#39;seller_most_1&#39;, &#39;cat_most_1&#39;,\n       &#39;brand_most_1&#39;, &#39;action_type_1&#39;, &#39;seller_most_1_cnt&#39;, &#39;cat_most_1_cnt&#39;,\n       &#39;brand_most_1_cnt&#39;, &#39;action_type_1_cnt&#39;, &#39;user_cnt_0&#39;, &#39;user_cnt_1&#39;,\n       &#39;user_cnt_2&#39;, &#39;user_cnt_3&#39;, &#39;seller_nunique_0&#39;],\n      dtype=&#39;object&#39;)"
     },
     "metadata": {},
     "execution_count": 55
    }
   ],
   "source": [
    "all_data_test.columns"
   ]
  },
  {
   "cell_type": "code",
   "execution_count": 56,
   "metadata": {},
   "outputs": [
    {
     "output_type": "execute_result",
     "data": {
      "text/plain": "[&#39;user_id&#39;,\n &#39;merchant_id&#39;,\n &#39;label&#39;,\n &#39;prob&#39;,\n &#39;age_range&#39;,\n &#39;gender&#39;,\n &#39;item_path&#39;,\n &#39;cat_path&#39;,\n &#39;seller_path&#39;,\n &#39;brand_path&#39;,\n &#39;time_stamp_path&#39;,\n &#39;action_type_path&#39;,\n &#39;user_cnt&#39;,\n &#39;seller_nunique&#39;,\n &#39;cat_nunique&#39;,\n &#39;brand_nunique&#39;,\n &#39;item_nunique&#39;,\n &#39;time_stamp_nunique&#39;,\n &#39;action_type_nunique&#39;,\n &#39;time_stamp_max&#39;,\n &#39;time_stamp_min&#39;,\n &#39;time_stamp_std&#39;,\n &#39;time_stamp_range&#39;,\n &#39;seller_most_1&#39;,\n &#39;cat_most_1&#39;,\n &#39;brand_most_1&#39;,\n &#39;action_type_1&#39;,\n &#39;seller_most_1_cnt&#39;,\n &#39;cat_most_1_cnt&#39;,\n &#39;brand_most_1_cnt&#39;,\n &#39;action_type_1_cnt&#39;,\n &#39;user_cnt_0&#39;,\n &#39;user_cnt_1&#39;,\n &#39;user_cnt_2&#39;,\n &#39;user_cnt_3&#39;,\n &#39;seller_nunique_0&#39;]"
     },
     "metadata": {},
     "execution_count": 56
    }
   ],
   "source": [
    "list(all_data_test.columns)"
   ]
  },
  {
   "cell_type": "markdown",
   "metadata": {},
   "source": [
    "### 9、利用countvector,TF-IDF提取特征"
   ]
  },
  {
   "cell_type": "code",
   "execution_count": 57,
   "metadata": {},
   "outputs": [],
   "source": [
    "#提取特征\n",
    "from sklearn.feature_extraction.text import CountVectorizer, TfidfVectorizer, ENGLISH_STOP_WORDS\n",
    "from scipy import sparse\n",
    "# cntVec = CountVectorizer(stop_words=ENGLISH_STOP_WORDS, ngram_range=(1, 1), max_features=100)\n",
    "tfidfVec = TfidfVectorizer(stop_words=ENGLISH_STOP_WORDS, ngram_range=(1, 1), max_features=100)\n",
    "\n",
    "\n",
    "# columns_list = ['seller_path', 'cat_path', 'brand_path', 'action_type_path', 'item_path', 'time_stamp_path']\n",
    "columns_list = ['seller_path']\n",
    "for i, col in enumerate(columns_list):\n",
    "    all_data_test[col] = all_data_test[col].astype(str)\n",
    "    tfidfVec.fit(all_data_test[col])\n",
    "    data_ = tfidfVec.transform(all_data_test[col])\n",
    "    if i == 0:\n",
    "        data_cat = data_\n",
    "    else:\n",
    "        #将矩阵按照列进行拼接\n",
    "        data_cat = sparse.hstack((data_cat, data_))"
   ]
  },
  {
   "cell_type": "code",
   "execution_count": 58,
   "metadata": {},
   "outputs": [
    {
     "output_type": "execute_result",
     "data": {
      "text/plain": "[&#39;seller_path&#39;]"
     },
     "metadata": {},
     "execution_count": 58
    }
   ],
   "source": [
    "columns_list"
   ]
  },
  {
   "cell_type": "code",
   "execution_count": 59,
   "metadata": {},
   "outputs": [],
   "source": [
    "#特征重命名，特征合并\n",
    "df_tfidf = pd.DataFrame(data_cat.toarray())\n",
    "df_tfidf.columns = ['tfidf_' + str(i) for i in df_tfidf.columns]\n",
    "all_data_test = pd.concat([all_data_test, df_tfidf],axis=1)"
   ]
  },
  {
   "cell_type": "code",
   "execution_count": 60,
   "metadata": {},
   "outputs": [
    {
     "output_type": "execute_result",
     "data": {
      "text/plain": "   user_id  merchant_id  label  prob  age_range  gender                                          item_path                                           cat_path                                        seller_path                                         brand_path                                    time_stamp_path                                   action_type_path  user_cnt  seller_nunique  cat_nunique  brand_nunique  item_nunique  time_stamp_nunique  action_type_nunique  time_stamp_max  time_stamp_min  time_stamp_std  time_stamp_range seller_most_1 cat_most_1 brand_most_1 action_type_1  seller_most_1_cnt  cat_most_1_cnt  brand_most_1_cnt  action_type_1_cnt  user_cnt_0  user_cnt_1  user_cnt_2  user_cnt_3  seller_nunique_0  tfidf_0  tfidf_1   tfidf_2   tfidf_3  tfidf_4   tfidf_5   tfidf_6  tfidf_7  tfidf_8   tfidf_9  tfidf_10  tfidf_11  tfidf_12  tfidf_13  ...  tfidf_50  tfidf_51  tfidf_52  tfidf_53  tfidf_54  tfidf_55  tfidf_56  tfidf_57  tfidf_58  tfidf_59  tfidf_60  tfidf_61  tfidf_62  tfidf_63  tfidf_64  tfidf_65  tfidf_66  tfidf_67  tfidf_68  tfidf_69  tfidf_70  tfidf_71  tfidf_72  tfidf_73  tfidf_74  tfidf_75  tfidf_76  tfidf_77  tfidf_78  tfidf_79  tfidf_80  tfidf_81  tfidf_82  tfidf_83  tfidf_84  tfidf_85  tfidf_86  tfidf_87  tfidf_88  tfidf_89  tfidf_90  tfidf_91  tfidf_92  tfidf_93  tfidf_94  tfidf_95  tfidf_96  tfidf_97  tfidf_98  tfidf_99\n0    34176         3906    0.0   NaN        6.0     0.0  581818 879005 581818 581818 1011673 52343 2773...  1505 662 1505 1505 1505 662 1095 1505 662 1095...  416 3606 416 416 416 3760 3606 416 1926 3004 4...  4014.0 33.0 4014.0 4014.0 4014.0 3738.0 33.0 4...  521 521 521 521 521 521 521 521 521 521 521 52...  0 0 0 0 0 0 0 0 0 0 0 0 0 2 0 0 0 0 0 0 2 0 2 ...       451             109           45            106           256                  47                    3               3               0        0.634270                 3           331        662       4094.0             0                 70              98                70                410         451         451         451         451               251      0.0      0.0  0.009531  0.186124      0.0  0.173224  0.036434      0.0      0.0  0.012205       0.0       0.0       0.0       0.0  ...  0.865332       0.0       0.0       0.0  0.010166       0.0       0.0       0.0  0.011752       0.0       0.0       0.0  0.199454  0.057178       0.0       0.0       0.0       0.0       0.0       0.0       0.0       0.0  0.234063  0.026766  0.011404  0.000000  0.031593       0.0       0.0  0.059432       0.0       0.0  0.010496       0.0       0.0       0.0       0.0       0.0       0.0       0.0       0.0       0.0  0.012666  0.011178       0.0       0.0       0.0       0.0  0.012925       0.0\n1    34176          121    0.0   NaN        6.0     0.0  581818 879005 581818 581818 1011673 52343 2773...  1505 662 1505 1505 1505 662 1095 1505 662 1095...  416 3606 416 416 416 3760 3606 416 1926 3004 4...  4014.0 33.0 4014.0 4014.0 4014.0 3738.0 33.0 4...  521 521 521 521 521 521 521 521 521 521 521 52...  0 0 0 0 0 0 0 0 0 0 0 0 0 2 0 0 0 0 0 0 2 0 2 ...       451             109           45            106           256                  47                    3               3               0        0.634270                 3           331        662       4094.0             0                 70              98                70                410         451         451         451         451               251      0.0      0.0  0.009531  0.186124      0.0  0.173224  0.036434      0.0      0.0  0.012205       0.0       0.0       0.0       0.0  ...  0.865332       0.0       0.0       0.0  0.010166       0.0       0.0       0.0  0.011752       0.0       0.0       0.0  0.199454  0.057178       0.0       0.0       0.0       0.0       0.0       0.0       0.0       0.0  0.234063  0.026766  0.011404  0.000000  0.031593       0.0       0.0  0.059432       0.0       0.0  0.010496       0.0       0.0       0.0       0.0       0.0       0.0       0.0       0.0       0.0  0.012666  0.011178       0.0       0.0       0.0       0.0  0.012925       0.0\n2    34176         4356    1.0   NaN        6.0     0.0  581818 879005 581818 581818 1011673 52343 2773...  1505 662 1505 1505 1505 662 1095 1505 662 1095...  416 3606 416 416 416 3760 3606 416 1926 3004 4...  4014.0 33.0 4014.0 4014.0 4014.0 3738.0 33.0 4...  521 521 521 521 521 521 521 521 521 521 521 52...  0 0 0 0 0 0 0 0 0 0 0 0 0 2 0 0 0 0 0 0 2 0 2 ...       451             109           45            106           256                  47                    3               3               0        0.634270                 3           331        662       4094.0             0                 70              98                70                410         451         451         451         451               251      0.0      0.0  0.009531  0.186124      0.0  0.173224  0.036434      0.0      0.0  0.012205       0.0       0.0       0.0       0.0  ...  0.865332       0.0       0.0       0.0  0.010166       0.0       0.0       0.0  0.011752       0.0       0.0       0.0  0.199454  0.057178       0.0       0.0       0.0       0.0       0.0       0.0       0.0       0.0  0.234063  0.026766  0.011404  0.000000  0.031593       0.0       0.0  0.059432       0.0       0.0  0.010496       0.0       0.0       0.0       0.0       0.0       0.0       0.0       0.0       0.0  0.012666  0.011178       0.0       0.0       0.0       0.0  0.012925       0.0\n3    34176         2217    0.0   NaN        6.0     0.0  581818 879005 581818 581818 1011673 52343 2773...  1505 662 1505 1505 1505 662 1095 1505 662 1095...  416 3606 416 416 416 3760 3606 416 1926 3004 4...  4014.0 33.0 4014.0 4014.0 4014.0 3738.0 33.0 4...  521 521 521 521 521 521 521 521 521 521 521 52...  0 0 0 0 0 0 0 0 0 0 0 0 0 2 0 0 0 0 0 0 2 0 2 ...       451             109           45            106           256                  47                    3               3               0        0.634270                 3           331        662       4094.0             0                 70              98                70                410         451         451         451         451               251      0.0      0.0  0.009531  0.186124      0.0  0.173224  0.036434      0.0      0.0  0.012205       0.0       0.0       0.0       0.0  ...  0.865332       0.0       0.0       0.0  0.010166       0.0       0.0       0.0  0.011752       0.0       0.0       0.0  0.199454  0.057178       0.0       0.0       0.0       0.0       0.0       0.0       0.0       0.0  0.234063  0.026766  0.011404  0.000000  0.031593       0.0       0.0  0.059432       0.0       0.0  0.010496       0.0       0.0       0.0       0.0       0.0       0.0       0.0       0.0       0.0  0.012666  0.011178       0.0       0.0       0.0       0.0  0.012925       0.0\n4   230784         4818    0.0   NaN        0.0     0.0  191923 191923 191923 191923 964906 229470 2294...  1023 1023 1023 1023 662 664 664 1544 664 662 6...  3545 3545 3545 3545 4566 2537 2537 2420 2537 4...  5860.0 5860.0 5860.0 5860.0 6320.0 6064.0 6064...  601 601 601 601 614 614 614 614 614 614 618 61...  0 2 0 0 0 0 0 0 0 0 0 0 0 0 0 0 2 2 0 0 0 0 0 ...        54              20           17             19            31                  16                    2               2               0        0.671791                 2          3556        407       1236.0             0                 10               9                10                 47          54          54          54          54                31      0.0      0.0  0.000000  0.000000      0.0  0.000000  0.000000      0.0      0.0  0.000000       0.0       0.0       0.0       0.0  ...  0.000000       0.0       0.0       0.0  0.000000       0.0       0.0       0.0  0.000000       0.0       0.0       0.0  0.000000  0.000000       0.0       0.0       0.0       0.0       0.0       0.0       0.0       0.0  0.000000  0.000000  0.000000  0.860915  0.000000       0.0       0.0  0.000000       0.0       0.0  0.000000       0.0       0.0       0.0       0.0       0.0       0.0       0.0       0.0       0.0  0.000000  0.000000       0.0       0.0       0.0       0.0  0.000000       0.0\n\n[5 rows x 136 columns]",
      "text/html": "<div>\n<style scoped>\n    .dataframe tbody tr th:only-of-type {\n        vertical-align: middle;\n    }\n\n    .dataframe tbody tr th {\n        vertical-align: top;\n    }\n\n    .dataframe thead th {\n        text-align: right;\n    }\n</style>\n<table border=\"1\" class=\"dataframe\">\n  <thead>\n    <tr style=\"text-align: right;\">\n      <th></th>\n      <th>user_id</th>\n      <th>merchant_id</th>\n      <th>label</th>\n      <th>prob</th>\n      <th>age_range</th>\n      <th>gender</th>\n      <th>item_path</th>\n      <th>cat_path</th>\n      <th>seller_path</th>\n      <th>brand_path</th>\n      <th>time_stamp_path</th>\n      <th>action_type_path</th>\n      <th>user_cnt</th>\n      <th>seller_nunique</th>\n      <th>cat_nunique</th>\n      <th>brand_nunique</th>\n      <th>item_nunique</th>\n      <th>time_stamp_nunique</th>\n      <th>action_type_nunique</th>\n      <th>time_stamp_max</th>\n      <th>time_stamp_min</th>\n      <th>time_stamp_std</th>\n      <th>time_stamp_range</th>\n      <th>seller_most_1</th>\n      <th>cat_most_1</th>\n      <th>brand_most_1</th>\n      <th>action_type_1</th>\n      <th>seller_most_1_cnt</th>\n      <th>cat_most_1_cnt</th>\n      <th>brand_most_1_cnt</th>\n      <th>action_type_1_cnt</th>\n      <th>user_cnt_0</th>\n      <th>user_cnt_1</th>\n      <th>user_cnt_2</th>\n      <th>user_cnt_3</th>\n      <th>seller_nunique_0</th>\n      <th>tfidf_0</th>\n      <th>tfidf_1</th>\n      <th>tfidf_2</th>\n      <th>tfidf_3</th>\n      <th>tfidf_4</th>\n      <th>tfidf_5</th>\n      <th>tfidf_6</th>\n      <th>tfidf_7</th>\n      <th>tfidf_8</th>\n      <th>tfidf_9</th>\n      <th>tfidf_10</th>\n      <th>tfidf_11</th>\n      <th>tfidf_12</th>\n      <th>tfidf_13</th>\n      <th>...</th>\n      <th>tfidf_50</th>\n      <th>tfidf_51</th>\n      <th>tfidf_52</th>\n      <th>tfidf_53</th>\n      <th>tfidf_54</th>\n      <th>tfidf_55</th>\n      <th>tfidf_56</th>\n      <th>tfidf_57</th>\n      <th>tfidf_58</th>\n      <th>tfidf_59</th>\n      <th>tfidf_60</th>\n      <th>tfidf_61</th>\n      <th>tfidf_62</th>\n      <th>tfidf_63</th>\n      <th>tfidf_64</th>\n      <th>tfidf_65</th>\n      <th>tfidf_66</th>\n      <th>tfidf_67</th>\n      <th>tfidf_68</th>\n      <th>tfidf_69</th>\n      <th>tfidf_70</th>\n      <th>tfidf_71</th>\n      <th>tfidf_72</th>\n      <th>tfidf_73</th>\n      <th>tfidf_74</th>\n      <th>tfidf_75</th>\n      <th>tfidf_76</th>\n      <th>tfidf_77</th>\n      <th>tfidf_78</th>\n      <th>tfidf_79</th>\n      <th>tfidf_80</th>\n      <th>tfidf_81</th>\n      <th>tfidf_82</th>\n      <th>tfidf_83</th>\n      <th>tfidf_84</th>\n      <th>tfidf_85</th>\n      <th>tfidf_86</th>\n      <th>tfidf_87</th>\n      <th>tfidf_88</th>\n      <th>tfidf_89</th>\n      <th>tfidf_90</th>\n      <th>tfidf_91</th>\n      <th>tfidf_92</th>\n      <th>tfidf_93</th>\n      <th>tfidf_94</th>\n      <th>tfidf_95</th>\n      <th>tfidf_96</th>\n      <th>tfidf_97</th>\n      <th>tfidf_98</th>\n      <th>tfidf_99</th>\n    </tr>\n  </thead>\n  <tbody>\n    <tr>\n      <th>0</th>\n      <td>34176</td>\n      <td>3906</td>\n      <td>0.0</td>\n      <td>NaN</td>\n      <td>6.0</td>\n      <td>0.0</td>\n      <td>581818 879005 581818 581818 1011673 52343 2773...</td>\n      <td>1505 662 1505 1505 1505 662 1095 1505 662 1095...</td>\n      <td>416 3606 416 416 416 3760 3606 416 1926 3004 4...</td>\n      <td>4014.0 33.0 4014.0 4014.0 4014.0 3738.0 33.0 4...</td>\n      <td>521 521 521 521 521 521 521 521 521 521 521 52...</td>\n      <td>0 0 0 0 0 0 0 0 0 0 0 0 0 2 0 0 0 0 0 0 2 0 2 ...</td>\n      <td>451</td>\n      <td>109</td>\n      <td>45</td>\n      <td>106</td>\n      <td>256</td>\n      <td>47</td>\n      <td>3</td>\n      <td>3</td>\n      <td>0</td>\n      <td>0.634270</td>\n      <td>3</td>\n      <td>331</td>\n      <td>662</td>\n      <td>4094.0</td>\n      <td>0</td>\n      <td>70</td>\n      <td>98</td>\n      <td>70</td>\n      <td>410</td>\n      <td>451</td>\n      <td>451</td>\n      <td>451</td>\n      <td>451</td>\n      <td>251</td>\n      <td>0.0</td>\n      <td>0.0</td>\n      <td>0.009531</td>\n      <td>0.186124</td>\n      <td>0.0</td>\n      <td>0.173224</td>\n      <td>0.036434</td>\n      <td>0.0</td>\n      <td>0.0</td>\n      <td>0.012205</td>\n      <td>0.0</td>\n      <td>0.0</td>\n      <td>0.0</td>\n      <td>0.0</td>\n      <td>...</td>\n      <td>0.865332</td>\n      <td>0.0</td>\n      <td>0.0</td>\n      <td>0.0</td>\n      <td>0.010166</td>\n      <td>0.0</td>\n      <td>0.0</td>\n      <td>0.0</td>\n      <td>0.011752</td>\n      <td>0.0</td>\n      <td>0.0</td>\n      <td>0.0</td>\n      <td>0.199454</td>\n      <td>0.057178</td>\n      <td>0.0</td>\n      <td>0.0</td>\n      <td>0.0</td>\n      <td>0.0</td>\n      <td>0.0</td>\n      <td>0.0</td>\n      <td>0.0</td>\n      <td>0.0</td>\n      <td>0.234063</td>\n      <td>0.026766</td>\n      <td>0.011404</td>\n      <td>0.000000</td>\n      <td>0.031593</td>\n      <td>0.0</td>\n      <td>0.0</td>\n      <td>0.059432</td>\n      <td>0.0</td>\n      <td>0.0</td>\n      <td>0.010496</td>\n      <td>0.0</td>\n      <td>0.0</td>\n      <td>0.0</td>\n      <td>0.0</td>\n      <td>0.0</td>\n      <td>0.0</td>\n      <td>0.0</td>\n      <td>0.0</td>\n      <td>0.0</td>\n      <td>0.012666</td>\n      <td>0.011178</td>\n      <td>0.0</td>\n      <td>0.0</td>\n      <td>0.0</td>\n      <td>0.0</td>\n      <td>0.012925</td>\n      <td>0.0</td>\n    </tr>\n    <tr>\n      <th>1</th>\n      <td>34176</td>\n      <td>121</td>\n      <td>0.0</td>\n      <td>NaN</td>\n      <td>6.0</td>\n      <td>0.0</td>\n      <td>581818 879005 581818 581818 1011673 52343 2773...</td>\n      <td>1505 662 1505 1505 1505 662 1095 1505 662 1095...</td>\n      <td>416 3606 416 416 416 3760 3606 416 1926 3004 4...</td>\n      <td>4014.0 33.0 4014.0 4014.0 4014.0 3738.0 33.0 4...</td>\n      <td>521 521 521 521 521 521 521 521 521 521 521 52...</td>\n      <td>0 0 0 0 0 0 0 0 0 0 0 0 0 2 0 0 0 0 0 0 2 0 2 ...</td>\n      <td>451</td>\n      <td>109</td>\n      <td>45</td>\n      <td>106</td>\n      <td>256</td>\n      <td>47</td>\n      <td>3</td>\n      <td>3</td>\n      <td>0</td>\n      <td>0.634270</td>\n      <td>3</td>\n      <td>331</td>\n      <td>662</td>\n      <td>4094.0</td>\n      <td>0</td>\n      <td>70</td>\n      <td>98</td>\n      <td>70</td>\n      <td>410</td>\n      <td>451</td>\n      <td>451</td>\n      <td>451</td>\n      <td>451</td>\n      <td>251</td>\n      <td>0.0</td>\n      <td>0.0</td>\n      <td>0.009531</td>\n      <td>0.186124</td>\n      <td>0.0</td>\n      <td>0.173224</td>\n      <td>0.036434</td>\n      <td>0.0</td>\n      <td>0.0</td>\n      <td>0.012205</td>\n      <td>0.0</td>\n      <td>0.0</td>\n      <td>0.0</td>\n      <td>0.0</td>\n      <td>...</td>\n      <td>0.865332</td>\n      <td>0.0</td>\n      <td>0.0</td>\n      <td>0.0</td>\n      <td>0.010166</td>\n      <td>0.0</td>\n      <td>0.0</td>\n      <td>0.0</td>\n      <td>0.011752</td>\n      <td>0.0</td>\n      <td>0.0</td>\n      <td>0.0</td>\n      <td>0.199454</td>\n      <td>0.057178</td>\n      <td>0.0</td>\n      <td>0.0</td>\n      <td>0.0</td>\n      <td>0.0</td>\n      <td>0.0</td>\n      <td>0.0</td>\n      <td>0.0</td>\n      <td>0.0</td>\n      <td>0.234063</td>\n      <td>0.026766</td>\n      <td>0.011404</td>\n      <td>0.000000</td>\n      <td>0.031593</td>\n      <td>0.0</td>\n      <td>0.0</td>\n      <td>0.059432</td>\n      <td>0.0</td>\n      <td>0.0</td>\n      <td>0.010496</td>\n      <td>0.0</td>\n      <td>0.0</td>\n      <td>0.0</td>\n      <td>0.0</td>\n      <td>0.0</td>\n      <td>0.0</td>\n      <td>0.0</td>\n      <td>0.0</td>\n      <td>0.0</td>\n      <td>0.012666</td>\n      <td>0.011178</td>\n      <td>0.0</td>\n      <td>0.0</td>\n      <td>0.0</td>\n      <td>0.0</td>\n      <td>0.012925</td>\n      <td>0.0</td>\n    </tr>\n    <tr>\n      <th>2</th>\n      <td>34176</td>\n      <td>4356</td>\n      <td>1.0</td>\n      <td>NaN</td>\n      <td>6.0</td>\n      <td>0.0</td>\n      <td>581818 879005 581818 581818 1011673 52343 2773...</td>\n      <td>1505 662 1505 1505 1505 662 1095 1505 662 1095...</td>\n      <td>416 3606 416 416 416 3760 3606 416 1926 3004 4...</td>\n      <td>4014.0 33.0 4014.0 4014.0 4014.0 3738.0 33.0 4...</td>\n      <td>521 521 521 521 521 521 521 521 521 521 521 52...</td>\n      <td>0 0 0 0 0 0 0 0 0 0 0 0 0 2 0 0 0 0 0 0 2 0 2 ...</td>\n      <td>451</td>\n      <td>109</td>\n      <td>45</td>\n      <td>106</td>\n      <td>256</td>\n      <td>47</td>\n      <td>3</td>\n      <td>3</td>\n      <td>0</td>\n      <td>0.634270</td>\n      <td>3</td>\n      <td>331</td>\n      <td>662</td>\n      <td>4094.0</td>\n      <td>0</td>\n      <td>70</td>\n      <td>98</td>\n      <td>70</td>\n      <td>410</td>\n      <td>451</td>\n      <td>451</td>\n      <td>451</td>\n      <td>451</td>\n      <td>251</td>\n      <td>0.0</td>\n      <td>0.0</td>\n      <td>0.009531</td>\n      <td>0.186124</td>\n      <td>0.0</td>\n      <td>0.173224</td>\n      <td>0.036434</td>\n      <td>0.0</td>\n      <td>0.0</td>\n      <td>0.012205</td>\n      <td>0.0</td>\n      <td>0.0</td>\n      <td>0.0</td>\n      <td>0.0</td>\n      <td>...</td>\n      <td>0.865332</td>\n      <td>0.0</td>\n      <td>0.0</td>\n      <td>0.0</td>\n      <td>0.010166</td>\n      <td>0.0</td>\n      <td>0.0</td>\n      <td>0.0</td>\n      <td>0.011752</td>\n      <td>0.0</td>\n      <td>0.0</td>\n      <td>0.0</td>\n      <td>0.199454</td>\n      <td>0.057178</td>\n      <td>0.0</td>\n      <td>0.0</td>\n      <td>0.0</td>\n      <td>0.0</td>\n      <td>0.0</td>\n      <td>0.0</td>\n      <td>0.0</td>\n      <td>0.0</td>\n      <td>0.234063</td>\n      <td>0.026766</td>\n      <td>0.011404</td>\n      <td>0.000000</td>\n      <td>0.031593</td>\n      <td>0.0</td>\n      <td>0.0</td>\n      <td>0.059432</td>\n      <td>0.0</td>\n      <td>0.0</td>\n      <td>0.010496</td>\n      <td>0.0</td>\n      <td>0.0</td>\n      <td>0.0</td>\n      <td>0.0</td>\n      <td>0.0</td>\n      <td>0.0</td>\n      <td>0.0</td>\n      <td>0.0</td>\n      <td>0.0</td>\n      <td>0.012666</td>\n      <td>0.011178</td>\n      <td>0.0</td>\n      <td>0.0</td>\n      <td>0.0</td>\n      <td>0.0</td>\n      <td>0.012925</td>\n      <td>0.0</td>\n    </tr>\n    <tr>\n      <th>3</th>\n      <td>34176</td>\n      <td>2217</td>\n      <td>0.0</td>\n      <td>NaN</td>\n      <td>6.0</td>\n      <td>0.0</td>\n      <td>581818 879005 581818 581818 1011673 52343 2773...</td>\n      <td>1505 662 1505 1505 1505 662 1095 1505 662 1095...</td>\n      <td>416 3606 416 416 416 3760 3606 416 1926 3004 4...</td>\n      <td>4014.0 33.0 4014.0 4014.0 4014.0 3738.0 33.0 4...</td>\n      <td>521 521 521 521 521 521 521 521 521 521 521 52...</td>\n      <td>0 0 0 0 0 0 0 0 0 0 0 0 0 2 0 0 0 0 0 0 2 0 2 ...</td>\n      <td>451</td>\n      <td>109</td>\n      <td>45</td>\n      <td>106</td>\n      <td>256</td>\n      <td>47</td>\n      <td>3</td>\n      <td>3</td>\n      <td>0</td>\n      <td>0.634270</td>\n      <td>3</td>\n      <td>331</td>\n      <td>662</td>\n      <td>4094.0</td>\n      <td>0</td>\n      <td>70</td>\n      <td>98</td>\n      <td>70</td>\n      <td>410</td>\n      <td>451</td>\n      <td>451</td>\n      <td>451</td>\n      <td>451</td>\n      <td>251</td>\n      <td>0.0</td>\n      <td>0.0</td>\n      <td>0.009531</td>\n      <td>0.186124</td>\n      <td>0.0</td>\n      <td>0.173224</td>\n      <td>0.036434</td>\n      <td>0.0</td>\n      <td>0.0</td>\n      <td>0.012205</td>\n      <td>0.0</td>\n      <td>0.0</td>\n      <td>0.0</td>\n      <td>0.0</td>\n      <td>...</td>\n      <td>0.865332</td>\n      <td>0.0</td>\n      <td>0.0</td>\n      <td>0.0</td>\n      <td>0.010166</td>\n      <td>0.0</td>\n      <td>0.0</td>\n      <td>0.0</td>\n      <td>0.011752</td>\n      <td>0.0</td>\n      <td>0.0</td>\n      <td>0.0</td>\n      <td>0.199454</td>\n      <td>0.057178</td>\n      <td>0.0</td>\n      <td>0.0</td>\n      <td>0.0</td>\n      <td>0.0</td>\n      <td>0.0</td>\n      <td>0.0</td>\n      <td>0.0</td>\n      <td>0.0</td>\n      <td>0.234063</td>\n      <td>0.026766</td>\n      <td>0.011404</td>\n      <td>0.000000</td>\n      <td>0.031593</td>\n      <td>0.0</td>\n      <td>0.0</td>\n      <td>0.059432</td>\n      <td>0.0</td>\n      <td>0.0</td>\n      <td>0.010496</td>\n      <td>0.0</td>\n      <td>0.0</td>\n      <td>0.0</td>\n      <td>0.0</td>\n      <td>0.0</td>\n      <td>0.0</td>\n      <td>0.0</td>\n      <td>0.0</td>\n      <td>0.0</td>\n      <td>0.012666</td>\n      <td>0.011178</td>\n      <td>0.0</td>\n      <td>0.0</td>\n      <td>0.0</td>\n      <td>0.0</td>\n      <td>0.012925</td>\n      <td>0.0</td>\n    </tr>\n    <tr>\n      <th>4</th>\n      <td>230784</td>\n      <td>4818</td>\n      <td>0.0</td>\n      <td>NaN</td>\n      <td>0.0</td>\n      <td>0.0</td>\n      <td>191923 191923 191923 191923 964906 229470 2294...</td>\n      <td>1023 1023 1023 1023 662 664 664 1544 664 662 6...</td>\n      <td>3545 3545 3545 3545 4566 2537 2537 2420 2537 4...</td>\n      <td>5860.0 5860.0 5860.0 5860.0 6320.0 6064.0 6064...</td>\n      <td>601 601 601 601 614 614 614 614 614 614 618 61...</td>\n      <td>0 2 0 0 0 0 0 0 0 0 0 0 0 0 0 0 2 2 0 0 0 0 0 ...</td>\n      <td>54</td>\n      <td>20</td>\n      <td>17</td>\n      <td>19</td>\n      <td>31</td>\n      <td>16</td>\n      <td>2</td>\n      <td>2</td>\n      <td>0</td>\n      <td>0.671791</td>\n      <td>2</td>\n      <td>3556</td>\n      <td>407</td>\n      <td>1236.0</td>\n      <td>0</td>\n      <td>10</td>\n      <td>9</td>\n      <td>10</td>\n      <td>47</td>\n      <td>54</td>\n      <td>54</td>\n      <td>54</td>\n      <td>54</td>\n      <td>31</td>\n      <td>0.0</td>\n      <td>0.0</td>\n      <td>0.000000</td>\n      <td>0.000000</td>\n      <td>0.0</td>\n      <td>0.000000</td>\n      <td>0.000000</td>\n      <td>0.0</td>\n      <td>0.0</td>\n      <td>0.000000</td>\n      <td>0.0</td>\n      <td>0.0</td>\n      <td>0.0</td>\n      <td>0.0</td>\n      <td>...</td>\n      <td>0.000000</td>\n      <td>0.0</td>\n      <td>0.0</td>\n      <td>0.0</td>\n      <td>0.000000</td>\n      <td>0.0</td>\n      <td>0.0</td>\n      <td>0.0</td>\n      <td>0.000000</td>\n      <td>0.0</td>\n      <td>0.0</td>\n      <td>0.0</td>\n      <td>0.000000</td>\n      <td>0.000000</td>\n      <td>0.0</td>\n      <td>0.0</td>\n      <td>0.0</td>\n      <td>0.0</td>\n      <td>0.0</td>\n      <td>0.0</td>\n      <td>0.0</td>\n      <td>0.0</td>\n      <td>0.000000</td>\n      <td>0.000000</td>\n      <td>0.000000</td>\n      <td>0.860915</td>\n      <td>0.000000</td>\n      <td>0.0</td>\n      <td>0.0</td>\n      <td>0.000000</td>\n      <td>0.0</td>\n      <td>0.0</td>\n      <td>0.000000</td>\n      <td>0.0</td>\n      <td>0.0</td>\n      <td>0.0</td>\n      <td>0.0</td>\n      <td>0.0</td>\n      <td>0.0</td>\n      <td>0.0</td>\n      <td>0.0</td>\n      <td>0.0</td>\n      <td>0.000000</td>\n      <td>0.000000</td>\n      <td>0.0</td>\n      <td>0.0</td>\n      <td>0.0</td>\n      <td>0.0</td>\n      <td>0.000000</td>\n      <td>0.0</td>\n    </tr>\n  </tbody>\n</table>\n<p>5 rows × 136 columns</p>\n</div>"
     },
     "metadata": {},
     "execution_count": 60
    }
   ],
   "source": [
    "all_data_test.head()"
   ]
  },
  {
   "cell_type": "markdown",
   "metadata": {},
   "source": [
    "### 10、embeeding特征"
   ]
  },
  {
   "cell_type": "code",
   "execution_count": 61,
   "metadata": {},
   "outputs": [],
   "source": [
    "import gensim\n",
    "\n",
    "# Train Word2Vec model\n",
    "\n",
    "model = gensim.models.Word2Vec(all_data_test['seller_path'].apply(lambda x: x.split(' ')), size=100, window=5, min_count=5, workers=4)\n",
    "# model.save(\"product2vec.model\")\n",
    "# model = gensim.models.Word2Vec.load(\"product2vec.model\")\n",
    "\n",
    "def mean_w2v_(x, model, size=100):\n",
    "    try:\n",
    "        i = 0\n",
    "        for word in x.split(' '):\n",
    "            if word in model.wv.vocab:\n",
    "                i += 1\n",
    "                if i == 1:\n",
    "                    vec = np.zeros(size)\n",
    "                vec += model.wv[word]\n",
    "        return vec / i \n",
    "    except:\n",
    "        return  np.zeros(size)\n",
    "\n",
    "\n",
    "def get_mean_w2v(df_data, columns, model, size):\n",
    "    data_array = []\n",
    "    for index, row in df_data.iterrows():\n",
    "        w2v = mean_w2v_(row[columns], model, size)\n",
    "        data_array.append(w2v)\n",
    "    return pd.DataFrame(data_array)\n",
    "\n",
    "df_embeeding = get_mean_w2v(all_data_test, 'seller_path', model, 100)\n",
    "df_embeeding.columns = ['embeeding_' + str(i) for i in df_embeeding.columns]"
   ]
  },
  {
   "cell_type": "code",
   "execution_count": 62,
   "metadata": {},
   "outputs": [],
   "source": [
    "#embeeding特征和原始特征合并\n",
    "all_data_test = pd.concat([all_data_test, df_embeeding],axis=1)"
   ]
  },
  {
   "cell_type": "code",
   "execution_count": 77,
   "metadata": {},
   "outputs": [
    {
     "output_type": "execute_result",
     "data": {
      "text/plain": "   user_id  merchant_id  label  prob  age_range  gender                                          item_path                                           cat_path                                        seller_path                                         brand_path                                    time_stamp_path                                   action_type_path  user_cnt  seller_nunique  cat_nunique  brand_nunique  item_nunique  time_stamp_nunique  action_type_nunique  time_stamp_max  time_stamp_min  time_stamp_std  time_stamp_range seller_most_1 cat_most_1 brand_most_1 action_type_1  seller_most_1_cnt  cat_most_1_cnt  brand_most_1_cnt  action_type_1_cnt  user_cnt_0  user_cnt_1  user_cnt_2  user_cnt_3  seller_nunique_0  tfidf_0  tfidf_1   tfidf_2   tfidf_3  tfidf_4   tfidf_5   tfidf_6  tfidf_7  tfidf_8   tfidf_9  tfidf_10  tfidf_11  tfidf_12  tfidf_13  ...  embeeding_50  embeeding_51  embeeding_52  embeeding_53  embeeding_54  embeeding_55  embeeding_56  embeeding_57  embeeding_58  embeeding_59  embeeding_60  embeeding_61  embeeding_62  embeeding_63  embeeding_64  embeeding_65  embeeding_66  embeeding_67  embeeding_68  embeeding_69  embeeding_70  embeeding_71  embeeding_72  embeeding_73  embeeding_74  embeeding_75  embeeding_76  embeeding_77  embeeding_78  embeeding_79  embeeding_80  embeeding_81  embeeding_82  embeeding_83  embeeding_84  embeeding_85  embeeding_86  embeeding_87  embeeding_88  embeeding_89  embeeding_90  embeeding_91  embeeding_92  embeeding_93  embeeding_94  embeeding_95  embeeding_96  embeeding_97  embeeding_98  embeeding_99\n0    34176         3906    0.0   NaN        6.0     0.0  581818 879005 581818 581818 1011673 52343 2773...  1505 662 1505 1505 1505 662 1095 1505 662 1095...  416 3606 416 416 416 3760 3606 416 1926 3004 4...  4014.0 33.0 4014.0 4014.0 4014.0 3738.0 33.0 4...  521 521 521 521 521 521 521 521 521 521 521 52...  0 0 0 0 0 0 0 0 0 0 0 0 0 2 0 0 0 0 0 0 2 0 2 ...       451             109           45            106           256                  47                    3               3               0        0.634270                 3           331        662       4094.0             0                 70              98                70                410         451         451         451         451               251      0.0      0.0  0.009531  0.186124      0.0  0.173224  0.036434      0.0      0.0  0.012205       0.0       0.0       0.0       0.0  ...      0.961809     -0.090018      0.606545      0.202009     -0.189592     -0.581294     -0.401953      0.319062      0.118440      0.096495     -0.212092      0.448129      0.338241      0.310488      0.103619      0.016169      0.082426      0.454286     -0.063893      0.475054     -0.004893     -0.342494     -0.516286     -0.077109      0.137100     -0.562744     -0.411584     -0.048169     -0.962543      0.496260      0.003923     -0.078278      0.279826      0.060296      0.004857      0.234017      0.816221      0.487148     -0.481849      0.403941      0.122431     -0.225558     -0.725362       0.57479      0.415909     -0.615633     -0.072939      0.255923      0.029041      0.127017\n1    34176          121    0.0   NaN        6.0     0.0  581818 879005 581818 581818 1011673 52343 2773...  1505 662 1505 1505 1505 662 1095 1505 662 1095...  416 3606 416 416 416 3760 3606 416 1926 3004 4...  4014.0 33.0 4014.0 4014.0 4014.0 3738.0 33.0 4...  521 521 521 521 521 521 521 521 521 521 521 52...  0 0 0 0 0 0 0 0 0 0 0 0 0 2 0 0 0 0 0 0 2 0 2 ...       451             109           45            106           256                  47                    3               3               0        0.634270                 3           331        662       4094.0             0                 70              98                70                410         451         451         451         451               251      0.0      0.0  0.009531  0.186124      0.0  0.173224  0.036434      0.0      0.0  0.012205       0.0       0.0       0.0       0.0  ...      0.961809     -0.090018      0.606545      0.202009     -0.189592     -0.581294     -0.401953      0.319062      0.118440      0.096495     -0.212092      0.448129      0.338241      0.310488      0.103619      0.016169      0.082426      0.454286     -0.063893      0.475054     -0.004893     -0.342494     -0.516286     -0.077109      0.137100     -0.562744     -0.411584     -0.048169     -0.962543      0.496260      0.003923     -0.078278      0.279826      0.060296      0.004857      0.234017      0.816221      0.487148     -0.481849      0.403941      0.122431     -0.225558     -0.725362       0.57479      0.415909     -0.615633     -0.072939      0.255923      0.029041      0.127017\n2    34176         4356    1.0   NaN        6.0     0.0  581818 879005 581818 581818 1011673 52343 2773...  1505 662 1505 1505 1505 662 1095 1505 662 1095...  416 3606 416 416 416 3760 3606 416 1926 3004 4...  4014.0 33.0 4014.0 4014.0 4014.0 3738.0 33.0 4...  521 521 521 521 521 521 521 521 521 521 521 52...  0 0 0 0 0 0 0 0 0 0 0 0 0 2 0 0 0 0 0 0 2 0 2 ...       451             109           45            106           256                  47                    3               3               0        0.634270                 3           331        662       4094.0             0                 70              98                70                410         451         451         451         451               251      0.0      0.0  0.009531  0.186124      0.0  0.173224  0.036434      0.0      0.0  0.012205       0.0       0.0       0.0       0.0  ...      0.961809     -0.090018      0.606545      0.202009     -0.189592     -0.581294     -0.401953      0.319062      0.118440      0.096495     -0.212092      0.448129      0.338241      0.310488      0.103619      0.016169      0.082426      0.454286     -0.063893      0.475054     -0.004893     -0.342494     -0.516286     -0.077109      0.137100     -0.562744     -0.411584     -0.048169     -0.962543      0.496260      0.003923     -0.078278      0.279826      0.060296      0.004857      0.234017      0.816221      0.487148     -0.481849      0.403941      0.122431     -0.225558     -0.725362       0.57479      0.415909     -0.615633     -0.072939      0.255923      0.029041      0.127017\n3    34176         2217    0.0   NaN        6.0     0.0  581818 879005 581818 581818 1011673 52343 2773...  1505 662 1505 1505 1505 662 1095 1505 662 1095...  416 3606 416 416 416 3760 3606 416 1926 3004 4...  4014.0 33.0 4014.0 4014.0 4014.0 3738.0 33.0 4...  521 521 521 521 521 521 521 521 521 521 521 52...  0 0 0 0 0 0 0 0 0 0 0 0 0 2 0 0 0 0 0 0 2 0 2 ...       451             109           45            106           256                  47                    3               3               0        0.634270                 3           331        662       4094.0             0                 70              98                70                410         451         451         451         451               251      0.0      0.0  0.009531  0.186124      0.0  0.173224  0.036434      0.0      0.0  0.012205       0.0       0.0       0.0       0.0  ...      0.961809     -0.090018      0.606545      0.202009     -0.189592     -0.581294     -0.401953      0.319062      0.118440      0.096495     -0.212092      0.448129      0.338241      0.310488      0.103619      0.016169      0.082426      0.454286     -0.063893      0.475054     -0.004893     -0.342494     -0.516286     -0.077109      0.137100     -0.562744     -0.411584     -0.048169     -0.962543      0.496260      0.003923     -0.078278      0.279826      0.060296      0.004857      0.234017      0.816221      0.487148     -0.481849      0.403941      0.122431     -0.225558     -0.725362       0.57479      0.415909     -0.615633     -0.072939      0.255923      0.029041      0.127017\n4   230784         4818    0.0   NaN        0.0     0.0  191923 191923 191923 191923 964906 229470 2294...  1023 1023 1023 1023 662 664 664 1544 664 662 6...  3545 3545 3545 3545 4566 2537 2537 2420 2537 4...  5860.0 5860.0 5860.0 5860.0 6320.0 6064.0 6064...  601 601 601 601 614 614 614 614 614 614 618 61...  0 2 0 0 0 0 0 0 0 0 0 0 0 0 0 0 2 2 0 0 0 0 0 ...        54              20           17             19            31                  16                    2               2               0        0.671791                 2          3556        407       1236.0             0                 10               9                10                 47          54          54          54          54                31      0.0      0.0  0.000000  0.000000      0.0  0.000000  0.000000      0.0      0.0  0.000000       0.0       0.0       0.0       0.0  ...      0.642980      0.049911      0.267113      0.069332     -0.450651     -0.827221     -0.259084     -0.270566     -0.322225      0.582343      0.023713      0.444506      0.493122      0.224066      0.032962     -0.056675     -0.270967      0.457756      0.218771      0.034825      0.435094     -0.371002     -0.351870      0.074981      0.572606      0.062311     -0.566427      0.062654     -0.513384      0.440096      0.017409     -0.144031      0.183423     -0.155494      0.023599     -0.210919     -0.182404     -0.075538     -0.420580      0.574646      0.487358     -0.309325      0.004428       0.46796      0.110191     -0.423070     -0.495218     -0.113491      0.076605      0.018197\n\n[5 rows x 236 columns]",
      "text/html": "<div>\n<style scoped>\n    .dataframe tbody tr th:only-of-type {\n        vertical-align: middle;\n    }\n\n    .dataframe tbody tr th {\n        vertical-align: top;\n    }\n\n    .dataframe thead th {\n        text-align: right;\n    }\n</style>\n<table border=\"1\" class=\"dataframe\">\n  <thead>\n    <tr style=\"text-align: right;\">\n      <th></th>\n      <th>user_id</th>\n      <th>merchant_id</th>\n      <th>label</th>\n      <th>prob</th>\n      <th>age_range</th>\n      <th>gender</th>\n      <th>item_path</th>\n      <th>cat_path</th>\n      <th>seller_path</th>\n      <th>brand_path</th>\n      <th>time_stamp_path</th>\n      <th>action_type_path</th>\n      <th>user_cnt</th>\n      <th>seller_nunique</th>\n      <th>cat_nunique</th>\n      <th>brand_nunique</th>\n      <th>item_nunique</th>\n      <th>time_stamp_nunique</th>\n      <th>action_type_nunique</th>\n      <th>time_stamp_max</th>\n      <th>time_stamp_min</th>\n      <th>time_stamp_std</th>\n      <th>time_stamp_range</th>\n      <th>seller_most_1</th>\n      <th>cat_most_1</th>\n      <th>brand_most_1</th>\n      <th>action_type_1</th>\n      <th>seller_most_1_cnt</th>\n      <th>cat_most_1_cnt</th>\n      <th>brand_most_1_cnt</th>\n      <th>action_type_1_cnt</th>\n      <th>user_cnt_0</th>\n      <th>user_cnt_1</th>\n      <th>user_cnt_2</th>\n      <th>user_cnt_3</th>\n      <th>seller_nunique_0</th>\n      <th>tfidf_0</th>\n      <th>tfidf_1</th>\n      <th>tfidf_2</th>\n      <th>tfidf_3</th>\n      <th>tfidf_4</th>\n      <th>tfidf_5</th>\n      <th>tfidf_6</th>\n      <th>tfidf_7</th>\n      <th>tfidf_8</th>\n      <th>tfidf_9</th>\n      <th>tfidf_10</th>\n      <th>tfidf_11</th>\n      <th>tfidf_12</th>\n      <th>tfidf_13</th>\n      <th>...</th>\n      <th>embeeding_50</th>\n      <th>embeeding_51</th>\n      <th>embeeding_52</th>\n      <th>embeeding_53</th>\n      <th>embeeding_54</th>\n      <th>embeeding_55</th>\n      <th>embeeding_56</th>\n      <th>embeeding_57</th>\n      <th>embeeding_58</th>\n      <th>embeeding_59</th>\n      <th>embeeding_60</th>\n      <th>embeeding_61</th>\n      <th>embeeding_62</th>\n      <th>embeeding_63</th>\n      <th>embeeding_64</th>\n      <th>embeeding_65</th>\n      <th>embeeding_66</th>\n      <th>embeeding_67</th>\n      <th>embeeding_68</th>\n      <th>embeeding_69</th>\n      <th>embeeding_70</th>\n      <th>embeeding_71</th>\n      <th>embeeding_72</th>\n      <th>embeeding_73</th>\n      <th>embeeding_74</th>\n      <th>embeeding_75</th>\n      <th>embeeding_76</th>\n      <th>embeeding_77</th>\n      <th>embeeding_78</th>\n      <th>embeeding_79</th>\n      <th>embeeding_80</th>\n      <th>embeeding_81</th>\n      <th>embeeding_82</th>\n      <th>embeeding_83</th>\n      <th>embeeding_84</th>\n      <th>embeeding_85</th>\n      <th>embeeding_86</th>\n      <th>embeeding_87</th>\n      <th>embeeding_88</th>\n      <th>embeeding_89</th>\n      <th>embeeding_90</th>\n      <th>embeeding_91</th>\n      <th>embeeding_92</th>\n      <th>embeeding_93</th>\n      <th>embeeding_94</th>\n      <th>embeeding_95</th>\n      <th>embeeding_96</th>\n      <th>embeeding_97</th>\n      <th>embeeding_98</th>\n      <th>embeeding_99</th>\n    </tr>\n  </thead>\n  <tbody>\n    <tr>\n      <th>0</th>\n      <td>34176</td>\n      <td>3906</td>\n      <td>0.0</td>\n      <td>NaN</td>\n      <td>6.0</td>\n      <td>0.0</td>\n      <td>581818 879005 581818 581818 1011673 52343 2773...</td>\n      <td>1505 662 1505 1505 1505 662 1095 1505 662 1095...</td>\n      <td>416 3606 416 416 416 3760 3606 416 1926 3004 4...</td>\n      <td>4014.0 33.0 4014.0 4014.0 4014.0 3738.0 33.0 4...</td>\n      <td>521 521 521 521 521 521 521 521 521 521 521 52...</td>\n      <td>0 0 0 0 0 0 0 0 0 0 0 0 0 2 0 0 0 0 0 0 2 0 2 ...</td>\n      <td>451</td>\n      <td>109</td>\n      <td>45</td>\n      <td>106</td>\n      <td>256</td>\n      <td>47</td>\n      <td>3</td>\n      <td>3</td>\n      <td>0</td>\n      <td>0.634270</td>\n      <td>3</td>\n      <td>331</td>\n      <td>662</td>\n      <td>4094.0</td>\n      <td>0</td>\n      <td>70</td>\n      <td>98</td>\n      <td>70</td>\n      <td>410</td>\n      <td>451</td>\n      <td>451</td>\n      <td>451</td>\n      <td>451</td>\n      <td>251</td>\n      <td>0.0</td>\n      <td>0.0</td>\n      <td>0.009531</td>\n      <td>0.186124</td>\n      <td>0.0</td>\n      <td>0.173224</td>\n      <td>0.036434</td>\n      <td>0.0</td>\n      <td>0.0</td>\n      <td>0.012205</td>\n      <td>0.0</td>\n      <td>0.0</td>\n      <td>0.0</td>\n      <td>0.0</td>\n      <td>...</td>\n      <td>0.961809</td>\n      <td>-0.090018</td>\n      <td>0.606545</td>\n      <td>0.202009</td>\n      <td>-0.189592</td>\n      <td>-0.581294</td>\n      <td>-0.401953</td>\n      <td>0.319062</td>\n      <td>0.118440</td>\n      <td>0.096495</td>\n      <td>-0.212092</td>\n      <td>0.448129</td>\n      <td>0.338241</td>\n      <td>0.310488</td>\n      <td>0.103619</td>\n      <td>0.016169</td>\n      <td>0.082426</td>\n      <td>0.454286</td>\n      <td>-0.063893</td>\n      <td>0.475054</td>\n      <td>-0.004893</td>\n      <td>-0.342494</td>\n      <td>-0.516286</td>\n      <td>-0.077109</td>\n      <td>0.137100</td>\n      <td>-0.562744</td>\n      <td>-0.411584</td>\n      <td>-0.048169</td>\n      <td>-0.962543</td>\n      <td>0.496260</td>\n      <td>0.003923</td>\n      <td>-0.078278</td>\n      <td>0.279826</td>\n      <td>0.060296</td>\n      <td>0.004857</td>\n      <td>0.234017</td>\n      <td>0.816221</td>\n      <td>0.487148</td>\n      <td>-0.481849</td>\n      <td>0.403941</td>\n      <td>0.122431</td>\n      <td>-0.225558</td>\n      <td>-0.725362</td>\n      <td>0.57479</td>\n      <td>0.415909</td>\n      <td>-0.615633</td>\n      <td>-0.072939</td>\n      <td>0.255923</td>\n      <td>0.029041</td>\n      <td>0.127017</td>\n    </tr>\n    <tr>\n      <th>1</th>\n      <td>34176</td>\n      <td>121</td>\n      <td>0.0</td>\n      <td>NaN</td>\n      <td>6.0</td>\n      <td>0.0</td>\n      <td>581818 879005 581818 581818 1011673 52343 2773...</td>\n      <td>1505 662 1505 1505 1505 662 1095 1505 662 1095...</td>\n      <td>416 3606 416 416 416 3760 3606 416 1926 3004 4...</td>\n      <td>4014.0 33.0 4014.0 4014.0 4014.0 3738.0 33.0 4...</td>\n      <td>521 521 521 521 521 521 521 521 521 521 521 52...</td>\n      <td>0 0 0 0 0 0 0 0 0 0 0 0 0 2 0 0 0 0 0 0 2 0 2 ...</td>\n      <td>451</td>\n      <td>109</td>\n      <td>45</td>\n      <td>106</td>\n      <td>256</td>\n      <td>47</td>\n      <td>3</td>\n      <td>3</td>\n      <td>0</td>\n      <td>0.634270</td>\n      <td>3</td>\n      <td>331</td>\n      <td>662</td>\n      <td>4094.0</td>\n      <td>0</td>\n      <td>70</td>\n      <td>98</td>\n      <td>70</td>\n      <td>410</td>\n      <td>451</td>\n      <td>451</td>\n      <td>451</td>\n      <td>451</td>\n      <td>251</td>\n      <td>0.0</td>\n      <td>0.0</td>\n      <td>0.009531</td>\n      <td>0.186124</td>\n      <td>0.0</td>\n      <td>0.173224</td>\n      <td>0.036434</td>\n      <td>0.0</td>\n      <td>0.0</td>\n      <td>0.012205</td>\n      <td>0.0</td>\n      <td>0.0</td>\n      <td>0.0</td>\n      <td>0.0</td>\n      <td>...</td>\n      <td>0.961809</td>\n      <td>-0.090018</td>\n      <td>0.606545</td>\n      <td>0.202009</td>\n      <td>-0.189592</td>\n      <td>-0.581294</td>\n      <td>-0.401953</td>\n      <td>0.319062</td>\n      <td>0.118440</td>\n      <td>0.096495</td>\n      <td>-0.212092</td>\n      <td>0.448129</td>\n      <td>0.338241</td>\n      <td>0.310488</td>\n      <td>0.103619</td>\n      <td>0.016169</td>\n      <td>0.082426</td>\n      <td>0.454286</td>\n      <td>-0.063893</td>\n      <td>0.475054</td>\n      <td>-0.004893</td>\n      <td>-0.342494</td>\n      <td>-0.516286</td>\n      <td>-0.077109</td>\n      <td>0.137100</td>\n      <td>-0.562744</td>\n      <td>-0.411584</td>\n      <td>-0.048169</td>\n      <td>-0.962543</td>\n      <td>0.496260</td>\n      <td>0.003923</td>\n      <td>-0.078278</td>\n      <td>0.279826</td>\n      <td>0.060296</td>\n      <td>0.004857</td>\n      <td>0.234017</td>\n      <td>0.816221</td>\n      <td>0.487148</td>\n      <td>-0.481849</td>\n      <td>0.403941</td>\n      <td>0.122431</td>\n      <td>-0.225558</td>\n      <td>-0.725362</td>\n      <td>0.57479</td>\n      <td>0.415909</td>\n      <td>-0.615633</td>\n      <td>-0.072939</td>\n      <td>0.255923</td>\n      <td>0.029041</td>\n      <td>0.127017</td>\n    </tr>\n    <tr>\n      <th>2</th>\n      <td>34176</td>\n      <td>4356</td>\n      <td>1.0</td>\n      <td>NaN</td>\n      <td>6.0</td>\n      <td>0.0</td>\n      <td>581818 879005 581818 581818 1011673 52343 2773...</td>\n      <td>1505 662 1505 1505 1505 662 1095 1505 662 1095...</td>\n      <td>416 3606 416 416 416 3760 3606 416 1926 3004 4...</td>\n      <td>4014.0 33.0 4014.0 4014.0 4014.0 3738.0 33.0 4...</td>\n      <td>521 521 521 521 521 521 521 521 521 521 521 52...</td>\n      <td>0 0 0 0 0 0 0 0 0 0 0 0 0 2 0 0 0 0 0 0 2 0 2 ...</td>\n      <td>451</td>\n      <td>109</td>\n      <td>45</td>\n      <td>106</td>\n      <td>256</td>\n      <td>47</td>\n      <td>3</td>\n      <td>3</td>\n      <td>0</td>\n      <td>0.634270</td>\n      <td>3</td>\n      <td>331</td>\n      <td>662</td>\n      <td>4094.0</td>\n      <td>0</td>\n      <td>70</td>\n      <td>98</td>\n      <td>70</td>\n      <td>410</td>\n      <td>451</td>\n      <td>451</td>\n      <td>451</td>\n      <td>451</td>\n      <td>251</td>\n      <td>0.0</td>\n      <td>0.0</td>\n      <td>0.009531</td>\n      <td>0.186124</td>\n      <td>0.0</td>\n      <td>0.173224</td>\n      <td>0.036434</td>\n      <td>0.0</td>\n      <td>0.0</td>\n      <td>0.012205</td>\n      <td>0.0</td>\n      <td>0.0</td>\n      <td>0.0</td>\n      <td>0.0</td>\n      <td>...</td>\n      <td>0.961809</td>\n      <td>-0.090018</td>\n      <td>0.606545</td>\n      <td>0.202009</td>\n      <td>-0.189592</td>\n      <td>-0.581294</td>\n      <td>-0.401953</td>\n      <td>0.319062</td>\n      <td>0.118440</td>\n      <td>0.096495</td>\n      <td>-0.212092</td>\n      <td>0.448129</td>\n      <td>0.338241</td>\n      <td>0.310488</td>\n      <td>0.103619</td>\n      <td>0.016169</td>\n      <td>0.082426</td>\n      <td>0.454286</td>\n      <td>-0.063893</td>\n      <td>0.475054</td>\n      <td>-0.004893</td>\n      <td>-0.342494</td>\n      <td>-0.516286</td>\n      <td>-0.077109</td>\n      <td>0.137100</td>\n      <td>-0.562744</td>\n      <td>-0.411584</td>\n      <td>-0.048169</td>\n      <td>-0.962543</td>\n      <td>0.496260</td>\n      <td>0.003923</td>\n      <td>-0.078278</td>\n      <td>0.279826</td>\n      <td>0.060296</td>\n      <td>0.004857</td>\n      <td>0.234017</td>\n      <td>0.816221</td>\n      <td>0.487148</td>\n      <td>-0.481849</td>\n      <td>0.403941</td>\n      <td>0.122431</td>\n      <td>-0.225558</td>\n      <td>-0.725362</td>\n      <td>0.57479</td>\n      <td>0.415909</td>\n      <td>-0.615633</td>\n      <td>-0.072939</td>\n      <td>0.255923</td>\n      <td>0.029041</td>\n      <td>0.127017</td>\n    </tr>\n    <tr>\n      <th>3</th>\n      <td>34176</td>\n      <td>2217</td>\n      <td>0.0</td>\n      <td>NaN</td>\n      <td>6.0</td>\n      <td>0.0</td>\n      <td>581818 879005 581818 581818 1011673 52343 2773...</td>\n      <td>1505 662 1505 1505 1505 662 1095 1505 662 1095...</td>\n      <td>416 3606 416 416 416 3760 3606 416 1926 3004 4...</td>\n      <td>4014.0 33.0 4014.0 4014.0 4014.0 3738.0 33.0 4...</td>\n      <td>521 521 521 521 521 521 521 521 521 521 521 52...</td>\n      <td>0 0 0 0 0 0 0 0 0 0 0 0 0 2 0 0 0 0 0 0 2 0 2 ...</td>\n      <td>451</td>\n      <td>109</td>\n      <td>45</td>\n      <td>106</td>\n      <td>256</td>\n      <td>47</td>\n      <td>3</td>\n      <td>3</td>\n      <td>0</td>\n      <td>0.634270</td>\n      <td>3</td>\n      <td>331</td>\n      <td>662</td>\n      <td>4094.0</td>\n      <td>0</td>\n      <td>70</td>\n      <td>98</td>\n      <td>70</td>\n      <td>410</td>\n      <td>451</td>\n      <td>451</td>\n      <td>451</td>\n      <td>451</td>\n      <td>251</td>\n      <td>0.0</td>\n      <td>0.0</td>\n      <td>0.009531</td>\n      <td>0.186124</td>\n      <td>0.0</td>\n      <td>0.173224</td>\n      <td>0.036434</td>\n      <td>0.0</td>\n      <td>0.0</td>\n      <td>0.012205</td>\n      <td>0.0</td>\n      <td>0.0</td>\n      <td>0.0</td>\n      <td>0.0</td>\n      <td>...</td>\n      <td>0.961809</td>\n      <td>-0.090018</td>\n      <td>0.606545</td>\n      <td>0.202009</td>\n      <td>-0.189592</td>\n      <td>-0.581294</td>\n      <td>-0.401953</td>\n      <td>0.319062</td>\n      <td>0.118440</td>\n      <td>0.096495</td>\n      <td>-0.212092</td>\n      <td>0.448129</td>\n      <td>0.338241</td>\n      <td>0.310488</td>\n      <td>0.103619</td>\n      <td>0.016169</td>\n      <td>0.082426</td>\n      <td>0.454286</td>\n      <td>-0.063893</td>\n      <td>0.475054</td>\n      <td>-0.004893</td>\n      <td>-0.342494</td>\n      <td>-0.516286</td>\n      <td>-0.077109</td>\n      <td>0.137100</td>\n      <td>-0.562744</td>\n      <td>-0.411584</td>\n      <td>-0.048169</td>\n      <td>-0.962543</td>\n      <td>0.496260</td>\n      <td>0.003923</td>\n      <td>-0.078278</td>\n      <td>0.279826</td>\n      <td>0.060296</td>\n      <td>0.004857</td>\n      <td>0.234017</td>\n      <td>0.816221</td>\n      <td>0.487148</td>\n      <td>-0.481849</td>\n      <td>0.403941</td>\n      <td>0.122431</td>\n      <td>-0.225558</td>\n      <td>-0.725362</td>\n      <td>0.57479</td>\n      <td>0.415909</td>\n      <td>-0.615633</td>\n      <td>-0.072939</td>\n      <td>0.255923</td>\n      <td>0.029041</td>\n      <td>0.127017</td>\n    </tr>\n    <tr>\n      <th>4</th>\n      <td>230784</td>\n      <td>4818</td>\n      <td>0.0</td>\n      <td>NaN</td>\n      <td>0.0</td>\n      <td>0.0</td>\n      <td>191923 191923 191923 191923 964906 229470 2294...</td>\n      <td>1023 1023 1023 1023 662 664 664 1544 664 662 6...</td>\n      <td>3545 3545 3545 3545 4566 2537 2537 2420 2537 4...</td>\n      <td>5860.0 5860.0 5860.0 5860.0 6320.0 6064.0 6064...</td>\n      <td>601 601 601 601 614 614 614 614 614 614 618 61...</td>\n      <td>0 2 0 0 0 0 0 0 0 0 0 0 0 0 0 0 2 2 0 0 0 0 0 ...</td>\n      <td>54</td>\n      <td>20</td>\n      <td>17</td>\n      <td>19</td>\n      <td>31</td>\n      <td>16</td>\n      <td>2</td>\n      <td>2</td>\n      <td>0</td>\n      <td>0.671791</td>\n      <td>2</td>\n      <td>3556</td>\n      <td>407</td>\n      <td>1236.0</td>\n      <td>0</td>\n      <td>10</td>\n      <td>9</td>\n      <td>10</td>\n      <td>47</td>\n      <td>54</td>\n      <td>54</td>\n      <td>54</td>\n      <td>54</td>\n      <td>31</td>\n      <td>0.0</td>\n      <td>0.0</td>\n      <td>0.000000</td>\n      <td>0.000000</td>\n      <td>0.0</td>\n      <td>0.000000</td>\n      <td>0.000000</td>\n      <td>0.0</td>\n      <td>0.0</td>\n      <td>0.000000</td>\n      <td>0.0</td>\n      <td>0.0</td>\n      <td>0.0</td>\n      <td>0.0</td>\n      <td>...</td>\n      <td>0.642980</td>\n      <td>0.049911</td>\n      <td>0.267113</td>\n      <td>0.069332</td>\n      <td>-0.450651</td>\n      <td>-0.827221</td>\n      <td>-0.259084</td>\n      <td>-0.270566</td>\n      <td>-0.322225</td>\n      <td>0.582343</td>\n      <td>0.023713</td>\n      <td>0.444506</td>\n      <td>0.493122</td>\n      <td>0.224066</td>\n      <td>0.032962</td>\n      <td>-0.056675</td>\n      <td>-0.270967</td>\n      <td>0.457756</td>\n      <td>0.218771</td>\n      <td>0.034825</td>\n      <td>0.435094</td>\n      <td>-0.371002</td>\n      <td>-0.351870</td>\n      <td>0.074981</td>\n      <td>0.572606</td>\n      <td>0.062311</td>\n      <td>-0.566427</td>\n      <td>0.062654</td>\n      <td>-0.513384</td>\n      <td>0.440096</td>\n      <td>0.017409</td>\n      <td>-0.144031</td>\n      <td>0.183423</td>\n      <td>-0.155494</td>\n      <td>0.023599</td>\n      <td>-0.210919</td>\n      <td>-0.182404</td>\n      <td>-0.075538</td>\n      <td>-0.420580</td>\n      <td>0.574646</td>\n      <td>0.487358</td>\n      <td>-0.309325</td>\n      <td>0.004428</td>\n      <td>0.46796</td>\n      <td>0.110191</td>\n      <td>-0.423070</td>\n      <td>-0.495218</td>\n      <td>-0.113491</td>\n      <td>0.076605</td>\n      <td>0.018197</td>\n    </tr>\n  </tbody>\n</table>\n<p>5 rows × 236 columns</p>\n</div>"
     },
     "metadata": {},
     "execution_count": 77
    }
   ],
   "source": [
    "all_data_test.head(5)"
   ]
  },
  {
   "cell_type": "markdown",
   "metadata": {},
   "source": [
    "### 11、stacking特征"
   ]
  },
  {
   "cell_type": "code",
   "execution_count": 63,
   "metadata": {},
   "outputs": [],
   "source": [
    "# from sklearn.cross_validation import KFold\n",
    "from sklearn.model_selection import KFold\n",
    "import pandas as pd\n",
    "import numpy as np\n",
    "from scipy import sparse\n",
    "import xgboost\n",
    "import lightgbm\n",
    "from sklearn.ensemble import RandomForestClassifier,AdaBoostClassifier,GradientBoostingClassifier,ExtraTreesClassifier\n",
    "from sklearn.ensemble import RandomForestRegressor,AdaBoostRegressor,GradientBoostingRegressor,ExtraTreesRegressor\n",
    "from sklearn.linear_model import LinearRegression,LogisticRegression\n",
    "from sklearn.svm import LinearSVC,SVC\n",
    "from sklearn.neighbors import KNeighborsClassifier\n",
    "from sklearn.metrics import log_loss,mean_absolute_error,mean_squared_error\n",
    "from sklearn.naive_bayes import MultinomialNB,GaussianNB"
   ]
  },
  {
   "cell_type": "code",
   "execution_count": 64,
   "metadata": {},
   "outputs": [],
   "source": [
    "#stacking回归特征\n",
    "def stacking_reg(clf,train_x,train_y,test_x,clf_name,kf,label_split=None):\n",
    "    train=np.zeros((train_x.shape[0],1))\n",
    "    test=np.zeros((test_x.shape[0],1))\n",
    "    test_pre=np.empty((folds,test_x.shape[0],1))\n",
    "    cv_scores=[]\n",
    "    for i,(train_index,test_index) in enumerate(kf.split(train_x,label_split)):       \n",
    "        tr_x=train_x[train_index]\n",
    "        tr_y=train_y[train_index]\n",
    "        te_x=train_x[test_index]\n",
    "        te_y = train_y[test_index]\n",
    "        if clf_name in [\"rf\",\"ada\",\"gb\",\"et\",\"lr\"]:\n",
    "            clf.fit(tr_x,tr_y)\n",
    "            pre=clf.predict(te_x).reshape(-1,1)\n",
    "            train[test_index]=pre\n",
    "            test_pre[i,:]=clf.predict(test_x).reshape(-1,1)\n",
    "            cv_scores.append(mean_squared_error(te_y, pre))\n",
    "        elif clf_name in [\"xgb\"]:\n",
    "            train_matrix = clf.DMatrix(tr_x, label=tr_y, missing=-1)\n",
    "            test_matrix = clf.DMatrix(te_x, label=te_y, missing=-1)\n",
    "            z = clf.DMatrix(test_x, label=te_y, missing=-1)\n",
    "            params = {'booster': 'gbtree',\n",
    "                      'eval_metric': 'rmse',\n",
    "                      'gamma': 1,\n",
    "                      'min_child_weight': 1.5,\n",
    "                      'max_depth': 5,\n",
    "                      'lambda': 10,\n",
    "                      'subsample': 0.7,\n",
    "                      'colsample_bytree': 0.7,\n",
    "                      'colsample_bylevel': 0.7,\n",
    "                      'eta': 0.03,\n",
    "                      'tree_method': 'exact',\n",
    "                      'seed': 2017,\n",
    "                      'nthread': 12\n",
    "                      }\n",
    "            num_round = 10000\n",
    "            early_stopping_rounds = 100\n",
    "            watchlist = [(train_matrix, 'train'),\n",
    "                         (test_matrix, 'eval')\n",
    "                         ]\n",
    "            if test_matrix:\n",
    "                model = clf.train(params, train_matrix, num_boost_round=num_round,evals=watchlist,\n",
    "                                  early_stopping_rounds=early_stopping_rounds\n",
    "                                  )\n",
    "                pre= model.predict(test_matrix,ntree_limit=model.best_ntree_limit).reshape(-1,1)\n",
    "                train[test_index]=pre\n",
    "                test_pre[i, :]= model.predict(z, ntree_limit=model.best_ntree_limit).reshape(-1,1)\n",
    "                cv_scores.append(mean_squared_error(te_y, pre))\n",
    "\n",
    "        elif clf_name in [\"lgb\"]:\n",
    "            train_matrix = clf.Dataset(tr_x, label=tr_y)\n",
    "            test_matrix = clf.Dataset(te_x, label=te_y)\n",
    "            params = {\n",
    "                      'boosting_type': 'gbdt',\n",
    "                      'objective': 'regression_l2',\n",
    "                      'metric': 'mse',\n",
    "                      'min_child_weight': 1.5,\n",
    "                      'num_leaves': 2**5,\n",
    "                      'lambda_l2': 10,\n",
    "                      'subsample': 0.7,\n",
    "                      'colsample_bytree': 0.7,\n",
    "                      'colsample_bylevel': 0.7,\n",
    "                      'learning_rate': 0.03,\n",
    "                      'tree_method': 'exact',\n",
    "                      'seed': 2017,\n",
    "                      'nthread': 12,\n",
    "                      'silent': True,\n",
    "                      }\n",
    "            num_round = 10000\n",
    "            early_stopping_rounds = 100\n",
    "            if test_matrix:\n",
    "                model = clf.train(params, train_matrix,num_round,valid_sets=test_matrix,\n",
    "                                  early_stopping_rounds=early_stopping_rounds\n",
    "                                  )\n",
    "                pre= model.predict(te_x,num_iteration=model.best_iteration).reshape(-1,1)\n",
    "                train[test_index]=pre\n",
    "                test_pre[i, :]= model.predict(test_x, num_iteration=model.best_iteration).reshape(-1,1)\n",
    "                cv_scores.append(mean_squared_error(te_y, pre))\n",
    "        else:\n",
    "            raise IOError(\"Please add new clf.\")\n",
    "        print(\"%s now score is:\"%clf_name,cv_scores)\n",
    "    test[:]=test_pre.mean(axis=0)\n",
    "    print(\"%s_score_list:\"%clf_name,cv_scores)\n",
    "    print(\"%s_score_mean:\"%clf_name,np.mean(cv_scores))\n",
    "    return train.reshape(-1,1),test.reshape(-1,1)\n",
    "\n",
    "def rf_reg(x_train, y_train, x_valid, kf, label_split=None):\n",
    "    randomforest = RandomForestRegressor(n_estimators=600, max_depth=20, n_jobs=-1, random_state=2017, max_features=\"auto\",verbose=1)\n",
    "    rf_train, rf_test = stacking_reg(randomforest, x_train, y_train, x_valid, \"rf\", kf, label_split=label_split)\n",
    "    return rf_train, rf_test,\"rf_reg\"\n",
    "\n",
    "def ada_reg(x_train, y_train, x_valid, kf, label_split=None):\n",
    "    adaboost = AdaBoostRegressor(n_estimators=30, random_state=2017, learning_rate=0.01)\n",
    "    ada_train, ada_test = stacking_reg(adaboost, x_train, y_train, x_valid, \"ada\", kf, label_split=label_split)\n",
    "    return ada_train, ada_test,\"ada_reg\"\n",
    "\n",
    "def gb_reg(x_train, y_train, x_valid, kf, label_split=None):\n",
    "    gbdt = GradientBoostingRegressor(learning_rate=0.04, n_estimators=100, subsample=0.8, random_state=2017,max_depth=5,verbose=1)\n",
    "    gbdt_train, gbdt_test = stacking_reg(gbdt, x_train, y_train, x_valid, \"gb\", kf, label_split=label_split)\n",
    "    return gbdt_train, gbdt_test,\"gb_reg\"\n",
    "\n",
    "def et_reg(x_train, y_train, x_valid, kf, label_split=None):\n",
    "    extratree = ExtraTreesRegressor(n_estimators=600, max_depth=35, max_features=\"auto\", n_jobs=-1, random_state=2017,verbose=1)\n",
    "    et_train, et_test = stacking_reg(extratree, x_train, y_train, x_valid, \"et\", kf, label_split=label_split)\n",
    "    return et_train, et_test,\"et_reg\"\n",
    "\n",
    "def lr_reg(x_train, y_train, x_valid, kf, label_split=None):\n",
    "    lr_reg=LinearRegression(n_jobs=-1)\n",
    "    lr_train, lr_test = stacking_reg(lr_reg, x_train, y_train, x_valid, \"lr\", kf, label_split=label_split)\n",
    "    return lr_train, lr_test, \"lr_reg\"\n",
    "\n",
    "def xgb_reg(x_train, y_train, x_valid, kf, label_split=None):\n",
    "    xgb_train, xgb_test = stacking_reg(xgboost, x_train, y_train, x_valid, \"xgb\", kf, label_split=label_split)\n",
    "    return xgb_train, xgb_test,\"xgb_reg\"\n",
    "\n",
    "def lgb_reg(x_train, y_train, x_valid, kf, label_split=None):\n",
    "    lgb_train, lgb_test = stacking_reg(lightgbm, x_train, y_train, x_valid, \"lgb\", kf, label_split=label_split)\n",
    "    return lgb_train, lgb_test,\"lgb_reg\""
   ]
  },
  {
   "cell_type": "code",
   "execution_count": 65,
   "metadata": {},
   "outputs": [],
   "source": [
    "#stacking分类特征\n",
    "def stacking_clf(clf,train_x,train_y,test_x,clf_name,kf,label_split=None):\n",
    "    train=np.zeros((train_x.shape[0],1))\n",
    "    test=np.zeros((test_x.shape[0],1))\n",
    "    test_pre=np.empty((folds,test_x.shape[0],1))\n",
    "    cv_scores=[]\n",
    "    for i,(train_index,test_index) in enumerate(kf.split(train_x,label_split)):       \n",
    "        tr_x=train_x[train_index]\n",
    "        tr_y=train_y[train_index]\n",
    "        te_x=train_x[test_index]\n",
    "        te_y = train_y[test_index]\n",
    "\n",
    "        if clf_name in [\"rf\",\"ada\",\"gb\",\"et\",\"lr\",\"knn\",\"gnb\"]:\n",
    "            clf.fit(tr_x,tr_y)\n",
    "            pre=clf.predict_proba(te_x)\n",
    "            \n",
    "            train[test_index]=pre[:,0].reshape(-1,1)\n",
    "            test_pre[i,:]=clf.predict_proba(test_x)[:,0].reshape(-1,1)\n",
    "            \n",
    "            cv_scores.append(log_loss(te_y, pre[:,0].reshape(-1,1)))\n",
    "        elif clf_name in [\"xgb\"]:\n",
    "            train_matrix = clf.DMatrix(tr_x, label=tr_y, missing=-1)\n",
    "            test_matrix = clf.DMatrix(te_x, label=te_y, missing=-1)\n",
    "            z = clf.DMatrix(test_x)\n",
    "            params = {'booster': 'gbtree',\n",
    "                      'objective': 'multi:softprob',\n",
    "                      'eval_metric': 'mlogloss',\n",
    "                      'gamma': 1,\n",
    "                      'min_child_weight': 1.5,\n",
    "                      'max_depth': 5,\n",
    "                      'lambda': 10,\n",
    "                      'subsample': 0.7,\n",
    "                      'colsample_bytree': 0.7,\n",
    "                      'colsample_bylevel': 0.7,\n",
    "                      'eta': 0.03,\n",
    "                      'tree_method': 'exact',\n",
    "                      'seed': 2017,\n",
    "                      \"num_class\": 2\n",
    "                      }\n",
    "\n",
    "            num_round = 10000\n",
    "            early_stopping_rounds = 100\n",
    "            watchlist = [(train_matrix, 'train'),\n",
    "                         (test_matrix, 'eval')\n",
    "                         ]\n",
    "            if test_matrix:\n",
    "                model = clf.train(params, train_matrix, num_boost_round=num_round,evals=watchlist,\n",
    "                                  early_stopping_rounds=early_stopping_rounds\n",
    "                                  )\n",
    "                pre= model.predict(test_matrix,ntree_limit=model.best_ntree_limit)\n",
    "                train[test_index]=pre[:,0].reshape(-1,1)\n",
    "                test_pre[i, :]= model.predict(z, ntree_limit=model.best_ntree_limit)[:,0].reshape(-1,1)\n",
    "                cv_scores.append(log_loss(te_y, pre[:,0].reshape(-1,1)))\n",
    "        elif clf_name in [\"lgb\"]:\n",
    "            train_matrix = clf.Dataset(tr_x, label=tr_y)\n",
    "            test_matrix = clf.Dataset(te_x, label=te_y)\n",
    "            params = {\n",
    "                      'boosting_type': 'gbdt',\n",
    "                      #'boosting_type': 'dart',\n",
    "                      'objective': 'multiclass',\n",
    "                      'metric': 'multi_logloss',\n",
    "                      'min_child_weight': 1.5,\n",
    "                      'num_leaves': 2**5,\n",
    "                      'lambda_l2': 10,\n",
    "                      'subsample': 0.7,\n",
    "                      'colsample_bytree': 0.7,\n",
    "                      'colsample_bylevel': 0.7,\n",
    "                      'learning_rate': 0.03,\n",
    "                      'tree_method': 'exact',\n",
    "                      'seed': 2017,\n",
    "                      \"num_class\": 2,\n",
    "                      'silent': True,\n",
    "                      }\n",
    "            num_round = 10000\n",
    "            early_stopping_rounds = 100\n",
    "            if test_matrix:\n",
    "                model = clf.train(params, train_matrix,num_round,valid_sets=test_matrix,\n",
    "                                  early_stopping_rounds=early_stopping_rounds\n",
    "                                  )\n",
    "                pre= model.predict(te_x,num_iteration=model.best_iteration)\n",
    "                train[test_index]=pre[:,0].reshape(-1,1)\n",
    "                test_pre[i, :]= model.predict(test_x, num_iteration=model.best_iteration)[:,0].reshape(-1,1)\n",
    "                cv_scores.append(log_loss(te_y, pre[:,0].reshape(-1,1)))\n",
    "        else:\n",
    "            raise IOError(\"Please add new clf.\")\n",
    "        print(\"%s now score is:\"%clf_name,cv_scores)\n",
    "    test[:]=test_pre.mean(axis=0)\n",
    "    print(\"%s_score_list:\"%clf_name,cv_scores)\n",
    "    print(\"%s_score_mean:\"%clf_name,np.mean(cv_scores))\n",
    "    return train.reshape(-1,1),test.reshape(-1,1)\n",
    "\n",
    "def rf_clf(x_train, y_train, x_valid, kf, label_split=None):\n",
    "    randomforest = RandomForestClassifier(n_estimators=1200, max_depth=20, n_jobs=-1, random_state=2017, max_features=\"auto\",verbose=1)\n",
    "    rf_train, rf_test = stacking_clf(randomforest, x_train, y_train, x_valid, \"rf\", kf, label_split=label_split)\n",
    "    return rf_train, rf_test,\"rf\"\n",
    "\n",
    "def ada_clf(x_train, y_train, x_valid, kf, label_split=None):\n",
    "    adaboost = AdaBoostClassifier(n_estimators=50, random_state=2017, learning_rate=0.01)\n",
    "    ada_train, ada_test = stacking_clf(adaboost, x_train, y_train, x_valid, \"ada\", kf, label_split=label_split)\n",
    "    return ada_train, ada_test,\"ada\"\n",
    "\n",
    "def gb_clf(x_train, y_train, x_valid, kf, label_split=None):\n",
    "    gbdt = GradientBoostingClassifier(learning_rate=0.04, n_estimators=100, subsample=0.8, random_state=2017,max_depth=5,verbose=1)\n",
    "    gbdt_train, gbdt_test = stacking_clf(gbdt, x_train, y_train, x_valid, \"gb\", kf, label_split=label_split)\n",
    "    return gbdt_train, gbdt_test,\"gb\"\n",
    "\n",
    "def et_clf(x_train, y_train, x_valid, kf, label_split=None):\n",
    "    extratree = ExtraTreesClassifier(n_estimators=1200, max_depth=35, max_features=\"auto\", n_jobs=-1, random_state=2017,verbose=1)\n",
    "    et_train, et_test = stacking_clf(extratree, x_train, y_train, x_valid, \"et\", kf, label_split=label_split)\n",
    "    return et_train, et_test,\"et\"\n",
    "\n",
    "def xgb_clf(x_train, y_train, x_valid, kf, label_split=None):\n",
    "    xgb_train, xgb_test = stacking_clf(xgboost, x_train, y_train, x_valid, \"xgb\", kf, label_split=label_split)\n",
    "    return xgb_train, xgb_test,\"xgb\"\n",
    "\n",
    "def lgb_clf(x_train, y_train, x_valid, kf, label_split=None):\n",
    "    xgb_train, xgb_test = stacking_clf(lightgbm, x_train, y_train, x_valid, \"lgb\", kf, label_split=label_split)\n",
    "    return xgb_train, xgb_test,\"lgb\"\n",
    "\n",
    "def gnb_clf(x_train, y_train, x_valid, kf, label_split=None):\n",
    "    gnb=GaussianNB()\n",
    "    gnb_train, gnb_test = stacking_clf(gnb, x_train, y_train, x_valid, \"gnb\", kf, label_split=label_split)\n",
    "    return gnb_train, gnb_test,\"gnb\"\n",
    "\n",
    "def lr_clf(x_train, y_train, x_valid, kf, label_split=None):\n",
    "    logisticregression=LogisticRegression(n_jobs=-1,random_state=2017,C=0.1,max_iter=200)\n",
    "    lr_train, lr_test = stacking_clf(logisticregression, x_train, y_train, x_valid, \"lr\", kf, label_split=label_split)\n",
    "    return lr_train, lr_test, \"lr\"\n",
    "\n",
    "def knn_clf(x_train, y_train, x_valid, kf, label_split=None):\n",
    "    kneighbors=KNeighborsClassifier(n_neighbors=200,n_jobs=-1)\n",
    "    knn_train, knn_test = stacking_clf(kneighbors, x_train, y_train, x_valid, \"lr\", kf, label_split=label_split)\n",
    "    return knn_train, knn_test, \"knn\""
   ]
  },
  {
   "cell_type": "code",
   "execution_count": 66,
   "metadata": {},
   "outputs": [],
   "source": [
    "#获取训练和验证数据（为stacking特征做准备）\n",
    "features_columns = [c for c in all_data_test.columns if c not in ['label', 'prob', 'seller_path', 'cat_path', 'brand_path', 'action_type_path', 'item_path', 'time_stamp_path']]\n",
    "x_train = all_data_test[~all_data_test['label'].isna()][features_columns].values\n",
    "y_train = all_data_test[~all_data_test['label'].isna()]['label'].values\n",
    "x_valid = all_data_test[all_data_test['label'].isna()][features_columns].values"
   ]
  },
  {
   "cell_type": "code",
   "execution_count": 67,
   "metadata": {},
   "outputs": [],
   "source": [
    "#处理函数值inf以及nan情况\n",
    "def get_matrix(data):\n",
    "    where_are_nan = np.isnan(data)\n",
    "    where_are_inf = np.isinf(data)\n",
    "    data[where_are_nan] = 0\n",
    "    data[where_are_inf] = 0\n",
    "    return data"
   ]
  },
  {
   "cell_type": "code",
   "execution_count": 68,
   "metadata": {},
   "outputs": [],
   "source": [
    "x_train = np.float_(get_matrix(np.float_(x_train)))\n",
    "y_train = np.int_(y_train)\n",
    "x_valid = x_train"
   ]
  },
  {
   "cell_type": "code",
   "execution_count": 69,
   "metadata": {},
   "outputs": [],
   "source": [
    "#导入划分数据函数，设stacking特征为5折\n",
    "from sklearn.model_selection import StratifiedKFold, KFold\n",
    "folds = 5\n",
    "seed = 1\n",
    "kf = KFold(n_splits=5, shuffle=True, random_state=0)"
   ]
  },
  {
   "cell_type": "code",
   "execution_count": 70,
   "metadata": {},
   "outputs": [],
   "source": [
    "#使用lgb和xgb分类模型构造stacking特征\n",
    "clf_list = [lgb_clf, xgb_clf]\n",
    "clf_list_col = ['lgb_clf', 'xgb_clf']"
   ]
  },
  {
   "cell_type": "code",
   "execution_count": 71,
   "metadata": {
    "tags": [
     "outputPrepend"
    ]
   },
   "outputs": [
    {
     "output_type": "stream",
     "name": "stdout",
     "text": "\ttrain-mlogloss:0.17854\teval-mlogloss:0.21620\n[116]\ttrain-mlogloss:0.17764\teval-mlogloss:0.21615\n[117]\ttrain-mlogloss:0.17674\teval-mlogloss:0.21610\n[118]\ttrain-mlogloss:0.17595\teval-mlogloss:0.21606\n[119]\ttrain-mlogloss:0.17516\teval-mlogloss:0.21593\n[120]\ttrain-mlogloss:0.17435\teval-mlogloss:0.21605\n[121]\ttrain-mlogloss:0.17344\teval-mlogloss:0.21617\n[122]\ttrain-mlogloss:0.17268\teval-mlogloss:0.21614\n[123]\ttrain-mlogloss:0.17186\teval-mlogloss:0.21586\n[124]\ttrain-mlogloss:0.17108\teval-mlogloss:0.21590\n[125]\ttrain-mlogloss:0.17039\teval-mlogloss:0.21565\n[126]\ttrain-mlogloss:0.16965\teval-mlogloss:0.21572\n[127]\ttrain-mlogloss:0.16901\teval-mlogloss:0.21583\n[128]\ttrain-mlogloss:0.16824\teval-mlogloss:0.21565\n[129]\ttrain-mlogloss:0.16763\teval-mlogloss:0.21551\n[130]\ttrain-mlogloss:0.16688\teval-mlogloss:0.21570\n[131]\ttrain-mlogloss:0.16614\teval-mlogloss:0.21562\n[132]\ttrain-mlogloss:0.16558\teval-mlogloss:0.21576\n[133]\ttrain-mlogloss:0.16492\teval-mlogloss:0.21597\n[134]\ttrain-mlogloss:0.16417\teval-mlogloss:0.21604\n[135]\ttrain-mlogloss:0.16361\teval-mlogloss:0.21594\n[136]\ttrain-mlogloss:0.16293\teval-mlogloss:0.21599\n[137]\ttrain-mlogloss:0.16223\teval-mlogloss:0.21596\n[138]\ttrain-mlogloss:0.16150\teval-mlogloss:0.21594\n[139]\ttrain-mlogloss:0.16092\teval-mlogloss:0.21603\n[140]\ttrain-mlogloss:0.16030\teval-mlogloss:0.21598\n[141]\ttrain-mlogloss:0.15965\teval-mlogloss:0.21591\n[142]\ttrain-mlogloss:0.15893\teval-mlogloss:0.21584\n[143]\ttrain-mlogloss:0.15824\teval-mlogloss:0.21577\n[144]\ttrain-mlogloss:0.15778\teval-mlogloss:0.21593\n[145]\ttrain-mlogloss:0.15721\teval-mlogloss:0.21581\n[146]\ttrain-mlogloss:0.15665\teval-mlogloss:0.21585\n[147]\ttrain-mlogloss:0.15589\teval-mlogloss:0.21585\n[148]\ttrain-mlogloss:0.15524\teval-mlogloss:0.21592\n[149]\ttrain-mlogloss:0.15457\teval-mlogloss:0.21588\n[150]\ttrain-mlogloss:0.15403\teval-mlogloss:0.21563\n[151]\ttrain-mlogloss:0.15343\teval-mlogloss:0.21565\n[152]\ttrain-mlogloss:0.15288\teval-mlogloss:0.21579\n[153]\ttrain-mlogloss:0.15242\teval-mlogloss:0.21605\n[154]\ttrain-mlogloss:0.15182\teval-mlogloss:0.21610\n[155]\ttrain-mlogloss:0.15129\teval-mlogloss:0.21618\n[156]\ttrain-mlogloss:0.15060\teval-mlogloss:0.21622\n[157]\ttrain-mlogloss:0.15014\teval-mlogloss:0.21637\n[158]\ttrain-mlogloss:0.14969\teval-mlogloss:0.21657\n[159]\ttrain-mlogloss:0.14916\teval-mlogloss:0.21668\n[160]\ttrain-mlogloss:0.14863\teval-mlogloss:0.21673\n[161]\ttrain-mlogloss:0.14801\teval-mlogloss:0.21679\n[162]\ttrain-mlogloss:0.14748\teval-mlogloss:0.21667\n[163]\ttrain-mlogloss:0.14688\teval-mlogloss:0.21663\n[164]\ttrain-mlogloss:0.14637\teval-mlogloss:0.21709\n[165]\ttrain-mlogloss:0.14587\teval-mlogloss:0.21725\n[166]\ttrain-mlogloss:0.14526\teval-mlogloss:0.21724\n[167]\ttrain-mlogloss:0.14475\teval-mlogloss:0.21730\n[168]\ttrain-mlogloss:0.14427\teval-mlogloss:0.21750\n[169]\ttrain-mlogloss:0.14373\teval-mlogloss:0.21802\n[170]\ttrain-mlogloss:0.14334\teval-mlogloss:0.21810\n[171]\ttrain-mlogloss:0.14291\teval-mlogloss:0.21813\n[172]\ttrain-mlogloss:0.14239\teval-mlogloss:0.21820\n[173]\ttrain-mlogloss:0.14191\teval-mlogloss:0.21847\n[174]\ttrain-mlogloss:0.14138\teval-mlogloss:0.21866\n[175]\ttrain-mlogloss:0.14090\teval-mlogloss:0.21859\n[176]\ttrain-mlogloss:0.14044\teval-mlogloss:0.21877\n[177]\ttrain-mlogloss:0.14014\teval-mlogloss:0.21888\n[178]\ttrain-mlogloss:0.13957\teval-mlogloss:0.21898\n[179]\ttrain-mlogloss:0.13901\teval-mlogloss:0.21915\n[180]\ttrain-mlogloss:0.13862\teval-mlogloss:0.21920\n[181]\ttrain-mlogloss:0.13824\teval-mlogloss:0.21932\n[182]\ttrain-mlogloss:0.13785\teval-mlogloss:0.21947\n[183]\ttrain-mlogloss:0.13734\teval-mlogloss:0.21979\n[184]\ttrain-mlogloss:0.13694\teval-mlogloss:0.21982\n[185]\ttrain-mlogloss:0.13652\teval-mlogloss:0.22008\n[186]\ttrain-mlogloss:0.13601\teval-mlogloss:0.22016\n[187]\ttrain-mlogloss:0.13557\teval-mlogloss:0.22045\n[188]\ttrain-mlogloss:0.13526\teval-mlogloss:0.22044\n[189]\ttrain-mlogloss:0.13479\teval-mlogloss:0.22026\n[190]\ttrain-mlogloss:0.13437\teval-mlogloss:0.22029\n[191]\ttrain-mlogloss:0.13400\teval-mlogloss:0.22038\n[192]\ttrain-mlogloss:0.13359\teval-mlogloss:0.22046\n[193]\ttrain-mlogloss:0.13328\teval-mlogloss:0.22046\n[194]\ttrain-mlogloss:0.13294\teval-mlogloss:0.22042\n[195]\ttrain-mlogloss:0.13248\teval-mlogloss:0.22033\n[196]\ttrain-mlogloss:0.13214\teval-mlogloss:0.22047\n[197]\ttrain-mlogloss:0.13170\teval-mlogloss:0.22080\n[198]\ttrain-mlogloss:0.13134\teval-mlogloss:0.22094\n[199]\ttrain-mlogloss:0.13085\teval-mlogloss:0.22100\n[200]\ttrain-mlogloss:0.13036\teval-mlogloss:0.22101\n[201]\ttrain-mlogloss:0.13006\teval-mlogloss:0.22110\n[202]\ttrain-mlogloss:0.12978\teval-mlogloss:0.22113\n[203]\ttrain-mlogloss:0.12941\teval-mlogloss:0.22107\n[204]\ttrain-mlogloss:0.12901\teval-mlogloss:0.22146\n[205]\ttrain-mlogloss:0.12864\teval-mlogloss:0.22139\n[206]\ttrain-mlogloss:0.12829\teval-mlogloss:0.22144\n[207]\ttrain-mlogloss:0.12798\teval-mlogloss:0.22152\n[208]\ttrain-mlogloss:0.12761\teval-mlogloss:0.22158\n[209]\ttrain-mlogloss:0.12719\teval-mlogloss:0.22170\n[210]\ttrain-mlogloss:0.12682\teval-mlogloss:0.22176\n[211]\ttrain-mlogloss:0.12649\teval-mlogloss:0.22193\n[212]\ttrain-mlogloss:0.12619\teval-mlogloss:0.22207\n[213]\ttrain-mlogloss:0.12581\teval-mlogloss:0.22235\n[214]\ttrain-mlogloss:0.12542\teval-mlogloss:0.22241\n[215]\ttrain-mlogloss:0.12505\teval-mlogloss:0.22255\n[216]\ttrain-mlogloss:0.12470\teval-mlogloss:0.22254\n[217]\ttrain-mlogloss:0.12434\teval-mlogloss:0.22266\n[218]\ttrain-mlogloss:0.12409\teval-mlogloss:0.22282\n[219]\ttrain-mlogloss:0.12372\teval-mlogloss:0.22298\n[220]\ttrain-mlogloss:0.12337\teval-mlogloss:0.22303\n[221]\ttrain-mlogloss:0.12315\teval-mlogloss:0.22311\n[222]\ttrain-mlogloss:0.12284\teval-mlogloss:0.22317\n[223]\ttrain-mlogloss:0.12258\teval-mlogloss:0.22325\n[224]\ttrain-mlogloss:0.12223\teval-mlogloss:0.22318\n[225]\ttrain-mlogloss:0.12193\teval-mlogloss:0.22326\n[226]\ttrain-mlogloss:0.12171\teval-mlogloss:0.22307\n[227]\ttrain-mlogloss:0.12140\teval-mlogloss:0.22314\n[228]\ttrain-mlogloss:0.12110\teval-mlogloss:0.22330\n[229]\ttrain-mlogloss:0.12076\teval-mlogloss:0.22349\nStopping. Best iteration:\n[129]\ttrain-mlogloss:0.16763\teval-mlogloss:0.21551\n\nxgb now score is: [2.3999822765402494, 2.205212737210095, 2.529584884187207, 2.5654899197723715]\n[0]\ttrain-mlogloss:0.67102\teval-mlogloss:0.67073\nMultiple eval metrics have been passed: &#39;eval-mlogloss&#39; will be used for early stopping.\n\nWill train until eval-mlogloss hasn&#39;t improved in 100 rounds.\n[1]\ttrain-mlogloss:0.65034\teval-mlogloss:0.64983\n[2]\ttrain-mlogloss:0.63095\teval-mlogloss:0.63035\n[3]\ttrain-mlogloss:0.61232\teval-mlogloss:0.61190\n[4]\ttrain-mlogloss:0.59440\teval-mlogloss:0.59379\n[5]\ttrain-mlogloss:0.57773\teval-mlogloss:0.57709\n[6]\ttrain-mlogloss:0.56189\teval-mlogloss:0.56107\n[7]\ttrain-mlogloss:0.54661\teval-mlogloss:0.54573\n[8]\ttrain-mlogloss:0.53215\teval-mlogloss:0.53130\n[9]\ttrain-mlogloss:0.51863\teval-mlogloss:0.51764\n[10]\ttrain-mlogloss:0.50572\teval-mlogloss:0.50453\n[11]\ttrain-mlogloss:0.49349\teval-mlogloss:0.49230\n[12]\ttrain-mlogloss:0.48181\teval-mlogloss:0.48045\n[13]\ttrain-mlogloss:0.47062\teval-mlogloss:0.46933\n[14]\ttrain-mlogloss:0.45995\teval-mlogloss:0.45853\n[15]\ttrain-mlogloss:0.44982\teval-mlogloss:0.44834\n[16]\ttrain-mlogloss:0.44011\teval-mlogloss:0.43850\n[17]\ttrain-mlogloss:0.43072\teval-mlogloss:0.42926\n[18]\ttrain-mlogloss:0.42177\teval-mlogloss:0.42031\n[19]\ttrain-mlogloss:0.41322\teval-mlogloss:0.41178\n[20]\ttrain-mlogloss:0.40508\teval-mlogloss:0.40375\n[21]\ttrain-mlogloss:0.39716\teval-mlogloss:0.39585\n[22]\ttrain-mlogloss:0.38975\teval-mlogloss:0.38839\n[23]\ttrain-mlogloss:0.38259\teval-mlogloss:0.38118\n[24]\ttrain-mlogloss:0.37565\teval-mlogloss:0.37424\n[25]\ttrain-mlogloss:0.36907\teval-mlogloss:0.36765\n[26]\ttrain-mlogloss:0.36282\teval-mlogloss:0.36141\n[27]\ttrain-mlogloss:0.35668\teval-mlogloss:0.35525\n[28]\ttrain-mlogloss:0.35102\teval-mlogloss:0.34968\n[29]\ttrain-mlogloss:0.34542\teval-mlogloss:0.34407\n[30]\ttrain-mlogloss:0.34016\teval-mlogloss:0.33879\n[31]\ttrain-mlogloss:0.33498\teval-mlogloss:0.33366\n[32]\ttrain-mlogloss:0.33019\teval-mlogloss:0.32881\n[33]\ttrain-mlogloss:0.32526\teval-mlogloss:0.32388\n[34]\ttrain-mlogloss:0.32085\teval-mlogloss:0.31965\n[35]\ttrain-mlogloss:0.31659\teval-mlogloss:0.31568\n[36]\ttrain-mlogloss:0.31238\teval-mlogloss:0.31146\n[37]\ttrain-mlogloss:0.30837\teval-mlogloss:0.30747\n[38]\ttrain-mlogloss:0.30460\teval-mlogloss:0.30387\n[39]\ttrain-mlogloss:0.30094\teval-mlogloss:0.30022\n[40]\ttrain-mlogloss:0.29735\teval-mlogloss:0.29664\n[41]\ttrain-mlogloss:0.29392\teval-mlogloss:0.29329\n[42]\ttrain-mlogloss:0.29076\teval-mlogloss:0.29021\n[43]\ttrain-mlogloss:0.28755\teval-mlogloss:0.28715\n[44]\ttrain-mlogloss:0.28457\teval-mlogloss:0.28425\n[45]\ttrain-mlogloss:0.28156\teval-mlogloss:0.28136\n[46]\ttrain-mlogloss:0.27872\teval-mlogloss:0.27865\n[47]\ttrain-mlogloss:0.27589\teval-mlogloss:0.27591\n[48]\ttrain-mlogloss:0.27329\teval-mlogloss:0.27350\n[49]\ttrain-mlogloss:0.27074\teval-mlogloss:0.27137\n[50]\ttrain-mlogloss:0.26829\teval-mlogloss:0.26888\n[51]\ttrain-mlogloss:0.26589\teval-mlogloss:0.26659\n[52]\ttrain-mlogloss:0.26356\teval-mlogloss:0.26473\n[53]\ttrain-mlogloss:0.26143\teval-mlogloss:0.26277\n[54]\ttrain-mlogloss:0.25913\teval-mlogloss:0.26082\n[55]\ttrain-mlogloss:0.25698\teval-mlogloss:0.25910\n[56]\ttrain-mlogloss:0.25492\teval-mlogloss:0.25723\n[57]\ttrain-mlogloss:0.25296\teval-mlogloss:0.25535\n[58]\ttrain-mlogloss:0.25098\teval-mlogloss:0.25379\n[59]\ttrain-mlogloss:0.24915\teval-mlogloss:0.25223\n[60]\ttrain-mlogloss:0.24747\teval-mlogloss:0.25077\n[61]\ttrain-mlogloss:0.24557\teval-mlogloss:0.24954\n[62]\ttrain-mlogloss:0.24365\teval-mlogloss:0.24821\n[63]\ttrain-mlogloss:0.24200\teval-mlogloss:0.24680\n[64]\ttrain-mlogloss:0.24024\teval-mlogloss:0.24538\n[65]\ttrain-mlogloss:0.23889\teval-mlogloss:0.24424\n[66]\ttrain-mlogloss:0.23719\teval-mlogloss:0.24300\n[67]\ttrain-mlogloss:0.23555\teval-mlogloss:0.24180\n[68]\ttrain-mlogloss:0.23408\teval-mlogloss:0.24072\n[69]\ttrain-mlogloss:0.23252\teval-mlogloss:0.23979\n[70]\ttrain-mlogloss:0.23104\teval-mlogloss:0.23888\n[71]\ttrain-mlogloss:0.22957\teval-mlogloss:0.23777\n[72]\ttrain-mlogloss:0.22823\teval-mlogloss:0.23695\n[73]\ttrain-mlogloss:0.22690\teval-mlogloss:0.23608\n[74]\ttrain-mlogloss:0.22555\teval-mlogloss:0.23522\n[75]\ttrain-mlogloss:0.22407\teval-mlogloss:0.23431\n[76]\ttrain-mlogloss:0.22279\teval-mlogloss:0.23332\n[77]\ttrain-mlogloss:0.22151\teval-mlogloss:0.23273\n[78]\ttrain-mlogloss:0.22041\teval-mlogloss:0.23203\n[79]\ttrain-mlogloss:0.21907\teval-mlogloss:0.23144\n[80]\ttrain-mlogloss:0.21778\teval-mlogloss:0.23085\n[81]\ttrain-mlogloss:0.21649\teval-mlogloss:0.23003\n[82]\ttrain-mlogloss:0.21529\teval-mlogloss:0.22945\n[83]\ttrain-mlogloss:0.21406\teval-mlogloss:0.22875\n[84]\ttrain-mlogloss:0.21289\teval-mlogloss:0.22827\n[85]\ttrain-mlogloss:0.21185\teval-mlogloss:0.22781\n[86]\ttrain-mlogloss:0.21067\teval-mlogloss:0.22725\n[87]\ttrain-mlogloss:0.20954\teval-mlogloss:0.22684\n[88]\ttrain-mlogloss:0.20842\teval-mlogloss:0.22634\n[89]\ttrain-mlogloss:0.20728\teval-mlogloss:0.22554\n[90]\ttrain-mlogloss:0.20612\teval-mlogloss:0.22526\n[91]\ttrain-mlogloss:0.20493\teval-mlogloss:0.22488\n[92]\ttrain-mlogloss:0.20394\teval-mlogloss:0.22451\n[93]\ttrain-mlogloss:0.20290\teval-mlogloss:0.22423\n[94]\ttrain-mlogloss:0.20173\teval-mlogloss:0.22398\n[95]\ttrain-mlogloss:0.20058\teval-mlogloss:0.22367\n[96]\ttrain-mlogloss:0.19960\teval-mlogloss:0.22334\n[97]\ttrain-mlogloss:0.19863\teval-mlogloss:0.22303\n[98]\ttrain-mlogloss:0.19784\teval-mlogloss:0.22284\n[99]\ttrain-mlogloss:0.19689\teval-mlogloss:0.22222\n[100]\ttrain-mlogloss:0.19595\teval-mlogloss:0.22221\n[101]\ttrain-mlogloss:0.19502\teval-mlogloss:0.22226\n[102]\ttrain-mlogloss:0.19391\teval-mlogloss:0.22221\n[103]\ttrain-mlogloss:0.19302\teval-mlogloss:0.22183\n[104]\ttrain-mlogloss:0.19221\teval-mlogloss:0.22168\n[105]\ttrain-mlogloss:0.19121\teval-mlogloss:0.22160\n[106]\ttrain-mlogloss:0.19025\teval-mlogloss:0.22132\n[107]\ttrain-mlogloss:0.18923\teval-mlogloss:0.22115\n[108]\ttrain-mlogloss:0.18818\teval-mlogloss:0.22079\n[109]\ttrain-mlogloss:0.18738\teval-mlogloss:0.22066\n[110]\ttrain-mlogloss:0.18676\teval-mlogloss:0.22035\n[111]\ttrain-mlogloss:0.18576\teval-mlogloss:0.22031\n[112]\ttrain-mlogloss:0.18481\teval-mlogloss:0.22017\n[113]\ttrain-mlogloss:0.18393\teval-mlogloss:0.22021\n[114]\ttrain-mlogloss:0.18310\teval-mlogloss:0.21994\n[115]\ttrain-mlogloss:0.18222\teval-mlogloss:0.21958\n[116]\ttrain-mlogloss:0.18147\teval-mlogloss:0.21959\n[117]\ttrain-mlogloss:0.18063\teval-mlogloss:0.21935\n[118]\ttrain-mlogloss:0.18002\teval-mlogloss:0.21920\n[119]\ttrain-mlogloss:0.17912\teval-mlogloss:0.21924\n[120]\ttrain-mlogloss:0.17840\teval-mlogloss:0.21896\n[121]\ttrain-mlogloss:0.17773\teval-mlogloss:0.21891\n[122]\ttrain-mlogloss:0.17690\teval-mlogloss:0.21902\n[123]\ttrain-mlogloss:0.17603\teval-mlogloss:0.21882\n[124]\ttrain-mlogloss:0.17525\teval-mlogloss:0.21881\n[125]\ttrain-mlogloss:0.17450\teval-mlogloss:0.21864\n[126]\ttrain-mlogloss:0.17384\teval-mlogloss:0.21839\n[127]\ttrain-mlogloss:0.17316\teval-mlogloss:0.21827\n[128]\ttrain-mlogloss:0.17239\teval-mlogloss:0.21844\n[129]\ttrain-mlogloss:0.17179\teval-mlogloss:0.21841\n[130]\ttrain-mlogloss:0.17095\teval-mlogloss:0.21840\n[131]\ttrain-mlogloss:0.17015\teval-mlogloss:0.21829\n[132]\ttrain-mlogloss:0.16947\teval-mlogloss:0.21826\n[133]\ttrain-mlogloss:0.16875\teval-mlogloss:0.21795\n[134]\ttrain-mlogloss:0.16799\teval-mlogloss:0.21798\n[135]\ttrain-mlogloss:0.16729\teval-mlogloss:0.21781\n[136]\ttrain-mlogloss:0.16653\teval-mlogloss:0.21789\n[137]\ttrain-mlogloss:0.16588\teval-mlogloss:0.21783\n[138]\ttrain-mlogloss:0.16527\teval-mlogloss:0.21784\n[139]\ttrain-mlogloss:0.16461\teval-mlogloss:0.21770\n[140]\ttrain-mlogloss:0.16386\teval-mlogloss:0.21793\n[141]\ttrain-mlogloss:0.16317\teval-mlogloss:0.21782\n[142]\ttrain-mlogloss:0.16249\teval-mlogloss:0.21768\n[143]\ttrain-mlogloss:0.16174\teval-mlogloss:0.21782\n[144]\ttrain-mlogloss:0.16107\teval-mlogloss:0.21795\n[145]\ttrain-mlogloss:0.16061\teval-mlogloss:0.21790\n[146]\ttrain-mlogloss:0.16016\teval-mlogloss:0.21766\n[147]\ttrain-mlogloss:0.15962\teval-mlogloss:0.21765\n[148]\ttrain-mlogloss:0.15902\teval-mlogloss:0.21749\n[149]\ttrain-mlogloss:0.15841\teval-mlogloss:0.21760\n[150]\ttrain-mlogloss:0.15782\teval-mlogloss:0.21761\n[151]\ttrain-mlogloss:0.15723\teval-mlogloss:0.21758\n[152]\ttrain-mlogloss:0.15669\teval-mlogloss:0.21762\n[153]\ttrain-mlogloss:0.15598\teval-mlogloss:0.21737\n[154]\ttrain-mlogloss:0.15542\teval-mlogloss:0.21730\n[155]\ttrain-mlogloss:0.15499\teval-mlogloss:0.21721\n[156]\ttrain-mlogloss:0.15436\teval-mlogloss:0.21721\n[157]\ttrain-mlogloss:0.15378\teval-mlogloss:0.21716\n[158]\ttrain-mlogloss:0.15327\teval-mlogloss:0.21724\n[159]\ttrain-mlogloss:0.15273\teval-mlogloss:0.21720\n[160]\ttrain-mlogloss:0.15221\teval-mlogloss:0.21724\n[161]\ttrain-mlogloss:0.15158\teval-mlogloss:0.21711\n[162]\ttrain-mlogloss:0.15105\teval-mlogloss:0.21708\n[163]\ttrain-mlogloss:0.15056\teval-mlogloss:0.21713\n[164]\ttrain-mlogloss:0.14990\teval-mlogloss:0.21719\n[165]\ttrain-mlogloss:0.14944\teval-mlogloss:0.21706\n[166]\ttrain-mlogloss:0.14901\teval-mlogloss:0.21726\n[167]\ttrain-mlogloss:0.14841\teval-mlogloss:0.21721\n[168]\ttrain-mlogloss:0.14788\teval-mlogloss:0.21740\n[169]\ttrain-mlogloss:0.14745\teval-mlogloss:0.21728\n[170]\ttrain-mlogloss:0.14684\teval-mlogloss:0.21748\n[171]\ttrain-mlogloss:0.14634\teval-mlogloss:0.21772\n[172]\ttrain-mlogloss:0.14579\teval-mlogloss:0.21771\n[173]\ttrain-mlogloss:0.14528\teval-mlogloss:0.21769\n[174]\ttrain-mlogloss:0.14469\teval-mlogloss:0.21783\n[175]\ttrain-mlogloss:0.14429\teval-mlogloss:0.21793\n[176]\ttrain-mlogloss:0.14370\teval-mlogloss:0.21794\n[177]\ttrain-mlogloss:0.14311\teval-mlogloss:0.21807\n[178]\ttrain-mlogloss:0.14263\teval-mlogloss:0.21813\n[179]\ttrain-mlogloss:0.14215\teval-mlogloss:0.21823\n[180]\ttrain-mlogloss:0.14170\teval-mlogloss:0.21831\n[181]\ttrain-mlogloss:0.14127\teval-mlogloss:0.21819\n[182]\ttrain-mlogloss:0.14077\teval-mlogloss:0.21820\n[183]\ttrain-mlogloss:0.14037\teval-mlogloss:0.21838\n[184]\ttrain-mlogloss:0.13995\teval-mlogloss:0.21844\n[185]\ttrain-mlogloss:0.13942\teval-mlogloss:0.21844\n[186]\ttrain-mlogloss:0.13892\teval-mlogloss:0.21852\n[187]\ttrain-mlogloss:0.13852\teval-mlogloss:0.21867\n[188]\ttrain-mlogloss:0.13804\teval-mlogloss:0.21882\n[189]\ttrain-mlogloss:0.13780\teval-mlogloss:0.21876\n[190]\ttrain-mlogloss:0.13738\teval-mlogloss:0.21886\n[191]\ttrain-mlogloss:0.13705\teval-mlogloss:0.21885\n[192]\ttrain-mlogloss:0.13665\teval-mlogloss:0.21879\n[193]\ttrain-mlogloss:0.13620\teval-mlogloss:0.21884\n[194]\ttrain-mlogloss:0.13584\teval-mlogloss:0.21905\n[195]\ttrain-mlogloss:0.13546\teval-mlogloss:0.21936\n[196]\ttrain-mlogloss:0.13498\teval-mlogloss:0.21956\n[197]\ttrain-mlogloss:0.13465\teval-mlogloss:0.21960\n[198]\ttrain-mlogloss:0.13418\teval-mlogloss:0.21958\n[199]\ttrain-mlogloss:0.13368\teval-mlogloss:0.21986\n[200]\ttrain-mlogloss:0.13318\teval-mlogloss:0.21999\n[201]\ttrain-mlogloss:0.13279\teval-mlogloss:0.21996\n[202]\ttrain-mlogloss:0.13251\teval-mlogloss:0.22002\n[203]\ttrain-mlogloss:0.13225\teval-mlogloss:0.22006\n[204]\ttrain-mlogloss:0.13190\teval-mlogloss:0.21986\n[205]\ttrain-mlogloss:0.13163\teval-mlogloss:0.21980\n[206]\ttrain-mlogloss:0.13132\teval-mlogloss:0.21976\n[207]\ttrain-mlogloss:0.13088\teval-mlogloss:0.21981\n[208]\ttrain-mlogloss:0.13055\teval-mlogloss:0.21989\n[209]\ttrain-mlogloss:0.13029\teval-mlogloss:0.21990\n[210]\ttrain-mlogloss:0.12984\teval-mlogloss:0.22004\n[211]\ttrain-mlogloss:0.12956\teval-mlogloss:0.22016\n[212]\ttrain-mlogloss:0.12923\teval-mlogloss:0.22007\n[213]\ttrain-mlogloss:0.12888\teval-mlogloss:0.22042\n[214]\ttrain-mlogloss:0.12847\teval-mlogloss:0.22065\n[215]\ttrain-mlogloss:0.12821\teval-mlogloss:0.22089\n[216]\ttrain-mlogloss:0.12788\teval-mlogloss:0.22106\n[217]\ttrain-mlogloss:0.12762\teval-mlogloss:0.22096\n[218]\ttrain-mlogloss:0.12727\teval-mlogloss:0.22090\n[219]\ttrain-mlogloss:0.12689\teval-mlogloss:0.22091\n[220]\ttrain-mlogloss:0.12646\teval-mlogloss:0.22117\n[221]\ttrain-mlogloss:0.12615\teval-mlogloss:0.22127\n[222]\ttrain-mlogloss:0.12581\teval-mlogloss:0.22116\n[223]\ttrain-mlogloss:0.12554\teval-mlogloss:0.22121\n[224]\ttrain-mlogloss:0.12522\teval-mlogloss:0.22137\n[225]\ttrain-mlogloss:0.12495\teval-mlogloss:0.22138\n[226]\ttrain-mlogloss:0.12462\teval-mlogloss:0.22151\n[227]\ttrain-mlogloss:0.12437\teval-mlogloss:0.22159\n[228]\ttrain-mlogloss:0.12404\teval-mlogloss:0.22159\n[229]\ttrain-mlogloss:0.12356\teval-mlogloss:0.22165\n[230]\ttrain-mlogloss:0.12332\teval-mlogloss:0.22168\n[231]\ttrain-mlogloss:0.12299\teval-mlogloss:0.22148\n[232]\ttrain-mlogloss:0.12269\teval-mlogloss:0.22163\n[233]\ttrain-mlogloss:0.12240\teval-mlogloss:0.22193\n[234]\ttrain-mlogloss:0.12215\teval-mlogloss:0.22209\n[235]\ttrain-mlogloss:0.12180\teval-mlogloss:0.22206\n[236]\ttrain-mlogloss:0.12145\teval-mlogloss:0.22230\n[237]\ttrain-mlogloss:0.12113\teval-mlogloss:0.22235\n[238]\ttrain-mlogloss:0.12083\teval-mlogloss:0.22250\n[239]\ttrain-mlogloss:0.12055\teval-mlogloss:0.22259\n[240]\ttrain-mlogloss:0.12028\teval-mlogloss:0.22270\n[241]\ttrain-mlogloss:0.11993\teval-mlogloss:0.22269\n[242]\ttrain-mlogloss:0.11969\teval-mlogloss:0.22270\n[243]\ttrain-mlogloss:0.11947\teval-mlogloss:0.22274\n[244]\ttrain-mlogloss:0.11924\teval-mlogloss:0.22292\n[245]\ttrain-mlogloss:0.11901\teval-mlogloss:0.22293\n[246]\ttrain-mlogloss:0.11869\teval-mlogloss:0.22303\n[247]\ttrain-mlogloss:0.11837\teval-mlogloss:0.22304\n[248]\ttrain-mlogloss:0.11810\teval-mlogloss:0.22279\n[249]\ttrain-mlogloss:0.11784\teval-mlogloss:0.22278\n[250]\ttrain-mlogloss:0.11768\teval-mlogloss:0.22285\n[251]\ttrain-mlogloss:0.11748\teval-mlogloss:0.22299\n[252]\ttrain-mlogloss:0.11726\teval-mlogloss:0.22309\n[253]\ttrain-mlogloss:0.11704\teval-mlogloss:0.22324\n[254]\ttrain-mlogloss:0.11688\teval-mlogloss:0.22320\n[255]\ttrain-mlogloss:0.11648\teval-mlogloss:0.22336\n[256]\ttrain-mlogloss:0.11628\teval-mlogloss:0.22349\n[257]\ttrain-mlogloss:0.11601\teval-mlogloss:0.22333\n[258]\ttrain-mlogloss:0.11579\teval-mlogloss:0.22334\n[259]\ttrain-mlogloss:0.11554\teval-mlogloss:0.22336\n[260]\ttrain-mlogloss:0.11528\teval-mlogloss:0.22336\n[261]\ttrain-mlogloss:0.11509\teval-mlogloss:0.22333\n[262]\ttrain-mlogloss:0.11478\teval-mlogloss:0.22353\n[263]\ttrain-mlogloss:0.11458\teval-mlogloss:0.22363\n[264]\ttrain-mlogloss:0.11438\teval-mlogloss:0.22365\n[265]\ttrain-mlogloss:0.11410\teval-mlogloss:0.22372\nStopping. Best iteration:\n[165]\ttrain-mlogloss:0.14944\teval-mlogloss:0.21706\n\nxgb now score is: [2.3999822765402494, 2.205212737210095, 2.529584884187207, 2.5654899197723715, 2.7640688572777434]\nxgb_score_list: [2.3999822765402494, 2.205212737210095, 2.529584884187207, 2.5654899197723715, 2.7640688572777434]\nxgb_score_mean: 2.4928677349975334\n"
    }
   ],
   "source": [
    "#训练模型，获取stacking特征\n",
    "clf_list = clf_list\n",
    "column_list = []\n",
    "train_data_list=[]\n",
    "test_data_list=[]\n",
    "for clf in clf_list:\n",
    "    train_data,test_data,clf_name=clf(x_train, y_train, x_valid, kf, label_split=None)\n",
    "    train_data_list.append(train_data)\n",
    "    test_data_list.append(test_data)\n",
    "train_stacking = np.concatenate(train_data_list, axis=1)\n",
    "test_stacking = np.concatenate(test_data_list, axis=1)"
   ]
  },
  {
   "cell_type": "code",
   "execution_count": 72,
   "metadata": {},
   "outputs": [],
   "source": [
    "#原时特征和stacking特征合并\n",
    "train = pd.DataFrame(np.concatenate([x_train, train_stacking], axis=1))\n",
    "test = np.concatenate([x_valid, test_stacking], axis=1)"
   ]
  },
  {
   "cell_type": "code",
   "execution_count": 73,
   "metadata": {},
   "outputs": [],
   "source": [
    "#特征重命名\n",
    "df_train_all = pd.DataFrame(train)\n",
    "df_train_all.columns = features_columns + clf_list_col\n",
    "df_test_all = pd.DataFrame(test)\n",
    "df_test_all.columns = features_columns + clf_list_col"
   ]
  },
  {
   "cell_type": "code",
   "execution_count": 74,
   "metadata": {},
   "outputs": [
    {
     "output_type": "execute_result",
     "data": {
      "text/plain": "[&#39;user_id&#39;,\n &#39;merchant_id&#39;,\n &#39;age_range&#39;,\n &#39;gender&#39;,\n &#39;user_cnt&#39;,\n &#39;seller_nunique&#39;,\n &#39;cat_nunique&#39;,\n &#39;brand_nunique&#39;,\n &#39;item_nunique&#39;,\n &#39;time_stamp_nunique&#39;,\n &#39;action_type_nunique&#39;,\n &#39;time_stamp_max&#39;,\n &#39;time_stamp_min&#39;,\n &#39;time_stamp_std&#39;,\n &#39;time_stamp_range&#39;,\n &#39;seller_most_1&#39;,\n &#39;cat_most_1&#39;,\n &#39;brand_most_1&#39;,\n &#39;action_type_1&#39;,\n &#39;seller_most_1_cnt&#39;,\n &#39;cat_most_1_cnt&#39;,\n &#39;brand_most_1_cnt&#39;,\n &#39;action_type_1_cnt&#39;,\n &#39;user_cnt_0&#39;,\n &#39;user_cnt_1&#39;,\n &#39;user_cnt_2&#39;,\n &#39;user_cnt_3&#39;,\n &#39;seller_nunique_0&#39;,\n &#39;tfidf_0&#39;,\n &#39;tfidf_1&#39;,\n &#39;tfidf_2&#39;,\n &#39;tfidf_3&#39;,\n &#39;tfidf_4&#39;,\n &#39;tfidf_5&#39;,\n &#39;tfidf_6&#39;,\n &#39;tfidf_7&#39;,\n &#39;tfidf_8&#39;,\n &#39;tfidf_9&#39;,\n &#39;tfidf_10&#39;,\n &#39;tfidf_11&#39;,\n &#39;tfidf_12&#39;,\n &#39;tfidf_13&#39;,\n &#39;tfidf_14&#39;,\n &#39;tfidf_15&#39;,\n &#39;tfidf_16&#39;,\n &#39;tfidf_17&#39;,\n &#39;tfidf_18&#39;,\n &#39;tfidf_19&#39;,\n &#39;tfidf_20&#39;,\n &#39;tfidf_21&#39;,\n &#39;tfidf_22&#39;,\n &#39;tfidf_23&#39;,\n &#39;tfidf_24&#39;,\n &#39;tfidf_25&#39;,\n &#39;tfidf_26&#39;,\n &#39;tfidf_27&#39;,\n &#39;tfidf_28&#39;,\n &#39;tfidf_29&#39;,\n &#39;tfidf_30&#39;,\n &#39;tfidf_31&#39;,\n &#39;tfidf_32&#39;,\n &#39;tfidf_33&#39;,\n &#39;tfidf_34&#39;,\n &#39;tfidf_35&#39;,\n &#39;tfidf_36&#39;,\n &#39;tfidf_37&#39;,\n &#39;tfidf_38&#39;,\n &#39;tfidf_39&#39;,\n &#39;tfidf_40&#39;,\n &#39;tfidf_41&#39;,\n &#39;tfidf_42&#39;,\n &#39;tfidf_43&#39;,\n &#39;tfidf_44&#39;,\n &#39;tfidf_45&#39;,\n &#39;tfidf_46&#39;,\n &#39;tfidf_47&#39;,\n &#39;tfidf_48&#39;,\n &#39;tfidf_49&#39;,\n &#39;tfidf_50&#39;,\n &#39;tfidf_51&#39;,\n &#39;tfidf_52&#39;,\n &#39;tfidf_53&#39;,\n &#39;tfidf_54&#39;,\n &#39;tfidf_55&#39;,\n &#39;tfidf_56&#39;,\n &#39;tfidf_57&#39;,\n &#39;tfidf_58&#39;,\n &#39;tfidf_59&#39;,\n &#39;tfidf_60&#39;,\n &#39;tfidf_61&#39;,\n &#39;tfidf_62&#39;,\n &#39;tfidf_63&#39;,\n &#39;tfidf_64&#39;,\n &#39;tfidf_65&#39;,\n &#39;tfidf_66&#39;,\n &#39;tfidf_67&#39;,\n &#39;tfidf_68&#39;,\n &#39;tfidf_69&#39;,\n &#39;tfidf_70&#39;,\n &#39;tfidf_71&#39;,\n &#39;tfidf_72&#39;,\n &#39;tfidf_73&#39;,\n &#39;tfidf_74&#39;,\n &#39;tfidf_75&#39;,\n &#39;tfidf_76&#39;,\n &#39;tfidf_77&#39;,\n &#39;tfidf_78&#39;,\n &#39;tfidf_79&#39;,\n &#39;tfidf_80&#39;,\n &#39;tfidf_81&#39;,\n &#39;tfidf_82&#39;,\n &#39;tfidf_83&#39;,\n &#39;tfidf_84&#39;,\n &#39;tfidf_85&#39;,\n &#39;tfidf_86&#39;,\n &#39;tfidf_87&#39;,\n &#39;tfidf_88&#39;,\n &#39;tfidf_89&#39;,\n &#39;tfidf_90&#39;,\n &#39;tfidf_91&#39;,\n &#39;tfidf_92&#39;,\n &#39;tfidf_93&#39;,\n &#39;tfidf_94&#39;,\n &#39;tfidf_95&#39;,\n &#39;tfidf_96&#39;,\n &#39;tfidf_97&#39;,\n &#39;tfidf_98&#39;,\n &#39;tfidf_99&#39;,\n &#39;embeeding_0&#39;,\n &#39;embeeding_1&#39;,\n &#39;embeeding_2&#39;,\n &#39;embeeding_3&#39;,\n &#39;embeeding_4&#39;,\n &#39;embeeding_5&#39;,\n &#39;embeeding_6&#39;,\n &#39;embeeding_7&#39;,\n &#39;embeeding_8&#39;,\n &#39;embeeding_9&#39;,\n &#39;embeeding_10&#39;,\n &#39;embeeding_11&#39;,\n &#39;embeeding_12&#39;,\n &#39;embeeding_13&#39;,\n &#39;embeeding_14&#39;,\n &#39;embeeding_15&#39;,\n &#39;embeeding_16&#39;,\n &#39;embeeding_17&#39;,\n &#39;embeeding_18&#39;,\n &#39;embeeding_19&#39;,\n &#39;embeeding_20&#39;,\n &#39;embeeding_21&#39;,\n &#39;embeeding_22&#39;,\n &#39;embeeding_23&#39;,\n &#39;embeeding_24&#39;,\n &#39;embeeding_25&#39;,\n &#39;embeeding_26&#39;,\n &#39;embeeding_27&#39;,\n &#39;embeeding_28&#39;,\n &#39;embeeding_29&#39;,\n &#39;embeeding_30&#39;,\n &#39;embeeding_31&#39;,\n &#39;embeeding_32&#39;,\n &#39;embeeding_33&#39;,\n &#39;embeeding_34&#39;,\n &#39;embeeding_35&#39;,\n &#39;embeeding_36&#39;,\n &#39;embeeding_37&#39;,\n &#39;embeeding_38&#39;,\n &#39;embeeding_39&#39;,\n &#39;embeeding_40&#39;,\n &#39;embeeding_41&#39;,\n &#39;embeeding_42&#39;,\n &#39;embeeding_43&#39;,\n &#39;embeeding_44&#39;,\n &#39;embeeding_45&#39;,\n &#39;embeeding_46&#39;,\n &#39;embeeding_47&#39;,\n &#39;embeeding_48&#39;,\n &#39;embeeding_49&#39;,\n &#39;embeeding_50&#39;,\n &#39;embeeding_51&#39;,\n &#39;embeeding_52&#39;,\n &#39;embeeding_53&#39;,\n &#39;embeeding_54&#39;,\n &#39;embeeding_55&#39;,\n &#39;embeeding_56&#39;,\n &#39;embeeding_57&#39;,\n &#39;embeeding_58&#39;,\n &#39;embeeding_59&#39;,\n &#39;embeeding_60&#39;,\n &#39;embeeding_61&#39;,\n &#39;embeeding_62&#39;,\n &#39;embeeding_63&#39;,\n &#39;embeeding_64&#39;,\n &#39;embeeding_65&#39;,\n &#39;embeeding_66&#39;,\n &#39;embeeding_67&#39;,\n &#39;embeeding_68&#39;,\n &#39;embeeding_69&#39;,\n &#39;embeeding_70&#39;,\n &#39;embeeding_71&#39;,\n &#39;embeeding_72&#39;,\n &#39;embeeding_73&#39;,\n &#39;embeeding_74&#39;,\n &#39;embeeding_75&#39;,\n &#39;embeeding_76&#39;,\n &#39;embeeding_77&#39;,\n &#39;embeeding_78&#39;,\n &#39;embeeding_79&#39;,\n &#39;embeeding_80&#39;,\n &#39;embeeding_81&#39;,\n &#39;embeeding_82&#39;,\n &#39;embeeding_83&#39;,\n &#39;embeeding_84&#39;,\n &#39;embeeding_85&#39;,\n &#39;embeeding_86&#39;,\n &#39;embeeding_87&#39;,\n &#39;embeeding_88&#39;,\n &#39;embeeding_89&#39;,\n &#39;embeeding_90&#39;,\n &#39;embeeding_91&#39;,\n &#39;embeeding_92&#39;,\n &#39;embeeding_93&#39;,\n &#39;embeeding_94&#39;,\n &#39;embeeding_95&#39;,\n &#39;embeeding_96&#39;,\n &#39;embeeding_97&#39;,\n &#39;embeeding_98&#39;,\n &#39;embeeding_99&#39;,\n &#39;lgb_clf&#39;,\n &#39;xgb_clf&#39;]"
     },
     "metadata": {},
     "execution_count": 74
    }
   ],
   "source": [
    "list(df_test_all.columns)"
   ]
  },
  {
   "cell_type": "code",
   "execution_count": 75,
   "metadata": {},
   "outputs": [],
   "source": [
    "#获取数据ID以及特征标签label\n",
    "df_train_all['label'] = all_data_test['label']"
   ]
  },
  {
   "cell_type": "code",
   "execution_count": null,
   "metadata": {},
   "outputs": [],
   "source": []
  }
 ],
 "metadata": {
  "kernelspec": {
   "display_name": "Python 3.8.3 64-bit ('base': conda)",
   "language": "python",
   "name": "python38364bitbasecondad9bd0a7157c84fa7bace955ad09d0846"
  },
  "language_info": {
   "codemirror_mode": {
    "name": "ipython",
    "version": 3
   },
   "file_extension": ".py",
   "mimetype": "text/x-python",
   "name": "python",
   "nbconvert_exporter": "python",
   "pygments_lexer": "ipython3",
   "version": "3.8.3-final"
  }
 },
 "nbformat": 4,
 "nbformat_minor": 2
}