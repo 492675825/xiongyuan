{
 "metadata": {
  "language_info": {
   "codemirror_mode": {
    "name": "ipython",
    "version": 3
   },
   "file_extension": ".py",
   "mimetype": "text/x-python",
   "name": "python",
   "nbconvert_exporter": "python",
   "pygments_lexer": "ipython3",
   "version": "3.8.3-final"
  },
  "orig_nbformat": 2,
  "kernelspec": {
   "name": "python38364bitbasecondad9bd0a7157c84fa7bace955ad09d0846",
   "display_name": "Python 3.8.3 64-bit ('base': conda)"
  }
 },
 "nbformat": 4,
 "nbformat_minor": 2,
 "cells": [
  {
   "cell_type": "code",
   "execution_count": 1,
   "metadata": {},
   "outputs": [],
   "source": [
    "import numpy as np \n",
    "import pandas as pd \n",
    "import time "
   ]
  },
  {
   "cell_type": "code",
   "execution_count": 2,
   "metadata": {},
   "outputs": [],
   "source": [
    "#生成随机数\n",
    "np.random.seed(2)"
   ]
  },
  {
   "cell_type": "code",
   "execution_count": 3,
   "metadata": {},
   "outputs": [],
   "source": [
    "#设置全局变量，固定的属性\n",
    "N_STATES=6 #起点到终点的距离\n",
    "ACTIONS=['left','rigth'] #机器允许的动作，左右\n",
    "EPSILON=0.9 #greedy police一个参数\n",
    "ALPHA=0.1   #学习效率\n",
    "LAMBDA=0.9    #未来奖励的衰减值\n",
    "MAX_EPISODES=13 #最大的训练回合\n",
    "FRESH_TIME=0.3  #每走一步所花费的时间"
   ]
  },
  {
   "cell_type": "code",
   "execution_count": 11,
   "metadata": {},
   "outputs": [],
   "source": [
    "#初始化建立Q-table\n",
    "def build_q_table(n_states,actions):\n",
    "    #创建一张起点到终点距离的长度一样的表格，列为机器允许的动作\n",
    "    table=pd.DataFrame(np.zeros((n_states,len(actions))),columns=actions)\n",
    "    return table"
   ]
  },
  {
   "cell_type": "code",
   "execution_count": 12,
   "metadata": {},
   "outputs": [
    {
     "output_type": "execute_result",
     "data": {
      "text/plain": [
       "   left  rigth\n",
       "0   0.0    0.0\n",
       "1   0.0    0.0\n",
       "2   0.0    0.0\n",
       "3   0.0    0.0\n",
       "4   0.0    0.0\n",
       "5   0.0    0.0"
      ],
      "text/html": "<div>\n<style scoped>\n    .dataframe tbody tr th:only-of-type {\n        vertical-align: middle;\n    }\n\n    .dataframe tbody tr th {\n        vertical-align: top;\n    }\n\n    .dataframe thead th {\n        text-align: right;\n    }\n</style>\n<table border=\"1\" class=\"dataframe\">\n  <thead>\n    <tr style=\"text-align: right;\">\n      <th></th>\n      <th>left</th>\n      <th>rigth</th>\n    </tr>\n  </thead>\n  <tbody>\n    <tr>\n      <th>0</th>\n      <td>0.0</td>\n      <td>0.0</td>\n    </tr>\n    <tr>\n      <th>1</th>\n      <td>0.0</td>\n      <td>0.0</td>\n    </tr>\n    <tr>\n      <th>2</th>\n      <td>0.0</td>\n      <td>0.0</td>\n    </tr>\n    <tr>\n      <th>3</th>\n      <td>0.0</td>\n      <td>0.0</td>\n    </tr>\n    <tr>\n      <th>4</th>\n      <td>0.0</td>\n      <td>0.0</td>\n    </tr>\n    <tr>\n      <th>5</th>\n      <td>0.0</td>\n      <td>0.0</td>\n    </tr>\n  </tbody>\n</table>\n</div>"
     },
     "metadata": {},
     "execution_count": 12
    }
   ],
   "source": [
    "build_q_table(N_STATES,ACTIONS)"
   ]
  },
  {
   "cell_type": "code",
   "execution_count": 13,
   "metadata": {},
   "outputs": [],
   "source": [
    "#初始化机器的动作功能\n",
    "#根据当前的状态和q_table的值来选择下一步的动作\n",
    "def choose_action(state,q_table):\n",
    "    #选取q_table的第几行\n",
    "    state_actions=q_table.iloc[state,:]\n",
    "    #当生成的随机数的值大于0.9时候，或者q_table一整行全为0的时候随机选取left或者right\n",
    "    if (np.random.uniform()>EPSILON) or (state_actions.all()==0):\n",
    "        action_name=np.random.choice(ACTIONS)\n",
    "    else:\n",
    "        #当不满足上述条件的时候，将q_table的较大的那个数字选择出来\n",
    "        action_name=state_actions.argmax()\n",
    "    return action_name"
   ]
  },
  {
   "cell_type": "code",
   "execution_count": 14,
   "metadata": {},
   "outputs": [],
   "source": [
    "#初始化反馈\n",
    "def get_env_feedback(S,A):\n",
    "    if A=='right':\n",
    "        if S_==N_STATES-2:\n",
    "            S='terminal'\n",
    "            R=1\n",
    "        else:\n",
    "            S_=S+1\n",
    "            R=0\n",
    "    else:\n",
    "        R=0\n",
    "        if S==0:\n",
    "            S_=S\n",
    "        else:\n",
    "            S_=S-1\n",
    "    return S_,R"
   ]
  },
  {
   "cell_type": "code",
   "execution_count": 21,
   "metadata": {},
   "outputs": [],
   "source": [
    "#初始化环境\n",
    "def update_env(S,episode,step_counter):\n",
    "    env_list=['-']*(N_STATES-1)+['T']\n",
    "    if S=='terminal':\n",
    "        interaction='Episode %s: total_steps=%s'%(episode+1,step_counter)\n",
    "        print('\\r{}'.format(interaction),end=\"\")\n",
    "        tiem.sleep(2)\n",
    "        print('\\r              ',end=\"\")\n",
    "    else:\n",
    "        env_list[S]='o'\n",
    "        interaction=''.join(env_list)\n",
    "        print('\\r{}'.format(interaction),end=\"\")\n",
    "        time.sleep(FRESH_TIME)"
   ]
  },
  {
   "cell_type": "code",
   "execution_count": 26,
   "metadata": {},
   "outputs": [],
   "source": [
    "#创建主循环\n",
    "def rl():\n",
    "    q_table=build_q_table(N_STATES,ACTIONS)\n",
    "    for episode in range(MAX_EPISODES):\n",
    "        step_counter=0\n",
    "        S=0\n",
    "        is_terminated=False\n",
    "        update_env(S,episode,step_counter)\n",
    "        while not is_terminated:\n",
    "            A=choose_action(S,q_table)\n",
    "            S_,R=get_env_feedback(S,A)\n",
    "            q_predict=q_table.loc[S,A]\n",
    "            if S_!='terminal':\n",
    "                q_target=R+LAMBDA*q_table.iloc[S_,:].max()\n",
    "            else:\n",
    "                q_target=R\n",
    "                is_terminated=True\n",
    "            q_table.loc[S,A]=q_table.loc[S,A]+ALPHA*(q_target-q_predict)\n",
    "            S=S_\n",
    "            update_env(S,episode,step_counter+1)\n",
    "            step_counter=step_counter+1\n",
    "    return q_table"
   ]
  },
  {
   "cell_type": "code",
   "execution_count": 27,
   "metadata": {},
   "outputs": [
    {
     "output_type": "stream",
     "name": "stdout",
     "text": [
      "o----T"
     ]
    }
   ],
   "source": [
    "q_table=rl()"
   ]
  },
  {
   "cell_type": "code",
   "execution_count": null,
   "metadata": {},
   "outputs": [],
   "source": []
  }
 ]
}