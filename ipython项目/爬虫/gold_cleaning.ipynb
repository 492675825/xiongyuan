{
 "cells": [
  {
   "cell_type": "code",
   "execution_count": 1,
   "metadata": {},
   "outputs": [],
   "source": [
    "import pandas as pd\n",
    "import numpy as np"
   ]
  },
  {
   "cell_type": "code",
   "execution_count": 29,
   "metadata": {},
   "outputs": [],
   "source": [
    "pd.set_option('display.max_columns',100)\n",
    "pd.set_option('expand_frame_repr',False)\n",
    "pd.set_option('display.float_format',lambda x:'%.2f' % x)"
   ]
  },
  {
   "cell_type": "code",
   "execution_count": 3,
   "metadata": {},
   "outputs": [],
   "source": [
    "df = pd.read_excel(r'C:\\Users\\xiongyuan\\Desktop\\gold.xlsx')"
   ]
  },
  {
   "cell_type": "code",
   "execution_count": 4,
   "metadata": {},
   "outputs": [],
   "source": [
    "data = df.copy()"
   ]
  },
  {
   "cell_type": "code",
   "execution_count": 20,
   "metadata": {},
   "outputs": [
    {
     "data": {
      "text/html": [
       "<div>\n",
       "<style scoped>\n",
       "    .dataframe tbody tr th:only-of-type {\n",
       "        vertical-align: middle;\n",
       "    }\n",
       "\n",
       "    .dataframe tbody tr th {\n",
       "        vertical-align: top;\n",
       "    }\n",
       "\n",
       "    .dataframe thead th {\n",
       "        text-align: right;\n",
       "    }\n",
       "</style>\n",
       "<table border=\"1\" class=\"dataframe\">\n",
       "  <thead>\n",
       "    <tr style=\"text-align: right;\">\n",
       "      <th></th>\n",
       "      <th>Unnamed: 0</th>\n",
       "      <th>version_date</th>\n",
       "      <th>name_list</th>\n",
       "      <th>open_value_list</th>\n",
       "      <th>max_list</th>\n",
       "      <th>min_list</th>\n",
       "      <th>close_list</th>\n",
       "      <th>difference_list</th>\n",
       "      <th>difference_rate_list</th>\n",
       "      <th>avg_value_list</th>\n",
       "      <th>deal_list</th>\n",
       "      <th>deal_value_list</th>\n",
       "    </tr>\n",
       "  </thead>\n",
       "  <tbody>\n",
       "    <tr>\n",
       "      <th>0</th>\n",
       "      <td>0</td>\n",
       "      <td>上海黄金交易所2021年2月25日交易行情</td>\n",
       "      <td>Au(T+D)</td>\n",
       "      <td>377.10</td>\n",
       "      <td>377.10</td>\n",
       "      <td>372.00</td>\n",
       "      <td>372.80</td>\n",
       "      <td>-4.46</td>\n",
       "      <td>-1.18%</td>\n",
       "      <td>374.13</td>\n",
       "      <td>39,614.00</td>\n",
       "      <td>14,821,052,500.00</td>\n",
       "    </tr>\n",
       "    <tr>\n",
       "      <th>1</th>\n",
       "      <td>1</td>\n",
       "      <td>上海黄金交易所2021年2月24日交易行情</td>\n",
       "      <td>Au(T+D)</td>\n",
       "      <td>377.60</td>\n",
       "      <td>378.50</td>\n",
       "      <td>375.00</td>\n",
       "      <td>377.19</td>\n",
       "      <td>-0.34</td>\n",
       "      <td>-0.09%</td>\n",
       "      <td>377.26</td>\n",
       "      <td>30,962.00</td>\n",
       "      <td>11,680,726,600.00</td>\n",
       "    </tr>\n",
       "    <tr>\n",
       "      <th>2</th>\n",
       "      <td>2</td>\n",
       "      <td>上海黄金交易所2021年2月23日交易行情</td>\n",
       "      <td>Au(T+D)</td>\n",
       "      <td>374.92</td>\n",
       "      <td>379.08</td>\n",
       "      <td>374.51</td>\n",
       "      <td>377.44</td>\n",
       "      <td>4.56</td>\n",
       "      <td>1.22%</td>\n",
       "      <td>377.53</td>\n",
       "      <td>37,478.00</td>\n",
       "      <td>14,149,077,800.00</td>\n",
       "    </tr>\n",
       "    <tr>\n",
       "      <th>3</th>\n",
       "      <td>3</td>\n",
       "      <td>上海黄金交易所2021年2月22日交易行情</td>\n",
       "      <td>Au(T+D)</td>\n",
       "      <td>369.34</td>\n",
       "      <td>375.00</td>\n",
       "      <td>369.21</td>\n",
       "      <td>374.46</td>\n",
       "      <td>4.33</td>\n",
       "      <td>1.17%</td>\n",
       "      <td>372.88</td>\n",
       "      <td>46,176.00</td>\n",
       "      <td>17,218,485,400.00</td>\n",
       "    </tr>\n",
       "    <tr>\n",
       "      <th>4</th>\n",
       "      <td>4</td>\n",
       "      <td>上海黄金交易所2021年2月19日交易行情</td>\n",
       "      <td>Au(T+D)</td>\n",
       "      <td>371.92</td>\n",
       "      <td>373.60</td>\n",
       "      <td>368.20</td>\n",
       "      <td>370.04</td>\n",
       "      <td>-1.00</td>\n",
       "      <td>-0.27%</td>\n",
       "      <td>370.13</td>\n",
       "      <td>41,256.00</td>\n",
       "      <td>15,270,420,540.00</td>\n",
       "    </tr>\n",
       "  </tbody>\n",
       "</table>\n",
       "</div>"
      ],
      "text/plain": [
       "   Unnamed: 0           version_date name_list  open_value_list  max_list  min_list  close_list  difference_list difference_rate_list  avg_value_list  deal_list    deal_value_list\n",
       "0           0  上海黄金交易所2021年2月25日交易行情   Au(T+D)           377.10    377.10    372.00      372.80            -4.46               -1.18%          374.13  39,614.00  14,821,052,500.00\n",
       "1           1  上海黄金交易所2021年2月24日交易行情   Au(T+D)           377.60    378.50    375.00      377.19            -0.34               -0.09%          377.26  30,962.00  11,680,726,600.00\n",
       "2           2  上海黄金交易所2021年2月23日交易行情   Au(T+D)           374.92    379.08    374.51      377.44             4.56                1.22%          377.53  37,478.00  14,149,077,800.00\n",
       "3           3  上海黄金交易所2021年2月22日交易行情   Au(T+D)           369.34    375.00    369.21      374.46             4.33                1.17%          372.88  46,176.00  17,218,485,400.00\n",
       "4           4  上海黄金交易所2021年2月19日交易行情   Au(T+D)           371.92    373.60    368.20      370.04            -1.00               -0.27%          370.13  41,256.00  15,270,420,540.00"
      ]
     },
     "execution_count": 20,
     "metadata": {},
     "output_type": "execute_result"
    }
   ],
   "source": [
    "data.head()"
   ]
  },
  {
   "cell_type": "code",
   "execution_count": 30,
   "metadata": {},
   "outputs": [
    {
     "data": {
      "text/html": [
       "<div>\n",
       "<style scoped>\n",
       "    .dataframe tbody tr th:only-of-type {\n",
       "        vertical-align: middle;\n",
       "    }\n",
       "\n",
       "    .dataframe tbody tr th {\n",
       "        vertical-align: top;\n",
       "    }\n",
       "\n",
       "    .dataframe thead th {\n",
       "        text-align: right;\n",
       "    }\n",
       "</style>\n",
       "<table border=\"1\" class=\"dataframe\">\n",
       "  <thead>\n",
       "    <tr style=\"text-align: right;\">\n",
       "      <th></th>\n",
       "      <th>version_date</th>\n",
       "      <th>name_list</th>\n",
       "      <th>open_value_list</th>\n",
       "      <th>max_list</th>\n",
       "      <th>min_list</th>\n",
       "      <th>close_list</th>\n",
       "      <th>difference_list</th>\n",
       "      <th>difference_rate_list</th>\n",
       "      <th>avg_value_list</th>\n",
       "      <th>deal_list</th>\n",
       "      <th>deal_value_list</th>\n",
       "    </tr>\n",
       "  </thead>\n",
       "  <tbody>\n",
       "    <tr>\n",
       "      <th>0</th>\n",
       "      <td>2021-02-25</td>\n",
       "      <td>Au(T+D)</td>\n",
       "      <td>377.10</td>\n",
       "      <td>377.10</td>\n",
       "      <td>372.00</td>\n",
       "      <td>372.80</td>\n",
       "      <td>-4.46</td>\n",
       "      <td>-0.01</td>\n",
       "      <td>374.13</td>\n",
       "      <td>39614.00</td>\n",
       "      <td>14821052500.00</td>\n",
       "    </tr>\n",
       "    <tr>\n",
       "      <th>1</th>\n",
       "      <td>2021-02-24</td>\n",
       "      <td>Au(T+D)</td>\n",
       "      <td>377.60</td>\n",
       "      <td>378.50</td>\n",
       "      <td>375.00</td>\n",
       "      <td>377.19</td>\n",
       "      <td>-0.34</td>\n",
       "      <td>-0.00</td>\n",
       "      <td>377.26</td>\n",
       "      <td>30962.00</td>\n",
       "      <td>11680726600.00</td>\n",
       "    </tr>\n",
       "    <tr>\n",
       "      <th>2</th>\n",
       "      <td>2021-02-23</td>\n",
       "      <td>Au(T+D)</td>\n",
       "      <td>374.92</td>\n",
       "      <td>379.08</td>\n",
       "      <td>374.51</td>\n",
       "      <td>377.44</td>\n",
       "      <td>4.56</td>\n",
       "      <td>0.01</td>\n",
       "      <td>377.53</td>\n",
       "      <td>37478.00</td>\n",
       "      <td>14149077800.00</td>\n",
       "    </tr>\n",
       "    <tr>\n",
       "      <th>3</th>\n",
       "      <td>2021-02-22</td>\n",
       "      <td>Au(T+D)</td>\n",
       "      <td>369.34</td>\n",
       "      <td>375.00</td>\n",
       "      <td>369.21</td>\n",
       "      <td>374.46</td>\n",
       "      <td>4.33</td>\n",
       "      <td>0.01</td>\n",
       "      <td>372.88</td>\n",
       "      <td>46176.00</td>\n",
       "      <td>17218485400.00</td>\n",
       "    </tr>\n",
       "    <tr>\n",
       "      <th>4</th>\n",
       "      <td>2021-02-19</td>\n",
       "      <td>Au(T+D)</td>\n",
       "      <td>371.92</td>\n",
       "      <td>373.60</td>\n",
       "      <td>368.20</td>\n",
       "      <td>370.04</td>\n",
       "      <td>-1.00</td>\n",
       "      <td>-0.00</td>\n",
       "      <td>370.13</td>\n",
       "      <td>41256.00</td>\n",
       "      <td>15270420540.00</td>\n",
       "    </tr>\n",
       "  </tbody>\n",
       "</table>\n",
       "</div>"
      ],
      "text/plain": [
       "  version_date name_list  open_value_list  max_list  min_list  close_list  difference_list  difference_rate_list  avg_value_list  deal_list  deal_value_list\n",
       "0   2021-02-25   Au(T+D)           377.10    377.10    372.00      372.80            -4.46                 -0.01          374.13   39614.00   14821052500.00\n",
       "1   2021-02-24   Au(T+D)           377.60    378.50    375.00      377.19            -0.34                 -0.00          377.26   30962.00   11680726600.00\n",
       "2   2021-02-23   Au(T+D)           374.92    379.08    374.51      377.44             4.56                  0.01          377.53   37478.00   14149077800.00\n",
       "3   2021-02-22   Au(T+D)           369.34    375.00    369.21      374.46             4.33                  0.01          372.88   46176.00   17218485400.00\n",
       "4   2021-02-19   Au(T+D)           371.92    373.60    368.20      370.04            -1.00                 -0.00          370.13   41256.00   15270420540.00"
      ]
     },
     "execution_count": 30,
     "metadata": {},
     "output_type": "execute_result"
    }
   ],
   "source": [
    "df.head()"
   ]
  },
  {
   "cell_type": "code",
   "execution_count": 6,
   "metadata": {},
   "outputs": [],
   "source": [
    "#数据清洗\n",
    "df = df.drop('Unnamed: 0',axis=1)"
   ]
  },
  {
   "cell_type": "code",
   "execution_count": 7,
   "metadata": {},
   "outputs": [],
   "source": [
    "df['version_date'] = df['version_date'].str.replace('上海黄金交易所','')"
   ]
  },
  {
   "cell_type": "code",
   "execution_count": 8,
   "metadata": {},
   "outputs": [],
   "source": [
    "df['version_date'] = df['version_date'].str.replace('交易行情','')"
   ]
  },
  {
   "cell_type": "code",
   "execution_count": 9,
   "metadata": {},
   "outputs": [],
   "source": [
    "df['version_date'] = df['version_date'].str.replace('年','-')"
   ]
  },
  {
   "cell_type": "code",
   "execution_count": 10,
   "metadata": {},
   "outputs": [],
   "source": [
    "df['version_date'] = df['version_date'].str.replace('月','-')"
   ]
  },
  {
   "cell_type": "code",
   "execution_count": 11,
   "metadata": {},
   "outputs": [],
   "source": [
    "df['version_date'] = df['version_date'].str.replace('日','')"
   ]
  },
  {
   "cell_type": "code",
   "execution_count": 12,
   "metadata": {},
   "outputs": [],
   "source": [
    "df['deal_list'] = df['deal_list'].str.replace(',','')"
   ]
  },
  {
   "cell_type": "code",
   "execution_count": 13,
   "metadata": {},
   "outputs": [],
   "source": [
    "df['deal_value_list'] = df['deal_value_list'].str.replace(',','')"
   ]
  },
  {
   "cell_type": "code",
   "execution_count": 25,
   "metadata": {},
   "outputs": [
    {
     "name": "stdout",
     "output_type": "stream",
     "text": [
      "<class 'pandas.core.frame.DataFrame'>\n",
      "RangeIndex: 3160 entries, 0 to 3159\n",
      "Data columns (total 11 columns):\n",
      " #   Column                Non-Null Count  Dtype         \n",
      "---  ------                --------------  -----         \n",
      " 0   version_date          3160 non-null   datetime64[ns]\n",
      " 1   name_list             3160 non-null   object        \n",
      " 2   open_value_list       3160 non-null   float64       \n",
      " 3   max_list              3160 non-null   float64       \n",
      " 4   min_list              3160 non-null   float64       \n",
      " 5   close_list            3160 non-null   float64       \n",
      " 6   difference_list       3160 non-null   float64       \n",
      " 7   difference_rate_list  3160 non-null   float64       \n",
      " 8   avg_value_list        3160 non-null   float64       \n",
      " 9   deal_list             3160 non-null   float64       \n",
      " 10  deal_value_list       3160 non-null   float64       \n",
      "dtypes: datetime64[ns](1), float64(9), object(1)\n",
      "memory usage: 271.7+ KB\n"
     ]
    }
   ],
   "source": [
    "df.info()"
   ]
  },
  {
   "cell_type": "code",
   "execution_count": 15,
   "metadata": {},
   "outputs": [],
   "source": [
    "df['version_date'] = pd.to_datetime(df['version_date'])"
   ]
  },
  {
   "cell_type": "code",
   "execution_count": 16,
   "metadata": {},
   "outputs": [],
   "source": [
    "df['difference_rate_list'] = df['difference_rate_list'].str.replace('%','')"
   ]
  },
  {
   "cell_type": "code",
   "execution_count": 17,
   "metadata": {},
   "outputs": [],
   "source": [
    "df = df.astype({'difference_rate_list':float})"
   ]
  },
  {
   "cell_type": "code",
   "execution_count": 18,
   "metadata": {},
   "outputs": [],
   "source": [
    "df['difference_rate_list'] = df['difference_rate_list']*0.01"
   ]
  },
  {
   "cell_type": "code",
   "execution_count": 24,
   "metadata": {},
   "outputs": [],
   "source": [
    "df = df.astype({'deal_list':float,'deal_value_list':float})"
   ]
  },
  {
   "cell_type": "code",
   "execution_count": 32,
   "metadata": {},
   "outputs": [],
   "source": [
    "df.to_excel(r'C:\\Users\\xiongyuan\\Desktop\\gold_clean.xlsx')"
   ]
  },
  {
   "cell_type": "code",
   "execution_count": null,
   "metadata": {},
   "outputs": [],
   "source": []
  }
 ],
 "metadata": {
  "kernelspec": {
   "display_name": "Python 3.8.3 64-bit ('base': conda)",
   "language": "python",
   "name": "python38364bitbasecondad9bd0a7157c84fa7bace955ad09d0846"
  },
  "language_info": {
   "codemirror_mode": {
    "name": "ipython",
    "version": 3
   },
   "file_extension": ".py",
   "mimetype": "text/x-python",
   "name": "python",
   "nbconvert_exporter": "python",
   "pygments_lexer": "ipython3",
   "version": "3.8.3"
  }
 },
 "nbformat": 4,
 "nbformat_minor": 4
}
